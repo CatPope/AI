{
 "cells": [
  {
   "cell_type": "code",
   "execution_count": null,
   "id": "initial_id",
   "metadata": {
    "collapsed": true
   },
   "outputs": [],
   "source": [
    "from transformers import AutoTokenizer, AutoModelForCausalLM, TextGenerationPipeline\n",
    "import torch\n",
    "\n",
    "# 사용할 모델 이름\n",
    "model_name = \"kakaocorp/kanana-1.5-2.1b-instruct-2505\"  # 또는 \"kakaocorp/kanana-1.5-8b-instruct-2505\"\n",
    "\n",
    "# 모델과 토크나이저 로딩\n",
    "tokenizer = AutoTokenizer.from_pretrained(model_name)\n",
    "model = AutoModelForCausalLM.from_pretrained(\n",
    "    model_name,\n",
    "    torch_dtype=torch.float16,\n",
    "    device_map=\"auto\",  # GPU 자동 할당\n",
    "    trust_remote_code=True  # 권한이 필요한 경우\n",
    ")\n",
    "\n",
    "# 파이프라인 구성\n",
    "pipe = TextGenerationPipeline(model=model, tokenizer=tokenizer)\n",
    "\n",
    "# 프롬프트 입력\n",
    "prompt = \"다음 문장을 영어로 번역해줘: 오늘 날씨는 참 좋다.\"\n",
    "\n",
    "# 모델에 입력 후 결과 생성\n",
    "outputs = pipe(\n",
    "    prompt,\n",
    "    max_new_tokens=100,\n",
    "    do_sample=False,     # deterministic (True면 sampling)\n",
    "    temperature=0.7,\n",
    "    top_p=0.95\n",
    ")\n",
    "\n",
    "# 출력 보기\n",
    "print(\"출력 결과:\")\n",
    "print(outputs[0][\"generated_text\"])\n"
   ]
  }
 ],
 "metadata": {
  "kernelspec": {
   "display_name": "Python 3",
   "language": "python",
   "name": "python3"
  },
  "language_info": {
   "codemirror_mode": {
    "name": "ipython",
    "version": 2
   },
   "file_extension": ".py",
   "mimetype": "text/x-python",
   "name": "python",
   "nbconvert_exporter": "python",
   "pygments_lexer": "ipython2",
   "version": "2.7.6"
  }
 },
 "nbformat": 4,
 "nbformat_minor": 5
}
