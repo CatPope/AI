{
 "cells": [
  {
   "metadata": {
    "ExecuteTime": {
     "end_time": "2025-02-21T06:31:55.864700Z",
     "start_time": "2025-02-21T06:31:55.790423Z"
    }
   },
   "cell_type": "code",
   "outputs": [
    {
     "ename": "ModuleNotFoundError",
     "evalue": "No module named 'pydantic'",
     "output_type": "error",
     "traceback": [
      "\u001B[1;31m---------------------------------------------------------------------------\u001B[0m",
      "\u001B[1;31mModuleNotFoundError\u001B[0m                       Traceback (most recent call last)",
      "Cell \u001B[1;32mIn[24], line 1\u001B[0m\n\u001B[1;32m----> 1\u001B[0m \u001B[38;5;28;01mfrom\u001B[39;00m\u001B[38;5;250m \u001B[39m\u001B[38;5;21;01mlangchain\u001B[39;00m\u001B[38;5;21;01m.\u001B[39;00m\u001B[38;5;21;01mdocument_loaders\u001B[39;00m\u001B[38;5;21;01m.\u001B[39;00m\u001B[38;5;21;01mparsers\u001B[39;00m\u001B[38;5;250m \u001B[39m\u001B[38;5;28;01mimport\u001B[39;00m language\n\u001B[0;32m      2\u001B[0m get_ipython()\u001B[38;5;241m.\u001B[39msystem(\u001B[38;5;124m'\u001B[39m\u001B[38;5;124mpip install python-dotenv\u001B[39m\u001B[38;5;124m'\u001B[39m)\n\u001B[0;32m      3\u001B[0m get_ipython()\u001B[38;5;241m.\u001B[39msystem(\u001B[38;5;124m'\u001B[39m\u001B[38;5;124mpip install -U openai langchain langchain-openai\u001B[39m\u001B[38;5;124m'\u001B[39m)\n",
      "File \u001B[1;32m~\\AppData\\Roaming\\Python\\Python312\\site-packages\\langchain\\document_loaders\\__init__.py:192\u001B[0m\n\u001B[0;32m     22\u001B[0m \u001B[38;5;28;01mif\u001B[39;00m TYPE_CHECKING:\n\u001B[0;32m     23\u001B[0m     \u001B[38;5;28;01mfrom\u001B[39;00m\u001B[38;5;250m \u001B[39m\u001B[38;5;21;01mlangchain_community\u001B[39;00m\u001B[38;5;21;01m.\u001B[39;00m\u001B[38;5;21;01mdocument_loaders\u001B[39;00m\u001B[38;5;250m \u001B[39m\u001B[38;5;28;01mimport\u001B[39;00m (\n\u001B[0;32m     24\u001B[0m         AcreomLoader,\n\u001B[0;32m     25\u001B[0m         AirbyteCDKLoader,\n\u001B[1;32m   (...)\u001B[0m\n\u001B[0;32m    189\u001B[0m         YuqueLoader,\n\u001B[0;32m    190\u001B[0m     )\n\u001B[1;32m--> 192\u001B[0m \u001B[38;5;28;01mfrom\u001B[39;00m\u001B[38;5;250m \u001B[39m\u001B[38;5;21;01mlangchain_core\u001B[39;00m\u001B[38;5;21;01m.\u001B[39;00m\u001B[38;5;21;01mdocument_loaders\u001B[39;00m\u001B[38;5;250m \u001B[39m\u001B[38;5;28;01mimport\u001B[39;00m Blob, BlobLoader\n\u001B[0;32m    194\u001B[0m \u001B[38;5;66;03m# For backwards compatibility\u001B[39;00m\n\u001B[0;32m    195\u001B[0m _old_to_new_name \u001B[38;5;241m=\u001B[39m {\n\u001B[0;32m    196\u001B[0m     \u001B[38;5;124m\"\u001B[39m\u001B[38;5;124mPagedPDFSplitter\u001B[39m\u001B[38;5;124m\"\u001B[39m: \u001B[38;5;124m\"\u001B[39m\u001B[38;5;124mPyPDFLoader\u001B[39m\u001B[38;5;124m\"\u001B[39m,\n\u001B[0;32m    197\u001B[0m     \u001B[38;5;124m\"\u001B[39m\u001B[38;5;124mTelegramChatLoader\u001B[39m\u001B[38;5;124m\"\u001B[39m: \u001B[38;5;124m\"\u001B[39m\u001B[38;5;124mTelegramChatFileLoader\u001B[39m\u001B[38;5;124m\"\u001B[39m,\n\u001B[0;32m    198\u001B[0m }\n",
      "File \u001B[1;32m~\\AppData\\Roaming\\Python\\Python312\\site-packages\\langchain_core\\document_loaders\\__init__.py:1\u001B[0m\n\u001B[1;32m----> 1\u001B[0m \u001B[38;5;28;01mfrom\u001B[39;00m\u001B[38;5;250m \u001B[39m\u001B[38;5;21;01mlangchain_core\u001B[39;00m\u001B[38;5;21;01m.\u001B[39;00m\u001B[38;5;21;01mdocument_loaders\u001B[39;00m\u001B[38;5;21;01m.\u001B[39;00m\u001B[38;5;21;01mbase\u001B[39;00m\u001B[38;5;250m \u001B[39m\u001B[38;5;28;01mimport\u001B[39;00m BaseBlobParser, BaseLoader\n\u001B[0;32m      2\u001B[0m \u001B[38;5;28;01mfrom\u001B[39;00m\u001B[38;5;250m \u001B[39m\u001B[38;5;21;01mlangchain_core\u001B[39;00m\u001B[38;5;21;01m.\u001B[39;00m\u001B[38;5;21;01mdocument_loaders\u001B[39;00m\u001B[38;5;21;01m.\u001B[39;00m\u001B[38;5;21;01mblob_loaders\u001B[39;00m\u001B[38;5;250m \u001B[39m\u001B[38;5;28;01mimport\u001B[39;00m Blob, BlobLoader, PathLike\n\u001B[0;32m      3\u001B[0m \u001B[38;5;28;01mfrom\u001B[39;00m\u001B[38;5;250m \u001B[39m\u001B[38;5;21;01mlangchain_core\u001B[39;00m\u001B[38;5;21;01m.\u001B[39;00m\u001B[38;5;21;01mdocument_loaders\u001B[39;00m\u001B[38;5;21;01m.\u001B[39;00m\u001B[38;5;21;01mlangsmith\u001B[39;00m\u001B[38;5;250m \u001B[39m\u001B[38;5;28;01mimport\u001B[39;00m LangSmithLoader\n",
      "File \u001B[1;32m~\\AppData\\Roaming\\Python\\Python312\\site-packages\\langchain_core\\document_loaders\\base.py:9\u001B[0m\n\u001B[0;32m      6\u001B[0m \u001B[38;5;28;01mfrom\u001B[39;00m\u001B[38;5;250m \u001B[39m\u001B[38;5;21;01mcollections\u001B[39;00m\u001B[38;5;21;01m.\u001B[39;00m\u001B[38;5;21;01mabc\u001B[39;00m\u001B[38;5;250m \u001B[39m\u001B[38;5;28;01mimport\u001B[39;00m AsyncIterator, Iterator\n\u001B[0;32m      7\u001B[0m \u001B[38;5;28;01mfrom\u001B[39;00m\u001B[38;5;250m \u001B[39m\u001B[38;5;21;01mtyping\u001B[39;00m\u001B[38;5;250m \u001B[39m\u001B[38;5;28;01mimport\u001B[39;00m TYPE_CHECKING, Optional\n\u001B[1;32m----> 9\u001B[0m \u001B[38;5;28;01mfrom\u001B[39;00m\u001B[38;5;250m \u001B[39m\u001B[38;5;21;01mlangchain_core\u001B[39;00m\u001B[38;5;21;01m.\u001B[39;00m\u001B[38;5;21;01mdocuments\u001B[39;00m\u001B[38;5;250m \u001B[39m\u001B[38;5;28;01mimport\u001B[39;00m Document\n\u001B[0;32m     10\u001B[0m \u001B[38;5;28;01mfrom\u001B[39;00m\u001B[38;5;250m \u001B[39m\u001B[38;5;21;01mlangchain_core\u001B[39;00m\u001B[38;5;21;01m.\u001B[39;00m\u001B[38;5;21;01mrunnables\u001B[39;00m\u001B[38;5;250m \u001B[39m\u001B[38;5;28;01mimport\u001B[39;00m run_in_executor\n\u001B[0;32m     12\u001B[0m \u001B[38;5;28;01mif\u001B[39;00m TYPE_CHECKING:\n",
      "File \u001B[1;32m~\\AppData\\Roaming\\Python\\Python312\\site-packages\\langchain_core\\documents\\__init__.py:6\u001B[0m\n\u001B[0;32m      1\u001B[0m \u001B[38;5;124;03m\"\"\"**Document** module is a collection of classes that handle documents\u001B[39;00m\n\u001B[0;32m      2\u001B[0m \u001B[38;5;124;03mand their transformations.\u001B[39;00m\n\u001B[0;32m      3\u001B[0m \n\u001B[0;32m      4\u001B[0m \u001B[38;5;124;03m\"\"\"\u001B[39;00m\n\u001B[1;32m----> 6\u001B[0m \u001B[38;5;28;01mfrom\u001B[39;00m\u001B[38;5;250m \u001B[39m\u001B[38;5;21;01mlangchain_core\u001B[39;00m\u001B[38;5;21;01m.\u001B[39;00m\u001B[38;5;21;01mdocuments\u001B[39;00m\u001B[38;5;21;01m.\u001B[39;00m\u001B[38;5;21;01mbase\u001B[39;00m\u001B[38;5;250m \u001B[39m\u001B[38;5;28;01mimport\u001B[39;00m Document\n\u001B[0;32m      7\u001B[0m \u001B[38;5;28;01mfrom\u001B[39;00m\u001B[38;5;250m \u001B[39m\u001B[38;5;21;01mlangchain_core\u001B[39;00m\u001B[38;5;21;01m.\u001B[39;00m\u001B[38;5;21;01mdocuments\u001B[39;00m\u001B[38;5;21;01m.\u001B[39;00m\u001B[38;5;21;01mcompressor\u001B[39;00m\u001B[38;5;250m \u001B[39m\u001B[38;5;28;01mimport\u001B[39;00m BaseDocumentCompressor\n\u001B[0;32m      8\u001B[0m \u001B[38;5;28;01mfrom\u001B[39;00m\u001B[38;5;250m \u001B[39m\u001B[38;5;21;01mlangchain_core\u001B[39;00m\u001B[38;5;21;01m.\u001B[39;00m\u001B[38;5;21;01mdocuments\u001B[39;00m\u001B[38;5;21;01m.\u001B[39;00m\u001B[38;5;21;01mtransformers\u001B[39;00m\u001B[38;5;250m \u001B[39m\u001B[38;5;28;01mimport\u001B[39;00m BaseDocumentTransformer\n",
      "File \u001B[1;32m~\\AppData\\Roaming\\Python\\Python312\\site-packages\\langchain_core\\documents\\base.py:10\u001B[0m\n\u001B[0;32m      7\u001B[0m \u001B[38;5;28;01mfrom\u001B[39;00m\u001B[38;5;250m \u001B[39m\u001B[38;5;21;01mpathlib\u001B[39;00m\u001B[38;5;250m \u001B[39m\u001B[38;5;28;01mimport\u001B[39;00m PurePath\n\u001B[0;32m      8\u001B[0m \u001B[38;5;28;01mfrom\u001B[39;00m\u001B[38;5;250m \u001B[39m\u001B[38;5;21;01mtyping\u001B[39;00m\u001B[38;5;250m \u001B[39m\u001B[38;5;28;01mimport\u001B[39;00m Any, Literal, Optional, Union, cast\n\u001B[1;32m---> 10\u001B[0m \u001B[38;5;28;01mfrom\u001B[39;00m\u001B[38;5;250m \u001B[39m\u001B[38;5;21;01mpydantic\u001B[39;00m\u001B[38;5;250m \u001B[39m\u001B[38;5;28;01mimport\u001B[39;00m ConfigDict, Field, field_validator, model_validator\n\u001B[0;32m     12\u001B[0m \u001B[38;5;28;01mfrom\u001B[39;00m\u001B[38;5;250m \u001B[39m\u001B[38;5;21;01mlangchain_core\u001B[39;00m\u001B[38;5;21;01m.\u001B[39;00m\u001B[38;5;21;01mload\u001B[39;00m\u001B[38;5;21;01m.\u001B[39;00m\u001B[38;5;21;01mserializable\u001B[39;00m\u001B[38;5;250m \u001B[39m\u001B[38;5;28;01mimport\u001B[39;00m Serializable\n\u001B[0;32m     14\u001B[0m PathLike \u001B[38;5;241m=\u001B[39m Union[\u001B[38;5;28mstr\u001B[39m, PurePath]\n",
      "\u001B[1;31mModuleNotFoundError\u001B[0m: No module named 'pydantic'"
     ]
    }
   ],
   "execution_count": 24,
   "source": [
    "# from nltk.corpus.reader import documents\n",
    "# from langchain.chains.question_answering.map_reduce_prompt import messages\n",
    "# !pip install python-dotenv\n",
    "# !pip install -U openai langchain langchain-openai\n",
    "!pip install -U langchain-ollama\n",
    "!pip install langchain_community\n",
    "!pip install pypdf\n",
    "!pip install faiss-cpu\n",
    "!pip install chromadb\n",
    "!pip install langchain-teddynote"
   ],
   "id": "e03967c1dd61f647"
  },
  {
   "metadata": {
    "ExecuteTime": {
     "end_time": "2025-02-28T01:03:41.802065Z",
     "start_time": "2025-02-28T01:03:41.797985Z"
    }
   },
   "cell_type": "code",
   "source": [
    "from dotenv import load_dotenv\n",
    "import os\n",
    "from langchain_teddynote import logging\n",
    "# import openai\n",
    "from langchain_community.document_loaders import PyPDFLoader\n",
    "from langchain.text_splitter import CharacterTextSplitter\n",
    "from langchain_ollama import ChatOllama\n",
    "from langchain_ollama import OllamaEmbeddings\n",
    "# from langchain.embeddings import HuggingFaceEmbeddings\n",
    "from langchain.indexes.vectorstore import VectorStoreIndexWrapper\n",
    "from langchain.indexes.vectorstore import VectorstoreIndexCreator\n",
    "from langchain.vectorstores import Chroma\n",
    "import time"
   ],
   "id": "b2223d2220cf52aa",
   "outputs": [],
   "execution_count": 2
  },
  {
   "metadata": {
    "ExecuteTime": {
     "end_time": "2025-02-28T01:03:44.293038Z",
     "start_time": "2025-02-28T01:03:44.288052Z"
    }
   },
   "cell_type": "code",
   "source": [
    "load_dotenv()\n",
    "logging.langsmith(\"mammothLangchain\", set_enable=True)"
   ],
   "id": "67289ac66dbe01f4",
   "outputs": [
    {
     "name": "stdout",
     "output_type": "stream",
     "text": [
      "LangSmith 추적을 시작합니다.\n",
      "[프로젝트명]\n",
      "mammothLangchain\n"
     ]
    }
   ],
   "execution_count": 3
  },
  {
   "metadata": {
    "ExecuteTime": {
     "end_time": "2025-02-28T01:11:36.134149Z",
     "start_time": "2025-02-28T01:11:36.129215Z"
    }
   },
   "cell_type": "code",
   "source": [
    "def pdf_loader(file_path):\n",
    "    loader = PyPDFLoader(file_path)\n",
    "    return loader"
   ],
   "id": "4f9a39cc72baf55b",
   "outputs": [],
   "execution_count": 21
  },
  {
   "metadata": {
    "ExecuteTime": {
     "end_time": "2025-02-28T01:12:18.017191Z",
     "start_time": "2025-02-28T01:12:18.013188Z"
    }
   },
   "cell_type": "code",
   "source": [
    "# 벡터 스토어를 새로 만들 경우, 저장하기 까지 시간이 걸려서 메모리에 저장\n",
    "def create_vectorstore(file_id, file_texts, embeddings, vectorstore_path):\n",
    "\n",
    "    index = VectorstoreIndexCreator(\n",
    "        vectorstore_cls=Chroma,\n",
    "        embedding=embeddings,\n",
    "        vectorstore_kwargs={\n",
    "            \"persist_directory\":vectorstore_path,\n",
    "            # \"collection_name\":get_collection_name(file_name),\n",
    "        }\n",
    "        ).from_loaders([file_texts])\n",
    "\n",
    "    return index"
   ],
   "id": "83d0624b678cc5d1",
   "outputs": [],
   "execution_count": 23
  },
  {
   "metadata": {
    "ExecuteTime": {
     "end_time": "2025-02-28T01:03:47.012491Z",
     "start_time": "2025-02-28T01:03:47.009227Z"
    }
   },
   "cell_type": "code",
   "source": [
    "def load_vectorstore(embeddings, vectorstore_path):\n",
    "    index = VectorStoreIndexWrapper(vectorstore=vectorstore_path)\n",
    "    return index"
   ],
   "id": "95f895173016ca9",
   "outputs": [],
   "execution_count": 6
  },
  {
   "metadata": {
    "ExecuteTime": {
     "end_time": "2025-02-28T01:03:47.548352Z",
     "start_time": "2025-02-28T01:03:47.544528Z"
    }
   },
   "cell_type": "code",
   "source": [
    "def get_vectorstore(file_id, file, embeddings, vectorstore_path, db_already_exist):\n",
    "    if db_already_exist:\n",
    "        index = load_vectorstore(embeddings, vectorstore_path)\n",
    "    else:\n",
    "        index = create_vectorstore(file_id, file, embeddings, vectorstore_path)\n",
    "    return index"
   ],
   "id": "a6a2f2782374f3a2",
   "outputs": [],
   "execution_count": 7
  },
  {
   "metadata": {
    "ExecuteTime": {
     "end_time": "2025-02-28T01:03:48.068268Z",
     "start_time": "2025-02-28T01:03:48.064271Z"
    }
   },
   "cell_type": "code",
   "source": [
    "def set_model(model):\n",
    "    chat = ChatOllama(\n",
    "        model=model,\n",
    "        temperature=0.1,\n",
    "        num_predict=512,\n",
    "        top_p=1,\n",
    "        mirostat_tau=0.4,\n",
    "        # CPU 코어수\n",
    "        num_thread=None,\n",
    "    )\n",
    "    return chat"
   ],
   "id": "c24dddc9534954c1",
   "outputs": [],
   "execution_count": 8
  },
  {
   "metadata": {
    "ExecuteTime": {
     "end_time": "2025-02-28T01:07:42.756696Z",
     "start_time": "2025-02-28T01:07:42.751343Z"
    }
   },
   "cell_type": "code",
   "source": [
    "def set_chat():\n",
    "    file_path = \"C:/Users/user/Documents/GitLab/Test_Dawoo/company_ask/doc/test/소나기 - 황순원.pdf\"\n",
    "    vectorstore_path = \"./vectorstore2\"\n",
    "    model = 'llama3.2-bllossom-kor-3B:latest'\n",
    "    embeddings = OllamaEmbeddings(model=\"mxbai-embed-large\")\n",
    "    #embeddings = HuggingFaceEmbeddings()\n",
    "\n",
    "    # env_loader()\n",
    "    file_texts = pdf_loader(file_path)\n",
    "    file_name = os.path.splitext(os.path.basename(file_path))[0]\n",
    "    # show_pdf(file)\n",
    "    index = get_vectorstore(\n",
    "        file_id=file_name,\n",
    "        file=file_texts,\n",
    "        embeddings = embeddings,\n",
    "        vectorstore_path=vectorstore_path,\n",
    "        db_already_exist=False,\n",
    "    )\n",
    "    chat = set_model(model=model)\n",
    "\n",
    "    return chat, index"
   ],
   "id": "96f033a2d6b387a5",
   "outputs": [],
   "execution_count": 16
  },
  {
   "metadata": {
    "ExecuteTime": {
     "end_time": "2025-02-28T01:03:49.208624Z",
     "start_time": "2025-02-28T01:03:49.204450Z"
    }
   },
   "cell_type": "code",
   "source": [
    "def chat_input(index, user_input, chat):\n",
    "    return index.query( user_input, llm=chat, )"
   ],
   "id": "ac53322f888f2655",
   "outputs": [],
   "execution_count": 10
  },
  {
   "metadata": {
    "ExecuteTime": {
     "end_time": "2025-02-28T01:15:50.938251Z",
     "start_time": "2025-02-28T01:15:18.419660Z"
    }
   },
   "cell_type": "code",
   "source": [
    "chat, index = set_chat()\n",
    "\n",
    "while True:\n",
    "    user_input = input(\"you: \")\n",
    "    print(f\"you: {user_input}\")\n",
    "\n",
    "    if user_input == \"exit\":\n",
    "        break\n",
    "    elif user_input.replace(\" \", \"\") == \"\":\n",
    "        print(\"chat: 질문이 없습니다. 정확한 질문을 해주시면 답변해 드리겠습니다.\")\n",
    "    else:\n",
    "        chat_text = chat_input(\n",
    "            chat=chat,\n",
    "            index=index,\n",
    "            user_input=user_input,\n",
    "        )\n",
    "        print(f\"chat: {chat_text}\")\n",
    "        time.sleep(0.5)"
   ],
   "id": "51e2ad8697bca72e",
   "outputs": [
    {
     "name": "stdout",
     "output_type": "stream",
     "text": [
      "you: 원하는 결과를 빠르게 도출.', '사용자 관리단말기 관리생체정보 관리라이선스 관리게시판 관리통합 검색엔진권한 관리서비스 관리SSODevOps 관리\\nDevOps', 'MammothData DevOpsService Mesh\\nAMQP\\nIngress\\nReact\\nReact\\nMammoth 검색엔진\\nAPI Gateway', '• 세계 보안업체들과 협업을 통해 생체인증(안면인식, 지문, 정맥, 카드, 모바일) 출입 통제 보안 미들웨어 서비스 제공• 생체인증을 통해 각 보안업체와 체계적인 출입 보안 강화\\n기존 운영 환경에서추가 생체정보 등록 관리기존 사용자 정보 연동 및생체정보, 단말기 등록 관리방문자 예약 및\n",
      "이 내용에 한줄로 제목을 지어줘.\n",
      "chat: \"DevOps 및 생체인증 서비스 개발: 통합 관리와 보안 강화\"\n"
     ]
    },
    {
     "ename": "KeyboardInterrupt",
     "evalue": "Interrupted by user",
     "output_type": "error",
     "traceback": [
      "\u001B[1;31m---------------------------------------------------------------------------\u001B[0m",
      "\u001B[1;31mKeyboardInterrupt\u001B[0m                         Traceback (most recent call last)",
      "Cell \u001B[1;32mIn[25], line 4\u001B[0m\n\u001B[0;32m      1\u001B[0m chat, index \u001B[38;5;241m=\u001B[39m set_chat()\n\u001B[0;32m      3\u001B[0m \u001B[38;5;28;01mwhile\u001B[39;00m \u001B[38;5;28;01mTrue\u001B[39;00m:\n\u001B[1;32m----> 4\u001B[0m     user_input \u001B[38;5;241m=\u001B[39m \u001B[38;5;28;43minput\u001B[39;49m\u001B[43m(\u001B[49m\u001B[38;5;124;43m\"\u001B[39;49m\u001B[38;5;124;43myou: \u001B[39;49m\u001B[38;5;124;43m\"\u001B[39;49m\u001B[43m)\u001B[49m\n\u001B[0;32m      5\u001B[0m     \u001B[38;5;28mprint\u001B[39m(\u001B[38;5;124mf\u001B[39m\u001B[38;5;124m\"\u001B[39m\u001B[38;5;124myou: \u001B[39m\u001B[38;5;132;01m{\u001B[39;00muser_input\u001B[38;5;132;01m}\u001B[39;00m\u001B[38;5;124m\"\u001B[39m)\n\u001B[0;32m      7\u001B[0m     \u001B[38;5;28;01mif\u001B[39;00m user_input \u001B[38;5;241m==\u001B[39m \u001B[38;5;124m\"\u001B[39m\u001B[38;5;124mexit\u001B[39m\u001B[38;5;124m\"\u001B[39m:\n",
      "File \u001B[1;32m~\\AppData\\Roaming\\Python\\Python312\\site-packages\\ipykernel\\kernelbase.py:1282\u001B[0m, in \u001B[0;36mKernel.raw_input\u001B[1;34m(self, prompt)\u001B[0m\n\u001B[0;32m   1280\u001B[0m     msg \u001B[38;5;241m=\u001B[39m \u001B[38;5;124m\"\u001B[39m\u001B[38;5;124mraw_input was called, but this frontend does not support input requests.\u001B[39m\u001B[38;5;124m\"\u001B[39m\n\u001B[0;32m   1281\u001B[0m     \u001B[38;5;28;01mraise\u001B[39;00m StdinNotImplementedError(msg)\n\u001B[1;32m-> 1282\u001B[0m \u001B[38;5;28;01mreturn\u001B[39;00m \u001B[38;5;28;43mself\u001B[39;49m\u001B[38;5;241;43m.\u001B[39;49m\u001B[43m_input_request\u001B[49m\u001B[43m(\u001B[49m\n\u001B[0;32m   1283\u001B[0m \u001B[43m    \u001B[49m\u001B[38;5;28;43mstr\u001B[39;49m\u001B[43m(\u001B[49m\u001B[43mprompt\u001B[49m\u001B[43m)\u001B[49m\u001B[43m,\u001B[49m\n\u001B[0;32m   1284\u001B[0m \u001B[43m    \u001B[49m\u001B[38;5;28;43mself\u001B[39;49m\u001B[38;5;241;43m.\u001B[39;49m\u001B[43m_parent_ident\u001B[49m\u001B[43m[\u001B[49m\u001B[38;5;124;43m\"\u001B[39;49m\u001B[38;5;124;43mshell\u001B[39;49m\u001B[38;5;124;43m\"\u001B[39;49m\u001B[43m]\u001B[49m\u001B[43m,\u001B[49m\n\u001B[0;32m   1285\u001B[0m \u001B[43m    \u001B[49m\u001B[38;5;28;43mself\u001B[39;49m\u001B[38;5;241;43m.\u001B[39;49m\u001B[43mget_parent\u001B[49m\u001B[43m(\u001B[49m\u001B[38;5;124;43m\"\u001B[39;49m\u001B[38;5;124;43mshell\u001B[39;49m\u001B[38;5;124;43m\"\u001B[39;49m\u001B[43m)\u001B[49m\u001B[43m,\u001B[49m\n\u001B[0;32m   1286\u001B[0m \u001B[43m    \u001B[49m\u001B[43mpassword\u001B[49m\u001B[38;5;241;43m=\u001B[39;49m\u001B[38;5;28;43;01mFalse\u001B[39;49;00m\u001B[43m,\u001B[49m\n\u001B[0;32m   1287\u001B[0m \u001B[43m\u001B[49m\u001B[43m)\u001B[49m\n",
      "File \u001B[1;32m~\\AppData\\Roaming\\Python\\Python312\\site-packages\\ipykernel\\kernelbase.py:1325\u001B[0m, in \u001B[0;36mKernel._input_request\u001B[1;34m(self, prompt, ident, parent, password)\u001B[0m\n\u001B[0;32m   1322\u001B[0m \u001B[38;5;28;01mexcept\u001B[39;00m \u001B[38;5;167;01mKeyboardInterrupt\u001B[39;00m:\n\u001B[0;32m   1323\u001B[0m     \u001B[38;5;66;03m# re-raise KeyboardInterrupt, to truncate traceback\u001B[39;00m\n\u001B[0;32m   1324\u001B[0m     msg \u001B[38;5;241m=\u001B[39m \u001B[38;5;124m\"\u001B[39m\u001B[38;5;124mInterrupted by user\u001B[39m\u001B[38;5;124m\"\u001B[39m\n\u001B[1;32m-> 1325\u001B[0m     \u001B[38;5;28;01mraise\u001B[39;00m \u001B[38;5;167;01mKeyboardInterrupt\u001B[39;00m(msg) \u001B[38;5;28;01mfrom\u001B[39;00m\u001B[38;5;250m \u001B[39m\u001B[38;5;28;01mNone\u001B[39;00m\n\u001B[0;32m   1326\u001B[0m \u001B[38;5;28;01mexcept\u001B[39;00m \u001B[38;5;167;01mException\u001B[39;00m:\n\u001B[0;32m   1327\u001B[0m     \u001B[38;5;28mself\u001B[39m\u001B[38;5;241m.\u001B[39mlog\u001B[38;5;241m.\u001B[39mwarning(\u001B[38;5;124m\"\u001B[39m\u001B[38;5;124mInvalid Message:\u001B[39m\u001B[38;5;124m\"\u001B[39m, exc_info\u001B[38;5;241m=\u001B[39m\u001B[38;5;28;01mTrue\u001B[39;00m)\n",
      "\u001B[1;31mKeyboardInterrupt\u001B[0m: Interrupted by user"
     ]
    }
   ],
   "execution_count": 25
  },
  {
   "metadata": {},
   "cell_type": "code",
   "outputs": [],
   "source": "",
   "id": "142c6795c44e67f",
   "execution_count": null
  },
  {
   "metadata": {},
   "cell_type": "code",
   "outputs": [],
   "execution_count": null,
   "source": "",
   "id": "bc00b4929d68fcf"
  }
 ],
 "metadata": {
  "kernelspec": {
   "display_name": "Python 3",
   "language": "python",
   "name": "python3"
  },
  "language_info": {
   "codemirror_mode": {
    "name": "ipython",
    "version": 2
   },
   "file_extension": ".py",
   "mimetype": "text/x-python",
   "name": "python",
   "nbconvert_exporter": "python",
   "pygments_lexer": "ipython2",
   "version": "2.7.6"
  }
 },
 "nbformat": 4,
 "nbformat_minor": 5
}
