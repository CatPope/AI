{
 "cells": [
  {
   "metadata": {
    "ExecuteTime": {
     "end_time": "2025-02-21T06:31:55.864700Z",
     "start_time": "2025-02-21T06:31:55.790423Z"
    }
   },
   "cell_type": "code",
   "outputs": [
    {
     "ename": "ModuleNotFoundError",
     "evalue": "No module named 'pydantic'",
     "output_type": "error",
     "traceback": [
      "\u001B[1;31m---------------------------------------------------------------------------\u001B[0m",
      "\u001B[1;31mModuleNotFoundError\u001B[0m                       Traceback (most recent call last)",
      "Cell \u001B[1;32mIn[24], line 1\u001B[0m\n\u001B[1;32m----> 1\u001B[0m \u001B[38;5;28;01mfrom\u001B[39;00m\u001B[38;5;250m \u001B[39m\u001B[38;5;21;01mlangchain\u001B[39;00m\u001B[38;5;21;01m.\u001B[39;00m\u001B[38;5;21;01mdocument_loaders\u001B[39;00m\u001B[38;5;21;01m.\u001B[39;00m\u001B[38;5;21;01mparsers\u001B[39;00m\u001B[38;5;250m \u001B[39m\u001B[38;5;28;01mimport\u001B[39;00m language\n\u001B[0;32m      2\u001B[0m get_ipython()\u001B[38;5;241m.\u001B[39msystem(\u001B[38;5;124m'\u001B[39m\u001B[38;5;124mpip install python-dotenv\u001B[39m\u001B[38;5;124m'\u001B[39m)\n\u001B[0;32m      3\u001B[0m get_ipython()\u001B[38;5;241m.\u001B[39msystem(\u001B[38;5;124m'\u001B[39m\u001B[38;5;124mpip install -U openai langchain langchain-openai\u001B[39m\u001B[38;5;124m'\u001B[39m)\n",
      "File \u001B[1;32m~\\AppData\\Roaming\\Python\\Python312\\site-packages\\langchain\\document_loaders\\__init__.py:192\u001B[0m\n\u001B[0;32m     22\u001B[0m \u001B[38;5;28;01mif\u001B[39;00m TYPE_CHECKING:\n\u001B[0;32m     23\u001B[0m     \u001B[38;5;28;01mfrom\u001B[39;00m\u001B[38;5;250m \u001B[39m\u001B[38;5;21;01mlangchain_community\u001B[39;00m\u001B[38;5;21;01m.\u001B[39;00m\u001B[38;5;21;01mdocument_loaders\u001B[39;00m\u001B[38;5;250m \u001B[39m\u001B[38;5;28;01mimport\u001B[39;00m (\n\u001B[0;32m     24\u001B[0m         AcreomLoader,\n\u001B[0;32m     25\u001B[0m         AirbyteCDKLoader,\n\u001B[1;32m   (...)\u001B[0m\n\u001B[0;32m    189\u001B[0m         YuqueLoader,\n\u001B[0;32m    190\u001B[0m     )\n\u001B[1;32m--> 192\u001B[0m \u001B[38;5;28;01mfrom\u001B[39;00m\u001B[38;5;250m \u001B[39m\u001B[38;5;21;01mlangchain_core\u001B[39;00m\u001B[38;5;21;01m.\u001B[39;00m\u001B[38;5;21;01mdocument_loaders\u001B[39;00m\u001B[38;5;250m \u001B[39m\u001B[38;5;28;01mimport\u001B[39;00m Blob, BlobLoader\n\u001B[0;32m    194\u001B[0m \u001B[38;5;66;03m# For backwards compatibility\u001B[39;00m\n\u001B[0;32m    195\u001B[0m _old_to_new_name \u001B[38;5;241m=\u001B[39m {\n\u001B[0;32m    196\u001B[0m     \u001B[38;5;124m\"\u001B[39m\u001B[38;5;124mPagedPDFSplitter\u001B[39m\u001B[38;5;124m\"\u001B[39m: \u001B[38;5;124m\"\u001B[39m\u001B[38;5;124mPyPDFLoader\u001B[39m\u001B[38;5;124m\"\u001B[39m,\n\u001B[0;32m    197\u001B[0m     \u001B[38;5;124m\"\u001B[39m\u001B[38;5;124mTelegramChatLoader\u001B[39m\u001B[38;5;124m\"\u001B[39m: \u001B[38;5;124m\"\u001B[39m\u001B[38;5;124mTelegramChatFileLoader\u001B[39m\u001B[38;5;124m\"\u001B[39m,\n\u001B[0;32m    198\u001B[0m }\n",
      "File \u001B[1;32m~\\AppData\\Roaming\\Python\\Python312\\site-packages\\langchain_core\\document_loaders\\__init__.py:1\u001B[0m\n\u001B[1;32m----> 1\u001B[0m \u001B[38;5;28;01mfrom\u001B[39;00m\u001B[38;5;250m \u001B[39m\u001B[38;5;21;01mlangchain_core\u001B[39;00m\u001B[38;5;21;01m.\u001B[39;00m\u001B[38;5;21;01mdocument_loaders\u001B[39;00m\u001B[38;5;21;01m.\u001B[39;00m\u001B[38;5;21;01mbase\u001B[39;00m\u001B[38;5;250m \u001B[39m\u001B[38;5;28;01mimport\u001B[39;00m BaseBlobParser, BaseLoader\n\u001B[0;32m      2\u001B[0m \u001B[38;5;28;01mfrom\u001B[39;00m\u001B[38;5;250m \u001B[39m\u001B[38;5;21;01mlangchain_core\u001B[39;00m\u001B[38;5;21;01m.\u001B[39;00m\u001B[38;5;21;01mdocument_loaders\u001B[39;00m\u001B[38;5;21;01m.\u001B[39;00m\u001B[38;5;21;01mblob_loaders\u001B[39;00m\u001B[38;5;250m \u001B[39m\u001B[38;5;28;01mimport\u001B[39;00m Blob, BlobLoader, PathLike\n\u001B[0;32m      3\u001B[0m \u001B[38;5;28;01mfrom\u001B[39;00m\u001B[38;5;250m \u001B[39m\u001B[38;5;21;01mlangchain_core\u001B[39;00m\u001B[38;5;21;01m.\u001B[39;00m\u001B[38;5;21;01mdocument_loaders\u001B[39;00m\u001B[38;5;21;01m.\u001B[39;00m\u001B[38;5;21;01mlangsmith\u001B[39;00m\u001B[38;5;250m \u001B[39m\u001B[38;5;28;01mimport\u001B[39;00m LangSmithLoader\n",
      "File \u001B[1;32m~\\AppData\\Roaming\\Python\\Python312\\site-packages\\langchain_core\\document_loaders\\base.py:9\u001B[0m\n\u001B[0;32m      6\u001B[0m \u001B[38;5;28;01mfrom\u001B[39;00m\u001B[38;5;250m \u001B[39m\u001B[38;5;21;01mcollections\u001B[39;00m\u001B[38;5;21;01m.\u001B[39;00m\u001B[38;5;21;01mabc\u001B[39;00m\u001B[38;5;250m \u001B[39m\u001B[38;5;28;01mimport\u001B[39;00m AsyncIterator, Iterator\n\u001B[0;32m      7\u001B[0m \u001B[38;5;28;01mfrom\u001B[39;00m\u001B[38;5;250m \u001B[39m\u001B[38;5;21;01mtyping\u001B[39;00m\u001B[38;5;250m \u001B[39m\u001B[38;5;28;01mimport\u001B[39;00m TYPE_CHECKING, Optional\n\u001B[1;32m----> 9\u001B[0m \u001B[38;5;28;01mfrom\u001B[39;00m\u001B[38;5;250m \u001B[39m\u001B[38;5;21;01mlangchain_core\u001B[39;00m\u001B[38;5;21;01m.\u001B[39;00m\u001B[38;5;21;01mdocuments\u001B[39;00m\u001B[38;5;250m \u001B[39m\u001B[38;5;28;01mimport\u001B[39;00m Document\n\u001B[0;32m     10\u001B[0m \u001B[38;5;28;01mfrom\u001B[39;00m\u001B[38;5;250m \u001B[39m\u001B[38;5;21;01mlangchain_core\u001B[39;00m\u001B[38;5;21;01m.\u001B[39;00m\u001B[38;5;21;01mrunnables\u001B[39;00m\u001B[38;5;250m \u001B[39m\u001B[38;5;28;01mimport\u001B[39;00m run_in_executor\n\u001B[0;32m     12\u001B[0m \u001B[38;5;28;01mif\u001B[39;00m TYPE_CHECKING:\n",
      "File \u001B[1;32m~\\AppData\\Roaming\\Python\\Python312\\site-packages\\langchain_core\\documents\\__init__.py:6\u001B[0m\n\u001B[0;32m      1\u001B[0m \u001B[38;5;124;03m\"\"\"**Document** module is a collection of classes that handle documents\u001B[39;00m\n\u001B[0;32m      2\u001B[0m \u001B[38;5;124;03mand their transformations.\u001B[39;00m\n\u001B[0;32m      3\u001B[0m \n\u001B[0;32m      4\u001B[0m \u001B[38;5;124;03m\"\"\"\u001B[39;00m\n\u001B[1;32m----> 6\u001B[0m \u001B[38;5;28;01mfrom\u001B[39;00m\u001B[38;5;250m \u001B[39m\u001B[38;5;21;01mlangchain_core\u001B[39;00m\u001B[38;5;21;01m.\u001B[39;00m\u001B[38;5;21;01mdocuments\u001B[39;00m\u001B[38;5;21;01m.\u001B[39;00m\u001B[38;5;21;01mbase\u001B[39;00m\u001B[38;5;250m \u001B[39m\u001B[38;5;28;01mimport\u001B[39;00m Document\n\u001B[0;32m      7\u001B[0m \u001B[38;5;28;01mfrom\u001B[39;00m\u001B[38;5;250m \u001B[39m\u001B[38;5;21;01mlangchain_core\u001B[39;00m\u001B[38;5;21;01m.\u001B[39;00m\u001B[38;5;21;01mdocuments\u001B[39;00m\u001B[38;5;21;01m.\u001B[39;00m\u001B[38;5;21;01mcompressor\u001B[39;00m\u001B[38;5;250m \u001B[39m\u001B[38;5;28;01mimport\u001B[39;00m BaseDocumentCompressor\n\u001B[0;32m      8\u001B[0m \u001B[38;5;28;01mfrom\u001B[39;00m\u001B[38;5;250m \u001B[39m\u001B[38;5;21;01mlangchain_core\u001B[39;00m\u001B[38;5;21;01m.\u001B[39;00m\u001B[38;5;21;01mdocuments\u001B[39;00m\u001B[38;5;21;01m.\u001B[39;00m\u001B[38;5;21;01mtransformers\u001B[39;00m\u001B[38;5;250m \u001B[39m\u001B[38;5;28;01mimport\u001B[39;00m BaseDocumentTransformer\n",
      "File \u001B[1;32m~\\AppData\\Roaming\\Python\\Python312\\site-packages\\langchain_core\\documents\\base.py:10\u001B[0m\n\u001B[0;32m      7\u001B[0m \u001B[38;5;28;01mfrom\u001B[39;00m\u001B[38;5;250m \u001B[39m\u001B[38;5;21;01mpathlib\u001B[39;00m\u001B[38;5;250m \u001B[39m\u001B[38;5;28;01mimport\u001B[39;00m PurePath\n\u001B[0;32m      8\u001B[0m \u001B[38;5;28;01mfrom\u001B[39;00m\u001B[38;5;250m \u001B[39m\u001B[38;5;21;01mtyping\u001B[39;00m\u001B[38;5;250m \u001B[39m\u001B[38;5;28;01mimport\u001B[39;00m Any, Literal, Optional, Union, cast\n\u001B[1;32m---> 10\u001B[0m \u001B[38;5;28;01mfrom\u001B[39;00m\u001B[38;5;250m \u001B[39m\u001B[38;5;21;01mpydantic\u001B[39;00m\u001B[38;5;250m \u001B[39m\u001B[38;5;28;01mimport\u001B[39;00m ConfigDict, Field, field_validator, model_validator\n\u001B[0;32m     12\u001B[0m \u001B[38;5;28;01mfrom\u001B[39;00m\u001B[38;5;250m \u001B[39m\u001B[38;5;21;01mlangchain_core\u001B[39;00m\u001B[38;5;21;01m.\u001B[39;00m\u001B[38;5;21;01mload\u001B[39;00m\u001B[38;5;21;01m.\u001B[39;00m\u001B[38;5;21;01mserializable\u001B[39;00m\u001B[38;5;250m \u001B[39m\u001B[38;5;28;01mimport\u001B[39;00m Serializable\n\u001B[0;32m     14\u001B[0m PathLike \u001B[38;5;241m=\u001B[39m Union[\u001B[38;5;28mstr\u001B[39m, PurePath]\n",
      "\u001B[1;31mModuleNotFoundError\u001B[0m: No module named 'pydantic'"
     ]
    }
   ],
   "execution_count": 24,
   "source": [
    "from langchain.chains.question_answering.map_reduce_prompt import messages\n",
    "!pip install python-dotenv\n",
    "!pip install -U openai langchain langchain-openai\n",
    "!pip install langchain_community\n",
    "!pip install pypdf\n",
    "!pip install faiss-cpu"
   ],
   "id": "e03967c1dd61f647"
  },
  {
   "metadata": {
    "ExecuteTime": {
     "end_time": "2025-02-24T01:22:33.485346Z",
     "start_time": "2025-02-24T01:22:33.479072Z"
    }
   },
   "cell_type": "code",
   "source": [
    "from dotenv import load_dotenv\n",
    "import os\n",
    "import openai\n",
    "from langchain_community.document_loaders import PyPDFLoader\n",
    "from langchain.text_splitter import CharacterTextSplitter\n",
    "from langchain_openai import ChatOpenAI\n",
    "# from langchain.embeddings import HuggingFaceEmbeddings\n",
    "from langchain_openai import OpenAIEmbeddings\n",
    "from langchain.indexes import VectorstoreIndexCreator\n",
    "from langchain.vectorstores import FAISS"
   ],
   "id": "b2223d2220cf52aa",
   "outputs": [],
   "execution_count": 14
  },
  {
   "metadata": {
    "ExecuteTime": {
     "end_time": "2025-02-24T01:22:33.672964Z",
     "start_time": "2025-02-24T01:22:33.666976Z"
    }
   },
   "cell_type": "code",
   "source": [
    "def env_loader():\n",
    "    load_dotenv()\n",
    "    openai.api_key = os.getenv(\"OPENAI_API_KEY\")"
   ],
   "id": "4b00d30c40f1fbe7",
   "outputs": [],
   "execution_count": 15
  },
  {
   "metadata": {
    "ExecuteTime": {
     "end_time": "2025-02-24T01:22:33.869102Z",
     "start_time": "2025-02-24T01:22:33.864940Z"
    }
   },
   "cell_type": "code",
   "source": [
    "def pdf_loader(file_path):\n",
    "    loader = PyPDFLoader(file_path)\n",
    "    return loader"
   ],
   "id": "c6ce23d337da491",
   "outputs": [],
   "execution_count": 16
  },
  {
   "metadata": {
    "ExecuteTime": {
     "end_time": "2025-02-24T01:22:34.086318Z",
     "start_time": "2025-02-24T01:22:34.078189Z"
    }
   },
   "cell_type": "code",
   "source": [
    "def show_pdf(loader):\n",
    "    documents = loader.load()\n",
    "\n",
    "    text_splitter = CharacterTextSplitter(chunk_size=1000, chunk_overlap=0)\n",
    "    docs = text_splitter.split_documents(documents)\n",
    "    context = [doc.page_content for doc in docs]\n",
    "\n",
    "    print(context)"
   ],
   "id": "bc39439a31cf250a",
   "outputs": [],
   "execution_count": 17
  },
  {
   "metadata": {
    "ExecuteTime": {
     "end_time": "2025-02-24T01:22:34.221696Z",
     "start_time": "2025-02-24T01:22:34.215204Z"
    }
   },
   "cell_type": "code",
   "source": [
    "def create_vectorstore(loader):\n",
    "    embeddings = OpenAIEmbeddings()\n",
    "    #embeddings = HuggingFaceEmbeddings()\n",
    "\n",
    "    index = VectorstoreIndexCreator(\n",
    "        vectorstore_cls=FAISS,\n",
    "        embedding=embeddings,\n",
    "        ).from_loaders([loader])\n",
    "\n",
    "    # 파일로 저장\n",
    "    index.vectorstore.save_local(\"vectorstore\")\n",
    "\n",
    "    return index"
   ],
   "id": "83d0624b678cc5d1",
   "outputs": [],
   "execution_count": 18
  },
  {
   "metadata": {
    "ExecuteTime": {
     "end_time": "2025-02-24T02:24:11.377642Z",
     "start_time": "2025-02-24T02:24:11.361952Z"
    }
   },
   "cell_type": "code",
   "source": [
    "def set_model(model):\n",
    "\n",
    "    chat = ChatOpenAI(\n",
    "        model=model,\n",
    "        temperature=0.3,\n",
    "        max_tokens=512,\n",
    "        top_p=1,\n",
    "        frequency_penalty=0,\n",
    "        presence_penalty=0,\n",
    "    )\n",
    "\n",
    "    return chat"
   ],
   "id": "c24dddc9534954c1",
   "outputs": [],
   "execution_count": 38
  },
  {
   "metadata": {
    "ExecuteTime": {
     "end_time": "2025-02-24T02:24:08.026103Z",
     "start_time": "2025-02-24T02:24:08.019945Z"
    }
   },
   "cell_type": "code",
   "source": [
    "def chat_setup():\n",
    "    file_path = \"C:/Users/user/Documents/GitLab/mammoth_chat_Langchain/doc/타임소프트 회사소개서.pdf\"\n",
    "\n",
    "    env_loader()\n",
    "    loader = pdf_loader(file_path)\n",
    "    # show_pdf(loader)\n",
    "    index = create_vectorstore(loader)\n",
    "    chat = set_model(model='gpt-4o-mini')\n",
    "\n",
    "    return chat, index"
   ],
   "id": "96f033a2d6b387a5",
   "outputs": [],
   "execution_count": 36
  },
  {
   "metadata": {
    "ExecuteTime": {
     "end_time": "2025-02-24T02:30:17.551079Z",
     "start_time": "2025-02-24T02:30:17.547401Z"
    }
   },
   "cell_type": "code",
   "source": [
    "def chat_input(index, user_input, chat):\n",
    "\n",
    "    system_msg = \"\"\"\n",
    "        당신은 친절한 기업 분석가입니다.\n",
    "        주어진 데이터를 보고 사용자에게 정확하게 대답하세요.\n",
    "        사용자가 데이터에 없는 내용을 질문 하면, 해당 문제에 대해 정보가 부족합니다. 라고 대답하세요.\n",
    "        \"\"\"\n",
    "\n",
    "    messages = [\n",
    "        {\n",
    "            \"rol\": \"system\",\n",
    "            \"content\": system_msg,\n",
    "        },\n",
    "        {\n",
    "            \"rol\": \"user\",\n",
    "            \"content\": user_input,\n",
    "        },\n",
    "    ]\n",
    "\n",
    "    return index.query( messages, llm=chat, )"
   ],
   "id": "ac53322f888f2655",
   "outputs": [],
   "execution_count": 47
  },
  {
   "metadata": {
    "ExecuteTime": {
     "end_time": "2025-02-24T02:30:40.037430Z",
     "start_time": "2025-02-24T02:30:33.435368Z"
    }
   },
   "cell_type": "code",
   "source": [
    "while True:\n",
    "    chat, index = chat_setup()\n",
    "\n",
    "    user_input = input(\"you: \")\n",
    "    print(f\"you: {user_input}\")\n",
    "\n",
    "    if user_input == \"exit\":\n",
    "        break\n",
    "    elif user_input.replace(\" \", \"\") == \"\":\n",
    "        print(\"chat: 질문이 없습니다. 정확한 질문을 해주시면 답변해 드리겠습니다.\")\n",
    "    else:\n",
    "        chat_text = chat_input(\n",
    "            chat=chat,\n",
    "            index=index,\n",
    "            user_input=user_input,\n",
    "        )\n",
    "        print(f\"chat: {chat_text}\")"
   ],
   "id": "51e2ad8697bca72e",
   "outputs": [
    {
     "name": "stdout",
     "output_type": "stream",
     "text": [
      "you: 타임 소프트는 우주관련 산업도 해?\n"
     ]
    },
    {
     "ename": "TypeError",
     "evalue": "argument 'text': 'list' object cannot be converted to 'PyString'",
     "output_type": "error",
     "traceback": [
      "\u001B[1;31m---------------------------------------------------------------------------\u001B[0m",
      "\u001B[1;31mTypeError\u001B[0m                                 Traceback (most recent call last)",
      "Cell \u001B[1;32mIn[49], line 12\u001B[0m\n\u001B[0;32m     10\u001B[0m     \u001B[38;5;28mprint\u001B[39m(\u001B[38;5;124m\"\u001B[39m\u001B[38;5;124mchat: 질문이 없습니다. 정확한 질문을 해주시면 답변해 드리겠습니다.\u001B[39m\u001B[38;5;124m\"\u001B[39m)\n\u001B[0;32m     11\u001B[0m \u001B[38;5;28;01melse\u001B[39;00m:\n\u001B[1;32m---> 12\u001B[0m     chat_text \u001B[38;5;241m=\u001B[39m \u001B[43mchat_input\u001B[49m\u001B[43m(\u001B[49m\n\u001B[0;32m     13\u001B[0m \u001B[43m        \u001B[49m\u001B[43mchat\u001B[49m\u001B[38;5;241;43m=\u001B[39;49m\u001B[43mchat\u001B[49m\u001B[43m,\u001B[49m\n\u001B[0;32m     14\u001B[0m \u001B[43m        \u001B[49m\u001B[43mindex\u001B[49m\u001B[38;5;241;43m=\u001B[39;49m\u001B[43mindex\u001B[49m\u001B[43m,\u001B[49m\n\u001B[0;32m     15\u001B[0m \u001B[43m        \u001B[49m\u001B[43muser_input\u001B[49m\u001B[38;5;241;43m=\u001B[39;49m\u001B[43muser_input\u001B[49m\u001B[43m,\u001B[49m\n\u001B[0;32m     16\u001B[0m \u001B[43m    \u001B[49m\u001B[43m)\u001B[49m\n\u001B[0;32m     17\u001B[0m     \u001B[38;5;28mprint\u001B[39m(\u001B[38;5;124mf\u001B[39m\u001B[38;5;124m\"\u001B[39m\u001B[38;5;124mchat: \u001B[39m\u001B[38;5;132;01m{\u001B[39;00mchat_text\u001B[38;5;132;01m}\u001B[39;00m\u001B[38;5;124m\"\u001B[39m)\n",
      "Cell \u001B[1;32mIn[47], line 20\u001B[0m, in \u001B[0;36mchat_input\u001B[1;34m(index, user_input, chat)\u001B[0m\n\u001B[0;32m      3\u001B[0m system_msg \u001B[38;5;241m=\u001B[39m \u001B[38;5;124m\"\"\"\u001B[39m\n\u001B[0;32m      4\u001B[0m \u001B[38;5;124m    당신은 친절한 기업 분석가입니다.\u001B[39m\n\u001B[0;32m      5\u001B[0m \u001B[38;5;124m    주어진 데이터를 보고 사용자에게 정확하게 대답하세요.\u001B[39m\n\u001B[0;32m      6\u001B[0m \u001B[38;5;124m    사용자가 데이터에 없는 내용을 질문 하면, 해당 문제에 대해 정보가 부족합니다. 라고 대답하세요.\u001B[39m\n\u001B[0;32m      7\u001B[0m \u001B[38;5;124m    \u001B[39m\u001B[38;5;124m\"\"\"\u001B[39m\n\u001B[0;32m      9\u001B[0m messages \u001B[38;5;241m=\u001B[39m [\n\u001B[0;32m     10\u001B[0m     {\n\u001B[0;32m     11\u001B[0m         \u001B[38;5;124m\"\u001B[39m\u001B[38;5;124mrol\u001B[39m\u001B[38;5;124m\"\u001B[39m: \u001B[38;5;124m\"\u001B[39m\u001B[38;5;124msystem\u001B[39m\u001B[38;5;124m\"\u001B[39m,\n\u001B[1;32m   (...)\u001B[0m\n\u001B[0;32m     17\u001B[0m     },\n\u001B[0;32m     18\u001B[0m ]\n\u001B[1;32m---> 20\u001B[0m \u001B[38;5;28;01mreturn\u001B[39;00m \u001B[43mindex\u001B[49m\u001B[38;5;241;43m.\u001B[39;49m\u001B[43mquery\u001B[49m\u001B[43m(\u001B[49m\u001B[43m \u001B[49m\u001B[43mmessages\u001B[49m\u001B[43m,\u001B[49m\u001B[43m \u001B[49m\u001B[43mllm\u001B[49m\u001B[38;5;241;43m=\u001B[39;49m\u001B[43mchat\u001B[49m\u001B[43m,\u001B[49m\u001B[43m \u001B[49m\u001B[43m)\u001B[49m\n",
      "File \u001B[1;32m~\\AppData\\Roaming\\Python\\Python312\\site-packages\\langchain\\indexes\\vectorstore.py:62\u001B[0m, in \u001B[0;36mVectorStoreIndexWrapper.query\u001B[1;34m(self, question, llm, retriever_kwargs, **kwargs)\u001B[0m\n\u001B[0;32m     58\u001B[0m retriever_kwargs \u001B[38;5;241m=\u001B[39m retriever_kwargs \u001B[38;5;129;01mor\u001B[39;00m {}\n\u001B[0;32m     59\u001B[0m chain \u001B[38;5;241m=\u001B[39m RetrievalQA\u001B[38;5;241m.\u001B[39mfrom_chain_type(\n\u001B[0;32m     60\u001B[0m     llm, retriever\u001B[38;5;241m=\u001B[39m\u001B[38;5;28mself\u001B[39m\u001B[38;5;241m.\u001B[39mvectorstore\u001B[38;5;241m.\u001B[39mas_retriever(\u001B[38;5;241m*\u001B[39m\u001B[38;5;241m*\u001B[39mretriever_kwargs), \u001B[38;5;241m*\u001B[39m\u001B[38;5;241m*\u001B[39mkwargs\n\u001B[0;32m     61\u001B[0m )\n\u001B[1;32m---> 62\u001B[0m \u001B[38;5;28;01mreturn\u001B[39;00m \u001B[43mchain\u001B[49m\u001B[38;5;241;43m.\u001B[39;49m\u001B[43minvoke\u001B[49m\u001B[43m(\u001B[49m\u001B[43m{\u001B[49m\u001B[43mchain\u001B[49m\u001B[38;5;241;43m.\u001B[39;49m\u001B[43minput_key\u001B[49m\u001B[43m:\u001B[49m\u001B[43m \u001B[49m\u001B[43mquestion\u001B[49m\u001B[43m}\u001B[49m\u001B[43m)\u001B[49m[chain\u001B[38;5;241m.\u001B[39moutput_key]\n",
      "File \u001B[1;32m~\\AppData\\Roaming\\Python\\Python312\\site-packages\\langchain\\chains\\base.py:170\u001B[0m, in \u001B[0;36mChain.invoke\u001B[1;34m(self, input, config, **kwargs)\u001B[0m\n\u001B[0;32m    168\u001B[0m \u001B[38;5;28;01mexcept\u001B[39;00m \u001B[38;5;167;01mBaseException\u001B[39;00m \u001B[38;5;28;01mas\u001B[39;00m e:\n\u001B[0;32m    169\u001B[0m     run_manager\u001B[38;5;241m.\u001B[39mon_chain_error(e)\n\u001B[1;32m--> 170\u001B[0m     \u001B[38;5;28;01mraise\u001B[39;00m e\n\u001B[0;32m    171\u001B[0m run_manager\u001B[38;5;241m.\u001B[39mon_chain_end(outputs)\n\u001B[0;32m    173\u001B[0m \u001B[38;5;28;01mif\u001B[39;00m include_run_info:\n",
      "File \u001B[1;32m~\\AppData\\Roaming\\Python\\Python312\\site-packages\\langchain\\chains\\base.py:160\u001B[0m, in \u001B[0;36mChain.invoke\u001B[1;34m(self, input, config, **kwargs)\u001B[0m\n\u001B[0;32m    157\u001B[0m \u001B[38;5;28;01mtry\u001B[39;00m:\n\u001B[0;32m    158\u001B[0m     \u001B[38;5;28mself\u001B[39m\u001B[38;5;241m.\u001B[39m_validate_inputs(inputs)\n\u001B[0;32m    159\u001B[0m     outputs \u001B[38;5;241m=\u001B[39m (\n\u001B[1;32m--> 160\u001B[0m         \u001B[38;5;28;43mself\u001B[39;49m\u001B[38;5;241;43m.\u001B[39;49m\u001B[43m_call\u001B[49m\u001B[43m(\u001B[49m\u001B[43minputs\u001B[49m\u001B[43m,\u001B[49m\u001B[43m \u001B[49m\u001B[43mrun_manager\u001B[49m\u001B[38;5;241;43m=\u001B[39;49m\u001B[43mrun_manager\u001B[49m\u001B[43m)\u001B[49m\n\u001B[0;32m    161\u001B[0m         \u001B[38;5;28;01mif\u001B[39;00m new_arg_supported\n\u001B[0;32m    162\u001B[0m         \u001B[38;5;28;01melse\u001B[39;00m \u001B[38;5;28mself\u001B[39m\u001B[38;5;241m.\u001B[39m_call(inputs)\n\u001B[0;32m    163\u001B[0m     )\n\u001B[0;32m    165\u001B[0m     final_outputs: Dict[\u001B[38;5;28mstr\u001B[39m, Any] \u001B[38;5;241m=\u001B[39m \u001B[38;5;28mself\u001B[39m\u001B[38;5;241m.\u001B[39mprep_outputs(\n\u001B[0;32m    166\u001B[0m         inputs, outputs, return_only_outputs\n\u001B[0;32m    167\u001B[0m     )\n\u001B[0;32m    168\u001B[0m \u001B[38;5;28;01mexcept\u001B[39;00m \u001B[38;5;167;01mBaseException\u001B[39;00m \u001B[38;5;28;01mas\u001B[39;00m e:\n",
      "File \u001B[1;32m~\\AppData\\Roaming\\Python\\Python312\\site-packages\\langchain\\chains\\retrieval_qa\\base.py:151\u001B[0m, in \u001B[0;36mBaseRetrievalQA._call\u001B[1;34m(self, inputs, run_manager)\u001B[0m\n\u001B[0;32m    147\u001B[0m accepts_run_manager \u001B[38;5;241m=\u001B[39m (\n\u001B[0;32m    148\u001B[0m     \u001B[38;5;124m\"\u001B[39m\u001B[38;5;124mrun_manager\u001B[39m\u001B[38;5;124m\"\u001B[39m \u001B[38;5;129;01min\u001B[39;00m inspect\u001B[38;5;241m.\u001B[39msignature(\u001B[38;5;28mself\u001B[39m\u001B[38;5;241m.\u001B[39m_get_docs)\u001B[38;5;241m.\u001B[39mparameters\n\u001B[0;32m    149\u001B[0m )\n\u001B[0;32m    150\u001B[0m \u001B[38;5;28;01mif\u001B[39;00m accepts_run_manager:\n\u001B[1;32m--> 151\u001B[0m     docs \u001B[38;5;241m=\u001B[39m \u001B[38;5;28;43mself\u001B[39;49m\u001B[38;5;241;43m.\u001B[39;49m\u001B[43m_get_docs\u001B[49m\u001B[43m(\u001B[49m\u001B[43mquestion\u001B[49m\u001B[43m,\u001B[49m\u001B[43m \u001B[49m\u001B[43mrun_manager\u001B[49m\u001B[38;5;241;43m=\u001B[39;49m\u001B[43m_run_manager\u001B[49m\u001B[43m)\u001B[49m\n\u001B[0;32m    152\u001B[0m \u001B[38;5;28;01melse\u001B[39;00m:\n\u001B[0;32m    153\u001B[0m     docs \u001B[38;5;241m=\u001B[39m \u001B[38;5;28mself\u001B[39m\u001B[38;5;241m.\u001B[39m_get_docs(question)  \u001B[38;5;66;03m# type: ignore[call-arg]\u001B[39;00m\n",
      "File \u001B[1;32m~\\AppData\\Roaming\\Python\\Python312\\site-packages\\langchain\\chains\\retrieval_qa\\base.py:271\u001B[0m, in \u001B[0;36mRetrievalQA._get_docs\u001B[1;34m(self, question, run_manager)\u001B[0m\n\u001B[0;32m    264\u001B[0m \u001B[38;5;28;01mdef\u001B[39;00m\u001B[38;5;250m \u001B[39m\u001B[38;5;21m_get_docs\u001B[39m(\n\u001B[0;32m    265\u001B[0m     \u001B[38;5;28mself\u001B[39m,\n\u001B[0;32m    266\u001B[0m     question: \u001B[38;5;28mstr\u001B[39m,\n\u001B[0;32m    267\u001B[0m     \u001B[38;5;241m*\u001B[39m,\n\u001B[0;32m    268\u001B[0m     run_manager: CallbackManagerForChainRun,\n\u001B[0;32m    269\u001B[0m ) \u001B[38;5;241m-\u001B[39m\u001B[38;5;241m>\u001B[39m List[Document]:\n\u001B[0;32m    270\u001B[0m \u001B[38;5;250m    \u001B[39m\u001B[38;5;124;03m\"\"\"Get docs.\"\"\"\u001B[39;00m\n\u001B[1;32m--> 271\u001B[0m     \u001B[38;5;28;01mreturn\u001B[39;00m \u001B[38;5;28;43mself\u001B[39;49m\u001B[38;5;241;43m.\u001B[39;49m\u001B[43mretriever\u001B[49m\u001B[38;5;241;43m.\u001B[39;49m\u001B[43minvoke\u001B[49m\u001B[43m(\u001B[49m\n\u001B[0;32m    272\u001B[0m \u001B[43m        \u001B[49m\u001B[43mquestion\u001B[49m\u001B[43m,\u001B[49m\u001B[43m \u001B[49m\u001B[43mconfig\u001B[49m\u001B[38;5;241;43m=\u001B[39;49m\u001B[43m{\u001B[49m\u001B[38;5;124;43m\"\u001B[39;49m\u001B[38;5;124;43mcallbacks\u001B[39;49m\u001B[38;5;124;43m\"\u001B[39;49m\u001B[43m:\u001B[49m\u001B[43m \u001B[49m\u001B[43mrun_manager\u001B[49m\u001B[38;5;241;43m.\u001B[39;49m\u001B[43mget_child\u001B[49m\u001B[43m(\u001B[49m\u001B[43m)\u001B[49m\u001B[43m}\u001B[49m\n\u001B[0;32m    273\u001B[0m \u001B[43m    \u001B[49m\u001B[43m)\u001B[49m\n",
      "File \u001B[1;32m~\\AppData\\Roaming\\Python\\Python312\\site-packages\\langchain_core\\retrievers.py:259\u001B[0m, in \u001B[0;36mBaseRetriever.invoke\u001B[1;34m(self, input, config, **kwargs)\u001B[0m\n\u001B[0;32m    257\u001B[0m _kwargs \u001B[38;5;241m=\u001B[39m kwargs \u001B[38;5;28;01mif\u001B[39;00m \u001B[38;5;28mself\u001B[39m\u001B[38;5;241m.\u001B[39m_expects_other_args \u001B[38;5;28;01melse\u001B[39;00m {}\n\u001B[0;32m    258\u001B[0m \u001B[38;5;28;01mif\u001B[39;00m \u001B[38;5;28mself\u001B[39m\u001B[38;5;241m.\u001B[39m_new_arg_supported:\n\u001B[1;32m--> 259\u001B[0m     result \u001B[38;5;241m=\u001B[39m \u001B[38;5;28;43mself\u001B[39;49m\u001B[38;5;241;43m.\u001B[39;49m\u001B[43m_get_relevant_documents\u001B[49m\u001B[43m(\u001B[49m\n\u001B[0;32m    260\u001B[0m \u001B[43m        \u001B[49m\u001B[38;5;28;43minput\u001B[39;49m\u001B[43m,\u001B[49m\u001B[43m \u001B[49m\u001B[43mrun_manager\u001B[49m\u001B[38;5;241;43m=\u001B[39;49m\u001B[43mrun_manager\u001B[49m\u001B[43m,\u001B[49m\u001B[43m \u001B[49m\u001B[38;5;241;43m*\u001B[39;49m\u001B[38;5;241;43m*\u001B[39;49m\u001B[43m_kwargs\u001B[49m\n\u001B[0;32m    261\u001B[0m \u001B[43m    \u001B[49m\u001B[43m)\u001B[49m\n\u001B[0;32m    262\u001B[0m \u001B[38;5;28;01melse\u001B[39;00m:\n\u001B[0;32m    263\u001B[0m     result \u001B[38;5;241m=\u001B[39m \u001B[38;5;28mself\u001B[39m\u001B[38;5;241m.\u001B[39m_get_relevant_documents(\u001B[38;5;28minput\u001B[39m, \u001B[38;5;241m*\u001B[39m\u001B[38;5;241m*\u001B[39m_kwargs)\n",
      "File \u001B[1;32m~\\AppData\\Roaming\\Python\\Python312\\site-packages\\langchain_core\\vectorstores\\base.py:1073\u001B[0m, in \u001B[0;36mVectorStoreRetriever._get_relevant_documents\u001B[1;34m(self, query, run_manager, **kwargs)\u001B[0m\n\u001B[0;32m   1071\u001B[0m _kwargs \u001B[38;5;241m=\u001B[39m \u001B[38;5;28mself\u001B[39m\u001B[38;5;241m.\u001B[39msearch_kwargs \u001B[38;5;241m|\u001B[39m kwargs\n\u001B[0;32m   1072\u001B[0m \u001B[38;5;28;01mif\u001B[39;00m \u001B[38;5;28mself\u001B[39m\u001B[38;5;241m.\u001B[39msearch_type \u001B[38;5;241m==\u001B[39m \u001B[38;5;124m\"\u001B[39m\u001B[38;5;124msimilarity\u001B[39m\u001B[38;5;124m\"\u001B[39m:\n\u001B[1;32m-> 1073\u001B[0m     docs \u001B[38;5;241m=\u001B[39m \u001B[38;5;28;43mself\u001B[39;49m\u001B[38;5;241;43m.\u001B[39;49m\u001B[43mvectorstore\u001B[49m\u001B[38;5;241;43m.\u001B[39;49m\u001B[43msimilarity_search\u001B[49m\u001B[43m(\u001B[49m\u001B[43mquery\u001B[49m\u001B[43m,\u001B[49m\u001B[43m \u001B[49m\u001B[38;5;241;43m*\u001B[39;49m\u001B[38;5;241;43m*\u001B[39;49m\u001B[43m_kwargs\u001B[49m\u001B[43m)\u001B[49m\n\u001B[0;32m   1074\u001B[0m \u001B[38;5;28;01melif\u001B[39;00m \u001B[38;5;28mself\u001B[39m\u001B[38;5;241m.\u001B[39msearch_type \u001B[38;5;241m==\u001B[39m \u001B[38;5;124m\"\u001B[39m\u001B[38;5;124msimilarity_score_threshold\u001B[39m\u001B[38;5;124m\"\u001B[39m:\n\u001B[0;32m   1075\u001B[0m     docs_and_similarities \u001B[38;5;241m=\u001B[39m (\n\u001B[0;32m   1076\u001B[0m         \u001B[38;5;28mself\u001B[39m\u001B[38;5;241m.\u001B[39mvectorstore\u001B[38;5;241m.\u001B[39msimilarity_search_with_relevance_scores(\n\u001B[0;32m   1077\u001B[0m             query, \u001B[38;5;241m*\u001B[39m\u001B[38;5;241m*\u001B[39m_kwargs\n\u001B[0;32m   1078\u001B[0m         )\n\u001B[0;32m   1079\u001B[0m     )\n",
      "File \u001B[1;32m~\\.conda\\envs\\mammoth_Langchain\\Lib\\site-packages\\langchain_community\\vectorstores\\faiss.py:643\u001B[0m, in \u001B[0;36mFAISS.similarity_search\u001B[1;34m(self, query, k, filter, fetch_k, **kwargs)\u001B[0m\n\u001B[0;32m    623\u001B[0m \u001B[38;5;28;01mdef\u001B[39;00m\u001B[38;5;250m \u001B[39m\u001B[38;5;21msimilarity_search\u001B[39m(\n\u001B[0;32m    624\u001B[0m     \u001B[38;5;28mself\u001B[39m,\n\u001B[0;32m    625\u001B[0m     query: \u001B[38;5;28mstr\u001B[39m,\n\u001B[1;32m   (...)\u001B[0m\n\u001B[0;32m    629\u001B[0m     \u001B[38;5;241m*\u001B[39m\u001B[38;5;241m*\u001B[39mkwargs: Any,\n\u001B[0;32m    630\u001B[0m ) \u001B[38;5;241m-\u001B[39m\u001B[38;5;241m>\u001B[39m List[Document]:\n\u001B[0;32m    631\u001B[0m \u001B[38;5;250m    \u001B[39m\u001B[38;5;124;03m\"\"\"Return docs most similar to query.\u001B[39;00m\n\u001B[0;32m    632\u001B[0m \n\u001B[0;32m    633\u001B[0m \u001B[38;5;124;03m    Args:\u001B[39;00m\n\u001B[1;32m   (...)\u001B[0m\n\u001B[0;32m    641\u001B[0m \u001B[38;5;124;03m        List of Documents most similar to the query.\u001B[39;00m\n\u001B[0;32m    642\u001B[0m \u001B[38;5;124;03m    \"\"\"\u001B[39;00m\n\u001B[1;32m--> 643\u001B[0m     docs_and_scores \u001B[38;5;241m=\u001B[39m \u001B[38;5;28;43mself\u001B[39;49m\u001B[38;5;241;43m.\u001B[39;49m\u001B[43msimilarity_search_with_score\u001B[49m\u001B[43m(\u001B[49m\n\u001B[0;32m    644\u001B[0m \u001B[43m        \u001B[49m\u001B[43mquery\u001B[49m\u001B[43m,\u001B[49m\u001B[43m \u001B[49m\u001B[43mk\u001B[49m\u001B[43m,\u001B[49m\u001B[43m \u001B[49m\u001B[38;5;28;43mfilter\u001B[39;49m\u001B[38;5;241;43m=\u001B[39;49m\u001B[38;5;28;43mfilter\u001B[39;49m\u001B[43m,\u001B[49m\u001B[43m \u001B[49m\u001B[43mfetch_k\u001B[49m\u001B[38;5;241;43m=\u001B[39;49m\u001B[43mfetch_k\u001B[49m\u001B[43m,\u001B[49m\u001B[43m \u001B[49m\u001B[38;5;241;43m*\u001B[39;49m\u001B[38;5;241;43m*\u001B[39;49m\u001B[43mkwargs\u001B[49m\n\u001B[0;32m    645\u001B[0m \u001B[43m    \u001B[49m\u001B[43m)\u001B[49m\n\u001B[0;32m    646\u001B[0m     \u001B[38;5;28;01mreturn\u001B[39;00m [doc \u001B[38;5;28;01mfor\u001B[39;00m doc, _ \u001B[38;5;129;01min\u001B[39;00m docs_and_scores]\n",
      "File \u001B[1;32m~\\.conda\\envs\\mammoth_Langchain\\Lib\\site-packages\\langchain_community\\vectorstores\\faiss.py:515\u001B[0m, in \u001B[0;36mFAISS.similarity_search_with_score\u001B[1;34m(self, query, k, filter, fetch_k, **kwargs)\u001B[0m\n\u001B[0;32m    491\u001B[0m \u001B[38;5;28;01mdef\u001B[39;00m\u001B[38;5;250m \u001B[39m\u001B[38;5;21msimilarity_search_with_score\u001B[39m(\n\u001B[0;32m    492\u001B[0m     \u001B[38;5;28mself\u001B[39m,\n\u001B[0;32m    493\u001B[0m     query: \u001B[38;5;28mstr\u001B[39m,\n\u001B[1;32m   (...)\u001B[0m\n\u001B[0;32m    497\u001B[0m     \u001B[38;5;241m*\u001B[39m\u001B[38;5;241m*\u001B[39mkwargs: Any,\n\u001B[0;32m    498\u001B[0m ) \u001B[38;5;241m-\u001B[39m\u001B[38;5;241m>\u001B[39m List[Tuple[Document, \u001B[38;5;28mfloat\u001B[39m]]:\n\u001B[0;32m    499\u001B[0m \u001B[38;5;250m    \u001B[39m\u001B[38;5;124;03m\"\"\"Return docs most similar to query.\u001B[39;00m\n\u001B[0;32m    500\u001B[0m \n\u001B[0;32m    501\u001B[0m \u001B[38;5;124;03m    Args:\u001B[39;00m\n\u001B[1;32m   (...)\u001B[0m\n\u001B[0;32m    513\u001B[0m \u001B[38;5;124;03m        L2 distance in float. Lower score represents more similarity.\u001B[39;00m\n\u001B[0;32m    514\u001B[0m \u001B[38;5;124;03m    \"\"\"\u001B[39;00m\n\u001B[1;32m--> 515\u001B[0m     embedding \u001B[38;5;241m=\u001B[39m \u001B[38;5;28;43mself\u001B[39;49m\u001B[38;5;241;43m.\u001B[39;49m\u001B[43m_embed_query\u001B[49m\u001B[43m(\u001B[49m\u001B[43mquery\u001B[49m\u001B[43m)\u001B[49m\n\u001B[0;32m    516\u001B[0m     docs \u001B[38;5;241m=\u001B[39m \u001B[38;5;28mself\u001B[39m\u001B[38;5;241m.\u001B[39msimilarity_search_with_score_by_vector(\n\u001B[0;32m    517\u001B[0m         embedding,\n\u001B[0;32m    518\u001B[0m         k,\n\u001B[1;32m   (...)\u001B[0m\n\u001B[0;32m    521\u001B[0m         \u001B[38;5;241m*\u001B[39m\u001B[38;5;241m*\u001B[39mkwargs,\n\u001B[0;32m    522\u001B[0m     )\n\u001B[0;32m    523\u001B[0m     \u001B[38;5;28;01mreturn\u001B[39;00m docs\n",
      "File \u001B[1;32m~\\.conda\\envs\\mammoth_Langchain\\Lib\\site-packages\\langchain_community\\vectorstores\\faiss.py:266\u001B[0m, in \u001B[0;36mFAISS._embed_query\u001B[1;34m(self, text)\u001B[0m\n\u001B[0;32m    264\u001B[0m \u001B[38;5;28;01mdef\u001B[39;00m\u001B[38;5;250m \u001B[39m\u001B[38;5;21m_embed_query\u001B[39m(\u001B[38;5;28mself\u001B[39m, text: \u001B[38;5;28mstr\u001B[39m) \u001B[38;5;241m-\u001B[39m\u001B[38;5;241m>\u001B[39m List[\u001B[38;5;28mfloat\u001B[39m]:\n\u001B[0;32m    265\u001B[0m     \u001B[38;5;28;01mif\u001B[39;00m \u001B[38;5;28misinstance\u001B[39m(\u001B[38;5;28mself\u001B[39m\u001B[38;5;241m.\u001B[39membedding_function, Embeddings):\n\u001B[1;32m--> 266\u001B[0m         \u001B[38;5;28;01mreturn\u001B[39;00m \u001B[38;5;28;43mself\u001B[39;49m\u001B[38;5;241;43m.\u001B[39;49m\u001B[43membedding_function\u001B[49m\u001B[38;5;241;43m.\u001B[39;49m\u001B[43membed_query\u001B[49m\u001B[43m(\u001B[49m\u001B[43mtext\u001B[49m\u001B[43m)\u001B[49m\n\u001B[0;32m    267\u001B[0m     \u001B[38;5;28;01melse\u001B[39;00m:\n\u001B[0;32m    268\u001B[0m         \u001B[38;5;28;01mreturn\u001B[39;00m \u001B[38;5;28mself\u001B[39m\u001B[38;5;241m.\u001B[39membedding_function(text)\n",
      "File \u001B[1;32m~\\AppData\\Roaming\\Python\\Python312\\site-packages\\langchain_openai\\embeddings\\base.py:629\u001B[0m, in \u001B[0;36mOpenAIEmbeddings.embed_query\u001B[1;34m(self, text)\u001B[0m\n\u001B[0;32m    620\u001B[0m \u001B[38;5;28;01mdef\u001B[39;00m\u001B[38;5;250m \u001B[39m\u001B[38;5;21membed_query\u001B[39m(\u001B[38;5;28mself\u001B[39m, text: \u001B[38;5;28mstr\u001B[39m) \u001B[38;5;241m-\u001B[39m\u001B[38;5;241m>\u001B[39m List[\u001B[38;5;28mfloat\u001B[39m]:\n\u001B[0;32m    621\u001B[0m \u001B[38;5;250m    \u001B[39m\u001B[38;5;124;03m\"\"\"Call out to OpenAI's embedding endpoint for embedding query text.\u001B[39;00m\n\u001B[0;32m    622\u001B[0m \n\u001B[0;32m    623\u001B[0m \u001B[38;5;124;03m    Args:\u001B[39;00m\n\u001B[1;32m   (...)\u001B[0m\n\u001B[0;32m    627\u001B[0m \u001B[38;5;124;03m        Embedding for the text.\u001B[39;00m\n\u001B[0;32m    628\u001B[0m \u001B[38;5;124;03m    \"\"\"\u001B[39;00m\n\u001B[1;32m--> 629\u001B[0m     \u001B[38;5;28;01mreturn\u001B[39;00m \u001B[38;5;28;43mself\u001B[39;49m\u001B[38;5;241;43m.\u001B[39;49m\u001B[43membed_documents\u001B[49m\u001B[43m(\u001B[49m\u001B[43m[\u001B[49m\u001B[43mtext\u001B[49m\u001B[43m]\u001B[49m\u001B[43m)\u001B[49m[\u001B[38;5;241m0\u001B[39m]\n",
      "File \u001B[1;32m~\\AppData\\Roaming\\Python\\Python312\\site-packages\\langchain_openai\\embeddings\\base.py:588\u001B[0m, in \u001B[0;36mOpenAIEmbeddings.embed_documents\u001B[1;34m(self, texts, chunk_size)\u001B[0m\n\u001B[0;32m    585\u001B[0m \u001B[38;5;66;03m# NOTE: to keep things simple, we assume the list may contain texts longer\u001B[39;00m\n\u001B[0;32m    586\u001B[0m \u001B[38;5;66;03m#       than the maximum context and use length-safe embedding function.\u001B[39;00m\n\u001B[0;32m    587\u001B[0m engine \u001B[38;5;241m=\u001B[39m cast(\u001B[38;5;28mstr\u001B[39m, \u001B[38;5;28mself\u001B[39m\u001B[38;5;241m.\u001B[39mdeployment)\n\u001B[1;32m--> 588\u001B[0m \u001B[38;5;28;01mreturn\u001B[39;00m \u001B[38;5;28;43mself\u001B[39;49m\u001B[38;5;241;43m.\u001B[39;49m\u001B[43m_get_len_safe_embeddings\u001B[49m\u001B[43m(\u001B[49m\u001B[43mtexts\u001B[49m\u001B[43m,\u001B[49m\u001B[43m \u001B[49m\u001B[43mengine\u001B[49m\u001B[38;5;241;43m=\u001B[39;49m\u001B[43mengine\u001B[49m\u001B[43m)\u001B[49m\n",
      "File \u001B[1;32m~\\AppData\\Roaming\\Python\\Python312\\site-packages\\langchain_openai\\embeddings\\base.py:480\u001B[0m, in \u001B[0;36mOpenAIEmbeddings._get_len_safe_embeddings\u001B[1;34m(self, texts, engine, chunk_size)\u001B[0m\n\u001B[0;32m    464\u001B[0m \u001B[38;5;250m\u001B[39m\u001B[38;5;124;03m\"\"\"\u001B[39;00m\n\u001B[0;32m    465\u001B[0m \u001B[38;5;124;03mGenerate length-safe embeddings for a list of texts.\u001B[39;00m\n\u001B[0;32m    466\u001B[0m \n\u001B[1;32m   (...)\u001B[0m\n\u001B[0;32m    477\u001B[0m \u001B[38;5;124;03m    List[List[float]]: A list of embeddings for each input text.\u001B[39;00m\n\u001B[0;32m    478\u001B[0m \u001B[38;5;124;03m\"\"\"\u001B[39;00m\n\u001B[0;32m    479\u001B[0m _chunk_size \u001B[38;5;241m=\u001B[39m chunk_size \u001B[38;5;129;01mor\u001B[39;00m \u001B[38;5;28mself\u001B[39m\u001B[38;5;241m.\u001B[39mchunk_size\n\u001B[1;32m--> 480\u001B[0m _iter, tokens, indices \u001B[38;5;241m=\u001B[39m \u001B[38;5;28;43mself\u001B[39;49m\u001B[38;5;241;43m.\u001B[39;49m\u001B[43m_tokenize\u001B[49m\u001B[43m(\u001B[49m\u001B[43mtexts\u001B[49m\u001B[43m,\u001B[49m\u001B[43m \u001B[49m\u001B[43m_chunk_size\u001B[49m\u001B[43m)\u001B[49m\n\u001B[0;32m    481\u001B[0m batched_embeddings: List[List[\u001B[38;5;28mfloat\u001B[39m]] \u001B[38;5;241m=\u001B[39m []\n\u001B[0;32m    482\u001B[0m \u001B[38;5;28;01mfor\u001B[39;00m i \u001B[38;5;129;01min\u001B[39;00m _iter:\n",
      "File \u001B[1;32m~\\AppData\\Roaming\\Python\\Python312\\site-packages\\langchain_openai\\embeddings\\base.py:441\u001B[0m, in \u001B[0;36mOpenAIEmbeddings._tokenize\u001B[1;34m(self, texts, chunk_size)\u001B[0m\n\u001B[0;32m    439\u001B[0m     token \u001B[38;5;241m=\u001B[39m encoding\u001B[38;5;241m.\u001B[39mencode(text, \u001B[38;5;241m*\u001B[39m\u001B[38;5;241m*\u001B[39mencoder_kwargs)\n\u001B[0;32m    440\u001B[0m \u001B[38;5;28;01melse\u001B[39;00m:\n\u001B[1;32m--> 441\u001B[0m     token \u001B[38;5;241m=\u001B[39m \u001B[43mencoding\u001B[49m\u001B[38;5;241;43m.\u001B[39;49m\u001B[43mencode_ordinary\u001B[49m\u001B[43m(\u001B[49m\u001B[43mtext\u001B[49m\u001B[43m)\u001B[49m\n\u001B[0;32m    443\u001B[0m \u001B[38;5;66;03m# Split tokens into chunks respecting the embedding_ctx_length\u001B[39;00m\n\u001B[0;32m    444\u001B[0m \u001B[38;5;28;01mfor\u001B[39;00m j \u001B[38;5;129;01min\u001B[39;00m \u001B[38;5;28mrange\u001B[39m(\u001B[38;5;241m0\u001B[39m, \u001B[38;5;28mlen\u001B[39m(token), \u001B[38;5;28mself\u001B[39m\u001B[38;5;241m.\u001B[39membedding_ctx_length):\n",
      "File \u001B[1;32m~\\AppData\\Roaming\\Python\\Python312\\site-packages\\tiktoken\\core.py:73\u001B[0m, in \u001B[0;36mEncoding.encode_ordinary\u001B[1;34m(self, text)\u001B[0m\n\u001B[0;32m     64\u001B[0m \u001B[38;5;250m\u001B[39m\u001B[38;5;124;03m\"\"\"Encodes a string into tokens, ignoring special tokens.\u001B[39;00m\n\u001B[0;32m     65\u001B[0m \n\u001B[0;32m     66\u001B[0m \u001B[38;5;124;03mThis is equivalent to `encode(text, disallowed_special=())` (but slightly faster).\u001B[39;00m\n\u001B[1;32m   (...)\u001B[0m\n\u001B[0;32m     70\u001B[0m \u001B[38;5;124;03m[31373, 995]\u001B[39;00m\n\u001B[0;32m     71\u001B[0m \u001B[38;5;124;03m\"\"\"\u001B[39;00m\n\u001B[0;32m     72\u001B[0m \u001B[38;5;28;01mtry\u001B[39;00m:\n\u001B[1;32m---> 73\u001B[0m     \u001B[38;5;28;01mreturn\u001B[39;00m \u001B[38;5;28;43mself\u001B[39;49m\u001B[38;5;241;43m.\u001B[39;49m\u001B[43m_core_bpe\u001B[49m\u001B[38;5;241;43m.\u001B[39;49m\u001B[43mencode_ordinary\u001B[49m\u001B[43m(\u001B[49m\u001B[43mtext\u001B[49m\u001B[43m)\u001B[49m\n\u001B[0;32m     74\u001B[0m \u001B[38;5;28;01mexcept\u001B[39;00m \u001B[38;5;167;01mUnicodeEncodeError\u001B[39;00m:\n\u001B[0;32m     75\u001B[0m     \u001B[38;5;66;03m# See comment in encode\u001B[39;00m\n\u001B[0;32m     76\u001B[0m     text \u001B[38;5;241m=\u001B[39m text\u001B[38;5;241m.\u001B[39mencode(\u001B[38;5;124m\"\u001B[39m\u001B[38;5;124mutf-16\u001B[39m\u001B[38;5;124m\"\u001B[39m, \u001B[38;5;124m\"\u001B[39m\u001B[38;5;124msurrogatepass\u001B[39m\u001B[38;5;124m\"\u001B[39m)\u001B[38;5;241m.\u001B[39mdecode(\u001B[38;5;124m\"\u001B[39m\u001B[38;5;124mutf-16\u001B[39m\u001B[38;5;124m\"\u001B[39m, \u001B[38;5;124m\"\u001B[39m\u001B[38;5;124mreplace\u001B[39m\u001B[38;5;124m\"\u001B[39m)\n",
      "\u001B[1;31mTypeError\u001B[0m: argument 'text': 'list' object cannot be converted to 'PyString'"
     ]
    }
   ],
   "execution_count": 49
  },
  {
   "metadata": {},
   "cell_type": "code",
   "outputs": [],
   "execution_count": null,
   "source": "타임 소프트는 우주관련 산업도 해?",
   "id": "fdbe14b41c6af9e1"
  }
 ],
 "metadata": {
  "kernelspec": {
   "display_name": "Python 3",
   "language": "python",
   "name": "python3"
  },
  "language_info": {
   "codemirror_mode": {
    "name": "ipython",
    "version": 2
   },
   "file_extension": ".py",
   "mimetype": "text/x-python",
   "name": "python",
   "nbconvert_exporter": "python",
   "pygments_lexer": "ipython2",
   "version": "2.7.6"
  }
 },
 "nbformat": 4,
 "nbformat_minor": 5
}
