{
 "cells": [
  {
   "metadata": {
    "ExecuteTime": {
     "end_time": "2025-02-27T04:39:01.154314Z",
     "start_time": "2025-02-27T04:38:35.925449Z"
    }
   },
   "cell_type": "code",
   "source": [
    "# from langchain.chains.question_answering.map_reduce_prompt import messages\n",
    "# !pip install python-dotenv\n",
    "# !pip install -U openai langchain langchain-openai\n",
    "!pip install -U langchain-ollama\n",
    "!pip install langchain_community\n",
    "!pip install pypdf\n",
    "!pip install faiss-cpu\n",
    "!pip install chromadb\n",
    "!pip install langchain-teddynote\n",
    "!pip install googletrans"
   ],
   "id": "e03967c1dd61f647",
   "outputs": [
    {
     "name": "stdout",
     "output_type": "stream",
     "text": [
      "Defaulting to user installation because normal site-packages is not writeable\n",
      "Requirement already satisfied: langchain-ollama in c:\\users\\user\\appdata\\roaming\\python\\python312\\site-packages (0.2.3)\n",
      "Requirement already satisfied: langchain-core<0.4.0,>=0.3.33 in c:\\users\\user\\appdata\\roaming\\python\\python312\\site-packages (from langchain-ollama) (0.3.37)\n",
      "Requirement already satisfied: ollama<1,>=0.4.4 in c:\\users\\user\\appdata\\roaming\\python\\python312\\site-packages (from langchain-ollama) (0.4.7)\n",
      "Requirement already satisfied: langsmith<0.4,>=0.1.125 in c:\\users\\user\\appdata\\roaming\\python\\python312\\site-packages (from langchain-core<0.4.0,>=0.3.33->langchain-ollama) (0.3.9)\n",
      "Requirement already satisfied: tenacity!=8.4.0,<10.0.0,>=8.1.0 in c:\\users\\all users\\anaconda3\\lib\\site-packages (from langchain-core<0.4.0,>=0.3.33->langchain-ollama) (8.2.3)\n",
      "Requirement already satisfied: jsonpatch<2.0,>=1.33 in c:\\users\\all users\\anaconda3\\lib\\site-packages (from langchain-core<0.4.0,>=0.3.33->langchain-ollama) (1.33)\n",
      "Requirement already satisfied: PyYAML>=5.3 in c:\\users\\all users\\anaconda3\\lib\\site-packages (from langchain-core<0.4.0,>=0.3.33->langchain-ollama) (6.0.1)\n",
      "Requirement already satisfied: packaging<25,>=23.2 in c:\\users\\user\\appdata\\roaming\\python\\python312\\site-packages (from langchain-core<0.4.0,>=0.3.33->langchain-ollama) (24.2)\n",
      "Requirement already satisfied: typing-extensions>=4.7 in c:\\users\\user\\appdata\\roaming\\python\\python312\\site-packages (from langchain-core<0.4.0,>=0.3.33->langchain-ollama) (4.12.2)\n",
      "Requirement already satisfied: pydantic<3.0.0,>=2.7.4 in c:\\users\\user\\appdata\\roaming\\python\\python312\\site-packages (from langchain-core<0.4.0,>=0.3.33->langchain-ollama) (2.10.6)\n",
      "Requirement already satisfied: httpx<0.29,>=0.27 in c:\\users\\all users\\anaconda3\\lib\\site-packages (from ollama<1,>=0.4.4->langchain-ollama) (0.27.0)\n",
      "Requirement already satisfied: anyio in c:\\users\\all users\\anaconda3\\lib\\site-packages (from httpx<0.29,>=0.27->ollama<1,>=0.4.4->langchain-ollama) (4.2.0)\n",
      "Requirement already satisfied: certifi in c:\\users\\all users\\anaconda3\\lib\\site-packages (from httpx<0.29,>=0.27->ollama<1,>=0.4.4->langchain-ollama) (2024.12.14)\n",
      "Requirement already satisfied: httpcore==1.* in c:\\users\\all users\\anaconda3\\lib\\site-packages (from httpx<0.29,>=0.27->ollama<1,>=0.4.4->langchain-ollama) (1.0.2)\n",
      "Requirement already satisfied: idna in c:\\users\\all users\\anaconda3\\lib\\site-packages (from httpx<0.29,>=0.27->ollama<1,>=0.4.4->langchain-ollama) (3.7)\n",
      "Requirement already satisfied: sniffio in c:\\users\\all users\\anaconda3\\lib\\site-packages (from httpx<0.29,>=0.27->ollama<1,>=0.4.4->langchain-ollama) (1.3.0)\n",
      "Requirement already satisfied: h11<0.15,>=0.13 in c:\\users\\all users\\anaconda3\\lib\\site-packages (from httpcore==1.*->httpx<0.29,>=0.27->ollama<1,>=0.4.4->langchain-ollama) (0.14.0)\n",
      "Requirement already satisfied: jsonpointer>=1.9 in c:\\users\\all users\\anaconda3\\lib\\site-packages (from jsonpatch<2.0,>=1.33->langchain-core<0.4.0,>=0.3.33->langchain-ollama) (2.1)\n",
      "Requirement already satisfied: orjson<4.0.0,>=3.9.14 in c:\\users\\user\\appdata\\roaming\\python\\python312\\site-packages (from langsmith<0.4,>=0.1.125->langchain-core<0.4.0,>=0.3.33->langchain-ollama) (3.10.15)\n",
      "Requirement already satisfied: requests<3,>=2 in c:\\users\\all users\\anaconda3\\lib\\site-packages (from langsmith<0.4,>=0.1.125->langchain-core<0.4.0,>=0.3.33->langchain-ollama) (2.32.3)\n",
      "Requirement already satisfied: requests-toolbelt<2.0.0,>=1.0.0 in c:\\users\\all users\\anaconda3\\lib\\site-packages (from langsmith<0.4,>=0.1.125->langchain-core<0.4.0,>=0.3.33->langchain-ollama) (1.0.0)\n",
      "Requirement already satisfied: zstandard<0.24.0,>=0.23.0 in c:\\users\\all users\\anaconda3\\lib\\site-packages (from langsmith<0.4,>=0.1.125->langchain-core<0.4.0,>=0.3.33->langchain-ollama) (0.23.0)\n",
      "Requirement already satisfied: annotated-types>=0.6.0 in c:\\users\\all users\\anaconda3\\lib\\site-packages (from pydantic<3.0.0,>=2.7.4->langchain-core<0.4.0,>=0.3.33->langchain-ollama) (0.6.0)\n",
      "Requirement already satisfied: pydantic-core==2.27.2 in c:\\users\\user\\appdata\\roaming\\python\\python312\\site-packages (from pydantic<3.0.0,>=2.7.4->langchain-core<0.4.0,>=0.3.33->langchain-ollama) (2.27.2)\n",
      "Requirement already satisfied: charset-normalizer<4,>=2 in c:\\users\\all users\\anaconda3\\lib\\site-packages (from requests<3,>=2->langsmith<0.4,>=0.1.125->langchain-core<0.4.0,>=0.3.33->langchain-ollama) (3.3.2)\n",
      "Requirement already satisfied: urllib3<3,>=1.21.1 in c:\\users\\all users\\anaconda3\\lib\\site-packages (from requests<3,>=2->langsmith<0.4,>=0.1.125->langchain-core<0.4.0,>=0.3.33->langchain-ollama) (2.2.3)\n",
      "Defaulting to user installation because normal site-packages is not writeable\n",
      "Requirement already satisfied: langchain_community in c:\\users\\user\\appdata\\roaming\\python\\python312\\site-packages (0.3.18)\n",
      "Requirement already satisfied: langchain-core<1.0.0,>=0.3.37 in c:\\users\\user\\appdata\\roaming\\python\\python312\\site-packages (from langchain_community) (0.3.37)\n",
      "Requirement already satisfied: langchain<1.0.0,>=0.3.19 in c:\\users\\user\\appdata\\roaming\\python\\python312\\site-packages (from langchain_community) (0.3.19)\n",
      "Requirement already satisfied: SQLAlchemy<3,>=1.4 in c:\\users\\all users\\anaconda3\\lib\\site-packages (from langchain_community) (2.0.34)\n",
      "Requirement already satisfied: requests<3,>=2 in c:\\users\\all users\\anaconda3\\lib\\site-packages (from langchain_community) (2.32.3)\n",
      "Requirement already satisfied: PyYAML>=5.3 in c:\\users\\all users\\anaconda3\\lib\\site-packages (from langchain_community) (6.0.1)\n",
      "Requirement already satisfied: aiohttp<4.0.0,>=3.8.3 in c:\\users\\all users\\anaconda3\\lib\\site-packages (from langchain_community) (3.10.5)\n",
      "Requirement already satisfied: tenacity!=8.4.0,<10,>=8.1.0 in c:\\users\\all users\\anaconda3\\lib\\site-packages (from langchain_community) (8.2.3)\n",
      "Requirement already satisfied: dataclasses-json<0.7,>=0.5.7 in c:\\users\\user\\appdata\\roaming\\python\\python312\\site-packages (from langchain_community) (0.6.7)\n",
      "Requirement already satisfied: pydantic-settings<3.0.0,>=2.4.0 in c:\\users\\all users\\anaconda3\\lib\\site-packages (from langchain_community) (2.6.1)\n",
      "Requirement already satisfied: langsmith<0.4,>=0.1.125 in c:\\users\\user\\appdata\\roaming\\python\\python312\\site-packages (from langchain_community) (0.3.9)\n",
      "Requirement already satisfied: httpx-sse<1.0.0,>=0.4.0 in c:\\users\\user\\appdata\\roaming\\python\\python312\\site-packages (from langchain_community) (0.4.0)\n",
      "Requirement already satisfied: numpy<3,>=1.26.2 in c:\\users\\all users\\anaconda3\\lib\\site-packages (from langchain_community) (1.26.4)\n",
      "Requirement already satisfied: aiohappyeyeballs>=2.3.0 in c:\\users\\all users\\anaconda3\\lib\\site-packages (from aiohttp<4.0.0,>=3.8.3->langchain_community) (2.4.0)\n",
      "Requirement already satisfied: aiosignal>=1.1.2 in c:\\users\\all users\\anaconda3\\lib\\site-packages (from aiohttp<4.0.0,>=3.8.3->langchain_community) (1.2.0)\n",
      "Requirement already satisfied: attrs>=17.3.0 in c:\\users\\all users\\anaconda3\\lib\\site-packages (from aiohttp<4.0.0,>=3.8.3->langchain_community) (23.1.0)\n",
      "Requirement already satisfied: frozenlist>=1.1.1 in c:\\users\\all users\\anaconda3\\lib\\site-packages (from aiohttp<4.0.0,>=3.8.3->langchain_community) (1.4.0)\n",
      "Requirement already satisfied: multidict<7.0,>=4.5 in c:\\users\\all users\\anaconda3\\lib\\site-packages (from aiohttp<4.0.0,>=3.8.3->langchain_community) (6.0.4)\n",
      "Requirement already satisfied: yarl<2.0,>=1.0 in c:\\users\\all users\\anaconda3\\lib\\site-packages (from aiohttp<4.0.0,>=3.8.3->langchain_community) (1.11.0)\n",
      "Requirement already satisfied: marshmallow<4.0.0,>=3.18.0 in c:\\users\\user\\appdata\\roaming\\python\\python312\\site-packages (from dataclasses-json<0.7,>=0.5.7->langchain_community) (3.26.1)\n",
      "Requirement already satisfied: typing-inspect<1,>=0.4.0 in c:\\users\\user\\appdata\\roaming\\python\\python312\\site-packages (from dataclasses-json<0.7,>=0.5.7->langchain_community) (0.9.0)\n",
      "Requirement already satisfied: langchain-text-splitters<1.0.0,>=0.3.6 in c:\\users\\user\\appdata\\roaming\\python\\python312\\site-packages (from langchain<1.0.0,>=0.3.19->langchain_community) (0.3.6)\n",
      "Requirement already satisfied: pydantic<3.0.0,>=2.7.4 in c:\\users\\user\\appdata\\roaming\\python\\python312\\site-packages (from langchain<1.0.0,>=0.3.19->langchain_community) (2.10.6)\n",
      "Requirement already satisfied: jsonpatch<2.0,>=1.33 in c:\\users\\all users\\anaconda3\\lib\\site-packages (from langchain-core<1.0.0,>=0.3.37->langchain_community) (1.33)\n",
      "Requirement already satisfied: packaging<25,>=23.2 in c:\\users\\user\\appdata\\roaming\\python\\python312\\site-packages (from langchain-core<1.0.0,>=0.3.37->langchain_community) (24.2)\n",
      "Requirement already satisfied: typing-extensions>=4.7 in c:\\users\\user\\appdata\\roaming\\python\\python312\\site-packages (from langchain-core<1.0.0,>=0.3.37->langchain_community) (4.12.2)\n",
      "Requirement already satisfied: httpx<1,>=0.23.0 in c:\\users\\all users\\anaconda3\\lib\\site-packages (from langsmith<0.4,>=0.1.125->langchain_community) (0.27.0)\n",
      "Requirement already satisfied: orjson<4.0.0,>=3.9.14 in c:\\users\\user\\appdata\\roaming\\python\\python312\\site-packages (from langsmith<0.4,>=0.1.125->langchain_community) (3.10.15)\n",
      "Requirement already satisfied: requests-toolbelt<2.0.0,>=1.0.0 in c:\\users\\all users\\anaconda3\\lib\\site-packages (from langsmith<0.4,>=0.1.125->langchain_community) (1.0.0)\n",
      "Requirement already satisfied: zstandard<0.24.0,>=0.23.0 in c:\\users\\all users\\anaconda3\\lib\\site-packages (from langsmith<0.4,>=0.1.125->langchain_community) (0.23.0)\n",
      "Requirement already satisfied: python-dotenv>=0.21.0 in c:\\users\\user\\appdata\\roaming\\python\\python312\\site-packages (from pydantic-settings<3.0.0,>=2.4.0->langchain_community) (1.0.1)\n",
      "Requirement already satisfied: charset-normalizer<4,>=2 in c:\\users\\all users\\anaconda3\\lib\\site-packages (from requests<3,>=2->langchain_community) (3.3.2)\n",
      "Requirement already satisfied: idna<4,>=2.5 in c:\\users\\all users\\anaconda3\\lib\\site-packages (from requests<3,>=2->langchain_community) (3.7)\n",
      "Requirement already satisfied: urllib3<3,>=1.21.1 in c:\\users\\all users\\anaconda3\\lib\\site-packages (from requests<3,>=2->langchain_community) (2.2.3)\n",
      "Requirement already satisfied: certifi>=2017.4.17 in c:\\users\\all users\\anaconda3\\lib\\site-packages (from requests<3,>=2->langchain_community) (2024.12.14)\n",
      "Requirement already satisfied: greenlet!=0.4.17 in c:\\users\\all users\\anaconda3\\lib\\site-packages (from SQLAlchemy<3,>=1.4->langchain_community) (3.0.1)\n",
      "Requirement already satisfied: anyio in c:\\users\\all users\\anaconda3\\lib\\site-packages (from httpx<1,>=0.23.0->langsmith<0.4,>=0.1.125->langchain_community) (4.2.0)\n",
      "Requirement already satisfied: httpcore==1.* in c:\\users\\all users\\anaconda3\\lib\\site-packages (from httpx<1,>=0.23.0->langsmith<0.4,>=0.1.125->langchain_community) (1.0.2)\n",
      "Requirement already satisfied: sniffio in c:\\users\\all users\\anaconda3\\lib\\site-packages (from httpx<1,>=0.23.0->langsmith<0.4,>=0.1.125->langchain_community) (1.3.0)\n",
      "Requirement already satisfied: h11<0.15,>=0.13 in c:\\users\\all users\\anaconda3\\lib\\site-packages (from httpcore==1.*->httpx<1,>=0.23.0->langsmith<0.4,>=0.1.125->langchain_community) (0.14.0)\n",
      "Requirement already satisfied: jsonpointer>=1.9 in c:\\users\\all users\\anaconda3\\lib\\site-packages (from jsonpatch<2.0,>=1.33->langchain-core<1.0.0,>=0.3.37->langchain_community) (2.1)\n",
      "Requirement already satisfied: annotated-types>=0.6.0 in c:\\users\\all users\\anaconda3\\lib\\site-packages (from pydantic<3.0.0,>=2.7.4->langchain<1.0.0,>=0.3.19->langchain_community) (0.6.0)\n",
      "Requirement already satisfied: pydantic-core==2.27.2 in c:\\users\\user\\appdata\\roaming\\python\\python312\\site-packages (from pydantic<3.0.0,>=2.7.4->langchain<1.0.0,>=0.3.19->langchain_community) (2.27.2)\n",
      "Requirement already satisfied: mypy-extensions>=0.3.0 in c:\\users\\all users\\anaconda3\\lib\\site-packages (from typing-inspect<1,>=0.4.0->dataclasses-json<0.7,>=0.5.7->langchain_community) (1.0.0)\n",
      "Defaulting to user installation because normal site-packages is not writeable\n",
      "Requirement already satisfied: pypdf in c:\\users\\user\\appdata\\roaming\\python\\python312\\site-packages (5.3.0)\n",
      "Defaulting to user installation because normal site-packages is not writeable\n",
      "Requirement already satisfied: faiss-cpu in c:\\users\\user\\appdata\\roaming\\python\\python312\\site-packages (1.10.0)\n",
      "Requirement already satisfied: numpy<3.0,>=1.25.0 in c:\\users\\all users\\anaconda3\\lib\\site-packages (from faiss-cpu) (1.26.4)\n",
      "Requirement already satisfied: packaging in c:\\users\\user\\appdata\\roaming\\python\\python312\\site-packages (from faiss-cpu) (24.2)\n",
      "Defaulting to user installation because normal site-packages is not writeable\n",
      "Requirement already satisfied: chromadb in c:\\users\\user\\appdata\\roaming\\python\\python312\\site-packages (0.6.3)\n",
      "Requirement already satisfied: build>=1.0.3 in c:\\users\\user\\appdata\\roaming\\python\\python312\\site-packages (from chromadb) (1.2.2.post1)\n",
      "Requirement already satisfied: pydantic>=1.9 in c:\\users\\user\\appdata\\roaming\\python\\python312\\site-packages (from chromadb) (2.10.6)\n",
      "Requirement already satisfied: chroma-hnswlib==0.7.6 in c:\\users\\user\\appdata\\roaming\\python\\python312\\site-packages (from chromadb) (0.7.6)\n",
      "Requirement already satisfied: fastapi>=0.95.2 in c:\\users\\user\\appdata\\roaming\\python\\python312\\site-packages (from chromadb) (0.115.8)\n",
      "Requirement already satisfied: uvicorn>=0.18.3 in c:\\users\\user\\appdata\\roaming\\python\\python312\\site-packages (from uvicorn[standard]>=0.18.3->chromadb) (0.34.0)\n",
      "Requirement already satisfied: numpy>=1.22.5 in c:\\users\\all users\\anaconda3\\lib\\site-packages (from chromadb) (1.26.4)\n",
      "Requirement already satisfied: posthog>=2.4.0 in c:\\users\\user\\appdata\\roaming\\python\\python312\\site-packages (from chromadb) (3.16.0)\n",
      "Requirement already satisfied: typing_extensions>=4.5.0 in c:\\users\\user\\appdata\\roaming\\python\\python312\\site-packages (from chromadb) (4.12.2)\n",
      "Requirement already satisfied: onnxruntime>=1.14.1 in c:\\users\\user\\appdata\\roaming\\python\\python312\\site-packages (from chromadb) (1.20.1)\n",
      "Requirement already satisfied: opentelemetry-api>=1.2.0 in c:\\users\\user\\appdata\\roaming\\python\\python312\\site-packages (from chromadb) (1.30.0)\n",
      "Requirement already satisfied: opentelemetry-exporter-otlp-proto-grpc>=1.2.0 in c:\\users\\user\\appdata\\roaming\\python\\python312\\site-packages (from chromadb) (1.30.0)\n",
      "Requirement already satisfied: opentelemetry-instrumentation-fastapi>=0.41b0 in c:\\users\\user\\appdata\\roaming\\python\\python312\\site-packages (from chromadb) (0.51b0)\n",
      "Requirement already satisfied: opentelemetry-sdk>=1.2.0 in c:\\users\\user\\appdata\\roaming\\python\\python312\\site-packages (from chromadb) (1.30.0)\n",
      "Requirement already satisfied: tokenizers>=0.13.2 in c:\\users\\user\\appdata\\roaming\\python\\python312\\site-packages (from chromadb) (0.21.0)\n",
      "Requirement already satisfied: pypika>=0.48.9 in c:\\users\\user\\appdata\\roaming\\python\\python312\\site-packages (from chromadb) (0.48.9)\n",
      "Requirement already satisfied: tqdm>=4.65.0 in c:\\users\\all users\\anaconda3\\lib\\site-packages (from chromadb) (4.66.5)\n",
      "Requirement already satisfied: overrides>=7.3.1 in c:\\users\\all users\\anaconda3\\lib\\site-packages (from chromadb) (7.4.0)\n",
      "Requirement already satisfied: importlib-resources in c:\\users\\user\\appdata\\roaming\\python\\python312\\site-packages (from chromadb) (6.5.2)\n",
      "Requirement already satisfied: grpcio>=1.58.0 in c:\\users\\user\\appdata\\roaming\\python\\python312\\site-packages (from chromadb) (1.70.0)\n",
      "Requirement already satisfied: bcrypt>=4.0.1 in c:\\users\\user\\appdata\\roaming\\python\\python312\\site-packages (from chromadb) (4.2.1)\n",
      "Requirement already satisfied: typer>=0.9.0 in c:\\users\\all users\\anaconda3\\lib\\site-packages (from chromadb) (0.9.0)\n",
      "Requirement already satisfied: kubernetes>=28.1.0 in c:\\users\\user\\appdata\\roaming\\python\\python312\\site-packages (from chromadb) (32.0.1)\n",
      "Requirement already satisfied: tenacity>=8.2.3 in c:\\users\\all users\\anaconda3\\lib\\site-packages (from chromadb) (8.2.3)\n",
      "Requirement already satisfied: PyYAML>=6.0.0 in c:\\users\\all users\\anaconda3\\lib\\site-packages (from chromadb) (6.0.1)\n",
      "Requirement already satisfied: mmh3>=4.0.1 in c:\\users\\user\\appdata\\roaming\\python\\python312\\site-packages (from chromadb) (4.1.0)\n",
      "Requirement already satisfied: orjson>=3.9.12 in c:\\users\\user\\appdata\\roaming\\python\\python312\\site-packages (from chromadb) (3.10.15)\n",
      "Requirement already satisfied: httpx>=0.27.0 in c:\\users\\all users\\anaconda3\\lib\\site-packages (from chromadb) (0.27.0)\n",
      "Requirement already satisfied: rich>=10.11.0 in c:\\users\\all users\\anaconda3\\lib\\site-packages (from chromadb) (13.7.1)\n",
      "Requirement already satisfied: packaging>=19.1 in c:\\users\\user\\appdata\\roaming\\python\\python312\\site-packages (from build>=1.0.3->chromadb) (24.2)\n",
      "Requirement already satisfied: pyproject_hooks in c:\\users\\user\\appdata\\roaming\\python\\python312\\site-packages (from build>=1.0.3->chromadb) (1.2.0)\n",
      "Requirement already satisfied: colorama in c:\\users\\user\\appdata\\roaming\\python\\python312\\site-packages (from build>=1.0.3->chromadb) (0.4.6)\n",
      "Requirement already satisfied: starlette<0.46.0,>=0.40.0 in c:\\users\\user\\appdata\\roaming\\python\\python312\\site-packages (from fastapi>=0.95.2->chromadb) (0.45.3)\n",
      "Requirement already satisfied: anyio in c:\\users\\all users\\anaconda3\\lib\\site-packages (from httpx>=0.27.0->chromadb) (4.2.0)\n",
      "Requirement already satisfied: certifi in c:\\users\\all users\\anaconda3\\lib\\site-packages (from httpx>=0.27.0->chromadb) (2024.12.14)\n",
      "Requirement already satisfied: httpcore==1.* in c:\\users\\all users\\anaconda3\\lib\\site-packages (from httpx>=0.27.0->chromadb) (1.0.2)\n",
      "Requirement already satisfied: idna in c:\\users\\all users\\anaconda3\\lib\\site-packages (from httpx>=0.27.0->chromadb) (3.7)\n",
      "Requirement already satisfied: sniffio in c:\\users\\all users\\anaconda3\\lib\\site-packages (from httpx>=0.27.0->chromadb) (1.3.0)\n",
      "Requirement already satisfied: h11<0.15,>=0.13 in c:\\users\\all users\\anaconda3\\lib\\site-packages (from httpcore==1.*->httpx>=0.27.0->chromadb) (0.14.0)\n",
      "Requirement already satisfied: six>=1.9.0 in c:\\users\\user\\appdata\\roaming\\python\\python312\\site-packages (from kubernetes>=28.1.0->chromadb) (1.17.0)\n",
      "Requirement already satisfied: python-dateutil>=2.5.3 in c:\\users\\user\\appdata\\roaming\\python\\python312\\site-packages (from kubernetes>=28.1.0->chromadb) (2.9.0.post0)\n",
      "Requirement already satisfied: google-auth>=1.0.1 in c:\\users\\user\\appdata\\roaming\\python\\python312\\site-packages (from kubernetes>=28.1.0->chromadb) (2.38.0)\n",
      "Requirement already satisfied: websocket-client!=0.40.0,!=0.41.*,!=0.42.*,>=0.32.0 in c:\\users\\all users\\anaconda3\\lib\\site-packages (from kubernetes>=28.1.0->chromadb) (1.8.0)\n",
      "Requirement already satisfied: requests in c:\\users\\all users\\anaconda3\\lib\\site-packages (from kubernetes>=28.1.0->chromadb) (2.32.3)\n",
      "Requirement already satisfied: requests-oauthlib in c:\\users\\user\\appdata\\roaming\\python\\python312\\site-packages (from kubernetes>=28.1.0->chromadb) (2.0.0)\n",
      "Requirement already satisfied: oauthlib>=3.2.2 in c:\\users\\user\\appdata\\roaming\\python\\python312\\site-packages (from kubernetes>=28.1.0->chromadb) (3.2.2)\n",
      "Requirement already satisfied: urllib3>=1.24.2 in c:\\users\\all users\\anaconda3\\lib\\site-packages (from kubernetes>=28.1.0->chromadb) (2.2.3)\n",
      "Requirement already satisfied: durationpy>=0.7 in c:\\users\\user\\appdata\\roaming\\python\\python312\\site-packages (from kubernetes>=28.1.0->chromadb) (0.9)\n",
      "Requirement already satisfied: coloredlogs in c:\\users\\user\\appdata\\roaming\\python\\python312\\site-packages (from onnxruntime>=1.14.1->chromadb) (15.0.1)\n",
      "Requirement already satisfied: flatbuffers in c:\\users\\user\\appdata\\roaming\\python\\python312\\site-packages (from onnxruntime>=1.14.1->chromadb) (25.2.10)\n",
      "Requirement already satisfied: protobuf in c:\\users\\user\\appdata\\roaming\\python\\python312\\site-packages (from onnxruntime>=1.14.1->chromadb) (5.29.3)\n",
      "Requirement already satisfied: sympy in c:\\users\\user\\appdata\\roaming\\python\\python312\\site-packages (from onnxruntime>=1.14.1->chromadb) (1.13.1)\n",
      "Requirement already satisfied: deprecated>=1.2.6 in c:\\users\\user\\appdata\\roaming\\python\\python312\\site-packages (from opentelemetry-api>=1.2.0->chromadb) (1.2.18)\n",
      "Requirement already satisfied: importlib-metadata<=8.5.0,>=6.0 in c:\\users\\all users\\anaconda3\\lib\\site-packages (from opentelemetry-api>=1.2.0->chromadb) (7.0.1)\n",
      "Requirement already satisfied: googleapis-common-protos~=1.52 in c:\\users\\user\\appdata\\roaming\\python\\python312\\site-packages (from opentelemetry-exporter-otlp-proto-grpc>=1.2.0->chromadb) (1.68.0)\n",
      "Requirement already satisfied: opentelemetry-exporter-otlp-proto-common==1.30.0 in c:\\users\\user\\appdata\\roaming\\python\\python312\\site-packages (from opentelemetry-exporter-otlp-proto-grpc>=1.2.0->chromadb) (1.30.0)\n",
      "Requirement already satisfied: opentelemetry-proto==1.30.0 in c:\\users\\user\\appdata\\roaming\\python\\python312\\site-packages (from opentelemetry-exporter-otlp-proto-grpc>=1.2.0->chromadb) (1.30.0)\n",
      "Requirement already satisfied: opentelemetry-instrumentation-asgi==0.51b0 in c:\\users\\user\\appdata\\roaming\\python\\python312\\site-packages (from opentelemetry-instrumentation-fastapi>=0.41b0->chromadb) (0.51b0)\n",
      "Requirement already satisfied: opentelemetry-instrumentation==0.51b0 in c:\\users\\user\\appdata\\roaming\\python\\python312\\site-packages (from opentelemetry-instrumentation-fastapi>=0.41b0->chromadb) (0.51b0)\n",
      "Requirement already satisfied: opentelemetry-semantic-conventions==0.51b0 in c:\\users\\user\\appdata\\roaming\\python\\python312\\site-packages (from opentelemetry-instrumentation-fastapi>=0.41b0->chromadb) (0.51b0)\n",
      "Requirement already satisfied: opentelemetry-util-http==0.51b0 in c:\\users\\user\\appdata\\roaming\\python\\python312\\site-packages (from opentelemetry-instrumentation-fastapi>=0.41b0->chromadb) (0.51b0)\n",
      "Requirement already satisfied: wrapt<2.0.0,>=1.0.0 in c:\\users\\all users\\anaconda3\\lib\\site-packages (from opentelemetry-instrumentation==0.51b0->opentelemetry-instrumentation-fastapi>=0.41b0->chromadb) (1.14.1)\n",
      "Requirement already satisfied: asgiref~=3.0 in c:\\users\\user\\appdata\\roaming\\python\\python312\\site-packages (from opentelemetry-instrumentation-asgi==0.51b0->opentelemetry-instrumentation-fastapi>=0.41b0->chromadb) (3.8.1)\n",
      "Requirement already satisfied: monotonic>=1.5 in c:\\users\\user\\appdata\\roaming\\python\\python312\\site-packages (from posthog>=2.4.0->chromadb) (1.6)\n",
      "Requirement already satisfied: backoff>=1.10.0 in c:\\users\\user\\appdata\\roaming\\python\\python312\\site-packages (from posthog>=2.4.0->chromadb) (2.2.1)\n",
      "Requirement already satisfied: distro>=1.5.0 in c:\\users\\all users\\anaconda3\\lib\\site-packages (from posthog>=2.4.0->chromadb) (1.9.0)\n",
      "Requirement already satisfied: annotated-types>=0.6.0 in c:\\users\\all users\\anaconda3\\lib\\site-packages (from pydantic>=1.9->chromadb) (0.6.0)\n",
      "Requirement already satisfied: pydantic-core==2.27.2 in c:\\users\\user\\appdata\\roaming\\python\\python312\\site-packages (from pydantic>=1.9->chromadb) (2.27.2)\n",
      "Requirement already satisfied: markdown-it-py>=2.2.0 in c:\\users\\all users\\anaconda3\\lib\\site-packages (from rich>=10.11.0->chromadb) (2.2.0)\n",
      "Requirement already satisfied: pygments<3.0.0,>=2.13.0 in c:\\users\\user\\appdata\\roaming\\python\\python312\\site-packages (from rich>=10.11.0->chromadb) (2.19.1)\n",
      "Requirement already satisfied: huggingface-hub<1.0,>=0.16.4 in c:\\users\\user\\appdata\\roaming\\python\\python312\\site-packages (from tokenizers>=0.13.2->chromadb) (0.29.1)\n",
      "Requirement already satisfied: click<9.0.0,>=7.1.1 in c:\\users\\all users\\anaconda3\\lib\\site-packages (from typer>=0.9.0->chromadb) (8.1.7)\n",
      "Requirement already satisfied: httptools>=0.6.3 in c:\\users\\user\\appdata\\roaming\\python\\python312\\site-packages (from uvicorn[standard]>=0.18.3->chromadb) (0.6.4)\n",
      "Requirement already satisfied: python-dotenv>=0.13 in c:\\users\\user\\appdata\\roaming\\python\\python312\\site-packages (from uvicorn[standard]>=0.18.3->chromadb) (1.0.1)\n",
      "Requirement already satisfied: watchfiles>=0.13 in c:\\users\\user\\appdata\\roaming\\python\\python312\\site-packages (from uvicorn[standard]>=0.18.3->chromadb) (1.0.4)\n",
      "Requirement already satisfied: websockets>=10.4 in c:\\users\\user\\appdata\\roaming\\python\\python312\\site-packages (from uvicorn[standard]>=0.18.3->chromadb) (15.0)\n",
      "Requirement already satisfied: cachetools<6.0,>=2.0.0 in c:\\users\\all users\\anaconda3\\lib\\site-packages (from google-auth>=1.0.1->kubernetes>=28.1.0->chromadb) (5.3.3)\n",
      "Requirement already satisfied: pyasn1-modules>=0.2.1 in c:\\users\\all users\\anaconda3\\lib\\site-packages (from google-auth>=1.0.1->kubernetes>=28.1.0->chromadb) (0.2.8)\n",
      "Requirement already satisfied: rsa<5,>=3.1.4 in c:\\users\\user\\appdata\\roaming\\python\\python312\\site-packages (from google-auth>=1.0.1->kubernetes>=28.1.0->chromadb) (4.9)\n",
      "Requirement already satisfied: filelock in c:\\users\\all users\\anaconda3\\lib\\site-packages (from huggingface-hub<1.0,>=0.16.4->tokenizers>=0.13.2->chromadb) (3.13.1)\n",
      "Requirement already satisfied: fsspec>=2023.5.0 in c:\\users\\all users\\anaconda3\\lib\\site-packages (from huggingface-hub<1.0,>=0.16.4->tokenizers>=0.13.2->chromadb) (2024.6.1)\n",
      "Requirement already satisfied: zipp>=0.5 in c:\\users\\all users\\anaconda3\\lib\\site-packages (from importlib-metadata<=8.5.0,>=6.0->opentelemetry-api>=1.2.0->chromadb) (3.17.0)\n",
      "Requirement already satisfied: mdurl~=0.1 in c:\\users\\all users\\anaconda3\\lib\\site-packages (from markdown-it-py>=2.2.0->rich>=10.11.0->chromadb) (0.1.0)\n",
      "Requirement already satisfied: charset-normalizer<4,>=2 in c:\\users\\all users\\anaconda3\\lib\\site-packages (from requests->kubernetes>=28.1.0->chromadb) (3.3.2)\n",
      "Requirement already satisfied: humanfriendly>=9.1 in c:\\users\\user\\appdata\\roaming\\python\\python312\\site-packages (from coloredlogs->onnxruntime>=1.14.1->chromadb) (10.0)\n",
      "Requirement already satisfied: mpmath<1.4,>=1.1.0 in c:\\users\\all users\\anaconda3\\lib\\site-packages (from sympy->onnxruntime>=1.14.1->chromadb) (1.3.0)\n",
      "Requirement already satisfied: pyreadline3 in c:\\users\\user\\appdata\\roaming\\python\\python312\\site-packages (from humanfriendly>=9.1->coloredlogs->onnxruntime>=1.14.1->chromadb) (3.5.4)\n",
      "Requirement already satisfied: pyasn1<0.5.0,>=0.4.6 in c:\\users\\all users\\anaconda3\\lib\\site-packages (from pyasn1-modules>=0.2.1->google-auth>=1.0.1->kubernetes>=28.1.0->chromadb) (0.4.8)\n",
      "Defaulting to user installation because normal site-packages is not writeable\n",
      "Requirement already satisfied: langchain-teddynote in c:\\users\\user\\appdata\\roaming\\python\\python312\\site-packages (0.3.42)\n",
      "Requirement already satisfied: langchain in c:\\users\\user\\appdata\\roaming\\python\\python312\\site-packages (from langchain-teddynote) (0.3.19)\n",
      "Requirement already satisfied: langgraph in c:\\users\\user\\appdata\\roaming\\python\\python312\\site-packages (from langchain-teddynote) (0.3.0)\n",
      "Requirement already satisfied: kiwipiepy in c:\\users\\user\\appdata\\roaming\\python\\python312\\site-packages (from langchain-teddynote) (0.20.3)\n",
      "Requirement already satisfied: rank-bm25 in c:\\users\\user\\appdata\\roaming\\python\\python312\\site-packages (from langchain-teddynote) (0.2.2)\n",
      "Requirement already satisfied: pinecone-client[grpc] in c:\\users\\user\\appdata\\roaming\\python\\python312\\site-packages (from langchain-teddynote) (6.0.0)\n",
      "Requirement already satisfied: pinecone-text in c:\\users\\user\\appdata\\roaming\\python\\python312\\site-packages (from langchain-teddynote) (0.9.0)\n",
      "Requirement already satisfied: olefile in c:\\users\\user\\appdata\\roaming\\python\\python312\\site-packages (from langchain-teddynote) (0.47)\n",
      "Requirement already satisfied: pdf2image in c:\\users\\user\\appdata\\roaming\\python\\python312\\site-packages (from langchain-teddynote) (1.17.0)\n",
      "Requirement already satisfied: openai in c:\\users\\user\\appdata\\roaming\\python\\python312\\site-packages (from langchain-teddynote) (1.63.2)\n",
      "Requirement already satisfied: anthropic in c:\\users\\user\\appdata\\roaming\\python\\python312\\site-packages (from langchain-teddynote) (0.47.2)\n",
      "Requirement already satisfied: deepl in c:\\users\\user\\appdata\\roaming\\python\\python312\\site-packages (from langchain-teddynote) (1.21.0)\n",
      "Requirement already satisfied: feedparser in c:\\users\\user\\appdata\\roaming\\python\\python312\\site-packages (from langchain-teddynote) (6.0.11)\n",
      "Requirement already satisfied: tavily-python in c:\\users\\user\\appdata\\roaming\\python\\python312\\site-packages (from langchain-teddynote) (0.5.1)\n",
      "Requirement already satisfied: pandas in c:\\users\\all users\\anaconda3\\lib\\site-packages (from langchain-teddynote) (2.2.2)\n",
      "Requirement already satisfied: anyio<5,>=3.5.0 in c:\\users\\all users\\anaconda3\\lib\\site-packages (from anthropic->langchain-teddynote) (4.2.0)\n",
      "Requirement already satisfied: distro<2,>=1.7.0 in c:\\users\\all users\\anaconda3\\lib\\site-packages (from anthropic->langchain-teddynote) (1.9.0)\n",
      "Requirement already satisfied: httpx<1,>=0.23.0 in c:\\users\\all users\\anaconda3\\lib\\site-packages (from anthropic->langchain-teddynote) (0.27.0)\n",
      "Requirement already satisfied: jiter<1,>=0.4.0 in c:\\users\\user\\appdata\\roaming\\python\\python312\\site-packages (from anthropic->langchain-teddynote) (0.8.2)\n",
      "Requirement already satisfied: pydantic<3,>=1.9.0 in c:\\users\\user\\appdata\\roaming\\python\\python312\\site-packages (from anthropic->langchain-teddynote) (2.10.6)\n",
      "Requirement already satisfied: sniffio in c:\\users\\all users\\anaconda3\\lib\\site-packages (from anthropic->langchain-teddynote) (1.3.0)\n",
      "Requirement already satisfied: typing-extensions<5,>=4.10 in c:\\users\\user\\appdata\\roaming\\python\\python312\\site-packages (from anthropic->langchain-teddynote) (4.12.2)\n",
      "Requirement already satisfied: requests<3,>=2 in c:\\users\\all users\\anaconda3\\lib\\site-packages (from deepl->langchain-teddynote) (2.32.3)\n",
      "Requirement already satisfied: sgmllib3k in c:\\users\\user\\appdata\\roaming\\python\\python312\\site-packages (from feedparser->langchain-teddynote) (1.0.0)\n",
      "Requirement already satisfied: kiwipiepy_model<0.21,>=0.20 in c:\\users\\user\\appdata\\roaming\\python\\python312\\site-packages (from kiwipiepy->langchain-teddynote) (0.20.0)\n",
      "Requirement already satisfied: numpy in c:\\users\\all users\\anaconda3\\lib\\site-packages (from kiwipiepy->langchain-teddynote) (1.26.4)\n",
      "Requirement already satisfied: tqdm in c:\\users\\all users\\anaconda3\\lib\\site-packages (from kiwipiepy->langchain-teddynote) (4.66.5)\n",
      "Requirement already satisfied: langchain-core<1.0.0,>=0.3.35 in c:\\users\\user\\appdata\\roaming\\python\\python312\\site-packages (from langchain->langchain-teddynote) (0.3.37)\n",
      "Requirement already satisfied: langchain-text-splitters<1.0.0,>=0.3.6 in c:\\users\\user\\appdata\\roaming\\python\\python312\\site-packages (from langchain->langchain-teddynote) (0.3.6)\n",
      "Requirement already satisfied: langsmith<0.4,>=0.1.17 in c:\\users\\user\\appdata\\roaming\\python\\python312\\site-packages (from langchain->langchain-teddynote) (0.3.9)\n",
      "Requirement already satisfied: SQLAlchemy<3,>=1.4 in c:\\users\\all users\\anaconda3\\lib\\site-packages (from langchain->langchain-teddynote) (2.0.34)\n",
      "Requirement already satisfied: PyYAML>=5.3 in c:\\users\\all users\\anaconda3\\lib\\site-packages (from langchain->langchain-teddynote) (6.0.1)\n",
      "Requirement already satisfied: aiohttp<4.0.0,>=3.8.3 in c:\\users\\all users\\anaconda3\\lib\\site-packages (from langchain->langchain-teddynote) (3.10.5)\n",
      "Requirement already satisfied: tenacity!=8.4.0,<10,>=8.1.0 in c:\\users\\all users\\anaconda3\\lib\\site-packages (from langchain->langchain-teddynote) (8.2.3)\n",
      "Requirement already satisfied: langgraph-checkpoint<3.0.0,>=2.0.10 in c:\\users\\user\\appdata\\roaming\\python\\python312\\site-packages (from langgraph->langchain-teddynote) (2.0.16)\n",
      "Requirement already satisfied: langgraph-sdk<0.2.0,>=0.1.42 in c:\\users\\user\\appdata\\roaming\\python\\python312\\site-packages (from langgraph->langchain-teddynote) (0.1.53)\n",
      "Requirement already satisfied: python-dateutil>=2.8.2 in c:\\users\\user\\appdata\\roaming\\python\\python312\\site-packages (from pandas->langchain-teddynote) (2.9.0.post0)\n",
      "Requirement already satisfied: pytz>=2020.1 in c:\\users\\all users\\anaconda3\\lib\\site-packages (from pandas->langchain-teddynote) (2024.1)\n",
      "Requirement already satisfied: tzdata>=2022.7 in c:\\users\\all users\\anaconda3\\lib\\site-packages (from pandas->langchain-teddynote) (2023.3)\n",
      "Requirement already satisfied: pillow in c:\\users\\all users\\anaconda3\\lib\\site-packages (from pdf2image->langchain-teddynote) (10.4.0)\n",
      "Requirement already satisfied: certifi>=2019.11.17 in c:\\users\\all users\\anaconda3\\lib\\site-packages (from pinecone-client[grpc]->langchain-teddynote) (2024.12.14)\n",
      "Requirement already satisfied: googleapis-common-protos>=1.66.0 in c:\\users\\user\\appdata\\roaming\\python\\python312\\site-packages (from pinecone-client[grpc]->langchain-teddynote) (1.68.0)\n",
      "Requirement already satisfied: grpcio>=1.59.0 in c:\\users\\user\\appdata\\roaming\\python\\python312\\site-packages (from pinecone-client[grpc]->langchain-teddynote) (1.70.0)\n",
      "Requirement already satisfied: lz4>=3.1.3 in c:\\users\\all users\\anaconda3\\lib\\site-packages (from pinecone-client[grpc]->langchain-teddynote) (4.3.2)\n",
      "Requirement already satisfied: pinecone-plugin-interface<0.0.8,>=0.0.7 in c:\\users\\user\\appdata\\roaming\\python\\python312\\site-packages (from pinecone-client[grpc]->langchain-teddynote) (0.0.7)\n",
      "Requirement already satisfied: protobuf<6.0,>=5.29 in c:\\users\\user\\appdata\\roaming\\python\\python312\\site-packages (from pinecone-client[grpc]->langchain-teddynote) (5.29.3)\n",
      "Requirement already satisfied: protoc-gen-openapiv2<0.0.2,>=0.0.1 in c:\\users\\user\\appdata\\roaming\\python\\python312\\site-packages (from pinecone-client[grpc]->langchain-teddynote) (0.0.1)\n",
      "Requirement already satisfied: urllib3>=1.26.5 in c:\\users\\all users\\anaconda3\\lib\\site-packages (from pinecone-client[grpc]->langchain-teddynote) (2.2.3)\n",
      "Requirement already satisfied: mmh3<5.0.0,>=4.1.0 in c:\\users\\user\\appdata\\roaming\\python\\python312\\site-packages (from pinecone-text->langchain-teddynote) (4.1.0)\n",
      "Requirement already satisfied: nltk<4.0.0,>=3.6.5 in c:\\users\\all users\\anaconda3\\lib\\site-packages (from pinecone-text->langchain-teddynote) (3.9.1)\n",
      "Requirement already satisfied: python-dotenv<2.0.0,>=1.0.1 in c:\\users\\user\\appdata\\roaming\\python\\python312\\site-packages (from pinecone-text->langchain-teddynote) (1.0.1)\n",
      "Requirement already satisfied: types-requests<3.0.0,>=2.25.0 in c:\\users\\user\\appdata\\roaming\\python\\python312\\site-packages (from pinecone-text->langchain-teddynote) (2.32.0.20241016)\n",
      "Requirement already satisfied: wget<4.0,>=3.2 in c:\\users\\user\\appdata\\roaming\\python\\python312\\site-packages (from pinecone-text->langchain-teddynote) (3.2)\n",
      "Requirement already satisfied: tiktoken>=0.5.1 in c:\\users\\user\\appdata\\roaming\\python\\python312\\site-packages (from tavily-python->langchain-teddynote) (0.9.0)\n",
      "Requirement already satisfied: aiohappyeyeballs>=2.3.0 in c:\\users\\all users\\anaconda3\\lib\\site-packages (from aiohttp<4.0.0,>=3.8.3->langchain->langchain-teddynote) (2.4.0)\n",
      "Requirement already satisfied: aiosignal>=1.1.2 in c:\\users\\all users\\anaconda3\\lib\\site-packages (from aiohttp<4.0.0,>=3.8.3->langchain->langchain-teddynote) (1.2.0)\n",
      "Requirement already satisfied: attrs>=17.3.0 in c:\\users\\all users\\anaconda3\\lib\\site-packages (from aiohttp<4.0.0,>=3.8.3->langchain->langchain-teddynote) (23.1.0)\n",
      "Requirement already satisfied: frozenlist>=1.1.1 in c:\\users\\all users\\anaconda3\\lib\\site-packages (from aiohttp<4.0.0,>=3.8.3->langchain->langchain-teddynote) (1.4.0)\n",
      "Requirement already satisfied: multidict<7.0,>=4.5 in c:\\users\\all users\\anaconda3\\lib\\site-packages (from aiohttp<4.0.0,>=3.8.3->langchain->langchain-teddynote) (6.0.4)\n",
      "Requirement already satisfied: yarl<2.0,>=1.0 in c:\\users\\all users\\anaconda3\\lib\\site-packages (from aiohttp<4.0.0,>=3.8.3->langchain->langchain-teddynote) (1.11.0)\n",
      "Requirement already satisfied: idna>=2.8 in c:\\users\\all users\\anaconda3\\lib\\site-packages (from anyio<5,>=3.5.0->anthropic->langchain-teddynote) (3.7)\n",
      "Requirement already satisfied: httpcore==1.* in c:\\users\\all users\\anaconda3\\lib\\site-packages (from httpx<1,>=0.23.0->anthropic->langchain-teddynote) (1.0.2)\n",
      "Requirement already satisfied: h11<0.15,>=0.13 in c:\\users\\all users\\anaconda3\\lib\\site-packages (from httpcore==1.*->httpx<1,>=0.23.0->anthropic->langchain-teddynote) (0.14.0)\n",
      "Requirement already satisfied: jsonpatch<2.0,>=1.33 in c:\\users\\all users\\anaconda3\\lib\\site-packages (from langchain-core<1.0.0,>=0.3.35->langchain->langchain-teddynote) (1.33)\n",
      "Requirement already satisfied: packaging<25,>=23.2 in c:\\users\\user\\appdata\\roaming\\python\\python312\\site-packages (from langchain-core<1.0.0,>=0.3.35->langchain->langchain-teddynote) (24.2)\n",
      "Requirement already satisfied: msgpack<2.0.0,>=1.1.0 in c:\\users\\user\\appdata\\roaming\\python\\python312\\site-packages (from langgraph-checkpoint<3.0.0,>=2.0.10->langgraph->langchain-teddynote) (1.1.0)\n",
      "Requirement already satisfied: orjson>=3.10.1 in c:\\users\\user\\appdata\\roaming\\python\\python312\\site-packages (from langgraph-sdk<0.2.0,>=0.1.42->langgraph->langchain-teddynote) (3.10.15)\n",
      "Requirement already satisfied: requests-toolbelt<2.0.0,>=1.0.0 in c:\\users\\all users\\anaconda3\\lib\\site-packages (from langsmith<0.4,>=0.1.17->langchain->langchain-teddynote) (1.0.0)\n",
      "Requirement already satisfied: zstandard<0.24.0,>=0.23.0 in c:\\users\\all users\\anaconda3\\lib\\site-packages (from langsmith<0.4,>=0.1.17->langchain->langchain-teddynote) (0.23.0)\n",
      "Requirement already satisfied: click in c:\\users\\all users\\anaconda3\\lib\\site-packages (from nltk<4.0.0,>=3.6.5->pinecone-text->langchain-teddynote) (8.1.7)\n",
      "Requirement already satisfied: joblib in c:\\users\\all users\\anaconda3\\lib\\site-packages (from nltk<4.0.0,>=3.6.5->pinecone-text->langchain-teddynote) (1.4.2)\n",
      "Requirement already satisfied: regex>=2021.8.3 in c:\\users\\all users\\anaconda3\\lib\\site-packages (from nltk<4.0.0,>=3.6.5->pinecone-text->langchain-teddynote) (2024.9.11)\n",
      "Requirement already satisfied: annotated-types>=0.6.0 in c:\\users\\all users\\anaconda3\\lib\\site-packages (from pydantic<3,>=1.9.0->anthropic->langchain-teddynote) (0.6.0)\n",
      "Requirement already satisfied: pydantic-core==2.27.2 in c:\\users\\user\\appdata\\roaming\\python\\python312\\site-packages (from pydantic<3,>=1.9.0->anthropic->langchain-teddynote) (2.27.2)\n",
      "Requirement already satisfied: six>=1.5 in c:\\users\\user\\appdata\\roaming\\python\\python312\\site-packages (from python-dateutil>=2.8.2->pandas->langchain-teddynote) (1.17.0)\n",
      "Requirement already satisfied: charset-normalizer<4,>=2 in c:\\users\\all users\\anaconda3\\lib\\site-packages (from requests<3,>=2->deepl->langchain-teddynote) (3.3.2)\n",
      "Requirement already satisfied: greenlet!=0.4.17 in c:\\users\\all users\\anaconda3\\lib\\site-packages (from SQLAlchemy<3,>=1.4->langchain->langchain-teddynote) (3.0.1)\n",
      "Requirement already satisfied: colorama in c:\\users\\user\\appdata\\roaming\\python\\python312\\site-packages (from tqdm->kiwipiepy->langchain-teddynote) (0.4.6)\n",
      "Requirement already satisfied: jsonpointer>=1.9 in c:\\users\\all users\\anaconda3\\lib\\site-packages (from jsonpatch<2.0,>=1.33->langchain-core<1.0.0,>=0.3.35->langchain->langchain-teddynote) (2.1)\n",
      "Defaulting to user installation because normal site-packages is not writeable\n",
      "Requirement already satisfied: pandas in c:\\users\\all users\\anaconda3\\lib\\site-packages (2.2.2)\n",
      "Requirement already satisfied: numpy>=1.26.0 in c:\\users\\all users\\anaconda3\\lib\\site-packages (from pandas) (1.26.4)\n",
      "Requirement already satisfied: python-dateutil>=2.8.2 in c:\\users\\user\\appdata\\roaming\\python\\python312\\site-packages (from pandas) (2.9.0.post0)\n",
      "Requirement already satisfied: pytz>=2020.1 in c:\\users\\all users\\anaconda3\\lib\\site-packages (from pandas) (2024.1)\n",
      "Requirement already satisfied: tzdata>=2022.7 in c:\\users\\all users\\anaconda3\\lib\\site-packages (from pandas) (2023.3)\n",
      "Requirement already satisfied: six>=1.5 in c:\\users\\user\\appdata\\roaming\\python\\python312\\site-packages (from python-dateutil>=2.8.2->pandas) (1.17.0)\n",
      "Defaulting to user installation because normal site-packages is not writeable\n",
      "Collecting googletrans\n",
      "  Using cached googletrans-4.0.2-py3-none-any.whl.metadata (10 kB)\n",
      "Collecting httpx>=0.27.2 (from httpx[http2]>=0.27.2->googletrans)\n",
      "  Using cached httpx-0.28.1-py3-none-any.whl.metadata (7.1 kB)\n",
      "Requirement already satisfied: anyio in c:\\users\\all users\\anaconda3\\lib\\site-packages (from httpx>=0.27.2->httpx[http2]>=0.27.2->googletrans) (4.2.0)\n",
      "Requirement already satisfied: certifi in c:\\users\\all users\\anaconda3\\lib\\site-packages (from httpx>=0.27.2->httpx[http2]>=0.27.2->googletrans) (2024.12.14)\n",
      "Requirement already satisfied: httpcore==1.* in c:\\users\\all users\\anaconda3\\lib\\site-packages (from httpx>=0.27.2->httpx[http2]>=0.27.2->googletrans) (1.0.2)\n",
      "Requirement already satisfied: idna in c:\\users\\all users\\anaconda3\\lib\\site-packages (from httpx>=0.27.2->httpx[http2]>=0.27.2->googletrans) (3.7)\n",
      "Requirement already satisfied: h11<0.15,>=0.13 in c:\\users\\all users\\anaconda3\\lib\\site-packages (from httpcore==1.*->httpx>=0.27.2->httpx[http2]>=0.27.2->googletrans) (0.14.0)\n",
      "Collecting h2<5,>=3 (from httpx[http2]>=0.27.2->googletrans)\n",
      "  Using cached h2-4.2.0-py3-none-any.whl.metadata (5.1 kB)\n",
      "Collecting hyperframe<7,>=6.1 (from h2<5,>=3->httpx[http2]>=0.27.2->googletrans)\n",
      "  Using cached hyperframe-6.1.0-py3-none-any.whl.metadata (4.3 kB)\n",
      "Collecting hpack<5,>=4.1 (from h2<5,>=3->httpx[http2]>=0.27.2->googletrans)\n",
      "  Using cached hpack-4.1.0-py3-none-any.whl.metadata (4.6 kB)\n",
      "Requirement already satisfied: sniffio>=1.1 in c:\\users\\all users\\anaconda3\\lib\\site-packages (from anyio->httpx>=0.27.2->httpx[http2]>=0.27.2->googletrans) (1.3.0)\n",
      "Using cached googletrans-4.0.2-py3-none-any.whl (18 kB)\n",
      "Using cached httpx-0.28.1-py3-none-any.whl (73 kB)\n",
      "Using cached h2-4.2.0-py3-none-any.whl (60 kB)\n",
      "Using cached hpack-4.1.0-py3-none-any.whl (34 kB)\n",
      "Using cached hyperframe-6.1.0-py3-none-any.whl (13 kB)\n",
      "Installing collected packages: hyperframe, hpack, httpx, h2, googletrans\n",
      "Successfully installed googletrans-4.0.2 h2-4.2.0 hpack-4.1.0 httpx-0.28.1 hyperframe-6.1.0\n"
     ]
    },
    {
     "name": "stderr",
     "output_type": "stream",
     "text": [
      "  WARNING: The script httpx.exe is installed in 'C:\\Users\\user\\AppData\\Roaming\\Python\\Python312\\Scripts' which is not on PATH.\n",
      "  Consider adding this directory to PATH or, if you prefer to suppress this warning, use --no-warn-script-location.\n",
      "  WARNING: The script translate.exe is installed in 'C:\\Users\\user\\AppData\\Roaming\\Python\\Python312\\Scripts' which is not on PATH.\n",
      "  Consider adding this directory to PATH or, if you prefer to suppress this warning, use --no-warn-script-location.\n"
     ]
    },
    {
     "name": "stdout",
     "output_type": "stream",
     "text": [
      "Defaulting to user installation because normal site-packages is not writeable\n",
      "Requirement already satisfied: pandas in c:\\users\\all users\\anaconda3\\lib\\site-packages (2.2.2)\n",
      "Collecting googletrans==4.0.0-rc1\n",
      "  Using cached googletrans-4.0.0rc1-py3-none-any.whl\n",
      "Collecting httpx==0.13.3 (from googletrans==4.0.0-rc1)\n",
      "  Using cached httpx-0.13.3-py3-none-any.whl.metadata (25 kB)\n",
      "Requirement already satisfied: certifi in c:\\users\\all users\\anaconda3\\lib\\site-packages (from httpx==0.13.3->googletrans==4.0.0-rc1) (2024.12.14)\n",
      "Collecting hstspreload (from httpx==0.13.3->googletrans==4.0.0-rc1)\n",
      "  Using cached hstspreload-2025.1.1-py3-none-any.whl.metadata (2.1 kB)\n",
      "Requirement already satisfied: sniffio in c:\\users\\all users\\anaconda3\\lib\\site-packages (from httpx==0.13.3->googletrans==4.0.0-rc1) (1.3.0)\n",
      "Collecting chardet==3.* (from httpx==0.13.3->googletrans==4.0.0-rc1)\n",
      "  Using cached chardet-3.0.4-py2.py3-none-any.whl.metadata (3.2 kB)\n",
      "Collecting idna==2.* (from httpx==0.13.3->googletrans==4.0.0-rc1)\n",
      "  Using cached idna-2.10-py2.py3-none-any.whl.metadata (9.1 kB)\n",
      "Collecting rfc3986<2,>=1.3 (from httpx==0.13.3->googletrans==4.0.0-rc1)\n",
      "  Using cached rfc3986-1.5.0-py2.py3-none-any.whl.metadata (6.5 kB)\n",
      "Collecting httpcore==0.9.* (from httpx==0.13.3->googletrans==4.0.0-rc1)\n",
      "  Using cached httpcore-0.9.1-py3-none-any.whl.metadata (4.6 kB)\n",
      "Collecting h11<0.10,>=0.8 (from httpcore==0.9.*->httpx==0.13.3->googletrans==4.0.0-rc1)\n",
      "  Using cached h11-0.9.0-py2.py3-none-any.whl.metadata (8.1 kB)\n",
      "Collecting h2==3.* (from httpcore==0.9.*->httpx==0.13.3->googletrans==4.0.0-rc1)\n",
      "  Using cached h2-3.2.0-py2.py3-none-any.whl.metadata (32 kB)\n",
      "Collecting hyperframe<6,>=5.2.0 (from h2==3.*->httpcore==0.9.*->httpx==0.13.3->googletrans==4.0.0-rc1)\n",
      "  Using cached hyperframe-5.2.0-py2.py3-none-any.whl.metadata (7.2 kB)\n",
      "Collecting hpack<4,>=3.0 (from h2==3.*->httpcore==0.9.*->httpx==0.13.3->googletrans==4.0.0-rc1)\n",
      "  Using cached hpack-3.0.0-py2.py3-none-any.whl.metadata (7.0 kB)\n",
      "Requirement already satisfied: numpy>=1.26.0 in c:\\users\\all users\\anaconda3\\lib\\site-packages (from pandas) (1.26.4)\n",
      "Requirement already satisfied: python-dateutil>=2.8.2 in c:\\users\\user\\appdata\\roaming\\python\\python312\\site-packages (from pandas) (2.9.0.post0)\n",
      "Requirement already satisfied: pytz>=2020.1 in c:\\users\\all users\\anaconda3\\lib\\site-packages (from pandas) (2024.1)\n",
      "Requirement already satisfied: tzdata>=2022.7 in c:\\users\\all users\\anaconda3\\lib\\site-packages (from pandas) (2023.3)\n",
      "Requirement already satisfied: six>=1.5 in c:\\users\\user\\appdata\\roaming\\python\\python312\\site-packages (from python-dateutil>=2.8.2->pandas) (1.17.0)\n",
      "Using cached httpx-0.13.3-py3-none-any.whl (55 kB)\n",
      "Using cached chardet-3.0.4-py2.py3-none-any.whl (133 kB)\n",
      "Using cached httpcore-0.9.1-py3-none-any.whl (42 kB)\n",
      "Using cached idna-2.10-py2.py3-none-any.whl (58 kB)\n",
      "Using cached h2-3.2.0-py2.py3-none-any.whl (65 kB)\n",
      "Using cached rfc3986-1.5.0-py2.py3-none-any.whl (31 kB)\n",
      "Using cached hstspreload-2025.1.1-py3-none-any.whl (1.3 MB)\n",
      "Using cached h11-0.9.0-py2.py3-none-any.whl (53 kB)\n",
      "Using cached hpack-3.0.0-py2.py3-none-any.whl (38 kB)\n",
      "Using cached hyperframe-5.2.0-py2.py3-none-any.whl (12 kB)\n",
      "Installing collected packages: rfc3986, hyperframe, hpack, h11, chardet, idna, hstspreload, h2, httpcore, httpx, googletrans\n",
      "  Attempting uninstall: hyperframe\n",
      "    Found existing installation: hyperframe 6.1.0\n",
      "    Uninstalling hyperframe-6.1.0:\n",
      "      Successfully uninstalled hyperframe-6.1.0\n",
      "  Attempting uninstall: hpack\n",
      "    Found existing installation: hpack 4.1.0\n",
      "    Uninstalling hpack-4.1.0:\n",
      "      Successfully uninstalled hpack-4.1.0\n",
      "  Attempting uninstall: h2\n",
      "    Found existing installation: h2 4.2.0\n",
      "    Uninstalling h2-4.2.0:\n",
      "      Successfully uninstalled h2-4.2.0\n",
      "  Attempting uninstall: httpx\n",
      "    Found existing installation: httpx 0.28.1\n",
      "    Uninstalling httpx-0.28.1:\n",
      "      Successfully uninstalled httpx-0.28.1\n",
      "  Attempting uninstall: googletrans\n",
      "    Found existing installation: googletrans 4.0.2\n",
      "    Uninstalling googletrans-4.0.2:\n",
      "      Successfully uninstalled googletrans-4.0.2\n",
      "Successfully installed chardet-3.0.4 googletrans-4.0.0rc1 h11-0.9.0 h2-3.2.0 hpack-3.0.0 hstspreload-2025.1.1 httpcore-0.9.1 httpx-0.13.3 hyperframe-5.2.0 idna-2.10 rfc3986-1.5.0\n"
     ]
    },
    {
     "name": "stderr",
     "output_type": "stream",
     "text": [
      "  WARNING: The script chardetect.exe is installed in 'C:\\Users\\user\\AppData\\Roaming\\Python\\Python312\\Scripts' which is not on PATH.\n",
      "  Consider adding this directory to PATH or, if you prefer to suppress this warning, use --no-warn-script-location.\n",
      "ERROR: pip's dependency resolver does not currently take into account all the packages that are installed. This behaviour is the source of the following dependency conflicts.\n",
      "anthropic 0.47.2 requires httpx<1,>=0.23.0, but you have httpx 0.13.3 which is incompatible.\n",
      "chromadb 0.6.3 requires httpx>=0.27.0, but you have httpx 0.13.3 which is incompatible.\n",
      "langgraph-sdk 0.1.53 requires httpx>=0.25.2, but you have httpx 0.13.3 which is incompatible.\n",
      "langsmith 0.3.9 requires httpx<1,>=0.23.0, but you have httpx 0.13.3 which is incompatible.\n",
      "ollama 0.4.7 requires httpx<0.29,>=0.27, but you have httpx 0.13.3 which is incompatible.\n",
      "openai 1.63.2 requires httpx<1,>=0.23.0, but you have httpx 0.13.3 which is incompatible.\n",
      "jupyterlab 4.2.5 requires httpx>=0.25.0, but you have httpx 0.13.3 which is incompatible.\n"
     ]
    }
   ],
   "execution_count": 25
  },
  {
   "metadata": {
    "ExecuteTime": {
     "end_time": "2025-02-28T00:46:20.910757Z",
     "start_time": "2025-02-28T00:46:18.918862Z"
    }
   },
   "cell_type": "code",
   "source": [
    "from dotenv import load_dotenv\n",
    "import os\n",
    "from langchain_teddynote import logging\n",
    "# import openai\n",
    "from langchain_community.document_loaders import PyPDFLoader\n",
    "from langchain.text_splitter import CharacterTextSplitter\n",
    "from langchain_ollama import ChatOllama\n",
    "from langchain_ollama import OllamaEmbeddings\n",
    "# from langchain.embeddings import HuggingFaceEmbeddings\n",
    "from langchain_text_splitters import RecursiveCharacterTextSplitter, TextSplitter\n",
    "from langchain.indexes.vectorstore import VectorStoreIndexWrapper\n",
    "from langchain.indexes.vectorstore import VectorstoreIndexCreator\n",
    "from langchain.vectorstores import Chroma\n",
    "import time\n",
    "import re\n",
    "from translate import Translator"
   ],
   "id": "b2223d2220cf52aa",
   "outputs": [],
   "execution_count": 5
  },
  {
   "metadata": {
    "ExecuteTime": {
     "end_time": "2025-02-28T00:46:20.924224Z",
     "start_time": "2025-02-28T00:46:20.917837Z"
    }
   },
   "cell_type": "code",
   "source": [
    "load_dotenv()\n",
    "logging.langsmith(\"mammothLangchain\", set_enable=True)"
   ],
   "id": "67289ac66dbe01f4",
   "outputs": [
    {
     "name": "stdout",
     "output_type": "stream",
     "text": [
      "LangSmith 추적을 시작합니다.\n",
      "[프로젝트명]\n",
      "mammothLangchain\n"
     ]
    }
   ],
   "execution_count": 6
  },
  {
   "metadata": {
    "ExecuteTime": {
     "end_time": "2025-02-28T00:46:20.939047Z",
     "start_time": "2025-02-28T00:46:20.935609Z"
    }
   },
   "cell_type": "code",
   "source": [
    "def pdf_loader(file_path):\n",
    "    loader = PyPDFLoader(file_path)\n",
    "    return loader"
   ],
   "id": "c6ce23d337da491",
   "outputs": [],
   "execution_count": 7
  },
  {
   "metadata": {
    "ExecuteTime": {
     "end_time": "2025-02-28T00:46:20.955671Z",
     "start_time": "2025-02-28T00:46:20.950670Z"
    }
   },
   "cell_type": "code",
   "source": [
    "def show_pdf(loader):\n",
    "    documents = loader.load()\n",
    "\n",
    "    text_splitter = CharacterTextSplitter(chunk_size=1000, chunk_overlap=0)\n",
    "    docs = text_splitter.split_documents(documents)\n",
    "    context = [doc.page_content for doc in docs]\n",
    "    print(context)"
   ],
   "id": "bc39439a31cf250a",
   "outputs": [],
   "execution_count": 8
  },
  {
   "metadata": {
    "ExecuteTime": {
     "end_time": "2025-02-28T00:46:20.967838Z",
     "start_time": "2025-02-28T00:46:20.964356Z"
    }
   },
   "cell_type": "code",
   "source": [
    "def translate_file_name(file_name):\n",
    "    translator = Translator(to_lang=\"en\", from_lang=\"ko\")\n",
    "    en_file_name = translator.translate(file_name)\n",
    "    return en_file_name"
   ],
   "id": "f733ff4192d22b54",
   "outputs": [],
   "execution_count": 9
  },
  {
   "metadata": {
    "ExecuteTime": {
     "end_time": "2025-02-28T00:46:20.980140Z",
     "start_time": "2025-02-28T00:46:20.975711Z"
    }
   },
   "cell_type": "code",
   "source": [
    "def get_collection_name(file_name: str) -> str:\n",
    "    # 파일 이름을 영어로 번역\n",
    "    en_file_name = translate_file_name(file_name)\n",
    "    # 두 개의 연속된 마침표(..)를 포함할 경우 삭제\n",
    "    en_file_name = re.sub(r'/./.+', '.', en_file_name)\n",
    "    # 영숫자 문자, 밑줄(_) 또는 하이픈(-)만 남기고 나머지 기호 삭제\n",
    "    en_file_name = re.sub(r'[^a-zA-Z0-9_-]', '', en_file_name)\n",
    "    # 시작과 끝에 기호나 숫자가 있다면 기호 삭제\n",
    "    en_file_name = re.sub(r'^[^a-zA-Z0-9]+', '', en_file_name)\n",
    "    en_file_name = re.sub(r'[^a-zA-Z0-9]+$', '', en_file_name)\n",
    "    # 길이 3자 미만이면 글자 추가, 63자 초과하면 63자로 자르기\n",
    "    if len(en_file_name) < 3:\n",
    "        en_file_name = en_file_name.ljust(3, 'a')\n",
    "    elif len(file_name) > 63:\n",
    "        en_file_name = en_file_name[:63]\n",
    "\n",
    "    return en_file_name"
   ],
   "id": "3ca6ef24f28327af",
   "outputs": [],
   "execution_count": 10
  },
  {
   "metadata": {},
   "cell_type": "markdown",
   "source": "",
   "id": "fea2866346a2940c"
  },
  {
   "metadata": {
    "ExecuteTime": {
     "end_time": "2025-02-28T00:46:20.990881Z",
     "start_time": "2025-02-28T00:46:20.987038Z"
    }
   },
   "cell_type": "code",
   "source": [
    "# def create_vector_store(file_name, loader, loaders=None, embeddings, vectorstore_path):\n",
    "    # docs = []\n",
    "    # for loader in loaders:\n",
    "    #     docs.extend(loader.load())\n",
    "    #     print(docs)\n",
    "    #\n",
    "    # sub_docs = RecursiveCharacterTextSplitter(chunk_size=1000, chunk_overlap=100).split_documents(docs)\n",
    "    # print(sub_docs)\n",
    "    #\n",
    "    # vectorstore = Chroma.from_documents(\n",
    "    #     sub_docs,\n",
    "    #     embedding=embeddings,\n",
    "    #     kwargs={\n",
    "    #         \"persist_directory\":vectorstore_path,\n",
    "    #         # \"collection_name\":get_collection_name(file_name),\n",
    "    #     }\n",
    "    # )\n",
    "    #\n",
    "    #\n",
    "    #\n",
    "    # VectorstoreIndexCreator(\n",
    "    #     vectorstore_cls=Chroma,\n",
    "    #     embedding=embeddings,\n",
    "    #     vectorstore_kwargs={\n",
    "    #         \"persist_directory\":vectorstore_path,\n",
    "    #         # \"collection_name\":get_collection_name(file_name),\n",
    "    #     }\n",
    "    #     ).from_loaders([loader])"
   ],
   "id": "83d0624b678cc5d1",
   "outputs": [],
   "execution_count": 11
  },
  {
   "metadata": {
    "ExecuteTime": {
     "end_time": "2025-02-28T00:47:02.546072Z",
     "start_time": "2025-02-28T00:47:02.540125Z"
    }
   },
   "cell_type": "code",
   "source": [
    "# 벡터 스토어를 새로 만들 경우, 저장하기 까지 시간이 걸려서 메모리에 저장\n",
    "def create_vectorstore(file_id, file_texts, embeddings, vectorstore_path):\n",
    "    document = (\n",
    "        file_texts,\n",
    "        file_id,\n",
    "    )\n",
    "\n",
    "    vectorstore = Chroma(\n",
    "        persist_directory=vectorstore_path,\n",
    "        embedding_function=embeddings,\n",
    "    ).add_texts(document)\n",
    "\n",
    "    index = VectorStoreIndexWrapper(vectorstore=vectorstore)\n",
    "\n",
    "    return index"
   ],
   "id": "f0286c19e0097651",
   "outputs": [],
   "execution_count": 25
  },
  {
   "metadata": {
    "ExecuteTime": {
     "end_time": "2025-02-28T00:46:21.839271Z",
     "start_time": "2025-02-28T00:46:21.835077Z"
    }
   },
   "cell_type": "code",
   "source": [
    "def load_vectorstore(vectorstore_path):\n",
    "    index = VectorStoreIndexWrapper(vectorstore=vectorstore_path)\n",
    "    return index"
   ],
   "id": "95f895173016ca9",
   "outputs": [],
   "execution_count": 13
  },
  {
   "metadata": {
    "ExecuteTime": {
     "end_time": "2025-02-28T00:47:06.420436Z",
     "start_time": "2025-02-28T00:47:06.416439Z"
    }
   },
   "cell_type": "code",
   "source": [
    "def get_vectorstore(file_name, loader, embeddings, vectorstore_path, db_already_exist):\n",
    "\n",
    "    if db_already_exist:\n",
    "        index = load_vectorstore(embeddings)\n",
    "\n",
    "    elif not db_already_exist:\n",
    "        index = create_vector_store(file_name, loader, embeddings, vectorstore_path)\n",
    "\n",
    "    return index"
   ],
   "id": "a6a2f2782374f3a2",
   "outputs": [],
   "execution_count": 26
  },
  {
   "metadata": {
    "ExecuteTime": {
     "end_time": "2025-02-28T00:46:22.508110Z",
     "start_time": "2025-02-28T00:46:22.504099Z"
    }
   },
   "cell_type": "code",
   "source": [
    "def set_model(model):\n",
    "    chat = ChatOllama(\n",
    "        model=model,\n",
    "        temperature=0.1,\n",
    "        num_predict=512,\n",
    "        top_p=1,\n",
    "        mirostat_tau=0.4,\n",
    "        # CPU 코어수\n",
    "        num_thread=None,\n",
    "    )\n",
    "    return chat"
   ],
   "id": "c24dddc9534954c1",
   "outputs": [],
   "execution_count": 15
  },
  {
   "metadata": {
    "ExecuteTime": {
     "end_time": "2025-02-28T00:46:22.896992Z",
     "start_time": "2025-02-28T00:46:22.891988Z"
    }
   },
   "cell_type": "code",
   "source": [
    "def set_chat():\n",
    "    file_path = \"C:/Users/user/Documents/GitLab/Test_Dawoo/company_ask/doc/company_info/high_quelity/타임소프트 회사소개서.pdf\"\n",
    "    file_name = os.path.splitext(os.path.basename(file_path))[0]\n",
    "    print(file_name)\n",
    "    vectorstore_path = \"./vectorstore\"\n",
    "    model = 'llama3.2-bllossom-kor-3B:latest'\n",
    "    embeddings = OllamaEmbeddings(model=\"mxbai-embed-large\")\n",
    "    #embeddings = HuggingFaceEmbeddings()\n",
    "\n",
    "    # env_loader()\n",
    "    loader = pdf_loader(file_path)\n",
    "    # show_pdf(loader)\n",
    "    index = get_vectorstore(\n",
    "        file_name=file_name,\n",
    "        loader=loader,\n",
    "        embeddings = embeddings,\n",
    "        vectorstore_path=vectorstore_path,\n",
    "        db_already_exist=False,\n",
    "    )\n",
    "    chat = set_model(model=model)\n",
    "\n",
    "    return chat, index"
   ],
   "id": "96f033a2d6b387a5",
   "outputs": [],
   "execution_count": 16
  },
  {
   "metadata": {
    "ExecuteTime": {
     "end_time": "2025-02-28T00:46:23.455963Z",
     "start_time": "2025-02-28T00:46:23.452495Z"
    }
   },
   "cell_type": "code",
   "source": [
    "def chat_input(index, user_input, chat):\n",
    "    return index.query( user_input, llm=chat, )"
   ],
   "id": "ac53322f888f2655",
   "outputs": [],
   "execution_count": 17
  },
  {
   "metadata": {
    "ExecuteTime": {
     "end_time": "2025-02-28T00:46:27.584358Z",
     "start_time": "2025-02-28T00:46:24.261157Z"
    }
   },
   "cell_type": "code",
   "source": [
    "#테스트 셀\n",
    "\n",
    "#파일 출력 테스트\n",
    "file_path = \"C:/Users/user/Documents/GitLab/Test_Dawoo/company_ask/doc/company_info/high_quelity/타임소프트 회사소개서.pdf\"\n",
    "pdf = pdf_loader(file_path)\n",
    "show_pdf(pdf)\n",
    "\n",
    "\n",
    "#번역 및 파일 이름 가공 테스트\n",
    "# file_name = input()\n",
    "# print(file_name)\n",
    "# en_file_name = translate_file_name(file_name)\n",
    "# print(en_file_name)\n",
    "# collection_name = get_collection_name(en_file_name)\n",
    "# print(collection_name)\n",
    "\n",
    "\n",
    "# #스트리밍 테스트\n",
    "# chat, index = set_chat()\n",
    "# user_input = '안녕?'\n",
    "# chat_text = chat_input(\n",
    "#     chat=chat,\n",
    "#     index=index,\n",
    "#     user_input=user_input,\n",
    "# )\n",
    "# print(f\"chat: {chat_text}\")\n",
    "# time.sleep(0.5)"
   ],
   "id": "ca464c44a8e9f81c",
   "outputs": [
    {
     "name": "stdout",
     "output_type": "stream",
     "text": [
      "['01AIoT 빅데이터 융합 플랫폼 제공과 공급02빅데이터 융합 플랫폼 기반의 생체인증 SaaS 서비스 제공03Cloud Native MSA 기반의 개발 환경과 운영 환경 제공과 공급', '고객의생각과 이상을현실로 !\\n외부고객 : Customer, 내부고객 : Staff, Stockholder현재, 요구, 가려운 곳미래', '157 억원http://www.timesoft.co.kr', '대표이사경영지원실전략기술팀DevOpsCloud MSA기업부설연구소Cloud Native MSABio SecurityMammoth Data플랫폼 그룹IaaSPaaS서비스 그룹ezPass 서비스MSA 서비스Bio Security매머드 사업본부AIoTService Plan공공부분금융부분통신부분보유 기술 : Java, C, ReactBA, AA, DA, TADX 사업본부유통부분영업부 사업부영업 1팀영업 2팀마케팅팀영업/마케팅 사업본부영업 3팀', '2023블록체인 기반의 국가자격 · 훈련 디지털 배지시스템 구축 ‘과학기술정보통신부 장관상’MammothData 제42류 상표 등록 (제 40-1991414호)MammothData 제09류 상표 등록 (제 40-1991412호)보행자 돌발상황을 대처 할 수 있는 지능형 교통제어시스템- 특허 등록 (제 10-2555076호)국내∙ 외 투자 유치 (일본 하마지마, 유니온 커뮤니티)블록체인 기반의 디지털 이력서 증명서비스 구축 사업 수주 (한국인터넷진흥원)2022Software Processes 품질 인증 (SP2)INNOBIZ (기술혁신형 중소기업) 인정과학기술정보통신부 전문연구사업자 인정클라우드 기반 엔지니어링 빅데이터 및 엔지니어링 SW 활용 플랫폼 구축 (3개년)한국 축구 데이터 플랫폼 구축\\n2021한국전자통신연구원 표창장 수상벤처기업(혁신성장유형) 인정MammothData 플랫폼 저작권 등록4세대 지능형 나이스 구축(응용SW 1,2 단계)_(3개년 사업)나이스 인사혁신처 간 시스템 연계를 통한 수당 이중지급 방지 체계 구축2020한국교육학술정보원 감사장 수상서울형 강소기업 선정차세대 표준지방인사정보 시스템 구축(2개년 사업)교육공무직원 급여 연계 프로그램 개발장애인 학대 통계정보 시스템 구축산재예방정보시스템 통합 구축2019 ~ 2018AI Big Data Appliance (Mammoth Data) 제품 출시 및 서비스 제공한국방송통신전파진흥원 전파관리 플랫폼 클라우드 구축공무원연금공단 종합재해 보상시스템 구축한국산업인력공단 자격정보 로그관리 프로그램 개발\\n2017 ~ 2015사회보장정보원 표창장 수상정보통신공사업 면허 취득나이스(NEIS) 교육정보 개방 서비스 구축2015 ~ 2014영남지사 설립Ontology 관련 특허 등록 (제 10-0868331호)우리은행 한국산업인력공단 외국인 근로자 휴먼보험연계 시스템 구축2013 ~ 2008벤처기업 인증, INNOBIZ 선정교육부장관 표창장 수상Software Processes(SP) 2등급 인증2003주식회사 타임소프트 설립\\n2024 ~ 현재일본 ezPass Cloud Service (2차)카히스토리 고도화보험개발원 AI 채팅 시스템 구축농협 생체인증 솔루션 개발해병대, 육군 과학화 출입통제 표준 플랫폼 개발강원 TP 디지털 치료제 빅데이터 구축아세텍 조선소 기자재 공동 구매 빅데이터 플랫폼 구축', 'Business Area04. BlockChain / Biosecurity / ETC02. Government Agency03. Finance01. Education•한국산업인력공단 차세대 자격정보 System•공무원연금공단 Digital Transformation, DX 지능형 연금복지 System •일본 ezPass Cloud 서비스•블록체인 기반 국가자격∙훈련 디지털 배지시스템 구축(한국인터넷진흥원/한국산업인력공단)•블록체인 기반 디지털 이력서 증명서비스 구축 사업(한국인터넷진흥원/한국고용정보원)•보험개발원 중고차량 보상시스템(카히스토리 AI) 참여•보험개발원 채팅시스템 개발 등•한국교육학술정보원 나이스 기술지원 사업•한국교육학술정보원 지능형 나이스 구축•한국교육학술정보원 교육개방 서비스 구축•한국생산기술연구원 클라우드 기반 엔지니어링빅데이터 플랫폼 및 엔지니어링 SW 활용 시스템구축•표준지방인사 차세대 시스템 구축•온종일 돌봄 원스톱 서비스연계•다년간 나이스 유지보수 수행', 'DevOps\\nCloud NativeMSA\\n인-메모리\\n오토스케일링\\n분산 수집\\nMLOps\\n계획, 코딩, 구축, 테스트. 배포, 운명, 모니터링 등파이프라인 구성 협업 및 개발-운영 팀 간의지속적인 통합 관리애자일 방법론에 적합한소프트웨어 개발 DevOps 라이프사이클.전자정부 프레임워크 기반의Cloud Native MSA 채택마이크로 서비스 구성서비스 디스커버리와 로드 밸런싱\\n시스템 자원들의 ‘매트릭 값’을 모니터링하여,<서버 사이즈를 자동>으로 조절합니다. 이로 인해서비스 부하에 효과적으로 대응하고비용 절감을 극대화.방대한 양의 데이터를메모리에서 실시간으로 처리, 분석함으로써, 시간을 단축하고, 빠른 처리 속도를 보장.\\nMachineLearningOperationsAI모델 훈련, 배포, 운영에 이르기 까지모든 단계를 수행하여원하는 결과를 빠르게 도출.', '사용자 관리단말기 관리생체정보 관리라이선스 관리게시판 관리통합 검색엔진권한 관리서비스 관리SSODevOps 관리\\nDevOps', 'MammothData DevOpsService Mesh\\nAMQP\\nIngress\\nReact\\nReact\\nMammoth 검색엔진\\nAPI Gateway', '• 세계 보안업체들과 협업을 통해 생체인증(안면인식, 지문, 정맥, 카드, 모바일) 출입 통제 보안 미들웨어 서비스 제공• 생체인증을 통해 각 보안업체와 체계적인 출입 보안 강화\\n기존 운영 환경에서추가 생체정보 등록 관리기존 사용자 정보 연동 및생체정보, 단말기 등록 관리방문자 예약 및방문장소, 보안장소 통제 관리출입문 및 층별(엘리베이터)사용자 권한 관리특정 출입자, 장소 및시간대별로 출입통제 가능출입문, 구역, 단말기 등상태 모니터링일간/월간 출입에 대한정확한 데이터 산출지사 및 지점의 출입통제 관리원격제어로 가능비상시 경보 및 알람실시간 이벤트 로그모니터링', '교육부 표창장사회보장정보원 표창장한국산업인력공단 감사패서울 경제 품질 인증인사혁신처 표창장 한국교육학술정보원 감사장한국전자통신연구원 표창장과학기술정보통신부 표창장']\n"
     ]
    }
   ],
   "execution_count": 18
  },
  {
   "metadata": {
    "ExecuteTime": {
     "end_time": "2025-02-28T00:54:48.070974Z",
     "start_time": "2025-02-28T00:54:47.530871Z"
    }
   },
   "cell_type": "code",
   "source": [
    "chat, index = set_chat()\n",
    "\n",
    "while True:\n",
    "    user_input = input(\"you: \")\n",
    "    print(f\"you: {user_input}\")\n",
    "\n",
    "    if user_input == \"exit\":\n",
    "        break\n",
    "    elif user_input.replace(\" \", \"\") == \"\":\n",
    "        print(\"chat: 질문이 없습니다. 정확한 질문을 해주시면 답변해 드리겠습니다.\")\n",
    "    else:\n",
    "        chat_text = chat_input(\n",
    "            chat=chat,\n",
    "            index=index,\n",
    "            user_input=user_input,\n",
    "        )\n",
    "        print(f\"chat: {chat_text}\")\n",
    "        time.sleep(0.5)"
   ],
   "id": "51e2ad8697bca72e",
   "outputs": [
    {
     "name": "stdout",
     "output_type": "stream",
     "text": [
      "타임소프트 회사소개서\n"
     ]
    },
    {
     "ename": "ValidationError",
     "evalue": "2 validation errors for EmbedRequest\ninput.str\n  Input should be a valid string [type=string_type, input_value=[<langchain_community.doc...프트 회사소개서'], input_type=list]\n    For further information visit https://errors.pydantic.dev/2.10/v/string_type\ninput.json-or-python[json=list[str],python=chain[is-instance[Sequence],function-wrap[sequence_validator()]]].0\n  Input should be a valid string [type=string_type, input_value=<langchain_community.docu...t at 0x0000012058F3EF60>, input_type=PyPDFLoader]\n    For further information visit https://errors.pydantic.dev/2.10/v/string_type",
     "output_type": "error",
     "traceback": [
      "\u001B[1;31m---------------------------------------------------------------------------\u001B[0m",
      "\u001B[1;31mValidationError\u001B[0m                           Traceback (most recent call last)",
      "Cell \u001B[1;32mIn[28], line 1\u001B[0m\n\u001B[1;32m----> 1\u001B[0m chat, index \u001B[38;5;241m=\u001B[39m \u001B[43mset_chat\u001B[49m\u001B[43m(\u001B[49m\u001B[43m)\u001B[49m\n\u001B[0;32m      3\u001B[0m \u001B[38;5;28;01mwhile\u001B[39;00m \u001B[38;5;28;01mTrue\u001B[39;00m:\n\u001B[0;32m      4\u001B[0m     user_input \u001B[38;5;241m=\u001B[39m \u001B[38;5;28minput\u001B[39m(\u001B[38;5;124m\"\u001B[39m\u001B[38;5;124myou: \u001B[39m\u001B[38;5;124m\"\u001B[39m)\n",
      "Cell \u001B[1;32mIn[16], line 13\u001B[0m, in \u001B[0;36mset_chat\u001B[1;34m()\u001B[0m\n\u001B[0;32m     11\u001B[0m loader \u001B[38;5;241m=\u001B[39m pdf_loader(file_path)\n\u001B[0;32m     12\u001B[0m \u001B[38;5;66;03m# show_pdf(loader)\u001B[39;00m\n\u001B[1;32m---> 13\u001B[0m index \u001B[38;5;241m=\u001B[39m \u001B[43mget_vectorstore\u001B[49m\u001B[43m(\u001B[49m\n\u001B[0;32m     14\u001B[0m \u001B[43m    \u001B[49m\u001B[43mfile_name\u001B[49m\u001B[38;5;241;43m=\u001B[39;49m\u001B[43mfile_name\u001B[49m\u001B[43m,\u001B[49m\n\u001B[0;32m     15\u001B[0m \u001B[43m    \u001B[49m\u001B[43mloader\u001B[49m\u001B[38;5;241;43m=\u001B[39;49m\u001B[43mloader\u001B[49m\u001B[43m,\u001B[49m\n\u001B[0;32m     16\u001B[0m \u001B[43m    \u001B[49m\u001B[43membeddings\u001B[49m\u001B[43m \u001B[49m\u001B[38;5;241;43m=\u001B[39;49m\u001B[43m \u001B[49m\u001B[43membeddings\u001B[49m\u001B[43m,\u001B[49m\n\u001B[0;32m     17\u001B[0m \u001B[43m    \u001B[49m\u001B[43mvectorstore_path\u001B[49m\u001B[38;5;241;43m=\u001B[39;49m\u001B[43mvectorstore_path\u001B[49m\u001B[43m,\u001B[49m\n\u001B[0;32m     18\u001B[0m \u001B[43m    \u001B[49m\u001B[43mdb_already_exist\u001B[49m\u001B[38;5;241;43m=\u001B[39;49m\u001B[38;5;28;43;01mFalse\u001B[39;49;00m\u001B[43m,\u001B[49m\n\u001B[0;32m     19\u001B[0m \u001B[43m\u001B[49m\u001B[43m)\u001B[49m\n\u001B[0;32m     20\u001B[0m chat \u001B[38;5;241m=\u001B[39m set_model(model\u001B[38;5;241m=\u001B[39mmodel)\n\u001B[0;32m     22\u001B[0m \u001B[38;5;28;01mreturn\u001B[39;00m chat, index\n",
      "Cell \u001B[1;32mIn[26], line 7\u001B[0m, in \u001B[0;36mget_vectorstore\u001B[1;34m(file_name, loader, embeddings, vectorstore_path, db_already_exist)\u001B[0m\n\u001B[0;32m      4\u001B[0m     index \u001B[38;5;241m=\u001B[39m load_vectorstore(embeddings)\n\u001B[0;32m      6\u001B[0m \u001B[38;5;28;01melif\u001B[39;00m \u001B[38;5;129;01mnot\u001B[39;00m db_already_exist:\n\u001B[1;32m----> 7\u001B[0m     index \u001B[38;5;241m=\u001B[39m \u001B[43mcreate_vector_store\u001B[49m\u001B[43m(\u001B[49m\u001B[43mfile_name\u001B[49m\u001B[43m,\u001B[49m\u001B[43m \u001B[49m\u001B[43mloader\u001B[49m\u001B[43m,\u001B[49m\u001B[43m \u001B[49m\u001B[43membeddings\u001B[49m\u001B[43m,\u001B[49m\u001B[43m \u001B[49m\u001B[43mvectorstore_path\u001B[49m\u001B[43m)\u001B[49m\n\u001B[0;32m      9\u001B[0m \u001B[38;5;28;01mreturn\u001B[39;00m index\n",
      "Cell \u001B[1;32mIn[25], line 11\u001B[0m, in \u001B[0;36mcreate_vector_store\u001B[1;34m(file_id, file_texts, embeddings, vectorstore_path)\u001B[0m\n\u001B[0;32m      2\u001B[0m \u001B[38;5;28;01mdef\u001B[39;00m\u001B[38;5;250m \u001B[39m\u001B[38;5;21mcreate_vector_store\u001B[39m(file_id, file_texts, embeddings, vectorstore_path):\n\u001B[0;32m      3\u001B[0m     document \u001B[38;5;241m=\u001B[39m (\n\u001B[0;32m      4\u001B[0m         file_texts,\n\u001B[0;32m      5\u001B[0m         file_id,\n\u001B[0;32m      6\u001B[0m     )\n\u001B[0;32m      8\u001B[0m     vectorstore \u001B[38;5;241m=\u001B[39m \u001B[43mChroma\u001B[49m\u001B[43m(\u001B[49m\n\u001B[0;32m      9\u001B[0m \u001B[43m        \u001B[49m\u001B[43mpersist_directory\u001B[49m\u001B[38;5;241;43m=\u001B[39;49m\u001B[43mvectorstore_path\u001B[49m\u001B[43m,\u001B[49m\n\u001B[0;32m     10\u001B[0m \u001B[43m        \u001B[49m\u001B[43membedding_function\u001B[49m\u001B[38;5;241;43m=\u001B[39;49m\u001B[43membeddings\u001B[49m\u001B[43m,\u001B[49m\n\u001B[1;32m---> 11\u001B[0m \u001B[43m    \u001B[49m\u001B[43m)\u001B[49m\u001B[38;5;241;43m.\u001B[39;49m\u001B[43madd_texts\u001B[49m\u001B[43m(\u001B[49m\u001B[43mdocument\u001B[49m\u001B[43m)\u001B[49m\n\u001B[0;32m     13\u001B[0m     index \u001B[38;5;241m=\u001B[39m VectorStoreIndexWrapper(vectorstore\u001B[38;5;241m=\u001B[39mvectorstore)\n\u001B[0;32m     15\u001B[0m     \u001B[38;5;28;01mreturn\u001B[39;00m index\n",
      "File \u001B[1;32m~\\AppData\\Roaming\\Python\\Python312\\site-packages\\langchain_community\\vectorstores\\chroma.py:277\u001B[0m, in \u001B[0;36mChroma.add_texts\u001B[1;34m(self, texts, metadatas, ids, **kwargs)\u001B[0m\n\u001B[0;32m    275\u001B[0m texts \u001B[38;5;241m=\u001B[39m \u001B[38;5;28mlist\u001B[39m(texts)\n\u001B[0;32m    276\u001B[0m \u001B[38;5;28;01mif\u001B[39;00m \u001B[38;5;28mself\u001B[39m\u001B[38;5;241m.\u001B[39m_embedding_function \u001B[38;5;129;01mis\u001B[39;00m \u001B[38;5;129;01mnot\u001B[39;00m \u001B[38;5;28;01mNone\u001B[39;00m:\n\u001B[1;32m--> 277\u001B[0m     embeddings \u001B[38;5;241m=\u001B[39m \u001B[38;5;28;43mself\u001B[39;49m\u001B[38;5;241;43m.\u001B[39;49m\u001B[43m_embedding_function\u001B[49m\u001B[38;5;241;43m.\u001B[39;49m\u001B[43membed_documents\u001B[49m\u001B[43m(\u001B[49m\u001B[43mtexts\u001B[49m\u001B[43m)\u001B[49m\n\u001B[0;32m    278\u001B[0m \u001B[38;5;28;01mif\u001B[39;00m metadatas:\n\u001B[0;32m    279\u001B[0m     \u001B[38;5;66;03m# fill metadatas with empty dicts if somebody\u001B[39;00m\n\u001B[0;32m    280\u001B[0m     \u001B[38;5;66;03m# did not specify metadata for all texts\u001B[39;00m\n\u001B[0;32m    281\u001B[0m     length_diff \u001B[38;5;241m=\u001B[39m \u001B[38;5;28mlen\u001B[39m(texts) \u001B[38;5;241m-\u001B[39m \u001B[38;5;28mlen\u001B[39m(metadatas)\n",
      "File \u001B[1;32m~\\AppData\\Roaming\\Python\\Python312\\site-packages\\langchain_ollama\\embeddings.py:237\u001B[0m, in \u001B[0;36mOllamaEmbeddings.embed_documents\u001B[1;34m(self, texts)\u001B[0m\n\u001B[0;32m    235\u001B[0m \u001B[38;5;28;01mdef\u001B[39;00m\u001B[38;5;250m \u001B[39m\u001B[38;5;21membed_documents\u001B[39m(\u001B[38;5;28mself\u001B[39m, texts: List[\u001B[38;5;28mstr\u001B[39m]) \u001B[38;5;241m-\u001B[39m\u001B[38;5;241m>\u001B[39m List[List[\u001B[38;5;28mfloat\u001B[39m]]:\n\u001B[0;32m    236\u001B[0m \u001B[38;5;250m    \u001B[39m\u001B[38;5;124;03m\"\"\"Embed search docs.\"\"\"\u001B[39;00m\n\u001B[1;32m--> 237\u001B[0m     embedded_docs \u001B[38;5;241m=\u001B[39m \u001B[38;5;28;43mself\u001B[39;49m\u001B[38;5;241;43m.\u001B[39;49m\u001B[43m_client\u001B[49m\u001B[38;5;241;43m.\u001B[39;49m\u001B[43membed\u001B[49m\u001B[43m(\u001B[49m\n\u001B[0;32m    238\u001B[0m \u001B[43m        \u001B[49m\u001B[38;5;28;43mself\u001B[39;49m\u001B[38;5;241;43m.\u001B[39;49m\u001B[43mmodel\u001B[49m\u001B[43m,\u001B[49m\u001B[43m \u001B[49m\u001B[43mtexts\u001B[49m\u001B[43m,\u001B[49m\u001B[43m \u001B[49m\u001B[43moptions\u001B[49m\u001B[38;5;241;43m=\u001B[39;49m\u001B[38;5;28;43mself\u001B[39;49m\u001B[38;5;241;43m.\u001B[39;49m\u001B[43m_default_params\u001B[49m\n\u001B[0;32m    239\u001B[0m \u001B[43m    \u001B[49m\u001B[43m)\u001B[49m[\u001B[38;5;124m\"\u001B[39m\u001B[38;5;124membeddings\u001B[39m\u001B[38;5;124m\"\u001B[39m]\n\u001B[0;32m    240\u001B[0m     \u001B[38;5;28;01mreturn\u001B[39;00m embedded_docs\n",
      "File \u001B[1;32m~\\AppData\\Roaming\\Python\\Python312\\site-packages\\ollama\\_client.py:361\u001B[0m, in \u001B[0;36mClient.embed\u001B[1;34m(self, model, input, truncate, options, keep_alive)\u001B[0m\n\u001B[0;32m    349\u001B[0m \u001B[38;5;28;01mdef\u001B[39;00m\u001B[38;5;250m \u001B[39m\u001B[38;5;21membed\u001B[39m(\n\u001B[0;32m    350\u001B[0m   \u001B[38;5;28mself\u001B[39m,\n\u001B[0;32m    351\u001B[0m   model: \u001B[38;5;28mstr\u001B[39m \u001B[38;5;241m=\u001B[39m \u001B[38;5;124m'\u001B[39m\u001B[38;5;124m'\u001B[39m,\n\u001B[1;32m   (...)\u001B[0m\n\u001B[0;32m    355\u001B[0m   keep_alive: Optional[Union[\u001B[38;5;28mfloat\u001B[39m, \u001B[38;5;28mstr\u001B[39m]] \u001B[38;5;241m=\u001B[39m \u001B[38;5;28;01mNone\u001B[39;00m,\n\u001B[0;32m    356\u001B[0m ) \u001B[38;5;241m-\u001B[39m\u001B[38;5;241m>\u001B[39m EmbedResponse:\n\u001B[0;32m    357\u001B[0m   \u001B[38;5;28;01mreturn\u001B[39;00m \u001B[38;5;28mself\u001B[39m\u001B[38;5;241m.\u001B[39m_request(\n\u001B[0;32m    358\u001B[0m     EmbedResponse,\n\u001B[0;32m    359\u001B[0m     \u001B[38;5;124m'\u001B[39m\u001B[38;5;124mPOST\u001B[39m\u001B[38;5;124m'\u001B[39m,\n\u001B[0;32m    360\u001B[0m     \u001B[38;5;124m'\u001B[39m\u001B[38;5;124m/api/embed\u001B[39m\u001B[38;5;124m'\u001B[39m,\n\u001B[1;32m--> 361\u001B[0m     json\u001B[38;5;241m=\u001B[39m\u001B[43mEmbedRequest\u001B[49m\u001B[43m(\u001B[49m\n\u001B[0;32m    362\u001B[0m \u001B[43m      \u001B[49m\u001B[43mmodel\u001B[49m\u001B[38;5;241;43m=\u001B[39;49m\u001B[43mmodel\u001B[49m\u001B[43m,\u001B[49m\n\u001B[0;32m    363\u001B[0m \u001B[43m      \u001B[49m\u001B[38;5;28;43minput\u001B[39;49m\u001B[38;5;241;43m=\u001B[39;49m\u001B[38;5;28;43minput\u001B[39;49m\u001B[43m,\u001B[49m\n\u001B[0;32m    364\u001B[0m \u001B[43m      \u001B[49m\u001B[43mtruncate\u001B[49m\u001B[38;5;241;43m=\u001B[39;49m\u001B[43mtruncate\u001B[49m\u001B[43m,\u001B[49m\n\u001B[0;32m    365\u001B[0m \u001B[43m      \u001B[49m\u001B[43moptions\u001B[49m\u001B[38;5;241;43m=\u001B[39;49m\u001B[43moptions\u001B[49m\u001B[43m,\u001B[49m\n\u001B[0;32m    366\u001B[0m \u001B[43m      \u001B[49m\u001B[43mkeep_alive\u001B[49m\u001B[38;5;241;43m=\u001B[39;49m\u001B[43mkeep_alive\u001B[49m\u001B[43m,\u001B[49m\n\u001B[0;32m    367\u001B[0m \u001B[43m    \u001B[49m\u001B[43m)\u001B[49m\u001B[38;5;241m.\u001B[39mmodel_dump(exclude_none\u001B[38;5;241m=\u001B[39m\u001B[38;5;28;01mTrue\u001B[39;00m),\n\u001B[0;32m    368\u001B[0m   )\n",
      "File \u001B[1;32m~\\AppData\\Roaming\\Python\\Python312\\site-packages\\pydantic\\main.py:214\u001B[0m, in \u001B[0;36mBaseModel.__init__\u001B[1;34m(self, **data)\u001B[0m\n\u001B[0;32m    212\u001B[0m \u001B[38;5;66;03m# `__tracebackhide__` tells pytest and some other tools to omit this function from tracebacks\u001B[39;00m\n\u001B[0;32m    213\u001B[0m __tracebackhide__ \u001B[38;5;241m=\u001B[39m \u001B[38;5;28;01mTrue\u001B[39;00m\n\u001B[1;32m--> 214\u001B[0m validated_self \u001B[38;5;241m=\u001B[39m \u001B[38;5;28;43mself\u001B[39;49m\u001B[38;5;241;43m.\u001B[39;49m\u001B[43m__pydantic_validator__\u001B[49m\u001B[38;5;241;43m.\u001B[39;49m\u001B[43mvalidate_python\u001B[49m\u001B[43m(\u001B[49m\u001B[43mdata\u001B[49m\u001B[43m,\u001B[49m\u001B[43m \u001B[49m\u001B[43mself_instance\u001B[49m\u001B[38;5;241;43m=\u001B[39;49m\u001B[38;5;28;43mself\u001B[39;49m\u001B[43m)\u001B[49m\n\u001B[0;32m    215\u001B[0m \u001B[38;5;28;01mif\u001B[39;00m \u001B[38;5;28mself\u001B[39m \u001B[38;5;129;01mis\u001B[39;00m \u001B[38;5;129;01mnot\u001B[39;00m validated_self:\n\u001B[0;32m    216\u001B[0m     warnings\u001B[38;5;241m.\u001B[39mwarn(\n\u001B[0;32m    217\u001B[0m         \u001B[38;5;124m'\u001B[39m\u001B[38;5;124mA custom validator is returning a value other than `self`.\u001B[39m\u001B[38;5;130;01m\\n\u001B[39;00m\u001B[38;5;124m'\u001B[39m\n\u001B[0;32m    218\u001B[0m         \u001B[38;5;124m\"\u001B[39m\u001B[38;5;124mReturning anything other than `self` from a top level model validator isn\u001B[39m\u001B[38;5;124m'\u001B[39m\u001B[38;5;124mt supported when validating via `__init__`.\u001B[39m\u001B[38;5;130;01m\\n\u001B[39;00m\u001B[38;5;124m\"\u001B[39m\n\u001B[0;32m    219\u001B[0m         \u001B[38;5;124m'\u001B[39m\u001B[38;5;124mSee the `model_validator` docs (https://docs.pydantic.dev/latest/concepts/validators/#model-validators) for more details.\u001B[39m\u001B[38;5;124m'\u001B[39m,\n\u001B[0;32m    220\u001B[0m         stacklevel\u001B[38;5;241m=\u001B[39m\u001B[38;5;241m2\u001B[39m,\n\u001B[0;32m    221\u001B[0m     )\n",
      "\u001B[1;31mValidationError\u001B[0m: 2 validation errors for EmbedRequest\ninput.str\n  Input should be a valid string [type=string_type, input_value=[<langchain_community.doc...프트 회사소개서'], input_type=list]\n    For further information visit https://errors.pydantic.dev/2.10/v/string_type\ninput.json-or-python[json=list[str],python=chain[is-instance[Sequence],function-wrap[sequence_validator()]]].0\n  Input should be a valid string [type=string_type, input_value=<langchain_community.docu...t at 0x0000012058F3EF60>, input_type=PyPDFLoader]\n    For further information visit https://errors.pydantic.dev/2.10/v/string_type"
     ]
    }
   ],
   "execution_count": 28
  },
  {
   "metadata": {},
   "cell_type": "code",
   "outputs": [],
   "source": "",
   "id": "142c6795c44e67f",
   "execution_count": null
  }
 ],
 "metadata": {
  "kernelspec": {
   "display_name": "Python 3",
   "language": "python",
   "name": "python3"
  },
  "language_info": {
   "codemirror_mode": {
    "name": "ipython",
    "version": 2
   },
   "file_extension": ".py",
   "mimetype": "text/x-python",
   "name": "python",
   "nbconvert_exporter": "python",
   "pygments_lexer": "ipython2",
   "version": "2.7.6"
  }
 },
 "nbformat": 4,
 "nbformat_minor": 5
}
