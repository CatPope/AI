{
 "cells": [
  {
   "cell_type": "code",
   "execution_count": null,
   "metadata": {},
   "outputs": [
    {
     "name": "stdout",
     "output_type": "stream",
     "text": [
      "10\n"
     ]
    }
   ],
   "source": [
    "print (2+3+5)"
   ]
  },
  {
   "cell_type": "code",
   "execution_count": 1,
   "metadata": {},
   "outputs": [
    {
     "name": "stdout",
     "output_type": "stream",
     "text": [
      "안녕\n",
      "こんにちは\n"
     ]
    }
   ],
   "source": [
    "import openai\n",
    "text_input = input(\"텍스트 입력: \")\n",
    "print(text_input)\n",
    "res = openai.chat.completions.create(\n",
    " model=\"gpt-4o-mini\",\n",
    " messages=[\n",
    "    {\"role\": \"system\", \"content\": \"다음 텍스트를 일본어로 번역해 주세요.\"},  \n",
    "    {\"role\": \"user\", \"content\": text_input}],  \n",
    " temperature=0.5,\n",
    " max_tokens=256,\n",
    " top_p=1,\n",
    " frequency_penalty=0,\n",
    " presence_penalty=0\n",
    ")\n",
    "print(res.choices[0].message.content)"
   ]
  },
  {
   "cell_type": "code",
   "execution_count": null,
   "metadata": {},
   "outputs": [],
   "source": []
  }
 ],
 "metadata": {
  "kernelspec": {
   "display_name": "Python 3",
   "language": "python",
   "name": "python3"
  },
  "language_info": {
   "codemirror_mode": {
    "name": "ipython",
    "version": 3
   },
   "file_extension": ".py",
   "mimetype": "text/x-python",
   "name": "python",
   "nbconvert_exporter": "python",
   "pygments_lexer": "ipython3",
   "version": "3.10.12"
  }
 },
 "nbformat": 4,
 "nbformat_minor": 2
}
