{
 "cells": [
  {
   "cell_type": "code",
   "execution_count": 2,
   "id": "fb0a2acc-ddb1-40a3-9bb1-8c1043765ca8",
   "metadata": {},
   "outputs": [
    {
     "name": "stdout",
     "output_type": "stream",
     "text": [
      "\n",
      "こんにちは？今日の天気は本当に良いですね！\n"
     ]
    }
   ],
   "source": [
    "# Completion mode, 지시와 명령을 하나의 prompt로 전달\n",
    "import os\n",
    "import openai\n",
    "\n",
    "openai.api_key = os.getenv(\"OPENAI_API_KEY\")\n",
    "# 텍스트 생성 요청을 보냅니다.\n",
    "response = openai.completions.create(\n",
    "    model=\"gpt-3.5-turbo-instruct\",\n",
    "    prompt = \"다음을 일본어로 번역하세요: 안녕하세요? 오늘 날씨가 참 좋군요!\",\n",
    "    max_tokens=256,  # 생성된 텍스트의 최대 길이를 설정합니다.\n",
    ")\n",
    "\n",
    "print(response.choices[0].text)"
   ]
  },
  {
   "cell_type": "code",
   "execution_count": 6,
   "id": "05033272-a0dd-4806-8b19-762587718e55",
   "metadata": {},
   "outputs": [
    {
     "name": "stdout",
     "output_type": "stream",
     "text": [
      " marathon, obstacle, power-lifting 꼴로\n",
      "\n",
      "1. 마라톤 (marathon): 장거리를 달리는 운동으로, 지속적인 유산소 운동으로서 근육을 늘리는데 도움이 됩니다. 마라톤을 통해 심폐지구력과 근육의 지구력을 향상시킬 수 있습니다.\n",
      "\n",
      "2. 장애물 코스 (obstacle course): 다양한 하체 근육을 발달시키는데 도움이 되는 장애물 코스 운동은 근육의 무게를 들어야하는 장소에서의 근육 강화에 매우 효과적입니다. 또한, 강도 높은 운동으로 근육의 세기와 근육의 크기를 촉진시킵니다.\n",
      "\n",
      "\n"
     ]
    }
   ],
   "source": [
    "# Completion mode, 문장을 이어서 완성하게 함\n",
    "import os\n",
    "import openai\n",
    "\n",
    "openai.api_key = os.getenv(\"OPENAI_API_KEY\")\n",
    "# 텍스트 생성 요청을 보냅니다.\n",
    "response = openai.completions.create(\n",
    "    model=\"gpt-3.5-turbo-instruct\",\n",
    "    prompt=\"근육이 커지려면\",\n",
    "    max_tokens=256,  # 생성된 텍스트의 최대 길이를 설정합니다.\n",
    ")\n",
    "\n",
    "# 생성된 텍스트를 출력합니다.\n",
    "print(response.choices[0].text)"
   ]
  },
  {
   "cell_type": "code",
   "execution_count": 7,
   "id": "e43ac887",
   "metadata": {},
   "outputs": [
    {
     "name": "stdout",
     "output_type": "stream",
     "text": [
      "Completion(id='cmpl-ArfINZ923fahtkPGNFQhwYldaq244', choices=[CompletionChoice(finish_reason='length', index=0, logprobs=None, text=' marathon, obstacle, power-lifting 꼴로\\n\\n1. 마라톤 (marathon): 장거리를 달리는 운동으로, 지속적인 유산소 운동으로서 근육을 늘리는데 도움이 됩니다. 마라톤을 통해 심폐지구력과 근육의 지구력을 향상시킬 수 있습니다.\\n\\n2. 장애물 코스 (obstacle course): 다양한 하체 근육을 발달시키는데 도움이 되는 장애물 코스 운동은 근육의 무게를 들어야하는 장소에서의 근육 강화에 매우 효과적입니다. 또한, 강도 높은 운동으로 근육의 세기와 근육의 크기를 촉진시킵니다.\\n\\n')], created=1737353487, model='gpt-3.5-turbo-instruct', object='text_completion', system_fingerprint=None, usage=CompletionUsage(completion_tokens=256, prompt_tokens=11, total_tokens=267, completion_tokens_details=None, prompt_tokens_details=None))\n"
     ]
    }
   ],
   "source": [
    "print(response)"
   ]
  },
  {
   "cell_type": "code",
   "execution_count": 8,
   "id": "5b74d5c7-caab-4632-ac69-2f420969f13f",
   "metadata": {},
   "outputs": [
    {
     "name": "stdout",
     "output_type": "stream",
     "text": [
      "こんにちは！今日は天気がとても良いですね！\n"
     ]
    }
   ],
   "source": [
    "# 표준적인 Chat completion mode\n",
    "\n",
    "import openai\n",
    "\n",
    "res = openai.chat.completions.create(\n",
    "  model=os.getenv(\"OPENAI_DEFAULT_MODEL\"),\n",
    "  messages=[{\"role\": \"user\", \"content\": \"다음을 일본어로 번역하세요: 안녕하세요? 오늘 날씨가 참 좋군요!\"}]\n",
    ")\n",
    "print(res.choices[0].message.content)"
   ]
  },
  {
   "cell_type": "code",
   "execution_count": 9,
   "id": "b02d0eef-20b7-449a-b893-ae51f4da32ff",
   "metadata": {},
   "outputs": [
    {
     "name": "stdout",
     "output_type": "stream",
     "text": [
      "ChatCompletion(id='chatcmpl-ArfO1dNa8yM0wyN4DuiceWygAL9bR', choices=[Choice(finish_reason='stop', index=0, logprobs=None, message=ChatCompletionMessage(content='こんにちは！今日は天気がとても良いですね！', refusal=None, role='assistant', audio=None, function_call=None, tool_calls=None))], created=1737353837, model='gpt-4o-mini-2024-07-18', object='chat.completion', service_tier='default', system_fingerprint='fp_bd83329f63', usage=CompletionUsage(completion_tokens=13, prompt_tokens=28, total_tokens=41, completion_tokens_details=CompletionTokensDetails(accepted_prediction_tokens=0, audio_tokens=0, reasoning_tokens=0, rejected_prediction_tokens=0), prompt_tokens_details=PromptTokensDetails(audio_tokens=0, cached_tokens=0)))\n"
     ]
    }
   ],
   "source": [
    "print(res)"
   ]
  }
 ],
 "metadata": {
  "kernelspec": {
   "display_name": "Python 3",
   "language": "python",
   "name": "python3"
  },
  "language_info": {
   "codemirror_mode": {
    "name": "ipython",
    "version": 3
   },
   "file_extension": ".py",
   "mimetype": "text/x-python",
   "name": "python",
   "nbconvert_exporter": "python",
   "pygments_lexer": "ipython3",
   "version": "3.10.12"
  }
 },
 "nbformat": 4,
 "nbformat_minor": 5
}
