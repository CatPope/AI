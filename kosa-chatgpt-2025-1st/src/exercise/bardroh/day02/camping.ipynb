{
 "cells": [
  {
   "cell_type": "code",
   "execution_count": 1,
   "id": "c7b7ece3-d09c-430c-9496-93086756d69e",
   "metadata": {},
   "outputs": [],
   "source": [
    "# https://www.data.go.kr/data/15101933/openapi.do 고캠핑 API"
   ]
  },
  {
   "cell_type": "code",
   "execution_count": 2,
   "id": "96343cfc-f053-4f64-9536-9e366571666e",
   "metadata": {},
   "outputs": [],
   "source": [
    "import os\n",
    "ServiceKey = os.getenv(\"GOCAMPING_SERVICE_KEY\")"
   ]
  },
  {
   "cell_type": "code",
   "execution_count": 3,
   "id": "58bf5c85-8c0b-44cf-a642-7e98c64305d9",
   "metadata": {},
   "outputs": [
    {
     "name": "stdout",
     "output_type": "stream",
     "text": [
      "%EA%B3%84%EA%B3%A1\n"
     ]
    }
   ],
   "source": [
    "from urllib.parse import quote\n",
    "\n",
    "KeyWord = quote(\"계곡\")\n",
    "print(KeyWord)"
   ]
  },
  {
   "cell_type": "code",
   "execution_count": 4,
   "id": "911444e6-6694-4cbd-9f07-2fe672147ca3",
   "metadata": {},
   "outputs": [],
   "source": [
    "url = f\"http://apis.data.go.kr/B551011/GoCamping/searchList?serviceKey={ServiceKey}&keyword={KeyWord}&numOfRows=10&pageNo=1&MobileOS=ETC&MobileApp=TestApp&_type=json\""
   ]
  },
  {
   "cell_type": "code",
   "execution_count": 5,
   "id": "06e3063a-93b2-480b-a53b-db66ae1ce7d3",
   "metadata": {},
   "outputs": [
    {
     "name": "stdout",
     "output_type": "stream",
     "text": [
      "{\"response\": {\"header\":{\"resultCode\":\"0000\",\"resultMsg\":\"OK\"},\"body\": {\"items\": {\"item\":[{\"contentId\":\"100004\",\"facltNm\":\"뇌운계곡글램핑\",\"lineIntro\":\"\",\"intro\":\"\",\"allar\":\"0\",\"insrncAt\":\"Y\",\"trsagntNo\":\"2021-3\",\"bizrno\":\"225-02-29556\",\"facltDivNm\":\"민간\",\"mangeDivNm\":\"직영\",\"mgcDiv\":\"유현덕\",\"manageSttus\":\"운영\",\"hvofBgnde\":\"\",\"hvofEnddle\":\"\",\"featureNm\":\"레저체험을 함께 즐길 수 있는 뇌운계곡 글램핑  뇌운계곡글램핑은 평창에 위치한 해발 600미터의 뇌운계곡에 있는 글램핑과 레저 체험을 함께 즐길 수 있는 캠핑장이다. 사이트는 총 7개인데, 4개는 글램핑 텐트, 3개는 몽골 텐트에 투명 돔 키친이 있다. 특히 몽골텐트는 천창이 투명하게 되어 있어 텐트 안에서도 하늘을 볼 수 있다. 텐트 내부의 집기들도 신경을 많이 써서 감성 캠핑을 즐기기 좋다. 또한 계곡에서의 래프팅, 패들 보드, 카약 강습은 물론 산악 오토바이, 숲속 서바이벌 게임 등 즐길 거리가 많다.\",\"induty\":\"글램핑\",\"lctCl\":\"산\",\"doNm\":\"강원도\",\"sigunguNm\":\"평창군\",\"zipcode\":\"25368\",\"addr1\":\"강원 평창군 평창읍 뇌운계곡로 659-6\",\"addr2\":\"\",\"mapX\":\"128.3820960\",\"mapY\":\"37.4156933\",\"direction\":\"\",\"tel\":\"033-332-0009\",\"homepage\":\"https://pcglamping.modoo.at/\",\"resveUrl\":\"\",\"resveCl\":\"\",\"manageNmpr\":\"0\",\"gnrlSiteCo\":\"0\",\"autoSiteCo\":\"0\",\"glampSiteCo\":\"7\",\"caravSiteCo\":\"0\",\"indvdlCaravSiteCo\":\"0\",\"sitedStnc\":\"0\",\"siteMg1Width\":\"0\",\"siteMg2Width\":\"0\",\"siteMg3Width\":\"0\",\"siteMg1Vrticl\":\"0\",\"siteMg2Vrticl\":\"0\",\"siteMg3Vrticl\":\"0\",\"siteMg1Co\":\"0\",\"siteMg2Co\":\"0\",\"siteMg3Co\":\"0\",\"siteBottomCl1\":\"0\",\"siteBottomCl2\":\"0\",\"siteBottomCl3\":\"0\",\"siteBottomCl4\":\"0\",\"siteBottomCl5\":\"0\",\"tooltip\":\"\",\"glampInnerFclty\":\"침대,에어컨,냉장고,난방기구\",\"caravInnerFclty\":\"\",\"prmisnDe\":\"2021-07-30\",\"operPdCl\":\"봄,여름,가을,겨울\",\"operDeCl\":\"평일+주말\",\"trlerAcmpnyAt\":\"N\",\"caravAcmpnyAt\":\"N\",\"toiletCo\":\"0\",\"swrmCo\":\"0\",\"wtrplCo\":\"0\",\"brazierCl\":\"개별\",\"sbrsCl\":\"전기,무선인터넷\",\"sbrsEtc\":\"\",\"posblFcltyCl\":\"계곡 물놀이,수상레저\",\"posblFcltyEtc\":\"\",\"clturEventAt\":\"N\",\"clturEvent\":\"\",\"exprnProgrmAt\":\"Y\",\"exprnProgrm\":\"래프팅\",\"extshrCo\":\"0\",\"frprvtWrppCo\":\"0\",\"frprvtSandCo\":\"0\",\"fireSensorCo\":\"0\",\"themaEnvrnCl\":\"액티비티,여름물놀이\",\"eqpmnLendCl\":\"\",\"animalCmgCl\":\"가능\",\"tourEraCl\":\"\",\"firstImageUrl\":\"https://gocamping.or.kr/upload/camp/100004/thumb/thumb_720_0924x1f5rjPF1V1zMXPvW0Rh.jpg\",\"createdtime\":\"2023-01-16 16:48:53\",\"modifiedtime\":\"2023-01-16 16:48:53\"},{\"contentId\":\"100218\",\"facltNm\":\"김천맑은계곡 오토캠핑장\",\"lineIntro\":\"\",\"intro\":\"탁트인 뷰와 더불어 맑은 계곡이 있는 오토캠핑장입니다. 산과 냇가가 있는 공간에서 편리한 야영과 캠핑이 가능합니다.\",\"allar\":\"3000\",\"insrncAt\":\"Y\",\"trsagntNo\":\"2021-4\",\"bizrno\":\"291-06-02154\",\"facltDivNm\":\"민간\",\"mangeDivNm\":\"직영\",\"mgcDiv\":\"김영금\",\"manageSttus\":\"운영\",\"hvofBgnde\":\"\",\"hvofEnddle\":\"\",\"featureNm\":\"계곡과 맞닿아 있는 깔끔한 캠핑장  김천맑은계곡 오토캠핑장은 경북 김천시 부항면 대야리에 자리 잡았다. 김천시청을 기점으로 35km가량 떨어졌다. 자동차를 타고 부항로와 두산로를 번갈아 달리면 닿는다. 도착까지 걸리는 시간은 40분 안팎이다. 캠핑장은 계곡과 인접한 덕분에 여름철 물놀이를 즐기기 좋다. 파쇄석으로 이뤄진 오토캠핑 사이트 12면이 마련돼 있다. 사이트 크기는 가로 8m 세로 10m로 널찍하다. 카라반과 트레일러 동반 입장을 가능하며, 카라반의 경우 추가 요금이 있다. 주변에는 물한계곡이 있어 연계 여행이 수월하다.\",\"induty\":\"일반야영장\",\"lctCl\":\"숲\",\"doNm\":\"경상북도\",\"sigunguNm\":\"김천시\",\"zipcode\":\"39688\",\"addr1\":\"경북 김천시 부항면 대야길 307\",\"addr2\":\"\",\"mapX\":\"127.9184282\",\"mapY\":\"36.0192538\",\"direction\":\"\",\"tel\":\"054-433-1832\",\"homepage\":\"https://blog.naver.com/kkcamping\",\"resveUrl\":\"https://booking.naver.com/booking/3/bizes/643565\",\"resveCl\":\"온라인예약대기\",\"manageNmpr\":\"1\",\"gnrlSiteCo\":\"0\",\"autoSiteCo\":\"12\",\"glampSiteCo\":\"0\",\"caravSiteCo\":\"0\",\"indvdlCaravSiteCo\":\"11\",\"sitedStnc\":\"3\",\"siteMg1Width\":\"0\",\"siteMg2Width\":\"0\",\"siteMg3Width\":\"0\",\"siteMg1Vrticl\":\"0\",\"siteMg2Vrticl\":\"0\",\"siteMg3Vrticl\":\"0\",\"siteMg1Co\":\"12\",\"siteMg2Co\":\"0\",\"siteMg3Co\":\"0\",\"siteBottomCl1\":\"0\",\"siteBottomCl2\":\"12\",\"siteBottomCl3\":\"0\",\"siteBottomCl4\":\"0\",\"siteBottomCl5\":\"0\",\"tooltip\":\"\",\"glampInnerFclty\":\"\",\"caravInnerFclty\":\"\",\"prmisnDe\":\"2021-12-31\",\"operPdCl\":\"봄,여름,가을,겨울\",\"operDeCl\":\"평일+주말\",\"trlerAcmpnyAt\":\"Y\",\"caravAcmpnyAt\":\"N\",\"toiletCo\":\"2\",\"swrmCo\":\"2\",\"wtrplCo\":\"2\",\"brazierCl\":\"개별\",\"sbrsCl\":\"장작판매,온수,트렘폴린,놀이터,운동시설,마트.편의점\",\"sbrsEtc\":\"\",\"posblFcltyCl\":\"계곡 물놀이,산책로,어린이놀이시설\",\"posblFcltyEtc\":\"\",\"clturEventAt\":\"N\",\"clturEvent\":\"\",\"exprnProgrmAt\":\"N\",\"exprnProgrm\":\"\",\"extshrCo\":\"12\",\"frprvtWrppCo\":\"0\",\"frprvtSandCo\":\"0\",\"fireSensorCo\":\"0\",\"themaEnvrnCl\":\"여름물놀이\",\"eqpmnLendCl\":\"릴선,화로대\",\"animalCmgCl\":\"가능\",\"tourEraCl\":\"\",\"firstImageUrl\":\"https://gocamping.or.kr/upload/camp/100218/thumb/thumb_720_8553iOCJM4HG1xS54HkAaUZJ.jpg\",\"createdtime\":\"2023-01-16 16:49:15\",\"modifiedtime\":\"2023-01-16 16:49:15\"},{\"contentId\":\"100303\",\"facltNm\":\"영월 엄둔밸리 계곡캠핑장 \",\"lineIntro\":\"원주 신림IC에서 20분 거리에 있는 계곡 캠핑장\",\"intro\":\"엄둔계곡 상류에 위치하여, 오염되지 않은 맑은 수질의 계곡이 흐르고 있어 어린이들의 천연수영장을 제공합니다. 다양한 크기의 청결한 펜션과  방갈로, 캠핑사이트를 함께 운영중입니다. 신림IC에서 20분거리에 위치하고 있으며, 조용하고 아름다운 산세속에서 도로 차소음 없이 지인과 함께 캠핑과 숙박을 같이 이용하시기에 편리한 구조입니다. \",\"allar\":\"8264\",\"insrncAt\":\"Y\",\"trsagntNo\":\"제 2022-000001호\",\"bizrno\":\"438-01-00804\",\"facltDivNm\":\"민간\",\"mangeDivNm\":\"직영\",\"mgcDiv\":\"\",\"manageSttus\":\"운영\",\"hvofBgnde\":\"\",\"hvofEnddle\":\"\",\"featureNm\":\"생수 따로 준비하지마세요!~ 천연 암반수(국가공인먹는물 수질검사인증)\",\"induty\":\"일반야영장,자동차야영장,카라반\",\"lctCl\":\"산,계곡\",\"doNm\":\"강원도\",\"sigunguNm\":\"영월군\",\"zipcode\":\"26201\",\"addr1\":\"강원 영월군 무릉도원면 엄둔길 145\",\"addr2\":\"계곡펜션 계곡캠핑장 엄둔밸리\",\"mapX\":\"128.2350495\",\"mapY\":\"37.3097666\",\"direction\":\"강원도 영월군 무릉도원면 엄둔길145\",\"tel\":\"010-3244-3968\",\"homepage\":\"http://엄둔밸리.com/\",\"resveUrl\":\"https://www.camfit.co.kr/camp/623818516fa4ab001e00c448\",\"resveCl\":\"전화,온라인실시간예약,현장\",\"manageNmpr\":\"4\",\"gnrlSiteCo\":\"10\",\"autoSiteCo\":\"0\",\"glampSiteCo\":\"0\",\"caravSiteCo\":\"2\",\"indvdlCaravSiteCo\":\"3\",\"sitedStnc\":\"0\",\"siteMg1Width\":\"9\",\"siteMg2Width\":\"8\",\"siteMg3Width\":\"8\",\"siteMg1Vrticl\":\"5\",\"siteMg2Vrticl\":\"6\",\"siteMg3Vrticl\":\"6\",\"siteMg1Co\":\"1\",\"siteMg2Co\":\"1\",\"siteMg3Co\":\"7\",\"siteBottomCl1\":\"0\",\"siteBottomCl2\":\"10\",\"siteBottomCl3\":\"0\",\"siteBottomCl4\":\"0\",\"siteBottomCl5\":\"0\",\"tooltip\":\"\",\"glampInnerFclty\":\"\",\"caravInnerFclty\":\"\",\"prmisnDe\":\"2022-03-08\",\"operPdCl\":\"봄,여름,가을,겨울\",\"operDeCl\":\"평일+주말\",\"trlerAcmpnyAt\":\"Y\",\"caravAcmpnyAt\":\"N\",\"toiletCo\":\"2\",\"swrmCo\":\"2\",\"wtrplCo\":\"2\",\"brazierCl\":\"개별\",\"sbrsCl\":\"전기,무선인터넷,장작판매,온수,트렘폴린,물놀이장,놀이터,산책로,운동장,마트.편의점\",\"sbrsEtc\":\"\",\"posblFcltyCl\":\"계곡 물놀이,산책로,운동장,낚시,강/물놀이,청소년체험시설,농어촌체험시설,어린이놀이시설\",\"posblFcltyEtc\":\"\",\"clturEventAt\":\"N\",\"clturEvent\":\"\",\"exprnProgrmAt\":\"N\",\"exprnProgrm\":\"\",\"extshrCo\":\"20\",\"frprvtWrppCo\":\"0\",\"frprvtSandCo\":\"0\",\"fireSensorCo\":\"0\",\"themaEnvrnCl\":\"\",\"eqpmnLendCl\":\"\",\"animalCmgCl\":\"불가능\",\"tourEraCl\":\"봄,여름,가을,겨울\",\"firstImageUrl\":\"\",\"createdtime\":\"2023-01-16 16:49:20\",\"modifiedtime\":\"2024-01-10 06:30:09\"},{\"contentId\":\"100474\",\"facltNm\":\"산중계곡캠핑장\",\"lineIntro\":\"\",\"intro\":\"계곡과 숲속에 자리한 오토캠핑장  산중계곡캠핑장은 경남 거창군 북상면에 자리 잡고 있다. 캠핑장은 숲속 사이트와 계곡 사이트로 구분된다. 파쇄석으로 이루어진 오토캠핑 사이트가 각각 19면과 20면이 마련되어 있다. 사이트 크기는 널찍해 대형 텐트를 설치하는 데 무리가 없다. 부대시설로는 한여름 무더위를 날리기 좋은 수영장이 있다. 주변에 덕유산국립공원이 있어 연계 여행에 나서기 수월하다.\",\"allar\":\"0\",\"insrncAt\":\"Y\",\"trsagntNo\":\"\",\"bizrno\":\"\",\"facltDivNm\":\"민간\",\"mangeDivNm\":\"직영\",\"mgcDiv\":\"\",\"manageSttus\":\"운영\",\"hvofBgnde\":\"\",\"hvofEnddle\":\"\",\"featureNm\":\"\",\"induty\":\"일반야영장\",\"lctCl\":\"계곡\",\"doNm\":\"경상남도\",\"sigunguNm\":\"거창군\",\"zipcode\":\"50102\",\"addr1\":\"경남 거창군 북상면 송계사길 76\",\"addr2\":\"\",\"mapX\":\"127.8053203\",\"mapY\":\"35.8297842\",\"direction\":\"\",\"tel\":\"0507-1370-5028\",\"homepage\":\"http://sj-camping.com/\",\"resveUrl\":\"http://sj-camping.com/bbs/board.php?bo_table\\u003dyb_booking02\",\"resveCl\":\"온라인실시간예약\",\"manageNmpr\":\"0\",\"gnrlSiteCo\":\"0\",\"autoSiteCo\":\"39\",\"glampSiteCo\":\"0\",\"caravSiteCo\":\"0\",\"indvdlCaravSiteCo\":\"0\",\"sitedStnc\":\"0\",\"siteMg1Width\":\"0\",\"siteMg2Width\":\"0\",\"siteMg3Width\":\"0\",\"siteMg1Vrticl\":\"0\",\"siteMg2Vrticl\":\"0\",\"siteMg3Vrticl\":\"0\",\"siteMg1Co\":\"20\",\"siteMg2Co\":\"19\",\"siteMg3Co\":\"0\",\"siteBottomCl1\":\"0\",\"siteBottomCl2\":\"39\",\"siteBottomCl3\":\"0\",\"siteBottomCl4\":\"0\",\"siteBottomCl5\":\"0\",\"tooltip\":\"\",\"glampInnerFclty\":\"\",\"caravInnerFclty\":\"\",\"prmisnDe\":\"2022-07-01\",\"operPdCl\":\"봄,여름,가을,겨울\",\"operDeCl\":\"평일+주말\",\"trlerAcmpnyAt\":\"N\",\"caravAcmpnyAt\":\"N\",\"toiletCo\":\"4\",\"swrmCo\":\"4\",\"wtrplCo\":\"2\",\"brazierCl\":\"\",\"sbrsCl\":\"전기,무선인터넷,장작판매,온수,물놀이장,놀이터,운동시설\",\"sbrsEtc\":\"\",\"posblFcltyCl\":\"계곡 물놀이,산책로\",\"posblFcltyEtc\":\"\",\"clturEventAt\":\"N\",\"clturEvent\":\"\",\"exprnProgrmAt\":\"N\",\"exprnProgrm\":\"\",\"extshrCo\":\"20\",\"frprvtWrppCo\":\"0\",\"frprvtSandCo\":\"0\",\"fireSensorCo\":\"0\",\"themaEnvrnCl\":\"봄꽃여행,여름물놀이,가을단풍명소\",\"eqpmnLendCl\":\"\",\"animalCmgCl\":\"가능\",\"tourEraCl\":\"\",\"firstImageUrl\":\"\",\"createdtime\":\"2023-01-16 16:49:24\",\"modifiedtime\":\"2024-04-20 06:30:35\"},{\"contentId\":\"100532\",\"facltNm\":\"관악산 계곡 캠핑장\",\"lineIntro\":\"\",\"intro\":\"\",\"allar\":\"0\",\"insrncAt\":\"Y\",\"trsagntNo\":\"\",\"bizrno\":\"\",\"facltDivNm\":\"지자체\",\"mangeDivNm\":\"직영\",\"mgcDiv\":\"\",\"manageSttus\":\"운영\",\"hvofBgnde\":\"\",\"hvofEnddle\":\"\",\"featureNm\":\"\",\"induty\":\"일반야영장\",\"lctCl\":\"\",\"doNm\":\"서울시\",\"sigunguNm\":\"관악구\",\"zipcode\":\"08825\",\"addr1\":\"서울특별시 관악구 신림동 205-1 관악산공원 내 \",\"addr2\":\"\",\"mapX\":\"126.9481674\",\"mapY\":\"37.4620698\",\"direction\":\"\",\"tel\":\"\",\"homepage\":\"\",\"resveUrl\":\"\",\"resveCl\":\"\",\"manageNmpr\":\"0\",\"gnrlSiteCo\":\"0\",\"autoSiteCo\":\"0\",\"glampSiteCo\":\"0\",\"caravSiteCo\":\"0\",\"indvdlCaravSiteCo\":\"0\",\"sitedStnc\":\"0\",\"siteMg1Width\":\"0\",\"siteMg2Width\":\"0\",\"siteMg3Width\":\"0\",\"siteMg1Vrticl\":\"0\",\"siteMg2Vrticl\":\"0\",\"siteMg3Vrticl\":\"0\",\"siteMg1Co\":\"0\",\"siteMg2Co\":\"0\",\"siteMg3Co\":\"0\",\"siteBottomCl1\":\"0\",\"siteBottomCl2\":\"0\",\"siteBottomCl3\":\"0\",\"siteBottomCl4\":\"0\",\"siteBottomCl5\":\"0\",\"tooltip\":\"\",\"glampInnerFclty\":\"\",\"caravInnerFclty\":\"\",\"prmisnDe\":\"2022-07-28\",\"operPdCl\":\"봄,여름,가을,겨울\",\"operDeCl\":\"평일+주말\",\"trlerAcmpnyAt\":\"N\",\"caravAcmpnyAt\":\"N\",\"toiletCo\":\"0\",\"swrmCo\":\"0\",\"wtrplCo\":\"0\",\"brazierCl\":\"개별\",\"sbrsCl\":\"\",\"sbrsEtc\":\"\",\"posblFcltyCl\":\"\",\"posblFcltyEtc\":\"\",\"clturEventAt\":\"N\",\"clturEvent\":\"\",\"exprnProgrmAt\":\"N\",\"exprnProgrm\":\"\",\"extshrCo\":\"0\",\"frprvtWrppCo\":\"0\",\"frprvtSandCo\":\"0\",\"fireSensorCo\":\"0\",\"themaEnvrnCl\":\"\",\"eqpmnLendCl\":\"\",\"animalCmgCl\":\"불가능\",\"tourEraCl\":\"\",\"firstImageUrl\":\"\",\"createdtime\":\"2023-01-16 16:49:25\",\"modifiedtime\":\"2023-01-16 16:49:25\"},{\"contentId\":\"100675\",\"facltNm\":\"을수골 별빛계곡\",\"lineIntro\":\"오지계곡 프라이빗 캠핑장\",\"intro\":\"\",\"allar\":\"0\",\"insrncAt\":\"Y\",\"trsagntNo\":\"2022-7\",\"bizrno\":\"792-19-01702\",\"facltDivNm\":\"민간\",\"mangeDivNm\":\"직영\",\"mgcDiv\":\"이준영\",\"manageSttus\":\"운영\",\"hvofBgnde\":\"\",\"hvofEnddle\":\"\",\"featureNm\":\"\",\"induty\":\"일반야영장\",\"lctCl\":\"계곡\",\"doNm\":\"강원도\",\"sigunguNm\":\"홍천군\",\"zipcode\":\"25170\",\"addr1\":\"강원 홍천군 내면 을수길 127\",\"addr2\":\"\",\"mapX\":\"128.4577053\",\"mapY\":\"37.8178687\",\"direction\":\"\",\"tel\":\"\",\"homepage\":\"https://eulsugolbyeolbit.modoo.at/\",\"resveUrl\":\"\",\"resveCl\":\"\",\"manageNmpr\":\"0\",\"gnrlSiteCo\":\"0\",\"autoSiteCo\":\"0\",\"glampSiteCo\":\"0\",\"caravSiteCo\":\"0\",\"indvdlCaravSiteCo\":\"0\",\"sitedStnc\":\"0\",\"siteMg1Width\":\"0\",\"siteMg2Width\":\"0\",\"siteMg3Width\":\"0\",\"siteMg1Vrticl\":\"0\",\"siteMg2Vrticl\":\"0\",\"siteMg3Vrticl\":\"0\",\"siteMg1Co\":\"0\",\"siteMg2Co\":\"0\",\"siteMg3Co\":\"0\",\"siteBottomCl1\":\"0\",\"siteBottomCl2\":\"0\",\"siteBottomCl3\":\"0\",\"siteBottomCl4\":\"0\",\"siteBottomCl5\":\"0\",\"tooltip\":\"\",\"glampInnerFclty\":\"\",\"caravInnerFclty\":\"\",\"prmisnDe\":\"2022-10-31\",\"operPdCl\":\"봄,여름,가을,겨울\",\"operDeCl\":\"평일+주말\",\"trlerAcmpnyAt\":\"N\",\"caravAcmpnyAt\":\"N\",\"toiletCo\":\"0\",\"swrmCo\":\"0\",\"wtrplCo\":\"0\",\"brazierCl\":\"개별\",\"sbrsCl\":\"\",\"sbrsEtc\":\"\",\"posblFcltyCl\":\"\",\"posblFcltyEtc\":\"\",\"clturEventAt\":\"N\",\"clturEvent\":\"\",\"exprnProgrmAt\":\"N\",\"exprnProgrm\":\"\",\"extshrCo\":\"0\",\"frprvtWrppCo\":\"0\",\"frprvtSandCo\":\"0\",\"fireSensorCo\":\"0\",\"themaEnvrnCl\":\"\",\"eqpmnLendCl\":\"\",\"animalCmgCl\":\"불가능\",\"tourEraCl\":\"\",\"firstImageUrl\":\"https://gocamping.or.kr/upload/camp/100675/thumb/thumb_720_8329AzRfBwavTjDSc1lsKcB8.jpg\",\"createdtime\":\"2023-01-16 16:49:26\",\"modifiedtime\":\"2023-09-12 09:20:05\"},{\"contentId\":\"100682\",\"facltNm\":\"양평힐링계곡 오토캠핑장\",\"lineIntro\":\"\",\"intro\":\"양평힐링계곡오토캠핑장은 서울에서 가까운 양평군 서종면에 위치한 신생 캠핑장으로 일체형 비데와 쾌적한 샤워시설 등 깨끗한 편의시설을 갖추었으며, 맑은 계곡과 총총한 별을 볼 수 있는 아늑하고 분위기 좋은 캠핑장 입니다.\",\"allar\":\"2998\",\"insrncAt\":\"Y\",\"trsagntNo\":\"2022-3\",\"bizrno\":\"844-42-00701\",\"facltDivNm\":\"민간\",\"mangeDivNm\":\"직영\",\"mgcDiv\":\"강유현\",\"manageSttus\":\"운영\",\"hvofBgnde\":\"\",\"hvofEnddle\":\"\",\"featureNm\":\"\",\"induty\":\"자동차야영장\",\"lctCl\":\"숲\",\"doNm\":\"경기도\",\"sigunguNm\":\"양평군\",\"zipcode\":\"12501\",\"addr1\":\"경기 양평군 서종면 중미산로 772-27\",\"addr2\":\"\",\"mapX\":\"127.4230682\",\"mapY\":\"37.6010371\",\"direction\":\"\",\"tel\":\"031-772-9999\",\"homepage\":\"healingvalley.campingt.me\",\"resveUrl\":\"https://booking.naver.com/booking/3/bizes/791312\",\"resveCl\":\"\",\"manageNmpr\":\"3\",\"gnrlSiteCo\":\"0\",\"autoSiteCo\":\"27\",\"glampSiteCo\":\"0\",\"caravSiteCo\":\"0\",\"indvdlCaravSiteCo\":\"0\",\"sitedStnc\":\"0\",\"siteMg1Width\":\"0\",\"siteMg2Width\":\"0\",\"siteMg3Width\":\"0\",\"siteMg1Vrticl\":\"0\",\"siteMg2Vrticl\":\"0\",\"siteMg3Vrticl\":\"0\",\"siteMg1Co\":\"0\",\"siteMg2Co\":\"0\",\"siteMg3Co\":\"0\",\"siteBottomCl1\":\"0\",\"siteBottomCl2\":\"0\",\"siteBottomCl3\":\"0\",\"siteBottomCl4\":\"0\",\"siteBottomCl5\":\"0\",\"tooltip\":\"\",\"glampInnerFclty\":\"\",\"caravInnerFclty\":\"\",\"prmisnDe\":\"2022-11-03\",\"operPdCl\":\"봄,여름,가을,겨울\",\"operDeCl\":\"평일+주말\",\"trlerAcmpnyAt\":\"N\",\"caravAcmpnyAt\":\"N\",\"toiletCo\":\"3\",\"swrmCo\":\"7\",\"wtrplCo\":\"12\",\"brazierCl\":\"개별\",\"sbrsCl\":\"전기,무선인터넷,장작판매,온수,물놀이장,마트.편의점\",\"sbrsEtc\":\"\",\"posblFcltyCl\":\"계곡 물놀이,산책로\",\"posblFcltyEtc\":\"\",\"clturEventAt\":\"N\",\"clturEvent\":\"\",\"exprnProgrmAt\":\"N\",\"exprnProgrm\":\"\",\"extshrCo\":\"23\",\"frprvtWrppCo\":\"5\",\"frprvtSandCo\":\"0\",\"fireSensorCo\":\"0\",\"themaEnvrnCl\":\"\",\"eqpmnLendCl\":\"\",\"animalCmgCl\":\"가능(소형견)\",\"tourEraCl\":\"\",\"firstImageUrl\":\"https://gocamping.or.kr/upload/camp/100682/thumb/thumb_720_2061M8xPf2Z4yf4yu0JXAMjm.jpg\",\"createdtime\":\"2023-01-16 16:49:27\",\"modifiedtime\":\"2023-01-16 16:49:27\"},{\"contentId\":\"100973\",\"facltNm\":\"유명산 계곡 캠핑장\",\"lineIntro\":\"유명산 자락 어비계곡 안쪽에 위치한 팬션\\u0026캠핑장\",\"intro\":\"\",\"allar\":\"0\",\"insrncAt\":\"Y\",\"trsagntNo\":\"\",\"bizrno\":\"\",\"facltDivNm\":\"민간\",\"mangeDivNm\":\"직영\",\"mgcDiv\":\"\",\"manageSttus\":\"운영\",\"hvofBgnde\":\"\",\"hvofEnddle\":\"\",\"featureNm\":\"\",\"induty\":\"일반야영장,카라반\",\"lctCl\":\"산\",\"doNm\":\"경기도\",\"sigunguNm\":\"가평군\",\"zipcode\":\"12473\",\"addr1\":\"경기 가평군 설악면 어비산길 201-41\",\"addr2\":\"\",\"mapX\":\"127.5137288\",\"mapY\":\"37.5918631\",\"direction\":\"\",\"tel\":\"\",\"homepage\":\"\",\"resveUrl\":\"https://pf.kakao.com/_SNQAG\",\"resveCl\":\"온라인실시간예약\",\"manageNmpr\":\"0\",\"gnrlSiteCo\":\"6\",\"autoSiteCo\":\"0\",\"glampSiteCo\":\"0\",\"caravSiteCo\":\"2\",\"indvdlCaravSiteCo\":\"0\",\"sitedStnc\":\"0\",\"siteMg1Width\":\"0\",\"siteMg2Width\":\"0\",\"siteMg3Width\":\"0\",\"siteMg1Vrticl\":\"0\",\"siteMg2Vrticl\":\"0\",\"siteMg3Vrticl\":\"0\",\"siteMg1Co\":\"0\",\"siteMg2Co\":\"0\",\"siteMg3Co\":\"0\",\"siteBottomCl1\":\"0\",\"siteBottomCl2\":\"0\",\"siteBottomCl3\":\"6\",\"siteBottomCl4\":\"0\",\"siteBottomCl5\":\"0\",\"tooltip\":\"\",\"glampInnerFclty\":\"\",\"caravInnerFclty\":\"침대,TV,에어컨,냉장고,유무선인터넷,난방기구,취사도구\",\"prmisnDe\":\"2023-06-19\",\"operPdCl\":\"봄,여름,가을,겨울\",\"operDeCl\":\"평일+주말\",\"trlerAcmpnyAt\":\"N\",\"caravAcmpnyAt\":\"N\",\"toiletCo\":\"0\",\"swrmCo\":\"0\",\"wtrplCo\":\"0\",\"brazierCl\":\"개별\",\"sbrsCl\":\"\",\"sbrsEtc\":\"\",\"posblFcltyCl\":\"\",\"posblFcltyEtc\":\"\",\"clturEventAt\":\"N\",\"clturEvent\":\"\",\"exprnProgrmAt\":\"N\",\"exprnProgrm\":\"\",\"extshrCo\":\"0\",\"frprvtWrppCo\":\"0\",\"frprvtSandCo\":\"0\",\"fireSensorCo\":\"0\",\"themaEnvrnCl\":\"\",\"eqpmnLendCl\":\"\",\"animalCmgCl\":\"불가능\",\"tourEraCl\":\"\",\"firstImageUrl\":\"\",\"createdtime\":\"2023-07-04 06:30:02\",\"modifiedtime\":\"2024-12-24 06:30:01\"},{\"contentId\":\"100999\",\"facltNm\":\"달빛 계곡 캠핑장\",\"lineIntro\":\"\",\"intro\":\"청정한 공기와 산을 둘러싸고 있어 계절마다 변화하는 산의 모습을 볼수있으며, 반짝반짝 별이가득한 밤하늘을 느낄수있는 캠핑장입니다.\",\"allar\":\"5000\",\"insrncAt\":\"Y\",\"trsagntNo\":\"2023-1\",\"bizrno\":\"264-06-02657\",\"facltDivNm\":\"민간\",\"mangeDivNm\":\"직영\",\"mgcDiv\":\"윤형수\",\"manageSttus\":\"운영\",\"hvofBgnde\":\"\",\"hvofEnddle\":\"\",\"featureNm\":\"\",\"induty\":\"자동차야영장\",\"lctCl\":\"\",\"doNm\":\"전라남도\",\"sigunguNm\":\"장흥군\",\"zipcode\":\"59300\",\"addr1\":\"전남 장흥군 유치면 봉덕신덕길 371\",\"addr2\":\"\",\"mapX\":\"126.8667308\",\"mapY\":\"34.8300302\",\"direction\":\"\",\"tel\":\"\",\"homepage\":\"\",\"resveUrl\":\"\",\"resveCl\":\"\",\"manageNmpr\":\"1\",\"gnrlSiteCo\":\"0\",\"autoSiteCo\":\"12\",\"glampSiteCo\":\"0\",\"caravSiteCo\":\"0\",\"indvdlCaravSiteCo\":\"0\",\"sitedStnc\":\"0\",\"siteMg1Width\":\"0\",\"siteMg2Width\":\"0\",\"siteMg3Width\":\"0\",\"siteMg1Vrticl\":\"0\",\"siteMg2Vrticl\":\"0\",\"siteMg3Vrticl\":\"0\",\"siteMg1Co\":\"0\",\"siteMg2Co\":\"0\",\"siteMg3Co\":\"0\",\"siteBottomCl1\":\"0\",\"siteBottomCl2\":\"0\",\"siteBottomCl3\":\"0\",\"siteBottomCl4\":\"0\",\"siteBottomCl5\":\"0\",\"tooltip\":\"\",\"glampInnerFclty\":\"\",\"caravInnerFclty\":\"\",\"prmisnDe\":\"2023-07-14\",\"operPdCl\":\"봄,여름,가을,겨울\",\"operDeCl\":\"평일+주말\",\"trlerAcmpnyAt\":\"N\",\"caravAcmpnyAt\":\"N\",\"toiletCo\":\"3\",\"swrmCo\":\"3\",\"wtrplCo\":\"3\",\"brazierCl\":\"개별\",\"sbrsCl\":\"전기,무선인터넷,장작판매,온수,물놀이장,마트.편의점\",\"sbrsEtc\":\"\",\"posblFcltyCl\":\"계곡 물놀이,강/물놀이,농어촌체험시설\",\"posblFcltyEtc\":\"\",\"clturEventAt\":\"N\",\"clturEvent\":\"\",\"exprnProgrmAt\":\"N\",\"exprnProgrm\":\"\",\"extshrCo\":\"7\",\"frprvtWrppCo\":\"0\",\"frprvtSandCo\":\"0\",\"fireSensorCo\":\"3\",\"themaEnvrnCl\":\"\",\"eqpmnLendCl\":\"\",\"animalCmgCl\":\"불가능\",\"tourEraCl\":\"\",\"firstImageUrl\":\"\",\"createdtime\":\"2023-07-22 06:30:06\",\"modifiedtime\":\"2023-07-26 06:30:07\"},{\"contentId\":\"101091\",\"facltNm\":\"금천계곡 야영장\",\"lineIntro\":\"\",\"intro\":\"\",\"allar\":\"0\",\"insrncAt\":\"Y\",\"trsagntNo\":\"\",\"bizrno\":\"\",\"facltDivNm\":\"민간\",\"mangeDivNm\":\"직영\",\"mgcDiv\":\"\",\"manageSttus\":\"운영\",\"hvofBgnde\":\"\",\"hvofEnddle\":\"\",\"featureNm\":\"\",\"induty\":\"자동차야영장\",\"lctCl\":\"계곡\",\"doNm\":\"전라남도\",\"sigunguNm\":\"광양시\",\"zipcode\":\"57708\",\"addr1\":\"전남 광양시 다압면 대청길 15\",\"addr2\":\"\",\"mapX\":\"127.652178\",\"mapY\":\"35.1569293\",\"direction\":\"\",\"tel\":\"010-7930-0071\",\"homepage\":\"\",\"resveUrl\":\"\",\"resveCl\":\"\",\"manageNmpr\":\"0\",\"gnrlSiteCo\":\"0\",\"autoSiteCo\":\"0\",\"glampSiteCo\":\"0\",\"caravSiteCo\":\"0\",\"indvdlCaravSiteCo\":\"0\",\"sitedStnc\":\"0\",\"siteMg1Width\":\"0\",\"siteMg2Width\":\"0\",\"siteMg3Width\":\"0\",\"siteMg1Vrticl\":\"0\",\"siteMg2Vrticl\":\"0\",\"siteMg3Vrticl\":\"0\",\"siteMg1Co\":\"0\",\"siteMg2Co\":\"0\",\"siteMg3Co\":\"0\",\"siteBottomCl1\":\"0\",\"siteBottomCl2\":\"0\",\"siteBottomCl3\":\"0\",\"siteBottomCl4\":\"0\",\"siteBottomCl5\":\"0\",\"tooltip\":\"\",\"glampInnerFclty\":\"\",\"caravInnerFclty\":\"\",\"prmisnDe\":\"2023-08-31\",\"operPdCl\":\"봄,여름,가을,겨울\",\"operDeCl\":\"평일+주말\",\"trlerAcmpnyAt\":\"N\",\"caravAcmpnyAt\":\"N\",\"toiletCo\":\"0\",\"swrmCo\":\"0\",\"wtrplCo\":\"0\",\"brazierCl\":\"개별\",\"sbrsCl\":\"\",\"sbrsEtc\":\"\",\"posblFcltyCl\":\"\",\"posblFcltyEtc\":\"\",\"clturEventAt\":\"N\",\"clturEvent\":\"\",\"exprnProgrmAt\":\"N\",\"exprnProgrm\":\"\",\"extshrCo\":\"0\",\"frprvtWrppCo\":\"0\",\"frprvtSandCo\":\"0\",\"fireSensorCo\":\"0\",\"themaEnvrnCl\":\"\",\"eqpmnLendCl\":\"\",\"animalCmgCl\":\"불가능\",\"tourEraCl\":\"\",\"firstImageUrl\":\"\",\"createdtime\":\"2023-09-05 06:30:07\",\"modifiedtime\":\"2023-11-02 06:30:07\"}]},\"numOfRows\":10,\"pageNo\":1,\"totalCount\":71}}}\n"
     ]
    }
   ],
   "source": [
    "import requests\n",
    "\n",
    "def get_url_content(url):\n",
    "    try:\n",
    "        response = requests.get(url)\n",
    "        if response.status_code == 200:\n",
    "            return response.text\n",
    "        else:\n",
    "            response.raise_for_status()\n",
    "\n",
    "    except requests.exceptions.RequestException as e:\n",
    "        print(f\"Request Exception: {e}\")\n",
    "        return None\n",
    "\n",
    "result = get_url_content(url)\n",
    "if result is not None:\n",
    "    print(result)\n",
    "else:\n",
    "    print(\"Failed to retrieve URL content.\")"
   ]
  },
  {
   "cell_type": "code",
   "execution_count": 6,
   "id": "d9176bd8-d696-44b8-bb3b-346602139300",
   "metadata": {},
   "outputs": [],
   "source": [
    "import json\n",
    "\n",
    "data = json.loads(result)\n",
    "sites = data['response']['body']['items']['item']"
   ]
  },
  {
   "cell_type": "code",
   "execution_count": 7,
   "id": "94a5887d-4ef7-432c-96b6-ad976e466799",
   "metadata": {},
   "outputs": [
    {
     "name": "stdout",
     "output_type": "stream",
     "text": [
      "뇌운계곡글램핑:\n",
      "김천맑은계곡 오토캠핑장:탁트인 뷰와 더불어 맑은 계곡이 있는 오토캠핑장입니다. 산과 냇가가 있는 공간에서 편리한 야영과 캠핑이 가능합니다.\n",
      "영월 엄둔밸리 계곡캠핑장 :엄둔계곡 상류에 위치하여, 오염되지 않은 맑은 수질의 계곡이 흐르고 있어 어린이들의 천연수영장을 제공합니다. 다양한 크기의 청결한 펜션과  방갈로, 캠핑사이트를 함께 운영중입니다. 신림IC에서 20분거리에 위치하고 있으며, 조용하고 아름다운 산세속에서 도로 차소음 없이 지인과 함께 캠핑과 숙박을 같이 이용하시기에 편리한 구조입니다. \n",
      "산중계곡캠핑장:계곡과 숲속에 자리한 오토캠핑장  산중계곡캠핑장은 경남 거창군 북상면에 자리 잡고 있다. 캠핑장은 숲속 사이트와 계곡 사이트로 구분된다. 파쇄석으로 이루어진 오토캠핑 사이트가 각각 19면과 20면이 마련되어 있다. 사이트 크기는 널찍해 대형 텐트를 설치하는 데 무리가 없다. 부대시설로는 한여름 무더위를 날리기 좋은 수영장이 있다. 주변에 덕유산국립공원이 있어 연계 여행에 나서기 수월하다.\n",
      "관악산 계곡 캠핑장:\n",
      "을수골 별빛계곡:\n",
      "양평힐링계곡 오토캠핑장:양평힐링계곡오토캠핑장은 서울에서 가까운 양평군 서종면에 위치한 신생 캠핑장으로 일체형 비데와 쾌적한 샤워시설 등 깨끗한 편의시설을 갖추었으며, 맑은 계곡과 총총한 별을 볼 수 있는 아늑하고 분위기 좋은 캠핑장 입니다.\n",
      "유명산 계곡 캠핑장:\n",
      "달빛 계곡 캠핑장:청정한 공기와 산을 둘러싸고 있어 계절마다 변화하는 산의 모습을 볼수있으며, 반짝반짝 별이가득한 밤하늘을 느낄수있는 캠핑장입니다.\n",
      "금천계곡 야영장:\n"
     ]
    }
   ],
   "source": [
    "for site in sites:\n",
    "    print(site['facltNm'] + \":\" + site['intro'])"
   ]
  },
  {
   "cell_type": "code",
   "execution_count": 8,
   "id": "f84c36ae-69b8-4a42-b736-23bbe17a164f",
   "metadata": {},
   "outputs": [],
   "source": [
    "question = \"계곡이 있는 캠핑장을 추천해줘.\""
   ]
  },
  {
   "cell_type": "code",
   "execution_count": 9,
   "id": "8ceed593-a00e-4195-93c3-83c0cfe0804b",
   "metadata": {},
   "outputs": [
    {
     "name": "stdout",
     "output_type": "stream",
     "text": [
      "계곡\n"
     ]
    }
   ],
   "source": [
    "import os\n",
    "import openai\n",
    "\n",
    "openai.api_key = os.getenv(\"OPENAI_API_KEY\")\n",
    "\n",
    "response = openai.chat.completions.create(\n",
    "  model=\"gpt-3.5-turbo\",\n",
    "  messages=[\n",
    "    {\n",
    "      \"role\": \"system\",\n",
    "      \"content\": \"다음 질문에서 가장 중요한 키워드 단어 하나만 뽑아줘.\"\n",
    "    },\n",
    "    {\n",
    "      \"role\": \"user\",\n",
    "      \"content\": question\n",
    "    }\n",
    "  ],\n",
    "  temperature=0,\n",
    "  max_tokens=1024,\n",
    "  top_p=1,\n",
    "  frequency_penalty=0,\n",
    "  presence_penalty=0\n",
    ")\n",
    "\n",
    "print(response.choices[0].message.content)"
   ]
  },
  {
   "cell_type": "code",
   "execution_count": 10,
   "id": "a1f34bc0-7ff5-4f4a-99a4-80874f826ba3",
   "metadata": {},
   "outputs": [],
   "source": [
    "KeyWord = response.choices[0].message.content"
   ]
  },
  {
   "cell_type": "code",
   "execution_count": 11,
   "id": "b6e4d063-b717-4aa4-8a90-155a311779c4",
   "metadata": {},
   "outputs": [],
   "source": [
    "url = f\"http://apis.data.go.kr/B551011/GoCamping/searchList?serviceKey={ServiceKey}&keyword={KeyWord}&numOfRows=10&pageNo=1&MobileOS=ETC&MobileApp=TestApp&_type=json\""
   ]
  },
  {
   "cell_type": "code",
   "execution_count": 12,
   "id": "ff6e3f69-41c0-4846-b708-080a5dcb0b51",
   "metadata": {},
   "outputs": [
    {
     "data": {
      "text/plain": [
       "'1) 뇌운계곡글램핑:\\n2) 김천맑은계곡 오토캠핑장:탁트인 뷰와 더불어 맑은 계곡이 있는 오토캠핑장입니다. 산과 냇가가 있는 공간에서 편리한 야영과 캠핑이 가능합니다.\\n3) 영월 엄둔밸리 계곡캠핑장 :엄둔계곡 상류에 위치하여, 오염되지 않은 맑은 수질의 계곡이 흐르고 있어 어린이들의 천연수영장을 제공합니다. 다양한 크기의 청결한 펜션과  방갈로, 캠핑사이트를 함께 운영중입니다. 신림IC에서 20분거리에 위치하고 있으며, 조용하고 아름다운 산세속에서 도로 차소음 없이 지인과 함께 캠핑과 숙박을 같이 이용하시기에 편리한 구조입니다. \\n4) 산중계곡캠핑장:계곡과 숲속에 자리한 오토캠핑장  산중계곡캠핑장은 경남 거창군 북상면에 자리 잡고 있다. 캠핑장은 숲속 사이트와 계곡 사이트로 구분된다. 파쇄석으로 이루어진 오토캠핑 사이트가 각각 19면과 20면이 마련되어 있다. 사이트 크기는 널찍해 대형 텐트를 설치하는 데 무리가 없다. 부대시설로는 한여름 무더위를 날리기 좋은 수영장이 있다. 주변에 덕유산국립공원이 있어 연계 여행에 나서기 수월하다.\\n5) 관악산 계곡 캠핑장:\\n6) 을수골 별빛계곡:\\n7) 양평힐링계곡 오토캠핑장:양평힐링계곡오토캠핑장은 서울에서 가까운 양평군 서종면에 위치한 신생 캠핑장으로 일체형 비데와 쾌적한 샤워시설 등 깨끗한 편의시설을 갖추었으며, 맑은 계곡과 총총한 별을 볼 수 있는 아늑하고 분위기 좋은 캠핑장 입니다.\\n8) 유명산 계곡 캠핑장:\\n9) 달빛 계곡 캠핑장:청정한 공기와 산을 둘러싸고 있어 계절마다 변화하는 산의 모습을 볼수있으며, 반짝반짝 별이가득한 밤하늘을 느낄수있는 캠핑장입니다.\\n10) 금천계곡 야영장:\\n'"
      ]
     },
     "execution_count": 12,
     "metadata": {},
     "output_type": "execute_result"
    }
   ],
   "source": [
    "result = get_url_content(url)\n",
    "\n",
    "import json\n",
    "\n",
    "data = json.loads(result)\n",
    "sites = data['response']['body']['items']['item']\n",
    "\n",
    "context = ''\n",
    "i = 1;\n",
    "for site in sites:\n",
    "    context = context + str(i) + \") \" + site['facltNm'] + \":\" + site['intro'] + \"\\n\"\n",
    "    i = i + 1\n",
    "context"
   ]
  },
  {
   "cell_type": "code",
   "execution_count": 13,
   "id": "ee440a77-5384-4ebb-a2bd-66c05f515722",
   "metadata": {},
   "outputs": [
    {
     "name": "stdout",
     "output_type": "stream",
     "text": [
      "계곡이 있는 캠핑장으로 추천할 만한 곳은 다음과 같습니다:\n",
      "\n",
      "1. **김천맑은계곡 오토캠핑장**: 맑은 계곡과 탁 트인 뷰가 있는 오토캠핑장으로, 산과 냇가가 있어 편리한 야영이 가능합니다.\n",
      "\n",
      "2. **영월 엄둔밸리 계곡캠핑장**: 오염되지 않은 맑은 수질의 계곡이 흐르고 있어 어린이들이 즐길 수 있는 천연 수영장이 있습니다. 다양한 숙소와 캠핑사이트가 마련되어 있습니다.\n",
      "\n",
      "3. **산중계곡캠핑장**: 계곡과 숲속에 위치한 오토캠핑장으로, 널찍한 사이트와 수영장 등의 부대시설이 있습니다.\n",
      "\n",
      "4. **양평힐링계곡 오토캠핑장**: 맑은 계곡과 쾌적한 편의시설을 갖춘 캠핑장으로, 아늑한 분위기를 제공합니다.\n",
      "\n",
      "5. **달빛 계곡 캠핑장**: 청정한 공기와 아름다운 산의 경치를 즐길 수 있는 캠핑장으로, 별이 가득한 밤하늘을 감상할 수 있습니다.\n",
      "\n",
      "이 중에서 원하는 스타일과 위치에 맞는 캠핑장을 선택하시면 좋을 것 같습니다!\n"
     ]
    }
   ],
   "source": [
    "import os\n",
    "import openai\n",
    "\n",
    "openai.api_key = os.getenv(\"OPENAI_API_KEY\")\n",
    "\n",
    "response = openai.chat.completions.create(\n",
    "  model=\"gpt-4o-mini\",\n",
    "  messages=[\n",
    "    {\n",
    "      \"role\": \"system\",\n",
    "      \"content\": f\"주어진 문단을 보고 다음 질문에 답해줘: {question}\"\n",
    "    },\n",
    "    {\n",
    "      \"role\": \"user\",\n",
    "      \"content\": context\n",
    "    }\n",
    "  ],\n",
    "  temperature=0,\n",
    "  max_tokens=1024,\n",
    "  top_p=1,\n",
    "  frequency_penalty=0,\n",
    "  presence_penalty=0\n",
    ")\n",
    "\n",
    "print(response.choices[0].message.content)"
   ]
  },
  {
   "cell_type": "code",
   "execution_count": null,
   "id": "8fe5ff5b-e5da-4f30-8e41-4f8a9fe445e9",
   "metadata": {},
   "outputs": [],
   "source": []
  }
 ],
 "metadata": {
  "kernelspec": {
   "display_name": "Python 3",
   "language": "python",
   "name": "python3"
  },
  "language_info": {
   "codemirror_mode": {
    "name": "ipython",
    "version": 3
   },
   "file_extension": ".py",
   "mimetype": "text/x-python",
   "name": "python",
   "nbconvert_exporter": "python",
   "pygments_lexer": "ipython3",
   "version": "3.10.12"
  }
 },
 "nbformat": 4,
 "nbformat_minor": 5
}
