{
 "cells": [
  {
   "cell_type": "code",
   "execution_count": 2,
   "metadata": {},
   "outputs": [
    {
     "name": "stdout",
     "output_type": "stream",
     "text": [
      "install: missing destination file operand after 'gradio'\n",
      "Try 'install --help' for more information.\n"
     ]
    }
   ],
   "source": [
    "!install gradio"
   ]
  },
  {
   "cell_type": "code",
   "execution_count": null,
   "metadata": {},
   "outputs": [],
   "source": [
    "from langchain.vectorstores import FAISS\n",
    "from langchain.embeddings.openai import OpenAIEmbeddings\n",
    "from langchain.docstore.document import Document\n",
    "from PyPDF2 import PdfReader\n",
    "import os\n",
    "\n",
    "# OpenAI API 키 설정\n",
    "OPENAI_API_KEY = os.getenv(\"OPENAI_API_KEY\")\n",
    "if not OPENAI_API_KEY:\n",
    "    raise ValueError(\"환경 변수 'OPENAI_API_KEY'를 설정하세요.\")\n",
    "\n",
    "def pdf_to_vectors(pdf_path, db_path):\n",
    "    # PDF 텍스트 읽기\n",
    "    reader = PdfReader(pdf_path)\n",
    "    text = \"\"\n",
    "    for page in reader.pages:\n",
    "        text += page.extract_text()\n",
    "    \n",
    "    # 텍스트를 청크로 나누기\n",
    "    from langchain.text_splitter import CharacterTextSplitter\n",
    "    text_splitter = CharacterTextSplitter(chunk_size=1000, chunk_overlap=200)\n",
    "    chunks = text_splitter.split_text(text)\n",
    "\n",
    "    # VectorDB 생성\n",
    "    documents = [Document(page_content=chunk) for chunk in chunks]\n",
    "    embeddings = OpenAIEmbeddings(openai_api_key=OPENAI_API_KEY)\n",
    "    vectorstore = FAISS.from_documents(documents, embeddings)\n",
    "    vectorstore.save_local(db_path)\n",
    "    print(f\"VectorDB 저장 완료: {db_path}\")\n",
    "\n",
    "if __name__ == \"__main__\":\n",
    "    # 테스트용 PDF 파일과 VectorDB 경로 설정\n",
    "    pdf_path = \"소나기.pdf\"  # 테스트 PDF 경로\n",
    "    db_path = \"vectordb\"\n",
    "    pdf_to_vectors(pdf_path, db_path)\n"
   ]
  }
 ],
 "metadata": {
  "kernelspec": {
   "display_name": "Python 3",
   "language": "python",
   "name": "python3"
  },
  "language_info": {
   "codemirror_mode": {
    "name": "ipython",
    "version": 3
   },
   "file_extension": ".py",
   "mimetype": "text/x-python",
   "name": "python",
   "nbconvert_exporter": "python",
   "pygments_lexer": "ipython3",
   "version": "3.10.12"
  }
 },
 "nbformat": 4,
 "nbformat_minor": 2
}
