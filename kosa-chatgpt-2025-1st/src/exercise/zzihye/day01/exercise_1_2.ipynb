{
 "cells": [
  {
   "cell_type": "markdown",
   "metadata": {},
   "source": [
    "실습: 사용자가 입력한 질문에 맞는 캠핑장을 검색해서 추천하는 ChatGPT 어플리케이션을 작성하시오(힌트: 고캠핑 API) "
   ]
  },
  {
   "cell_type": "code",
   "execution_count": 3,
   "metadata": {},
   "outputs": [
    {
     "name": "stdout",
     "output_type": "stream",
     "text": [
      "사용자 질문: 바다 근처 캠핑장 추천해줘\n",
      "바다 근처 캠핑장으로는 솔비치캠핑장을 추천해드립니다. 이 캠핑장은 충청남도 태안군에 위치해 있으며, 바다를 품고 자리하고 있어 해수욕과 바다 전망을 즐길 수 있는 캠핑장으로 유명합니다. 솔비치캠핑장은 자연환경이 아름다우며, 조용한 분위기에서 휴식을 취할 수 있도록 조성되어 있습니다. 바다 근처에서 자연 속에서 힐링하고 싶다면 솔비치캠핑장을 방문해보세요.\n"
     ]
    }
   ],
   "source": [
    "import os\n",
    "import openai\n",
    "import requests\n",
    "import json\n",
    "\n",
    "openai.api_key = os.getenv(\"OPENAI_API_KEY\")\n",
    "\n",
    "# (가상) 고캠핑 API 키 및 엔드포인트\n",
    "GO_CAMPING_API_KEY = \"key\"\n",
    "GO_CAMPING_API_ENDPOINT = \"http://apis.data.go.kr/B551011/GoCamping/basedList\"  # 가상 URL\n",
    "\n",
    "def recommend_campsites(query):\n",
    "    \"\"\"\n",
    "    사용자 질문에 맞는 캠핑장을 검색하여 추천합니다.\n",
    "\n",
    "    Args:\n",
    "        query (str): 사용자 질문\n",
    "\n",
    "    Returns:\n",
    "        str: 추천 캠핑장 정보 문자열\n",
    "    \"\"\"\n",
    "\n",
    "    try:\n",
    "        # API 요청 파라미터 설정 (예시)\n",
    "        params = {\n",
    "            \"serviceKey\": GO_CAMPING_API_KEY,\n",
    "            \"numOfRows\": 10,\n",
    "            \"pageNo\": 1,\n",
    "            \"MobileOS\": \"ETC\",\n",
    "            \"MobileApp\": \"AppTest\",\n",
    "            \"_type\": \"json\",  # 사용자 질문을 키워드로 사용\n",
    "            # 필요한 다른 파라미터 추가 (지역, 편의시설 등)\n",
    "        }\n",
    "\n",
    "        # API 요청\n",
    "        response = requests.get(GO_CAMPING_API_ENDPOINT, params=params)\n",
    "        #print(response.url)\n",
    "        response.raise_for_status()  # 오류 발생 시 예외 발생\n",
    "\n",
    "        # 응답 데이터 파싱\n",
    "        data = response.json()\n",
    "\n",
    "        # OpenAI 프롬프트 생성\n",
    "        camps = data['response']['body']['items']['item']\n",
    "        camp_info_for_prompt = \"\"\n",
    "        for camp in camps:\n",
    "            if camp.get('lctCl') and '바다' in camp['lctCl'] or '해변' in camp['lctCl']:\n",
    "                camp_info_for_prompt += f\"캠핑장 이름: {camp['facltNm']}, 위치: {camp['doNm']} {camp['sigunguNm']}, 특징: {camp.get('lineIntro', '')}\\n\"\n",
    "        \n",
    "        prompt = f\"\"\"\n",
    "        사용자는 \"{query}\"라고 질문했습니다. 다음 캠핑장 정보를 참고하여 바다 근처 캠핑장을 추천해주세요.\n",
    "\n",
    "        {camp_info_for_prompt}\n",
    "        \"\"\"\n",
    "        \n",
    "        # OpenAI API 호출\n",
    "        response = openai.chat.completions.create(\n",
    "            model=\"gpt-3.5-turbo\",  # 또는 다른 적절한 모델\n",
    "            messages=[\n",
    "                {\"role\": \"system\", \"content\": \"캠핑장 추천 전문가\"},\n",
    "                {\"role\": \"user\", \"content\": prompt}\n",
    "            ],\n",
    "            max_tokens=1000,\n",
    "            temperature=0.7,  # 창의적인 답변을 위해 온도 조정\n",
    "        )\n",
    "        \n",
    "        recommendations = response.choices[0].message.content\n",
    "        return recommendations\n",
    "\n",
    "    except requests.exceptions.RequestException as e:\n",
    "        return f\"API 요청 중 오류 발생: {e}\"\n",
    "    except Exception as e:\n",
    "        return f\"추천 중 오류 발생: {e}\"\n",
    "\n",
    "\n",
    "# 예시 사용\n",
    "user_query = \"계곡곡 근처 캠핑장 추천해줘\"\n",
    "recommendations = recommend_campsites(user_query)\n",
    "print(f\"사용자 질문: {user_query}\\n{recommendations}\")"
   ]
  }
 ],
 "metadata": {
  "kernelspec": {
   "display_name": "Python 3",
   "language": "python",
   "name": "python3"
  },
  "language_info": {
   "codemirror_mode": {
    "name": "ipython",
    "version": 3
   },
   "file_extension": ".py",
   "mimetype": "text/x-python",
   "name": "python",
   "nbconvert_exporter": "python",
   "pygments_lexer": "ipython3",
   "version": "3.10.12"
  }
 },
 "nbformat": 4,
 "nbformat_minor": 2
}
