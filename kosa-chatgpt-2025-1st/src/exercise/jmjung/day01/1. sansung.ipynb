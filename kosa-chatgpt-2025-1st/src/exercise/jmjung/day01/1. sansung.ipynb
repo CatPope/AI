{
 "cells": [
  {
   "cell_type": "code",
   "execution_count": 2,
   "metadata": {},
   "outputs": [
    {
     "name": "stdout",
     "output_type": "stream",
     "text": [
      "2024년 삼성전자의 주가 데이터 분석을 통해 2025년 주가 흐름을 예측해보겠습니다.\n",
      "\n",
      "### 2024년 주가 흐름 분석\n",
      "\n",
      "1. **초기 하락세**: 2024년 초, 삼성전자의 주가는 78,200원에서 시작하여 1월 중순까지 하락세를 보였습니다. 특히 1월 3일에는 -3.27%의 큰 하락률을 기록했습니다. 이 시기에는 시장의 불확실성이나 외부 요인으로 인해 주가가 불안정했습니다.\n",
      "\n",
      "2. **상승세 전환**: 1월 중순부터 2월 초까지 주가는 점진적으로 상승세를 보였습니다. 2월 2일에는 75,200원으로 상승하며 긍정적인 흐름을 이어갔습니다. 이 시기에는 거래량도 증가하며 투자자들의 관심이 높아졌습니다.\n",
      "\n",
      "3. **변동성**: 3월부터 4월까지 주가는 다시 변동성을 보였습니다. 3월 20일에는 76,900원에서 79,300원으로 급등한 후, 다시 하락세로 돌아섰습니다. 이 시기에는 외부 경제 요인이나 기업 실적 발표 등이 영향을 미쳤을 가능성이 있습니다.\n",
      "\n",
      "4. **하반기 하락세**: 8월부터 10월까지 주가는 지속적으로 하락세를 보였습니다. 특히 8월 5일에는 -10.30%의 큰 하락률을 기록하며 주가가 71,400원으로 떨어졌습니다. 이 시기에는 글로벌 경제 불안정성이나 반도체 시장의 침체 등이 영향을 미쳤을 것으로 보입니다.\n",
      "\n",
      "5. **연말 회복세**: 11월 중순부터 12월까지 주가는 다시 회복세를 보이며 54,000원대에서 안정세를 찾았습니다. 연말에는 거래량이 증가하며 긍정적인 신호를 보였습니다.\n",
      "\n",
      "### 2025년 주가 예측\n",
      "\n",
      "1. **경제 회복 기대**: 2025년에는 글로벌 경제가 회복세를 보일 것으로 예상됩니다. 특히 반도체 시장의 수요가 증가할 경우 삼성전자의 실적 개선이 기대됩니다.\n",
      "\n",
      "2. **기술 혁신**: 삼성전자가 새로운 기술 혁신이나 제품 출시를 통해 시장에서의 경쟁력을 강화할 경우, 주가는 긍정적인 영향을 받을 것입니다.\n",
      "\n",
      "3. **주가 목표**: 2024년 말 주가가 54,000원대에서 안정세를 보이고 있으므로, 2025년에는 60,000원에서 70,000원 사이의 주가를 목표로 할 수 있습니다. 특히 반도체 시장의 회복세가 뒷받침된다면, 70,000원 이상의 주가도 가능할 것입니다.\n",
      "\n",
      "4. **리스크 요인**: 그러나 글로벌 경제 불확실성, 금리 인상, 반도체 가격 하락 등의 리스크 요인도 존재하므로, 주가가 하락할 가능성도 염두에 두어야 합니다.\n",
      "\n",
      "결론적으로, 2025년 삼성전자의 주가는 긍정적인 흐름을 보일 가능성이 높지만, 외부 요인에 따라 변동성이 클 수 있으므로 주의가 필요합니다.\n"
     ]
    }
   ],
   "source": [
    "import os\n",
    "import openai\n",
    "\n",
    "from pykrx import stock\n",
    "from pykrx import bond\n",
    "\n",
    "#  005930 삼성전자 티커 \n",
    "# for ticker in stock.get_market_ticker_list():\n",
    "#         종목 = stock.get_market_ticker_name(ticker)\n",
    "#         if(종목.startswith(\"삼성\")):\n",
    "#             print(종목, ticker)\n",
    "\n",
    "df = stock.get_market_ohlcv(\"20240101\", \"20241231\", \"005930\")\n",
    "# print(df)\n",
    "\n",
    "response = openai.chat.completions.create(\n",
    "  model=\"gpt-4o-mini\",\n",
    "  messages=[\n",
    "    {\n",
    "      \"role\": \"system\",\n",
    "      \"content\": \"삼성전자의 2024년 주가 데이터야 2024년의 흐름을 분석하고 2025년의 주가가 어떨지 분석해봐\"\n",
    "    },\n",
    "    {\n",
    "      \"role\": \"user\",\n",
    "      \"content\": df.to_string()\n",
    "    }\n",
    "  ],\n",
    "  temperature=0,\n",
    "  max_tokens=1024,\n",
    "  top_p=1,\n",
    "  frequency_penalty=0,\n",
    "  presence_penalty=0\n",
    ")\n",
    "\n",
    "print(response.choices[0].message.content)\n",
    "\n"
   ]
  }
 ],
 "metadata": {
  "kernelspec": {
   "display_name": "Python 3",
   "language": "python",
   "name": "python3"
  },
  "language_info": {
   "codemirror_mode": {
    "name": "ipython",
    "version": 3
   },
   "file_extension": ".py",
   "mimetype": "text/x-python",
   "name": "python",
   "nbconvert_exporter": "python",
   "pygments_lexer": "ipython3",
   "version": "3.10.12"
  }
 },
 "nbformat": 4,
 "nbformat_minor": 2
}
