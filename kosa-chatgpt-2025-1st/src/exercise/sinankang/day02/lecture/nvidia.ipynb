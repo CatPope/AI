{
 "cells": [
  {
   "cell_type": "code",
   "execution_count": 1,
   "metadata": {},
   "outputs": [],
   "source": [
    "import os\n",
    "os.environ[\"OPENAI_DEFAULT_MODEL\"] = 'gpt-4o-mini'"
   ]
  },
  {
   "cell_type": "code",
   "execution_count": 2,
   "metadata": {},
   "outputs": [
    {
     "name": "stdout",
     "output_type": "stream",
     "text": [
      "Defaulting to user installation because normal site-packages is not writeable\n",
      "Requirement already satisfied: yfinance in /home/ubuntu/.local/lib/python3.10/site-packages (0.2.52)\n",
      "Requirement already satisfied: matplotlib in /home/ubuntu/.local/lib/python3.10/site-packages (3.10.0)\n",
      "Requirement already satisfied: pandas>=1.3.0 in /home/ubuntu/.local/lib/python3.10/site-packages (from yfinance) (2.2.3)\n",
      "Requirement already satisfied: numpy>=1.16.5 in /home/ubuntu/.local/lib/python3.10/site-packages (from yfinance) (1.26.3)\n",
      "Requirement already satisfied: pytz>=2022.5 in /home/ubuntu/.local/lib/python3.10/site-packages (from yfinance) (2024.2)\n",
      "Requirement already satisfied: multitasking>=0.0.7 in /home/ubuntu/.local/lib/python3.10/site-packages (from yfinance) (0.0.11)\n",
      "Requirement already satisfied: frozendict>=2.3.4 in /home/ubuntu/.local/lib/python3.10/site-packages (from yfinance) (2.4.6)\n",
      "Requirement already satisfied: lxml>=4.9.1 in /home/ubuntu/.local/lib/python3.10/site-packages (from yfinance) (5.3.0)\n",
      "Requirement already satisfied: html5lib>=1.1 in /home/ubuntu/.local/lib/python3.10/site-packages (from yfinance) (1.1)\n",
      "Requirement already satisfied: platformdirs>=2.0.0 in /home/ubuntu/.local/lib/python3.10/site-packages (from yfinance) (4.3.6)\n",
      "Requirement already satisfied: peewee>=3.16.2 in /home/ubuntu/.local/lib/python3.10/site-packages (from yfinance) (3.17.8)\n",
      "Requirement already satisfied: requests>=2.31 in /home/ubuntu/.local/lib/python3.10/site-packages (from yfinance) (2.32.3)\n",
      "Requirement already satisfied: beautifulsoup4>=4.11.1 in /home/ubuntu/.local/lib/python3.10/site-packages (from yfinance) (4.12.3)\n",
      "Requirement already satisfied: kiwisolver>=1.3.1 in /home/ubuntu/.local/lib/python3.10/site-packages (from matplotlib) (1.4.8)\n",
      "Requirement already satisfied: pillow>=8 in /home/ubuntu/.local/lib/python3.10/site-packages (from matplotlib) (11.1.0)\n",
      "Requirement already satisfied: packaging>=20.0 in /home/ubuntu/.local/lib/python3.10/site-packages (from matplotlib) (24.2)\n",
      "Requirement already satisfied: fonttools>=4.22.0 in /home/ubuntu/.local/lib/python3.10/site-packages (from matplotlib) (4.55.3)\n",
      "Requirement already satisfied: python-dateutil>=2.7 in /home/ubuntu/.local/lib/python3.10/site-packages (from matplotlib) (2.9.0.post0)\n",
      "Requirement already satisfied: contourpy>=1.0.1 in /home/ubuntu/.local/lib/python3.10/site-packages (from matplotlib) (1.3.1)\n",
      "Requirement already satisfied: pyparsing>=2.3.1 in /usr/lib/python3/dist-packages (from matplotlib) (2.4.7)\n",
      "Requirement already satisfied: cycler>=0.10 in /home/ubuntu/.local/lib/python3.10/site-packages (from matplotlib) (0.12.1)\n",
      "Requirement already satisfied: soupsieve>1.2 in /home/ubuntu/.local/lib/python3.10/site-packages (from beautifulsoup4>=4.11.1->yfinance) (2.6)\n",
      "Requirement already satisfied: webencodings in /home/ubuntu/.local/lib/python3.10/site-packages (from html5lib>=1.1->yfinance) (0.5.1)\n",
      "Requirement already satisfied: six>=1.9 in /usr/lib/python3/dist-packages (from html5lib>=1.1->yfinance) (1.16.0)\n",
      "Requirement already satisfied: tzdata>=2022.7 in /home/ubuntu/.local/lib/python3.10/site-packages (from pandas>=1.3.0->yfinance) (2024.2)\n",
      "Requirement already satisfied: certifi>=2017.4.17 in /usr/lib/python3/dist-packages (from requests>=2.31->yfinance) (2020.6.20)\n",
      "Requirement already satisfied: urllib3<3,>=1.21.1 in /home/ubuntu/.local/lib/python3.10/site-packages (from requests>=2.31->yfinance) (2.3.0)\n",
      "Requirement already satisfied: charset-normalizer<4,>=2 in /home/ubuntu/.local/lib/python3.10/site-packages (from requests>=2.31->yfinance) (3.4.1)\n",
      "Requirement already satisfied: idna<4,>=2.5 in /usr/lib/python3/dist-packages (from requests>=2.31->yfinance) (3.3)\n"
     ]
    }
   ],
   "source": [
    "!pip install yfinance matplotlib"
   ]
  },
  {
   "cell_type": "code",
   "execution_count": 3,
   "metadata": {
    "colab": {
     "base_uri": "https://localhost:8080/"
    },
    "executionInfo": {
     "elapsed": 458,
     "status": "ok",
     "timestamp": 1716780397384,
     "user": {
      "displayName": "노규남",
      "userId": "12395859382694188829"
     },
     "user_tz": -540
    },
    "id": "7RRLMEzCE6KH",
    "outputId": "c074cee4-e23a-4a90-f39e-0e3df127b672"
   },
   "outputs": [
    {
     "name": "stderr",
     "output_type": "stream",
     "text": [
      "[*********************100%***********************]  1 of 1 completed\n"
     ]
    }
   ],
   "source": [
    "import yfinance as yf\n",
    "import matplotlib.pyplot as plt\n",
    "\n",
    "ticker = \"NVDA\"\n",
    "df = yf.download(ticker, start=\"2024-05-01\", end=\"2024-05-26\")"
   ]
  },
  {
   "cell_type": "code",
   "execution_count": 4,
   "metadata": {
    "colab": {
     "base_uri": "https://localhost:8080/",
     "height": 237
    },
    "executionInfo": {
     "elapsed": 2,
     "status": "ok",
     "timestamp": 1716780406395,
     "user": {
      "displayName": "노규남",
      "userId": "12395859382694188829"
     },
     "user_tz": -540
    },
    "id": "-T1lqhQ0FgBB",
    "outputId": "5a3c37db-a3f9-4c81-f4a0-e95115aab0c6"
   },
   "outputs": [
    {
     "data": {
      "text/html": [
       "<div>\n",
       "<style scoped>\n",
       "    .dataframe tbody tr th:only-of-type {\n",
       "        vertical-align: middle;\n",
       "    }\n",
       "\n",
       "    .dataframe tbody tr th {\n",
       "        vertical-align: top;\n",
       "    }\n",
       "\n",
       "    .dataframe thead tr th {\n",
       "        text-align: left;\n",
       "    }\n",
       "\n",
       "    .dataframe thead tr:last-of-type th {\n",
       "        text-align: right;\n",
       "    }\n",
       "</style>\n",
       "<table border=\"1\" class=\"dataframe\">\n",
       "  <thead>\n",
       "    <tr>\n",
       "      <th>Price</th>\n",
       "      <th>Close</th>\n",
       "      <th>High</th>\n",
       "      <th>Low</th>\n",
       "      <th>Open</th>\n",
       "      <th>Volume</th>\n",
       "    </tr>\n",
       "    <tr>\n",
       "      <th>Ticker</th>\n",
       "      <th>NVDA</th>\n",
       "      <th>NVDA</th>\n",
       "      <th>NVDA</th>\n",
       "      <th>NVDA</th>\n",
       "      <th>NVDA</th>\n",
       "    </tr>\n",
       "    <tr>\n",
       "      <th>Date</th>\n",
       "      <th></th>\n",
       "      <th></th>\n",
       "      <th></th>\n",
       "      <th></th>\n",
       "      <th></th>\n",
       "    </tr>\n",
       "  </thead>\n",
       "  <tbody>\n",
       "    <tr>\n",
       "      <th>2024-05-01</th>\n",
       "      <td>83.021355</td>\n",
       "      <td>85.979654</td>\n",
       "      <td>81.235774</td>\n",
       "      <td>85.056876</td>\n",
       "      <td>559863000</td>\n",
       "    </tr>\n",
       "    <tr>\n",
       "      <th>2024-05-02</th>\n",
       "      <td>85.796700</td>\n",
       "      <td>86.216598</td>\n",
       "      <td>83.180314</td>\n",
       "      <td>84.429019</td>\n",
       "      <td>377898000</td>\n",
       "    </tr>\n",
       "    <tr>\n",
       "      <th>2024-05-03</th>\n",
       "      <td>88.767998</td>\n",
       "      <td>89.259878</td>\n",
       "      <td>87.019411</td>\n",
       "      <td>87.768234</td>\n",
       "      <td>398341000</td>\n",
       "    </tr>\n",
       "    <tr>\n",
       "      <th>2024-05-06</th>\n",
       "      <td>92.118202</td>\n",
       "      <td>92.198185</td>\n",
       "      <td>89.033933</td>\n",
       "      <td>89.368853</td>\n",
       "      <td>376203000</td>\n",
       "    </tr>\n",
       "    <tr>\n",
       "      <th>2024-05-07</th>\n",
       "      <td>90.532578</td>\n",
       "      <td>91.759285</td>\n",
       "      <td>88.989943</td>\n",
       "      <td>91.076448</td>\n",
       "      <td>437342000</td>\n",
       "    </tr>\n",
       "  </tbody>\n",
       "</table>\n",
       "</div>"
      ],
      "text/plain": [
       "Price           Close       High        Low       Open     Volume\n",
       "Ticker           NVDA       NVDA       NVDA       NVDA       NVDA\n",
       "Date                                                             \n",
       "2024-05-01  83.021355  85.979654  81.235774  85.056876  559863000\n",
       "2024-05-02  85.796700  86.216598  83.180314  84.429019  377898000\n",
       "2024-05-03  88.767998  89.259878  87.019411  87.768234  398341000\n",
       "2024-05-06  92.118202  92.198185  89.033933  89.368853  376203000\n",
       "2024-05-07  90.532578  91.759285  88.989943  91.076448  437342000"
      ]
     },
     "execution_count": 4,
     "metadata": {},
     "output_type": "execute_result"
    }
   ],
   "source": [
    "df.head()"
   ]
  },
  {
   "cell_type": "code",
   "execution_count": 5,
   "metadata": {
    "colab": {
     "base_uri": "https://localhost:8080/",
     "height": 237
    },
    "executionInfo": {
     "elapsed": 504,
     "status": "ok",
     "timestamp": 1716780417721,
     "user": {
      "displayName": "노규남",
      "userId": "12395859382694188829"
     },
     "user_tz": -540
    },
    "id": "n3uI4WV6FiHh",
    "outputId": "4ca55607-bcd1-4bea-e469-8b48e8a27036"
   },
   "outputs": [
    {
     "data": {
      "text/html": [
       "<div>\n",
       "<style scoped>\n",
       "    .dataframe tbody tr th:only-of-type {\n",
       "        vertical-align: middle;\n",
       "    }\n",
       "\n",
       "    .dataframe tbody tr th {\n",
       "        vertical-align: top;\n",
       "    }\n",
       "\n",
       "    .dataframe thead tr th {\n",
       "        text-align: left;\n",
       "    }\n",
       "\n",
       "    .dataframe thead tr:last-of-type th {\n",
       "        text-align: right;\n",
       "    }\n",
       "</style>\n",
       "<table border=\"1\" class=\"dataframe\">\n",
       "  <thead>\n",
       "    <tr>\n",
       "      <th>Price</th>\n",
       "      <th>Close</th>\n",
       "      <th>High</th>\n",
       "      <th>Low</th>\n",
       "      <th>Open</th>\n",
       "      <th>Volume</th>\n",
       "    </tr>\n",
       "    <tr>\n",
       "      <th>Ticker</th>\n",
       "      <th>NVDA</th>\n",
       "      <th>NVDA</th>\n",
       "      <th>NVDA</th>\n",
       "      <th>NVDA</th>\n",
       "      <th>NVDA</th>\n",
       "    </tr>\n",
       "    <tr>\n",
       "      <th>Date</th>\n",
       "      <th></th>\n",
       "      <th></th>\n",
       "      <th></th>\n",
       "      <th></th>\n",
       "      <th></th>\n",
       "    </tr>\n",
       "  </thead>\n",
       "  <tbody>\n",
       "    <tr>\n",
       "      <th>2024-05-20</th>\n",
       "      <td>94.757576</td>\n",
       "      <td>95.177475</td>\n",
       "      <td>93.417897</td>\n",
       "      <td>93.727821</td>\n",
       "      <td>318764000</td>\n",
       "    </tr>\n",
       "    <tr>\n",
       "      <th>2024-05-21</th>\n",
       "      <td>95.363441</td>\n",
       "      <td>95.377438</td>\n",
       "      <td>93.157962</td>\n",
       "      <td>93.576862</td>\n",
       "      <td>328946000</td>\n",
       "    </tr>\n",
       "    <tr>\n",
       "      <th>2024-05-22</th>\n",
       "      <td>94.927544</td>\n",
       "      <td>95.997290</td>\n",
       "      <td>93.226949</td>\n",
       "      <td>95.436426</td>\n",
       "      <td>548648000</td>\n",
       "    </tr>\n",
       "    <tr>\n",
       "      <th>2024-05-23</th>\n",
       "      <td>103.774452</td>\n",
       "      <td>106.294852</td>\n",
       "      <td>101.495984</td>\n",
       "      <td>102.003867</td>\n",
       "      <td>835065000</td>\n",
       "    </tr>\n",
       "    <tr>\n",
       "      <th>2024-05-24</th>\n",
       "      <td>106.443817</td>\n",
       "      <td>106.449812</td>\n",
       "      <td>102.975636</td>\n",
       "      <td>104.424291</td>\n",
       "      <td>429494000</td>\n",
       "    </tr>\n",
       "  </tbody>\n",
       "</table>\n",
       "</div>"
      ],
      "text/plain": [
       "Price            Close        High         Low        Open     Volume\n",
       "Ticker            NVDA        NVDA        NVDA        NVDA       NVDA\n",
       "Date                                                                 \n",
       "2024-05-20   94.757576   95.177475   93.417897   93.727821  318764000\n",
       "2024-05-21   95.363441   95.377438   93.157962   93.576862  328946000\n",
       "2024-05-22   94.927544   95.997290   93.226949   95.436426  548648000\n",
       "2024-05-23  103.774452  106.294852  101.495984  102.003867  835065000\n",
       "2024-05-24  106.443817  106.449812  102.975636  104.424291  429494000"
      ]
     },
     "execution_count": 5,
     "metadata": {},
     "output_type": "execute_result"
    }
   ],
   "source": [
    "df.tail()"
   ]
  },
  {
   "cell_type": "code",
   "execution_count": 6,
   "metadata": {
    "colab": {
     "base_uri": "https://localhost:8080/",
     "height": 634
    },
    "executionInfo": {
     "elapsed": 962,
     "status": "ok",
     "timestamp": 1716780421933,
     "user": {
      "displayName": "노규남",
      "userId": "12395859382694188829"
     },
     "user_tz": -540
    },
    "id": "3gAjNkn5FU3S",
    "outputId": "8c28f31a-019e-4df1-e23a-52848662668c"
   },
   "outputs": [
    {
     "data": {
      "image/png": "[encoded data removed]",
      "text/plain": [
       "<Figure size 1400x700 with 1 Axes>"
      ]
     },
     "metadata": {},
     "output_type": "display_data"
    }
   ],
   "source": [
    "plt.figure(figsize=(14, 7))\n",
    "plt.plot(df['Close'], label='Closing Price')\n",
    "plt.title('NVIDIA(NVDA) Stock Price')\n",
    "plt.xlabel('Date')\n",
    "plt.ylabel('Price')\n",
    "plt.legend()\n",
    "plt.show()\n"
   ]
  },
  {
   "cell_type": "code",
   "execution_count": 7,
   "metadata": {},
   "outputs": [],
   "source": [
    "df.rename(columns={\n",
    "    'Open': '시가',\n",
    "    'High': '고가',\n",
    "    'Low': '저가',\n",
    "    'Close': '종가',\n",
    "    'Adj Close': '수정 종가',\n",
    "    'Volume': '거래량'\n",
    "}, inplace=True)\n",
    "\n",
    "df.rename_axis('날짜', inplace=True)"
   ]
  },
  {
   "cell_type": "code",
   "execution_count": 8,
   "metadata": {},
   "outputs": [
    {
     "data": {
      "text/html": [
       "<div>\n",
       "<style scoped>\n",
       "    .dataframe tbody tr th:only-of-type {\n",
       "        vertical-align: middle;\n",
       "    }\n",
       "\n",
       "    .dataframe tbody tr th {\n",
       "        vertical-align: top;\n",
       "    }\n",
       "\n",
       "    .dataframe thead tr th {\n",
       "        text-align: left;\n",
       "    }\n",
       "\n",
       "    .dataframe thead tr:last-of-type th {\n",
       "        text-align: right;\n",
       "    }\n",
       "</style>\n",
       "<table border=\"1\" class=\"dataframe\">\n",
       "  <thead>\n",
       "    <tr>\n",
       "      <th>Price</th>\n",
       "      <th>종가</th>\n",
       "      <th>고가</th>\n",
       "      <th>저가</th>\n",
       "      <th>시가</th>\n",
       "      <th>거래량</th>\n",
       "    </tr>\n",
       "    <tr>\n",
       "      <th>Ticker</th>\n",
       "      <th>NVDA</th>\n",
       "      <th>NVDA</th>\n",
       "      <th>NVDA</th>\n",
       "      <th>NVDA</th>\n",
       "      <th>NVDA</th>\n",
       "    </tr>\n",
       "    <tr>\n",
       "      <th>날짜</th>\n",
       "      <th></th>\n",
       "      <th></th>\n",
       "      <th></th>\n",
       "      <th></th>\n",
       "      <th></th>\n",
       "    </tr>\n",
       "  </thead>\n",
       "  <tbody>\n",
       "    <tr>\n",
       "      <th>2024-05-01</th>\n",
       "      <td>83.021355</td>\n",
       "      <td>85.979654</td>\n",
       "      <td>81.235774</td>\n",
       "      <td>85.056876</td>\n",
       "      <td>559863000</td>\n",
       "    </tr>\n",
       "    <tr>\n",
       "      <th>2024-05-02</th>\n",
       "      <td>85.796700</td>\n",
       "      <td>86.216598</td>\n",
       "      <td>83.180314</td>\n",
       "      <td>84.429019</td>\n",
       "      <td>377898000</td>\n",
       "    </tr>\n",
       "    <tr>\n",
       "      <th>2024-05-03</th>\n",
       "      <td>88.767998</td>\n",
       "      <td>89.259878</td>\n",
       "      <td>87.019411</td>\n",
       "      <td>87.768234</td>\n",
       "      <td>398341000</td>\n",
       "    </tr>\n",
       "    <tr>\n",
       "      <th>2024-05-06</th>\n",
       "      <td>92.118202</td>\n",
       "      <td>92.198185</td>\n",
       "      <td>89.033933</td>\n",
       "      <td>89.368853</td>\n",
       "      <td>376203000</td>\n",
       "    </tr>\n",
       "    <tr>\n",
       "      <th>2024-05-07</th>\n",
       "      <td>90.532578</td>\n",
       "      <td>91.759285</td>\n",
       "      <td>88.989943</td>\n",
       "      <td>91.076448</td>\n",
       "      <td>437342000</td>\n",
       "    </tr>\n",
       "  </tbody>\n",
       "</table>\n",
       "</div>"
      ],
      "text/plain": [
       "Price              종가         고가         저가         시가        거래량\n",
       "Ticker           NVDA       NVDA       NVDA       NVDA       NVDA\n",
       "날짜                                                               \n",
       "2024-05-01  83.021355  85.979654  81.235774  85.056876  559863000\n",
       "2024-05-02  85.796700  86.216598  83.180314  84.429019  377898000\n",
       "2024-05-03  88.767998  89.259878  87.019411  87.768234  398341000\n",
       "2024-05-06  92.118202  92.198185  89.033933  89.368853  376203000\n",
       "2024-05-07  90.532578  91.759285  88.989943  91.076448  437342000"
      ]
     },
     "execution_count": 8,
     "metadata": {},
     "output_type": "execute_result"
    }
   ],
   "source": [
    "df.head()"
   ]
  },
  {
   "cell_type": "code",
   "execution_count": 9,
   "metadata": {
    "colab": {
     "base_uri": "https://localhost:8080/",
     "height": 148
    },
    "executionInfo": {
     "elapsed": 3,
     "status": "ok",
     "timestamp": 1716780480500,
     "user": {
      "displayName": "노규남",
      "userId": "12395859382694188829"
     },
     "user_tz": -540
    },
    "id": "qObWNXIRFmgp",
    "outputId": "eaa48853-5509-4c32-a473-741f6a4dda26"
   },
   "outputs": [
    {
     "name": "stdout",
     "output_type": "stream",
     "text": [
      "Price,종가,고가,저가,시가,거래량\n",
      "Ticker,NVDA,NVDA,NVDA,NVDA,NVDA\n",
      "날짜,,,,,\n",
      "2024-05-01,83.02135467529297,85.97965427425616,81.23577409191292,85.05687611412145,559863000\n",
      "2024-05-02,85.79669952392578,86.21659833345969,83.18031423689433,84.42901930882867,377898000\n",
      "2024-05-03,88.76799774169922,89.25987812120627,87.01941093195316,87.76823429941243,398341000\n",
      "2024-05-06,92.11820220947266,92.19818511482366,89.0339329305278,89.36885276564674,376203000\n",
      "2024-05-07,90.53257751464844,91.75928460609057,88.98994329110344,91.0764475332469,437342000\n",
      "2024-05-08,90.39061737060547,91.17243008499568,89.39884761533344,89.46183625311598,325721000\n",
      "2024-05-09,88.72601318359375,91.05046027533749,88.21013637581568,90.50758942585304,378013000\n",
      "2024-05-10,89.85673522949219,91.37937754567422,89.20588826518858,90.2836361635132,335325000\n",
      "2024-05-13,90.37762451171875,90.97648188381773,88.50806398354068,90.45660058201008,289680000\n",
      "2024-05-14,91.33439636230469,91.62932476175912,88.91296448661012,89.5778081239568,296507000\n",
      "2024-05-15,94.60760498046875,94.83955234013227,91.57732397485312,92.45011849545092,417735000\n",
      "2024-05-16,94.33667755126953,95.7963312267465,94.08073378370163,94.88754969662851,323952000\n",
      "2024-05-17,92.45712280273438,94.71758960919352,91.7842854613637,94.3466827903293,359691000\n",
      "2024-05-20,94.75757598876953,95.17747479570718,93.41789666351426,93.72782088374116,318764000\n",
      "2024-05-21,95.36344146728516,95.3774380950692,93.1579619356149,93.5768615548364,328946000\n",
      "2024-05-22,94.92754364013672,95.99729030669772,93.22694948447011,95.4364259592329,548648000\n",
      "2024-05-23,103.77445220947266,106.29485201655153,101.495984300881,102.00386737865297,835065000\n",
      "2024-05-24,106.44381713867188,106.4498124242875,102.97563594111259,104.42429068662888,429494000\n",
      "\n"
     ]
    }
   ],
   "source": [
    "from io import StringIO\n",
    "csv_buffer = StringIO()\n",
    "df.to_csv(csv_buffer)\n",
    "\n",
    "csv_data = csv_buffer.getvalue()\n",
    "print(csv_data)"
   ]
  },
  {
   "cell_type": "code",
   "execution_count": 10,
   "metadata": {
    "colab": {
     "base_uri": "https://localhost:8080/"
    },
    "executionInfo": {
     "elapsed": 9434,
     "status": "ok",
     "timestamp": 1716780567239,
     "user": {
      "displayName": "노규남",
      "userId": "12395859382694188829"
     },
     "user_tz": -540
    },
    "id": "HrKtgYy-GCtH",
    "outputId": "1d83ce76-bf0d-4714-fdff-1d544dda7567"
   },
   "outputs": [
    {
     "name": "stdout",
     "output_type": "stream",
     "text": [
      "Defaulting to user installation because normal site-packages is not writeable\n",
      "Requirement already satisfied: openai in /home/ubuntu/.local/lib/python3.10/site-packages (1.59.8)\n",
      "Requirement already satisfied: jiter<1,>=0.4.0 in /home/ubuntu/.local/lib/python3.10/site-packages (from openai) (0.8.2)\n",
      "Requirement already satisfied: tqdm>4 in /home/ubuntu/.local/lib/python3.10/site-packages (from openai) (4.67.1)\n",
      "Requirement already satisfied: httpx<1,>=0.23.0 in /home/ubuntu/.local/lib/python3.10/site-packages (from openai) (0.27.2)\n",
      "Requirement already satisfied: distro<2,>=1.7.0 in /usr/lib/python3/dist-packages (from openai) (1.7.0)\n",
      "Requirement already satisfied: anyio<5,>=3.5.0 in /home/ubuntu/.local/lib/python3.10/site-packages (from openai) (4.8.0)\n",
      "Requirement already satisfied: sniffio in /home/ubuntu/.local/lib/python3.10/site-packages (from openai) (1.3.1)\n",
      "Requirement already satisfied: pydantic<3,>=1.9.0 in /home/ubuntu/.local/lib/python3.10/site-packages (from openai) (2.10.5)\n",
      "Requirement already satisfied: typing-extensions<5,>=4.11 in /home/ubuntu/.local/lib/python3.10/site-packages (from openai) (4.12.2)\n",
      "Requirement already satisfied: exceptiongroup>=1.0.2 in /home/ubuntu/.local/lib/python3.10/site-packages (from anyio<5,>=3.5.0->openai) (1.2.2)\n",
      "Requirement already satisfied: idna>=2.8 in /usr/lib/python3/dist-packages (from anyio<5,>=3.5.0->openai) (3.3)\n",
      "Requirement already satisfied: certifi in /usr/lib/python3/dist-packages (from httpx<1,>=0.23.0->openai) (2020.6.20)\n",
      "Requirement already satisfied: httpcore==1.* in /home/ubuntu/.local/lib/python3.10/site-packages (from httpx<1,>=0.23.0->openai) (1.0.7)\n",
      "Requirement already satisfied: h11<0.15,>=0.13 in /home/ubuntu/.local/lib/python3.10/site-packages (from httpcore==1.*->httpx<1,>=0.23.0->openai) (0.14.0)\n",
      "Requirement already satisfied: pydantic-core==2.27.2 in /home/ubuntu/.local/lib/python3.10/site-packages (from pydantic<3,>=1.9.0->openai) (2.27.2)\n",
      "Requirement already satisfied: annotated-types>=0.6.0 in /home/ubuntu/.local/lib/python3.10/site-packages (from pydantic<3,>=1.9.0->openai) (0.7.0)\n"
     ]
    }
   ],
   "source": [
    "!pip install openai"
   ]
  },
  {
   "cell_type": "code",
   "execution_count": 11,
   "metadata": {
    "colab": {
     "base_uri": "https://localhost:8080/"
    },
    "executionInfo": {
     "elapsed": 5960,
     "status": "ok",
     "timestamp": 1716780659756,
     "user": {
      "displayName": "노규남",
      "userId": "12395859382694188829"
     },
     "user_tz": -540
    },
    "id": "-r9nrHOVF1C4",
    "outputId": "805d353a-768f-4e2d-fc86-e18f25761069"
   },
   "outputs": [
    {
     "name": "stdout",
     "output_type": "stream",
     "text": [
      "엔비디아(NVDA)의 2024년 5월 주가 데이터를 분석한 결과는 다음과 같습니다.\n",
      "\n",
      "### 1. 주가 동향\n",
      "- **시작가**: 2024년 5월 1일의 종가는 약 83.02달러로 시작했습니다.\n",
      "- **최고가**: 5월 23일에 103.77달러로 최고가를 기록했습니다.\n",
      "- **최저가**: 5월 1일에 81.24달러로 최저가를 기록했습니다.\n",
      "- **종가**: 5월 24일의 종가는 106.44달러로, 한 달 동안 주가는 상승세를 보였습니다.\n",
      "\n",
      "### 2. 주가 변화\n",
      "- **변화폭**: 5월 1일부터 5월 24일까지의 종가는 약 23.42달러 상승했습니다 (83.02달러 → 106.44달러).\n",
      "- **상승률**: 약 28.2%의 상승률을 기록했습니다.\n",
      "\n",
      "### 3. 거래량\n",
      "- **거래량**: 5월 23일에 835,065,000주로 가장 높은 거래량을 기록했습니다. 이는 주가 상승과 관련이 있을 수 있습니다.\n",
      "- **거래량 추세**: 전체적으로 거래량은 5월 초반에 비해 후반으로 갈수록 증가하는 경향을 보였습니다.\n",
      "\n",
      "### 4. 주요 일자\n",
      "- **5월 15일**: 94.61달러로 큰 상승폭을 보였으며, 이는 주가 상승의 전환점이 될 수 있습니다.\n",
      "- **5월 23일**: 주가가 103.77달러로 급등하며, 이 날의 거래량이 가장 많았습니다.\n",
      "\n",
      "### 5. 결론\n",
      "엔비디아의 2024년 5월 주가는 전반적으로 상승세를 보였으며, 특히 중순 이후 급격한 상승이 있었습니다. 거래량 또한 증가하며 투자자들의 관심이 높아진 것으로 보입니다. 이러한 추세는 향후 주가에 긍정적인 영향을 미칠 가능성이 있습니다. \n",
      "\n",
      "이 데이터는 향후 투자 결정을 위한 참고자료로 활용될 수 있습니다.\n"
     ]
    }
   ],
   "source": [
    "import os\n",
    "import openai\n",
    "\n",
    "openai.api_key = os.getenv(\"OPENAI_API_KEY\")\n",
    "\n",
    "response = openai.chat.completions.create(\n",
    "  model=os.getenv(\"OPENAI_DEFAULT_MODEL\"),\n",
    "  messages=[\n",
    "    {\n",
    "      \"role\": \"system\",\n",
    "      \"content\": \"다음은 엔비디아의 날짜별 주가 데이터야. 이 데이터를 분석해서 보고해줘.\"\n",
    "    },\n",
    "    {\n",
    "      \"role\": \"user\",\n",
    "      \"content\": csv_data\n",
    "    }\n",
    "  ],\n",
    "  temperature=0,\n",
    "  max_tokens=1024,\n",
    "  top_p=1,\n",
    "  frequency_penalty=0,\n",
    "  presence_penalty=0\n",
    ")\n",
    "\n",
    "print(response.choices[0].message.content)"
   ]
  }
 ],
 "metadata": {
  "colab": {
   "authorship_tag": "ABX9TyO3xQRFB6BhLOQvEj1hXA2s",
   "provenance": []
  },
  "kernelspec": {
   "display_name": "Python 3",
   "name": "python3"
  },
  "language_info": {
   "codemirror_mode": {
    "name": "ipython",
    "version": 3
   },
   "file_extension": ".py",
   "mimetype": "text/x-python",
   "name": "python",
   "nbconvert_exporter": "python",
   "pygments_lexer": "ipython3",
   "version": "3.10.12"
  }
 },
 "nbformat": 4,
 "nbformat_minor": 0
}
