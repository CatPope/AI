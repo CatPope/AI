{
 "cells": [
  {
   "cell_type": "code",
   "execution_count": 8,
   "id": "0ec10bf2-5b55-4a60-86dc-e5696a1f8124",
   "metadata": {},
   "outputs": [
    {
     "name": "stdout",
     "output_type": "stream",
     "text": [
      "Defaulting to user installation because normal site-packages is not writeable\n",
      "Requirement already satisfied: pykrx in /home/ubuntu/.local/lib/python3.10/site-packages (1.0.48)\n",
      "Requirement already satisfied: multipledispatch in /home/ubuntu/.local/lib/python3.10/site-packages (from pykrx) (1.0.0)\n",
      "Requirement already satisfied: requests in /home/ubuntu/.local/lib/python3.10/site-packages (from pykrx) (2.32.3)\n",
      "Requirement already satisfied: pandas in /home/ubuntu/.local/lib/python3.10/site-packages (from pykrx) (2.2.3)\n",
      "Requirement already satisfied: xlrd in /home/ubuntu/.local/lib/python3.10/site-packages (from pykrx) (2.0.1)\n",
      "Requirement already satisfied: deprecated in /home/ubuntu/.local/lib/python3.10/site-packages (from pykrx) (1.2.15)\n",
      "Requirement already satisfied: datetime in /home/ubuntu/.local/lib/python3.10/site-packages (from pykrx) (5.5)\n",
      "Requirement already satisfied: matplotlib in /home/ubuntu/.local/lib/python3.10/site-packages (from pykrx) (3.10.0)\n",
      "Requirement already satisfied: numpy in /home/ubuntu/.local/lib/python3.10/site-packages (from pykrx) (1.26.3)\n",
      "Requirement already satisfied: pytz in /home/ubuntu/.local/lib/python3.10/site-packages (from datetime->pykrx) (2024.2)\n",
      "Requirement already satisfied: zope.interface in /usr/lib/python3/dist-packages (from datetime->pykrx) (5.4.0)\n",
      "Requirement already satisfied: wrapt<2,>=1.10 in /home/ubuntu/.local/lib/python3.10/site-packages (from deprecated->pykrx) (1.17.2)\n",
      "Requirement already satisfied: packaging>=20.0 in /home/ubuntu/.local/lib/python3.10/site-packages (from matplotlib->pykrx) (24.2)\n",
      "Requirement already satisfied: python-dateutil>=2.7 in /home/ubuntu/.local/lib/python3.10/site-packages (from matplotlib->pykrx) (2.9.0.post0)\n",
      "Requirement already satisfied: pyparsing>=2.3.1 in /usr/lib/python3/dist-packages (from matplotlib->pykrx) (2.4.7)\n",
      "Requirement already satisfied: kiwisolver>=1.3.1 in /home/ubuntu/.local/lib/python3.10/site-packages (from matplotlib->pykrx) (1.4.8)\n",
      "Requirement already satisfied: fonttools>=4.22.0 in /home/ubuntu/.local/lib/python3.10/site-packages (from matplotlib->pykrx) (4.55.3)\n",
      "Requirement already satisfied: pillow>=8 in /home/ubuntu/.local/lib/python3.10/site-packages (from matplotlib->pykrx) (11.1.0)\n",
      "Requirement already satisfied: cycler>=0.10 in /home/ubuntu/.local/lib/python3.10/site-packages (from matplotlib->pykrx) (0.12.1)\n",
      "Requirement already satisfied: contourpy>=1.0.1 in /home/ubuntu/.local/lib/python3.10/site-packages (from matplotlib->pykrx) (1.3.1)\n",
      "Requirement already satisfied: tzdata>=2022.7 in /home/ubuntu/.local/lib/python3.10/site-packages (from pandas->pykrx) (2024.2)\n",
      "Requirement already satisfied: idna<4,>=2.5 in /usr/lib/python3/dist-packages (from requests->pykrx) (3.3)\n",
      "Requirement already satisfied: urllib3<3,>=1.21.1 in /home/ubuntu/.local/lib/python3.10/site-packages (from requests->pykrx) (2.3.0)\n",
      "Requirement already satisfied: charset-normalizer<4,>=2 in /home/ubuntu/.local/lib/python3.10/site-packages (from requests->pykrx) (3.4.1)\n",
      "Requirement already satisfied: certifi>=2017.4.17 in /usr/lib/python3/dist-packages (from requests->pykrx) (2020.6.20)\n",
      "Requirement already satisfied: six>=1.5 in /usr/lib/python3/dist-packages (from python-dateutil>=2.7->matplotlib->pykrx) (1.16.0)\n"
     ]
    }
   ],
   "source": [
    "!pip install pykrx"
   ]
  },
  {
   "cell_type": "code",
   "execution_count": 9,
   "id": "751b1813-b5a9-4a4b-b7b4-7631b99b5be4",
   "metadata": {},
   "outputs": [],
   "source": [
    "from pykrx import stock\n",
    "from pykrx import bond\n"
   ]
  },
  {
   "cell_type": "code",
   "execution_count": 10,
   "id": "62d6d52f",
   "metadata": {},
   "outputs": [],
   "source": [
    "import json\n",
    "\n",
    "def get_market_ohlcv(start_date, end_date, ticker):\n",
    "    stock_name = stock.get_market_ticker_name(ticker)\n",
    "    df = stock.get_market_ohlcv(start_date, end_date, ticker)\n",
    "    df['종목명'] = [stock_name] * len(df)\n",
    "\n",
    "    return json.dumps(df.to_dict(orient='records'), ensure_ascii=False)"
   ]
  },
  {
   "cell_type": "code",
   "execution_count": 11,
   "id": "28443fb3-bcab-42ee-8222-c5cbfde58697",
   "metadata": {},
   "outputs": [
    {
     "name": "stdout",
     "output_type": "stream",
     "text": [
      "[{\"시가\": 61800, \"고가\": 62100, \"저가\": 60500, \"종가\": 60500, \"거래량\": 16782238, \"등락률\": -0.6568144499178982, \"종목명\": \"삼성전자\"}, {\"시가\": 61100, \"고가\": 61900, \"저가\": 60700, \"종가\": 61800, \"거래량\": 12291374, \"등락률\": 2.1487603305785123, \"종목명\": \"삼성전자\"}, {\"시가\": 61800, \"고가\": 62200, \"저가\": 61200, \"종가\": 61300, \"거래량\": 10261310, \"등락률\": -0.8090614886731391, \"종목명\": \"삼성전자\"}, {\"시가\": 60900, \"고가\": 61900, \"저가\": 60800, \"종가\": 61100, \"거래량\": 9193681, \"등락률\": -0.3262642740619902, \"종목명\": \"삼성전자\"}, {\"시가\": 60800, \"고가\": 61900, \"저가\": 60800, \"종가\": 61700, \"거래량\": 6597211, \"등락률\": 0.9819967266775778, \"종목명\": \"삼성전자\"}, {\"시가\": 61300, \"고가\": 61900, \"저가\": 61200, \"종가\": 61800, \"거래량\": 7320997, \"등락률\": 0.1620745542949757, \"종목명\": \"삼성전자\"}, {\"시가\": 62300, \"고가\": 62600, \"저가\": 61600, \"종가\": 61900, \"거래량\": 10745302, \"등락률\": 0.16181229773462785, \"종목명\": \"삼성전자\"}, {\"시가\": 62400, \"고가\": 62600, \"저가\": 61300, \"종가\": 61400, \"거래량\": 15093120, \"등락률\": -0.8077544426494345, \"종목명\": \"삼성전자\"}, {\"시가\": 61000, \"고가\": 61700, \"저가\": 60300, \"종가\": 61300, \"거래량\": 13154816, \"등락률\": -0.16286644951140067, \"종목명\": \"삼성전자\"}, {\"시가\": 61200, \"고가\": 61900, \"저가\": 61000, \"종가\": 61700, \"거래량\": 13614895, \"등락률\": 0.6525285481239804, \"종목명\": \"삼성전자\"}, {\"시가\": 61600, \"고가\": 61600, \"저가\": 61000, \"종가\": 61300, \"거래량\": 10053861, \"등락률\": -0.6482982171799028, \"종목명\": \"삼성전자\"}, {\"시가\": 61700, \"고가\": 61800, \"저가\": 61200, \"종가\": 61500, \"거래량\": 9125439, \"등락률\": 0.3262642740619902, \"종목명\": \"삼성전자\"}, {\"시가\": 61700, \"고가\": 61900, \"저가\": 61200, \"종가\": 61500, \"거래량\": 9567620, \"등락률\": 0.0, \"종목명\": \"삼성전자\"}, {\"시가\": 61400, \"고가\": 61400, \"저가\": 60600, \"종가\": 60800, \"거래량\": 11313150, \"등락률\": -1.1382113821138211, \"종목명\": \"삼성전자\"}, {\"시가\": 60600, \"고가\": 60700, \"저가\": 59600, \"종가\": 60000, \"거래량\": 18251170, \"등락률\": -1.3157894736842104, \"종목명\": \"삼성전자\"}, {\"시가\": 58900, \"고가\": 59200, \"저가\": 58600, \"종가\": 59100, \"거래량\": 18084349, \"등락률\": -1.5, \"종목명\": \"삼성전자\"}]\n"
     ]
    }
   ],
   "source": [
    "print(get_market_ohlcv(\"20220720\", \"20220810\", \"005930\"))"
   ]
  },
  {
   "cell_type": "code",
   "execution_count": 12,
   "id": "2611fa8c",
   "metadata": {},
   "outputs": [],
   "source": [
    "tools = [\n",
    "    {\n",
    "        \"type\": \"function\",\n",
    "        \"function\":\n",
    "        {\n",
    "            \"name\": \"get_market_ohlcv\",\n",
    "            \"description\": \"특정 종목에 대해 정해진 기간의 주가 데이터를 돌려줍니다.\",\n",
    "            \"parameters\": {\n",
    "                \"type\": \"object\",\n",
    "                \"properties\": {\n",
    "                    \"start_date\": {\n",
    "                        \"type\": \"string\",\n",
    "                        \"description\": \"YYYYMMDD 형식의 시작 날짜\",\n",
    "                    },\n",
    "                    \"end_date\": {\n",
    "                        \"type\": \"string\",\n",
    "                        \"description\": \"YYYYMMDD 형식의 종료 날짜\",\n",
    "                    },\n",
    "                    \"ticker\": {\n",
    "                        \"type\": \"string\",\n",
    "                        \"description\": \"6자리 숫자 형식의 종목 티커코드\",\n",
    "                    },\n",
    "                },\n",
    "                \"required\": [\"start_date\", \"end_date\", \"ticker\"],\n",
    "            },\n",
    "        }\n",
    "    }\n",
    "]\n"
   ]
  },
  {
   "cell_type": "code",
   "execution_count": 13,
   "id": "51b6606e-1fff-4f78-8b8e-5997606a9946",
   "metadata": {},
   "outputs": [
    {
     "name": "stdout",
     "output_type": "stream",
     "text": [
      "ChatCompletionMessage(content=None, refusal=None, role='assistant', audio=None, function_call=None, tool_calls=[ChatCompletionMessageToolCall(id='call_vNMbw9T3UhXj8I4fUSGHZLG8', function=Function(arguments='{\"start_date\":\"20220801\",\"end_date\":\"20221201\",\"ticker\":\"066570\"}', name='get_market_ohlcv'), type='function')])\n"
     ]
    }
   ],
   "source": [
    "import os\n",
    "import openai\n",
    "\n",
    "openai.api_key = os.getenv(\"OPENAI_API_KEY\")\n",
    "\n",
    "messages= [\n",
    "  {\n",
    "    \"role\": \"user\",\n",
    "    \"content\": \"LG전자(066570)의 2022년 8월 1일부터 2022년 12월 1일까지의 주가 데이터를 분석해줘.\"\n",
    "  }\n",
    "]\n",
    "\n",
    "response = openai.chat.completions.create(\n",
    "  model=\"gpt-4o-mini\",\n",
    "  messages=messages,\n",
    "  temperature=0,\n",
    "  max_tokens=1024,\n",
    "  tools=tools,\n",
    "  tool_choice=\"auto\" if tools is not None else None,\n",
    "  top_p=1,\n",
    "  frequency_penalty=0,\n",
    "  presence_penalty=0\n",
    ")\n",
    "\n",
    "print(response.choices[0].message)"
   ]
  },
  {
   "cell_type": "code",
   "execution_count": 14,
   "id": "bb33a22d",
   "metadata": {},
   "outputs": [
    {
     "name": "stdout",
     "output_type": "stream",
     "text": [
      "LG전자의 2022년 8월 1일부터 12월 1일까지의 주가 데이터를 분석해보면 다음과 같은 주요 포인트가 도출됩니다.\n",
      "\n",
      "### 1. 가격 변동 추세\n",
      "- **시가**: 시작가는 94,800원에서 시작했습니다.\n",
      "- **종가**: 12월 1일 기준 종가는 96,200원으로, 이 기간 동안 주가는 상승세를 보였습니다.\n",
      "- **최고가와 최저가**: 이 기간의 최고가는 101,000원이었으며, 최저가는 77,900원이었습니다.\n",
      "\n",
      "### 2. 변동 폭\n",
      "- 주가는 전체적으로 **상승**세를 타며, 여러 차례의 큰 상승과 하락을 겪었습니다. 특히, 9월 초에는 급격한 상승세가 있었으며, 이는 특정 뉴스나 외부 요인에 의해 촉발된 것일 수 있습니다.\n",
      "\n",
      "### 3. 거래량 분석\n",
      "- 거래량이 아주 큰 날이 있었습니다. 예를 들어, 9월 5일에는 2,683,987의 거래량을 기록했습니다. 이는 주가의 큰 변동과 관련이 있을 수 있습니다.\n",
      "- 대체로 거래량은 상승세와 함께 증가하는 경향을 나타냈으며, 큰 변동이 있었던 날에는 특히 높은 거래량이 나타났습니다.\n",
      "\n",
      "### 4. 등락률\n",
      "- 여러 날의 **등락률**을 보면, 일일로는 최대 8.84%의 상승률을 보인 날도 있었고, -4% 이상의 하락률을 보인 날도 여러 차례 있었습니다.\n",
      "- 전체적으로 변동성이 큰 시기였으며, 일부는 급등락을 보였음을 알 수 있습니다.\n",
      "\n",
      "### 5. 결론\n",
      "- LG전자의 주가는 해당 기간 동안 상승세를 유지하였으나, 일시적으로 몇 차례 큰 하락이 있었습니다. 다양한 외부 요인이나 기업의 뉴스에 따라 주가가 큰 변동성을 나타냈으며, 투자자들에게는 기회와 위험이 공존하는 시기였음을 보여줍니다.\n",
      "\n",
      "이 데이터에 기반하여 더욱 심도 깊은 분석을 원한다면, 특정 일자에 대한 추가 정보나 더 긴 기간의 트렌드를 확인하는 것도 좋습니다.\n"
     ]
    }
   ],
   "source": [
    "available_functions = {\n",
    "    \"get_market_ohlcv\": get_market_ohlcv,\n",
    "}\n",
    "\n",
    "for tool_call in response.choices[0].message.tool_calls:\n",
    "    function_name = tool_call.function.name\n",
    "    function_to_call = available_functions[function_name]\n",
    "    function_args = json.loads(tool_call.function.arguments)\n",
    "    function_response = function_to_call(\n",
    "        start_date=function_args['start_date'],\n",
    "        end_date=function_args['end_date'],\n",
    "        ticker=function_args['ticker']\n",
    "    )\n",
    "    messages.append(\n",
    "        {\n",
    "            \"tool_call_id\": tool_call.id,\n",
    "            \"role\": \"function\",\n",
    "            \"name\": function_name,\n",
    "            \"content\": json.dumps(function_response, ensure_ascii=False)\n",
    "        }\n",
    "    )\n",
    "    \n",
    "second_response = openai.chat.completions.create(\n",
    "    model=\"gpt-4o-mini\",\n",
    "    messages=messages,\n",
    ")\n",
    "print(second_response.choices[0].message.content)"
   ]
  },
  {
   "cell_type": "code",
   "execution_count": null,
   "id": "e0bc5c62-c52e-4604-b803-165ad93442fd",
   "metadata": {},
   "outputs": [],
   "source": []
  }
 ],
 "metadata": {
  "kernelspec": {
   "display_name": "Python 3",
   "language": "python",
   "name": "python3"
  },
  "language_info": {
   "codemirror_mode": {
    "name": "ipython",
    "version": 3
   },
   "file_extension": ".py",
   "mimetype": "text/x-python",
   "name": "python",
   "nbconvert_exporter": "python",
   "pygments_lexer": "ipython3",
   "version": "3.10.12"
  }
 },
 "nbformat": 4,
 "nbformat_minor": 5
}
