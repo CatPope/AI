{
 "cells": [
  {
   "cell_type": "code",
   "execution_count": null,
   "id": "0ec10bf2-5b55-4a60-86dc-e5696a1f8124",
   "metadata": {},
   "outputs": [],
   "source": [
    "!pip install pykrx"
   ]
  },
  {
   "cell_type": "code",
   "execution_count": 9,
   "id": "751b1813-b5a9-4a4b-b7b4-7631b99b5be4",
   "metadata": {},
   "outputs": [],
   "source": [
    "from pykrx import stock\n",
    "from pykrx import bond\n"
   ]
  },
  {
   "cell_type": "code",
   "execution_count": 10,
   "id": "62d6d52f",
   "metadata": {},
   "outputs": [],
   "source": [
    "import json\n",
    "\n",
    "def get_market_ohlcv(start_date, end_date, ticker):\n",
    "    stock_name = stock.get_market_ticker_name(ticker)\n",
    "    df = stock.get_market_ohlcv(start_date, end_date, ticker)\n",
    "    df['종목명'] = [stock_name] * len(df)\n",
    "\n",
    "    return json.dumps(df.to_dict(orient='records'), ensure_ascii=False)"
   ]
  },
  {
   "cell_type": "code",
   "execution_count": null,
   "id": "28443fb3-bcab-42ee-8222-c5cbfde58697",
   "metadata": {},
   "outputs": [],
   "source": [
    "#삼성전자 \n",
    "print(get_market_ohlcv(\"20220720\", \"20220810\", \"005930\"))"
   ]
  },
  {
   "cell_type": "code",
   "execution_count": 12,
   "id": "2611fa8c",
   "metadata": {},
   "outputs": [],
   "source": [
    "tools = [\n",
    "    {\n",
    "        \"type\": \"function\",\n",
    "        \"function\":\n",
    "        {\n",
    "            \"name\": \"get_market_ohlcv\",\n",
    "            \"description\": \"특정 종목에 대해 정해진 기간의 주가 데이터를 돌려줍니다.\",\n",
    "            \"parameters\": {\n",
    "                \"type\": \"object\",\n",
    "                \"properties\": {\n",
    "                    \"start_date\": {\n",
    "                        \"type\": \"string\",\n",
    "                        \"description\": \"YYYYMMDD 형식의 시작 날짜\",\n",
    "                    },\n",
    "                    \"end_date\": {\n",
    "                        \"type\": \"string\",\n",
    "                        \"description\": \"YYYYMMDD 형식의 종료 날짜\",\n",
    "                    },\n",
    "                    \"ticker\": {\n",
    "                        \"type\": \"string\",\n",
    "                        \"description\": \"6자리 숫자 형식의 종목 티커코드\",\n",
    "                    },\n",
    "                },\n",
    "                \"required\": [\"start_date\", \"end_date\", \"ticker\"],\n",
    "            },\n",
    "        }\n",
    "    }\n",
    "]\n"
   ]
  },
  {
   "cell_type": "code",
   "execution_count": null,
   "id": "51b6606e-1fff-4f78-8b8e-5997606a9946",
   "metadata": {},
   "outputs": [],
   "source": [
    "import os\n",
    "import openai\n",
    "\n",
    "openai.api_key = os.getenv(\"OPENAI_API_KEY\")\n",
    "\n",
    "messages= [\n",
    "  {\n",
    "    \"role\": \"user\",\n",
    "    \"content\": \"LG전자(066570)의 2024년 8월 1일부터 2024년 12월 1일까지의 주가 데이터를 분석해줘.\"\n",
    "  }\n",
    "]\n",
    "\n",
    "response = openai.chat.completions.create(\n",
    "  model=\"gpt-4o-mini\",\n",
    "  messages=messages,\n",
    "  temperature=0,\n",
    "  max_tokens=1024,\n",
    "  tools=tools,\n",
    "  tool_choice=\"auto\" if tools is not None else None,\n",
    "  top_p=1,\n",
    "  frequency_penalty=0,\n",
    "  presence_penalty=0\n",
    ")\n",
    "\n",
    "print(response.choices[0].message)"
   ]
  },
  {
   "cell_type": "code",
   "execution_count": null,
   "id": "bb33a22d",
   "metadata": {},
   "outputs": [],
   "source": [
    "available_functions = {\n",
    "    \"get_market_ohlcv\": get_market_ohlcv,\n",
    "}\n",
    "\n",
    "for tool_call in response.choices[0].message.tool_calls:\n",
    "    function_name = tool_call.function.name\n",
    "    function_to_call = available_functions[function_name]\n",
    "    function_args = json.loads(tool_call.function.arguments)\n",
    "    function_response = function_to_call(\n",
    "        start_date=function_args['start_date'],\n",
    "        end_date=function_args['end_date'],\n",
    "        ticker=function_args['ticker']\n",
    "    )\n",
    "    messages.append(\n",
    "        {\n",
    "            \"tool_call_id\": tool_call.id,\n",
    "            \"role\": \"function\",\n",
    "            \"name\": function_name,\n",
    "            \"content\": json.dumps(function_response, ensure_ascii=False)\n",
    "        }\n",
    "    )\n",
    "    \n",
    "second_response = openai.chat.completions.create(\n",
    "    model=\"gpt-4o-mini\",\n",
    "    messages=messages,\n",
    ")\n",
    "print(second_response.choices[0].message.content)"
   ]
  }
 ],
 "metadata": {
  "kernelspec": {
   "display_name": "Python 3",
   "language": "python",
   "name": "python3"
  },
  "language_info": {
   "codemirror_mode": {
    "name": "ipython",
    "version": 3
   },
   "file_extension": ".py",
   "mimetype": "text/x-python",
   "name": "python",
   "nbconvert_exporter": "python",
   "pygments_lexer": "ipython3",
   "version": "3.10.12"
  }
 },
 "nbformat": 4,
 "nbformat_minor": 5
}
