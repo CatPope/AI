{
 "cells": [
  {
   "cell_type": "code",
   "execution_count": 14,
   "metadata": {},
   "outputs": [
    {
     "name": "stdout",
     "output_type": "stream",
     "text": [
      "Defaulting to user installation because normal site-packages is not writeable\n",
      "Requirement already satisfied: gradio in /home/sumin/.local/lib/python3.10/site-packages (5.12.0)\n",
      "Requirement already satisfied: typer<1.0,>=0.12 in /home/sumin/.local/lib/python3.10/site-packages (from gradio) (0.15.1)\n",
      "Requirement already satisfied: ruff>=0.2.2 in /home/sumin/.local/lib/python3.10/site-packages (from gradio) (0.9.2)\n",
      "Requirement already satisfied: jinja2<4.0 in /usr/lib/python3/dist-packages (from gradio) (3.0.3)\n",
      "Requirement already satisfied: pydantic>=2.0 in /usr/local/lib/python3.10/dist-packages (from gradio) (2.10.5)\n",
      "Requirement already satisfied: gradio-client==1.5.4 in /home/sumin/.local/lib/python3.10/site-packages (from gradio) (1.5.4)\n",
      "Requirement already satisfied: anyio<5.0,>=3.0 in /usr/local/lib/python3.10/dist-packages (from gradio) (4.8.0)\n",
      "Requirement already satisfied: uvicorn>=0.14.0 in /home/sumin/.local/lib/python3.10/site-packages (from gradio) (0.34.0)\n",
      "Requirement already satisfied: huggingface-hub>=0.25.1 in /home/sumin/.local/lib/python3.10/site-packages (from gradio) (0.27.1)\n",
      "Requirement already satisfied: semantic-version~=2.0 in /home/sumin/.local/lib/python3.10/site-packages (from gradio) (2.10.0)\n",
      "Requirement already satisfied: packaging in /home/sumin/.local/lib/python3.10/site-packages (from gradio) (24.2)\n",
      "Requirement already satisfied: ffmpy in /home/sumin/.local/lib/python3.10/site-packages (from gradio) (0.5.0)\n",
      "Requirement already satisfied: pillow<12.0,>=8.0 in /home/sumin/.local/lib/python3.10/site-packages (from gradio) (11.1.0)\n",
      "Requirement already satisfied: aiofiles<24.0,>=22.0 in /home/sumin/.local/lib/python3.10/site-packages (from gradio) (23.2.1)\n",
      "Requirement already satisfied: typing-extensions~=4.0 in /usr/local/lib/python3.10/dist-packages (from gradio) (4.12.2)\n",
      "Requirement already satisfied: markupsafe~=2.0 in /usr/lib/python3/dist-packages (from gradio) (2.0.1)\n",
      "Requirement already satisfied: pydub in /home/sumin/.local/lib/python3.10/site-packages (from gradio) (0.25.1)\n",
      "Requirement already satisfied: fastapi<1.0,>=0.115.2 in /home/sumin/.local/lib/python3.10/site-packages (from gradio) (0.115.6)\n",
      "Requirement already satisfied: pyyaml<7.0,>=5.0 in /usr/lib/python3/dist-packages (from gradio) (5.4.1)\n",
      "Requirement already satisfied: pandas<3.0,>=1.0 in /home/sumin/.local/lib/python3.10/site-packages (from gradio) (2.2.3)\n",
      "Requirement already satisfied: tomlkit<0.14.0,>=0.12.0 in /home/sumin/.local/lib/python3.10/site-packages (from gradio) (0.13.2)\n",
      "Requirement already satisfied: numpy<3.0,>=1.0 in /home/sumin/.local/lib/python3.10/site-packages (from gradio) (2.2.2)\n",
      "Requirement already satisfied: safehttpx<0.2.0,>=0.1.6 in /home/sumin/.local/lib/python3.10/site-packages (from gradio) (0.1.6)\n",
      "Requirement already satisfied: python-multipart>=0.0.18 in /home/sumin/.local/lib/python3.10/site-packages (from gradio) (0.0.20)\n",
      "Requirement already satisfied: orjson~=3.0 in /home/sumin/.local/lib/python3.10/site-packages (from gradio) (3.10.15)\n",
      "Requirement already satisfied: starlette<1.0,>=0.40.0 in /home/sumin/.local/lib/python3.10/site-packages (from gradio) (0.41.3)\n",
      "Requirement already satisfied: httpx>=0.24.1 in /usr/local/lib/python3.10/dist-packages (from gradio) (0.28.1)\n",
      "Requirement already satisfied: websockets<15.0,>=10.0 in /home/sumin/.local/lib/python3.10/site-packages (from gradio-client==1.5.4->gradio) (14.2)\n",
      "Requirement already satisfied: fsspec in /home/sumin/.local/lib/python3.10/site-packages (from gradio-client==1.5.4->gradio) (2024.12.0)\n",
      "Requirement already satisfied: sniffio>=1.1 in /usr/local/lib/python3.10/dist-packages (from anyio<5.0,>=3.0->gradio) (1.3.1)\n",
      "Requirement already satisfied: exceptiongroup>=1.0.2 in /usr/local/lib/python3.10/dist-packages (from anyio<5.0,>=3.0->gradio) (1.2.2)\n",
      "Requirement already satisfied: idna>=2.8 in /usr/lib/python3/dist-packages (from anyio<5.0,>=3.0->gradio) (3.3)\n",
      "Requirement already satisfied: certifi in /usr/lib/python3/dist-packages (from httpx>=0.24.1->gradio) (2020.6.20)\n",
      "Requirement already satisfied: httpcore==1.* in /usr/local/lib/python3.10/dist-packages (from httpx>=0.24.1->gradio) (1.0.7)\n",
      "Requirement already satisfied: h11<0.15,>=0.13 in /usr/local/lib/python3.10/dist-packages (from httpcore==1.*->httpx>=0.24.1->gradio) (0.14.0)\n",
      "Requirement already satisfied: requests in /home/sumin/.local/lib/python3.10/site-packages (from huggingface-hub>=0.25.1->gradio) (2.32.3)\n",
      "Requirement already satisfied: tqdm>=4.42.1 in /usr/local/lib/python3.10/dist-packages (from huggingface-hub>=0.25.1->gradio) (4.67.1)\n",
      "Requirement already satisfied: filelock in /home/sumin/.local/lib/python3.10/site-packages (from huggingface-hub>=0.25.1->gradio) (3.16.1)\n",
      "Requirement already satisfied: pytz>=2020.1 in /home/sumin/.local/lib/python3.10/site-packages (from pandas<3.0,>=1.0->gradio) (2024.2)\n",
      "Requirement already satisfied: python-dateutil>=2.8.2 in /home/sumin/.local/lib/python3.10/site-packages (from pandas<3.0,>=1.0->gradio) (2.9.0.post0)\n",
      "Requirement already satisfied: tzdata>=2022.7 in /home/sumin/.local/lib/python3.10/site-packages (from pandas<3.0,>=1.0->gradio) (2024.2)\n",
      "Requirement already satisfied: annotated-types>=0.6.0 in /usr/local/lib/python3.10/dist-packages (from pydantic>=2.0->gradio) (0.7.0)\n",
      "Requirement already satisfied: pydantic-core==2.27.2 in /usr/local/lib/python3.10/dist-packages (from pydantic>=2.0->gradio) (2.27.2)\n",
      "Requirement already satisfied: shellingham>=1.3.0 in /home/sumin/.local/lib/python3.10/site-packages (from typer<1.0,>=0.12->gradio) (1.5.4)\n",
      "Requirement already satisfied: rich>=10.11.0 in /home/sumin/.local/lib/python3.10/site-packages (from typer<1.0,>=0.12->gradio) (13.9.4)\n",
      "Requirement already satisfied: click>=8.0.0 in /usr/lib/python3/dist-packages (from typer<1.0,>=0.12->gradio) (8.0.3)\n",
      "Requirement already satisfied: six>=1.5 in /usr/lib/python3/dist-packages (from python-dateutil>=2.8.2->pandas<3.0,>=1.0->gradio) (1.16.0)\n",
      "Requirement already satisfied: markdown-it-py>=2.2.0 in /home/sumin/.local/lib/python3.10/site-packages (from rich>=10.11.0->typer<1.0,>=0.12->gradio) (3.0.0)\n",
      "Requirement already satisfied: pygments<3.0.0,>=2.13.0 in /home/sumin/.local/lib/python3.10/site-packages (from rich>=10.11.0->typer<1.0,>=0.12->gradio) (2.19.1)\n",
      "Requirement already satisfied: charset-normalizer<4,>=2 in /home/sumin/.local/lib/python3.10/site-packages (from requests->huggingface-hub>=0.25.1->gradio) (3.4.1)\n",
      "Requirement already satisfied: urllib3<3,>=1.21.1 in /usr/lib/python3/dist-packages (from requests->huggingface-hub>=0.25.1->gradio) (1.26.5)\n",
      "Requirement already satisfied: mdurl~=0.1 in /home/sumin/.local/lib/python3.10/site-packages (from markdown-it-py>=2.2.0->rich>=10.11.0->typer<1.0,>=0.12->gradio) (0.1.2)\n",
      "Defaulting to user installation because normal site-packages is not writeable\n",
      "Requirement already satisfied: openai==0.28 in /home/sumin/.local/lib/python3.10/site-packages (0.28.0)\n",
      "Requirement already satisfied: requests>=2.20 in /home/sumin/.local/lib/python3.10/site-packages (from openai==0.28) (2.32.3)\n",
      "Requirement already satisfied: aiohttp in /home/sumin/.local/lib/python3.10/site-packages (from openai==0.28) (3.11.11)\n",
      "Requirement already satisfied: tqdm in /usr/local/lib/python3.10/dist-packages (from openai==0.28) (4.67.1)\n",
      "Requirement already satisfied: charset-normalizer<4,>=2 in /home/sumin/.local/lib/python3.10/site-packages (from requests>=2.20->openai==0.28) (3.4.1)\n",
      "Requirement already satisfied: certifi>=2017.4.17 in /usr/lib/python3/dist-packages (from requests>=2.20->openai==0.28) (2020.6.20)\n",
      "Requirement already satisfied: urllib3<3,>=1.21.1 in /usr/lib/python3/dist-packages (from requests>=2.20->openai==0.28) (1.26.5)\n",
      "Requirement already satisfied: idna<4,>=2.5 in /usr/lib/python3/dist-packages (from requests>=2.20->openai==0.28) (3.3)\n",
      "Requirement already satisfied: attrs>=17.3.0 in /usr/lib/python3/dist-packages (from aiohttp->openai==0.28) (21.2.0)\n",
      "Requirement already satisfied: frozenlist>=1.1.1 in /home/sumin/.local/lib/python3.10/site-packages (from aiohttp->openai==0.28) (1.5.0)\n",
      "Requirement already satisfied: aiohappyeyeballs>=2.3.0 in /home/sumin/.local/lib/python3.10/site-packages (from aiohttp->openai==0.28) (2.4.4)\n",
      "Requirement already satisfied: async-timeout<6.0,>=4.0 in /home/sumin/.local/lib/python3.10/site-packages (from aiohttp->openai==0.28) (5.0.1)\n",
      "Requirement already satisfied: yarl<2.0,>=1.17.0 in /home/sumin/.local/lib/python3.10/site-packages (from aiohttp->openai==0.28) (1.18.3)\n",
      "Requirement already satisfied: propcache>=0.2.0 in /home/sumin/.local/lib/python3.10/site-packages (from aiohttp->openai==0.28) (0.2.1)\n",
      "Requirement already satisfied: aiosignal>=1.1.2 in /home/sumin/.local/lib/python3.10/site-packages (from aiohttp->openai==0.28) (1.3.2)\n",
      "Requirement already satisfied: multidict<7.0,>=4.5 in /home/sumin/.local/lib/python3.10/site-packages (from aiohttp->openai==0.28) (6.1.0)\n",
      "Requirement already satisfied: typing-extensions>=4.1.0 in /usr/local/lib/python3.10/dist-packages (from multidict<7.0,>=4.5->aiohttp->openai==0.28) (4.12.2)\n"
     ]
    }
   ],
   "source": [
    "#1: gradio의 chatbot interface를 사용하여 ChatGPT와 스트리밍하면서 대화하는 인터페이스를 구성하시오.\n",
    "#2: 만든 어플리케이션을 멀티턴으로 수정하시오\n",
    "!pip install -U gradio \n",
    "!pip install openai==0.28"
   ]
  },
  {
   "cell_type": "code",
   "execution_count": 17,
   "metadata": {},
   "outputs": [
    {
     "name": "stderr",
     "output_type": "stream",
     "text": [
      "/home/sumin/.local/lib/python3.10/site-packages/gradio/components/chatbot.py:273: UserWarning: You have not specified a value for the `type` parameter. Defaulting to the 'tuples' format for chatbot messages, but this is deprecated and will be removed in a future version of Gradio. Please set type='messages' instead, which uses openai-style dictionaries with 'role' and 'content' keys.\n",
      "  warnings.warn(\n"
     ]
    },
    {
     "name": "stdout",
     "output_type": "stream",
     "text": [
      "* Running on local URL:  http://0.0.0.0:7887\n",
      "\n",
      "To create a public link, set `share=True` in `launch()`.\n"
     ]
    },
    {
     "data": {
      "text/html": [
       "<div><iframe src=\"http://localhost:7887/\" width=\"100%\" height=\"500\" allow=\"autoplay; camera; microphone; clipboard-read; clipboard-write;\" frameborder=\"0\" allowfullscreen></iframe></div>"
      ],
      "text/plain": [
       "<IPython.core.display.HTML object>"
      ]
     },
     "metadata": {},
     "output_type": "display_data"
    },
    {
     "data": {
      "text/plain": []
     },
     "execution_count": 17,
     "metadata": {},
     "output_type": "execute_result"
    }
   ],
   "source": [
    "import gradio as gr\n",
    "import random\n",
    "import time\n",
    "import openai\n",
    "import os\n",
    "\n",
    "openai.api_key = os.getenv(\"OPENAI_API_KEY\")\n",
    "\n",
    "def create_generator(text):\n",
    "    gen = openai.chat.completions.create(\n",
    "      model=\"gpt-4o-mini\",\n",
    "      messages=[\n",
    "        {\n",
    "          \"role\": \"system\",\n",
    "          \"content\": \"당신은 친절한 어시스턴트입니다. 사용자의 질문에 친절하게 대답하세요.\"\n",
    "        },\n",
    "        {\n",
    "          \"role\": \"user\",\n",
    "          \"content\": text\n",
    "        }\n",
    "      ],\n",
    "      temperature=0.5,\n",
    "      max_tokens=512,\n",
    "      top_p=1,\n",
    "      frequency_penalty=0,\n",
    "      presence_penalty=0,\n",
    "      stream=True\n",
    "    )\n",
    "    return gen\n",
    "\n",
    "\n",
    "# Gradio \n",
    "with gr.Blocks() as demo:\n",
    "    chatbot = gr.Chatbot()\n",
    "    msg = gr.Textbox(placeholder=\"메시지를 입력하세요.\", label=\"채팅 입력\")\n",
    "    clear = gr.Button(\"Clear\")\n",
    "\n",
    "    msg.submit(respond, [msg, chatbot], [msg, chatbot])\n",
    "\n",
    "demo.launch(server_name='0.0.0.0')\n"
   ]
  }
 ],
 "metadata": {
  "kernelspec": {
   "display_name": "Python 3",
   "language": "python",
   "name": "python3"
  },
  "language_info": {
   "codemirror_mode": {
    "name": "ipython",
    "version": 3
   },
   "file_extension": ".py",
   "mimetype": "text/x-python",
   "name": "python",
   "nbconvert_exporter": "python",
   "pygments_lexer": "ipython3",
   "version": "3.10.12"
  }
 },
 "nbformat": 4,
 "nbformat_minor": 2
}
