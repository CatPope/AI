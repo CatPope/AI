{
 "cells": [
  {
   "cell_type": "markdown",
   "metadata": {},
   "source": [
    "실습: 삼성전자 주가 데이터를 분석하는 어플리케이션을 function으로 수정하여, 다른 종목의 데이터를 정해진 내용대로 가져와서 답하는 어플리케이션을 작성하시오."
   ]
  },
  {
   "cell_type": "code",
   "execution_count": null,
   "metadata": {},
   "outputs": [],
   "source": [
    "!pip install openai"
   ]
  },
  {
   "cell_type": "code",
   "execution_count": 2,
   "metadata": {},
   "outputs": [],
   "source": [
    "import os\n",
    "import json\n",
    "from openai import OpenAI\n",
    "\n",
    "client = OpenAI()\n",
    "client.api_key = os.getenv(\"OPENAI_API_KEY\")\n"
   ]
  },
  {
   "cell_type": "code",
   "execution_count": 7,
   "metadata": {},
   "outputs": [],
   "source": [
    "def get_stock_name(StockName, unit=\"상승\"):\n",
    "    weather_info = {\n",
    "        \"StockName\": StockName,\n",
    "        \"date\": \"250120\",\n",
    "        \"unit\": unit,\n",
    "        \"forecast\": [\"상승\", \"250000\"],\n",
    "    }\n",
    "    return json.dumps(weather_info)\n",
    "\n",
    "messages = [{\"role\": \"user\", \"content\": \"지금 애플 주식의 가격을 알려줘.\"}]\n",
    "functions = [\n",
    "    {\n",
    "        \"name\": \"get_stock_name\",\n",
    "        \"description\": \"특정 종목의 가격을 알려줍니다.\",\n",
    "        \"parameters\": {\n",
    "            \"type\": \"object\",\n",
    "            \"properties\": {\n",
    "                \"StockName\": {\n",
    "                    \"type\": \"string\",\n",
    "                    \"description\": \"종목이름. 예) 엔비디아, 삼성전자, 애플플\",\n",
    "                },\n",
    "                \"unit\": {\"type\": \"string\", \"enum\": [\"상승\", \"하락\"]},\n",
    "            },\n",
    "            \"required\": [\"StockName\"],\n",
    "        },\n",
    "    }\n",
    "]\n"
   ]
  },
  {
   "cell_type": "code",
   "execution_count": null,
   "metadata": {},
   "outputs": [],
   "source": [
    "response = client.chat.completions.create(\n",
    "    model=\"gpt-4o-mini\",\n",
    "    messages=messages,\n",
    "    functions=functions,\n",
    "    function_call=\"auto\",\n",
    "    )\n",
    "response_message = response.choices[0].message\n",
    "print(response_message)"
   ]
  }
 ],
 "metadata": {
  "kernelspec": {
   "display_name": "Python 3",
   "language": "python",
   "name": "python3"
  },
  "language_info": {
   "codemirror_mode": {
    "name": "ipython",
    "version": 3
   },
   "file_extension": ".py",
   "mimetype": "text/x-python",
   "name": "python",
   "nbconvert_exporter": "python",
   "pygments_lexer": "ipython3",
   "version": "3.10.12"
  }
 },
 "nbformat": 4,
 "nbformat_minor": 2
}
