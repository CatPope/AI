{
 "cells": [
  {
   "cell_type": "code",
   "execution_count": 67,
   "metadata": {},
   "outputs": [
    {
     "name": "stdout",
     "output_type": "stream",
     "text": [
      "Defaulting to user installation because normal site-packages is not writeable\n",
      "Requirement already satisfied: langchain_community in /home/dajung2140/.local/lib/python3.10/site-packages (0.3.15)\n",
      "Requirement already satisfied: SQLAlchemy<3,>=1.4 in /home/dajung2140/.local/lib/python3.10/site-packages (from langchain_community) (2.0.37)\n",
      "Requirement already satisfied: langchain-core<0.4.0,>=0.3.31 in /home/dajung2140/.local/lib/python3.10/site-packages (from langchain_community) (0.3.31)\n",
      "Requirement already satisfied: tenacity!=8.4.0,<10,>=8.1.0 in /home/dajung2140/.local/lib/python3.10/site-packages (from langchain_community) (9.0.0)\n",
      "Requirement already satisfied: langsmith<0.4,>=0.1.125 in /home/dajung2140/.local/lib/python3.10/site-packages (from langchain_community) (0.3.0)\n",
      "Requirement already satisfied: requests<3,>=2 in /home/dajung2140/.local/lib/python3.10/site-packages (from langchain_community) (2.32.3)\n",
      "Requirement already satisfied: httpx-sse<0.5.0,>=0.4.0 in /home/dajung2140/.local/lib/python3.10/site-packages (from langchain_community) (0.4.0)\n",
      "Requirement already satisfied: aiohttp<4.0.0,>=3.8.3 in /home/dajung2140/.local/lib/python3.10/site-packages (from langchain_community) (3.11.11)\n",
      "Requirement already satisfied: numpy<2,>=1.22.4 in /home/dajung2140/.local/lib/python3.10/site-packages (from langchain_community) (1.26.4)\n",
      "Requirement already satisfied: pydantic-settings<3.0.0,>=2.4.0 in /home/dajung2140/.local/lib/python3.10/site-packages (from langchain_community) (2.7.1)\n",
      "Requirement already satisfied: dataclasses-json<0.7,>=0.5.7 in /home/dajung2140/.local/lib/python3.10/site-packages (from langchain_community) (0.6.7)\n",
      "Requirement already satisfied: PyYAML>=5.3 in /usr/lib/python3/dist-packages (from langchain_community) (5.4.1)\n",
      "Requirement already satisfied: langchain<0.4.0,>=0.3.15 in /home/dajung2140/.local/lib/python3.10/site-packages (from langchain_community) (0.3.15)\n",
      "Requirement already satisfied: async-timeout<6.0,>=4.0 in /home/dajung2140/.local/lib/python3.10/site-packages (from aiohttp<4.0.0,>=3.8.3->langchain_community) (4.0.3)\n",
      "Requirement already satisfied: yarl<2.0,>=1.17.0 in /home/dajung2140/.local/lib/python3.10/site-packages (from aiohttp<4.0.0,>=3.8.3->langchain_community) (1.18.3)\n",
      "Requirement already satisfied: aiohappyeyeballs>=2.3.0 in /home/dajung2140/.local/lib/python3.10/site-packages (from aiohttp<4.0.0,>=3.8.3->langchain_community) (2.4.4)\n",
      "Requirement already satisfied: aiosignal>=1.1.2 in /home/dajung2140/.local/lib/python3.10/site-packages (from aiohttp<4.0.0,>=3.8.3->langchain_community) (1.3.2)\n",
      "Requirement already satisfied: attrs>=17.3.0 in /home/dajung2140/.local/lib/python3.10/site-packages (from aiohttp<4.0.0,>=3.8.3->langchain_community) (24.3.0)\n",
      "Requirement already satisfied: frozenlist>=1.1.1 in /home/dajung2140/.local/lib/python3.10/site-packages (from aiohttp<4.0.0,>=3.8.3->langchain_community) (1.5.0)\n",
      "Requirement already satisfied: propcache>=0.2.0 in /home/dajung2140/.local/lib/python3.10/site-packages (from aiohttp<4.0.0,>=3.8.3->langchain_community) (0.2.1)\n",
      "Requirement already satisfied: multidict<7.0,>=4.5 in /home/dajung2140/.local/lib/python3.10/site-packages (from aiohttp<4.0.0,>=3.8.3->langchain_community) (6.1.0)\n",
      "Requirement already satisfied: typing-inspect<1,>=0.4.0 in /home/dajung2140/.local/lib/python3.10/site-packages (from dataclasses-json<0.7,>=0.5.7->langchain_community) (0.9.0)\n",
      "Requirement already satisfied: marshmallow<4.0.0,>=3.18.0 in /home/dajung2140/.local/lib/python3.10/site-packages (from dataclasses-json<0.7,>=0.5.7->langchain_community) (3.25.1)\n",
      "Requirement already satisfied: langchain-text-splitters<0.4.0,>=0.3.3 in /home/dajung2140/.local/lib/python3.10/site-packages (from langchain<0.4.0,>=0.3.15->langchain_community) (0.3.5)\n",
      "Requirement already satisfied: pydantic<3.0.0,>=2.7.4 in /home/dajung2140/.local/lib/python3.10/site-packages (from langchain<0.4.0,>=0.3.15->langchain_community) (2.10.5)\n",
      "Requirement already satisfied: typing-extensions>=4.7 in /home/dajung2140/.local/lib/python3.10/site-packages (from langchain-core<0.4.0,>=0.3.31->langchain_community) (4.12.2)\n",
      "Requirement already satisfied: packaging<25,>=23.2 in /home/dajung2140/.local/lib/python3.10/site-packages (from langchain-core<0.4.0,>=0.3.31->langchain_community) (24.2)\n",
      "Requirement already satisfied: jsonpatch<2.0,>=1.33 in /home/dajung2140/.local/lib/python3.10/site-packages (from langchain-core<0.4.0,>=0.3.31->langchain_community) (1.33)\n",
      "Requirement already satisfied: orjson<4.0.0,>=3.9.14 in /home/dajung2140/.local/lib/python3.10/site-packages (from langsmith<0.4,>=0.1.125->langchain_community) (3.10.15)\n",
      "Requirement already satisfied: httpx<1,>=0.23.0 in /home/dajung2140/.local/lib/python3.10/site-packages (from langsmith<0.4,>=0.1.125->langchain_community) (0.28.1)\n",
      "Requirement already satisfied: zstandard<0.24.0,>=0.23.0 in /home/dajung2140/.local/lib/python3.10/site-packages (from langsmith<0.4,>=0.1.125->langchain_community) (0.23.0)\n",
      "Requirement already satisfied: requests-toolbelt<2.0.0,>=1.0.0 in /home/dajung2140/.local/lib/python3.10/site-packages (from langsmith<0.4,>=0.1.125->langchain_community) (1.0.0)\n",
      "Requirement already satisfied: python-dotenv>=0.21.0 in /home/dajung2140/.local/lib/python3.10/site-packages (from pydantic-settings<3.0.0,>=2.4.0->langchain_community) (1.0.1)\n",
      "Requirement already satisfied: certifi>=2017.4.17 in /usr/lib/python3/dist-packages (from requests<3,>=2->langchain_community) (2020.6.20)\n",
      "Requirement already satisfied: idna<4,>=2.5 in /usr/lib/python3/dist-packages (from requests<3,>=2->langchain_community) (3.3)\n",
      "Requirement already satisfied: charset-normalizer<4,>=2 in /home/dajung2140/.local/lib/python3.10/site-packages (from requests<3,>=2->langchain_community) (3.4.1)\n",
      "Requirement already satisfied: urllib3<3,>=1.21.1 in /usr/lib/python3/dist-packages (from requests<3,>=2->langchain_community) (1.26.5)\n",
      "Requirement already satisfied: greenlet!=0.4.17 in /home/dajung2140/.local/lib/python3.10/site-packages (from SQLAlchemy<3,>=1.4->langchain_community) (3.1.1)\n",
      "Requirement already satisfied: httpcore==1.* in /home/dajung2140/.local/lib/python3.10/site-packages (from httpx<1,>=0.23.0->langsmith<0.4,>=0.1.125->langchain_community) (1.0.7)\n",
      "Requirement already satisfied: anyio in /home/dajung2140/.local/lib/python3.10/site-packages (from httpx<1,>=0.23.0->langsmith<0.4,>=0.1.125->langchain_community) (4.8.0)\n",
      "Requirement already satisfied: h11<0.15,>=0.13 in /home/dajung2140/.local/lib/python3.10/site-packages (from httpcore==1.*->httpx<1,>=0.23.0->langsmith<0.4,>=0.1.125->langchain_community) (0.14.0)\n",
      "Requirement already satisfied: jsonpointer>=1.9 in /usr/lib/python3/dist-packages (from jsonpatch<2.0,>=1.33->langchain-core<0.4.0,>=0.3.31->langchain_community) (2.0)\n",
      "Requirement already satisfied: annotated-types>=0.6.0 in /home/dajung2140/.local/lib/python3.10/site-packages (from pydantic<3.0.0,>=2.7.4->langchain<0.4.0,>=0.3.15->langchain_community) (0.7.0)\n",
      "Requirement already satisfied: pydantic-core==2.27.2 in /home/dajung2140/.local/lib/python3.10/site-packages (from pydantic<3.0.0,>=2.7.4->langchain<0.4.0,>=0.3.15->langchain_community) (2.27.2)\n",
      "Requirement already satisfied: mypy-extensions>=0.3.0 in /home/dajung2140/.local/lib/python3.10/site-packages (from typing-inspect<1,>=0.4.0->dataclasses-json<0.7,>=0.5.7->langchain_community) (1.0.0)\n",
      "Requirement already satisfied: exceptiongroup>=1.0.2 in /home/dajung2140/.local/lib/python3.10/site-packages (from anyio->httpx<1,>=0.23.0->langsmith<0.4,>=0.1.125->langchain_community) (1.2.2)\n",
      "Requirement already satisfied: sniffio>=1.1 in /home/dajung2140/.local/lib/python3.10/site-packages (from anyio->httpx<1,>=0.23.0->langsmith<0.4,>=0.1.125->langchain_community) (1.3.1)\n",
      "Defaulting to user installation because normal site-packages is not writeable\n",
      "Requirement already satisfied: faiss-cpu in /home/dajung2140/.local/lib/python3.10/site-packages (1.9.0.post1)\n",
      "Requirement already satisfied: packaging in /home/dajung2140/.local/lib/python3.10/site-packages (from faiss-cpu) (24.2)\n",
      "Requirement already satisfied: numpy<3.0,>=1.25.0 in /home/dajung2140/.local/lib/python3.10/site-packages (from faiss-cpu) (1.26.4)\n",
      "Defaulting to user installation because normal site-packages is not writeable\n",
      "Requirement already satisfied: gradio in /home/dajung2140/.local/lib/python3.10/site-packages (5.12.0)\n",
      "Requirement already satisfied: aiofiles<24.0,>=22.0 in /home/dajung2140/.local/lib/python3.10/site-packages (from gradio) (23.2.1)\n",
      "Requirement already satisfied: starlette<1.0,>=0.40.0 in /home/dajung2140/.local/lib/python3.10/site-packages (from gradio) (0.41.3)\n",
      "Requirement already satisfied: typing-extensions~=4.0 in /home/dajung2140/.local/lib/python3.10/site-packages (from gradio) (4.12.2)\n",
      "Requirement already satisfied: packaging in /home/dajung2140/.local/lib/python3.10/site-packages (from gradio) (24.2)\n",
      "Requirement already satisfied: anyio<5.0,>=3.0 in /home/dajung2140/.local/lib/python3.10/site-packages (from gradio) (4.8.0)\n",
      "Requirement already satisfied: markupsafe~=2.0 in /usr/lib/python3/dist-packages (from gradio) (2.0.1)\n",
      "Requirement already satisfied: pandas<3.0,>=1.0 in /home/dajung2140/.local/lib/python3.10/site-packages (from gradio) (2.2.3)\n",
      "Requirement already satisfied: pydub in /home/dajung2140/.local/lib/python3.10/site-packages (from gradio) (0.25.1)\n",
      "Requirement already satisfied: huggingface-hub>=0.25.1 in /home/dajung2140/.local/lib/python3.10/site-packages (from gradio) (0.27.1)\n",
      "Requirement already satisfied: httpx>=0.24.1 in /home/dajung2140/.local/lib/python3.10/site-packages (from gradio) (0.28.1)\n",
      "Requirement already satisfied: pydantic>=2.0 in /home/dajung2140/.local/lib/python3.10/site-packages (from gradio) (2.10.5)\n",
      "Requirement already satisfied: ruff>=0.2.2 in /home/dajung2140/.local/lib/python3.10/site-packages (from gradio) (0.9.2)\n",
      "Requirement already satisfied: safehttpx<0.2.0,>=0.1.6 in /home/dajung2140/.local/lib/python3.10/site-packages (from gradio) (0.1.6)\n",
      "Requirement already satisfied: python-multipart>=0.0.18 in /home/dajung2140/.local/lib/python3.10/site-packages (from gradio) (0.0.20)\n",
      "Requirement already satisfied: fastapi<1.0,>=0.115.2 in /home/dajung2140/.local/lib/python3.10/site-packages (from gradio) (0.115.6)\n",
      "Requirement already satisfied: tomlkit<0.14.0,>=0.12.0 in /home/dajung2140/.local/lib/python3.10/site-packages (from gradio) (0.13.2)\n",
      "Requirement already satisfied: numpy<3.0,>=1.0 in /home/dajung2140/.local/lib/python3.10/site-packages (from gradio) (1.26.4)\n",
      "Requirement already satisfied: gradio-client==1.5.4 in /home/dajung2140/.local/lib/python3.10/site-packages (from gradio) (1.5.4)\n",
      "Requirement already satisfied: pillow<12.0,>=8.0 in /home/dajung2140/.local/lib/python3.10/site-packages (from gradio) (11.1.0)\n",
      "Requirement already satisfied: jinja2<4.0 in /usr/lib/python3/dist-packages (from gradio) (3.0.3)\n",
      "Requirement already satisfied: orjson~=3.0 in /home/dajung2140/.local/lib/python3.10/site-packages (from gradio) (3.10.15)\n",
      "Requirement already satisfied: uvicorn>=0.14.0 in /home/dajung2140/.local/lib/python3.10/site-packages (from gradio) (0.34.0)\n",
      "Requirement already satisfied: typer<1.0,>=0.12 in /home/dajung2140/.local/lib/python3.10/site-packages (from gradio) (0.15.1)\n",
      "Requirement already satisfied: semantic-version~=2.0 in /home/dajung2140/.local/lib/python3.10/site-packages (from gradio) (2.10.0)\n",
      "Requirement already satisfied: pyyaml<7.0,>=5.0 in /usr/lib/python3/dist-packages (from gradio) (5.4.1)\n",
      "Requirement already satisfied: ffmpy in /home/dajung2140/.local/lib/python3.10/site-packages (from gradio) (0.5.0)\n",
      "Requirement already satisfied: fsspec in /home/dajung2140/.local/lib/python3.10/site-packages (from gradio-client==1.5.4->gradio) (2024.12.0)\n",
      "Requirement already satisfied: websockets<15.0,>=10.0 in /home/dajung2140/.local/lib/python3.10/site-packages (from gradio-client==1.5.4->gradio) (14.2)\n",
      "Requirement already satisfied: sniffio>=1.1 in /home/dajung2140/.local/lib/python3.10/site-packages (from anyio<5.0,>=3.0->gradio) (1.3.1)\n",
      "Requirement already satisfied: exceptiongroup>=1.0.2 in /home/dajung2140/.local/lib/python3.10/site-packages (from anyio<5.0,>=3.0->gradio) (1.2.2)\n",
      "Requirement already satisfied: idna>=2.8 in /usr/lib/python3/dist-packages (from anyio<5.0,>=3.0->gradio) (3.3)\n",
      "Requirement already satisfied: httpcore==1.* in /home/dajung2140/.local/lib/python3.10/site-packages (from httpx>=0.24.1->gradio) (1.0.7)\n",
      "Requirement already satisfied: certifi in /usr/lib/python3/dist-packages (from httpx>=0.24.1->gradio) (2020.6.20)\n",
      "Requirement already satisfied: h11<0.15,>=0.13 in /home/dajung2140/.local/lib/python3.10/site-packages (from httpcore==1.*->httpx>=0.24.1->gradio) (0.14.0)\n",
      "Requirement already satisfied: filelock in /home/dajung2140/.local/lib/python3.10/site-packages (from huggingface-hub>=0.25.1->gradio) (3.16.1)\n",
      "Requirement already satisfied: tqdm>=4.42.1 in /home/dajung2140/.local/lib/python3.10/site-packages (from huggingface-hub>=0.25.1->gradio) (4.67.1)\n",
      "Requirement already satisfied: requests in /home/dajung2140/.local/lib/python3.10/site-packages (from huggingface-hub>=0.25.1->gradio) (2.32.3)\n",
      "Requirement already satisfied: python-dateutil>=2.8.2 in /home/dajung2140/.local/lib/python3.10/site-packages (from pandas<3.0,>=1.0->gradio) (2.9.0.post0)\n",
      "Requirement already satisfied: tzdata>=2022.7 in /home/dajung2140/.local/lib/python3.10/site-packages (from pandas<3.0,>=1.0->gradio) (2024.2)\n",
      "Requirement already satisfied: pytz>=2020.1 in /usr/lib/python3/dist-packages (from pandas<3.0,>=1.0->gradio) (2022.1)\n",
      "Requirement already satisfied: annotated-types>=0.6.0 in /home/dajung2140/.local/lib/python3.10/site-packages (from pydantic>=2.0->gradio) (0.7.0)\n",
      "Requirement already satisfied: pydantic-core==2.27.2 in /home/dajung2140/.local/lib/python3.10/site-packages (from pydantic>=2.0->gradio) (2.27.2)\n",
      "Requirement already satisfied: shellingham>=1.3.0 in /home/dajung2140/.local/lib/python3.10/site-packages (from typer<1.0,>=0.12->gradio) (1.5.4)\n",
      "Requirement already satisfied: click>=8.0.0 in /usr/lib/python3/dist-packages (from typer<1.0,>=0.12->gradio) (8.0.3)\n",
      "Requirement already satisfied: rich>=10.11.0 in /home/dajung2140/.local/lib/python3.10/site-packages (from typer<1.0,>=0.12->gradio) (13.9.4)\n",
      "Requirement already satisfied: six>=1.5 in /usr/lib/python3/dist-packages (from python-dateutil>=2.8.2->pandas<3.0,>=1.0->gradio) (1.16.0)\n",
      "Requirement already satisfied: pygments<3.0.0,>=2.13.0 in /home/dajung2140/.local/lib/python3.10/site-packages (from rich>=10.11.0->typer<1.0,>=0.12->gradio) (2.19.1)\n",
      "Requirement already satisfied: markdown-it-py>=2.2.0 in /home/dajung2140/.local/lib/python3.10/site-packages (from rich>=10.11.0->typer<1.0,>=0.12->gradio) (3.0.0)\n",
      "Requirement already satisfied: charset-normalizer<4,>=2 in /home/dajung2140/.local/lib/python3.10/site-packages (from requests->huggingface-hub>=0.25.1->gradio) (3.4.1)\n",
      "Requirement already satisfied: urllib3<3,>=1.21.1 in /usr/lib/python3/dist-packages (from requests->huggingface-hub>=0.25.1->gradio) (1.26.5)\n",
      "Requirement already satisfied: mdurl~=0.1 in /home/dajung2140/.local/lib/python3.10/site-packages (from markdown-it-py>=2.2.0->rich>=10.11.0->typer<1.0,>=0.12->gradio) (0.1.2)\n"
     ]
    }
   ],
   "source": [
    "!pip install -qU pypdf\n",
    "!pip install -qU langchain-openai\n",
    "!pip install langchain_community\n",
    "!pip install faiss-cpu\n",
    "!pip install --upgrade gradio"
   ]
  },
  {
   "cell_type": "code",
   "execution_count": 68,
   "metadata": {},
   "outputs": [],
   "source": [
    "#경로 설정\n",
    "import getpass\n",
    "import os\n",
    "\n",
    "if not os.environ.get(\"OPENAI_API_KEY\"):\n",
    "  os.environ[\"OPENAI_API_KEY\"] = getpass.getpass(\"Enter API key for OpenAI: \")\n",
    "\n",
    "#모델 설정\n",
    "from langchain_openai import ChatOpenAI\n",
    "\n",
    "chat = ChatOpenAI(model_name=\"gpt-4o-mini\", temperature=0.9)"
   ]
  },
  {
   "cell_type": "code",
   "execution_count": 70,
   "metadata": {},
   "outputs": [
    {
     "data": {
      "text/plain": [
       "7"
      ]
     },
     "execution_count": 70,
     "metadata": {},
     "output_type": "execute_result"
    }
   ],
   "source": [
    "#pdf 읽어오기\n",
    "from langchain_community.document_loaders import PyPDFLoader\n",
    "\n",
    "loader = PyPDFLoader(\"/home/dajung2140/work/kosa-chatgpt-2025-1st/src/exercise/dawoo/day01/doc/소나기.pdf\")\n",
    "documents = loader.load()\n",
    "\n",
    "from langchain.text_splitter import CharacterTextSplitter\n",
    "\n",
    "text_splitter = CharacterTextSplitter(chunk_size=1000, chunk_overlap=0)\n",
    "docs = text_splitter.split_documents(documents)\n",
    "len(docs)"
   ]
  },
  {
   "cell_type": "code",
   "execution_count": 71,
   "metadata": {},
   "outputs": [
    {
     "data": {
      "text/plain": [
       "[Document(metadata={'source': '/home/dajung2140/work/kosa-chatgpt-2025-1st/src/exercise/dawoo/day01/doc/소나기.pdf', 'page': 0, 'page_label': '1'}, page_content='- 1 -\\n소나기황순원소년은 개울가에서 소녀를 보자 곧 윤 초시네 증손녀(曾孫女)딸이라는 걸 알 수 있었다. 소녀는 개울에다 손을 잠그고 물장난을 하고 있는 것이다. 서울서는 이런 개울물을 보지 못하기나 한 듯이.벌써 며칠째 소녀는, 학교에서 돌아오는 길에 물장난이었다. 그런데, 어제까지 개울 기슭에서 하더니, 오늘은 징검다리 한가운데 앉아서 하고 있다.소년은 개울둑에 앉아 버렸다. 소녀가 비키기를 기다리자는 것이다.요행 지나가는 사람이 있어, 소녀가 길을 비켜 주었다.다음 날은 좀 늦게 개울가로 나왔다.이 날은 소녀가 징검다리 한가운데 앉아 세수를 하고 있었다. 분홍 스웨터 소매를 걷어올린 목덜미가 마냥 희었다.한참 세수를 하고 나더니, 이번에는 물 속을 빤히 들여다 본다. 얼굴이라도 비추어 보는 것이리라. 갑자기 물을 움켜 낸다. 고기 새끼라도 지나가는 듯.소녀는 소년이 개울둑에 앉아 있는 걸 아는지 모르는지 그냥 날쌔게 물만 움켜 낸다. 그러나, 번번이 허탕이다. 그대로 재미있는 양, 자꾸 물만 움킨다. 어제처럼 개울을 건너는 사람이 있어야 길을 비킬 모양이다.그러다가 소녀가 물 속에서 무엇을 하나 집어 낸다. 하얀 조약돌이었다. 그리고는 벌떡 일어나 팔짝팔짝 징검다리를 뛰어 건너간다.다 건너가더니만 홱 이리로 돌아서며,“이 바보.”조약돌이 날아왔다.소년은 저도 모르게 벌떡 일어섰다.단발 머리를 나풀거리며 소녀가 막 달린다. 갈밭 사잇길로 들어섰다. 뒤에는 청량한 가을 햇살 아래 빛나는 갈꽃뿐.이제 저쯤 갈밭머리로 소녀가 나타나리라. 꽤 오랜 시간이 지났다고 생각됐다. 그런데도 소녀는 나타나지 않는다. 발돋움을 했다. 그러고도 상당한 시간이 지났다고 생각됐다.저 쪽 갈밭머리에 갈꽃이 한 옴큼 움직였다. 소녀가 갈꽃을 안고 있었다. 그리고, 이제는 천천한 걸음이었다. 유난히 맑은 가을 햇살이 소녀의 갈꽃머리에서 반짝거렸다. 소녀 아닌 갈꽃이 들길을 걸어가는 것만 같았다.소년은 이 갈꽃이 아주 뵈지 않게 되기까지 그대로 서 있었다. 문득, 소녀가 던지 조약돌을 내려다보았다. 물기가 걷혀 있었다. 소년은 조약돌을 집어 주머니에 넣었다.다음 날부터 좀더 늦게 개울가로 나왔다. 소녀의 그림자가 뵈지 않았다. 다행이었다.그러나, 이상한 일이었다. 소녀의 그림자가 뵈지 않는 날이 계속될수록 소년의 가슴 한 구석에는 어딘가 허전함이 자리 잡는 것이었다. 주머니 속 조약돌을 주무르는 버릇이 생겼다.그러한 어떤 날, 소년은 전에 소녀가 앉아 물장난을 하던 징검다리 한가운데에 앉아 보았다. 물 속에 손을 잠갔다. 세수를 하였다. 물 속을 들여다보았다. 검게 탄 얼굴이 그대로 비치었다. 싫었다.'), Document(metadata={'source': '/home/dajung2140/work/kosa-chatgpt-2025-1st/src/exercise/dawoo/day01/doc/소나기.pdf', 'page': 1, 'page_label': '2'}, page_content='- 2 -\\n소년은 두 손으로 물 속의 얼굴을 움키었다. 몇 번이고 움키었다. 그러다가 깜짝 놀라 일어나고 말았다. 소녀가 이리로 건너오고 있지 않느냐.‘숨어서 내가 하는 일을 엿보고 있었구나.’ 소년은 달리기를 시작했다. 디딤돌을 헛디뎠다. 한 발이 물 속에 빠졌다. 더 달렸다.몸을 가릴 데가 있어 줬으면 좋겠다. 이 쪽 길에는 갈밭도 없다. 메밀밭이다. 전에 없이 메밀꽃 냄새가 짜릿하게 코를 찌른다고 생각됐다. 미간이 아찔했다. 찝찔한 액체가 입술에 흘러들었다. 코피였다.소년은 한 손으로 코피를 훔쳐내면서 그냥 달렸다. 어디선가 ‘바보, 바보’ 하는 소리가 자꾸만 뒤따라오는 것 같았다.토요일이었다.개울가에 이르니, 며칠째 보이지 않던 소녀가 건너편 가에 앉아 물장난을 하고 있었다. 모르는 체 징검다리를 건너기 시작했다. 얼마 전에 소녀 앞에서 한 번 실수를 했을 뿐, 여태 큰길 가듯이 건너던 징검다리를 오늘은 조심스럽게 건넌다.“얘.”못 들은 체했다. 둑 위로 올라섰다.“얘, 이게 무슨 조개지?”자기도 모르게 돌아섰다. 소녀의 맑고 검은 눈과 마주쳤다. 얼른 소녀의 손바닥으로 눈을 떨구었다.“비단조개.”“이름도 참 곱다.”갈림길에 왔다. 여기서 소녀는 아래편으로 한 삼 마장쯤, 소년은 우대로 한 십 리 가까운 길을 가야 한다.소녀가 걸음을 멈추며,“너, 저 산 너머에 가 본 일 있니?”벌 끝을 가리켰다.“없다.”“우리, 가 보지 않으련? 시골 오니까 혼자서 심심해 못 견디겠다.”“저래 봬도 멀다.”“멀면 얼마나 멀기에? 서울 있을 땐 사뭇 먼 데까지 소풍 갔었다.”소녀의 눈이 금새 ‘바보,바보,’할 것만 같았다.논 사잇길로 들어섰다. 벼 가을걷이하는 곁을 지났다.허수아비가 서 있었다. 소년이 새끼줄을 흔들었다. 참새가 몇 마리 날아간다. ‘참, 오늘은 일찍 집으로 돌아가 텃논의 참새를 봐야 할걸.’ 하는 생각이 든다.“야, 재밌다!”소녀가 허수아비 줄을 잡더니 흔들어 댄다. 허수아비가 자꾸 우쭐거리며 춤을 춘다. 소녀의 왼쪽 볼에 살포시 보조개가 패었다.저만큼 허수아비가 또 서 있다. 소녀가 그리로 달려간다. 그 뒤를 소년도 달렸다. 오늘 같은 날은 일찍 집으로 돌아가 집안일을 도와야 한다는 생각을 잊어버리기라도 하려는 듯이.소녀의 곁을 스쳐 그냥 달린다. 메뚜기가 따끔따끔 얼굴에 와 부딪친다. 쪽빛으로 한껏 갠 가을 하늘이 소년의 눈앞에서 맴을 돈다. 어지럽다. 저놈의 독수리, 저놈의 독수리, 저놈의 독수리가 맴을 돌고 있기 때문이다.'), Document(metadata={'source': '/home/dajung2140/work/kosa-chatgpt-2025-1st/src/exercise/dawoo/day01/doc/소나기.pdf', 'page': 2, 'page_label': '3'}, page_content='- 3 -\\n돌아다보니, 소녀는 지금 자기가 지나쳐 온 허수아비를 흔들고 있다. 좀 전 허수아비보다 더 우쭐거린다.논이 끝난 곳에 도랑이 하나 있었다. 소녀가 먼저 뛰어 건넜다.거기서부터 산 밑까지는 밭이었다.수숫단을 세워 놓은 밭머리를 지났다.“저게 뭐니?”“원두막.”“여기 참외, 맛있니?”“그럼, 참외 맛도 좋지만 수박 맛은 더 좋다.”“하나 먹어 봤으면.”소년이 참외 그루에 심은 무우밭으로 들어가, 무우 두 밑을 뽑아 왔다. 아직 밑이 덜 들어 있었다. 잎을 비틀어 팽개친 후, 소녀에게 한개 건넨다. 그리고는 이렇게 먹어야 한다는 듯이, 먼저 대강이를 한 입 베물어 낸 다음, 손톱으로 한 돌이 껍질을 벗겨 우쩍 깨문다.소녀도 따라 했다. 그러나, 세 입도 못 먹고,“아, 맵고 지려.”하며 집어던지고 만다.“참, 맛 없어 못 먹겠다.”소년이 더 멀리 팽개쳐 버렸다.산이 가까워졌다.단풍이 눈에 따가웠다.“야아!”소녀가 산을 향해 달려갔다. 이번은 소년이 뒤따라 달리지 않았다. 그러고도 곧 소녀보다 더 많은 꽃을 꺾었다.“이게 들국화, 이게 싸리꽃, 이게 도라지꽃,…….”“도라지꽃이 이렇게 예쁜 줄은 몰랐네. 난 보랏빛이 좋아!…… 그런데, 이 양산 같이 생긴 노란 꽃이 뭐지?”“마타리꽃.”소녀는 마타리꽃을 양산 받듯이 해 보인다. 약간 상기된 얼굴에 살포시 보조개를 떠올리며.다시 소년은 꽃 한 옴큼을 꺾어 왔다. 싱싱한 꽃가지만 골라 소녀에게 건넨다.그러나 소녀는“하나도 버리지 마라.”산마루께로 올라갔다.맞은편 골짜기에 오순도순 초가집이 몇 모여 있었다.누가 말할 것도 아닌데, 바위에 나란히 걸터앉았다. 유달리 주위가 조용해진 것 같았다. 따가운 가을 햇살만이 말라가는 풀 냄새를 퍼뜨리고 있었다.“저건 또 무슨 꽃이지?”적잖이 비탈진 곳에 칡덩굴이 엉키어 꽃을 달고 있었다.“꼭 등꽃 같네. 서울 우리 학교에 큰 등나무가 있었단다. 저 꽃을 보니까 등나무 밑에서 놀던 동무들 생각이 난다.”소녀가 조용히 일어나 비탈진 곳으로 간다. 꽃송이가 많이 달린 줄기를 잡고 끊기 시작한')]\n"
      ]
     },
     "metadata": {},
     "output_type": "display_data"
    }
   ],
   "source": [
    "docs[:3]"
   ]
  },
  {
   "cell_type": "code",
   "execution_count": 72,
   "metadata": {},
   "outputs": [],
   "source": [
    "from langchain_openai import OpenAIEmbeddings\n",
    "\n",
    "embeddings = OpenAIEmbeddings()\n",
    "\n",
    "from langchain.indexes import VectorstoreIndexCreator\n",
    "from langchain.vectorstores import FAISS\n",
    "\n",
    "index = VectorstoreIndexCreator(\n",
    "    vectorstore_cls=FAISS,\n",
    "    embedding=embeddings,\n",
    "    ).from_loaders([loader])\n",
    "\n",
    "index.vectorstore.save_local(\"faiss-vectorstore\")"
   ]
  },
  {
   "cell_type": "code",
   "execution_count": 73,
   "metadata": {},
   "outputs": [
    {
     "data": {
      "text/plain": [
       "vectorstore=<langchain_community.vectorstores.faiss.FAISS object at 0x7f3f73b08400>\n"
      ]
     },
     "metadata": {},
     "output_type": "display_data"
    }
   ],
   "source": [
    "index"
   ]
  },
  {
   "cell_type": "code",
   "execution_count": 74,
   "metadata": {},
   "outputs": [],
   "source": [
    "# from langchain_openai import OpenAIEmbeddings\n",
    "# from langchain_core.vectorstores import InMemoryVectorStore\n",
    "\n",
    "# embeddings = OpenAIEmbeddings()\n",
    "\n",
    "# vector_store = InMemoryVectorStore.from_documents(pages, embeddings)\n",
    "# docs = vector_store.similarity_search(\"징검다리\", k=3)\n",
    "\n",
    "# for doc in docs:\n",
    "#     print(f'Page : {doc.page_content[:300]}\\n')"
   ]
  },
  {
   "cell_type": "code",
   "execution_count": 75,
   "metadata": {},
   "outputs": [
    {
     "data": {
      "text/plain": [
       "\n",
       "\n",
       "\u001b[1m> Entering new RetrievalQA chain...\u001b[0m\n",
       "\n",
       "\u001b[1m> Finished chain.\u001b[0m\n",
       "Traceback (most recent call last):\n",
       "  File \"/home/dajung2140/.vscode-server/extensions/ms-python.python-2024.22.2-linux-x64/python_files/python_server.py\", line 133, in exec_user_input\n",
       "    retval = callable_(user_input, user_globals)\n",
       "  File \"<string>\", line 2, in <module>\n",
       "  File \"/home/dajung2140/.local/lib/python3.10/site-packages/langchain/indexes/vectorstore.py\", line 38, in query\n",
       "    raise NotImplementedError(\n",
       "NotImplementedError: This API has been changed to require an LLM. Please provide an llm to use for querying the vectorstore.\n",
       "For example,\n",
       "from langchain_openai import OpenAI\n",
       "llm = OpenAI(temperature=0)\n",
       "\n"
      ]
     },
     "metadata": {},
     "output_type": "display_data"
    }
   ],
   "source": [
    "chat1 = index.query(\"소년의 심정 변화는?\", llm=chat, verbose=True)"
   ]
  },
  {
   "cell_type": "code",
   "execution_count": null,
   "metadata": {},
   "outputs": [],
   "source": [
    "chat2 = index.query(\"소년의 심정 변화는?\", llm=chat)"
   ]
  },
  {
   "cell_type": "code",
   "execution_count": null,
   "metadata": {},
   "outputs": [
    {
     "data": {
      "text/plain": [
       "소년의 심정 변화는 소녀가 이사 간다는 사실을 알게 된 후부터 시작된다. 처음에는 소녀의 이사 소식이 그다지 슬프지 않다고 느끼지만, 시간이 지나면서 소녀와 함께했던 순간들을 회상하고 그녀와의 이별에 대한 아쉬움을 느끼게 된다. 소녀를 생각하며 혼잣말을 하면서 점점 더 그리움과 안타까움을 느끼고, 소녀에게 맛있는 호두를 먹여주고 싶다는 마음도 생긴다. 결국 소년은 소녀에게 전하고 싶었던 말을 하지 못한 것을 후회하며, 그리움과 따뜻한 감정으로 가득 차게 된다. 소녀와의 소중한 순간들과 이별의 아쉬움이 얽히면서 소년의 감정은 복잡하게 변화하게 된다.\n",
       "<class 'str'>\n"
      ]
     },
     "metadata": {},
     "output_type": "display_data"
    }
   ],
   "source": [
    "print(chat2)\n",
    "print(type(chat2))"
   ]
  },
  {
   "cell_type": "code",
   "execution_count": null,
   "metadata": {},
   "outputs": [],
   "source": [
    "os.getcwd()"
   ]
  }
 ],
 "metadata": {
  "kernelspec": {
   "display_name": "Python 3",
   "language": "python",
   "name": "python3"
  },
  "language_info": {
   "codemirror_mode": {
    "name": "ipython",
    "version": 3
   },
   "file_extension": ".py",
   "mimetype": "text/x-python",
   "name": "python",
   "nbconvert_exporter": "python",
   "pygments_lexer": "ipython3",
   "version": "3.10.12"
  }
 },
 "nbformat": 4,
 "nbformat_minor": 2
}
