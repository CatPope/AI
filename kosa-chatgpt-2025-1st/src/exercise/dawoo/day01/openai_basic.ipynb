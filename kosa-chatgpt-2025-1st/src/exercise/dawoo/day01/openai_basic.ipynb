{
 "cells": [
  {
   "cell_type": "code",
   "execution_count": 67,
   "metadata": {},
   "outputs": [
    {
     "name": "stdout",
     "output_type": "stream",
     "text": [
      "Defaulting to user installation because normal site-packages is not writeable\n",
      "Collecting python-dotenv\n",
      "  Downloading python_dotenv-1.0.1-py3-none-any.whl (19 kB)\n",
      "Installing collected packages: python-dotenv\n",
      "Successfully installed python-dotenv-1.0.1\n",
      "Note: you may need to restart the kernel to use updated packages.\n"
     ]
    }
   ],
   "source": [
    "!pip install python-dotenv # dotenv라는 환경변수 설정파일"
   ]
  },
  {
   "cell_type": "code",
   "execution_count": 68,
   "metadata": {},
   "outputs": [],
   "source": [
    "import os\n",
    "import openai\n",
    "from dotenv import load_dotenv"
   ]
  },
  {
   "cell_type": "code",
   "execution_count": 72,
   "metadata": {},
   "outputs": [],
   "source": [
    "load_dotenv(verbose=True) # verbose: .env 파일 누락 등의 경고 메시지를 출력할 것인지에 대한 옵션\n",
    "\n",
    "openai.api_key = os.getenv('OPENAI_API_KEY')"
   ]
  },
  {
   "cell_type": "code",
   "execution_count": 73,
   "metadata": {},
   "outputs": [
    {
     "name": "stdout",
     "output_type": "stream",
     "text": [
      "こんにちは？今日の天気は本当に良いですね！\n"
     ]
    }
   ],
   "source": [
    "load_dotenv(verbose=True)\n",
    "\n",
    "openai.api_key = os.getenv('OPENAI_API_KEY')\n",
    "\n",
    "res = openai.chat.completions.create(\n",
    "    model=\"gpt-3.5-turbo\",\n",
    "    messages=[{\"role\": \"user\", \"content\": \"다음을 일본어로 번역하세요: 안녕하세요? 오늘 날씨가 참 좋네요!\"}]\n",
    ")\n",
    "print(res.choices[0].message.content)"
   ]
  },
  {
   "cell_type": "code",
   "execution_count": 75,
   "metadata": {},
   "outputs": [
    {
     "name": "stdout",
     "output_type": "stream",
     "text": [
      "\n",
      "\n",
      "こんにちは？今日の天気は本当にいいですね！星を見に行くにはちょうどいい日です！\n"
     ]
    }
   ],
   "source": [
    "# Completion mode, 지시와 명령을 하나의 prompt로 전달\n",
    "\n",
    "# 텍스트 생성 요청을 보냅니다.\n",
    "response = openai.completions.create(\n",
    "    model=\"gpt-3.5-turbo-instruct\",\n",
    "    prompt = \"다음을 일본어로 번역하세요: 안녕하세요? 오늘 날씨가 참 좋군요!, 별을 보러가기 딱 좋은 날이에요!\",\n",
    "    max_tokens=256,  # 생성된 텍스트의 최대 길이를 설정합니다.\n",
    ")\n",
    "\n",
    "print(response.choices[0].text)"
   ]
  },
  {
   "cell_type": "code",
   "execution_count": 77,
   "metadata": {},
   "outputs": [
    {
     "name": "stdout",
     "output_type": "stream",
     "text": [
      "\n",
      "こんにちは？今日の天気がとても良いですね！\n"
     ]
    }
   ],
   "source": [
    "# Completion mode, 지시와 명령을 하나의 prompt로 전달\n",
    "# 텍스트 생성 요청을 보냅니다.\n",
    "response = openai.completions.create(\n",
    "    model=\"gpt-3.5-turbo-instruct\",\n",
    "    prompt = \"다음을 일본어로 번역하세요: 안녕하세요? 오늘 날씨가 참 좋군요!\",\n",
    "    max_tokens=256,  # 생성된 텍스트의 최대 길이를 설정합니다.\n",
    ")\n",
    "\n",
    "print(response.choices[0].text)"
   ]
  }
 ],
 "metadata": {
  "kernelspec": {
   "display_name": "Python 3",
   "language": "python",
   "name": "python3"
  },
  "language_info": {
   "codemirror_mode": {
    "name": "ipython",
    "version": 3
   },
   "file_extension": ".py",
   "mimetype": "text/x-python",
   "name": "python",
   "nbconvert_exporter": "python",
   "pygments_lexer": "ipython3",
   "version": "3.10.12"
  }
 },
 "nbformat": 4,
 "nbformat_minor": 2
}
