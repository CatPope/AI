{
 "cells": [
  {
   "cell_type": "code",
   "execution_count": 1,
   "metadata": {},
   "outputs": [
    {
     "name": "stdout",
     "output_type": "stream",
     "text": [
      "5\n"
     ]
    }
   ],
   "source": [
    "print(2+3)"
   ]
  },
  {
   "cell_type": "code",
   "execution_count": 2,
   "metadata": {},
   "outputs": [],
   "source": [
    "from openai import OpenAI\n",
    "client = OpenAI()\n",
    "\n",
    "response = client.chat.completions.create(\n",
    "  model=\"gpt-4o-mini\",\n",
    "  messages=[\n",
    "    {\n",
    "      \"role\": \"user\",\n",
    "      \"content\": [\n",
    "        {\n",
    "          \"type\": \"text\",\n",
    "          \"text\": \"뉴욕여행 3박4일 일정으로 계획해죠\"\n",
    "        }\n",
    "      ]\n",
    "    },\n",
    "    {\n",
    "      \"role\": \"assistant\",\n",
    "      \"content\": [\n",
    "        {\n",
    "          \"type\": \"text\",\n",
    "          \"text\": \"뉴욕에서의 3박 4일 여행 일정은 정말 기대되네요! 아래는 추천하는 일정입니다. 개인의 취향에 따라 조정할 수 있습니다.\\n\\n### 1일차: 맨해튼 탐방\\n- **아침:** 타임스퀘어 방문 및 근처 카페에서 아침 식사\\n- **오전:** \\n  - 록펠러 센터 방문 및 '탑 오브 더 록' 전망대에서 뉴욕 전경 감상\\n  - 대성당(세인트 패트릭 대성당) 방문\\n- **점심:** 푸드홀이나 근처 레스토랑에서 점심\\n- **오후:** \\n  - 중앙공원 산책 (자전거 대여 가능)\\n  - 메트로폴리탄 미술관 (또는 자연사 박물관)\\n- **저녁:** 어퍼 이스트 사이드나 헬스키친에서 저녁 식사\\n- **야경:** 브루클린 브리지에서 야경 감상 후, 브루클린의 덤보 지역 탐방\\n\\n### 2일차: 문화와 역사\\n- **아침:** 델리에서 아침 식사\\n- **오전:** \\n  - 9/11 메모리얼 및 박물관 방문\\n  - 원 월드 트레이드 센터 전망대 (원 월드 옵저버토리)\\n- **점심:** 배터리 파크 근처의 레스토랑에서 점심\\n- **오후:** \\n  - 자유의 여신상 및 엘리스 섬 투어\\n- **저녁:** 차이나타운이나 리틀 이태리에서 저녁 식사\\n- **야경:** 소호 지역 탐방 및 스토어 방문\\n\\n### 3일차: 예술과 쇼핑\\n- **아침:** 브런치 카페에서 아침\\n- **오전:** \\n  - 모마 (현대 미술관) 방문\\n  - 5번가에서 쇼핑\\n- **점심:** 5번가 근처의 레스토랑에서 점심\\n- **오후:**\\n  - 헤르메스, 구찌 등 고급 브랜드 매장 방문\\n  - 소호 및 그리니치 빌리지 탐방\\n- **저녁:** 브로드웨이 뮤지컬 관람 (미리 티켓 예약)\\n- **야경:** 브로드웨이 주변의 바나 카페에서 야경 및 음료\\n\\n### 4일차: 지역 탐방 및 출발\\n- **아침:** 호텔 근처의 카페에서 아침\\n- **오전:** \\n  - 첼시 마켓 탐방 및 맛있는 간식 즐기기\\n  - 하이라인 공원 산책\\n- **점심:** 근처의 레스토랑에서 점심\\n- **오후:** \\n  - 메리어트 마르퀴스에서 체크아웃 및 기념품 쇼핑\\n  - 공항으로 이동\\n\\n이번 여행이 즐거운 경험이 되길 바랍니다! 뉴욕의 다양한 문화와 음식을 경험해보세요!\"\n",
    "        }\n",
    "      ]\n",
    "    }\n",
    "  ],\n",
    "  response_format={\n",
    "    \"type\": \"text\"\n",
    "  },\n",
    "  temperature=1,\n",
    "  max_completion_tokens=2048,\n",
    "  top_p=1,\n",
    "  frequency_penalty=0,\n",
    "  presence_penalty=0\n",
    ")"
   ]
  },
  {
   "cell_type": "code",
   "execution_count": 3,
   "metadata": {},
   "outputs": [
    {
     "name": "stdout",
     "output_type": "stream",
     "text": [
      "ChatCompletion(id='chatcmpl-Arf3vAAC3OxSqC7RFqY3BBe3AoZE2', choices=[Choice(finish_reason='stop', index=0, logprobs=None, message=ChatCompletionMessage(content=\"뉴욕에서의 3박 4일 여행 일정은 정말 기대되네요! 아래는 추천하는 일정입니다. 개인의 취향에 따라 조정할 수 있습니다.\\n\\n### 1일차: 맨해튼 탐방\\n- **아침:** 타임스퀘어 방문 및 근처 카페에서 아침 식사.\\n- **오전:** \\n  - 록펠러 센터 방문 및 '탑 오브 더 록' 전망대에서 뉴욕 전경 감상.\\n  - 세인트 패트릭 대성당 방문.\\n- **점심:** 푸드홀이나 근처 레스토랑에서 점심.\\n- **오후:** \\n  - 중앙공원 산책 (자전거 대여 가능).\\n  - 메트로폴리탄 미술관 (또는 자연사 박물관) 방문.\\n- **저녁:** 어퍼 이스트 사이드나 헬스키친에서 저녁 식사.\\n- **야경:** 브루클린 브리지에서 야경 감상 후, 브루클린의 덤보 지역 탐방.\\n\\n### 2일차: 문화와 역사\\n- **아침:** 델리에서 아침 식사.\\n- **오전:** \\n  - 9/11 메모리얼 및 박물관 방문.\\n  - 원 월드 트레이드 센터 전망대 (원 월드 옵저버토리).\\n- **점심:** 배터리 파크 근처의 레스토랑에서 점심.\\n- **오후:** \\n  - 자유의 여신상 및 엘리스 섬 투어.\\n- **저녁:** 차이나타운이나 리틀 이태리에서 저녁 식사.\\n- **야경:** 소호 지역 탐방 및 스토어 방문.\\n\\n### 3일차: 예술과 쇼핑\\n- **아침:** 브런치 카페에서 아침.\\n- **오전:** \\n  - 모마 (현대 미술관) 방문.\\n  - 5번가에서 쇼핑.\\n- **점심:** 5번가 근처의 레스토랑에서 점심.\\n- **오후:**\\n  - 헤르메스, 구찌 등 고급 브랜드 매장 방문.\\n  - 소호 및 그리니치 빌리지 탐방.\\n- **저녁:** 브로드웨이 뮤지컬 관람 (미리 티켓 예약).\\n- **야경:** 브로드웨이 주변의 바나 카페에서 야경 및 음료.\\n\\n### 4일차: 지역 탐방 및 출발\\n- **아침:** 호텔 근처의 카페에서 아침.\\n- **오전:** \\n  - 첼시 마켓 탐방 및 맛있는 간식 즐기기.\\n  - 하이라인 공원 산책.\\n- **점심:** 근처의 레스토랑에서 점심.\\n- **오후:** \\n  - 메리어트 마르퀴스에서 체크아웃 및 기념품 쇼핑.\\n  - 공항으로 이동.\\n\\n이번 여행이 즐거운 경험이 되길 바랍니다! 뉴욕의 다양한 문화와 음식을 경험해 보세요!\", refusal=None, role='assistant', audio=None, function_call=None, tool_calls=None))], created=1737352591, model='gpt-4o-mini-2024-07-18', object='chat.completion', service_tier='default', system_fingerprint='fp_72ed7ab54c', usage=CompletionUsage(completion_tokens=677, prompt_tokens=704, total_tokens=1381, completion_tokens_details=CompletionTokensDetails(accepted_prediction_tokens=0, audio_tokens=0, reasoning_tokens=0, rejected_prediction_tokens=0), prompt_tokens_details=PromptTokensDetails(audio_tokens=0, cached_tokens=0)))\n"
     ]
    }
   ],
   "source": [
    "print(response)"
   ]
  }
 ],
 "metadata": {
  "kernelspec": {
   "display_name": "Python 3",
   "language": "python",
   "name": "python3"
  },
  "language_info": {
   "codemirror_mode": {
    "name": "ipython",
    "version": 3
   },
   "file_extension": ".py",
   "mimetype": "text/x-python",
   "name": "python",
   "nbconvert_exporter": "python",
   "pygments_lexer": "ipython3",
   "version": "3.10.12"
  }
 },
 "nbformat": 4,
 "nbformat_minor": 2
}
