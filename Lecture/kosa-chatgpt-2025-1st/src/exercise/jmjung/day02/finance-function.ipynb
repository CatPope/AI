{
 "cells": [
  {
   "cell_type": "code",
   "execution_count": 1,
   "id": "0ec10bf2-5b55-4a60-86dc-e5696a1f8124",
   "metadata": {},
   "outputs": [
    {
     "name": "stdout",
     "output_type": "stream",
     "text": [
      "Defaulting to user installation because normal site-packages is not writeable\n",
      "Requirement already satisfied: pykrx in /home/jmjung/.local/lib/python3.10/site-packages (1.0.48)\n",
      "Requirement already satisfied: requests in /home/jmjung/.local/lib/python3.10/site-packages (from pykrx) (2.32.3)\n",
      "Requirement already satisfied: pandas in /home/jmjung/.local/lib/python3.10/site-packages (from pykrx) (2.2.3)\n",
      "Requirement already satisfied: datetime in /home/jmjung/.local/lib/python3.10/site-packages (from pykrx) (5.5)\n",
      "Requirement already satisfied: numpy in /home/jmjung/.local/lib/python3.10/site-packages (from pykrx) (2.2.2)\n",
      "Requirement already satisfied: xlrd in /home/jmjung/.local/lib/python3.10/site-packages (from pykrx) (2.0.1)\n",
      "Requirement already satisfied: deprecated in /home/jmjung/.local/lib/python3.10/site-packages (from pykrx) (1.2.15)\n",
      "Requirement already satisfied: multipledispatch in /home/jmjung/.local/lib/python3.10/site-packages (from pykrx) (1.0.0)\n",
      "Requirement already satisfied: matplotlib in /home/jmjung/.local/lib/python3.10/site-packages (from pykrx) (3.10.0)\n",
      "Requirement already satisfied: zope.interface in /usr/lib/python3/dist-packages (from datetime->pykrx) (5.4.0)\n",
      "Requirement already satisfied: pytz in /home/jmjung/.local/lib/python3.10/site-packages (from datetime->pykrx) (2024.2)\n",
      "Requirement already satisfied: wrapt<2,>=1.10 in /home/jmjung/.local/lib/python3.10/site-packages (from deprecated->pykrx) (1.17.2)\n",
      "Requirement already satisfied: contourpy>=1.0.1 in /home/jmjung/.local/lib/python3.10/site-packages (from matplotlib->pykrx) (1.3.1)\n",
      "Requirement already satisfied: cycler>=0.10 in /home/jmjung/.local/lib/python3.10/site-packages (from matplotlib->pykrx) (0.12.1)\n",
      "Requirement already satisfied: fonttools>=4.22.0 in /home/jmjung/.local/lib/python3.10/site-packages (from matplotlib->pykrx) (4.55.3)\n",
      "Requirement already satisfied: kiwisolver>=1.3.1 in /home/jmjung/.local/lib/python3.10/site-packages (from matplotlib->pykrx) (1.4.8)\n",
      "Requirement already satisfied: packaging>=20.0 in /home/jmjung/.local/lib/python3.10/site-packages (from matplotlib->pykrx) (24.2)\n",
      "Requirement already satisfied: pillow>=8 in /home/jmjung/.local/lib/python3.10/site-packages (from matplotlib->pykrx) (11.1.0)\n",
      "Requirement already satisfied: pyparsing>=2.3.1 in /usr/lib/python3/dist-packages (from matplotlib->pykrx) (2.4.7)\n",
      "Requirement already satisfied: python-dateutil>=2.7 in /home/jmjung/.local/lib/python3.10/site-packages (from matplotlib->pykrx) (2.9.0.post0)\n",
      "Requirement already satisfied: tzdata>=2022.7 in /home/jmjung/.local/lib/python3.10/site-packages (from pandas->pykrx) (2024.2)\n",
      "Requirement already satisfied: charset-normalizer<4,>=2 in /home/jmjung/.local/lib/python3.10/site-packages (from requests->pykrx) (3.4.1)\n",
      "Requirement already satisfied: idna<4,>=2.5 in /usr/lib/python3/dist-packages (from requests->pykrx) (3.3)\n",
      "Requirement already satisfied: urllib3<3,>=1.21.1 in /usr/lib/python3/dist-packages (from requests->pykrx) (1.26.5)\n",
      "Requirement already satisfied: certifi>=2017.4.17 in /usr/lib/python3/dist-packages (from requests->pykrx) (2020.6.20)\n",
      "Requirement already satisfied: six>=1.5 in /usr/lib/python3/dist-packages (from python-dateutil>=2.7->matplotlib->pykrx) (1.16.0)\n"
     ]
    }
   ],
   "source": [
    "!pip install pykrx"
   ]
  },
  {
   "cell_type": "code",
   "execution_count": 2,
   "id": "751b1813-b5a9-4a4b-b7b4-7631b99b5be4",
   "metadata": {},
   "outputs": [],
   "source": [
    "from pykrx import stock\n",
    "from pykrx import bond\n"
   ]
  },
  {
   "cell_type": "code",
   "execution_count": 3,
   "id": "62d6d52f",
   "metadata": {},
   "outputs": [],
   "source": [
    "import json\n",
    "\n",
    "def get_market_ohlcv(start_date, end_date, ticker):\n",
    "    stock_name = stock.get_market_ticker_name(ticker)\n",
    "    df = stock.get_market_ohlcv(start_date, end_date, ticker)\n",
    "    df['종목명'] = [stock_name] * len(df)\n",
    "\n",
    "    return json.dumps(df.to_dict(orient='records'), ensure_ascii=False)"
   ]
  },
  {
   "cell_type": "code",
   "execution_count": 4,
   "id": "28443fb3-bcab-42ee-8222-c5cbfde58697",
   "metadata": {},
   "outputs": [
    {
     "name": "stdout",
     "output_type": "stream",
     "text": [
      "[{\"시가\": 61800, \"고가\": 62100, \"저가\": 60500, \"종가\": 60500, \"거래량\": 16782238, \"등락률\": -0.6568144499178982, \"종목명\": \"삼성전자\"}, {\"시가\": 61100, \"고가\": 61900, \"저가\": 60700, \"종가\": 61800, \"거래량\": 12291374, \"등락률\": 2.1487603305785123, \"종목명\": \"삼성전자\"}, {\"시가\": 61800, \"고가\": 62200, \"저가\": 61200, \"종가\": 61300, \"거래량\": 10261310, \"등락률\": -0.8090614886731391, \"종목명\": \"삼성전자\"}, {\"시가\": 60900, \"고가\": 61900, \"저가\": 60800, \"종가\": 61100, \"거래량\": 9193681, \"등락률\": -0.3262642740619902, \"종목명\": \"삼성전자\"}, {\"시가\": 60800, \"고가\": 61900, \"저가\": 60800, \"종가\": 61700, \"거래량\": 6597211, \"등락률\": 0.9819967266775778, \"종목명\": \"삼성전자\"}, {\"시가\": 61300, \"고가\": 61900, \"저가\": 61200, \"종가\": 61800, \"거래량\": 7320997, \"등락률\": 0.1620745542949757, \"종목명\": \"삼성전자\"}, {\"시가\": 62300, \"고가\": 62600, \"저가\": 61600, \"종가\": 61900, \"거래량\": 10745302, \"등락률\": 0.16181229773462785, \"종목명\": \"삼성전자\"}, {\"시가\": 62400, \"고가\": 62600, \"저가\": 61300, \"종가\": 61400, \"거래량\": 15093120, \"등락률\": -0.8077544426494345, \"종목명\": \"삼성전자\"}, {\"시가\": 61000, \"고가\": 61700, \"저가\": 60300, \"종가\": 61300, \"거래량\": 13154816, \"등락률\": -0.16286644951140067, \"종목명\": \"삼성전자\"}, {\"시가\": 61200, \"고가\": 61900, \"저가\": 61000, \"종가\": 61700, \"거래량\": 13614895, \"등락률\": 0.6525285481239804, \"종목명\": \"삼성전자\"}, {\"시가\": 61600, \"고가\": 61600, \"저가\": 61000, \"종가\": 61300, \"거래량\": 10053861, \"등락률\": -0.6482982171799028, \"종목명\": \"삼성전자\"}, {\"시가\": 61700, \"고가\": 61800, \"저가\": 61200, \"종가\": 61500, \"거래량\": 9125439, \"등락률\": 0.3262642740619902, \"종목명\": \"삼성전자\"}, {\"시가\": 61700, \"고가\": 61900, \"저가\": 61200, \"종가\": 61500, \"거래량\": 9567620, \"등락률\": 0.0, \"종목명\": \"삼성전자\"}, {\"시가\": 61400, \"고가\": 61400, \"저가\": 60600, \"종가\": 60800, \"거래량\": 11313150, \"등락률\": -1.1382113821138211, \"종목명\": \"삼성전자\"}, {\"시가\": 60600, \"고가\": 60700, \"저가\": 59600, \"종가\": 60000, \"거래량\": 18251170, \"등락률\": -1.3157894736842104, \"종목명\": \"삼성전자\"}, {\"시가\": 58900, \"고가\": 59200, \"저가\": 58600, \"종가\": 59100, \"거래량\": 18084349, \"등락률\": -1.5, \"종목명\": \"삼성전자\"}]\n"
     ]
    }
   ],
   "source": [
    "print(get_market_ohlcv(\"20220720\", \"20220810\", \"005930\"))"
   ]
  },
  {
   "cell_type": "code",
   "execution_count": 5,
   "id": "2611fa8c",
   "metadata": {},
   "outputs": [],
   "source": [
    "tools = [\n",
    "    {\n",
    "        \"type\": \"function\",\n",
    "        \"function\":\n",
    "        {\n",
    "            \"name\": \"get_market_ohlcv\",\n",
    "            \"description\": \"특정 종목에 대해 정해진 기간의 주가 데이터를 돌려줍니다.\",\n",
    "            \"parameters\": {\n",
    "                \"type\": \"object\",\n",
    "                \"properties\": {\n",
    "                    \"start_date\": {\n",
    "                        \"type\": \"string\",\n",
    "                        \"description\": \"YYYYMMDD 형식의 시작 날짜\",\n",
    "                    },\n",
    "                    \"end_date\": {\n",
    "                        \"type\": \"string\",\n",
    "                        \"description\": \"YYYYMMDD 형식의 종료 날짜\",\n",
    "                    },\n",
    "                    \"ticker\": {\n",
    "                        \"type\": \"string\",\n",
    "                        \"description\": \"6자리 숫자 형식의 종목 티커코드\",\n",
    "                    },\n",
    "                },\n",
    "                \"required\": [\"start_date\", \"end_date\", \"ticker\"],\n",
    "            },\n",
    "        }\n",
    "    }\n",
    "]\n"
   ]
  },
  {
   "cell_type": "code",
   "execution_count": 6,
   "id": "51b6606e-1fff-4f78-8b8e-5997606a9946",
   "metadata": {},
   "outputs": [
    {
     "name": "stdout",
     "output_type": "stream",
     "text": [
      "ChatCompletionMessage(content=None, refusal=None, role='assistant', audio=None, function_call=None, tool_calls=[ChatCompletionMessageToolCall(id='call_XUFz4A47O3wtYjeXqdsMjyXO', function=Function(arguments='{\"start_date\":\"20220801\",\"end_date\":\"20221201\",\"ticker\":\"066570\"}', name='get_market_ohlcv'), type='function')])\n"
     ]
    }
   ],
   "source": [
    "import os\n",
    "import openai\n",
    "\n",
    "openai.api_key = os.getenv(\"OPENAI_API_KEY\")\n",
    "\n",
    "messages= [\n",
    "  {\n",
    "    \"role\": \"user\",\n",
    "    \"content\": \"LG전자(066570)의 2022년 8월 1일부터 2022년 12월 1일까지의 주가 데이터를 분석해줘.\"\n",
    "  }\n",
    "]\n",
    "\n",
    "response = openai.chat.completions.create(\n",
    "  model=\"gpt-4o-mini\",\n",
    "  messages=messages,\n",
    "  temperature=0,\n",
    "  max_tokens=1024,\n",
    "  tools=tools,\n",
    "  tool_choice=\"auto\" if tools is not None else None,\n",
    "  top_p=1,\n",
    "  frequency_penalty=0,\n",
    "  presence_penalty=0\n",
    ")\n",
    "\n",
    "print(response.choices[0].message)"
   ]
  },
  {
   "cell_type": "code",
   "execution_count": 7,
   "id": "bb33a22d",
   "metadata": {},
   "outputs": [
    {
     "name": "stdout",
     "output_type": "stream",
     "text": [
      "LG전자의 2022년 8월 1일부터 12월 1일까지의 주가 데이터를 분석한 결과는 다음과 같습니다.\n",
      "\n",
      "### 1. 기간: 2022년 8월 1일 ~ 2022년 12월 1일\n",
      "- **주가 범위**: \n",
      "  - **최고가**: 101,000 원\n",
      "  - **최저가**: 78,000 원\n",
      "  - **종가 변동폭**: 94,400 원 (최고가) - 78,000 원 (최저가) = 23,400 원\n",
      "\n",
      "### 2. 주요 통계\n",
      "- **전체 종가 변화**: \n",
      "  - 시작 종가 (8월 1일): 94,400 원\n",
      "  - 마지막 종가 (12월 1일): 96,200 원\n",
      "  - 변화량: 96,200 - 94,400 = 1,800 원\n",
      "  - 변화율: (1,800 / 94,400) * 100 ≈ 1.91 %\n",
      "\n",
      "- **거래량**: \n",
      "  - 전체 거래량의 합계: 38,144,346 주 \n",
      "  - 평균 거래량: 38,144,346 주 / 82 거래일 ≈ 465,000 주\n",
      "\n",
      "### 3. 상위 5일 수익률\n",
      "가장 높은 일일 수익률 5일:\n",
      "1. 8월 11일: +8.84%\n",
      "2. 8월 1일: 0.00%\n",
      "3. 10월 13일: +8.84%\n",
      "4. 11월 24일: +7.00%\n",
      "5. 9월 23일: +4.37% \n",
      "\n",
      "### 4. 하위 5일 수익률\n",
      "가장 낮은 일일 수익률 5일:\n",
      "1. 10월 25일: -4.28%\n",
      "2. 11월 23일: -3.27%\n",
      "3. 11월 16일: -3.98%\n",
      "4. 10월 21일: -3.65%\n",
      "5. 9월 13일: -3.08%\n",
      "\n",
      "### 5. 주가의 전반적인 트렌드\n",
      "- 주가는 8월 초 94,400 원에서 시작하여, 9월 중순부터 급격한 상승세를 보이며 10월 중순에는 101,000 원에 도달하였습니다. 이후 주가는 약보합세를 보이다가 11월 말에는 96,200 원으로 소폭 상승하며 마감했습니다.\n",
      "- 전체적으로 한 기간 동안 상대적으로 높은 변동성을 보였고, 특히 8월 중순부터 10월 중순까지 활발한 거래가 이루어진 것으로 판단됩니다.\n",
      "\n",
      "### 결론\n",
      "LG전자는 2022년 하반기에 강한 상승세를 보였고, 특히 8월과 10월의 주가 변동이 컸습니다. 종가가 소폭 상승으로 마감했지만, 차후의 주가 동향을 주의 깊게 지켜보아야 할 것으로 보입니다. \n",
      "\n",
      "추가적으로 필요한 분석이나 세부 데이터가 있으시면 말씀해 주세요!\n"
     ]
    }
   ],
   "source": [
    "available_functions = {\n",
    "    \"get_market_ohlcv\": get_market_ohlcv,\n",
    "}\n",
    "\n",
    "for tool_call in response.choices[0].message.tool_calls:\n",
    "    function_name = tool_call.function.name\n",
    "    function_to_call = available_functions[function_name]\n",
    "    function_args = json.loads(tool_call.function.arguments)\n",
    "    function_response = function_to_call(\n",
    "        start_date=function_args['start_date'],\n",
    "        end_date=function_args['end_date'],\n",
    "        ticker=function_args['ticker']\n",
    "    )\n",
    "    messages.append(\n",
    "        {\n",
    "            \"tool_call_id\": tool_call.id,\n",
    "            \"role\": \"function\",\n",
    "            \"name\": function_name,\n",
    "            \"content\": json.dumps(function_response, ensure_ascii=False)\n",
    "        }\n",
    "    )\n",
    "    \n",
    "second_response = openai.chat.completions.create(\n",
    "    model=\"gpt-4o-mini\",\n",
    "    messages=messages,\n",
    ")\n",
    "print(second_response.choices[0].message.content)"
   ]
  },
  {
   "cell_type": "code",
   "execution_count": null,
   "id": "e0bc5c62-c52e-4604-b803-165ad93442fd",
   "metadata": {},
   "outputs": [],
   "source": []
  }
 ],
 "metadata": {
  "kernelspec": {
   "display_name": "Python 3",
   "language": "python",
   "name": "python3"
  },
  "language_info": {
   "codemirror_mode": {
    "name": "ipython",
    "version": 3
   },
   "file_extension": ".py",
   "mimetype": "text/x-python",
   "name": "python",
   "nbconvert_exporter": "python",
   "pygments_lexer": "ipython3",
   "version": "3.10.12"
  }
 },
 "nbformat": 4,
 "nbformat_minor": 5
}
