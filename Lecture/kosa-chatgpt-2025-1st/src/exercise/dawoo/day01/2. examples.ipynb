{
 "cells": [
  {
   "cell_type": "code",
   "execution_count": 1,
   "metadata": {},
   "outputs": [],
   "source": [
    "import os\n",
    "import openai\n",
    "from dotenv import load_dotenv"
   ]
  },
  {
   "cell_type": "code",
   "execution_count": 2,
   "metadata": {},
   "outputs": [],
   "source": [
    "openai.api_key = os.getenv(\"OPENAI_API_KEY\")"
   ]
  },
  {
   "cell_type": "code",
   "execution_count": 7,
   "metadata": {},
   "outputs": [],
   "source": [
    "model = \"gpt-3.5-turbo\"\n",
    "\n",
    "response = openai.chat.completions.create(\n",
    "    model=model,\n",
    "    messages=[\n",
    "        {\n",
    "        \"role\": \"system\",\n",
    "        \"content\": \"문장을 입력받고 이를 표준 한국어로 변경하시오.\"\n",
    "        },\n",
    "        {\n",
    "        \"role\": \"user\",\n",
    "        \"content\": \"그 머스마가 니 마음에 안등다 그 카드나? 계속 꼬시보지?\"\n",
    "        }\n",
    "    ],\n",
    "    max_tokens=256,          # 답변 길이\n",
    "    temperature=0.5,         # 창의성 (특정 토큰을 선택할 가능성)\n",
    "    top_p=1,                 # 창의성 (선택할 토큰의 범위 지정)\n",
    "    frequency_penalty=0,     # 반복 방지 (같은 단어가 등장시 패널티)\n",
    "    presence_penalty=0       # 반복 방지 (같은 단어가 자주 등장할 수록 패널티)\n",
    ")"
   ]
  },
  {
   "cell_type": "code",
   "execution_count": 9,
   "metadata": {},
   "outputs": [
    {
     "name": "stdout",
     "output_type": "stream",
     "text": [
      "그 사람이 네 마음에 들지 않아 그래? 계속 괴롭히나봐?\n"
     ]
    }
   ],
   "source": [
    "print(response.choices[0].message.content)"
   ]
  },
  {
   "cell_type": "markdown",
   "metadata": {},
   "source": [
    "## temperature, top_p\n",
    "\n",
    "- 기사 작성의 경우, 낮은 온도 값(예: 약 0.5-0.7)과 중간에서 높은 Top P 값(예: 약 0.8-0.9)은 인공지능 모델의 창의적인 입력을 허용하면서 보다 집중적이고 일관된 기사를 생성하는 데 도움이 될 수 있습니다.\n",
    "\n",
    "- 제품 설명의 경우 약간 높은 온도 값(예: 약 0.7-0.8)과 중간 정도의 Top P 값(예: 약 0.7-0.8)을 사용하면 잠재 고객에게 눈에 띄는 독특하고 매력적인 설명을 작성하는 데 도움이 될 수 있습니다.\n",
    "\n",
    "- 언어 번역의 경우 낮은 온도 값(예: 약 0.5-0.7)과 중간에서 높은 Top P 값(예: 약 0.8-0.9)은 자연스러운 결과물을 유지하면서 정확한 번역을 보장하는 데 도움이 될 수 있습니다.\n",
    "\n",
    "- 가상 비서 작업의 경우 중간 온도 값(예: 약 0.7-0.8)과 중간에서 높은 Top P 값(예: 약 0.8-0.9)을 사용하면 유익하고 매력적인 대화형 응답을 생성하는 데 도움이 될 수 있습니다.\n",
    "\n",
    "- 콘텐츠 큐레이션의 경우, 온도 값이 높고(예: 약 0.8~0.9) Top P 값이 낮으면(예: 약 0.2~0.4) 관련성과 품질을 유지하면서 큐레이션된 콘텐츠의 창의성과 다양성을 더 높일 수 있습니다.\n",
    "\n",
    "- 코드 생성 작업에는 정확성과 규칙 준수가 필요합니다. 0.1에서 0.5 사이의 낮은 온도 값을 설정하면 정확하고 오류 없는 코드를 생성하는 데 도움이 될 수 있습니다. 무작위성을 최소화하고 확립된 규칙을 준수하려면 0.2 정도의 낮은 Top P 값을 사용하는 것이 좋습니다."
   ]
  },
  {
   "cell_type": "markdown",
   "metadata": {},
   "source": [
    "## presence_penalty, frequency_penalty\n",
    "\n",
    "- 반복되는 샘플을 적당히 줄이기 위한 목적으로 적합한 벌점 계수의 범위는 일반적으로 0.1~1입니다. 그러나 반복을 크게 억제하는 것이 목표인 경우 계수를 2까지 늘릴 수 있습니다.\n",
    "\n",
    "- 그럼에도 불구하고 이러한 증가로 인해 샘플 품질이 눈에 띄게 저하될 수 있다는 점에 유의하는 것이 중요합니다. 또는 의도적으로 반복 가능성을 높이기 위해 음수 값을 사용할 수도 있습니다."
   ]
  }
 ],
 "metadata": {
  "kernelspec": {
   "display_name": "Python 3",
   "language": "python",
   "name": "python3"
  },
  "language_info": {
   "codemirror_mode": {
    "name": "ipython",
    "version": 3
   },
   "file_extension": ".py",
   "mimetype": "text/x-python",
   "name": "python",
   "nbconvert_exporter": "python",
   "pygments_lexer": "ipython3",
   "version": "3.10.12"
  }
 },
 "nbformat": 4,
 "nbformat_minor": 2
}
