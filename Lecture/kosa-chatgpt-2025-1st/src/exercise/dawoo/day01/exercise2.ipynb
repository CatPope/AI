{
 "cells": [
  {
   "cell_type": "markdown",
   "metadata": {},
   "source": [
    "### 실습2\n",
    "사용자가 입력한 질문에 맞는 캠핑장을 검색해서 추천하는 ChatGPT 어플리케이션을 작성하시오(힌트: 고캠핑 API) -> 10~30분 필요 (가이드에 따름)"
   ]
  },
  {
   "cell_type": "code",
   "execution_count": 7,
   "metadata": {},
   "outputs": [
    {
     "name": "stdout",
     "output_type": "stream",
     "text": [
      "Requirement already satisfied: requests in c:\\program files\\python312\\lib\\site-packages (2.32.3)\n",
      "Requirement already satisfied: charset-normalizer<4,>=2 in c:\\program files\\python312\\lib\\site-packages (from requests) (3.4.1)\n",
      "Requirement already satisfied: idna<4,>=2.5 in c:\\program files\\python312\\lib\\site-packages (from requests) (3.10)\n",
      "Requirement already satisfied: urllib3<3,>=1.21.1 in c:\\program files\\python312\\lib\\site-packages (from requests) (2.3.0)\n",
      "Requirement already satisfied: certifi>=2017.4.17 in c:\\program files\\python312\\lib\\site-packages (from requests) (2024.12.14)\n"
     ]
    },
    {
     "name": "stderr",
     "output_type": "stream",
     "text": [
      "\n",
      "[notice] A new release of pip is available: 24.3.1 -> 25.0\n",
      "[notice] To update, run: python.exe -m pip install --upgrade pip\n"
     ]
    },
    {
     "name": "stdout",
     "output_type": "stream",
     "text": [
      "Requirement already satisfied: python-dotenv in c:\\program files\\python312\\lib\\site-packages (1.0.1)\n"
     ]
    },
    {
     "name": "stderr",
     "output_type": "stream",
     "text": [
      "\n",
      "[notice] A new release of pip is available: 24.3.1 -> 25.0\n",
      "[notice] To update, run: python.exe -m pip install --upgrade pip\n"
     ]
    },
    {
     "name": "stdout",
     "output_type": "stream",
     "text": [
      "Requirement already satisfied: openai in c:\\program files\\python312\\lib\\site-packages (1.60.2)\n",
      "Requirement already satisfied: anyio<5,>=3.5.0 in c:\\program files\\python312\\lib\\site-packages (from openai) (4.8.0)\n",
      "Requirement already satisfied: distro<2,>=1.7.0 in c:\\program files\\python312\\lib\\site-packages (from openai) (1.9.0)\n",
      "Requirement already satisfied: httpx<1,>=0.23.0 in c:\\program files\\python312\\lib\\site-packages (from openai) (0.28.1)\n",
      "Requirement already satisfied: jiter<1,>=0.4.0 in c:\\program files\\python312\\lib\\site-packages (from openai) (0.8.2)\n",
      "Requirement already satisfied: pydantic<3,>=1.9.0 in c:\\program files\\python312\\lib\\site-packages (from openai) (2.10.6)\n",
      "Requirement already satisfied: sniffio in c:\\program files\\python312\\lib\\site-packages (from openai) (1.3.1)\n",
      "Requirement already satisfied: tqdm>4 in c:\\program files\\python312\\lib\\site-packages (from openai) (4.67.1)\n",
      "Requirement already satisfied: typing-extensions<5,>=4.11 in c:\\program files\\python312\\lib\\site-packages (from openai) (4.12.2)\n",
      "Requirement already satisfied: idna>=2.8 in c:\\program files\\python312\\lib\\site-packages (from anyio<5,>=3.5.0->openai) (3.10)\n",
      "Requirement already satisfied: certifi in c:\\program files\\python312\\lib\\site-packages (from httpx<1,>=0.23.0->openai) (2024.12.14)\n",
      "Requirement already satisfied: httpcore==1.* in c:\\program files\\python312\\lib\\site-packages (from httpx<1,>=0.23.0->openai) (1.0.7)\n",
      "Requirement already satisfied: h11<0.15,>=0.13 in c:\\program files\\python312\\lib\\site-packages (from httpcore==1.*->httpx<1,>=0.23.0->openai) (0.14.0)\n",
      "Requirement already satisfied: annotated-types>=0.6.0 in c:\\program files\\python312\\lib\\site-packages (from pydantic<3,>=1.9.0->openai) (0.7.0)\n",
      "Requirement already satisfied: pydantic-core==2.27.2 in c:\\program files\\python312\\lib\\site-packages (from pydantic<3,>=1.9.0->openai) (2.27.2)\n",
      "Requirement already satisfied: colorama in c:\\users\\ssrrf\\appdata\\roaming\\python\\python312\\site-packages (from tqdm>4->openai) (0.4.6)\n"
     ]
    },
    {
     "name": "stderr",
     "output_type": "stream",
     "text": [
      "\n",
      "[notice] A new release of pip is available: 24.3.1 -> 25.0\n",
      "[notice] To update, run: python.exe -m pip install --upgrade pip\n"
     ]
    }
   ],
   "source": [
    "!pip install requests\n",
    "!pip install python-dotenv\n",
    "!pip install openai"
   ]
  },
  {
   "cell_type": "code",
   "execution_count": 18,
   "metadata": {},
   "outputs": [],
   "source": [
    "import openai \n",
    "import os\n",
    "from dotenv import load_dotenv\n",
    "import requests"
   ]
  },
  {
   "cell_type": "code",
   "execution_count": 19,
   "metadata": {},
   "outputs": [],
   "source": [
    "now_path = os.getcwd()  # .ipynb 기준\n",
    "dotenv_path = os.path.join(os.path.dirname(now_path), '.env')\n",
    "\n",
    "\n",
    "load_dotenv(dotenv_path)\n",
    "\n",
    "openai.api_key = os.getenv(\"OPENAI_API_KEY\")\n",
    "ServiceKey = os.getenv(\"ServiceKey\")\n",
    "GO_CAMPING_ENDPOINT = os.getenv(\"GO_CAMPING_ENDPOINT\")"
   ]
  },
  {
   "cell_type": "code",
   "execution_count": 4,
   "metadata": {},
   "outputs": [
    {
     "data": {
      "text/plain": [
       "'k5xqJOb+5Qe7JQIVBfuiQhsHXHN4hV8rZnKrAyT9KgW38iwwnFeNDUkguwLDH0fsxiatfK5aOExN3uFOYJ993Q=='"
      ]
     },
     "execution_count": 4,
     "metadata": {},
     "output_type": "execute_result"
    }
   ],
   "source": [
    "ServiceKey"
   ]
  },
  {
   "cell_type": "code",
   "execution_count": 20,
   "metadata": {},
   "outputs": [
    {
     "data": {
      "text/plain": [
       "'http://apis.data.go.kr/B551011/GoCamping/searchList'"
      ]
     },
     "execution_count": 20,
     "metadata": {},
     "output_type": "execute_result"
    }
   ],
   "source": [
    "GO_CAMPING_ENDPOINT"
   ]
  },
  {
   "cell_type": "code",
   "execution_count": 59,
   "metadata": {},
   "outputs": [],
   "source": [
    "def get_gocamping_info(KeyWord):\n",
    "    params = {\n",
    "        \"numOfRows\":5,\n",
    "        \"pageNo\":1,\n",
    "        \"MobileOS\":\"ETC\",\n",
    "        \"MobileApp\":\"AppTest\",\n",
    "        \"serviceKey\":ServiceKey,\n",
    "        \"_type\":\"json\",\n",
    "        \"keyword\":KeyWord,\n",
    "    }\n",
    "\n",
    "    try:\n",
    "        response = requests.get(url=GO_CAMPING_ENDPOINT, params=params)\n",
    "\n",
    "        if response.status_code == 200:  # 요청 성공 시\n",
    "            print(response.text)  # XML 또는 JSON 데이터 출력\n",
    "            data = response.json()\n",
    "            sites = data[\"response\"][\"body\"][\"items\"][\"item\"]\n",
    "\n",
    "            return sites\n",
    "    except requests.exceptions.RequestException as e:\n",
    "        print(f\"Request Exception: {e}\")\n",
    "        return None     "
   ]
  },
  {
   "cell_type": "code",
   "execution_count": 72,
   "metadata": {},
   "outputs": [],
   "source": [
    "question = \"계곡이 있는 캠핑장을 추천해줘.\""
   ]
  },
  {
   "cell_type": "code",
   "execution_count": 55,
   "metadata": {},
   "outputs": [],
   "source": [
    "response = openai.chat.completions.create(\n",
    "    model=\"gpt-3.5-turbo\",\n",
    "    messages=[{\n",
    "            \"role\": \"system\",\n",
    "            \"content\": \"다음 질문에서 가장 중요한 키워드 하나만 뽑아줘\"\n",
    "        },\n",
    "        {\n",
    "            \"role\": \"user\",\n",
    "            \"content\": question,\n",
    "        }\n",
    "    ],\n",
    "    temperature=0,\n",
    "    max_tokens=1024,\n",
    "    top_p=1,\n",
    "    frequency_penalty=0,\n",
    "    presence_penalty=0\n",
    ")"
   ]
  },
  {
   "cell_type": "code",
   "execution_count": 56,
   "metadata": {},
   "outputs": [
    {
     "name": "stdout",
     "output_type": "stream",
     "text": [
      "계곡\n"
     ]
    }
   ],
   "source": [
    "KeyWord = response.choices[0].message.content\n",
    "print(KeyWord)"
   ]
  },
  {
   "cell_type": "code",
   "execution_count": null,
   "metadata": {},
   "outputs": [
    {
     "name": "stdout",
     "output_type": "stream",
     "text": [
      "{\"response\": {\"header\":{\"resultCode\":\"0000\",\"resultMsg\":\"OK\"},\"body\": {\"items\": {\"item\":[{\"contentId\":\"100004\",\"facltNm\":\"뇌운계곡글램핑\",\"lineIntro\":\"\",\"intro\":\"\",\"allar\":\"0\",\"insrncAt\":\"Y\",\"trsagntNo\":\"2021-3\",\"bizrno\":\"225-02-29556\",\"facltDivNm\":\"민간\",\"mangeDivNm\":\"직영\",\"mgcDiv\":\"유현덕\",\"manageSttus\":\"운영\",\"hvofBgnde\":\"\",\"hvofEnddle\":\"\",\"featureNm\":\"레저체험을 함께 즐길 수 있는 뇌운계곡 글램핑  뇌운계곡글램핑은 평창에 위치한 해발 600미터의 뇌운계곡에 있는 글램핑과 레저 체험을 함께 즐길 수 있는 캠핑장이다. 사이트는 총 7개인데, 4개는 글램핑 텐트, 3개는 몽골 텐트에 투명 돔 키친이 있다. 특히 몽골텐트는 천창이 투명하게 되어 있어 텐트 안에서도 하늘을 볼 수 있다. 텐트 내부의 집기들도 신경을 많이 써서 감성 캠핑을 즐기기 좋다. 또한 계곡에서의 래프팅, 패들 보드, 카약 강습은 물론 산악 오토바이, 숲속 서바이벌 게임 등 즐길 거리가 많다.\",\"induty\":\"글램핑\",\"lctCl\":\"산\",\"doNm\":\"강원도\",\"sigunguNm\":\"평창군\",\"zipcode\":\"25368\",\"addr1\":\"강원 평창군 평창읍 뇌운계곡로 659-6\",\"addr2\":\"\",\"mapX\":\"128.3820960\",\"mapY\":\"37.4156933\",\"direction\":\"\",\"tel\":\"033-332-0009\",\"homepage\":\"https://pcglamping.modoo.at/\",\"resveUrl\":\"\",\"resveCl\":\"\",\"manageNmpr\":\"0\",\"gnrlSiteCo\":\"0\",\"autoSiteCo\":\"0\",\"glampSiteCo\":\"7\",\"caravSiteCo\":\"0\",\"indvdlCaravSiteCo\":\"0\",\"sitedStnc\":\"0\",\"siteMg1Width\":\"0\",\"siteMg2Width\":\"0\",\"siteMg3Width\":\"0\",\"siteMg1Vrticl\":\"0\",\"siteMg2Vrticl\":\"0\",\"siteMg3Vrticl\":\"0\",\"siteMg1Co\":\"0\",\"siteMg2Co\":\"0\",\"siteMg3Co\":\"0\",\"siteBottomCl1\":\"0\",\"siteBottomCl2\":\"0\",\"siteBottomCl3\":\"0\",\"siteBottomCl4\":\"0\",\"siteBottomCl5\":\"0\",\"tooltip\":\"\",\"glampInnerFclty\":\"침대,에어컨,냉장고,난방기구\",\"caravInnerFclty\":\"\",\"prmisnDe\":\"2021-07-30\",\"operPdCl\":\"봄,여름,가을,겨울\",\"operDeCl\":\"평일+주말\",\"trlerAcmpnyAt\":\"N\",\"caravAcmpnyAt\":\"N\",\"toiletCo\":\"0\",\"swrmCo\":\"0\",\"wtrplCo\":\"0\",\"brazierCl\":\"개별\",\"sbrsCl\":\"전기,무선인터넷\",\"sbrsEtc\":\"\",\"posblFcltyCl\":\"계곡 물놀이,수상레저\",\"posblFcltyEtc\":\"\",\"clturEventAt\":\"N\",\"clturEvent\":\"\",\"exprnProgrmAt\":\"Y\",\"exprnProgrm\":\"래프팅\",\"extshrCo\":\"0\",\"frprvtWrppCo\":\"0\",\"frprvtSandCo\":\"0\",\"fireSensorCo\":\"0\",\"themaEnvrnCl\":\"액티비티,여름물놀이\",\"eqpmnLendCl\":\"\",\"animalCmgCl\":\"가능\",\"tourEraCl\":\"\",\"firstImageUrl\":\"https://gocamping.or.kr/upload/camp/100004/thumb/thumb_720_0924x1f5rjPF1V1zMXPvW0Rh.jpg\",\"createdtime\":\"2023-01-16 16:48:53\",\"modifiedtime\":\"2023-01-16 16:48:53\"},{\"contentId\":\"100218\",\"facltNm\":\"김천맑은계곡 오토캠핑장\",\"lineIntro\":\"\",\"intro\":\"탁트인 뷰와 더불어 맑은 계곡이 있는 오토캠핑장입니다. 산과 냇가가 있는 공간에서 편리한 야영과 캠핑이 가능합니다.\",\"allar\":\"3000\",\"insrncAt\":\"Y\",\"trsagntNo\":\"2021-4\",\"bizrno\":\"291-06-02154\",\"facltDivNm\":\"민간\",\"mangeDivNm\":\"직영\",\"mgcDiv\":\"김영금\",\"manageSttus\":\"운영\",\"hvofBgnde\":\"\",\"hvofEnddle\":\"\",\"featureNm\":\"계곡과 맞닿아 있는 깔끔한 캠핑장  김천맑은계곡 오토캠핑장은 경북 김천시 부항면 대야리에 자리 잡았다. 김천시청을 기점으로 35km가량 떨어졌다. 자동차를 타고 부항로와 두산로를 번갈아 달리면 닿는다. 도착까지 걸리는 시간은 40분 안팎이다. 캠핑장은 계곡과 인접한 덕분에 여름철 물놀이를 즐기기 좋다. 파쇄석으로 이뤄진 오토캠핑 사이트 12면이 마련돼 있다. 사이트 크기는 가로 8m 세로 10m로 널찍하다. 카라반과 트레일러 동반 입장을 가능하며, 카라반의 경우 추가 요금이 있다. 주변에는 물한계곡이 있어 연계 여행이 수월하다.\",\"induty\":\"일반야영장\",\"lctCl\":\"숲\",\"doNm\":\"경상북도\",\"sigunguNm\":\"김천시\",\"zipcode\":\"39688\",\"addr1\":\"경북 김천시 부항면 대야길 307\",\"addr2\":\"\",\"mapX\":\"127.9184282\",\"mapY\":\"36.0192538\",\"direction\":\"\",\"tel\":\"054-433-1832\",\"homepage\":\"https://blog.naver.com/kkcamping\",\"resveUrl\":\"https://booking.naver.com/booking/3/bizes/643565\",\"resveCl\":\"온라인예약대기\",\"manageNmpr\":\"1\",\"gnrlSiteCo\":\"0\",\"autoSiteCo\":\"12\",\"glampSiteCo\":\"0\",\"caravSiteCo\":\"0\",\"indvdlCaravSiteCo\":\"11\",\"sitedStnc\":\"3\",\"siteMg1Width\":\"0\",\"siteMg2Width\":\"0\",\"siteMg3Width\":\"0\",\"siteMg1Vrticl\":\"0\",\"siteMg2Vrticl\":\"0\",\"siteMg3Vrticl\":\"0\",\"siteMg1Co\":\"12\",\"siteMg2Co\":\"0\",\"siteMg3Co\":\"0\",\"siteBottomCl1\":\"0\",\"siteBottomCl2\":\"12\",\"siteBottomCl3\":\"0\",\"siteBottomCl4\":\"0\",\"siteBottomCl5\":\"0\",\"tooltip\":\"\",\"glampInnerFclty\":\"\",\"caravInnerFclty\":\"\",\"prmisnDe\":\"2021-12-31\",\"operPdCl\":\"봄,여름,가을,겨울\",\"operDeCl\":\"평일+주말\",\"trlerAcmpnyAt\":\"Y\",\"caravAcmpnyAt\":\"N\",\"toiletCo\":\"2\",\"swrmCo\":\"2\",\"wtrplCo\":\"2\",\"brazierCl\":\"개별\",\"sbrsCl\":\"장작판매,온수,트렘폴린,놀이터,운동시설,마트.편의점\",\"sbrsEtc\":\"\",\"posblFcltyCl\":\"계곡 물놀이,산책로,어린이놀이시설\",\"posblFcltyEtc\":\"\",\"clturEventAt\":\"N\",\"clturEvent\":\"\",\"exprnProgrmAt\":\"N\",\"exprnProgrm\":\"\",\"extshrCo\":\"12\",\"frprvtWrppCo\":\"0\",\"frprvtSandCo\":\"0\",\"fireSensorCo\":\"0\",\"themaEnvrnCl\":\"여름물놀이\",\"eqpmnLendCl\":\"릴선,화로대\",\"animalCmgCl\":\"가능\",\"tourEraCl\":\"\",\"firstImageUrl\":\"https://gocamping.or.kr/upload/camp/100218/thumb/thumb_720_8553iOCJM4HG1xS54HkAaUZJ.jpg\",\"createdtime\":\"2023-01-16 16:49:15\",\"modifiedtime\":\"2023-01-16 16:49:15\"},{\"contentId\":\"100303\",\"facltNm\":\"영월 엄둔밸리 계곡캠핑장 \",\"lineIntro\":\"원주 신림IC에서 20분 거리에 있는 계곡 캠핑장\",\"intro\":\"엄둔계곡 상류에 위치하여, 오염되지 않은 맑은 수질의 계곡이 흐르고 있어 어린이들의 천연수영장을 제공합니다. 다양한 크기의 청결한 펜션과  방갈로, 캠핑사이트를 함께 운영중입니다. 신림IC에서 20분거리에 위치하고 있으며, 조용하고 아름다운 산세속에서 도로 차소음 없이 지인과 함께 캠핑과 숙박을 같이 이용하시기에 편리한 구조입니다. \",\"allar\":\"8264\",\"insrncAt\":\"Y\",\"trsagntNo\":\"제 2022-000001호\",\"bizrno\":\"438-01-00804\",\"facltDivNm\":\"민간\",\"mangeDivNm\":\"직영\",\"mgcDiv\":\"\",\"manageSttus\":\"운영\",\"hvofBgnde\":\"\",\"hvofEnddle\":\"\",\"featureNm\":\"생수 따로 준비하지마세요!~ 천연 암반수(국가공인먹는물 수질검사인증)\",\"induty\":\"일반야영장,자동차야영장,카라반\",\"lctCl\":\"산,계곡\",\"doNm\":\"강원도\",\"sigunguNm\":\"영월군\",\"zipcode\":\"26201\",\"addr1\":\"강원 영월군 무릉도원면 엄둔길 145\",\"addr2\":\"계곡펜션 계곡캠핑장 엄둔밸리\",\"mapX\":\"128.2350495\",\"mapY\":\"37.3097666\",\"direction\":\"강원도 영월군 무릉도원면 엄둔길145\",\"tel\":\"010-3244-3968\",\"homepage\":\"http://엄둔밸리.com/\",\"resveUrl\":\"https://www.camfit.co.kr/camp/623818516fa4ab001e00c448\",\"resveCl\":\"전화,온라인실시간예약,현장\",\"manageNmpr\":\"4\",\"gnrlSiteCo\":\"10\",\"autoSiteCo\":\"0\",\"glampSiteCo\":\"0\",\"caravSiteCo\":\"2\",\"indvdlCaravSiteCo\":\"3\",\"sitedStnc\":\"0\",\"siteMg1Width\":\"9\",\"siteMg2Width\":\"8\",\"siteMg3Width\":\"8\",\"siteMg1Vrticl\":\"5\",\"siteMg2Vrticl\":\"6\",\"siteMg3Vrticl\":\"6\",\"siteMg1Co\":\"1\",\"siteMg2Co\":\"1\",\"siteMg3Co\":\"7\",\"siteBottomCl1\":\"0\",\"siteBottomCl2\":\"10\",\"siteBottomCl3\":\"0\",\"siteBottomCl4\":\"0\",\"siteBottomCl5\":\"0\",\"tooltip\":\"\",\"glampInnerFclty\":\"\",\"caravInnerFclty\":\"\",\"prmisnDe\":\"2022-03-08\",\"operPdCl\":\"봄,여름,가을,겨울\",\"operDeCl\":\"평일+주말\",\"trlerAcmpnyAt\":\"Y\",\"caravAcmpnyAt\":\"N\",\"toiletCo\":\"2\",\"swrmCo\":\"2\",\"wtrplCo\":\"2\",\"brazierCl\":\"개별\",\"sbrsCl\":\"전기,무선인터넷,장작판매,온수,트렘폴린,물놀이장,놀이터,산책로,운동장,마트.편의점\",\"sbrsEtc\":\"\",\"posblFcltyCl\":\"계곡 물놀이,산책로,운동장,낚시,강/물놀이,청소년체험시설,농어촌체험시설,어린이놀이시설\",\"posblFcltyEtc\":\"\",\"clturEventAt\":\"N\",\"clturEvent\":\"\",\"exprnProgrmAt\":\"N\",\"exprnProgrm\":\"\",\"extshrCo\":\"20\",\"frprvtWrppCo\":\"0\",\"frprvtSandCo\":\"0\",\"fireSensorCo\":\"0\",\"themaEnvrnCl\":\"\",\"eqpmnLendCl\":\"\",\"animalCmgCl\":\"불가능\",\"tourEraCl\":\"봄,여름,가을,겨울\",\"firstImageUrl\":\"\",\"createdtime\":\"2023-01-16 16:49:20\",\"modifiedtime\":\"2024-01-10 06:30:09\"},{\"contentId\":\"100474\",\"facltNm\":\"산중계곡캠핑장\",\"lineIntro\":\"\",\"intro\":\"계곡과 숲속에 자리한 오토캠핑장  산중계곡캠핑장은 경남 거창군 북상면에 자리 잡고 있다. 캠핑장은 숲속 사이트와 계곡 사이트로 구분된다. 파쇄석으로 이루어진 오토캠핑 사이트가 각각 19면과 20면이 마련되어 있다. 사이트 크기는 널찍해 대형 텐트를 설치하는 데 무리가 없다. 부대시설로는 한여름 무더위를 날리기 좋은 수영장이 있다. 주변에 덕유산국립공원이 있어 연계 여행에 나서기 수월하다.\",\"allar\":\"0\",\"insrncAt\":\"Y\",\"trsagntNo\":\"\",\"bizrno\":\"\",\"facltDivNm\":\"민간\",\"mangeDivNm\":\"직영\",\"mgcDiv\":\"\",\"manageSttus\":\"운영\",\"hvofBgnde\":\"\",\"hvofEnddle\":\"\",\"featureNm\":\"\",\"induty\":\"일반야영장\",\"lctCl\":\"계곡\",\"doNm\":\"경상남도\",\"sigunguNm\":\"거창군\",\"zipcode\":\"50102\",\"addr1\":\"경남 거창군 북상면 송계사길 76\",\"addr2\":\"\",\"mapX\":\"127.8053203\",\"mapY\":\"35.8297842\",\"direction\":\"\",\"tel\":\"0507-1370-5028\",\"homepage\":\"http://sj-camping.com/\",\"resveUrl\":\"http://sj-camping.com/bbs/board.php?bo_table\\u003dyb_booking02\",\"resveCl\":\"온라인실시간예약\",\"manageNmpr\":\"0\",\"gnrlSiteCo\":\"0\",\"autoSiteCo\":\"39\",\"glampSiteCo\":\"0\",\"caravSiteCo\":\"0\",\"indvdlCaravSiteCo\":\"0\",\"sitedStnc\":\"0\",\"siteMg1Width\":\"0\",\"siteMg2Width\":\"0\",\"siteMg3Width\":\"0\",\"siteMg1Vrticl\":\"0\",\"siteMg2Vrticl\":\"0\",\"siteMg3Vrticl\":\"0\",\"siteMg1Co\":\"20\",\"siteMg2Co\":\"19\",\"siteMg3Co\":\"0\",\"siteBottomCl1\":\"0\",\"siteBottomCl2\":\"39\",\"siteBottomCl3\":\"0\",\"siteBottomCl4\":\"0\",\"siteBottomCl5\":\"0\",\"tooltip\":\"\",\"glampInnerFclty\":\"\",\"caravInnerFclty\":\"\",\"prmisnDe\":\"2022-07-01\",\"operPdCl\":\"봄,여름,가을,겨울\",\"operDeCl\":\"평일+주말\",\"trlerAcmpnyAt\":\"N\",\"caravAcmpnyAt\":\"N\",\"toiletCo\":\"4\",\"swrmCo\":\"4\",\"wtrplCo\":\"2\",\"brazierCl\":\"\",\"sbrsCl\":\"전기,무선인터넷,장작판매,온수,물놀이장,놀이터,운동시설\",\"sbrsEtc\":\"\",\"posblFcltyCl\":\"계곡 물놀이,산책로\",\"posblFcltyEtc\":\"\",\"clturEventAt\":\"N\",\"clturEvent\":\"\",\"exprnProgrmAt\":\"N\",\"exprnProgrm\":\"\",\"extshrCo\":\"20\",\"frprvtWrppCo\":\"0\",\"frprvtSandCo\":\"0\",\"fireSensorCo\":\"0\",\"themaEnvrnCl\":\"봄꽃여행,여름물놀이,가을단풍명소\",\"eqpmnLendCl\":\"\",\"animalCmgCl\":\"가능\",\"tourEraCl\":\"\",\"firstImageUrl\":\"\",\"createdtime\":\"2023-01-16 16:49:24\",\"modifiedtime\":\"2024-04-20 06:30:35\"},{\"contentId\":\"100532\",\"facltNm\":\"관악산 계곡 캠핑장\",\"lineIntro\":\"\",\"intro\":\"\",\"allar\":\"0\",\"insrncAt\":\"Y\",\"trsagntNo\":\"\",\"bizrno\":\"\",\"facltDivNm\":\"지자체\",\"mangeDivNm\":\"직영\",\"mgcDiv\":\"\",\"manageSttus\":\"운영\",\"hvofBgnde\":\"\",\"hvofEnddle\":\"\",\"featureNm\":\"\",\"induty\":\"일반야영장\",\"lctCl\":\"\",\"doNm\":\"서울시\",\"sigunguNm\":\"관악구\",\"zipcode\":\"08825\",\"addr1\":\"서울특별시 관악구 신림동 205-1 관악산공원 내 \",\"addr2\":\"\",\"mapX\":\"126.9481674\",\"mapY\":\"37.4620698\",\"direction\":\"\",\"tel\":\"\",\"homepage\":\"\",\"resveUrl\":\"\",\"resveCl\":\"\",\"manageNmpr\":\"0\",\"gnrlSiteCo\":\"0\",\"autoSiteCo\":\"0\",\"glampSiteCo\":\"0\",\"caravSiteCo\":\"0\",\"indvdlCaravSiteCo\":\"0\",\"sitedStnc\":\"0\",\"siteMg1Width\":\"0\",\"siteMg2Width\":\"0\",\"siteMg3Width\":\"0\",\"siteMg1Vrticl\":\"0\",\"siteMg2Vrticl\":\"0\",\"siteMg3Vrticl\":\"0\",\"siteMg1Co\":\"0\",\"siteMg2Co\":\"0\",\"siteMg3Co\":\"0\",\"siteBottomCl1\":\"0\",\"siteBottomCl2\":\"0\",\"siteBottomCl3\":\"0\",\"siteBottomCl4\":\"0\",\"siteBottomCl5\":\"0\",\"tooltip\":\"\",\"glampInnerFclty\":\"\",\"caravInnerFclty\":\"\",\"prmisnDe\":\"2022-07-28\",\"operPdCl\":\"봄,여름,가을,겨울\",\"operDeCl\":\"평일+주말\",\"trlerAcmpnyAt\":\"N\",\"caravAcmpnyAt\":\"N\",\"toiletCo\":\"0\",\"swrmCo\":\"0\",\"wtrplCo\":\"0\",\"brazierCl\":\"개별\",\"sbrsCl\":\"\",\"sbrsEtc\":\"\",\"posblFcltyCl\":\"\",\"posblFcltyEtc\":\"\",\"clturEventAt\":\"N\",\"clturEvent\":\"\",\"exprnProgrmAt\":\"N\",\"exprnProgrm\":\"\",\"extshrCo\":\"0\",\"frprvtWrppCo\":\"0\",\"frprvtSandCo\":\"0\",\"fireSensorCo\":\"0\",\"themaEnvrnCl\":\"\",\"eqpmnLendCl\":\"\",\"animalCmgCl\":\"불가능\",\"tourEraCl\":\"\",\"firstImageUrl\":\"\",\"createdtime\":\"2023-01-16 16:49:25\",\"modifiedtime\":\"2023-01-16 16:49:25\"}]},\"numOfRows\":5,\"pageNo\":1,\"totalCount\":71}}}\n",
      "[{'contentId': '100004', 'facltNm': '뇌운계곡글램핑', 'lineIntro': '', 'intro': '', 'allar': '0', 'insrncAt': 'Y', 'trsagntNo': '2021-3', 'bizrno': '225-02-29556', 'facltDivNm': '민간', 'mangeDivNm': '직영', 'mgcDiv': '유현덕', 'manageSttus': '운영', 'hvofBgnde': '', 'hvofEnddle': '', 'featureNm': '레저체험을 함께 즐길 수 있는 뇌운계곡 글램핑  뇌운계곡글램핑은 평창에 위치한 해발 600미터의 뇌운계곡에 있는 글램핑과 레저 체험을 함께 즐길 수 있는 캠핑장이다. 사이트는 총 7개인데, 4개는 글램핑 텐트, 3개는 몽골 텐트에 투명 돔 키친이 있다. 특히 몽골텐트는 천창이 투명하게 되어 있어 텐트 안에서도 하늘을 볼 수 있다. 텐트 내부의 집기들도 신경을 많이 써서 감성 캠핑을 즐기기 좋다. 또한 계곡에서의 래프팅, 패들 보드, 카약 강습은 물론 산악 오토바이, 숲속 서바이벌 게임 등 즐길 거리가 많다.', 'induty': '글램핑', 'lctCl': '산', 'doNm': '강원도', 'sigunguNm': '평창군', 'zipcode': '25368', 'addr1': '강원 평창군 평창읍 뇌운계곡로 659-6', 'addr2': '', 'mapX': '128.3820960', 'mapY': '37.4156933', 'direction': '', 'tel': '033-332-0009', 'homepage': 'https://pcglamping.modoo.at/', 'resveUrl': '', 'resveCl': '', 'manageNmpr': '0', 'gnrlSiteCo': '0', 'autoSiteCo': '0', 'glampSiteCo': '7', 'caravSiteCo': '0', 'indvdlCaravSiteCo': '0', 'sitedStnc': '0', 'siteMg1Width': '0', 'siteMg2Width': '0', 'siteMg3Width': '0', 'siteMg1Vrticl': '0', 'siteMg2Vrticl': '0', 'siteMg3Vrticl': '0', 'siteMg1Co': '0', 'siteMg2Co': '0', 'siteMg3Co': '0', 'siteBottomCl1': '0', 'siteBottomCl2': '0', 'siteBottomCl3': '0', 'siteBottomCl4': '0', 'siteBottomCl5': '0', 'tooltip': '', 'glampInnerFclty': '침대,에어컨,냉장고,난방기구', 'caravInnerFclty': '', 'prmisnDe': '2021-07-30', 'operPdCl': '봄,여름,가을,겨울', 'operDeCl': '평일+주말', 'trlerAcmpnyAt': 'N', 'caravAcmpnyAt': 'N', 'toiletCo': '0', 'swrmCo': '0', 'wtrplCo': '0', 'brazierCl': '개별', 'sbrsCl': '전기,무선인터넷', 'sbrsEtc': '', 'posblFcltyCl': '계곡 물놀이,수상레저', 'posblFcltyEtc': '', 'clturEventAt': 'N', 'clturEvent': '', 'exprnProgrmAt': 'Y', 'exprnProgrm': '래프팅', 'extshrCo': '0', 'frprvtWrppCo': '0', 'frprvtSandCo': '0', 'fireSensorCo': '0', 'themaEnvrnCl': '액티비티,여름물놀이', 'eqpmnLendCl': '', 'animalCmgCl': '가능', 'tourEraCl': '', 'firstImageUrl': 'https://gocamping.or.kr/upload/camp/100004/thumb/thumb_720_0924x1f5rjPF1V1zMXPvW0Rh.jpg', 'createdtime': '2023-01-16 16:48:53', 'modifiedtime': '2023-01-16 16:48:53'}, {'contentId': '100218', 'facltNm': '김천맑은계곡 오토캠핑장', 'lineIntro': '', 'intro': '탁트인 뷰와 더불어 맑은 계곡이 있는 오토캠핑장입니다. 산과 냇가가 있는 공간에서 편리한 야영과 캠핑이 가능합니다.', 'allar': '3000', 'insrncAt': 'Y', 'trsagntNo': '2021-4', 'bizrno': '291-06-02154', 'facltDivNm': '민간', 'mangeDivNm': '직영', 'mgcDiv': '김영금', 'manageSttus': '운영', 'hvofBgnde': '', 'hvofEnddle': '', 'featureNm': '계곡과 맞닿아 있는 깔끔한 캠핑장  김천맑은계곡 오토캠핑장은 경북 김천시 부항면 대야리에 자리 잡았다. 김천시청을 기점으로 35km가량 떨어졌다. 자동차를 타고 부항로와 두산로를 번갈아 달리면 닿는다. 도착까지 걸리는 시간은 40분 안팎이다. 캠핑장은 계곡과 인접한 덕분에 여름철 물놀이를 즐기기 좋다. 파쇄석으로 이뤄진 오토캠핑 사이트 12면이 마련돼 있다. 사이트 크기는 가로 8m 세로 10m로 널찍하다. 카라반과 트레일러 동반 입장을 가능하며, 카라반의 경우 추가 요금이 있다. 주변에는 물한계곡이 있어 연계 여행이 수월하다.', 'induty': '일반야영장', 'lctCl': '숲', 'doNm': '경상북도', 'sigunguNm': '김천시', 'zipcode': '39688', 'addr1': '경북 김천시 부항면 대야길 307', 'addr2': '', 'mapX': '127.9184282', 'mapY': '36.0192538', 'direction': '', 'tel': '054-433-1832', 'homepage': 'https://blog.naver.com/kkcamping', 'resveUrl': 'https://booking.naver.com/booking/3/bizes/643565', 'resveCl': '온라인예약대기', 'manageNmpr': '1', 'gnrlSiteCo': '0', 'autoSiteCo': '12', 'glampSiteCo': '0', 'caravSiteCo': '0', 'indvdlCaravSiteCo': '11', 'sitedStnc': '3', 'siteMg1Width': '0', 'siteMg2Width': '0', 'siteMg3Width': '0', 'siteMg1Vrticl': '0', 'siteMg2Vrticl': '0', 'siteMg3Vrticl': '0', 'siteMg1Co': '12', 'siteMg2Co': '0', 'siteMg3Co': '0', 'siteBottomCl1': '0', 'siteBottomCl2': '12', 'siteBottomCl3': '0', 'siteBottomCl4': '0', 'siteBottomCl5': '0', 'tooltip': '', 'glampInnerFclty': '', 'caravInnerFclty': '', 'prmisnDe': '2021-12-31', 'operPdCl': '봄,여름,가을,겨울', 'operDeCl': '평일+주말', 'trlerAcmpnyAt': 'Y', 'caravAcmpnyAt': 'N', 'toiletCo': '2', 'swrmCo': '2', 'wtrplCo': '2', 'brazierCl': '개별', 'sbrsCl': '장작판매,온수,트렘폴린,놀이터,운동시설,마트.편의점', 'sbrsEtc': '', 'posblFcltyCl': '계곡 물놀이,산책로,어린이놀이시설', 'posblFcltyEtc': '', 'clturEventAt': 'N', 'clturEvent': '', 'exprnProgrmAt': 'N', 'exprnProgrm': '', 'extshrCo': '12', 'frprvtWrppCo': '0', 'frprvtSandCo': '0', 'fireSensorCo': '0', 'themaEnvrnCl': '여름물놀이', 'eqpmnLendCl': '릴선,화로대', 'animalCmgCl': '가능', 'tourEraCl': '', 'firstImageUrl': 'https://gocamping.or.kr/upload/camp/100218/thumb/thumb_720_8553iOCJM4HG1xS54HkAaUZJ.jpg', 'createdtime': '2023-01-16 16:49:15', 'modifiedtime': '2023-01-16 16:49:15'}, {'contentId': '100303', 'facltNm': '영월 엄둔밸리 계곡캠핑장 ', 'lineIntro': '원주 신림IC에서 20분 거리에 있는 계곡 캠핑장', 'intro': '엄둔계곡 상류에 위치하여, 오염되지 않은 맑은 수질의 계곡이 흐르고 있어 어린이들의 천연수영장을 제공합니다. 다양한 크기의 청결한 펜션과  방갈로, 캠핑사이트를 함께 운영중입니다. 신림IC에서 20분거리에 위치하고 있으며, 조용하고 아름다운 산세속에서 도로 차소음 없이 지인과 함께 캠핑과 숙박을 같이 이용하시기에 편리한 구조입니다. ', 'allar': '8264', 'insrncAt': 'Y', 'trsagntNo': '제 2022-000001호', 'bizrno': '438-01-00804', 'facltDivNm': '민간', 'mangeDivNm': '직영', 'mgcDiv': '', 'manageSttus': '운영', 'hvofBgnde': '', 'hvofEnddle': '', 'featureNm': '생수 따로 준비하지마세요!~ 천연 암반수(국가공인먹는물 수질검사인증)', 'induty': '일반야영장,자동차야영장,카라반', 'lctCl': '산,계곡', 'doNm': '강원도', 'sigunguNm': '영월군', 'zipcode': '26201', 'addr1': '강원 영월군 무릉도원면 엄둔길 145', 'addr2': '계곡펜션 계곡캠핑장 엄둔밸리', 'mapX': '128.2350495', 'mapY': '37.3097666', 'direction': '강원도 영월군 무릉도원면 엄둔길145', 'tel': '010-3244-3968', 'homepage': 'http://엄둔밸리.com/', 'resveUrl': 'https://www.camfit.co.kr/camp/623818516fa4ab001e00c448', 'resveCl': '전화,온라인실시간예약,현장', 'manageNmpr': '4', 'gnrlSiteCo': '10', 'autoSiteCo': '0', 'glampSiteCo': '0', 'caravSiteCo': '2', 'indvdlCaravSiteCo': '3', 'sitedStnc': '0', 'siteMg1Width': '9', 'siteMg2Width': '8', 'siteMg3Width': '8', 'siteMg1Vrticl': '5', 'siteMg2Vrticl': '6', 'siteMg3Vrticl': '6', 'siteMg1Co': '1', 'siteMg2Co': '1', 'siteMg3Co': '7', 'siteBottomCl1': '0', 'siteBottomCl2': '10', 'siteBottomCl3': '0', 'siteBottomCl4': '0', 'siteBottomCl5': '0', 'tooltip': '', 'glampInnerFclty': '', 'caravInnerFclty': '', 'prmisnDe': '2022-03-08', 'operPdCl': '봄,여름,가을,겨울', 'operDeCl': '평일+주말', 'trlerAcmpnyAt': 'Y', 'caravAcmpnyAt': 'N', 'toiletCo': '2', 'swrmCo': '2', 'wtrplCo': '2', 'brazierCl': '개별', 'sbrsCl': '전기,무선인터넷,장작판매,온수,트렘폴린,물놀이장,놀이터,산책로,운동장,마트.편의점', 'sbrsEtc': '', 'posblFcltyCl': '계곡 물놀이,산책로,운동장,낚시,강/물놀이,청소년체험시설,농어촌체험시설,어린이놀이시설', 'posblFcltyEtc': '', 'clturEventAt': 'N', 'clturEvent': '', 'exprnProgrmAt': 'N', 'exprnProgrm': '', 'extshrCo': '20', 'frprvtWrppCo': '0', 'frprvtSandCo': '0', 'fireSensorCo': '0', 'themaEnvrnCl': '', 'eqpmnLendCl': '', 'animalCmgCl': '불가능', 'tourEraCl': '봄,여름,가을,겨울', 'firstImageUrl': '', 'createdtime': '2023-01-16 16:49:20', 'modifiedtime': '2024-01-10 06:30:09'}, {'contentId': '100474', 'facltNm': '산중계곡캠핑장', 'lineIntro': '', 'intro': '계곡과 숲속에 자리한 오토캠핑장  산중계곡캠핑장은 경남 거창군 북상면에 자리 잡고 있다. 캠핑장은 숲속 사이트와 계곡 사이트로 구분된다. 파쇄석으로 이루어진 오토캠핑 사이트가 각각 19면과 20면이 마련되어 있다. 사이트 크기는 널찍해 대형 텐트를 설치하는 데 무리가 없다. 부대시설로는 한여름 무더위를 날리기 좋은 수영장이 있다. 주변에 덕유산국립공원이 있어 연계 여행에 나서기 수월하다.', 'allar': '0', 'insrncAt': 'Y', 'trsagntNo': '', 'bizrno': '', 'facltDivNm': '민간', 'mangeDivNm': '직영', 'mgcDiv': '', 'manageSttus': '운영', 'hvofBgnde': '', 'hvofEnddle': '', 'featureNm': '', 'induty': '일반야영장', 'lctCl': '계곡', 'doNm': '경상남도', 'sigunguNm': '거창군', 'zipcode': '50102', 'addr1': '경남 거창군 북상면 송계사길 76', 'addr2': '', 'mapX': '127.8053203', 'mapY': '35.8297842', 'direction': '', 'tel': '0507-1370-5028', 'homepage': 'http://sj-camping.com/', 'resveUrl': 'http://sj-camping.com/bbs/board.php?bo_table=yb_booking02', 'resveCl': '온라인실시간예약', 'manageNmpr': '0', 'gnrlSiteCo': '0', 'autoSiteCo': '39', 'glampSiteCo': '0', 'caravSiteCo': '0', 'indvdlCaravSiteCo': '0', 'sitedStnc': '0', 'siteMg1Width': '0', 'siteMg2Width': '0', 'siteMg3Width': '0', 'siteMg1Vrticl': '0', 'siteMg2Vrticl': '0', 'siteMg3Vrticl': '0', 'siteMg1Co': '20', 'siteMg2Co': '19', 'siteMg3Co': '0', 'siteBottomCl1': '0', 'siteBottomCl2': '39', 'siteBottomCl3': '0', 'siteBottomCl4': '0', 'siteBottomCl5': '0', 'tooltip': '', 'glampInnerFclty': '', 'caravInnerFclty': '', 'prmisnDe': '2022-07-01', 'operPdCl': '봄,여름,가을,겨울', 'operDeCl': '평일+주말', 'trlerAcmpnyAt': 'N', 'caravAcmpnyAt': 'N', 'toiletCo': '4', 'swrmCo': '4', 'wtrplCo': '2', 'brazierCl': '', 'sbrsCl': '전기,무선인터넷,장작판매,온수,물놀이장,놀이터,운동시설', 'sbrsEtc': '', 'posblFcltyCl': '계곡 물놀이,산책로', 'posblFcltyEtc': '', 'clturEventAt': 'N', 'clturEvent': '', 'exprnProgrmAt': 'N', 'exprnProgrm': '', 'extshrCo': '20', 'frprvtWrppCo': '0', 'frprvtSandCo': '0', 'fireSensorCo': '0', 'themaEnvrnCl': '봄꽃여행,여름물놀이,가을단풍명소', 'eqpmnLendCl': '', 'animalCmgCl': '가능', 'tourEraCl': '', 'firstImageUrl': '', 'createdtime': '2023-01-16 16:49:24', 'modifiedtime': '2024-04-20 06:30:35'}, {'contentId': '100532', 'facltNm': '관악산 계곡 캠핑장', 'lineIntro': '', 'intro': '', 'allar': '0', 'insrncAt': 'Y', 'trsagntNo': '', 'bizrno': '', 'facltDivNm': '지자체', 'mangeDivNm': '직영', 'mgcDiv': '', 'manageSttus': '운영', 'hvofBgnde': '', 'hvofEnddle': '', 'featureNm': '', 'induty': '일반야영장', 'lctCl': '', 'doNm': '서울시', 'sigunguNm': '관악구', 'zipcode': '08825', 'addr1': '서울특별시 관악구 신림동 205-1 관악산공원 내 ', 'addr2': '', 'mapX': '126.9481674', 'mapY': '37.4620698', 'direction': '', 'tel': '', 'homepage': '', 'resveUrl': '', 'resveCl': '', 'manageNmpr': '0', 'gnrlSiteCo': '0', 'autoSiteCo': '0', 'glampSiteCo': '0', 'caravSiteCo': '0', 'indvdlCaravSiteCo': '0', 'sitedStnc': '0', 'siteMg1Width': '0', 'siteMg2Width': '0', 'siteMg3Width': '0', 'siteMg1Vrticl': '0', 'siteMg2Vrticl': '0', 'siteMg3Vrticl': '0', 'siteMg1Co': '0', 'siteMg2Co': '0', 'siteMg3Co': '0', 'siteBottomCl1': '0', 'siteBottomCl2': '0', 'siteBottomCl3': '0', 'siteBottomCl4': '0', 'siteBottomCl5': '0', 'tooltip': '', 'glampInnerFclty': '', 'caravInnerFclty': '', 'prmisnDe': '2022-07-28', 'operPdCl': '봄,여름,가을,겨울', 'operDeCl': '평일+주말', 'trlerAcmpnyAt': 'N', 'caravAcmpnyAt': 'N', 'toiletCo': '0', 'swrmCo': '0', 'wtrplCo': '0', 'brazierCl': '개별', 'sbrsCl': '', 'sbrsEtc': '', 'posblFcltyCl': '', 'posblFcltyEtc': '', 'clturEventAt': 'N', 'clturEvent': '', 'exprnProgrmAt': 'N', 'exprnProgrm': '', 'extshrCo': '0', 'frprvtWrppCo': '0', 'frprvtSandCo': '0', 'fireSensorCo': '0', 'themaEnvrnCl': '', 'eqpmnLendCl': '', 'animalCmgCl': '불가능', 'tourEraCl': '', 'firstImageUrl': '', 'createdtime': '2023-01-16 16:49:25', 'modifiedtime': '2023-01-16 16:49:25'}]\n"
     ]
    }
   ],
   "source": [
    "sites = get_gocamping_info(KeyWord)\n",
    "print(sites)"
   ]
  },
  {
   "cell_type": "code",
   "execution_count": 68,
   "metadata": {},
   "outputs": [
    {
     "data": {
      "text/plain": [
       "'뇌운계곡글램핑:\\n김천맑은계곡 오토캠핑장:탁트인 뷰와 더불어 맑은 계곡이 있는 오토캠핑장입니다. 산과 냇가가 있는 공간에서 편리한 야영과 캠핑이 가능합니다.\\n영월 엄둔밸리 계곡캠핑장 :엄둔계곡 상류에 위치하여, 오염되지 않은 맑은 수질의 계곡이 흐르고 있어 어린이들의 천연수영장을 제공합니다. 다양한 크기의 청결한 펜션과  방갈로, 캠핑사이트를 함께 운영중입니다. 신림IC에서 20분거리에 위치하고 있으며, 조용하고 아름다운 산세속에서 도로 차소음 없이 지인과 함께 캠핑과 숙박을 같이 이용하시기에 편리한 구조입니다. \\n산중계곡캠핑장:계곡과 숲속에 자리한 오토캠핑장  산중계곡캠핑장은 경남 거창군 북상면에 자리 잡고 있다. 캠핑장은 숲속 사이트와 계곡 사이트로 구분된다. 파쇄석으로 이루어진 오토캠핑 사이트가 각각 19면과 20면이 마련되어 있다. 사이트 크기는 널찍해 대형 텐트를 설치하는 데 무리가 없다. 부대시설로는 한여름 무더위를 날리기 좋은 수영장이 있다. 주변에 덕유산국립공원이 있어 연계 여행에 나서기 수월하다.\\n관악산 계곡 캠핑장:\\n'"
      ]
     },
     "execution_count": 68,
     "metadata": {},
     "output_type": "execute_result"
    }
   ],
   "source": [
    "context = ''\n",
    "for site in sites:\n",
    "    context = context + site['facltNm'] + \":\" + site['intro'] + \"\\n\" \n",
    "context"
   ]
  },
  {
   "cell_type": "code",
   "execution_count": 74,
   "metadata": {},
   "outputs": [],
   "source": [
    "response = openai.chat.completions.create(\n",
    "    model=\"gpt-4o-mini\",\n",
    "    messages=[\n",
    "        {\n",
    "            \"role\": \"system\",\n",
    "            \"content\": f\"주어진 문장을 보고 주어진 질문에 답해줘: {question}\",\n",
    "        },\n",
    "        {\n",
    "            \"role\": \"user\",\n",
    "            \"content\" : context,\n",
    "        },\n",
    "    ],\n",
    "    temperature=0,\n",
    "    max_tokens=1024,\n",
    "    top_p=1,\n",
    "    frequency_penalty=0,\n",
    "    presence_penalty=0\n",
    ")"
   ]
  },
  {
   "cell_type": "code",
   "execution_count": 75,
   "metadata": {},
   "outputs": [
    {
     "name": "stdout",
     "output_type": "stream",
     "text": [
      "계곡이 있는 캠핑장으로 다음을 추천합니다:\n",
      "\n",
      "1. **김천맑은계곡 오토캠핑장**: 탁 트인 뷰와 맑은 계곡이 있어 편리한 야영과 캠핑이 가능합니다.\n",
      "\n",
      "2. **영월 엄둔밸리 계곡캠핑장**: 오염되지 않은 맑은 수질의 계곡이 흐르고 있어 어린이들이 즐길 수 있는 천연 수영장이 있습니다. 다양한 숙소 옵션이 있어 편리합니다.\n",
      "\n",
      "3. **산중계곡캠핑장**: 계곡과 숲속에 위치하며, 널찍한 캠핑 사이트와 수영장이 있어 여름철에 적합합니다. 주변에 덕유산국립공원이 있어 연계 여행도 가능합니다.\n",
      "\n",
      "이 캠핑장들은 모두 계곡과 가까워 자연을 만끽하며 캠핑을 즐기기에 좋은 장소입니다.\n"
     ]
    }
   ],
   "source": [
    "print(response.choices[0].message.content)"
   ]
  }
 ],
 "metadata": {
  "kernelspec": {
   "display_name": "Python 3",
   "language": "python",
   "name": "python3"
  },
  "language_info": {
   "codemirror_mode": {
    "name": "ipython",
    "version": 3
   },
   "file_extension": ".py",
   "mimetype": "text/x-python",
   "name": "python",
   "nbconvert_exporter": "python",
   "pygments_lexer": "ipython3",
   "version": "3.12.8"
  }
 },
 "nbformat": 4,
 "nbformat_minor": 2
}
