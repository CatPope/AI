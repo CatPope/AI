{
 "cells": [
  {
   "cell_type": "code",
   "execution_count": 2,
   "metadata": {},
   "outputs": [],
   "source": [
    "import os\n",
    "import openai\n",
    "from dotenv import load_dotenv"
   ]
  },
  {
   "cell_type": "code",
   "execution_count": null,
   "metadata": {},
   "outputs": [],
   "source": [
    "# now_path = os.path.dirname(__file__)  # .py 기준\n",
    "now_path = os.getcwd()  # .ipynb 기준\n",
    "dotenv_path = os.path.join(os.path.dirname(now_path), '.env')\n",
    "\n",
    "load_dotenv(dotenv_path)"
   ]
  },
  {
   "cell_type": "code",
   "execution_count": 14,
   "metadata": {},
   "outputs": [],
   "source": [
    "openai.api_key = os.getenv(\"OPENAI_API_KEY\")\n",
    "model = \"gpt-3.5-turbo-instruct\""
   ]
  },
  {
   "cell_type": "code",
   "execution_count": null,
   "metadata": {},
   "outputs": [
    {
     "name": "stdout",
     "output_type": "stream",
     "text": [
      "\n",
      "\n",
      "こんにちは？ 今日の天気が良いですね！\n"
     ]
    }
   ],
   "source": [
    "response = openai.completions.create(\n",
    "    model=model,\n",
    "    prompt= \"다음을 일본어로 번역 하세요: 안녕하세요? 오늘 날씨가 좋네요!\",\n",
    "    max_tokens=256,\n",
    ")\n",
    "\n",
    "print(response.choices[0].text)"
   ]
  },
  {
   "cell_type": "code",
   "execution_count": 19,
   "metadata": {},
   "outputs": [
    {
     "name": "stdout",
     "output_type": "stream",
     "text": [
      "Completion(id='cmpl-AsgZSJrLmlU0blz7E9Z9r1KlqBUcS', choices=[CompletionChoice(finish_reason='length', index=0, logprobs=None, text=' 단백질 섭취량을 늘리십시오.\\n\\n\\n일반적으로 운동을 하면 근육의 성장과 회복을 위해 단백질 섭취량을 증가시켜야 합니다. 근육은 단백질로 구성되어있기 때문에, 단백질은 근육을 증가시키기 위한 필수 영양소입니다.\\n\\n일반적으로 단백질 섭취량의 적절한 수준은 체중의 1.2~1.7g/kg입니다. 하지만 근육의 크기를 늘리기 위해서는 더 높은 수치인 1.7~2.2g/kg의 단백질 섭취량이 필요할 수 있습니다.\\n\\n단백질은 적절한 수준에서 섭취하지')], created=1737596718, model='gpt-3.5-turbo-instruct', object='text_completion', system_fingerprint=None, usage=CompletionUsage(completion_tokens=256, prompt_tokens=11, total_tokens=267, completion_tokens_details=None, prompt_tokens_details=None))\n",
      "CompletionChoice(finish_reason='length', index=0, logprobs=None, text=' 단백질 섭취량을 늘리십시오.\\n\\n\\n일반적으로 운동을 하면 근육의 성장과 회복을 위해 단백질 섭취량을 증가시켜야 합니다. 근육은 단백질로 구성되어있기 때문에, 단백질은 근육을 증가시키기 위한 필수 영양소입니다.\\n\\n일반적으로 단백질 섭취량의 적절한 수준은 체중의 1.2~1.7g/kg입니다. 하지만 근육의 크기를 늘리기 위해서는 더 높은 수치인 1.7~2.2g/kg의 단백질 섭취량이 필요할 수 있습니다.\\n\\n단백질은 적절한 수준에서 섭취하지')\n",
      " 단백질 섭취량을 늘리십시오.\n",
      "\n",
      "\n",
      "일반적으로 운동을 하면 근육의 성장과 회복을 위해 단백질 섭취량을 증가시켜야 합니다. 근육은 단백질로 구성되어있기 때문에, 단백질은 근육을 증가시키기 위한 필수 영양소입니다.\n",
      "\n",
      "일반적으로 단백질 섭취량의 적절한 수준은 체중의 1.2~1.7g/kg입니다. 하지만 근육의 크기를 늘리기 위해서는 더 높은 수치인 1.7~2.2g/kg의 단백질 섭취량이 필요할 수 있습니다.\n",
      "\n",
      "단백질은 적절한 수준에서 섭취하지\n"
     ]
    }
   ],
   "source": [
    "response = openai.completions.create(\n",
    "    model=model,\n",
    "    prompt=\"근육이 커지려면\",\n",
    "    max_tokens=256\n",
    ")\n",
    "\n",
    "print(response)\n",
    "print(response.choices[0])\n",
    "print(response.choices[0].text)"
   ]
  },
  {
   "cell_type": "code",
   "execution_count": 25,
   "metadata": {},
   "outputs": [
    {
     "name": "stdout",
     "output_type": "stream",
     "text": [
      "こんにちは？今日は天気が良いですね！\n"
     ]
    }
   ],
   "source": [
    "# 표준적인 Chat completion mode\n",
    "model = 'gpt-3.5-turbo'\n",
    "\n",
    "res = openai.chat.completions.create(\n",
    "    model=model,\n",
    "    messages=[{\"role\":\"user\", \"content\":\"다음을 일본어로 번역 하세요: 안녕하세요? 오늘 날씨가 좋네요!\"}]\n",
    ")\n",
    "\n",
    "print(res.choices[0].message.content)"
   ]
  },
  {
   "cell_type": "code",
   "execution_count": 26,
   "metadata": {},
   "outputs": [
    {
     "name": "stdout",
     "output_type": "stream",
     "text": [
      "ChatCompletion(id='chatcmpl-Asgz2RfR1LzLPrlX3NTr4O6IGqZ2q', choices=[Choice(finish_reason='stop', index=0, logprobs=None, message=ChatCompletionMessage(content='こんにちは？今日は天気が良いですね！', refusal=None, role='assistant', audio=None, function_call=None, tool_calls=None))], created=1737598304, model='gpt-3.5-turbo-0125', object='chat.completion', service_tier='default', system_fingerprint=None, usage=CompletionUsage(completion_tokens=16, prompt_tokens=41, total_tokens=57, completion_tokens_details=CompletionTokensDetails(accepted_prediction_tokens=0, audio_tokens=0, reasoning_tokens=0, rejected_prediction_tokens=0), prompt_tokens_details=PromptTokensDetails(audio_tokens=0, cached_tokens=0)))\n"
     ]
    }
   ],
   "source": [
    "print(res)"
   ]
  },
  {
   "cell_type": "code",
   "execution_count": 4,
   "metadata": {},
   "outputs": [
    {
     "name": "stdout",
     "output_type": "stream",
     "text": [
      "블랙홀은 아주 특별한 곳으로, 시간이 지나면 사라질 수 있어요. 블랙홀은 '호킹 복사'라는 것으로 아주 작은 입자를 내보내면서 점점 작아져요. 그러면서 점점 밝아지다가 마지막에는 아주 강한 빛을 내고 사라진답니다. 하지만 이 일이 일어나려면 정말 오랜 시간이 걸려요. 태양처럼 큰 블랙홀이 사라지려면 34경 년이라는 아주 긴 시간이 필요해요! 그래서 블랙홀이 사라지는 걸 우리가 보기 힘든 이유예요. 지금까지 블랙홀이 사라지는 걸 본 적은 없어요.\n"
     ]
    }
   ],
   "source": [
    "response = openai.chat.completions.create(\n",
    "  model='gpt-4o-mini',\n",
    "  messages=[\n",
    "    {\n",
    "      \"role\": \"system\",\n",
    "      \"content\": \"주어진 내용을 유치원생에게 설명할 수 있도록 요약하시오.\"\n",
    "    },\n",
    "    {\n",
    "      \"role\": \"user\",\n",
    "      \"content\": \"\"\"\n",
    "    블랙홀도 수명이 있으며, 호킹 복사로 입자를 방출하다 질량이 줄어들어 결국엔 사라질 것으로 예측된다. \n",
    "    질량을 잃으면서 블랙홀은 조금씩 밝아지며, 거의 마지막엔 증발이 심해져서 창백하게 빛나며 고에너지 감마선과 소립자를 방출한다. \n",
    "    마지막에는 감마선 폭발이라고 해도 될 정도로 격렬하게 감마선을 방출하면서 증발하고 소멸한다. \n",
    "    다만 일반적으로 알려져 있는 블랙홀들이 이 폭발까지 도달하려면 매우 오랜 시간이 걸리며, \n",
    "    질량이 태양 정도인 블랙홀이 증발해서 소멸할 때까지는 약 3.4×1067년 정도가 걸릴 것으로 추정된다. \n",
    "    그리고 블랙홀의 수명은 질량에 비례하며, 현재까지 발견된 블랙홀들은 모두 태양 질량 이상이므로 증발하는 데에는 그보다 더 오랜 시간이 걸린다. \n",
    "    또한 블랙홀의 소멸로 인해 발생하는 감마선 폭발의 규모는 그리 크지 않아 태양계 주변에서 발생한 경우가 아니면 발견하기가 어려울 것으로 추정되며 \n",
    "    현재까지 관측된 사례가 없다.\"\"\"\n",
    "    }\n",
    "  ],\n",
    "  temperature=0.5,\n",
    "  max_tokens=1024,\n",
    "  top_p=1,\n",
    "  frequency_penalty=0,\n",
    "  presence_penalty=0\n",
    ")\n",
    "\n",
    "print(response.choices[0].message.content)"
   ]
  },
  {
   "cell_type": "code",
   "execution_count": 6,
   "metadata": {},
   "outputs": [
    {
     "name": "stdout",
     "output_type": "stream",
     "text": [
      "☀️🌤️🌧️🌈\n"
     ]
    }
   ],
   "source": [
    "response = openai.chat.completions.create(\n",
    "  model=\"gpt-4o-mini\",\n",
    "  messages=[\n",
    "    {\n",
    "      \"role\": \"system\",\n",
    "      \"content\": \"주어진 텍스트를 이모지로 변환하세요. 일반 텍스트를 사용하면 안되며, 이모지만 사용해야 합니다.\"\n",
    "    },\n",
    "    {\n",
    "      \"role\": \"user\",\n",
    "      \"content\": \"오늘 날씨는 맑았다가 비가 왔다가 참 변화무쌍하네요.\"\n",
    "    }\n",
    "  ],\n",
    "  temperature=0.8,\n",
    "  max_tokens=256,\n",
    "  top_p=1,\n",
    "  frequency_penalty=0,\n",
    "  presence_penalty=0\n",
    ")\n",
    "\n",
    "print(response.choices[0].message.content)"
   ]
  },
  {
   "cell_type": "code",
   "execution_count": null,
   "metadata": {},
   "outputs": [],
   "source": []
  }
 ],
 "metadata": {
  "kernelspec": {
   "display_name": "Python 3",
   "language": "python",
   "name": "python3"
  },
  "language_info": {
   "codemirror_mode": {
    "name": "ipython",
    "version": 3
   },
   "file_extension": ".py",
   "mimetype": "text/x-python",
   "name": "python",
   "nbconvert_exporter": "python",
   "pygments_lexer": "ipython3",
   "version": "3.10.12"
  }
 },
 "nbformat": 4,
 "nbformat_minor": 2
}
