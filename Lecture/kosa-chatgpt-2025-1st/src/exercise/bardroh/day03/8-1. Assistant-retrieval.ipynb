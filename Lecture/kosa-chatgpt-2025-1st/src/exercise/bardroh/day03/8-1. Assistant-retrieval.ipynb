{
 "cells": [
  {
   "cell_type": "code",
   "execution_count": 1,
   "metadata": {},
   "outputs": [],
   "source": [
    "import os\n",
    "from openai import OpenAI\n",
    "client = OpenAI()\n",
    "\n",
    "client.api_key = os.getenv(\"OPENAI_API_KEY\")"
   ]
  },
  {
   "cell_type": "code",
   "execution_count": 2,
   "metadata": {},
   "outputs": [
    {
     "data": {
      "text/plain": [
       "Assistant(id='asst_seHsd9Tl4Ixf9fTQen02AKFE', created_at=1737534745, description=None, instructions='당신은 친절한 국어선생님입니다. 사용자가 질문하는 국어문제에 대답하기 위해 File Search를 실행하세요.', metadata={}, model='gpt-4o-mini', name='국어 선생님', object='assistant', tools=[FileSearchTool(type='file_search', file_search=FileSearch(max_num_results=None, ranking_options=FileSearchRankingOptions(score_threshold=0.0, ranker='default_2024_08_21')))], response_format='auto', temperature=1.0, tool_resources=ToolResources(code_interpreter=None, file_search=ToolResourcesFileSearch(vector_store_ids=[])), top_p=1.0)"
      ]
     },
     "execution_count": 2,
     "metadata": {},
     "output_type": "execute_result"
    }
   ],
   "source": [
    "assistant = client.beta.assistants.create(\n",
    "    name=\"국어 선생님\",\n",
    "    instructions=\"당신은 친절한 국어선생님입니다. 사용자가 질문하는 국어문제에 대답하기 위해 File Search를 실행하세요.\",\n",
    "    tools=[{\"type\": \"file_search\"}],\n",
    "    model=\"gpt-4o-mini\"\n",
    ")\n",
    "assistant"
   ]
  },
  {
   "cell_type": "code",
   "execution_count": 3,
   "metadata": {},
   "outputs": [
    {
     "data": {
      "text/plain": [
       "FileObject(id='file-9tUFNB7jCLBfCH6N3jLEPA', bytes=123544, created_at=1737534789, filename='소나기.pdf', object='file', purpose='assistants', status='processed', status_details=None)"
      ]
     },
     "execution_count": 3,
     "metadata": {},
     "output_type": "execute_result"
    }
   ],
   "source": [
    "file = client.files.create(\n",
    "  file=open(\"소나기.pdf\", \"rb\"),\n",
    "  purpose='assistants'\n",
    ")\n",
    "file"
   ]
  },
  {
   "cell_type": "code",
   "execution_count": 4,
   "metadata": {},
   "outputs": [
    {
     "data": {
      "text/plain": [
       "Thread(id='thread_JVDdRapEseHJcwgkWYNjOrNi', created_at=1737534804, metadata={}, object='thread', tool_resources=ToolResources(code_interpreter=None, file_search=None))"
      ]
     },
     "execution_count": 4,
     "metadata": {},
     "output_type": "execute_result"
    }
   ],
   "source": [
    "thread = client.beta.threads.create()\n",
    "thread"
   ]
  },
  {
   "cell_type": "code",
   "execution_count": 5,
   "metadata": {},
   "outputs": [],
   "source": [
    "message = client.beta.threads.messages.create(\n",
    "    thread_id=thread.id,\n",
    "    role=\"user\",\n",
    "    content=\"소년과 소녀는 어디에서 처음 만났나?\",\n",
    "    attachments=[\n",
    "        { \"file_id\": file.id, \"tools\": [{\"type\": \"file_search\"}] }\n",
    "    ]\n",
    ")"
   ]
  },
  {
   "cell_type": "code",
   "execution_count": 6,
   "metadata": {},
   "outputs": [
    {
     "name": "stdout",
     "output_type": "stream",
     "text": [
      "[Message(id='msg_kYFuWzG1ZywMbC6X7ATnPrWR', assistant_id=None, attachments=[Attachment(file_id='file-9tUFNB7jCLBfCH6N3jLEPA', tools=[AttachmentToolAssistantToolsFileSearchTypeOnly(type='file_search')])], completed_at=None, content=[TextContentBlock(text=Text(annotations=[], value='소년과 소녀는 어디에서 처음 만났나?'), type='text')], created_at=1737534837, incomplete_at=None, incomplete_details=None, metadata={}, object='thread.message', role='user', run_id=None, status=None, thread_id='thread_JVDdRapEseHJcwgkWYNjOrNi')]\n"
     ]
    }
   ],
   "source": [
    "thread_messages = client.beta.threads.messages.list(thread.id)\n",
    "print(thread_messages.data)"
   ]
  },
  {
   "cell_type": "code",
   "execution_count": 7,
   "metadata": {},
   "outputs": [],
   "source": [
    "run = client.beta.threads.runs.create(\n",
    "  thread_id=thread.id,\n",
    "  assistant_id=assistant.id,\n",
    "  instructions=\"주어진 질문에 대해 답을 줘. 답을 모르겠으면 모르겠다고 답해야 하고 답을 지어내면 안돼.\"\n",
    ")"
   ]
  },
  {
   "cell_type": "code",
   "execution_count": 8,
   "metadata": {},
   "outputs": [],
   "source": [
    "import time\n",
    "\n",
    "while run.status != \"completed\"  :\n",
    "    run = client.beta.threads.runs.retrieve(\n",
    "        thread_id=thread.id,\n",
    "        run_id=run.id\n",
    "    )\n",
    "    time.sleep(0.1)"
   ]
  },
  {
   "cell_type": "code",
   "execution_count": 9,
   "metadata": {},
   "outputs": [],
   "source": [
    "messages = client.beta.threads.messages.list(\n",
    "  thread_id=thread.id\n",
    ")"
   ]
  },
  {
   "cell_type": "code",
   "execution_count": 10,
   "metadata": {},
   "outputs": [
    {
     "name": "stdout",
     "output_type": "stream",
     "text": [
      "[Message(id='msg_9SoQa7HLlLaAEXdB0LWvTVQW', assistant_id='asst_seHsd9Tl4Ixf9fTQen02AKFE', attachments=[], completed_at=None, content=[TextContentBlock(text=Text(annotations=[FileCitationAnnotation(end_index=81, file_citation=FileCitation(file_id='file-9tUFNB7jCLBfCH6N3jLEPA'), start_index=72, text='【4:0†소나기】', type='file_citation')], value='소년과 소녀는 개울가에서 처음 만났습니다. 소녀는 개울에서 물장난을 하고 있었고, 소년은 그 모습을 보며 개울둑에 앉아 있었습니다【4:0†소나기】.'), type='text')], created_at=1737534869, incomplete_at=None, incomplete_details=None, metadata={}, object='thread.message', role='assistant', run_id='run_mIBc0r5Kok71eC4YtxldssmO', status=None, thread_id='thread_JVDdRapEseHJcwgkWYNjOrNi'), Message(id='msg_kYFuWzG1ZywMbC6X7ATnPrWR', assistant_id=None, attachments=[Attachment(file_id='file-9tUFNB7jCLBfCH6N3jLEPA', tools=[AttachmentToolAssistantToolsFileSearchTypeOnly(type='file_search')])], completed_at=None, content=[TextContentBlock(text=Text(annotations=[], value='소년과 소녀는 어디에서 처음 만났나?'), type='text')], created_at=1737534837, incomplete_at=None, incomplete_details=None, metadata={}, object='thread.message', role='user', run_id=None, status=None, thread_id='thread_JVDdRapEseHJcwgkWYNjOrNi')]\n"
     ]
    }
   ],
   "source": [
    "thread_messages = client.beta.threads.messages.list(thread.id)\n",
    "print(thread_messages.data)"
   ]
  },
  {
   "cell_type": "code",
   "execution_count": 11,
   "metadata": {},
   "outputs": [
    {
     "name": "stdout",
     "output_type": "stream",
     "text": [
      "assistant\n",
      "소년과 소녀는 개울가에서 처음 만났습니다. 소녀는 개울에서 물장난을 하고 있었고, 소년은 그 모습을 보며 개울둑에 앉아 있었습니다【4:0†소나기】.\n"
     ]
    }
   ],
   "source": [
    "print(thread_messages.data[0].role)\n",
    "print(thread_messages.data[0].content[0].text.value)"
   ]
  }
 ],
 "metadata": {
  "kernelspec": {
   "display_name": "Python 3",
   "language": "python",
   "name": "python3"
  },
  "language_info": {
   "codemirror_mode": {
    "name": "ipython",
    "version": 3
   },
   "file_extension": ".py",
   "mimetype": "text/x-python",
   "name": "python",
   "nbconvert_exporter": "python",
   "pygments_lexer": "ipython3",
   "version": "3.10.12"
  }
 },
 "nbformat": 4,
 "nbformat_minor": 2
}
