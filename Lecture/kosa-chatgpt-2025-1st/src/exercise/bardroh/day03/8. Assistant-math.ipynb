{
 "cells": [
  {
   "cell_type": "code",
   "execution_count": 1,
   "metadata": {},
   "outputs": [],
   "source": [
    "import os\n",
    "from openai import OpenAI\n",
    "client = OpenAI()\n",
    "\n",
    "client.api_key = os.getenv(\"OPENAI_API_KEY\")"
   ]
  },
  {
   "cell_type": "code",
   "execution_count": 2,
   "metadata": {},
   "outputs": [
    {
     "data": {
      "text/plain": [
       "Assistant(id='asst_MxDlAY8A9oiILmwsY4rCaZ0k', created_at=1731234726, description=None, instructions='당신은 친절한 수학선생님입니다. 사용자가 질문하는 수학문제에 대답하기 위해 code를 작성하고 실행하세요.', metadata={}, model='gpt-4o-mini', name='수학 선생님', object='assistant', tools=[CodeInterpreterTool(type='code_interpreter')], response_format='auto', temperature=1.0, tool_resources=ToolResources(code_interpreter=ToolResourcesCodeInterpreter(file_ids=[]), file_search=None), top_p=1.0)"
      ]
     },
     "execution_count": 2,
     "metadata": {},
     "output_type": "execute_result"
    }
   ],
   "source": [
    "assistant = client.beta.assistants.create(\n",
    "    name=\"수학 선생님\",\n",
    "    instructions=\"당신은 친절한 수학선생님입니다. 사용자가 질문하는 수학문제에 대답하기 위해 code를 작성하고 실행하세요.\",\n",
    "    tools=[{\"type\": \"code_interpreter\"}],\n",
    "    model=\"gpt-4o-mini\"\n",
    ")\n",
    "assistant"
   ]
  },
  {
   "cell_type": "code",
   "execution_count": 3,
   "metadata": {},
   "outputs": [
    {
     "data": {
      "text/plain": [
       "Thread(id='thread_ehby1gokmeN0DDCIstGkIrKk', created_at=1731234727, metadata={}, object='thread', tool_resources=ToolResources(code_interpreter=None, file_search=None))"
      ]
     },
     "execution_count": 3,
     "metadata": {},
     "output_type": "execute_result"
    }
   ],
   "source": [
    "thread = client.beta.threads.create()\n",
    "thread"
   ]
  },
  {
   "cell_type": "code",
   "execution_count": 4,
   "metadata": {},
   "outputs": [],
   "source": [
    "message = client.beta.threads.messages.create(\n",
    "    thread_id=thread.id,\n",
    "    role=\"user\",\n",
    "    content=\"`3x + 11 = 14`라는 방정식을 풀려고 하는데 도와줄 수 있어?\"\n",
    ")"
   ]
  },
  {
   "cell_type": "code",
   "execution_count": 5,
   "metadata": {},
   "outputs": [
    {
     "name": "stdout",
     "output_type": "stream",
     "text": [
      "[Message(id='msg_SuIUPBsjgXQv1IXEYsHGRc3o', assistant_id=None, attachments=[], completed_at=None, content=[TextContentBlock(text=Text(annotations=[], value='`3x + 11 = 14`라는 방정식을 풀려고 하는데 도와줄 수 있어?'), type='text')], created_at=1731234727, incomplete_at=None, incomplete_details=None, metadata={}, object='thread.message', role='user', run_id=None, status=None, thread_id='thread_ehby1gokmeN0DDCIstGkIrKk')]\n"
     ]
    }
   ],
   "source": [
    "thread_messages = client.beta.threads.messages.list(thread.id)\n",
    "print(thread_messages.data)"
   ]
  },
  {
   "cell_type": "code",
   "execution_count": 6,
   "metadata": {},
   "outputs": [],
   "source": [
    "run = client.beta.threads.runs.create(\n",
    "  thread_id=thread.id,\n",
    "  assistant_id=assistant.id,\n",
    "  instructions=\"수학문제에 대해 설명하고 답을 같이 말해줘.\"\n",
    ")"
   ]
  },
  {
   "cell_type": "code",
   "execution_count": 7,
   "metadata": {},
   "outputs": [],
   "source": [
    "import time\n",
    "\n",
    "while run.status != \"completed\"  :\n",
    "    run = client.beta.threads.runs.retrieve(\n",
    "        thread_id=thread.id,\n",
    "        run_id=run.id\n",
    "    )\n",
    "    time.sleep(0.1)"
   ]
  },
  {
   "cell_type": "code",
   "execution_count": 8,
   "metadata": {},
   "outputs": [],
   "source": [
    "messages = client.beta.threads.messages.list(\n",
    "  thread_id=thread.id\n",
    ")"
   ]
  },
  {
   "cell_type": "code",
   "execution_count": 9,
   "metadata": {},
   "outputs": [
    {
     "name": "stdout",
     "output_type": "stream",
     "text": [
      "[Message(id='msg_UWl9Hgf9NWpzI8F4ZffGF58H', assistant_id='asst_MxDlAY8A9oiILmwsY4rCaZ0k', attachments=[], completed_at=None, content=[TextContentBlock(text=Text(annotations=[], value='계산 결과, \\\\( x = 1 \\\\)임을 확인했습니다. 따라서 방정식 \\\\( 3x + 11 = 14 \\\\)의 해는 \\\\( x = 1 \\\\)입니다.'), type='text')], created_at=1731234735, incomplete_at=None, incomplete_details=None, metadata={}, object='thread.message', role='assistant', run_id='run_SmaVDFZoCKfEiOFgdvbbTK2m', status=None, thread_id='thread_ehby1gokmeN0DDCIstGkIrKk'), Message(id='msg_zM9CYjb9x84wy2X9VrcJ8Xdh', assistant_id='asst_MxDlAY8A9oiILmwsY4rCaZ0k', attachments=[], completed_at=None, content=[TextContentBlock(text=Text(annotations=[], value='물론입니다! 방정식 \\\\( 3x + 11 = 14 \\\\)를 푸는 방법은 다음과 같습니다.\\n\\n1. 먼저, 방정식에서 \\\\( 3x \\\\) 항을 고립시키기 위해 11을 양쪽에서 빼줍니다:\\n   \\\\[\\n   3x + 11 - 11 = 14 - 11\\n   \\\\]\\n   그러면 방정식은 다음과 같이 됩니다:\\n   \\\\[\\n   3x = 3\\n   \\\\]\\n\\n2. 이제 \\\\( x \\\\)를 구하기 위해 양쪽을 3으로 나누어 줍니다:\\n   \\\\[\\n   x = \\\\frac{3}{3}\\n   \\\\]\\n   따라서,\\n   \\\\[\\n   x = 1\\n   \\\\]\\n\\n이제 계산을 통해 확인해 보겠습니다.'), type='text')], created_at=1731234729, incomplete_at=None, incomplete_details=None, metadata={}, object='thread.message', role='assistant', run_id='run_SmaVDFZoCKfEiOFgdvbbTK2m', status=None, thread_id='thread_ehby1gokmeN0DDCIstGkIrKk'), Message(id='msg_SuIUPBsjgXQv1IXEYsHGRc3o', assistant_id=None, attachments=[], completed_at=None, content=[TextContentBlock(text=Text(annotations=[], value='`3x + 11 = 14`라는 방정식을 풀려고 하는데 도와줄 수 있어?'), type='text')], created_at=1731234727, incomplete_at=None, incomplete_details=None, metadata={}, object='thread.message', role='user', run_id=None, status=None, thread_id='thread_ehby1gokmeN0DDCIstGkIrKk')]\n"
     ]
    }
   ],
   "source": [
    "thread_messages = client.beta.threads.messages.list(thread.id)\n",
    "print(thread_messages.data)"
   ]
  }
 ],
 "metadata": {
  "kernelspec": {
   "display_name": "Python 3",
   "language": "python",
   "name": "python3"
  },
  "language_info": {
   "codemirror_mode": {
    "name": "ipython",
    "version": 3
   },
   "file_extension": ".py",
   "mimetype": "text/x-python",
   "name": "python",
   "nbconvert_exporter": "python",
   "pygments_lexer": "ipython3",
   "version": "3.10.12"
  }
 },
 "nbformat": 4,
 "nbformat_minor": 2
}
