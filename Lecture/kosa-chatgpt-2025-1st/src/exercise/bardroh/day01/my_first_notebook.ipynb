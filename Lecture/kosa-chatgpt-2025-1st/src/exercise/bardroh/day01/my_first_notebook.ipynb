{
 "cells": [
  {
   "cell_type": "code",
   "execution_count": 3,
   "metadata": {},
   "outputs": [
    {
     "name": "stdout",
     "output_type": "stream",
     "text": [
      "10\n"
     ]
    }
   ],
   "source": [
    "print (2+3+5)"
   ]
  },
  {
   "cell_type": "code",
   "execution_count": 1,
   "metadata": {},
   "outputs": [],
   "source": [
    "from openai import OpenAI\n",
    "client = OpenAI()\n",
    "\n",
    "response = client.chat.completions.create(\n",
    "  model=\"gpt-4o-mini\",\n",
    "  messages=[\n",
    "    {\n",
    "      \"role\": \"user\",\n",
    "      \"content\": [\n",
    "        {\n",
    "          \"type\": \"text\",\n",
    "          \"text\": \"뉴욕으로 4박 5일 여행 갈건데 일정을 짜줘\"\n",
    "        }\n",
    "      ]\n",
    "    },\n",
    "    {\n",
    "      \"role\": \"assistant\",\n",
    "      \"content\": [\n",
    "        {\n",
    "          \"type\": \"text\",\n",
    "          \"text\": \"뉴욕에서 4박 5일 여행을 계획하신다니 정말 멋진 선택이네요! 아래는 뉴욕에서의 일정을 제안해 드립니다. 개인적인 취향에 따라 조정하시면 좋습니다.\\n\\n### 1일차: 도착 및 타임스퀘어\\n- **오전:** 뉴욕 도착 후 호텔 체크인\\n- **오후:** \\n  - 타임스퀘어 탐방\\n  - 주변 상점과 카페에서 간단한 점심\\n- **저녁:** \\n  - 브로드웨이 뮤지컬 관람 (사전 예약 필수)\\n  - 뮤지컬 관람 후 근처 레스토랑에서 저녁 식사\\n\\n### 2일차: 맨해튼 중심부 탐방\\n- **오전:**\\n  - 센트럴 파크 산책\\n  - 메트로폴리탄 미술관 또는 아메리칸 자연사 박물관 방문\\n- **오후:**\\n  - 5번가 쇼핑 (애플 스토어, 록펠러 센터 등)\\n  - 록펠러 센터에서 '탑 오브 더 록' 전망대 관람\\n- **저녁:** \\n  - 근처 피자 가게에서 저녁 식사\\n\\n### 3일차: 다채로운 문화 체험 \\n- **오전:**\\n  - 브루클린 브리지 도보 횡단\\n  - 브루클린에서 DUMBO 및 피망 파크 방문\\n- **오후:**\\n  - 브루클린에서 유명한 피자 가게에서 점심\\n  - 브루클린 미술관 또는 브루클린 식물원 탐방\\n- **저녁:**\\n  - 브루클린의 멋진 레스토랑에서 저녁 (예: 스미스 스트리트)\\n\\n### 4일차: 역사와 현대의 조화\\n- **오전:**\\n  - 월 스트리트 및 뉴욕 증권거래소 탐방\\n  - 9/11 메모리얼 & 뮤지엄 관람\\n- **오후:**\\n  - 배터리 파크에서 자유의 여신상 및 엘리스섬 투어\\n- **저녁:**\\n  - 차이나타운에서 중식\\n  - 소호 탐방 및 쇼핑\\n\\n### 5일차: 출국 전 마지막 일정\\n- **오전:**\\n  - 하이라인 파크 산책 및 첼시 마켓 방문\\n- **오후:**\\n  - 미드타운의 한 레스토랑에서 점심\\n  - 호텔 체크아웃 후 출국 준비\\n- **저녁:** \\n  - 귀국\\n\\n여행 일정은 여러분의 취향, 계절, 날씨, 그리고 개인적인 관심사에 따라 달라질 수 있습니다. 미리 예약이 필요한 부분도 있으니 체크하시고 즐거운 여행 되세요!\"\n",
    "        }\n",
    "      ]\n",
    "    }\n",
    "  ],\n",
    "  response_format={\n",
    "    \"type\": \"text\"\n",
    "  },\n",
    "  temperature=1,\n",
    "  max_completion_tokens=10000,\n",
    "  top_p=1,\n",
    "  frequency_penalty=0,\n",
    "  presence_penalty=0\n",
    ")"
   ]
  },
  {
   "cell_type": "code",
   "execution_count": 2,
   "metadata": {},
   "outputs": [
    {
     "name": "stdout",
     "output_type": "stream",
     "text": [
      "ChatCompletion(id='chatcmpl-ArkZIkCp33fwBeAci32t0EdnDNQOa', choices=[Choice(finish_reason='stop', index=0, logprobs=None, message=ChatCompletionMessage(content='뉴욕에서의 4박 5일 여행은 정말 흥미로운 경험이 될 것입니다! 아래는 여러분이 뉴욕에서 즐길 수 있는 세부 일정입니다.\\n\\n### 1일차: 도착 및 타임스퀘어 탐방\\n- **오전:** 뉴욕 도착 후 호텔 체크인\\n- **오후:**\\n  - **타임스퀘어** 탐방: 화려한 네온사인과 인파 속에서 분위기 만끽\\n  - 주변 카페나 패스트푸드에서 간단한 점심\\n- **저녁:**\\n  - **브로드웨이 뮤지컬** 관람 (사전 예약 필수)\\n  - 뮤지컬 관람 후, 타임스퀘어 근처의 레스토랑에서 저녁식사\\n\\n### 2일차: 센트럴 파크와 문화 탐방\\n- **오전:**\\n  - **센트럴 파크** 산책: 자전거 대여도 추천\\n  - **메트로폴리탄 미술관** 관람\\n- **오후:**\\n  - **5번가** 쇼핑: 애플 스토어, 록펠러 센터 등 구경\\n  - **탑 오브 더 록** 전망대 방문: 멋진 맨해튼 전경 감상\\n- **저녁:** \\n  - 근처의 피자 가게나 패스트푸드에서 저녁식사\\n\\n### 3일차: 브루클린 탐방\\n- **오전:**\\n  - **브루클린 브리지** 도보 횡단: 멋진 경치 감상\\n  - **DUMBO** 지역 탐방: 독특한 상점과 카페 탐방\\n- **오후:**\\n  - 브루클린 유명 피자 가게에서 점심\\n  - **브루클린 미술관** 또는 **브루클린 식물원** 방문 (시간에 따라 선택)\\n- **저녁:**\\n  - 브루클린의 유명 레스토랑에서 저녁\\n\\n### 4일차: 역사적인 명소 방문\\n- **오전:**\\n  - **월 스트리트** 탐방: 뉴욕 증권 거래소 및 불뱀 동상 관람\\n  - **9/11 메모리얼 & 뮤지엄** 관람\\n- **오후:**\\n  - **배터리 파크**에서 **자유의 여신상** 투어 (사전 예약 권장)\\n- **저녁:**\\n  - **차이나타운**에서 중식\\n  - **소호** 지역 탐방 및 쇼핑\\n\\n### 5일차: 출국 전 마지막 일정\\n- **오전:**\\n  - **하이라인 파크** 산책: 독특한 경관과 예술 작품 감상\\n  - **첼시 마켓** 방문: 다양한 음식과 기념품 탐방\\n- **오후:**\\n  - 미드타운의 한 레스토랑에서 점심\\n  - 호텔 체크아웃 후 출국 준비\\n- **저녁:** \\n  - 귀국\\n\\n여행 일정은 개인의 취향에 따라 조정할 수 있습니다. 방문하고 싶은 장소나 활동을 우선순위에 따라 조정해 주세요. 뉴욕에서 멋진 시간 보내시고 좋은 추억 많이 만드세요!', refusal=None, role='assistant', audio=None, function_call=None, tool_calls=None))], created=1737373756, model='gpt-4o-mini-2024-07-18', object='chat.completion', service_tier='default', system_fingerprint='fp_bd83329f63', usage=CompletionUsage(completion_tokens=744, prompt_tokens=674, total_tokens=1418, completion_tokens_details=CompletionTokensDetails(accepted_prediction_tokens=0, audio_tokens=0, reasoning_tokens=0, rejected_prediction_tokens=0), prompt_tokens_details=PromptTokensDetails(audio_tokens=0, cached_tokens=0)))\n"
     ]
    }
   ],
   "source": [
    "print(response)"
   ]
  }
 ],
 "metadata": {
  "kernelspec": {
   "display_name": "Python 3",
   "language": "python",
   "name": "python3"
  },
  "language_info": {
   "codemirror_mode": {
    "name": "ipython",
    "version": 3
   },
   "file_extension": ".py",
   "mimetype": "text/x-python",
   "name": "python",
   "nbconvert_exporter": "python",
   "pygments_lexer": "ipython3",
   "version": "3.10.12"
  }
 },
 "nbformat": 4,
 "nbformat_minor": 2
}
