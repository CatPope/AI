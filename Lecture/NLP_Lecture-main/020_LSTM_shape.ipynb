{
  "cells": [
    {
      "cell_type": "markdown",
      "metadata": {
        "id": "UFm4zEmdF3HZ"
      },
      "source": [
        "# 020. LSTM/GRU input/output shape\n",
        "\n",
        "- return_sequences = False, True 일 때의 output 비교\n",
        "\n",
        "- return_state = False, True 일 때의 internal state output 비교\n",
        "\n",
        "- Bidirectional LSTM/GRU 의 output 비교"
      ]
    },
    {
      "cell_type": "code",
      "execution_count": 1,
      "metadata": {
        "colab": {
          "base_uri": "https://localhost:8080/"
        },
        "id": "Z5bhMKuKF3Hd",
        "outputId": "fe87338c-ad97-4951-891a-e5f305a83472"
      },
      "outputs": [
        {
          "output_type": "stream",
          "name": "stdout",
          "text": [
            "(2, 5, 1)\n"
          ]
        }
      ],
      "source": [
        "from tensorflow.keras.models import Model\n",
        "from tensorflow.keras.layers import Input, LSTM, Bidirectional\n",
        "import numpy as np\n",
        "import warnings\n",
        "warnings.filterwarnings('ignore')\n",
        "\n",
        "B = 2   # batch size\n",
        "T = 5   #Time Steps\n",
        "D = 1   #features\n",
        "U = 3   #LSTM units\n",
        "\n",
        "X = np.random.randn(B, T, D)\n",
        "print(X.shape)"
      ]
    },
    {
      "cell_type": "markdown",
      "metadata": {
        "id": "93BtygLbF3Hg"
      },
      "source": [
        "# LSTM\n",
        "\n",
        "## return_sequences\n",
        "\n",
        "- False (default) - last time step 의 output 만 반환\n",
        "- True - 모든 timestep 의 output 을 모두 반환\n",
        "\n",
        "<img src=\"https://i.imgur.com/yqTBCG5.png\" width=600 />"
      ]
    },
    {
      "cell_type": "code",
      "execution_count": 2,
      "metadata": {
        "colab": {
          "base_uri": "https://localhost:8080/"
        },
        "id": "BUOMaX3mF3Hg",
        "outputId": "c23e664c-a908-42e8-b7fb-092b3a566164"
      },
      "outputs": [
        {
          "output_type": "stream",
          "name": "stdout",
          "text": [
            "---- return_sequences=False ----> last timestep 의 output 만 반환\n",
            "\u001b[1m1/1\u001b[0m \u001b[32m━━━━━━━━━━━━━━━━━━━━\u001b[0m\u001b[37m\u001b[0m \u001b[1m0s\u001b[0m 262ms/step\n",
            "(2, 3)\n",
            "[[-0.05592164 -0.04728273  0.07290111]\n",
            " [-0.17082204 -0.08322322  0.15329002]]\n",
            "\n",
            "---- return_sequences=True ----> 모든 timestep 별 output 출력\n",
            "\u001b[1m1/1\u001b[0m \u001b[32m━━━━━━━━━━━━━━━━━━━━\u001b[0m\u001b[37m\u001b[0m \u001b[1m0s\u001b[0m 188ms/step\n",
            "(2, 5, 3)\n",
            "[[[ 0.04526417  0.02893411 -0.06015253]\n",
            "  [-0.04677985 -0.02400224  0.07218176]\n",
            "  [ 0.13233523  0.11446936 -0.14457935]\n",
            "  [ 0.03544743  0.03570451 -0.00228516]\n",
            "  [ 0.04147005  0.037381   -0.01222334]]\n",
            "\n",
            " [[-0.08918341 -0.04746325  0.11876029]\n",
            "  [-0.13129391 -0.071137    0.1478985 ]\n",
            "  [-0.00337427  0.01399431 -0.02701404]\n",
            "  [ 0.06780555  0.05312815 -0.10822886]\n",
            "  [ 0.13682339  0.09938297 -0.18392384]]]\n"
          ]
        }
      ],
      "source": [
        "def lstm(return_sequences=False):\n",
        "    inp = Input(shape=(T, D))\n",
        "    out = LSTM(U, return_sequences=return_sequences)(inp)\n",
        "\n",
        "    model = Model(inputs=inp, outputs=out)\n",
        "    return model.predict(X)\n",
        "\n",
        "print(\"---- return_sequences=False ----> last timestep 의 output 만 반환\")\n",
        "lstm_out = lstm(return_sequences=False)\n",
        "print(lstm_out.shape)\n",
        "print(lstm_out)\n",
        "\n",
        "print(\"\\n---- return_sequences=True ----> 모든 timestep 별 output 출력\")\n",
        "lstm_out = lstm(return_sequences=True)\n",
        "print(lstm_out.shape)\n",
        "print(lstm_out)"
      ]
    },
    {
      "cell_type": "markdown",
      "metadata": {
        "id": "HOz77oSnF3Hh"
      },
      "source": [
        "## return_state\n",
        "\n",
        "- False (default) - output 만 반환\n",
        "\n",
        "- True - output, last step 의 hidden state, cell state (LSTM 의 경우) 반환"
      ]
    },
    {
      "cell_type": "code",
      "execution_count": 6,
      "metadata": {
        "colab": {
          "base_uri": "https://localhost:8080/"
        },
        "id": "js8LLdQXF3Hi",
        "outputId": "b75c82d4-1d00-4b86-e372-5dcfe36fecad",
        "scrolled": true
      },
      "outputs": [
        {
          "output_type": "stream",
          "name": "stdout",
          "text": [
            "---- return_state=False ----> output only\n",
            "\u001b[1m1/1\u001b[0m \u001b[32m━━━━━━━━━━━━━━━━━━━━\u001b[0m\u001b[37m\u001b[0m \u001b[1m0s\u001b[0m 207ms/step\n",
            "o : (2, 3)\n",
            "[[ 0.01456037 -0.0042174   0.02722776]\n",
            " [ 0.02433373 -0.0124751   0.13426363]]\n",
            "\n",
            "---- return_state=True ----> output, hidden state, cell state all\n",
            "\u001b[1m1/1\u001b[0m \u001b[32m━━━━━━━━━━━━━━━━━━━━\u001b[0m\u001b[37m\u001b[0m \u001b[1m0s\u001b[0m 188ms/step\n",
            "o : (2, 3)\n",
            "[[ 0.0031897   0.00246153 -0.03190255]\n",
            " [ 0.01575843 -0.07051131 -0.09095763]]\n",
            "h : (2, 3)\n",
            "[[ 0.0031897   0.00246153 -0.03190255]\n",
            " [ 0.01575843 -0.07051131 -0.09095763]]\n",
            "c : (2, 3)\n",
            "[[ 0.00635538  0.00485226 -0.06430057]\n",
            " [ 0.03014722 -0.13212386 -0.18818294]]\n"
          ]
        }
      ],
      "source": [
        "def lstm(return_state=False):\n",
        "    inp = Input(shape=(T, D))\n",
        "    out = LSTM(U, return_state=return_state)(inp)\n",
        "\n",
        "    model = Model(inputs=inp, outputs=out)\n",
        "\n",
        "    if return_state:\n",
        "        o, h, c = model.predict(X)\n",
        "        print(\"o :\", o.shape)\n",
        "        print(o)\n",
        "        print(\"h :\", h.shape)\n",
        "        print(h)\n",
        "        print(\"c :\", c.shape)\n",
        "        print(c)\n",
        "    else:\n",
        "        o = model.predict(X)\n",
        "        print(\"o :\", o.shape)\n",
        "        print(o)\n",
        "\n",
        "print(\"---- return_state=False ----> output only\")\n",
        "lstm(return_state=False)\n",
        "print(\"\\n---- return_state=True ----> output, hidden state, cell state all\")\n",
        "lstm(return_state=True)"
      ]
    },
    {
      "cell_type": "markdown",
      "metadata": {
        "id": "Lzhij_1jF3Hj"
      },
      "source": [
        "# Bidirectional LSTM\n",
        "\n",
        "- 순방향, 역방향이 concatenate 된 output 출력  \n",
        "\n",
        "- hidden state, cell state 는 순방향, 역방향 별도 출력"
      ]
    },
    {
      "cell_type": "code",
      "execution_count": 7,
      "metadata": {
        "colab": {
          "base_uri": "https://localhost:8080/"
        },
        "id": "qHWIut5EF3Hj",
        "outputId": "bda11fde-3620-4ff0-c861-143c3fe50702"
      },
      "outputs": [
        {
          "output_type": "execute_result",
          "data": {
            "text/plain": [
              "(5, 1, 3)"
            ]
          },
          "metadata": {},
          "execution_count": 7
        }
      ],
      "source": [
        "T, D, U"
      ]
    },
    {
      "cell_type": "code",
      "execution_count": 8,
      "metadata": {
        "colab": {
          "base_uri": "https://localhost:8080/"
        },
        "id": "xRfP9p7aF3Hk",
        "outputId": "01b16351-0327-4c13-f7cc-3ac19f5b0e8a"
      },
      "outputs": [
        {
          "output_type": "stream",
          "name": "stdout",
          "text": [
            "*** 순방향, 역방향이 concatenate ***\n",
            "---- return_sequences=False ----> last timestep 의 output 만 반환\n",
            "\u001b[1m1/1\u001b[0m \u001b[32m━━━━━━━━━━━━━━━━━━━━\u001b[0m\u001b[37m\u001b[0m \u001b[1m0s\u001b[0m 340ms/step\n",
            "o : (2, 6)\n",
            "\n",
            "---- return_sequences=True ----> 모든 timestep 별 output 출력\n",
            "\u001b[1m1/1\u001b[0m \u001b[32m━━━━━━━━━━━━━━━━━━━━\u001b[0m\u001b[37m\u001b[0m \u001b[1m0s\u001b[0m 365ms/step\n",
            "o : (2, 5, 6)\n",
            "\n",
            "---- return_sequences=True, return_state=True\n",
            "\u001b[1m1/1\u001b[0m \u001b[32m━━━━━━━━━━━━━━━━━━━━\u001b[0m\u001b[37m\u001b[0m \u001b[1m0s\u001b[0m 364ms/step\n",
            "o : (2, 6)\n",
            "h1 : (2, 3)\n",
            "c1 : (2, 3)\n",
            "h2 : (2, 3)\n",
            "c2 : (2, 3)\n"
          ]
        }
      ],
      "source": [
        "def bi_lstm(return_sequences=False, return_state=False):\n",
        "    inp = Input(shape=(T, D))\n",
        "    out = Bidirectional(\n",
        "            LSTM(U, return_state=return_state, return_sequences=return_sequences))(inp)\n",
        "\n",
        "    model = Model(inputs=inp, outputs=out)\n",
        "\n",
        "    if return_state:\n",
        "        o, h1, c1, h2, c2 = model.predict(X)\n",
        "        print(\"o :\",o.shape)\n",
        "        print(\"h1 :\", h1.shape)\n",
        "        print(\"c1 :\", c1.shape)\n",
        "        print(\"h2 :\", h2.shape)\n",
        "        print(\"c2 :\", c2.shape)\n",
        "    else:\n",
        "        o = model.predict(X)\n",
        "        print(\"o :\", o.shape)\n",
        "\n",
        "print(\"*** 순방향, 역방향이 concatenate ***\")\n",
        "print(\"---- return_sequences=False ----> last timestep 의 output 만 반환\")\n",
        "bi_lstm(return_sequences=False, return_state=False)\n",
        "print()\n",
        "print(\"---- return_sequences=True ----> 모든 timestep 별 output 출력\")\n",
        "bi_lstm(return_sequences=True)\n",
        "print()\n",
        "print(\"---- return_sequences=True, return_state=True\")\n",
        "bi_lstm(return_state=True)"
      ]
    },
    {
      "cell_type": "code",
      "execution_count": 5,
      "metadata": {
        "id": "4RUEZBhKIlP2"
      },
      "outputs": [],
      "source": []
    }
  ],
  "metadata": {
    "colab": {
      "provenance": []
    },
    "kernelspec": {
      "display_name": "Python 3",
      "language": "python",
      "name": "python3"
    },
    "language_info": {
      "codemirror_mode": {
        "name": "ipython",
        "version": 3
      },
      "file_extension": ".py",
      "mimetype": "text/x-python",
      "name": "python",
      "nbconvert_exporter": "python",
      "pygments_lexer": "ipython3",
      "version": "3.9.7"
    }
  },
  "nbformat": 4,
  "nbformat_minor": 0
}