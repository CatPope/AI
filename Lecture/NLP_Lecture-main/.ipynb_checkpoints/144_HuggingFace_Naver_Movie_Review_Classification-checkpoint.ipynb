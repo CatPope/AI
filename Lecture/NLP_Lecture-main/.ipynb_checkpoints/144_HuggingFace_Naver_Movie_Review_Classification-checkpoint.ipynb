{
 "cells": [
  {
   "cell_type": "markdown",
   "metadata": {
    "colab_type": "text",
    "id": "izA3-6kffbdT"
   },
   "source": [
    "# 143. BERT Fine Tuning Naver 영화감상평 분류"
   ]
  },
  {
   "cell_type": "code",
   "execution_count": 4,
   "metadata": {
    "colab": {
     "base_uri": "https://localhost:8080/",
     "height": 35
    },
    "colab_type": "code",
    "id": "oC3MFzEHiY0I",
    "outputId": "4f3e946b-1e6d-48ed-b205-77119c0b9e94"
   },
   "outputs": [
    {
     "data": {
      "text/plain": [
       "device(type='cuda', index=0)"
      ]
     },
     "execution_count": 4,
     "metadata": {},
     "output_type": "execute_result"
    }
   ],
   "source": [
    "import torch\n",
    "    \n",
    "device = torch.device(\"cuda:0\" if torch.cuda.is_available() else \"cpu\")\n",
    "device"
   ]
  },
  {
   "cell_type": "code",
   "execution_count": 17,
   "metadata": {
    "colab": {},
    "colab_type": "code",
    "id": "VySQT1PbX4zI"
   },
   "outputs": [],
   "source": [
    "import numpy as np\n",
    "import pandas as pd\n",
    "import tensorflow as tf\n",
    "from tensorflow.keras.preprocessing.sequence import pad_sequences\n",
    "\n",
    "from transformers import *"
   ]
  },
  {
   "cell_type": "markdown",
   "metadata": {
    "colab_type": "text",
    "id": "zQ-42fh0hjsF"
   },
   "source": [
    "## Importing the dataset"
   ]
  },
  {
   "cell_type": "code",
   "execution_count": 13,
   "metadata": {
    "colab": {},
    "colab_type": "code",
    "id": "cyoj29J24hPX"
   },
   "outputs": [
    {
     "name": "stdout",
     "output_type": "stream",
     "text": [
      "Downloading data from https://raw.github.com/ironmanciti/NLP_lecture/master/data/naver_movie/ratings_test.txt\n",
      "4947968/4943336 [==============================] - 0s 0us/step\n"
     ]
    }
   ],
   "source": [
    "DATA_TRAIN_PATH = tf.keras.utils.get_file(\"ratings_train.txt\", \n",
    "                                \"https://raw.github.com/ironmanciti/NLP_lecture/master/data/naver_movie/ratings_train.txt\")\n",
    "DATA_TEST_PATH = tf.keras.utils.get_file(\"ratings_test.txt\", \n",
    "                                 \"https://raw.github.com/ironmanciti/NLP_lecture/master/data/naver_movie/ratings_test.txt\")"
   ]
  },
  {
   "cell_type": "code",
   "execution_count": 18,
   "metadata": {
    "colab": {
     "base_uri": "https://localhost:8080/",
     "height": 216
    },
    "colab_type": "code",
    "id": "aj322-y3iznR",
    "outputId": "71d707d5-be12-4db3-ecc9-f4c13468f948"
   },
   "outputs": [
    {
     "name": "stdout",
     "output_type": "stream",
     "text": [
      "(150000, 3)\n"
     ]
    },
    {
     "data": {
      "text/html": [
       "<div>\n",
       "<style scoped>\n",
       "    .dataframe tbody tr th:only-of-type {\n",
       "        vertical-align: middle;\n",
       "    }\n",
       "\n",
       "    .dataframe tbody tr th {\n",
       "        vertical-align: top;\n",
       "    }\n",
       "\n",
       "    .dataframe thead th {\n",
       "        text-align: right;\n",
       "    }\n",
       "</style>\n",
       "<table border=\"1\" class=\"dataframe\">\n",
       "  <thead>\n",
       "    <tr style=\"text-align: right;\">\n",
       "      <th></th>\n",
       "      <th>id</th>\n",
       "      <th>document</th>\n",
       "      <th>label</th>\n",
       "    </tr>\n",
       "  </thead>\n",
       "  <tbody>\n",
       "    <tr>\n",
       "      <th>0</th>\n",
       "      <td>9976970</td>\n",
       "      <td>아 더빙.. 진짜 짜증나네요 목소리</td>\n",
       "      <td>0</td>\n",
       "    </tr>\n",
       "    <tr>\n",
       "      <th>1</th>\n",
       "      <td>3819312</td>\n",
       "      <td>흠...포스터보고 초딩영화줄....오버연기조차 가볍지 않구나</td>\n",
       "      <td>1</td>\n",
       "    </tr>\n",
       "    <tr>\n",
       "      <th>2</th>\n",
       "      <td>10265843</td>\n",
       "      <td>너무재밓었다그래서보는것을추천한다</td>\n",
       "      <td>0</td>\n",
       "    </tr>\n",
       "    <tr>\n",
       "      <th>3</th>\n",
       "      <td>9045019</td>\n",
       "      <td>교도소 이야기구먼 ..솔직히 재미는 없다..평점 조정</td>\n",
       "      <td>0</td>\n",
       "    </tr>\n",
       "    <tr>\n",
       "      <th>4</th>\n",
       "      <td>6483659</td>\n",
       "      <td>사이몬페그의 익살스런 연기가 돋보였던 영화!스파이더맨에서 늙어보이기만 했던 커스틴 ...</td>\n",
       "      <td>1</td>\n",
       "    </tr>\n",
       "  </tbody>\n",
       "</table>\n",
       "</div>"
      ],
      "text/plain": [
       "         id                                           document  label\n",
       "0   9976970                                아 더빙.. 진짜 짜증나네요 목소리      0\n",
       "1   3819312                  흠...포스터보고 초딩영화줄....오버연기조차 가볍지 않구나      1\n",
       "2  10265843                                  너무재밓었다그래서보는것을추천한다      0\n",
       "3   9045019                      교도소 이야기구먼 ..솔직히 재미는 없다..평점 조정      0\n",
       "4   6483659  사이몬페그의 익살스런 연기가 돋보였던 영화!스파이더맨에서 늙어보이기만 했던 커스틴 ...      1"
      ]
     },
     "execution_count": 18,
     "metadata": {},
     "output_type": "execute_result"
    }
   ],
   "source": [
    "train_data = pd.read_csv(DATA_TRAIN_PATH, delimiter='\\t')\n",
    "print(train_data.shape)\n",
    "train_data.head()"
   ]
  },
  {
   "cell_type": "code",
   "execution_count": 19,
   "metadata": {
    "colab": {
     "base_uri": "https://localhost:8080/",
     "height": 196
    },
    "colab_type": "code",
    "id": "LXEN60Y8ykM0",
    "outputId": "89768810-5547-4849-ed3a-e1e0d99cc243"
   },
   "outputs": [
    {
     "name": "stdout",
     "output_type": "stream",
     "text": [
      "<class 'pandas.core.frame.DataFrame'>\n",
      "Int64Index: 149995 entries, 0 to 149999\n",
      "Data columns (total 3 columns):\n",
      " #   Column    Non-Null Count   Dtype \n",
      "---  ------    --------------   ----- \n",
      " 0   id        149995 non-null  int64 \n",
      " 1   document  149995 non-null  object\n",
      " 2   label     149995 non-null  int64 \n",
      "dtypes: int64(2), object(1)\n",
      "memory usage: 4.6+ MB\n"
     ]
    }
   ],
   "source": [
    "train_data.dropna(inplace=True)\n",
    "train_data.info()"
   ]
  },
  {
   "cell_type": "code",
   "execution_count": 20,
   "metadata": {
    "colab": {
     "base_uri": "https://localhost:8080/",
     "height": 216
    },
    "colab_type": "code",
    "id": "ywyQV5GGjBzZ",
    "outputId": "69d85e0f-f102-4ccd-98b8-425405405e80"
   },
   "outputs": [
    {
     "name": "stdout",
     "output_type": "stream",
     "text": [
      "(50000, 3)\n"
     ]
    },
    {
     "data": {
      "text/html": [
       "<div>\n",
       "<style scoped>\n",
       "    .dataframe tbody tr th:only-of-type {\n",
       "        vertical-align: middle;\n",
       "    }\n",
       "\n",
       "    .dataframe tbody tr th {\n",
       "        vertical-align: top;\n",
       "    }\n",
       "\n",
       "    .dataframe thead th {\n",
       "        text-align: right;\n",
       "    }\n",
       "</style>\n",
       "<table border=\"1\" class=\"dataframe\">\n",
       "  <thead>\n",
       "    <tr style=\"text-align: right;\">\n",
       "      <th></th>\n",
       "      <th>id</th>\n",
       "      <th>document</th>\n",
       "      <th>label</th>\n",
       "    </tr>\n",
       "  </thead>\n",
       "  <tbody>\n",
       "    <tr>\n",
       "      <th>0</th>\n",
       "      <td>6270596</td>\n",
       "      <td>굳 ㅋ</td>\n",
       "      <td>1</td>\n",
       "    </tr>\n",
       "    <tr>\n",
       "      <th>1</th>\n",
       "      <td>9274899</td>\n",
       "      <td>GDNTOPCLASSINTHECLUB</td>\n",
       "      <td>0</td>\n",
       "    </tr>\n",
       "    <tr>\n",
       "      <th>2</th>\n",
       "      <td>8544678</td>\n",
       "      <td>뭐야 이 평점들은.... 나쁘진 않지만 10점 짜리는 더더욱 아니잖아</td>\n",
       "      <td>0</td>\n",
       "    </tr>\n",
       "    <tr>\n",
       "      <th>3</th>\n",
       "      <td>6825595</td>\n",
       "      <td>지루하지는 않은데 완전 막장임... 돈주고 보기에는....</td>\n",
       "      <td>0</td>\n",
       "    </tr>\n",
       "    <tr>\n",
       "      <th>4</th>\n",
       "      <td>6723715</td>\n",
       "      <td>3D만 아니었어도 별 다섯 개 줬을텐데.. 왜 3D로 나와서 제 심기를 불편하게 하죠??</td>\n",
       "      <td>0</td>\n",
       "    </tr>\n",
       "  </tbody>\n",
       "</table>\n",
       "</div>"
      ],
      "text/plain": [
       "        id                                           document  label\n",
       "0  6270596                                                굳 ㅋ      1\n",
       "1  9274899                               GDNTOPCLASSINTHECLUB      0\n",
       "2  8544678             뭐야 이 평점들은.... 나쁘진 않지만 10점 짜리는 더더욱 아니잖아      0\n",
       "3  6825595                   지루하지는 않은데 완전 막장임... 돈주고 보기에는....      0\n",
       "4  6723715  3D만 아니었어도 별 다섯 개 줬을텐데.. 왜 3D로 나와서 제 심기를 불편하게 하죠??      0"
      ]
     },
     "execution_count": 20,
     "metadata": {},
     "output_type": "execute_result"
    }
   ],
   "source": [
    "test_data = pd.read_csv(DATA_TEST_PATH, delimiter='\\t')\n",
    "print(test_data.shape)\n",
    "test_data.head()"
   ]
  },
  {
   "cell_type": "code",
   "execution_count": 21,
   "metadata": {
    "colab": {
     "base_uri": "https://localhost:8080/",
     "height": 196
    },
    "colab_type": "code",
    "id": "zHwOiRLiyxth",
    "outputId": "8b6da557-8dc7-4e71-a5bf-ce483ca4c253"
   },
   "outputs": [
    {
     "name": "stdout",
     "output_type": "stream",
     "text": [
      "<class 'pandas.core.frame.DataFrame'>\n",
      "Int64Index: 49997 entries, 0 to 49999\n",
      "Data columns (total 3 columns):\n",
      " #   Column    Non-Null Count  Dtype \n",
      "---  ------    --------------  ----- \n",
      " 0   id        49997 non-null  int64 \n",
      " 1   document  49997 non-null  object\n",
      " 2   label     49997 non-null  int64 \n",
      "dtypes: int64(2), object(1)\n",
      "memory usage: 1.5+ MB\n"
     ]
    }
   ],
   "source": [
    "test_data.dropna(inplace=True)\n",
    "test_data.info()"
   ]
  },
  {
   "cell_type": "markdown",
   "metadata": {
    "colab_type": "text",
    "id": "PRc2L89hh1Tf"
   },
   "source": [
    "몇개의 sentence 가 \"positive\" (value 1) 이고 몇개가  \"negative\" (having the value 0) 인지 count"
   ]
  },
  {
   "cell_type": "code",
   "execution_count": 22,
   "metadata": {
    "colab": {
     "base_uri": "https://localhost:8080/",
     "height": 53
    },
    "colab_type": "code",
    "id": "TixERP1giznY",
    "outputId": "bfdcc4f6-2c7e-4bb5-effe-4bc5392dd6cb"
   },
   "outputs": [
    {
     "name": "stdout",
     "output_type": "stream",
     "text": [
      "(50000, 3)\n",
      "(5000, 3)\n"
     ]
    }
   ],
   "source": [
    "df_train = train_data.sample(n=50000, random_state=1)\n",
    "df_test = test_data.sample(n=5000, random_state=1)\n",
    "print(df_train.shape)\n",
    "print(df_test.shape)"
   ]
  },
  {
   "cell_type": "code",
   "execution_count": 23,
   "metadata": {
    "colab": {
     "base_uri": "https://localhost:8080/",
     "height": 71
    },
    "colab_type": "code",
    "id": "jGvcfcCP5xpZ",
    "outputId": "40168c3c-7486-481f-88f3-734692583fe9"
   },
   "outputs": [
    {
     "data": {
      "text/plain": [
       "0    25069\n",
       "1    24931\n",
       "Name: label, dtype: int64"
      ]
     },
     "execution_count": 23,
     "metadata": {},
     "output_type": "execute_result"
    }
   ],
   "source": [
    "df_train['label'].value_counts()"
   ]
  },
  {
   "cell_type": "markdown",
   "metadata": {
    "colab_type": "text",
    "id": "7_MO08_KiAOb"
   },
   "source": [
    "## Loading the Pre-trained BERT model"
   ]
  },
  {
   "cell_type": "code",
   "execution_count": 25,
   "metadata": {
    "colab": {},
    "colab_type": "code",
    "id": "uLuTdzsOZEsG"
   },
   "outputs": [],
   "source": [
    "tokenizer = BertTokenizer.from_pretrained('bert-base-multilingual-cased')\n",
    "\n",
    "model = BertModel.from_pretrained('bert-base-multilingual-cased')"
   ]
  },
  {
   "cell_type": "markdown",
   "metadata": {
    "colab_type": "text",
    "id": "lZDBMn3wiSX6"
   },
   "source": [
    "## Model #1: Preparing the Dataset\n",
    "문장을 BERT에 전달하려면 먼저 필요한 형식으로 문장을 처리하기 위해 최소한의 처리가 필요합니다.\n",
    "\n",
    "### Tokenization\n",
    "첫 번째 단계는 문장을 토큰화하는 것입니다. BERT가 원하는 형식으로 word 와 subword 로 나눕니다."
   ]
  },
  {
   "cell_type": "code",
   "execution_count": 12,
   "metadata": {
    "colab": {
     "base_uri": "https://localhost:8080/",
     "height": 53
    },
    "colab_type": "code",
    "id": "Dg82ndBA5xlN",
    "outputId": "88f9b05f-2d83-4d7c-dabc-c0dbf547847d"
   },
   "outputs": [
    {
     "name": "stdout",
     "output_type": "stream",
     "text": [
      "CPU times: user 13.2 s, sys: 85.5 ms, total: 13.3 s\n",
      "Wall time: 13.3 s\n"
     ]
    }
   ],
   "source": [
    "%%time\n",
    "tokenized_train = df_train['document'].apply((lambda x: tokenizer.encode(x, add_special_tokens=True)))\n",
    "tokenized_test = df_test['document'].apply((lambda x: tokenizer.encode(x, add_special_tokens=True)))"
   ]
  },
  {
   "cell_type": "markdown",
   "metadata": {
    "colab_type": "text",
    "id": "mHwjUwYgi-uL"
   },
   "source": [
    "### Padding\n",
    "\n",
    "토큰 화 후, 각 문장은 토큰 list 로 표시됩니다. BERT 가 example 을 one batch 로 한 번에 처리하도록 하기 위해 padding 에 의해 같은 길이의 list 로 만들어야 하고 이것을 2-d array 로 표시합니다."
   ]
  },
  {
   "cell_type": "code",
   "execution_count": 13,
   "metadata": {
    "colab": {
     "base_uri": "https://localhost:8080/",
     "height": 163
    },
    "colab_type": "code",
    "id": "jnO_olqbbrlT",
    "outputId": "fb7fa21e-18fd-498f-d14c-64bdddb77804"
   },
   "outputs": [
    {
     "data": {
      "text/plain": [
       "array([list([101, 113, 9926, 34907, 20626, 58931, 24974, 122, 114, 9532, 25503, 12030, 28911, 9367, 19855, 47869, 9682, 9634, 21386, 136, 8924, 11261, 119351, 12605, 20308, 12453, 117, 9792, 73352, 21876, 20173, 9294, 36553, 11287, 52560, 9391, 11664, 9640, 18784, 12030, 12508, 9304, 12508, 19709, 9684, 52560, 10892, 8932, 118651, 14523, 48549, 119, 8905, 119377, 11102, 117, 9604, 78123, 11102, 117, 9684, 89523, 42769, 15387, 9792, 73352, 21876, 20173, 47058, 8982, 28188, 11664, 9294, 36553, 11287, 52560, 9597, 10530, 19709, 9792, 73352, 21876, 100698, 11018, 9670, 14871, 15387, 9637, 12945, 22333, 43022, 113, 9069, 18227, 114, 63783, 9641, 42337, 14801, 119, 119, 102]),\n",
       "       list([101, 68409, 108578, 25258, 9569, 25486, 10739, 9246, 32158, 10530, 9117, 119138, 119081, 48345, 102]),\n",
       "       list([101, 9294, 12508, 118907, 12508, 17594, 9706, 35866, 48533, 119, 84703, 20173, 9519, 118671, 119169, 119, 8996, 24974, 12092, 9531, 118809, 119136, 11664, 9353, 11261, 71568, 82823, 8996, 24974, 12092, 9555, 11664, 9065, 118775, 48533, 119, 110148, 11513, 9682, 54141, 9471, 14153, 9356, 29935, 16323, 23990, 12508, 119, 119, 119, 119, 9638, 12092, 9663, 12092, 9519, 25503, 11664, 8996, 11287, 9460, 68055, 55635, 37909, 12424, 8982, 32537, 11287, 37909, 41605, 27654, 9041, 118713, 119, 119, 119, 9065, 118775, 32679, 119, 119, 102]),\n",
       "       ...,\n",
       "       list([101, 8933, 13890, 105197, 9848, 16323, 37341, 9091, 16985, 11903, 25503, 11018, 9657, 14867, 13890, 14867, 9519, 33077, 12092, 9420, 66540, 33305, 11903, 102]),\n",
       "       list([101, 9379, 66016, 24974, 42428, 28578, 9359, 19105, 35506, 18623, 9523, 11903, 102]),\n",
       "       list([101, 9659, 118959, 32158, 119, 119, 119, 102])], dtype=object)"
      ]
     },
     "execution_count": 13,
     "metadata": {
      "tags": []
     },
     "output_type": "execute_result"
    }
   ],
   "source": [
    "tokenized_train.values"
   ]
  },
  {
   "cell_type": "code",
   "execution_count": 14,
   "metadata": {
    "colab": {
     "base_uri": "https://localhost:8080/",
     "height": 73
    },
    "colab_type": "code",
    "id": "__4a1oW1iY0v",
    "outputId": "945b1c67-4236-4eeb-a071-482f32c3cbbc"
   },
   "outputs": [
    {
     "name": "stdout",
     "output_type": "stream",
     "text": [
      "[CLS] ( 평점조절용 1 ) 애니인데 분위기가 좀 음산? 그로테스크하고, 캐릭터들이 무민가족 빼고 인간인지 뭔지 다른 종족은 기괴해요. 괴팍한, 우울한, 종말론적인 캐릭터들이 많이 나오고 무민가족 외에 다른 캐릭터간에는 정상적인 의사소통 ( 대화 ) 아닌 일방적.. [SEP]\n",
      "[CLS] 성조기를 들고 날으는 슈퍼맨... 영화는 좋았지만 어쩔수 없다 [SEP]\n"
     ]
    }
   ],
   "source": [
    "print(tokenizer.decode(tokenized_train.values[0]))\n",
    "print(tokenizer.decode(tokenized_test.values[-1]))"
   ]
  },
  {
   "cell_type": "code",
   "execution_count": 15,
   "metadata": {
    "colab": {
     "base_uri": "https://localhost:8080/",
     "height": 35
    },
    "colab_type": "code",
    "id": "wtHEe8GRb9jM",
    "outputId": "0ee5d6ec-cf8a-4179-fa6d-8951f3cb4a31"
   },
   "outputs": [
    {
     "data": {
      "text/plain": [
       "142"
      ]
     },
     "execution_count": 15,
     "metadata": {
      "tags": []
     },
     "output_type": "execute_result"
    }
   ],
   "source": [
    "max_len = max([len(i) for i in tokenized_train.values] + [len(i) for i in tokenized_test.values])\n",
    "max_len"
   ]
  },
  {
   "cell_type": "code",
   "execution_count": 16,
   "metadata": {
    "colab": {
     "base_uri": "https://localhost:8080/",
     "height": 269
    },
    "colab_type": "code",
    "id": "cwd6NzeQ6lyP",
    "outputId": "90a12b67-5584-4e68-d34c-5b43ff21c474"
   },
   "outputs": [
    {
     "data": {
      "image/png": "[encoded data removed]",
      "text/plain": [
       "<Figure size 432x288 with 1 Axes>"
      ]
     },
     "metadata": {
      "needs_background": "light",
      "tags": []
     },
     "output_type": "display_data"
    }
   ],
   "source": [
    "import matplotlib.pyplot as plt\n",
    "plt.hist([len(i) for i in tokenized_train.values] + [len(i) for i in tokenized_test.values], bins=50)\n",
    "None"
   ]
  },
  {
   "cell_type": "code",
   "execution_count": 17,
   "metadata": {
    "colab": {
     "base_uri": "https://localhost:8080/",
     "height": 286
    },
    "colab_type": "code",
    "id": "ffBfz17dcP64",
    "outputId": "42cdb4ee-0373-40b8-cb12-610578781e24"
   },
   "outputs": [
    {
     "name": "stdout",
     "output_type": "stream",
     "text": [
      "[[   101    113   9926 ...   9640  18784  12030]\n",
      " [   101  68409 108578 ...      0      0      0]\n",
      " [   101   9294  12508 ...  11513   9682  54141]\n",
      " ...\n",
      " [   101   8933  13890 ...      0      0      0]\n",
      " [   101   9379  66016 ...      0      0      0]\n",
      " [   101   9659 118959 ...      0      0      0]]\n",
      "-------------------------------------------------------------\n",
      "[[  101  9405 62200 ...     0     0     0]\n",
      " [  101  9328 40032 ...     0     0     0]\n",
      " [  101 10709 86181 ...     0     0     0]\n",
      " ...\n",
      " [  101 62849 17655 ...     0     0     0]\n",
      " [  101  9706 16439 ... 13764 61250 10739]\n",
      " [  101  9434 20626 ...     0     0     0]]\n"
     ]
    }
   ],
   "source": [
    "max_len = 40\n",
    "\n",
    "padded_train = pad_sequences(tokenized_train.values, maxlen=max_len, padding='post', truncating='post')\n",
    "padded_test = pad_sequences(tokenized_test.values, maxlen=max_len, padding='post', truncating='post')\n",
    "print(padded_train)\n",
    "print('-------------------------------------------------------------')\n",
    "print(padded_test)"
   ]
  },
  {
   "cell_type": "code",
   "execution_count": 18,
   "metadata": {
    "colab": {
     "base_uri": "https://localhost:8080/",
     "height": 53
    },
    "colab_type": "code",
    "id": "ZKC0wbCCdDR2",
    "outputId": "a5d75221-6b41-476c-ad3d-73a02a45eaf0"
   },
   "outputs": [
    {
     "name": "stdout",
     "output_type": "stream",
     "text": [
      "(50000, 40)\n",
      "(5000, 40)\n"
     ]
    }
   ],
   "source": [
    "print(padded_train.shape)\n",
    "print(padded_test.shape)"
   ]
  },
  {
   "cell_type": "markdown",
   "metadata": {
    "colab_type": "text",
    "id": "sDZBsYSDjzDV"
   },
   "source": [
    "### Masking\n",
    "입력을 처리 할 때 추가 한 패딩을 무시(마스크)하도록 다른 변수를 만들어야 하는데, 이 것을 attention_mask 라 합니다."
   ]
  },
  {
   "cell_type": "code",
   "execution_count": 19,
   "metadata": {
    "colab": {
     "base_uri": "https://localhost:8080/",
     "height": 53
    },
    "colab_type": "code",
    "id": "12fHKXErdhui",
    "outputId": "030527fb-85b2-49bc-b3f4-dbf6350a52a3"
   },
   "outputs": [
    {
     "name": "stdout",
     "output_type": "stream",
     "text": [
      "(50000, 40)\n",
      "(5000, 40)\n"
     ]
    }
   ],
   "source": [
    "attention_mask_train = np.where(padded_train !=0, 1, 0 )\n",
    "attention_mask_test = np.where(padded_test !=0, 1, 0 )\n",
    "print(attention_mask_train.shape)\n",
    "print(attention_mask_test.shape)"
   ]
  },
  {
   "cell_type": "markdown",
   "metadata": {
    "colab_type": "text",
    "id": "jK-CQB9-kN99"
   },
   "source": [
    "## Model #1: And Now, Deep Learning!\n",
    "\n",
    "`model ()`함수는 BERT를 통해 문장을 실행합니다. 처리 결과는`last_hidden_states`로 반환됩니다."
   ]
  },
  {
   "cell_type": "code",
   "execution_count": null,
   "metadata": {
    "colab": {},
    "colab_type": "code",
    "id": "39UVjAV56PJz"
   },
   "outputs": [],
   "source": [
    "model.to(device)\n",
    "\n",
    "input_ids_train = torch.tensor(padded_train).to(torch.int64)\n",
    "attention_mask_train = torch.tensor(attention_mask_train)\n",
    "\n",
    "input_ids_test = torch.tensor(padded_test).to(torch.int64)\n",
    "attention_mask_test = torch.tensor(attention_mask_test)"
   ]
  },
  {
   "cell_type": "code",
   "execution_count": null,
   "metadata": {
    "colab": {},
    "colab_type": "code",
    "id": "hP-OYF2KiY1D"
   },
   "outputs": [],
   "source": [
    "from torch.utils.data import TensorDataset, DataLoader\n",
    "BATCH_SIZE = 128\n",
    "\n",
    "dataset_train = TensorDataset(input_ids_train, attention_mask_train)\n",
    "dataloader_train = DataLoader(dataset_train, batch_size=BATCH_SIZE)\n",
    "\n",
    "dataset_test = TensorDataset(input_ids_test, attention_mask_test)\n",
    "dataloader_test = DataLoader(dataset_test, batch_size=BATCH_SIZE)"
   ]
  },
  {
   "cell_type": "code",
   "execution_count": 22,
   "metadata": {
    "colab": {
     "base_uri": "https://localhost:8080/",
     "height": 35
    },
    "colab_type": "code",
    "id": "bIpEmYLbiY1H",
    "outputId": "5629132f-491f-44e4-d43e-57e57dcb421e"
   },
   "outputs": [
    {
     "name": "stdout",
     "output_type": "stream",
     "text": [
      "elapse time: 505.19808316230774\n"
     ]
    }
   ],
   "source": [
    "import time\n",
    "s = time.time()\n",
    "\n",
    "with torch.no_grad():\n",
    "    last_hidden_states_train = []\n",
    "    for batch in dataloader_train:\n",
    "        hidden = model(batch[0].to(device), batch[1].to(device))\n",
    "        if len(last_hidden_states_train) == 0:\n",
    "            last_hidden_states_train = hidden[0].to(\"cpu\")\n",
    "        else:\n",
    "            last_hidden_states_train = torch.cat((last_hidden_states_train, hidden[0].to(\"cpu\")), dim=0)\n",
    "            torch.cuda.empty_cache()\n",
    "\n",
    "    last_hidden_states_test = []\n",
    "    for batch in dataloader_test:\n",
    "        hidden = model(batch[0].to(device), batch[1].to(device))\n",
    "        if len(last_hidden_states_test) == 0:\n",
    "            last_hidden_states_test = hidden[0].to(\"cpu\")\n",
    "        else:\n",
    "            last_hidden_states_test = torch.cat((last_hidden_states_test, hidden[0].to(\"cpu\")), dim=0)\n",
    "            torch.cuda.empty_cache()\n",
    "\n",
    "print(f\"elapse time: {time.time() - s}\")"
   ]
  },
  {
   "cell_type": "code",
   "execution_count": 23,
   "metadata": {
    "colab": {
     "base_uri": "https://localhost:8080/",
     "height": 53
    },
    "colab_type": "code",
    "id": "GSzxCntXiY1J",
    "outputId": "e113caa7-c281-4e82-f1de-3b56d75229bf"
   },
   "outputs": [
    {
     "name": "stdout",
     "output_type": "stream",
     "text": [
      "torch.Size([50000, 40, 768])\n",
      "torch.Size([5000, 40, 768])\n"
     ]
    }
   ],
   "source": [
    "print(last_hidden_states_train.shape)\n",
    "print(last_hidden_states_test.shape)"
   ]
  },
  {
   "cell_type": "markdown",
   "metadata": {
    "colab_type": "text",
    "id": "FoCep_WVuB3v"
   },
   "source": [
    "필요한 출력 부분 만 슬라이스합시다. 그것은 각 문장의 첫 번째 토큰에 해당하는 출력입니다. BERT가 문장 분류를하는 방식은 모든 문장의 시작 부분에`[CLS]`(분류 용)라는 토큰을 추가하는 것입니다. 해당 토큰에 해당하는 출력은 전체 문장에 대한 임베딩으로 간주 될 수 있습니다.\n",
    "\n",
    "로지스틱 회귀 모델의 feature 로 사용되므로`features` 변수에 저장합니다."
   ]
  },
  {
   "cell_type": "code",
   "execution_count": 24,
   "metadata": {
    "colab": {
     "base_uri": "https://localhost:8080/",
     "height": 53
    },
    "colab_type": "code",
    "id": "C9t60At16PVs",
    "outputId": "56924b0c-6530-4a6b-e9c0-353136c3b436"
   },
   "outputs": [
    {
     "name": "stdout",
     "output_type": "stream",
     "text": [
      "torch.Size([50000, 768])\n",
      "torch.Size([5000, 768])\n"
     ]
    }
   ],
   "source": [
    "features_train = last_hidden_states_train[:,0,:]\n",
    "features_test = last_hidden_states_test[:,0,:]\n",
    "print(features_train.shape)\n",
    "print(features_test.shape)"
   ]
  },
  {
   "cell_type": "markdown",
   "metadata": {
    "colab_type": "text",
    "id": "_VZVU66Gurr-"
   },
   "source": [
    "The labels indicating which sentence is positive and negative now go into the `labels` variable"
   ]
  },
  {
   "cell_type": "code",
   "execution_count": 25,
   "metadata": {
    "colab": {
     "base_uri": "https://localhost:8080/",
     "height": 53
    },
    "colab_type": "code",
    "id": "JD3fX2yh6PTx",
    "outputId": "3079e7d2-84e6-451c-cf79-bcea8b30ffbe"
   },
   "outputs": [
    {
     "name": "stdout",
     "output_type": "stream",
     "text": [
      "torch.Size([50000])\n",
      "torch.Size([5000])\n"
     ]
    }
   ],
   "source": [
    "labels_train = torch.tensor(df_train['label'].values.astype(\"float32\"))\n",
    "labels_test = torch.tensor(df_test['label'].values.astype(\"float32\"))\n",
    "\n",
    "print(labels_train.shape)\n",
    "print(labels_test.shape)"
   ]
  },
  {
   "cell_type": "markdown",
   "metadata": {
    "colab_type": "text",
    "id": "KCT9u8vAwnID"
   },
   "source": [
    "## We now train the LogisticRegression model. "
   ]
  },
  {
   "cell_type": "code",
   "execution_count": null,
   "metadata": {
    "colab": {},
    "colab_type": "code",
    "id": "Ho4LVY5lOMos"
   },
   "outputs": [],
   "source": [
    "import torch.nn as nn\n",
    "\n",
    "class LogisticRegression(nn.Module):\n",
    "    def __init__(self, n_inputs):\n",
    "        super().__init__()\n",
    "        self.linear1 = nn.Linear(n_inputs, 128)\n",
    "        self.linear2 = nn.Linear(128, 64)\n",
    "        self.linear3 = nn.Linear(64, 1)\n",
    "\n",
    "    def forward(self, x):\n",
    "        x = self.linear1(x)\n",
    "        x = self.linear2(torch.relu(x))\n",
    "        yhat = torch.sigmoid(self.linear3(torch.relu(x)))\n",
    "        return yhat"
   ]
  },
  {
   "cell_type": "code",
   "execution_count": 27,
   "metadata": {
    "colab": {
     "base_uri": "https://localhost:8080/",
     "height": 107
    },
    "colab_type": "code",
    "id": "lKnJHqhwOuz1",
    "outputId": "4401cc45-d347-4e7f-ca4c-1afc535a65f8"
   },
   "outputs": [
    {
     "data": {
      "text/plain": [
       "LogisticRegression(\n",
       "  (linear1): Linear(in_features=768, out_features=128, bias=True)\n",
       "  (linear2): Linear(in_features=128, out_features=64, bias=True)\n",
       "  (linear3): Linear(in_features=64, out_features=1, bias=True)\n",
       ")"
      ]
     },
     "execution_count": 27,
     "metadata": {
      "tags": []
     },
     "output_type": "execute_result"
    }
   ],
   "source": [
    "classifier = LogisticRegression(features_train.shape[1])\n",
    "classifier.to(device)"
   ]
  },
  {
   "cell_type": "code",
   "execution_count": null,
   "metadata": {
    "colab": {},
    "colab_type": "code",
    "id": "t3xGoHIKPAcv"
   },
   "outputs": [],
   "source": [
    "criterion = nn.BCELoss()\n",
    "optimizer = torch.optim.SGD(classifier.parameters(), lr=0.1)"
   ]
  },
  {
   "cell_type": "code",
   "execution_count": null,
   "metadata": {
    "colab": {},
    "colab_type": "code",
    "id": "tswsyIlAP59I"
   },
   "outputs": [],
   "source": [
    "BATCH_SIZE = 64\n",
    "\n",
    "dataset_train = TensorDataset(features_train, labels_train)\n",
    "loader_train = DataLoader(dataset_train, batch_size=BATCH_SIZE)\n",
    "\n",
    "dataset_test = TensorDataset(features_test, labels_test)\n",
    "loader_test = DataLoader(dataset_test, batch_size=BATCH_SIZE)"
   ]
  },
  {
   "cell_type": "code",
   "execution_count": 30,
   "metadata": {
    "colab": {
     "base_uri": "https://localhost:8080/",
     "height": 198
    },
    "colab_type": "code",
    "id": "a4Huhe_1PAND",
    "outputId": "c03e5e15-94ed-4193-a196-80a45841248d"
   },
   "outputs": [
    {
     "name": "stderr",
     "output_type": "stream",
     "text": [
      "/usr/local/lib/python3.6/dist-packages/torch/nn/modules/loss.py:516: UserWarning: Using a target size (torch.Size([64])) that is different to the input size (torch.Size([64, 1])) is deprecated. Please ensure they have the same size.\n",
      "  return F.binary_cross_entropy(input, target, weight=self.weight, reduction=self.reduction)\n",
      "/usr/local/lib/python3.6/dist-packages/torch/nn/modules/loss.py:516: UserWarning: Using a target size (torch.Size([16])) that is different to the input size (torch.Size([16, 1])) is deprecated. Please ensure they have the same size.\n",
      "  return F.binary_cross_entropy(input, target, weight=self.weight, reduction=self.reduction)\n"
     ]
    },
    {
     "name": "stdout",
     "output_type": "stream",
     "text": [
      "epoch--- 0\n",
      "epoch--- 20\n",
      "epoch--- 40\n",
      "epoch--- 60\n",
      "epoch--- 80\n"
     ]
    }
   ],
   "source": [
    "LOSS = []\n",
    "\n",
    "for epoch in range(100):\n",
    "    for i, (x, y) in enumerate(loader_train):\n",
    "        yhat = classifier(x.to(device))\n",
    "        loss = criterion(yhat.to(\"cpu\"), y)\n",
    "        optimizer.zero_grad()\n",
    "        loss.backward()\n",
    "        optimizer.step()\n",
    "        LOSS.append(loss)\n",
    "    if epoch % 20 == 0:\n",
    "        print(\"epoch---\", epoch)"
   ]
  },
  {
   "cell_type": "code",
   "execution_count": 84,
   "metadata": {
    "colab": {
     "base_uri": "https://localhost:8080/",
     "height": 1000
    },
    "colab_type": "code",
    "id": "XMspjCI8pkhG",
    "outputId": "92cdcee8-0c6f-4ac1-f69b-f65dadc3ee3b"
   },
   "outputs": [
    {
     "data": {
      "text/plain": [
       "[tensor(0.6907, grad_fn=<BinaryCrossEntropyBackward>),\n",
       " tensor(0.6888, grad_fn=<BinaryCrossEntropyBackward>),\n",
       " tensor(0.7000, grad_fn=<BinaryCrossEntropyBackward>),\n",
       " tensor(0.6915, grad_fn=<BinaryCrossEntropyBackward>),\n",
       " tensor(0.6935, grad_fn=<BinaryCrossEntropyBackward>),\n",
       " tensor(0.6959, grad_fn=<BinaryCrossEntropyBackward>),\n",
       " tensor(0.6976, grad_fn=<BinaryCrossEntropyBackward>),\n",
       " tensor(0.6922, grad_fn=<BinaryCrossEntropyBackward>),\n",
       " tensor(0.6981, grad_fn=<BinaryCrossEntropyBackward>),\n",
       " tensor(0.6917, grad_fn=<BinaryCrossEntropyBackward>),\n",
       " tensor(0.6941, grad_fn=<BinaryCrossEntropyBackward>),\n",
       " tensor(0.6921, grad_fn=<BinaryCrossEntropyBackward>),\n",
       " tensor(0.6996, grad_fn=<BinaryCrossEntropyBackward>),\n",
       " tensor(0.6900, grad_fn=<BinaryCrossEntropyBackward>),\n",
       " tensor(0.6943, grad_fn=<BinaryCrossEntropyBackward>),\n",
       " tensor(0.6932, grad_fn=<BinaryCrossEntropyBackward>),\n",
       " tensor(0.6941, grad_fn=<BinaryCrossEntropyBackward>),\n",
       " tensor(0.6951, grad_fn=<BinaryCrossEntropyBackward>),\n",
       " tensor(0.6947, grad_fn=<BinaryCrossEntropyBackward>),\n",
       " tensor(0.6942, grad_fn=<BinaryCrossEntropyBackward>),\n",
       " tensor(0.6939, grad_fn=<BinaryCrossEntropyBackward>),\n",
       " tensor(0.6985, grad_fn=<BinaryCrossEntropyBackward>),\n",
       " tensor(0.6955, grad_fn=<BinaryCrossEntropyBackward>),\n",
       " tensor(0.6913, grad_fn=<BinaryCrossEntropyBackward>),\n",
       " tensor(0.6908, grad_fn=<BinaryCrossEntropyBackward>),\n",
       " tensor(0.6926, grad_fn=<BinaryCrossEntropyBackward>),\n",
       " tensor(0.6909, grad_fn=<BinaryCrossEntropyBackward>),\n",
       " tensor(0.6892, grad_fn=<BinaryCrossEntropyBackward>),\n",
       " tensor(0.6914, grad_fn=<BinaryCrossEntropyBackward>),\n",
       " tensor(0.6968, grad_fn=<BinaryCrossEntropyBackward>),\n",
       " tensor(0.6956, grad_fn=<BinaryCrossEntropyBackward>),\n",
       " tensor(0.6912, grad_fn=<BinaryCrossEntropyBackward>),\n",
       " tensor(0.6927, grad_fn=<BinaryCrossEntropyBackward>),\n",
       " tensor(0.6911, grad_fn=<BinaryCrossEntropyBackward>),\n",
       " tensor(0.6906, grad_fn=<BinaryCrossEntropyBackward>),\n",
       " tensor(0.6928, grad_fn=<BinaryCrossEntropyBackward>),\n",
       " tensor(0.6836, grad_fn=<BinaryCrossEntropyBackward>),\n",
       " tensor(0.6796, grad_fn=<BinaryCrossEntropyBackward>),\n",
       " tensor(0.6940, grad_fn=<BinaryCrossEntropyBackward>),\n",
       " tensor(0.6845, grad_fn=<BinaryCrossEntropyBackward>),\n",
       " tensor(0.6920, grad_fn=<BinaryCrossEntropyBackward>),\n",
       " tensor(0.6916, grad_fn=<BinaryCrossEntropyBackward>),\n",
       " tensor(0.7015, grad_fn=<BinaryCrossEntropyBackward>),\n",
       " tensor(0.6887, grad_fn=<BinaryCrossEntropyBackward>),\n",
       " tensor(0.6831, grad_fn=<BinaryCrossEntropyBackward>),\n",
       " tensor(0.6812, grad_fn=<BinaryCrossEntropyBackward>),\n",
       " tensor(0.6787, grad_fn=<BinaryCrossEntropyBackward>),\n",
       " tensor(0.6889, grad_fn=<BinaryCrossEntropyBackward>),\n",
       " tensor(0.6932, grad_fn=<BinaryCrossEntropyBackward>),\n",
       " tensor(0.6923, grad_fn=<BinaryCrossEntropyBackward>),\n",
       " tensor(0.7031, grad_fn=<BinaryCrossEntropyBackward>),\n",
       " tensor(0.6896, grad_fn=<BinaryCrossEntropyBackward>),\n",
       " tensor(0.6884, grad_fn=<BinaryCrossEntropyBackward>),\n",
       " tensor(0.6857, grad_fn=<BinaryCrossEntropyBackward>),\n",
       " tensor(0.6870, grad_fn=<BinaryCrossEntropyBackward>),\n",
       " tensor(0.6982, grad_fn=<BinaryCrossEntropyBackward>),\n",
       " tensor(0.6898, grad_fn=<BinaryCrossEntropyBackward>),\n",
       " tensor(0.6889, grad_fn=<BinaryCrossEntropyBackward>),\n",
       " tensor(0.6902, grad_fn=<BinaryCrossEntropyBackward>),\n",
       " tensor(0.6872, grad_fn=<BinaryCrossEntropyBackward>),\n",
       " tensor(0.6873, grad_fn=<BinaryCrossEntropyBackward>),\n",
       " tensor(0.6935, grad_fn=<BinaryCrossEntropyBackward>),\n",
       " tensor(0.6855, grad_fn=<BinaryCrossEntropyBackward>),\n",
       " tensor(0.6831, grad_fn=<BinaryCrossEntropyBackward>),\n",
       " tensor(0.6844, grad_fn=<BinaryCrossEntropyBackward>),\n",
       " tensor(0.6936, grad_fn=<BinaryCrossEntropyBackward>),\n",
       " tensor(0.6924, grad_fn=<BinaryCrossEntropyBackward>),\n",
       " tensor(0.6869, grad_fn=<BinaryCrossEntropyBackward>),\n",
       " tensor(0.6854, grad_fn=<BinaryCrossEntropyBackward>),\n",
       " tensor(0.6843, grad_fn=<BinaryCrossEntropyBackward>),\n",
       " tensor(0.6837, grad_fn=<BinaryCrossEntropyBackward>),\n",
       " tensor(0.6866, grad_fn=<BinaryCrossEntropyBackward>),\n",
       " tensor(0.6845, grad_fn=<BinaryCrossEntropyBackward>),\n",
       " tensor(0.6830, grad_fn=<BinaryCrossEntropyBackward>),\n",
       " tensor(0.6941, grad_fn=<BinaryCrossEntropyBackward>),\n",
       " tensor(0.6871, grad_fn=<BinaryCrossEntropyBackward>),\n",
       " tensor(0.6845, grad_fn=<BinaryCrossEntropyBackward>),\n",
       " tensor(0.6795, grad_fn=<BinaryCrossEntropyBackward>),\n",
       " tensor(0.6887, grad_fn=<BinaryCrossEntropyBackward>),\n",
       " tensor(0.6864, grad_fn=<BinaryCrossEntropyBackward>),\n",
       " tensor(0.6850, grad_fn=<BinaryCrossEntropyBackward>),\n",
       " tensor(0.6817, grad_fn=<BinaryCrossEntropyBackward>),\n",
       " tensor(0.6837, grad_fn=<BinaryCrossEntropyBackward>),\n",
       " tensor(0.6868, grad_fn=<BinaryCrossEntropyBackward>),\n",
       " tensor(0.6819, grad_fn=<BinaryCrossEntropyBackward>),\n",
       " tensor(0.6892, grad_fn=<BinaryCrossEntropyBackward>),\n",
       " tensor(0.6876, grad_fn=<BinaryCrossEntropyBackward>),\n",
       " tensor(0.6822, grad_fn=<BinaryCrossEntropyBackward>),\n",
       " tensor(0.6768, grad_fn=<BinaryCrossEntropyBackward>),\n",
       " tensor(0.6906, grad_fn=<BinaryCrossEntropyBackward>),\n",
       " tensor(0.6846, grad_fn=<BinaryCrossEntropyBackward>),\n",
       " tensor(0.6918, grad_fn=<BinaryCrossEntropyBackward>),\n",
       " tensor(0.6840, grad_fn=<BinaryCrossEntropyBackward>),\n",
       " tensor(0.6871, grad_fn=<BinaryCrossEntropyBackward>),\n",
       " tensor(0.6868, grad_fn=<BinaryCrossEntropyBackward>),\n",
       " tensor(0.6837, grad_fn=<BinaryCrossEntropyBackward>),\n",
       " tensor(0.6884, grad_fn=<BinaryCrossEntropyBackward>),\n",
       " tensor(0.6822, grad_fn=<BinaryCrossEntropyBackward>),\n",
       " tensor(0.6843, grad_fn=<BinaryCrossEntropyBackward>),\n",
       " tensor(0.6795, grad_fn=<BinaryCrossEntropyBackward>),\n",
       " tensor(0.6752, grad_fn=<BinaryCrossEntropyBackward>),\n",
       " tensor(0.6838, grad_fn=<BinaryCrossEntropyBackward>),\n",
       " tensor(0.7016, grad_fn=<BinaryCrossEntropyBackward>),\n",
       " tensor(0.6915, grad_fn=<BinaryCrossEntropyBackward>),\n",
       " tensor(0.6838, grad_fn=<BinaryCrossEntropyBackward>),\n",
       " tensor(0.6795, grad_fn=<BinaryCrossEntropyBackward>),\n",
       " tensor(0.6792, grad_fn=<BinaryCrossEntropyBackward>),\n",
       " tensor(0.6833, grad_fn=<BinaryCrossEntropyBackward>),\n",
       " tensor(0.6948, grad_fn=<BinaryCrossEntropyBackward>),\n",
       " tensor(0.6634, grad_fn=<BinaryCrossEntropyBackward>),\n",
       " tensor(0.6788, grad_fn=<BinaryCrossEntropyBackward>),\n",
       " tensor(0.6853, grad_fn=<BinaryCrossEntropyBackward>),\n",
       " tensor(0.6792, grad_fn=<BinaryCrossEntropyBackward>),\n",
       " tensor(0.6841, grad_fn=<BinaryCrossEntropyBackward>),\n",
       " tensor(0.6893, grad_fn=<BinaryCrossEntropyBackward>),\n",
       " tensor(0.6923, grad_fn=<BinaryCrossEntropyBackward>),\n",
       " tensor(0.6748, grad_fn=<BinaryCrossEntropyBackward>),\n",
       " tensor(0.6891, grad_fn=<BinaryCrossEntropyBackward>),\n",
       " tensor(0.6726, grad_fn=<BinaryCrossEntropyBackward>),\n",
       " tensor(0.7015, grad_fn=<BinaryCrossEntropyBackward>),\n",
       " tensor(0.6723, grad_fn=<BinaryCrossEntropyBackward>),\n",
       " tensor(0.6948, grad_fn=<BinaryCrossEntropyBackward>),\n",
       " tensor(0.6833, grad_fn=<BinaryCrossEntropyBackward>),\n",
       " tensor(0.6649, grad_fn=<BinaryCrossEntropyBackward>),\n",
       " tensor(0.6758, grad_fn=<BinaryCrossEntropyBackward>),\n",
       " tensor(0.6628, grad_fn=<BinaryCrossEntropyBackward>),\n",
       " tensor(0.6691, grad_fn=<BinaryCrossEntropyBackward>),\n",
       " tensor(0.6794, grad_fn=<BinaryCrossEntropyBackward>),\n",
       " tensor(0.6700, grad_fn=<BinaryCrossEntropyBackward>),\n",
       " tensor(0.6712, grad_fn=<BinaryCrossEntropyBackward>),\n",
       " tensor(0.6847, grad_fn=<BinaryCrossEntropyBackward>),\n",
       " tensor(0.6794, grad_fn=<BinaryCrossEntropyBackward>),\n",
       " tensor(0.6755, grad_fn=<BinaryCrossEntropyBackward>),\n",
       " tensor(0.6511, grad_fn=<BinaryCrossEntropyBackward>),\n",
       " tensor(0.6798, grad_fn=<BinaryCrossEntropyBackward>),\n",
       " tensor(0.6604, grad_fn=<BinaryCrossEntropyBackward>),\n",
       " tensor(0.6908, grad_fn=<BinaryCrossEntropyBackward>),\n",
       " tensor(0.6703, grad_fn=<BinaryCrossEntropyBackward>),\n",
       " tensor(0.6868, grad_fn=<BinaryCrossEntropyBackward>),\n",
       " tensor(0.6683, grad_fn=<BinaryCrossEntropyBackward>),\n",
       " tensor(0.6902, grad_fn=<BinaryCrossEntropyBackward>),\n",
       " tensor(0.6652, grad_fn=<BinaryCrossEntropyBackward>),\n",
       " tensor(0.6584, grad_fn=<BinaryCrossEntropyBackward>),\n",
       " tensor(0.6953, grad_fn=<BinaryCrossEntropyBackward>),\n",
       " tensor(0.6878, grad_fn=<BinaryCrossEntropyBackward>),\n",
       " tensor(0.6813, grad_fn=<BinaryCrossEntropyBackward>),\n",
       " tensor(0.6813, grad_fn=<BinaryCrossEntropyBackward>),\n",
       " tensor(0.6855, grad_fn=<BinaryCrossEntropyBackward>),\n",
       " tensor(0.6614, grad_fn=<BinaryCrossEntropyBackward>),\n",
       " tensor(0.6773, grad_fn=<BinaryCrossEntropyBackward>),\n",
       " tensor(0.6888, grad_fn=<BinaryCrossEntropyBackward>),\n",
       " tensor(0.6839, grad_fn=<BinaryCrossEntropyBackward>),\n",
       " tensor(0.6763, grad_fn=<BinaryCrossEntropyBackward>),\n",
       " tensor(0.6755, grad_fn=<BinaryCrossEntropyBackward>),\n",
       " tensor(0.6742, grad_fn=<BinaryCrossEntropyBackward>),\n",
       " tensor(0.6985, grad_fn=<BinaryCrossEntropyBackward>),\n",
       " tensor(0.6897, grad_fn=<BinaryCrossEntropyBackward>),\n",
       " tensor(0.6637, grad_fn=<BinaryCrossEntropyBackward>),\n",
       " tensor(0.6768, grad_fn=<BinaryCrossEntropyBackward>),\n",
       " tensor(0.6505, grad_fn=<BinaryCrossEntropyBackward>),\n",
       " tensor(0.6660, grad_fn=<BinaryCrossEntropyBackward>),\n",
       " tensor(0.6592, grad_fn=<BinaryCrossEntropyBackward>),\n",
       " tensor(0.6855, grad_fn=<BinaryCrossEntropyBackward>),\n",
       " tensor(0.6574, grad_fn=<BinaryCrossEntropyBackward>),\n",
       " tensor(0.6799, grad_fn=<BinaryCrossEntropyBackward>),\n",
       " tensor(0.6804, grad_fn=<BinaryCrossEntropyBackward>),\n",
       " tensor(0.6746, grad_fn=<BinaryCrossEntropyBackward>),\n",
       " tensor(0.6837, grad_fn=<BinaryCrossEntropyBackward>),\n",
       " tensor(0.6589, grad_fn=<BinaryCrossEntropyBackward>),\n",
       " tensor(0.6719, grad_fn=<BinaryCrossEntropyBackward>),\n",
       " tensor(0.6491, grad_fn=<BinaryCrossEntropyBackward>),\n",
       " tensor(0.6688, grad_fn=<BinaryCrossEntropyBackward>),\n",
       " tensor(0.6666, grad_fn=<BinaryCrossEntropyBackward>),\n",
       " tensor(0.6867, grad_fn=<BinaryCrossEntropyBackward>),\n",
       " tensor(0.6693, grad_fn=<BinaryCrossEntropyBackward>),\n",
       " tensor(0.6554, grad_fn=<BinaryCrossEntropyBackward>),\n",
       " tensor(0.6814, grad_fn=<BinaryCrossEntropyBackward>),\n",
       " tensor(0.6382, grad_fn=<BinaryCrossEntropyBackward>),\n",
       " tensor(0.6564, grad_fn=<BinaryCrossEntropyBackward>),\n",
       " tensor(0.6455, grad_fn=<BinaryCrossEntropyBackward>),\n",
       " tensor(0.6422, grad_fn=<BinaryCrossEntropyBackward>),\n",
       " tensor(0.6642, grad_fn=<BinaryCrossEntropyBackward>),\n",
       " tensor(0.6566, grad_fn=<BinaryCrossEntropyBackward>),\n",
       " tensor(0.6815, grad_fn=<BinaryCrossEntropyBackward>),\n",
       " tensor(0.6902, grad_fn=<BinaryCrossEntropyBackward>),\n",
       " tensor(0.6627, grad_fn=<BinaryCrossEntropyBackward>),\n",
       " tensor(0.6440, grad_fn=<BinaryCrossEntropyBackward>),\n",
       " tensor(0.6741, grad_fn=<BinaryCrossEntropyBackward>),\n",
       " tensor(0.6535, grad_fn=<BinaryCrossEntropyBackward>),\n",
       " tensor(0.6876, grad_fn=<BinaryCrossEntropyBackward>),\n",
       " tensor(0.6641, grad_fn=<BinaryCrossEntropyBackward>),\n",
       " tensor(0.6585, grad_fn=<BinaryCrossEntropyBackward>),\n",
       " tensor(0.6713, grad_fn=<BinaryCrossEntropyBackward>),\n",
       " tensor(0.6491, grad_fn=<BinaryCrossEntropyBackward>),\n",
       " tensor(0.6699, grad_fn=<BinaryCrossEntropyBackward>),\n",
       " tensor(0.6622, grad_fn=<BinaryCrossEntropyBackward>),\n",
       " tensor(0.6884, grad_fn=<BinaryCrossEntropyBackward>),\n",
       " tensor(0.6596, grad_fn=<BinaryCrossEntropyBackward>),\n",
       " tensor(0.6436, grad_fn=<BinaryCrossEntropyBackward>),\n",
       " tensor(0.6460, grad_fn=<BinaryCrossEntropyBackward>),\n",
       " tensor(0.6588, grad_fn=<BinaryCrossEntropyBackward>),\n",
       " tensor(0.6351, grad_fn=<BinaryCrossEntropyBackward>),\n",
       " tensor(0.6674, grad_fn=<BinaryCrossEntropyBackward>),\n",
       " tensor(0.6693, grad_fn=<BinaryCrossEntropyBackward>),\n",
       " tensor(0.6856, grad_fn=<BinaryCrossEntropyBackward>),\n",
       " tensor(0.6475, grad_fn=<BinaryCrossEntropyBackward>),\n",
       " tensor(0.6831, grad_fn=<BinaryCrossEntropyBackward>),\n",
       " tensor(0.6187, grad_fn=<BinaryCrossEntropyBackward>),\n",
       " tensor(0.6457, grad_fn=<BinaryCrossEntropyBackward>),\n",
       " tensor(0.6548, grad_fn=<BinaryCrossEntropyBackward>),\n",
       " tensor(0.6550, grad_fn=<BinaryCrossEntropyBackward>),\n",
       " tensor(0.6527, grad_fn=<BinaryCrossEntropyBackward>),\n",
       " tensor(0.6697, grad_fn=<BinaryCrossEntropyBackward>),\n",
       " tensor(0.7190, grad_fn=<BinaryCrossEntropyBackward>),\n",
       " tensor(0.7006, grad_fn=<BinaryCrossEntropyBackward>),\n",
       " tensor(0.6384, grad_fn=<BinaryCrossEntropyBackward>),\n",
       " tensor(0.6412, grad_fn=<BinaryCrossEntropyBackward>),\n",
       " tensor(0.6659, grad_fn=<BinaryCrossEntropyBackward>),\n",
       " tensor(0.6795, grad_fn=<BinaryCrossEntropyBackward>),\n",
       " tensor(0.6487, grad_fn=<BinaryCrossEntropyBackward>),\n",
       " tensor(0.6655, grad_fn=<BinaryCrossEntropyBackward>),\n",
       " tensor(0.6353, grad_fn=<BinaryCrossEntropyBackward>),\n",
       " tensor(0.6665, grad_fn=<BinaryCrossEntropyBackward>),\n",
       " tensor(0.6744, grad_fn=<BinaryCrossEntropyBackward>),\n",
       " tensor(0.6703, grad_fn=<BinaryCrossEntropyBackward>),\n",
       " tensor(0.6870, grad_fn=<BinaryCrossEntropyBackward>),\n",
       " tensor(0.6565, grad_fn=<BinaryCrossEntropyBackward>),\n",
       " tensor(0.5847, grad_fn=<BinaryCrossEntropyBackward>),\n",
       " tensor(0.6695, grad_fn=<BinaryCrossEntropyBackward>),\n",
       " tensor(0.6463, grad_fn=<BinaryCrossEntropyBackward>),\n",
       " tensor(0.6627, grad_fn=<BinaryCrossEntropyBackward>),\n",
       " tensor(0.6565, grad_fn=<BinaryCrossEntropyBackward>),\n",
       " tensor(0.6552, grad_fn=<BinaryCrossEntropyBackward>),\n",
       " tensor(0.6414, grad_fn=<BinaryCrossEntropyBackward>),\n",
       " tensor(0.6633, grad_fn=<BinaryCrossEntropyBackward>),\n",
       " tensor(0.7036, grad_fn=<BinaryCrossEntropyBackward>),\n",
       " tensor(0.6680, grad_fn=<BinaryCrossEntropyBackward>),\n",
       " tensor(0.6437, grad_fn=<BinaryCrossEntropyBackward>),\n",
       " tensor(0.6707, grad_fn=<BinaryCrossEntropyBackward>),\n",
       " tensor(0.6921, grad_fn=<BinaryCrossEntropyBackward>),\n",
       " tensor(0.6286, grad_fn=<BinaryCrossEntropyBackward>),\n",
       " tensor(0.6236, grad_fn=<BinaryCrossEntropyBackward>),\n",
       " tensor(0.6342, grad_fn=<BinaryCrossEntropyBackward>),\n",
       " tensor(0.6411, grad_fn=<BinaryCrossEntropyBackward>),\n",
       " tensor(0.7007, grad_fn=<BinaryCrossEntropyBackward>),\n",
       " tensor(0.7263, grad_fn=<BinaryCrossEntropyBackward>),\n",
       " tensor(0.6578, grad_fn=<BinaryCrossEntropyBackward>),\n",
       " tensor(0.5927, grad_fn=<BinaryCrossEntropyBackward>),\n",
       " tensor(0.7212, grad_fn=<BinaryCrossEntropyBackward>),\n",
       " tensor(0.6637, grad_fn=<BinaryCrossEntropyBackward>),\n",
       " tensor(0.6332, grad_fn=<BinaryCrossEntropyBackward>),\n",
       " tensor(0.6320, grad_fn=<BinaryCrossEntropyBackward>),\n",
       " tensor(0.6093, grad_fn=<BinaryCrossEntropyBackward>),\n",
       " tensor(0.5927, grad_fn=<BinaryCrossEntropyBackward>),\n",
       " tensor(0.6949, grad_fn=<BinaryCrossEntropyBackward>),\n",
       " tensor(0.7202, grad_fn=<BinaryCrossEntropyBackward>),\n",
       " tensor(0.6326, grad_fn=<BinaryCrossEntropyBackward>),\n",
       " tensor(0.6237, grad_fn=<BinaryCrossEntropyBackward>),\n",
       " tensor(0.6941, grad_fn=<BinaryCrossEntropyBackward>),\n",
       " tensor(0.6294, grad_fn=<BinaryCrossEntropyBackward>),\n",
       " tensor(0.6338, grad_fn=<BinaryCrossEntropyBackward>),\n",
       " tensor(0.6641, grad_fn=<BinaryCrossEntropyBackward>),\n",
       " tensor(0.6203, grad_fn=<BinaryCrossEntropyBackward>),\n",
       " tensor(0.6393, grad_fn=<BinaryCrossEntropyBackward>),\n",
       " tensor(0.6251, grad_fn=<BinaryCrossEntropyBackward>),\n",
       " tensor(0.6514, grad_fn=<BinaryCrossEntropyBackward>),\n",
       " tensor(0.7391, grad_fn=<BinaryCrossEntropyBackward>),\n",
       " tensor(0.7128, grad_fn=<BinaryCrossEntropyBackward>),\n",
       " tensor(0.6501, grad_fn=<BinaryCrossEntropyBackward>),\n",
       " tensor(0.6405, grad_fn=<BinaryCrossEntropyBackward>),\n",
       " tensor(0.6692, grad_fn=<BinaryCrossEntropyBackward>),\n",
       " tensor(0.6772, grad_fn=<BinaryCrossEntropyBackward>),\n",
       " tensor(0.6292, grad_fn=<BinaryCrossEntropyBackward>),\n",
       " tensor(0.6847, grad_fn=<BinaryCrossEntropyBackward>),\n",
       " tensor(0.6610, grad_fn=<BinaryCrossEntropyBackward>),\n",
       " tensor(0.6390, grad_fn=<BinaryCrossEntropyBackward>),\n",
       " tensor(0.6295, grad_fn=<BinaryCrossEntropyBackward>),\n",
       " tensor(0.5706, grad_fn=<BinaryCrossEntropyBackward>),\n",
       " tensor(0.6036, grad_fn=<BinaryCrossEntropyBackward>),\n",
       " tensor(0.6908, grad_fn=<BinaryCrossEntropyBackward>),\n",
       " tensor(0.6721, grad_fn=<BinaryCrossEntropyBackward>),\n",
       " tensor(0.6260, grad_fn=<BinaryCrossEntropyBackward>),\n",
       " tensor(0.7077, grad_fn=<BinaryCrossEntropyBackward>),\n",
       " tensor(0.6953, grad_fn=<BinaryCrossEntropyBackward>),\n",
       " tensor(0.6330, grad_fn=<BinaryCrossEntropyBackward>),\n",
       " tensor(0.5795, grad_fn=<BinaryCrossEntropyBackward>),\n",
       " tensor(0.6919, grad_fn=<BinaryCrossEntropyBackward>),\n",
       " tensor(0.6337, grad_fn=<BinaryCrossEntropyBackward>),\n",
       " tensor(0.6240, grad_fn=<BinaryCrossEntropyBackward>),\n",
       " tensor(0.6057, grad_fn=<BinaryCrossEntropyBackward>),\n",
       " tensor(0.7041, grad_fn=<BinaryCrossEntropyBackward>),\n",
       " tensor(0.7154, grad_fn=<BinaryCrossEntropyBackward>),\n",
       " tensor(0.6412, grad_fn=<BinaryCrossEntropyBackward>),\n",
       " tensor(0.6428, grad_fn=<BinaryCrossEntropyBackward>),\n",
       " tensor(0.6537, grad_fn=<BinaryCrossEntropyBackward>),\n",
       " tensor(0.6326, grad_fn=<BinaryCrossEntropyBackward>),\n",
       " tensor(0.6474, grad_fn=<BinaryCrossEntropyBackward>),\n",
       " tensor(0.6382, grad_fn=<BinaryCrossEntropyBackward>),\n",
       " tensor(0.7999, grad_fn=<BinaryCrossEntropyBackward>),\n",
       " tensor(0.6459, grad_fn=<BinaryCrossEntropyBackward>),\n",
       " tensor(0.6705, grad_fn=<BinaryCrossEntropyBackward>),\n",
       " tensor(0.6101, grad_fn=<BinaryCrossEntropyBackward>),\n",
       " tensor(0.6169, grad_fn=<BinaryCrossEntropyBackward>),\n",
       " tensor(0.6091, grad_fn=<BinaryCrossEntropyBackward>),\n",
       " tensor(0.7207, grad_fn=<BinaryCrossEntropyBackward>),\n",
       " tensor(0.6402, grad_fn=<BinaryCrossEntropyBackward>),\n",
       " tensor(0.6027, grad_fn=<BinaryCrossEntropyBackward>),\n",
       " tensor(0.6707, grad_fn=<BinaryCrossEntropyBackward>),\n",
       " tensor(0.7035, grad_fn=<BinaryCrossEntropyBackward>),\n",
       " tensor(0.6908, grad_fn=<BinaryCrossEntropyBackward>),\n",
       " tensor(0.6385, grad_fn=<BinaryCrossEntropyBackward>),\n",
       " tensor(0.6767, grad_fn=<BinaryCrossEntropyBackward>),\n",
       " tensor(0.6827, grad_fn=<BinaryCrossEntropyBackward>),\n",
       " tensor(0.6477, grad_fn=<BinaryCrossEntropyBackward>),\n",
       " tensor(0.6127, grad_fn=<BinaryCrossEntropyBackward>),\n",
       " tensor(0.6795, grad_fn=<BinaryCrossEntropyBackward>),\n",
       " tensor(0.6071, grad_fn=<BinaryCrossEntropyBackward>),\n",
       " tensor(0.6738, grad_fn=<BinaryCrossEntropyBackward>),\n",
       " tensor(0.6374, grad_fn=<BinaryCrossEntropyBackward>),\n",
       " tensor(0.6589, grad_fn=<BinaryCrossEntropyBackward>),\n",
       " tensor(0.6406, grad_fn=<BinaryCrossEntropyBackward>),\n",
       " tensor(0.6337, grad_fn=<BinaryCrossEntropyBackward>),\n",
       " tensor(0.6398, grad_fn=<BinaryCrossEntropyBackward>),\n",
       " tensor(0.7133, grad_fn=<BinaryCrossEntropyBackward>),\n",
       " tensor(0.6911, grad_fn=<BinaryCrossEntropyBackward>),\n",
       " tensor(0.6609, grad_fn=<BinaryCrossEntropyBackward>),\n",
       " tensor(0.6425, grad_fn=<BinaryCrossEntropyBackward>),\n",
       " tensor(0.6410, grad_fn=<BinaryCrossEntropyBackward>),\n",
       " tensor(0.6479, grad_fn=<BinaryCrossEntropyBackward>),\n",
       " tensor(0.6119, grad_fn=<BinaryCrossEntropyBackward>),\n",
       " tensor(0.7204, grad_fn=<BinaryCrossEntropyBackward>),\n",
       " tensor(0.6279, grad_fn=<BinaryCrossEntropyBackward>),\n",
       " tensor(0.6340, grad_fn=<BinaryCrossEntropyBackward>),\n",
       " tensor(0.6705, grad_fn=<BinaryCrossEntropyBackward>),\n",
       " tensor(0.6730, grad_fn=<BinaryCrossEntropyBackward>),\n",
       " tensor(0.6445, grad_fn=<BinaryCrossEntropyBackward>),\n",
       " tensor(0.6200, grad_fn=<BinaryCrossEntropyBackward>),\n",
       " tensor(0.5960, grad_fn=<BinaryCrossEntropyBackward>),\n",
       " tensor(0.5910, grad_fn=<BinaryCrossEntropyBackward>),\n",
       " tensor(0.6848, grad_fn=<BinaryCrossEntropyBackward>),\n",
       " tensor(0.6668, grad_fn=<BinaryCrossEntropyBackward>),\n",
       " tensor(0.6365, grad_fn=<BinaryCrossEntropyBackward>),\n",
       " tensor(0.6646, grad_fn=<BinaryCrossEntropyBackward>),\n",
       " tensor(0.6611, grad_fn=<BinaryCrossEntropyBackward>),\n",
       " tensor(0.5790, grad_fn=<BinaryCrossEntropyBackward>),\n",
       " tensor(0.7346, grad_fn=<BinaryCrossEntropyBackward>),\n",
       " tensor(0.6348, grad_fn=<BinaryCrossEntropyBackward>),\n",
       " tensor(0.6744, grad_fn=<BinaryCrossEntropyBackward>),\n",
       " tensor(0.6767, grad_fn=<BinaryCrossEntropyBackward>),\n",
       " tensor(0.6395, grad_fn=<BinaryCrossEntropyBackward>),\n",
       " tensor(0.7374, grad_fn=<BinaryCrossEntropyBackward>),\n",
       " tensor(0.6610, grad_fn=<BinaryCrossEntropyBackward>),\n",
       " tensor(0.6426, grad_fn=<BinaryCrossEntropyBackward>),\n",
       " tensor(0.6664, grad_fn=<BinaryCrossEntropyBackward>),\n",
       " tensor(0.6430, grad_fn=<BinaryCrossEntropyBackward>),\n",
       " tensor(0.6691, grad_fn=<BinaryCrossEntropyBackward>),\n",
       " tensor(0.6966, grad_fn=<BinaryCrossEntropyBackward>),\n",
       " tensor(0.5908, grad_fn=<BinaryCrossEntropyBackward>),\n",
       " tensor(0.6426, grad_fn=<BinaryCrossEntropyBackward>),\n",
       " tensor(0.6136, grad_fn=<BinaryCrossEntropyBackward>),\n",
       " tensor(0.6061, grad_fn=<BinaryCrossEntropyBackward>),\n",
       " tensor(0.6585, grad_fn=<BinaryCrossEntropyBackward>),\n",
       " tensor(0.6337, grad_fn=<BinaryCrossEntropyBackward>),\n",
       " tensor(0.6113, grad_fn=<BinaryCrossEntropyBackward>),\n",
       " tensor(0.6247, grad_fn=<BinaryCrossEntropyBackward>),\n",
       " tensor(0.5682, grad_fn=<BinaryCrossEntropyBackward>),\n",
       " tensor(0.5788, grad_fn=<BinaryCrossEntropyBackward>),\n",
       " tensor(0.5928, grad_fn=<BinaryCrossEntropyBackward>),\n",
       " tensor(0.6026, grad_fn=<BinaryCrossEntropyBackward>),\n",
       " tensor(0.5865, grad_fn=<BinaryCrossEntropyBackward>),\n",
       " tensor(0.6264, grad_fn=<BinaryCrossEntropyBackward>),\n",
       " tensor(0.7373, grad_fn=<BinaryCrossEntropyBackward>),\n",
       " tensor(0.6439, grad_fn=<BinaryCrossEntropyBackward>),\n",
       " tensor(0.7044, grad_fn=<BinaryCrossEntropyBackward>),\n",
       " tensor(0.6773, grad_fn=<BinaryCrossEntropyBackward>),\n",
       " tensor(0.6327, grad_fn=<BinaryCrossEntropyBackward>),\n",
       " tensor(0.6675, grad_fn=<BinaryCrossEntropyBackward>),\n",
       " tensor(0.6026, grad_fn=<BinaryCrossEntropyBackward>),\n",
       " tensor(0.6597, grad_fn=<BinaryCrossEntropyBackward>),\n",
       " tensor(0.6461, grad_fn=<BinaryCrossEntropyBackward>),\n",
       " tensor(0.6638, grad_fn=<BinaryCrossEntropyBackward>),\n",
       " tensor(0.5979, grad_fn=<BinaryCrossEntropyBackward>),\n",
       " tensor(0.6419, grad_fn=<BinaryCrossEntropyBackward>),\n",
       " tensor(0.5967, grad_fn=<BinaryCrossEntropyBackward>),\n",
       " tensor(0.6443, grad_fn=<BinaryCrossEntropyBackward>),\n",
       " tensor(0.5806, grad_fn=<BinaryCrossEntropyBackward>),\n",
       " tensor(0.6453, grad_fn=<BinaryCrossEntropyBackward>),\n",
       " tensor(0.7134, grad_fn=<BinaryCrossEntropyBackward>),\n",
       " tensor(0.6976, grad_fn=<BinaryCrossEntropyBackward>),\n",
       " tensor(0.6045, grad_fn=<BinaryCrossEntropyBackward>),\n",
       " tensor(0.6834, grad_fn=<BinaryCrossEntropyBackward>),\n",
       " tensor(0.6156, grad_fn=<BinaryCrossEntropyBackward>),\n",
       " tensor(0.6916, grad_fn=<BinaryCrossEntropyBackward>),\n",
       " tensor(0.6517, grad_fn=<BinaryCrossEntropyBackward>),\n",
       " tensor(0.6172, grad_fn=<BinaryCrossEntropyBackward>),\n",
       " tensor(0.6231, grad_fn=<BinaryCrossEntropyBackward>),\n",
       " tensor(0.6470, grad_fn=<BinaryCrossEntropyBackward>),\n",
       " tensor(0.7121, grad_fn=<BinaryCrossEntropyBackward>),\n",
       " tensor(0.6421, grad_fn=<BinaryCrossEntropyBackward>),\n",
       " tensor(0.6640, grad_fn=<BinaryCrossEntropyBackward>),\n",
       " tensor(0.6374, grad_fn=<BinaryCrossEntropyBackward>),\n",
       " tensor(0.5872, grad_fn=<BinaryCrossEntropyBackward>),\n",
       " tensor(0.7241, grad_fn=<BinaryCrossEntropyBackward>),\n",
       " tensor(0.6818, grad_fn=<BinaryCrossEntropyBackward>),\n",
       " tensor(0.5730, grad_fn=<BinaryCrossEntropyBackward>),\n",
       " tensor(0.6175, grad_fn=<BinaryCrossEntropyBackward>),\n",
       " tensor(0.7086, grad_fn=<BinaryCrossEntropyBackward>),\n",
       " tensor(0.6444, grad_fn=<BinaryCrossEntropyBackward>),\n",
       " tensor(0.6331, grad_fn=<BinaryCrossEntropyBackward>),\n",
       " tensor(0.6168, grad_fn=<BinaryCrossEntropyBackward>),\n",
       " tensor(0.7017, grad_fn=<BinaryCrossEntropyBackward>),\n",
       " tensor(0.6587, grad_fn=<BinaryCrossEntropyBackward>),\n",
       " tensor(0.6206, grad_fn=<BinaryCrossEntropyBackward>),\n",
       " tensor(0.6481, grad_fn=<BinaryCrossEntropyBackward>),\n",
       " tensor(0.6366, grad_fn=<BinaryCrossEntropyBackward>),\n",
       " tensor(0.6452, grad_fn=<BinaryCrossEntropyBackward>),\n",
       " tensor(0.6047, grad_fn=<BinaryCrossEntropyBackward>),\n",
       " tensor(0.6551, grad_fn=<BinaryCrossEntropyBackward>),\n",
       " tensor(0.6518, grad_fn=<BinaryCrossEntropyBackward>),\n",
       " tensor(0.5788, grad_fn=<BinaryCrossEntropyBackward>),\n",
       " tensor(0.6411, grad_fn=<BinaryCrossEntropyBackward>),\n",
       " tensor(0.5561, grad_fn=<BinaryCrossEntropyBackward>),\n",
       " tensor(0.6407, grad_fn=<BinaryCrossEntropyBackward>),\n",
       " tensor(0.6011, grad_fn=<BinaryCrossEntropyBackward>),\n",
       " tensor(0.6204, grad_fn=<BinaryCrossEntropyBackward>),\n",
       " tensor(0.6068, grad_fn=<BinaryCrossEntropyBackward>),\n",
       " tensor(0.6214, grad_fn=<BinaryCrossEntropyBackward>),\n",
       " tensor(0.5891, grad_fn=<BinaryCrossEntropyBackward>),\n",
       " tensor(0.6816, grad_fn=<BinaryCrossEntropyBackward>),\n",
       " tensor(0.5534, grad_fn=<BinaryCrossEntropyBackward>),\n",
       " tensor(0.7450, grad_fn=<BinaryCrossEntropyBackward>),\n",
       " tensor(0.7043, grad_fn=<BinaryCrossEntropyBackward>),\n",
       " tensor(0.5843, grad_fn=<BinaryCrossEntropyBackward>),\n",
       " tensor(0.6760, grad_fn=<BinaryCrossEntropyBackward>),\n",
       " tensor(0.6200, grad_fn=<BinaryCrossEntropyBackward>),\n",
       " tensor(0.6508, grad_fn=<BinaryCrossEntropyBackward>),\n",
       " tensor(0.6740, grad_fn=<BinaryCrossEntropyBackward>),\n",
       " tensor(0.6607, grad_fn=<BinaryCrossEntropyBackward>),\n",
       " tensor(0.6627, grad_fn=<BinaryCrossEntropyBackward>),\n",
       " tensor(0.6332, grad_fn=<BinaryCrossEntropyBackward>),\n",
       " tensor(0.5935, grad_fn=<BinaryCrossEntropyBackward>),\n",
       " tensor(0.5694, grad_fn=<BinaryCrossEntropyBackward>),\n",
       " tensor(0.6624, grad_fn=<BinaryCrossEntropyBackward>),\n",
       " tensor(0.6848, grad_fn=<BinaryCrossEntropyBackward>),\n",
       " tensor(0.7297, grad_fn=<BinaryCrossEntropyBackward>),\n",
       " tensor(0.5883, grad_fn=<BinaryCrossEntropyBackward>),\n",
       " tensor(0.6659, grad_fn=<BinaryCrossEntropyBackward>),\n",
       " tensor(0.6371, grad_fn=<BinaryCrossEntropyBackward>),\n",
       " tensor(0.5826, grad_fn=<BinaryCrossEntropyBackward>),\n",
       " tensor(0.6002, grad_fn=<BinaryCrossEntropyBackward>),\n",
       " tensor(0.6339, grad_fn=<BinaryCrossEntropyBackward>),\n",
       " tensor(0.6009, grad_fn=<BinaryCrossEntropyBackward>),\n",
       " tensor(0.6695, grad_fn=<BinaryCrossEntropyBackward>),\n",
       " tensor(0.5957, grad_fn=<BinaryCrossEntropyBackward>),\n",
       " tensor(0.6762, grad_fn=<BinaryCrossEntropyBackward>),\n",
       " tensor(0.6903, grad_fn=<BinaryCrossEntropyBackward>),\n",
       " tensor(0.6521, grad_fn=<BinaryCrossEntropyBackward>),\n",
       " tensor(0.6151, grad_fn=<BinaryCrossEntropyBackward>),\n",
       " tensor(0.6286, grad_fn=<BinaryCrossEntropyBackward>),\n",
       " tensor(0.5731, grad_fn=<BinaryCrossEntropyBackward>),\n",
       " tensor(0.6715, grad_fn=<BinaryCrossEntropyBackward>),\n",
       " tensor(0.6509, grad_fn=<BinaryCrossEntropyBackward>),\n",
       " tensor(0.7534, grad_fn=<BinaryCrossEntropyBackward>),\n",
       " tensor(0.7118, grad_fn=<BinaryCrossEntropyBackward>),\n",
       " tensor(0.6414, grad_fn=<BinaryCrossEntropyBackward>),\n",
       " tensor(0.6434, grad_fn=<BinaryCrossEntropyBackward>),\n",
       " tensor(0.6567, grad_fn=<BinaryCrossEntropyBackward>),\n",
       " tensor(0.6516, grad_fn=<BinaryCrossEntropyBackward>),\n",
       " tensor(0.6312, grad_fn=<BinaryCrossEntropyBackward>),\n",
       " tensor(0.6632, grad_fn=<BinaryCrossEntropyBackward>),\n",
       " tensor(0.6570, grad_fn=<BinaryCrossEntropyBackward>),\n",
       " tensor(0.6344, grad_fn=<BinaryCrossEntropyBackward>),\n",
       " tensor(0.6089, grad_fn=<BinaryCrossEntropyBackward>),\n",
       " tensor(0.6460, grad_fn=<BinaryCrossEntropyBackward>),\n",
       " tensor(0.6015, grad_fn=<BinaryCrossEntropyBackward>),\n",
       " tensor(0.6559, grad_fn=<BinaryCrossEntropyBackward>),\n",
       " tensor(0.6636, grad_fn=<BinaryCrossEntropyBackward>),\n",
       " tensor(0.5958, grad_fn=<BinaryCrossEntropyBackward>),\n",
       " tensor(0.6216, grad_fn=<BinaryCrossEntropyBackward>),\n",
       " tensor(0.6597, grad_fn=<BinaryCrossEntropyBackward>),\n",
       " tensor(0.5792, grad_fn=<BinaryCrossEntropyBackward>),\n",
       " tensor(0.6168, grad_fn=<BinaryCrossEntropyBackward>),\n",
       " tensor(0.6074, grad_fn=<BinaryCrossEntropyBackward>),\n",
       " tensor(0.5946, grad_fn=<BinaryCrossEntropyBackward>),\n",
       " tensor(0.6502, grad_fn=<BinaryCrossEntropyBackward>),\n",
       " tensor(0.5756, grad_fn=<BinaryCrossEntropyBackward>),\n",
       " tensor(0.6587, grad_fn=<BinaryCrossEntropyBackward>),\n",
       " tensor(0.6438, grad_fn=<BinaryCrossEntropyBackward>),\n",
       " tensor(0.6118, grad_fn=<BinaryCrossEntropyBackward>),\n",
       " tensor(0.6613, grad_fn=<BinaryCrossEntropyBackward>),\n",
       " tensor(0.7489, grad_fn=<BinaryCrossEntropyBackward>),\n",
       " tensor(0.6096, grad_fn=<BinaryCrossEntropyBackward>),\n",
       " tensor(0.5806, grad_fn=<BinaryCrossEntropyBackward>),\n",
       " tensor(0.6922, grad_fn=<BinaryCrossEntropyBackward>),\n",
       " tensor(0.6099, grad_fn=<BinaryCrossEntropyBackward>),\n",
       " tensor(0.6340, grad_fn=<BinaryCrossEntropyBackward>),\n",
       " tensor(0.6326, grad_fn=<BinaryCrossEntropyBackward>),\n",
       " tensor(0.6689, grad_fn=<BinaryCrossEntropyBackward>),\n",
       " tensor(0.5956, grad_fn=<BinaryCrossEntropyBackward>),\n",
       " tensor(0.5905, grad_fn=<BinaryCrossEntropyBackward>),\n",
       " tensor(0.5983, grad_fn=<BinaryCrossEntropyBackward>),\n",
       " tensor(0.5992, grad_fn=<BinaryCrossEntropyBackward>),\n",
       " tensor(0.5574, grad_fn=<BinaryCrossEntropyBackward>),\n",
       " tensor(0.6287, grad_fn=<BinaryCrossEntropyBackward>),\n",
       " tensor(0.6223, grad_fn=<BinaryCrossEntropyBackward>),\n",
       " tensor(0.6498, grad_fn=<BinaryCrossEntropyBackward>),\n",
       " tensor(0.6506, grad_fn=<BinaryCrossEntropyBackward>),\n",
       " tensor(0.6549, grad_fn=<BinaryCrossEntropyBackward>),\n",
       " tensor(0.6173, grad_fn=<BinaryCrossEntropyBackward>),\n",
       " tensor(0.6964, grad_fn=<BinaryCrossEntropyBackward>),\n",
       " tensor(0.6030, grad_fn=<BinaryCrossEntropyBackward>),\n",
       " tensor(0.5762, grad_fn=<BinaryCrossEntropyBackward>),\n",
       " tensor(0.6826, grad_fn=<BinaryCrossEntropyBackward>),\n",
       " tensor(0.6200, grad_fn=<BinaryCrossEntropyBackward>),\n",
       " tensor(0.5808, grad_fn=<BinaryCrossEntropyBackward>),\n",
       " tensor(0.5961, grad_fn=<BinaryCrossEntropyBackward>),\n",
       " tensor(0.6007, grad_fn=<BinaryCrossEntropyBackward>),\n",
       " tensor(0.5661, grad_fn=<BinaryCrossEntropyBackward>),\n",
       " tensor(0.6642, grad_fn=<BinaryCrossEntropyBackward>),\n",
       " tensor(0.7340, grad_fn=<BinaryCrossEntropyBackward>),\n",
       " tensor(0.5793, grad_fn=<BinaryCrossEntropyBackward>),\n",
       " tensor(0.6470, grad_fn=<BinaryCrossEntropyBackward>),\n",
       " tensor(0.6180, grad_fn=<BinaryCrossEntropyBackward>),\n",
       " tensor(0.6116, grad_fn=<BinaryCrossEntropyBackward>),\n",
       " tensor(0.5584, grad_fn=<BinaryCrossEntropyBackward>),\n",
       " tensor(0.5669, grad_fn=<BinaryCrossEntropyBackward>),\n",
       " tensor(0.6457, grad_fn=<BinaryCrossEntropyBackward>),\n",
       " tensor(0.7267, grad_fn=<BinaryCrossEntropyBackward>),\n",
       " tensor(0.6876, grad_fn=<BinaryCrossEntropyBackward>),\n",
       " tensor(0.6499, grad_fn=<BinaryCrossEntropyBackward>),\n",
       " tensor(0.6394, grad_fn=<BinaryCrossEntropyBackward>),\n",
       " tensor(0.7042, grad_fn=<BinaryCrossEntropyBackward>),\n",
       " tensor(0.6580, grad_fn=<BinaryCrossEntropyBackward>),\n",
       " tensor(0.6341, grad_fn=<BinaryCrossEntropyBackward>),\n",
       " tensor(0.6570, grad_fn=<BinaryCrossEntropyBackward>),\n",
       " tensor(0.5696, grad_fn=<BinaryCrossEntropyBackward>),\n",
       " tensor(0.6168, grad_fn=<BinaryCrossEntropyBackward>),\n",
       " tensor(0.7750, grad_fn=<BinaryCrossEntropyBackward>),\n",
       " tensor(0.6740, grad_fn=<BinaryCrossEntropyBackward>),\n",
       " tensor(0.6289, grad_fn=<BinaryCrossEntropyBackward>),\n",
       " tensor(0.5740, grad_fn=<BinaryCrossEntropyBackward>),\n",
       " tensor(0.6613, grad_fn=<BinaryCrossEntropyBackward>),\n",
       " tensor(0.5995, grad_fn=<BinaryCrossEntropyBackward>),\n",
       " tensor(0.6539, grad_fn=<BinaryCrossEntropyBackward>),\n",
       " tensor(0.6535, grad_fn=<BinaryCrossEntropyBackward>),\n",
       " tensor(0.6822, grad_fn=<BinaryCrossEntropyBackward>),\n",
       " tensor(0.6285, grad_fn=<BinaryCrossEntropyBackward>),\n",
       " tensor(0.5892, grad_fn=<BinaryCrossEntropyBackward>),\n",
       " tensor(0.6081, grad_fn=<BinaryCrossEntropyBackward>),\n",
       " tensor(0.7023, grad_fn=<BinaryCrossEntropyBackward>),\n",
       " tensor(0.6442, grad_fn=<BinaryCrossEntropyBackward>),\n",
       " tensor(0.6834, grad_fn=<BinaryCrossEntropyBackward>),\n",
       " tensor(0.6472, grad_fn=<BinaryCrossEntropyBackward>),\n",
       " tensor(0.5965, grad_fn=<BinaryCrossEntropyBackward>),\n",
       " tensor(0.6389, grad_fn=<BinaryCrossEntropyBackward>),\n",
       " tensor(0.6381, grad_fn=<BinaryCrossEntropyBackward>),\n",
       " tensor(0.6264, grad_fn=<BinaryCrossEntropyBackward>),\n",
       " tensor(0.6640, grad_fn=<BinaryCrossEntropyBackward>),\n",
       " tensor(0.6491, grad_fn=<BinaryCrossEntropyBackward>),\n",
       " tensor(0.6302, grad_fn=<BinaryCrossEntropyBackward>),\n",
       " tensor(0.5651, grad_fn=<BinaryCrossEntropyBackward>),\n",
       " tensor(0.6526, grad_fn=<BinaryCrossEntropyBackward>),\n",
       " tensor(0.6305, grad_fn=<BinaryCrossEntropyBackward>),\n",
       " tensor(0.6231, grad_fn=<BinaryCrossEntropyBackward>),\n",
       " tensor(0.5910, grad_fn=<BinaryCrossEntropyBackward>),\n",
       " tensor(0.6058, grad_fn=<BinaryCrossEntropyBackward>),\n",
       " tensor(0.6151, grad_fn=<BinaryCrossEntropyBackward>),\n",
       " tensor(0.6557, grad_fn=<BinaryCrossEntropyBackward>),\n",
       " tensor(0.5856, grad_fn=<BinaryCrossEntropyBackward>),\n",
       " tensor(0.5790, grad_fn=<BinaryCrossEntropyBackward>),\n",
       " tensor(0.7026, grad_fn=<BinaryCrossEntropyBackward>),\n",
       " tensor(0.6274, grad_fn=<BinaryCrossEntropyBackward>),\n",
       " tensor(0.6472, grad_fn=<BinaryCrossEntropyBackward>),\n",
       " tensor(0.5986, grad_fn=<BinaryCrossEntropyBackward>),\n",
       " tensor(0.6906, grad_fn=<BinaryCrossEntropyBackward>),\n",
       " tensor(0.6555, grad_fn=<BinaryCrossEntropyBackward>),\n",
       " tensor(0.5895, grad_fn=<BinaryCrossEntropyBackward>),\n",
       " tensor(0.5263, grad_fn=<BinaryCrossEntropyBackward>),\n",
       " tensor(0.5937, grad_fn=<BinaryCrossEntropyBackward>),\n",
       " tensor(0.5558, grad_fn=<BinaryCrossEntropyBackward>),\n",
       " tensor(0.6604, grad_fn=<BinaryCrossEntropyBackward>),\n",
       " tensor(0.5989, grad_fn=<BinaryCrossEntropyBackward>),\n",
       " tensor(0.5341, grad_fn=<BinaryCrossEntropyBackward>),\n",
       " tensor(0.6996, grad_fn=<BinaryCrossEntropyBackward>),\n",
       " tensor(0.6009, grad_fn=<BinaryCrossEntropyBackward>),\n",
       " tensor(0.5623, grad_fn=<BinaryCrossEntropyBackward>),\n",
       " tensor(0.5711, grad_fn=<BinaryCrossEntropyBackward>),\n",
       " tensor(0.5917, grad_fn=<BinaryCrossEntropyBackward>),\n",
       " tensor(0.6292, grad_fn=<BinaryCrossEntropyBackward>),\n",
       " tensor(0.6141, grad_fn=<BinaryCrossEntropyBackward>),\n",
       " tensor(0.6566, grad_fn=<BinaryCrossEntropyBackward>),\n",
       " tensor(0.7083, grad_fn=<BinaryCrossEntropyBackward>),\n",
       " tensor(0.6170, grad_fn=<BinaryCrossEntropyBackward>),\n",
       " tensor(0.5883, grad_fn=<BinaryCrossEntropyBackward>),\n",
       " tensor(0.6601, grad_fn=<BinaryCrossEntropyBackward>),\n",
       " tensor(0.7635, grad_fn=<BinaryCrossEntropyBackward>),\n",
       " tensor(0.6579, grad_fn=<BinaryCrossEntropyBackward>),\n",
       " tensor(0.6902, grad_fn=<BinaryCrossEntropyBackward>),\n",
       " tensor(0.6066, grad_fn=<BinaryCrossEntropyBackward>),\n",
       " tensor(0.6009, grad_fn=<BinaryCrossEntropyBackward>),\n",
       " tensor(0.5919, grad_fn=<BinaryCrossEntropyBackward>),\n",
       " tensor(0.6240, grad_fn=<BinaryCrossEntropyBackward>),\n",
       " tensor(0.6459, grad_fn=<BinaryCrossEntropyBackward>),\n",
       " tensor(0.6891, grad_fn=<BinaryCrossEntropyBackward>),\n",
       " tensor(0.5721, grad_fn=<BinaryCrossEntropyBackward>),\n",
       " tensor(0.6177, grad_fn=<BinaryCrossEntropyBackward>),\n",
       " tensor(0.6370, grad_fn=<BinaryCrossEntropyBackward>),\n",
       " tensor(0.6728, grad_fn=<BinaryCrossEntropyBackward>),\n",
       " tensor(0.6394, grad_fn=<BinaryCrossEntropyBackward>),\n",
       " tensor(0.6485, grad_fn=<BinaryCrossEntropyBackward>),\n",
       " tensor(0.5928, grad_fn=<BinaryCrossEntropyBackward>),\n",
       " tensor(0.6802, grad_fn=<BinaryCrossEntropyBackward>),\n",
       " tensor(0.7497, grad_fn=<BinaryCrossEntropyBackward>),\n",
       " tensor(0.6565, grad_fn=<BinaryCrossEntropyBackward>),\n",
       " tensor(0.6327, grad_fn=<BinaryCrossEntropyBackward>),\n",
       " tensor(0.6758, grad_fn=<BinaryCrossEntropyBackward>),\n",
       " tensor(0.7111, grad_fn=<BinaryCrossEntropyBackward>),\n",
       " tensor(0.6489, grad_fn=<BinaryCrossEntropyBackward>),\n",
       " tensor(0.6036, grad_fn=<BinaryCrossEntropyBackward>),\n",
       " tensor(0.7557, grad_fn=<BinaryCrossEntropyBackward>),\n",
       " tensor(0.6622, grad_fn=<BinaryCrossEntropyBackward>),\n",
       " tensor(0.6198, grad_fn=<BinaryCrossEntropyBackward>),\n",
       " tensor(0.5919, grad_fn=<BinaryCrossEntropyBackward>),\n",
       " tensor(0.6214, grad_fn=<BinaryCrossEntropyBackward>),\n",
       " tensor(0.6304, grad_fn=<BinaryCrossEntropyBackward>),\n",
       " tensor(0.6446, grad_fn=<BinaryCrossEntropyBackward>),\n",
       " tensor(0.5675, grad_fn=<BinaryCrossEntropyBackward>),\n",
       " tensor(0.7017, grad_fn=<BinaryCrossEntropyBackward>),\n",
       " tensor(0.6268, grad_fn=<BinaryCrossEntropyBackward>),\n",
       " tensor(0.6092, grad_fn=<BinaryCrossEntropyBackward>),\n",
       " tensor(0.7298, grad_fn=<BinaryCrossEntropyBackward>),\n",
       " tensor(0.5975, grad_fn=<BinaryCrossEntropyBackward>),\n",
       " tensor(0.5986, grad_fn=<BinaryCrossEntropyBackward>),\n",
       " tensor(0.6188, grad_fn=<BinaryCrossEntropyBackward>),\n",
       " tensor(0.6245, grad_fn=<BinaryCrossEntropyBackward>),\n",
       " tensor(0.6723, grad_fn=<BinaryCrossEntropyBackward>),\n",
       " tensor(0.6051, grad_fn=<BinaryCrossEntropyBackward>),\n",
       " tensor(0.6839, grad_fn=<BinaryCrossEntropyBackward>),\n",
       " tensor(0.6194, grad_fn=<BinaryCrossEntropyBackward>),\n",
       " tensor(0.5948, grad_fn=<BinaryCrossEntropyBackward>),\n",
       " tensor(0.5842, grad_fn=<BinaryCrossEntropyBackward>),\n",
       " tensor(0.4923, grad_fn=<BinaryCrossEntropyBackward>),\n",
       " tensor(0.5830, grad_fn=<BinaryCrossEntropyBackward>),\n",
       " tensor(0.5676, grad_fn=<BinaryCrossEntropyBackward>),\n",
       " tensor(0.6361, grad_fn=<BinaryCrossEntropyBackward>),\n",
       " tensor(0.8730, grad_fn=<BinaryCrossEntropyBackward>),\n",
       " tensor(0.5997, grad_fn=<BinaryCrossEntropyBackward>),\n",
       " tensor(0.6406, grad_fn=<BinaryCrossEntropyBackward>),\n",
       " tensor(0.5953, grad_fn=<BinaryCrossEntropyBackward>),\n",
       " tensor(0.5465, grad_fn=<BinaryCrossEntropyBackward>),\n",
       " tensor(0.7143, grad_fn=<BinaryCrossEntropyBackward>),\n",
       " tensor(0.7475, grad_fn=<BinaryCrossEntropyBackward>),\n",
       " tensor(0.6192, grad_fn=<BinaryCrossEntropyBackward>),\n",
       " tensor(0.6473, grad_fn=<BinaryCrossEntropyBackward>),\n",
       " tensor(0.6728, grad_fn=<BinaryCrossEntropyBackward>),\n",
       " tensor(0.6914, grad_fn=<BinaryCrossEntropyBackward>),\n",
       " tensor(0.5814, grad_fn=<BinaryCrossEntropyBackward>),\n",
       " tensor(0.6131, grad_fn=<BinaryCrossEntropyBackward>),\n",
       " tensor(0.7097, grad_fn=<BinaryCrossEntropyBackward>),\n",
       " tensor(0.6290, grad_fn=<BinaryCrossEntropyBackward>),\n",
       " tensor(0.6181, grad_fn=<BinaryCrossEntropyBackward>),\n",
       " tensor(0.6616, grad_fn=<BinaryCrossEntropyBackward>),\n",
       " tensor(0.6192, grad_fn=<BinaryCrossEntropyBackward>),\n",
       " tensor(0.6502, grad_fn=<BinaryCrossEntropyBackward>),\n",
       " tensor(0.6468, grad_fn=<BinaryCrossEntropyBackward>),\n",
       " tensor(0.6131, grad_fn=<BinaryCrossEntropyBackward>),\n",
       " tensor(0.6817, grad_fn=<BinaryCrossEntropyBackward>),\n",
       " tensor(0.7106, grad_fn=<BinaryCrossEntropyBackward>),\n",
       " tensor(0.6357, grad_fn=<BinaryCrossEntropyBackward>),\n",
       " tensor(0.6669, grad_fn=<BinaryCrossEntropyBackward>),\n",
       " tensor(0.6087, grad_fn=<BinaryCrossEntropyBackward>),\n",
       " tensor(0.6737, grad_fn=<BinaryCrossEntropyBackward>),\n",
       " tensor(0.6512, grad_fn=<BinaryCrossEntropyBackward>),\n",
       " tensor(0.6652, grad_fn=<BinaryCrossEntropyBackward>),\n",
       " tensor(0.6218, grad_fn=<BinaryCrossEntropyBackward>),\n",
       " tensor(0.6337, grad_fn=<BinaryCrossEntropyBackward>),\n",
       " tensor(0.6279, grad_fn=<BinaryCrossEntropyBackward>),\n",
       " tensor(0.6267, grad_fn=<BinaryCrossEntropyBackward>),\n",
       " tensor(0.6596, grad_fn=<BinaryCrossEntropyBackward>),\n",
       " tensor(0.6173, grad_fn=<BinaryCrossEntropyBackward>),\n",
       " tensor(0.5903, grad_fn=<BinaryCrossEntropyBackward>),\n",
       " tensor(0.6715, grad_fn=<BinaryCrossEntropyBackward>),\n",
       " tensor(0.7078, grad_fn=<BinaryCrossEntropyBackward>),\n",
       " tensor(0.5779, grad_fn=<BinaryCrossEntropyBackward>),\n",
       " tensor(0.6542, grad_fn=<BinaryCrossEntropyBackward>),\n",
       " tensor(0.6033, grad_fn=<BinaryCrossEntropyBackward>),\n",
       " tensor(0.6232, grad_fn=<BinaryCrossEntropyBackward>),\n",
       " tensor(0.6216, grad_fn=<BinaryCrossEntropyBackward>),\n",
       " tensor(0.5875, grad_fn=<BinaryCrossEntropyBackward>),\n",
       " tensor(0.6094, grad_fn=<BinaryCrossEntropyBackward>),\n",
       " tensor(0.6242, grad_fn=<BinaryCrossEntropyBackward>),\n",
       " tensor(0.6088, grad_fn=<BinaryCrossEntropyBackward>),\n",
       " tensor(0.6007, grad_fn=<BinaryCrossEntropyBackward>),\n",
       " tensor(0.5544, grad_fn=<BinaryCrossEntropyBackward>),\n",
       " tensor(0.6390, grad_fn=<BinaryCrossEntropyBackward>),\n",
       " tensor(0.6675, grad_fn=<BinaryCrossEntropyBackward>),\n",
       " tensor(0.6943, grad_fn=<BinaryCrossEntropyBackward>),\n",
       " tensor(0.6395, grad_fn=<BinaryCrossEntropyBackward>),\n",
       " tensor(0.5757, grad_fn=<BinaryCrossEntropyBackward>),\n",
       " tensor(0.5874, grad_fn=<BinaryCrossEntropyBackward>),\n",
       " tensor(0.5320, grad_fn=<BinaryCrossEntropyBackward>),\n",
       " tensor(0.6079, grad_fn=<BinaryCrossEntropyBackward>),\n",
       " tensor(0.5938, grad_fn=<BinaryCrossEntropyBackward>),\n",
       " tensor(0.6706, grad_fn=<BinaryCrossEntropyBackward>),\n",
       " tensor(0.6008, grad_fn=<BinaryCrossEntropyBackward>),\n",
       " tensor(0.5712, grad_fn=<BinaryCrossEntropyBackward>),\n",
       " tensor(0.5673, grad_fn=<BinaryCrossEntropyBackward>),\n",
       " tensor(0.6568, grad_fn=<BinaryCrossEntropyBackward>),\n",
       " tensor(0.6237, grad_fn=<BinaryCrossEntropyBackward>),\n",
       " tensor(0.5995, grad_fn=<BinaryCrossEntropyBackward>),\n",
       " tensor(0.6714, grad_fn=<BinaryCrossEntropyBackward>),\n",
       " tensor(0.6005, grad_fn=<BinaryCrossEntropyBackward>),\n",
       " tensor(0.6435, grad_fn=<BinaryCrossEntropyBackward>),\n",
       " tensor(0.6336, grad_fn=<BinaryCrossEntropyBackward>),\n",
       " tensor(0.6512, grad_fn=<BinaryCrossEntropyBackward>),\n",
       " tensor(0.5714, grad_fn=<BinaryCrossEntropyBackward>),\n",
       " tensor(0.5997, grad_fn=<BinaryCrossEntropyBackward>),\n",
       " tensor(0.6210, grad_fn=<BinaryCrossEntropyBackward>),\n",
       " tensor(0.6783, grad_fn=<BinaryCrossEntropyBackward>),\n",
       " tensor(0.6520, grad_fn=<BinaryCrossEntropyBackward>),\n",
       " tensor(0.6405, grad_fn=<BinaryCrossEntropyBackward>),\n",
       " tensor(0.6408, grad_fn=<BinaryCrossEntropyBackward>),\n",
       " tensor(0.6453, grad_fn=<BinaryCrossEntropyBackward>),\n",
       " tensor(0.6879, grad_fn=<BinaryCrossEntropyBackward>),\n",
       " tensor(0.6479, grad_fn=<BinaryCrossEntropyBackward>),\n",
       " tensor(0.6226, grad_fn=<BinaryCrossEntropyBackward>),\n",
       " tensor(0.6374, grad_fn=<BinaryCrossEntropyBackward>),\n",
       " tensor(0.6373, grad_fn=<BinaryCrossEntropyBackward>),\n",
       " tensor(0.5619, grad_fn=<BinaryCrossEntropyBackward>),\n",
       " tensor(0.5976, grad_fn=<BinaryCrossEntropyBackward>),\n",
       " tensor(0.5998, grad_fn=<BinaryCrossEntropyBackward>),\n",
       " tensor(0.7176, grad_fn=<BinaryCrossEntropyBackward>),\n",
       " tensor(0.7015, grad_fn=<BinaryCrossEntropyBackward>),\n",
       " tensor(0.7891, grad_fn=<BinaryCrossEntropyBackward>),\n",
       " tensor(0.6753, grad_fn=<BinaryCrossEntropyBackward>),\n",
       " tensor(0.7160, grad_fn=<BinaryCrossEntropyBackward>),\n",
       " tensor(0.7138, grad_fn=<BinaryCrossEntropyBackward>),\n",
       " tensor(0.5802, grad_fn=<BinaryCrossEntropyBackward>),\n",
       " tensor(0.6298, grad_fn=<BinaryCrossEntropyBackward>),\n",
       " tensor(0.6523, grad_fn=<BinaryCrossEntropyBackward>),\n",
       " tensor(0.6084, grad_fn=<BinaryCrossEntropyBackward>),\n",
       " tensor(0.6046, grad_fn=<BinaryCrossEntropyBackward>),\n",
       " tensor(0.6260, grad_fn=<BinaryCrossEntropyBackward>),\n",
       " tensor(0.5831, grad_fn=<BinaryCrossEntropyBackward>),\n",
       " tensor(0.5857, grad_fn=<BinaryCrossEntropyBackward>),\n",
       " tensor(0.5917, grad_fn=<BinaryCrossEntropyBackward>),\n",
       " tensor(0.5831, grad_fn=<BinaryCrossEntropyBackward>),\n",
       " tensor(0.6051, grad_fn=<BinaryCrossEntropyBackward>),\n",
       " tensor(0.6323, grad_fn=<BinaryCrossEntropyBackward>),\n",
       " tensor(0.6052, grad_fn=<BinaryCrossEntropyBackward>),\n",
       " tensor(0.6099, grad_fn=<BinaryCrossEntropyBackward>),\n",
       " tensor(0.6928, grad_fn=<BinaryCrossEntropyBackward>),\n",
       " tensor(0.6761, grad_fn=<BinaryCrossEntropyBackward>),\n",
       " tensor(0.5911, grad_fn=<BinaryCrossEntropyBackward>),\n",
       " tensor(0.6384, grad_fn=<BinaryCrossEntropyBackward>),\n",
       " tensor(0.6387, grad_fn=<BinaryCrossEntropyBackward>),\n",
       " tensor(0.5743, grad_fn=<BinaryCrossEntropyBackward>),\n",
       " tensor(0.6581, grad_fn=<BinaryCrossEntropyBackward>),\n",
       " tensor(0.5829, grad_fn=<BinaryCrossEntropyBackward>),\n",
       " tensor(0.5408, grad_fn=<BinaryCrossEntropyBackward>),\n",
       " tensor(0.5308, grad_fn=<BinaryCrossEntropyBackward>),\n",
       " tensor(0.6055, grad_fn=<BinaryCrossEntropyBackward>),\n",
       " tensor(0.6146, grad_fn=<BinaryCrossEntropyBackward>),\n",
       " tensor(0.6567, grad_fn=<BinaryCrossEntropyBackward>),\n",
       " tensor(0.5985, grad_fn=<BinaryCrossEntropyBackward>),\n",
       " tensor(0.5999, grad_fn=<BinaryCrossEntropyBackward>),\n",
       " tensor(0.6395, grad_fn=<BinaryCrossEntropyBackward>),\n",
       " tensor(0.6119, grad_fn=<BinaryCrossEntropyBackward>),\n",
       " tensor(0.5806, grad_fn=<BinaryCrossEntropyBackward>),\n",
       " tensor(0.6698, grad_fn=<BinaryCrossEntropyBackward>),\n",
       " tensor(0.5604, grad_fn=<BinaryCrossEntropyBackward>),\n",
       " tensor(0.5602, grad_fn=<BinaryCrossEntropyBackward>),\n",
       " tensor(0.6787, grad_fn=<BinaryCrossEntropyBackward>),\n",
       " tensor(0.6704, grad_fn=<BinaryCrossEntropyBackward>),\n",
       " tensor(0.5545, grad_fn=<BinaryCrossEntropyBackward>),\n",
       " tensor(0.6131, grad_fn=<BinaryCrossEntropyBackward>),\n",
       " tensor(0.5640, grad_fn=<BinaryCrossEntropyBackward>),\n",
       " tensor(0.6455, grad_fn=<BinaryCrossEntropyBackward>),\n",
       " tensor(0.7003, grad_fn=<BinaryCrossEntropyBackward>),\n",
       " tensor(0.5766, grad_fn=<BinaryCrossEntropyBackward>),\n",
       " tensor(0.5864, grad_fn=<BinaryCrossEntropyBackward>),\n",
       " tensor(0.5633, grad_fn=<BinaryCrossEntropyBackward>),\n",
       " tensor(0.6246, grad_fn=<BinaryCrossEntropyBackward>),\n",
       " tensor(0.6071, grad_fn=<BinaryCrossEntropyBackward>),\n",
       " tensor(0.7517, grad_fn=<BinaryCrossEntropyBackward>),\n",
       " tensor(0.5638, grad_fn=<BinaryCrossEntropyBackward>),\n",
       " tensor(0.6455, grad_fn=<BinaryCrossEntropyBackward>),\n",
       " tensor(0.6484, grad_fn=<BinaryCrossEntropyBackward>),\n",
       " tensor(0.6044, grad_fn=<BinaryCrossEntropyBackward>),\n",
       " tensor(0.6317, grad_fn=<BinaryCrossEntropyBackward>),\n",
       " tensor(0.6380, grad_fn=<BinaryCrossEntropyBackward>),\n",
       " tensor(0.5378, grad_fn=<BinaryCrossEntropyBackward>),\n",
       " tensor(0.6382, grad_fn=<BinaryCrossEntropyBackward>),\n",
       " tensor(0.6324, grad_fn=<BinaryCrossEntropyBackward>),\n",
       " tensor(0.5709, grad_fn=<BinaryCrossEntropyBackward>),\n",
       " tensor(0.6421, grad_fn=<BinaryCrossEntropyBackward>),\n",
       " tensor(0.6950, grad_fn=<BinaryCrossEntropyBackward>),\n",
       " tensor(0.6796, grad_fn=<BinaryCrossEntropyBackward>),\n",
       " tensor(0.6257, grad_fn=<BinaryCrossEntropyBackward>),\n",
       " tensor(0.6019, grad_fn=<BinaryCrossEntropyBackward>),\n",
       " tensor(0.6288, grad_fn=<BinaryCrossEntropyBackward>),\n",
       " tensor(0.6417, grad_fn=<BinaryCrossEntropyBackward>),\n",
       " tensor(0.5355, grad_fn=<BinaryCrossEntropyBackward>),\n",
       " tensor(0.7784, grad_fn=<BinaryCrossEntropyBackward>),\n",
       " tensor(0.7386, grad_fn=<BinaryCrossEntropyBackward>),\n",
       " tensor(0.6111, grad_fn=<BinaryCrossEntropyBackward>),\n",
       " tensor(0.5731, grad_fn=<BinaryCrossEntropyBackward>),\n",
       " tensor(0.5963, grad_fn=<BinaryCrossEntropyBackward>),\n",
       " tensor(0.6132, grad_fn=<BinaryCrossEntropyBackward>),\n",
       " tensor(0.5488, grad_fn=<BinaryCrossEntropyBackward>),\n",
       " tensor(0.6432, grad_fn=<BinaryCrossEntropyBackward>),\n",
       " tensor(0.6170, grad_fn=<BinaryCrossEntropyBackward>),\n",
       " tensor(0.5865, grad_fn=<BinaryCrossEntropyBackward>),\n",
       " tensor(0.5953, grad_fn=<BinaryCrossEntropyBackward>),\n",
       " tensor(0.5673, grad_fn=<BinaryCrossEntropyBackward>),\n",
       " tensor(0.6071, grad_fn=<BinaryCrossEntropyBackward>),\n",
       " tensor(0.5927, grad_fn=<BinaryCrossEntropyBackward>),\n",
       " tensor(0.7078, grad_fn=<BinaryCrossEntropyBackward>),\n",
       " tensor(0.5609, grad_fn=<BinaryCrossEntropyBackward>),\n",
       " tensor(0.6061, grad_fn=<BinaryCrossEntropyBackward>),\n",
       " tensor(0.5946, grad_fn=<BinaryCrossEntropyBackward>),\n",
       " tensor(0.6334, grad_fn=<BinaryCrossEntropyBackward>),\n",
       " tensor(0.6230, grad_fn=<BinaryCrossEntropyBackward>),\n",
       " tensor(0.5899, grad_fn=<BinaryCrossEntropyBackward>),\n",
       " tensor(0.6861, grad_fn=<BinaryCrossEntropyBackward>),\n",
       " tensor(0.6485, grad_fn=<BinaryCrossEntropyBackward>),\n",
       " tensor(0.6159, grad_fn=<BinaryCrossEntropyBackward>),\n",
       " tensor(0.5577, grad_fn=<BinaryCrossEntropyBackward>),\n",
       " tensor(0.6077, grad_fn=<BinaryCrossEntropyBackward>),\n",
       " tensor(0.7006, grad_fn=<BinaryCrossEntropyBackward>),\n",
       " tensor(0.6275, grad_fn=<BinaryCrossEntropyBackward>),\n",
       " tensor(0.5346, grad_fn=<BinaryCrossEntropyBackward>),\n",
       " tensor(0.6330, grad_fn=<BinaryCrossEntropyBackward>),\n",
       " tensor(0.5540, grad_fn=<BinaryCrossEntropyBackward>),\n",
       " tensor(0.6014, grad_fn=<BinaryCrossEntropyBackward>),\n",
       " tensor(0.5988, grad_fn=<BinaryCrossEntropyBackward>),\n",
       " tensor(0.5511, grad_fn=<BinaryCrossEntropyBackward>),\n",
       " tensor(0.5899, grad_fn=<BinaryCrossEntropyBackward>),\n",
       " tensor(0.6455, grad_fn=<BinaryCrossEntropyBackward>),\n",
       " tensor(0.6489, grad_fn=<BinaryCrossEntropyBackward>),\n",
       " tensor(0.6113, grad_fn=<BinaryCrossEntropyBackward>),\n",
       " tensor(0.5576, grad_fn=<BinaryCrossEntropyBackward>),\n",
       " tensor(0.6203, grad_fn=<BinaryCrossEntropyBackward>),\n",
       " tensor(0.6788, grad_fn=<BinaryCrossEntropyBackward>),\n",
       " tensor(0.5563, grad_fn=<BinaryCrossEntropyBackward>),\n",
       " tensor(0.5746, grad_fn=<BinaryCrossEntropyBackward>),\n",
       " tensor(0.6272, grad_fn=<BinaryCrossEntropyBackward>),\n",
       " tensor(0.6695, grad_fn=<BinaryCrossEntropyBackward>),\n",
       " tensor(0.7599, grad_fn=<BinaryCrossEntropyBackward>),\n",
       " tensor(0.6349, grad_fn=<BinaryCrossEntropyBackward>),\n",
       " tensor(0.5873, grad_fn=<BinaryCrossEntropyBackward>),\n",
       " tensor(0.5762, grad_fn=<BinaryCrossEntropyBackward>),\n",
       " tensor(0.5935, grad_fn=<BinaryCrossEntropyBackward>),\n",
       " tensor(0.5646, grad_fn=<BinaryCrossEntropyBackward>),\n",
       " tensor(0.6575, grad_fn=<BinaryCrossEntropyBackward>),\n",
       " tensor(0.6294, grad_fn=<BinaryCrossEntropyBackward>),\n",
       " tensor(0.6155, grad_fn=<BinaryCrossEntropyBackward>),\n",
       " tensor(0.6690, grad_fn=<BinaryCrossEntropyBackward>),\n",
       " tensor(0.5935, grad_fn=<BinaryCrossEntropyBackward>),\n",
       " tensor(0.5195, grad_fn=<BinaryCrossEntropyBackward>),\n",
       " tensor(0.6252, grad_fn=<BinaryCrossEntropyBackward>),\n",
       " tensor(0.6062, grad_fn=<BinaryCrossEntropyBackward>),\n",
       " tensor(0.5709, grad_fn=<BinaryCrossEntropyBackward>),\n",
       " tensor(0.5557, grad_fn=<BinaryCrossEntropyBackward>),\n",
       " tensor(0.5470, grad_fn=<BinaryCrossEntropyBackward>),\n",
       " tensor(0.5787, grad_fn=<BinaryCrossEntropyBackward>),\n",
       " tensor(0.5984, grad_fn=<BinaryCrossEntropyBackward>),\n",
       " tensor(0.6248, grad_fn=<BinaryCrossEntropyBackward>),\n",
       " tensor(0.5934, grad_fn=<BinaryCrossEntropyBackward>),\n",
       " tensor(0.6373, grad_fn=<BinaryCrossEntropyBackward>),\n",
       " tensor(0.5763, grad_fn=<BinaryCrossEntropyBackward>),\n",
       " tensor(0.6537, grad_fn=<BinaryCrossEntropyBackward>),\n",
       " tensor(0.6315, grad_fn=<BinaryCrossEntropyBackward>),\n",
       " tensor(0.6471, grad_fn=<BinaryCrossEntropyBackward>),\n",
       " tensor(0.6058, grad_fn=<BinaryCrossEntropyBackward>),\n",
       " tensor(0.6043, grad_fn=<BinaryCrossEntropyBackward>),\n",
       " tensor(0.6349, grad_fn=<BinaryCrossEntropyBackward>),\n",
       " tensor(0.6177, grad_fn=<BinaryCrossEntropyBackward>),\n",
       " tensor(0.6329, grad_fn=<BinaryCrossEntropyBackward>),\n",
       " tensor(0.5789, grad_fn=<BinaryCrossEntropyBackward>),\n",
       " tensor(0.5881, grad_fn=<BinaryCrossEntropyBackward>),\n",
       " tensor(0.6108, grad_fn=<BinaryCrossEntropyBackward>),\n",
       " tensor(0.6662, grad_fn=<BinaryCrossEntropyBackward>),\n",
       " tensor(0.6945, grad_fn=<BinaryCrossEntropyBackward>),\n",
       " tensor(0.7300, grad_fn=<BinaryCrossEntropyBackward>),\n",
       " tensor(0.7114, grad_fn=<BinaryCrossEntropyBackward>),\n",
       " tensor(0.6091, grad_fn=<BinaryCrossEntropyBackward>),\n",
       " tensor(0.6047, grad_fn=<BinaryCrossEntropyBackward>),\n",
       " tensor(0.5747, grad_fn=<BinaryCrossEntropyBackward>),\n",
       " tensor(0.6216, grad_fn=<BinaryCrossEntropyBackward>),\n",
       " tensor(0.6225, grad_fn=<BinaryCrossEntropyBackward>),\n",
       " tensor(0.5433, grad_fn=<BinaryCrossEntropyBackward>),\n",
       " tensor(0.6143, grad_fn=<BinaryCrossEntropyBackward>),\n",
       " tensor(0.5711, grad_fn=<BinaryCrossEntropyBackward>),\n",
       " tensor(0.5755, grad_fn=<BinaryCrossEntropyBackward>),\n",
       " tensor(0.6459, grad_fn=<BinaryCrossEntropyBackward>),\n",
       " tensor(0.6549, grad_fn=<BinaryCrossEntropyBackward>),\n",
       " tensor(0.7755, grad_fn=<BinaryCrossEntropyBackward>),\n",
       " tensor(0.5989, grad_fn=<BinaryCrossEntropyBackward>),\n",
       " tensor(0.6520, grad_fn=<BinaryCrossEntropyBackward>),\n",
       " tensor(0.6229, grad_fn=<BinaryCrossEntropyBackward>),\n",
       " tensor(0.6848, grad_fn=<BinaryCrossEntropyBackward>),\n",
       " tensor(0.6574, grad_fn=<BinaryCrossEntropyBackward>),\n",
       " tensor(0.6306, grad_fn=<BinaryCrossEntropyBackward>),\n",
       " tensor(0.6435, grad_fn=<BinaryCrossEntropyBackward>),\n",
       " tensor(0.5291, grad_fn=<BinaryCrossEntropyBackward>),\n",
       " tensor(0.6002, grad_fn=<BinaryCrossEntropyBackward>),\n",
       " tensor(0.5226, grad_fn=<BinaryCrossEntropyBackward>),\n",
       " tensor(0.5854, grad_fn=<BinaryCrossEntropyBackward>),\n",
       " tensor(0.6406, grad_fn=<BinaryCrossEntropyBackward>),\n",
       " tensor(0.6195, grad_fn=<BinaryCrossEntropyBackward>),\n",
       " tensor(0.6020, grad_fn=<BinaryCrossEntropyBackward>),\n",
       " tensor(0.6360, grad_fn=<BinaryCrossEntropyBackward>),\n",
       " tensor(0.6059, grad_fn=<BinaryCrossEntropyBackward>),\n",
       " tensor(0.6113, grad_fn=<BinaryCrossEntropyBackward>),\n",
       " tensor(0.5863, grad_fn=<BinaryCrossEntropyBackward>),\n",
       " tensor(0.6545, grad_fn=<BinaryCrossEntropyBackward>),\n",
       " tensor(0.6570, grad_fn=<BinaryCrossEntropyBackward>),\n",
       " tensor(0.6418, grad_fn=<BinaryCrossEntropyBackward>),\n",
       " tensor(0.6077, grad_fn=<BinaryCrossEntropyBackward>),\n",
       " tensor(0.6491, grad_fn=<BinaryCrossEntropyBackward>),\n",
       " tensor(0.5852, grad_fn=<BinaryCrossEntropyBackward>),\n",
       " tensor(0.7474, grad_fn=<BinaryCrossEntropyBackward>),\n",
       " tensor(0.5712, grad_fn=<BinaryCrossEntropyBackward>),\n",
       " tensor(0.6257, grad_fn=<BinaryCrossEntropyBackward>),\n",
       " tensor(0.6631, grad_fn=<BinaryCrossEntropyBackward>),\n",
       " tensor(0.6625, grad_fn=<BinaryCrossEntropyBackward>),\n",
       " tensor(0.6824, grad_fn=<BinaryCrossEntropyBackward>),\n",
       " tensor(0.6368, grad_fn=<BinaryCrossEntropyBackward>),\n",
       " tensor(0.5892, grad_fn=<BinaryCrossEntropyBackward>),\n",
       " tensor(0.6382, grad_fn=<BinaryCrossEntropyBackward>),\n",
       " tensor(0.6472, grad_fn=<BinaryCrossEntropyBackward>),\n",
       " tensor(0.6882, grad_fn=<BinaryCrossEntropyBackward>),\n",
       " tensor(0.6551, grad_fn=<BinaryCrossEntropyBackward>),\n",
       " tensor(0.6052, grad_fn=<BinaryCrossEntropyBackward>),\n",
       " tensor(0.6246, grad_fn=<BinaryCrossEntropyBackward>),\n",
       " tensor(0.6215, grad_fn=<BinaryCrossEntropyBackward>),\n",
       " tensor(0.6385, grad_fn=<BinaryCrossEntropyBackward>),\n",
       " tensor(0.6270, grad_fn=<BinaryCrossEntropyBackward>),\n",
       " tensor(0.6002, grad_fn=<BinaryCrossEntropyBackward>),\n",
       " tensor(0.6250, grad_fn=<BinaryCrossEntropyBackward>),\n",
       " tensor(0.6042, grad_fn=<BinaryCrossEntropyBackward>),\n",
       " tensor(0.6168, grad_fn=<BinaryCrossEntropyBackward>),\n",
       " tensor(0.6098, grad_fn=<BinaryCrossEntropyBackward>),\n",
       " tensor(0.6785, grad_fn=<BinaryCrossEntropyBackward>),\n",
       " tensor(0.5705, grad_fn=<BinaryCrossEntropyBackward>),\n",
       " tensor(0.6156, grad_fn=<BinaryCrossEntropyBackward>),\n",
       " tensor(0.6385, grad_fn=<BinaryCrossEntropyBackward>),\n",
       " tensor(0.6245, grad_fn=<BinaryCrossEntropyBackward>),\n",
       " tensor(0.5976, grad_fn=<BinaryCrossEntropyBackward>),\n",
       " tensor(0.6049, grad_fn=<BinaryCrossEntropyBackward>),\n",
       " tensor(0.5776, grad_fn=<BinaryCrossEntropyBackward>),\n",
       " tensor(0.5793, grad_fn=<BinaryCrossEntropyBackward>),\n",
       " tensor(0.6916, grad_fn=<BinaryCrossEntropyBackward>),\n",
       " tensor(0.6267, grad_fn=<BinaryCrossEntropyBackward>),\n",
       " tensor(0.6670, grad_fn=<BinaryCrossEntropyBackward>),\n",
       " tensor(0.6163, grad_fn=<BinaryCrossEntropyBackward>),\n",
       " tensor(0.5714, grad_fn=<BinaryCrossEntropyBackward>),\n",
       " tensor(0.6285, grad_fn=<BinaryCrossEntropyBackward>),\n",
       " tensor(0.5474, grad_fn=<BinaryCrossEntropyBackward>),\n",
       " tensor(0.5500, grad_fn=<BinaryCrossEntropyBackward>),\n",
       " tensor(0.6124, grad_fn=<BinaryCrossEntropyBackward>),\n",
       " tensor(0.5546, grad_fn=<BinaryCrossEntropyBackward>),\n",
       " tensor(0.5989, grad_fn=<BinaryCrossEntropyBackward>),\n",
       " tensor(0.5983, grad_fn=<BinaryCrossEntropyBackward>),\n",
       " tensor(0.6645, grad_fn=<BinaryCrossEntropyBackward>),\n",
       " tensor(0.7040, grad_fn=<BinaryCrossEntropyBackward>),\n",
       " tensor(0.6009, grad_fn=<BinaryCrossEntropyBackward>),\n",
       " tensor(0.5262, grad_fn=<BinaryCrossEntropyBackward>),\n",
       " tensor(0.6288, grad_fn=<BinaryCrossEntropyBackward>),\n",
       " tensor(0.5762, grad_fn=<BinaryCrossEntropyBackward>),\n",
       " tensor(0.6461, grad_fn=<BinaryCrossEntropyBackward>),\n",
       " tensor(0.6071, grad_fn=<BinaryCrossEntropyBackward>),\n",
       " tensor(0.6218, grad_fn=<BinaryCrossEntropyBackward>),\n",
       " tensor(0.6370, grad_fn=<BinaryCrossEntropyBackward>),\n",
       " tensor(0.5978, grad_fn=<BinaryCrossEntropyBackward>),\n",
       " tensor(0.6488, grad_fn=<BinaryCrossEntropyBackward>),\n",
       " tensor(0.6145, grad_fn=<BinaryCrossEntropyBackward>),\n",
       " tensor(0.6981, grad_fn=<BinaryCrossEntropyBackward>),\n",
       " tensor(0.5733, grad_fn=<BinaryCrossEntropyBackward>),\n",
       " tensor(0.5820, grad_fn=<BinaryCrossEntropyBackward>),\n",
       " tensor(0.5883, grad_fn=<BinaryCrossEntropyBackward>),\n",
       " tensor(0.5898, grad_fn=<BinaryCrossEntropyBackward>),\n",
       " tensor(0.5336, grad_fn=<BinaryCrossEntropyBackward>),\n",
       " tensor(0.6043, grad_fn=<BinaryCrossEntropyBackward>),\n",
       " tensor(0.5969, grad_fn=<BinaryCrossEntropyBackward>),\n",
       " tensor(0.7646, grad_fn=<BinaryCrossEntropyBackward>),\n",
       " tensor(0.6224, grad_fn=<BinaryCrossEntropyBackward>),\n",
       " tensor(0.6995, grad_fn=<BinaryCrossEntropyBackward>),\n",
       " tensor(0.5650, grad_fn=<BinaryCrossEntropyBackward>),\n",
       " tensor(0.5518, grad_fn=<BinaryCrossEntropyBackward>),\n",
       " tensor(0.6465, grad_fn=<BinaryCrossEntropyBackward>),\n",
       " tensor(0.6236, grad_fn=<BinaryCrossEntropyBackward>),\n",
       " tensor(0.6249, grad_fn=<BinaryCrossEntropyBackward>),\n",
       " tensor(0.6287, grad_fn=<BinaryCrossEntropyBackward>),\n",
       " tensor(0.6163, grad_fn=<BinaryCrossEntropyBackward>),\n",
       " tensor(0.5814, grad_fn=<BinaryCrossEntropyBackward>),\n",
       " tensor(0.5899, grad_fn=<BinaryCrossEntropyBackward>),\n",
       " tensor(0.5701, grad_fn=<BinaryCrossEntropyBackward>),\n",
       " tensor(0.6281, grad_fn=<BinaryCrossEntropyBackward>),\n",
       " ...]"
      ]
     },
     "execution_count": 84,
     "metadata": {
      "tags": []
     },
     "output_type": "execute_result"
    }
   ],
   "source": [
    "LOSS"
   ]
  },
  {
   "cell_type": "code",
   "execution_count": null,
   "metadata": {
    "colab": {},
    "colab_type": "code",
    "id": "hXysuUq-WE8e"
   },
   "outputs": [],
   "source": [
    "accuracy = []\n",
    "for x, y in loader_test:\n",
    "    x, y = x.to(device), y.to(device)\n",
    "    z = classifier(x)\n",
    "    accuracy.append((sum(z > 0.5).item() / sum(y)).item())"
   ]
  },
  {
   "cell_type": "code",
   "execution_count": 32,
   "metadata": {
    "colab": {
     "base_uri": "https://localhost:8080/",
     "height": 35
    },
    "colab_type": "code",
    "id": "9YtSfGNUWEr9",
    "outputId": "8005b1ed-f771-4341-b9fa-b7a965ad10ff"
   },
   "outputs": [
    {
     "data": {
      "text/plain": [
       "0.7712454939190345"
      ]
     },
     "execution_count": 32,
     "metadata": {
      "tags": []
     },
     "output_type": "execute_result"
    }
   ],
   "source": [
    "np.mean(accuracy)"
   ]
  },
  {
   "cell_type": "code",
   "execution_count": null,
   "metadata": {
    "colab": {},
    "colab_type": "code",
    "id": "4oXT-ss3rScY"
   },
   "outputs": [],
   "source": [
    "x = '흠...포스터보고 초딩영화줄....오버연기조차 가볍지 않구나'\n",
    "tokenized = tokenizer.encode(x, add_special_tokens=True)"
   ]
  },
  {
   "cell_type": "code",
   "execution_count": 76,
   "metadata": {
    "colab": {
     "base_uri": "https://localhost:8080/",
     "height": 573
    },
    "colab_type": "code",
    "id": "cNtHrX7miY1l",
    "outputId": "af4e5a23-57d6-4bfa-fa2e-9a1e889ed879"
   },
   "outputs": [
    {
     "data": {
      "text/plain": [
       "[101,\n",
       " 100,\n",
       " 119,\n",
       " 119,\n",
       " 119,\n",
       " 9928,\n",
       " 58823,\n",
       " 30005,\n",
       " 11664,\n",
       " 9757,\n",
       " 118823,\n",
       " 30858,\n",
       " 18227,\n",
       " 119219,\n",
       " 119,\n",
       " 119,\n",
       " 119,\n",
       " 119,\n",
       " 9580,\n",
       " 41605,\n",
       " 25486,\n",
       " 12310,\n",
       " 20626,\n",
       " 23466,\n",
       " 8843,\n",
       " 118986,\n",
       " 12508,\n",
       " 9523,\n",
       " 17196,\n",
       " 16439,\n",
       " 102]"
      ]
     },
     "execution_count": 76,
     "metadata": {
      "tags": []
     },
     "output_type": "execute_result"
    }
   ],
   "source": [
    "tokenized"
   ]
  },
  {
   "cell_type": "code",
   "execution_count": 77,
   "metadata": {
    "colab": {
     "base_uri": "https://localhost:8080/",
     "height": 35
    },
    "colab_type": "code",
    "id": "GJK0VlG5rkaR",
    "outputId": "e91c4c60-eaf1-4e7d-da78-586df49b8398"
   },
   "outputs": [
    {
     "data": {
      "text/plain": [
       "'[CLS] [UNK]... 포스터보고 초딩영화줄.... 오버연기조차 가볍지 않구나 [SEP]'"
      ]
     },
     "execution_count": 77,
     "metadata": {
      "tags": []
     },
     "output_type": "execute_result"
    }
   ],
   "source": [
    "tokenizer.decode(tokenized)"
   ]
  },
  {
   "cell_type": "code",
   "execution_count": 78,
   "metadata": {
    "colab": {
     "base_uri": "https://localhost:8080/",
     "height": 125
    },
    "colab_type": "code",
    "id": "u5BVsetyrscM",
    "outputId": "f2b43bee-f6e4-4977-da52-3894d4a314df"
   },
   "outputs": [
    {
     "data": {
      "text/plain": [
       "array([[   101,    100,    119,    119,    119,   9928,  58823,  30005,\n",
       "         11664,   9757, 118823,  30858,  18227, 119219,    119,    119,\n",
       "           119,    119,   9580,  41605,  25486,  12310,  20626,  23466,\n",
       "          8843, 118986,  12508,   9523,  17196,  16439,    102,      0,\n",
       "             0,      0,      0,      0,      0,      0,      0,      0]],\n",
       "      dtype=int32)"
      ]
     },
     "execution_count": 78,
     "metadata": {
      "tags": []
     },
     "output_type": "execute_result"
    }
   ],
   "source": [
    "padded = pad_sequences([tokenized], maxlen=max_len, padding='post')\n",
    "padded"
   ]
  },
  {
   "cell_type": "code",
   "execution_count": 79,
   "metadata": {
    "colab": {
     "base_uri": "https://localhost:8080/",
     "height": 53
    },
    "colab_type": "code",
    "id": "vfmU6Nwyr5bc",
    "outputId": "47911eb1-5b6d-4cb2-b146-5436e147335e"
   },
   "outputs": [
    {
     "data": {
      "text/plain": [
       "array([[1, 1, 1, 1, 1, 1, 1, 1, 1, 1, 1, 1, 1, 1, 1, 1, 1, 1, 1, 1, 1, 1,\n",
       "        1, 1, 1, 1, 1, 1, 1, 1, 1, 0, 0, 0, 0, 0, 0, 0, 0, 0]])"
      ]
     },
     "execution_count": 79,
     "metadata": {
      "tags": []
     },
     "output_type": "execute_result"
    }
   ],
   "source": [
    "attention_mask = np.where(padded !=0, 1, 0 )\n",
    "attention_mask"
   ]
  },
  {
   "cell_type": "code",
   "execution_count": null,
   "metadata": {
    "colab": {},
    "colab_type": "code",
    "id": "66U_cswttLlr"
   },
   "outputs": [],
   "source": [
    "input_ids = torch.tensor(padded).to(torch.int64).to(device)\n",
    "attention_mask = torch.tensor(attention_mask).to(device)"
   ]
  },
  {
   "cell_type": "code",
   "execution_count": 81,
   "metadata": {
    "colab": {
     "base_uri": "https://localhost:8080/",
     "height": 35
    },
    "colab_type": "code",
    "id": "3lPYzBZLtjWM",
    "outputId": "b55c5de4-b7df-4818-f12a-6329bd39eea6"
   },
   "outputs": [
    {
     "data": {
      "text/plain": [
       "torch.Size([1, 40, 768])"
      ]
     },
     "execution_count": 81,
     "metadata": {
      "tags": []
     },
     "output_type": "execute_result"
    }
   ],
   "source": [
    "hidden = model(input_ids, attention_mask)\n",
    "hidden[0].shape"
   ]
  },
  {
   "cell_type": "code",
   "execution_count": null,
   "metadata": {
    "colab": {},
    "colab_type": "code",
    "id": "9Q5Qfcotv8t8"
   },
   "outputs": [],
   "source": [
    "features = hidden[0][0 ,0, :].to(\"cpu\").detach()"
   ]
  },
  {
   "cell_type": "code",
   "execution_count": 83,
   "metadata": {
    "colab": {
     "base_uri": "https://localhost:8080/",
     "height": 35
    },
    "colab_type": "code",
    "id": "tuAsBcQvuCyc",
    "outputId": "44245dd2-7dea-4434-aff4-4e8ce0feeda5"
   },
   "outputs": [
    {
     "data": {
      "text/plain": [
       "0.05125465244054794"
      ]
     },
     "execution_count": 83,
     "metadata": {
      "tags": []
     },
     "output_type": "execute_result"
    }
   ],
   "source": [
    "classifier(features.to(device)).item()"
   ]
  },
  {
   "cell_type": "code",
   "execution_count": null,
   "metadata": {
    "colab": {},
    "colab_type": "code",
    "id": "zckHMYyWu8rq"
   },
   "outputs": [],
   "source": []
  }
 ],
 "metadata": {
  "accelerator": "GPU",
  "colab": {
   "collapsed_sections": [],
   "machine_shape": "hm",
   "name": "144_HuggingFace_Naver_Movie_Review_Classification.ipynb",
   "provenance": []
  },
  "kernelspec": {
   "display_name": "Python 3",
   "language": "python",
   "name": "python3"
  },
  "language_info": {
   "codemirror_mode": {
    "name": "ipython",
    "version": 3
   },
   "file_extension": ".py",
   "mimetype": "text/x-python",
   "name": "python",
   "nbconvert_exporter": "python",
   "pygments_lexer": "ipython3",
   "version": "3.7.6"
  }
 },
 "nbformat": 4,
 "nbformat_minor": 4
}
