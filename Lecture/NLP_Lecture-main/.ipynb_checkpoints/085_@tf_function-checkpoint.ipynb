{
 "cells": [
  {
   "cell_type": "markdown",
   "metadata": {},
   "source": [
    "# Introduction to Tensorflow 2.0 and Keras"
   ]
  },
  {
   "cell_type": "code",
   "execution_count": 1,
   "metadata": {},
   "outputs": [],
   "source": [
    "import tensorflow as tf\n",
    "import numpy as np\n",
    "from tensorflow.keras.layers import Dense, Activation"
   ]
  },
  {
   "cell_type": "code",
   "execution_count": 2,
   "metadata": {},
   "outputs": [],
   "source": [
    "# load mnist data\n",
    "(X_train, y_train), (X_test, y_test) = tf.keras.datasets.mnist.load_data()\n",
    "X_train = X_train.reshape(-1, 784).astype(\"float32\")\n",
    "X_test  = X_test.reshape(-1, 784).astype(\"float32\")\n",
    "\n",
    "X_train /= 255.\n",
    "X_test /= 255.\n",
    "\n",
    "Y_train = tf.keras.utils.to_categorical(y_train)\n",
    "Y_test = tf.keras.utils.to_categorical(y_test)"
   ]
  },
  {
   "cell_type": "markdown",
   "metadata": {},
   "source": [
    "- tf.data를 사용하여 데이터셋을 섞고 배치를 만듬"
   ]
  },
  {
   "cell_type": "code",
   "execution_count": 3,
   "metadata": {},
   "outputs": [],
   "source": [
    "train_ds = tf.data.Dataset.from_tensor_slices(\n",
    "                (X_train, Y_train)).shuffle(10000).batch(512)\n",
    "test_ds = tf.data.Dataset.from_tensor_slices((X_test, Y_test)).batch(512)"
   ]
  },
  {
   "cell_type": "markdown",
   "metadata": {},
   "source": [
    "# Keras High Level API\n",
    "\n",
    "- 초, 중급자용 API"
   ]
  },
  {
   "cell_type": "code",
   "execution_count": 4,
   "metadata": {},
   "outputs": [
    {
     "name": "stdout",
     "output_type": "stream",
     "text": [
      "Model: \"sequential\"\n",
      "_________________________________________________________________\n",
      "Layer (type)                 Output Shape              Param #   \n",
      "=================================================================\n",
      "dense (Dense)                (None, 120)               94200     \n",
      "_________________________________________________________________\n",
      "dense_1 (Dense)              (None, 64)                7744      \n",
      "_________________________________________________________________\n",
      "dense_2 (Dense)              (None, 10)                650       \n",
      "=================================================================\n",
      "Total params: 102,594\n",
      "Trainable params: 102,594\n",
      "Non-trainable params: 0\n",
      "_________________________________________________________________\n"
     ]
    }
   ],
   "source": [
    "# model 1 : No Hidden Layer\n",
    "model = tf.keras.models.Sequential()\n",
    "model.add(Dense(120, input_shape=(784,), activation='relu'))\n",
    "model.add(Dense(64, activation='relu'))\n",
    "model.add(Dense(10 , activation='softmax'))\n",
    "\n",
    "model.summary()"
   ]
  },
  {
   "cell_type": "markdown",
   "metadata": {},
   "source": [
    "- Loss 함수와 optimizer 지정"
   ]
  },
  {
   "cell_type": "code",
   "execution_count": 5,
   "metadata": {},
   "outputs": [],
   "source": [
    "model.compile(loss='categorical_crossentropy', optimizer='adam', metrics=[\"accuracy\"])"
   ]
  },
  {
   "cell_type": "markdown",
   "metadata": {},
   "source": [
    "- Train"
   ]
  },
  {
   "cell_type": "code",
   "execution_count": 6,
   "metadata": {},
   "outputs": [
    {
     "name": "stdout",
     "output_type": "stream",
     "text": [
      "Epoch 1/5\n",
      "118/118 - 2s - loss: 0.5754 - accuracy: 0.8452 - val_loss: 0.0000e+00 - val_accuracy: 0.0000e+00\n",
      "Epoch 2/5\n",
      "118/118 - 1s - loss: 0.2173 - accuracy: 0.9385 - val_loss: 0.1883 - val_accuracy: 0.9442\n",
      "Epoch 3/5\n",
      "118/118 - 1s - loss: 0.1625 - accuracy: 0.9531 - val_loss: 0.1632 - val_accuracy: 0.9537\n",
      "Epoch 4/5\n",
      "118/118 - 1s - loss: 0.1276 - accuracy: 0.9631 - val_loss: 0.1298 - val_accuracy: 0.9620\n",
      "Epoch 5/5\n",
      "118/118 - 1s - loss: 0.1076 - accuracy: 0.9688 - val_loss: 0.1135 - val_accuracy: 0.9654\n",
      "Test score : 0.11348694143816829\n",
      "Test accuracy : 0.9654\n"
     ]
    }
   ],
   "source": [
    "history = model.fit(train_ds, epochs=5, verbose=2, validation_data=test_ds)\n",
    "\n",
    "score = model.evaluate(test_ds, verbose=0)\n",
    "\n",
    "print(\"Test score :\", score[0])          # evaluation of loss function\n",
    "print(\"Test accuracy :\", score[1])"
   ]
  },
  {
   "cell_type": "markdown",
   "metadata": {},
   "source": [
    "### what is decorator ?"
   ]
  },
  {
   "cell_type": "code",
   "execution_count": 30,
   "metadata": {},
   "outputs": [],
   "source": [
    "def decorator_func(original_func):\n",
    "    \n",
    "    def wrapper_func(*args):\n",
    "        print(\"{} 함수가 실행\".format(original_func.__name__))\n",
    "        for arg in args:\n",
    "            print(arg)\n",
    "        return original_func(*args)\n",
    "    \n",
    "    return wrapper_func"
   ]
  },
  {
   "cell_type": "code",
   "execution_count": 32,
   "metadata": {},
   "outputs": [
    {
     "name": "stdout",
     "output_type": "stream",
     "text": [
      "index 함수가 실행\n",
      "이름\n",
      "40\n",
      "welcome to homepage\n"
     ]
    }
   ],
   "source": [
    "@decorator_func\n",
    "def index(name, age):\n",
    "    print(\"welcome to homepage\")\n",
    "    \n",
    "index('이름', 40)"
   ]
  },
  {
   "cell_type": "markdown",
   "metadata": {},
   "source": [
    "# tf.function decorator\n",
    "\n",
    "- 전문가용 API  \n",
    "- 케라스(Keras)의 모델 서브클래싱(subclassing) API를 사용하여 tf.keras 모델 생성"
   ]
  },
  {
   "cell_type": "code",
   "execution_count": 33,
   "metadata": {},
   "outputs": [],
   "source": [
    "from tensorflow.keras import Model\n",
    "\n",
    "class MyModel(Model):\n",
    "    def __init__(self):\n",
    "        super().__init__()\n",
    "        self.d1 = Dense(120, activation='relu')\n",
    "        self.d2 = Dense(64, activation='relu')\n",
    "        self.d3 = Dense(10, activation='softmax')\n",
    "\n",
    "    def call(self, x):\n",
    "        x = self.d1(x)\n",
    "        x = self.d2(x)\n",
    "        x = self.d3(x)\n",
    "        return x\n",
    "\n",
    "model = MyModel()"
   ]
  },
  {
   "cell_type": "markdown",
   "metadata": {},
   "source": [
    "- Loss 함수와 optimizer 지정"
   ]
  },
  {
   "cell_type": "code",
   "execution_count": 34,
   "metadata": {},
   "outputs": [],
   "source": [
    "loss_object = tf.keras.losses.CategoricalCrossentropy()\n",
    "\n",
    "optimizer = tf.keras.optimizers.Adam()"
   ]
  },
  {
   "cell_type": "markdown",
   "metadata": {},
   "source": [
    "- 모델의 손실과 성능을 측정할 지표를 선택"
   ]
  },
  {
   "cell_type": "code",
   "execution_count": 35,
   "metadata": {},
   "outputs": [],
   "source": [
    "train_loss = tf.keras.metrics.Mean(name='train_loss')\n",
    "train_accuracy = tf.keras.metrics.CategoricalAccuracy(name='train_accuracy')\n",
    "\n",
    "test_loss = tf.keras.metrics.Mean(name='test_loss')\n",
    "test_accuracy = tf.keras.metrics.CategoricalAccuracy(name='test_accuracy')"
   ]
  },
  {
   "cell_type": "markdown",
   "metadata": {},
   "source": [
    "### tf.GradientTape를 사용하여 모델을 훈련\n",
    "\n",
    "- tf.GradientTape는 컨텍스트(context) 안에서 실행된 모든 연산을 테이프(tape)에 \"기록\"  \n",
    "\n",
    "\n",
    "- 그 다음 텐서플로는 후진 방식 자동 미분(reverse mode differentiation)을 사용해 테이프에 \"기록된\" 연산의 그래디언트를 계산"
   ]
  },
  {
   "cell_type": "code",
   "execution_count": 36,
   "metadata": {},
   "outputs": [],
   "source": [
    "@tf.function\n",
    "def train_step(images, labels):\n",
    "    \n",
    "    with tf.GradientTape() as tape:\n",
    "        predictions = model(images)\n",
    "        loss = loss_object(labels, predictions)\n",
    "        \n",
    "    gradients = tape.gradient(loss, model.trainable_variables)\n",
    "    optimizer.apply_gradients(zip(gradients, model.trainable_variables))\n",
    "\n",
    "    train_loss(loss)\n",
    "    train_accuracy(labels, predictions)"
   ]
  },
  {
   "cell_type": "code",
   "execution_count": 37,
   "metadata": {},
   "outputs": [],
   "source": [
    "@tf.function\n",
    "def test_step(images, labels):\n",
    "    predictions = model(images)\n",
    "    t_loss = loss_object(labels, predictions)\n",
    "\n",
    "    test_loss(t_loss)\n",
    "    test_accuracy(labels, predictions)"
   ]
  },
  {
   "cell_type": "markdown",
   "metadata": {},
   "source": [
    "- Train"
   ]
  },
  {
   "cell_type": "code",
   "execution_count": 27,
   "metadata": {},
   "outputs": [
    {
     "name": "stdout",
     "output_type": "stream",
     "text": [
      "epoch: 1, loss: 0.1477, accuracy: 95.7815, val_loss: 0.1284, val_accuracy: 96.1345\n",
      "epoch: 2, loss: 0.1391, accuracy: 96.0257, val_loss: 0.1246, val_accuracy: 96.2442\n",
      "epoch: 3, loss: 0.1314, accuracy: 96.2396, val_loss: 0.1214, val_accuracy: 96.3377\n",
      "epoch: 4, loss: 0.1246, accuracy: 96.4337, val_loss: 0.1182, val_accuracy: 96.4343\n",
      "epoch: 5, loss: 0.1183, accuracy: 96.6159, val_loss: 0.1156, val_accuracy: 96.5100\n"
     ]
    }
   ],
   "source": [
    "for epoch in range(5):\n",
    "    for images, labels in train_ds:\n",
    "        train_step(images, labels)\n",
    "\n",
    "    for test_images, test_labels in test_ds:\n",
    "        test_step(test_images, test_labels)\n",
    "\n",
    "    template = 'epoch: {}, loss: {:.4f}, accuracy: {:.4f}, val_loss: {:.4f}, val_accuracy: {:.4f}'\n",
    "    print (template.format(epoch+1,\n",
    "                         train_loss.result(),\n",
    "                         train_accuracy.result()*100,\n",
    "                         test_loss.result(),\n",
    "                         test_accuracy.result()*100))"
   ]
  }
 ],
 "metadata": {
  "kernelspec": {
   "display_name": "Python 3",
   "language": "python",
   "name": "python3"
  },
  "language_info": {
   "codemirror_mode": {
    "name": "ipython",
    "version": 3
   },
   "file_extension": ".py",
   "mimetype": "text/x-python",
   "name": "python",
   "nbconvert_exporter": "python",
   "pygments_lexer": "ipython3",
   "version": "3.7.6"
  }
 },
 "nbformat": 4,
 "nbformat_minor": 2
}
