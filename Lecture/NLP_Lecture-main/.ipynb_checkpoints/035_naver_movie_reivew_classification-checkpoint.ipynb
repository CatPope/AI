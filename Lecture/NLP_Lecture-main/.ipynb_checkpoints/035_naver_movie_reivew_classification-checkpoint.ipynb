{
 "cells": [
  {
   "cell_type": "markdown",
   "metadata": {
    "id": "Q8keQOCGZG2p"
   },
   "source": [
    "# 035. 네이버 영화평 감성 분류\n",
    "\n",
    "- 한글 형태소 분석기 Okt 사용 전처리  \n",
    "\n",
    "- Keras Tokenizer, pad_sequences 함수 사용"
   ]
  },
  {
   "cell_type": "code",
   "execution_count": 2,
   "metadata": {
    "colab": {
     "base_uri": "https://localhost:8080/"
    },
    "id": "thLM4zKvZuKd",
    "outputId": "02176295-0acb-4696-d30f-166d366370c4"
   },
   "outputs": [
    {
     "name": "stderr",
     "output_type": "stream",
     "text": [
      "WARNING: Ignoring invalid distribution -cikit-learn (c:\\users\\trimu\\anaconda3\\lib\\site-packages)\n",
      "WARNING: Ignoring invalid distribution -rotobuf (c:\\users\\trimu\\anaconda3\\lib\\site-packages)\n",
      "WARNING: Ignoring invalid distribution -cikit-learn (c:\\users\\trimu\\anaconda3\\lib\\site-packages)\n",
      "WARNING: Ignoring invalid distribution -rotobuf (c:\\users\\trimu\\anaconda3\\lib\\site-packages)\n"
     ]
    }
   ],
   "source": [
    "!pip install -q KoNLPy"
   ]
  },
  {
   "cell_type": "code",
   "execution_count": 1,
   "metadata": {
    "id": "shkZRINiZG2q"
   },
   "outputs": [],
   "source": [
    "import numpy as np\n",
    "import pandas as pd\n",
    "import re\n",
    "import time\n",
    "import matplotlib.pyplot as plt\n",
    "\n",
    "from konlpy.tag import Okt\n",
    "import tensorflow as tf\n",
    "from tensorflow.keras.preprocessing.text import Tokenizer\n",
    "from tensorflow.keras.preprocessing.sequence import pad_sequences\n",
    "\n",
    "from tensorflow.keras.models import Sequential\n",
    "from tensorflow.keras.layers import Embedding, Bidirectional, Dense, LSTM"
   ]
  },
  {
   "cell_type": "code",
   "execution_count": 2,
   "metadata": {
    "colab": {
     "base_uri": "https://localhost:8080/"
    },
    "id": "PBIaLV_xZG2u",
    "outputId": "514b5e0d-fd91-4720-dd1d-a681533520e3"
   },
   "outputs": [],
   "source": [
    "DATA_TRAIN_PATH = tf.keras.utils.get_file(\"ratings_train.txt\",\n",
    "                        \"https://raw.github.com/ironmanciti/Infran_NLP/main/data/naver_movie/ratings_train.txt\")\n",
    "DATA_TEST_PATH = tf.keras.utils.get_file(\"ratings_test.txt\",\n",
    "                        \"https://raw.github.com/ironmanciti/Infran_NLP/main/data/naver_movie/ratings_test.txt\")"
   ]
  },
  {
   "cell_type": "code",
   "execution_count": 5,
   "metadata": {
    "colab": {
     "base_uri": "https://localhost:8080/",
     "height": 225
    },
    "id": "O2411HrHZG2y",
    "outputId": "e3c0cd0a-465a-4c79-f084-76a5d5a4bf96"
   },
   "outputs": [
    {
     "name": "stdout",
     "output_type": "stream",
     "text": [
      "(150000, 3)\n"
     ]
    },
    {
     "data": {
      "text/html": [
       "<div>\n",
       "<style scoped>\n",
       "    .dataframe tbody tr th:only-of-type {\n",
       "        vertical-align: middle;\n",
       "    }\n",
       "\n",
       "    .dataframe tbody tr th {\n",
       "        vertical-align: top;\n",
       "    }\n",
       "\n",
       "    .dataframe thead th {\n",
       "        text-align: right;\n",
       "    }\n",
       "</style>\n",
       "<table border=\"1\" class=\"dataframe\">\n",
       "  <thead>\n",
       "    <tr style=\"text-align: right;\">\n",
       "      <th></th>\n",
       "      <th>id</th>\n",
       "      <th>document</th>\n",
       "      <th>label</th>\n",
       "    </tr>\n",
       "  </thead>\n",
       "  <tbody>\n",
       "    <tr>\n",
       "      <th>0</th>\n",
       "      <td>9976970</td>\n",
       "      <td>아 더빙.. 진짜 짜증나네요 목소리</td>\n",
       "      <td>0</td>\n",
       "    </tr>\n",
       "    <tr>\n",
       "      <th>1</th>\n",
       "      <td>3819312</td>\n",
       "      <td>흠...포스터보고 초딩영화줄....오버연기조차 가볍지 않구나</td>\n",
       "      <td>1</td>\n",
       "    </tr>\n",
       "    <tr>\n",
       "      <th>2</th>\n",
       "      <td>10265843</td>\n",
       "      <td>너무재밓었다그래서보는것을추천한다</td>\n",
       "      <td>0</td>\n",
       "    </tr>\n",
       "    <tr>\n",
       "      <th>3</th>\n",
       "      <td>9045019</td>\n",
       "      <td>교도소 이야기구먼 ..솔직히 재미는 없다..평점 조정</td>\n",
       "      <td>0</td>\n",
       "    </tr>\n",
       "    <tr>\n",
       "      <th>4</th>\n",
       "      <td>6483659</td>\n",
       "      <td>사이몬페그의 익살스런 연기가 돋보였던 영화!스파이더맨에서 늙어보이기만 했던 커스틴 ...</td>\n",
       "      <td>1</td>\n",
       "    </tr>\n",
       "  </tbody>\n",
       "</table>\n",
       "</div>"
      ],
      "text/plain": [
       "         id                                           document  label\n",
       "0   9976970                                아 더빙.. 진짜 짜증나네요 목소리      0\n",
       "1   3819312                  흠...포스터보고 초딩영화줄....오버연기조차 가볍지 않구나      1\n",
       "2  10265843                                  너무재밓었다그래서보는것을추천한다      0\n",
       "3   9045019                      교도소 이야기구먼 ..솔직히 재미는 없다..평점 조정      0\n",
       "4   6483659  사이몬페그의 익살스런 연기가 돋보였던 영화!스파이더맨에서 늙어보이기만 했던 커스틴 ...      1"
      ]
     },
     "execution_count": 5,
     "metadata": {},
     "output_type": "execute_result"
    }
   ],
   "source": [
    "train_data = pd.read_csv(DATA_TRAIN_PATH, delimiter='\\t')\n",
    "print(train_data.shape)\n",
    "train_data.head()"
   ]
  },
  {
   "cell_type": "code",
   "execution_count": 9,
   "metadata": {
    "colab": {
     "base_uri": "https://localhost:8080/",
     "height": 225
    },
    "id": "BCf6-4gZKRTK",
    "outputId": "31f493f3-f24f-46ce-c185-4ab0287a3195"
   },
   "outputs": [
    {
     "name": "stdout",
     "output_type": "stream",
     "text": [
      "(50000, 3)\n"
     ]
    },
    {
     "data": {
      "application/vnd.google.colaboratory.intrinsic+json": {
       "summary": "{\n  \"name\": \"test_data\",\n  \"rows\": 50000,\n  \"fields\": [\n    {\n      \"column\": \"id\",\n      \"properties\": {\n        \"dtype\": \"number\",\n        \"std\": 2936823,\n        \"min\": 601,\n        \"max\": 10278090,\n        \"num_unique_values\": 50000,\n        \"samples\": [\n          9147749,\n          498994,\n          7415980\n        ],\n        \"semantic_type\": \"\",\n        \"description\": \"\"\n      }\n    },\n    {\n      \"column\": \"document\",\n      \"properties\": {\n        \"dtype\": \"string\",\n        \"num_unique_values\": 49157,\n        \"samples\": [\n          \"\\uc18c\\ub9ac\\uc9c0\\ub974\\uc9c0\\ub9c8\\ub77c!!\\uaf2d \\uacf5\\ud3ec\\uc601\\ud654\\uc5d0 \\uc790\\uc2e0\\uc5c6\\ub294 \\uac83\\ub4e4\\uc774 \\uc18c\\ub9ac\\ub9cc \\uc9c0\\ub974\\ub354\\ub77c~\\ud3ec\\uc2a4\\ud130\\uac00 \\ub354\\ubb34\\uc12d\\ub2e4\",\n          \"\\ud734...\\ucc39\\ucc39\\ud558\\ub124..\",\n          \"\\ub300\\ubc15~~~!\"\n        ],\n        \"semantic_type\": \"\",\n        \"description\": \"\"\n      }\n    },\n    {\n      \"column\": \"label\",\n      \"properties\": {\n        \"dtype\": \"number\",\n        \"std\": 0,\n        \"min\": 0,\n        \"max\": 1,\n        \"num_unique_values\": 2,\n        \"samples\": [\n          0,\n          1\n        ],\n        \"semantic_type\": \"\",\n        \"description\": \"\"\n      }\n    }\n  ]\n}",
       "type": "dataframe",
       "variable_name": "test_data"
      },
      "text/html": [
       "\n",
       "  <div id=\"df-6d11ff4c-8677-4ecf-9cc6-52b596daf911\" class=\"colab-df-container\">\n",
       "    <div>\n",
       "<style scoped>\n",
       "    .dataframe tbody tr th:only-of-type {\n",
       "        vertical-align: middle;\n",
       "    }\n",
       "\n",
       "    .dataframe tbody tr th {\n",
       "        vertical-align: top;\n",
       "    }\n",
       "\n",
       "    .dataframe thead th {\n",
       "        text-align: right;\n",
       "    }\n",
       "</style>\n",
       "<table border=\"1\" class=\"dataframe\">\n",
       "  <thead>\n",
       "    <tr style=\"text-align: right;\">\n",
       "      <th></th>\n",
       "      <th>id</th>\n",
       "      <th>document</th>\n",
       "      <th>label</th>\n",
       "    </tr>\n",
       "  </thead>\n",
       "  <tbody>\n",
       "    <tr>\n",
       "      <th>0</th>\n",
       "      <td>6270596</td>\n",
       "      <td>굳 ㅋ</td>\n",
       "      <td>1</td>\n",
       "    </tr>\n",
       "    <tr>\n",
       "      <th>1</th>\n",
       "      <td>9274899</td>\n",
       "      <td>GDNTOPCLASSINTHECLUB</td>\n",
       "      <td>0</td>\n",
       "    </tr>\n",
       "    <tr>\n",
       "      <th>2</th>\n",
       "      <td>8544678</td>\n",
       "      <td>뭐야 이 평점들은.... 나쁘진 않지만 10점 짜리는 더더욱 아니잖아</td>\n",
       "      <td>0</td>\n",
       "    </tr>\n",
       "    <tr>\n",
       "      <th>3</th>\n",
       "      <td>6825595</td>\n",
       "      <td>지루하지는 않은데 완전 막장임... 돈주고 보기에는....</td>\n",
       "      <td>0</td>\n",
       "    </tr>\n",
       "    <tr>\n",
       "      <th>4</th>\n",
       "      <td>6723715</td>\n",
       "      <td>3D만 아니었어도 별 다섯 개 줬을텐데.. 왜 3D로 나와서 제 심기를 불편하게 하죠??</td>\n",
       "      <td>0</td>\n",
       "    </tr>\n",
       "  </tbody>\n",
       "</table>\n",
       "</div>\n",
       "    <div class=\"colab-df-buttons\">\n",
       "\n",
       "  <div class=\"colab-df-container\">\n",
       "    <button class=\"colab-df-convert\" onclick=\"convertToInteractive('df-6d11ff4c-8677-4ecf-9cc6-52b596daf911')\"\n",
       "            title=\"Convert this dataframe to an interactive table.\"\n",
       "            style=\"display:none;\">\n",
       "\n",
       "  <svg xmlns=\"http://www.w3.org/2000/svg\" height=\"24px\" viewBox=\"0 -960 960 960\">\n",
       "    <path d=\"M120-120v-720h720v720H120Zm60-500h600v-160H180v160Zm220 220h160v-160H400v160Zm0 220h160v-160H400v160ZM180-400h160v-160H180v160Zm440 0h160v-160H620v160ZM180-180h160v-160H180v160Zm440 0h160v-160H620v160Z\"/>\n",
       "  </svg>\n",
       "    </button>\n",
       "\n",
       "  <style>\n",
       "    .colab-df-container {\n",
       "      display:flex;\n",
       "      gap: 12px;\n",
       "    }\n",
       "\n",
       "    .colab-df-convert {\n",
       "      background-color: #E8F0FE;\n",
       "      border: none;\n",
       "      border-radius: 50%;\n",
       "      cursor: pointer;\n",
       "      display: none;\n",
       "      fill: #1967D2;\n",
       "      height: 32px;\n",
       "      padding: 0 0 0 0;\n",
       "      width: 32px;\n",
       "    }\n",
       "\n",
       "    .colab-df-convert:hover {\n",
       "      background-color: #E2EBFA;\n",
       "      box-shadow: 0px 1px 2px rgba(60, 64, 67, 0.3), 0px 1px 3px 1px rgba(60, 64, 67, 0.15);\n",
       "      fill: #174EA6;\n",
       "    }\n",
       "\n",
       "    .colab-df-buttons div {\n",
       "      margin-bottom: 4px;\n",
       "    }\n",
       "\n",
       "    [theme=dark] .colab-df-convert {\n",
       "      background-color: #3B4455;\n",
       "      fill: #D2E3FC;\n",
       "    }\n",
       "\n",
       "    [theme=dark] .colab-df-convert:hover {\n",
       "      background-color: #434B5C;\n",
       "      box-shadow: 0px 1px 3px 1px rgba(0, 0, 0, 0.15);\n",
       "      filter: drop-shadow(0px 1px 2px rgba(0, 0, 0, 0.3));\n",
       "      fill: #FFFFFF;\n",
       "    }\n",
       "  </style>\n",
       "\n",
       "    <script>\n",
       "      const buttonEl =\n",
       "        document.querySelector('#df-6d11ff4c-8677-4ecf-9cc6-52b596daf911 button.colab-df-convert');\n",
       "      buttonEl.style.display =\n",
       "        google.colab.kernel.accessAllowed ? 'block' : 'none';\n",
       "\n",
       "      async function convertToInteractive(key) {\n",
       "        const element = document.querySelector('#df-6d11ff4c-8677-4ecf-9cc6-52b596daf911');\n",
       "        const dataTable =\n",
       "          await google.colab.kernel.invokeFunction('convertToInteractive',\n",
       "                                                    [key], {});\n",
       "        if (!dataTable) return;\n",
       "\n",
       "        const docLinkHtml = 'Like what you see? Visit the ' +\n",
       "          '<a target=\"_blank\" href=https://colab.research.google.com/notebooks/data_table.ipynb>data table notebook</a>'\n",
       "          + ' to learn more about interactive tables.';\n",
       "        element.innerHTML = '';\n",
       "        dataTable['output_type'] = 'display_data';\n",
       "        await google.colab.output.renderOutput(dataTable, element);\n",
       "        const docLink = document.createElement('div');\n",
       "        docLink.innerHTML = docLinkHtml;\n",
       "        element.appendChild(docLink);\n",
       "      }\n",
       "    </script>\n",
       "  </div>\n",
       "\n",
       "\n",
       "<div id=\"df-4cd06e43-04d9-4701-ab69-c1e8afdae4ee\">\n",
       "  <button class=\"colab-df-quickchart\" onclick=\"quickchart('df-4cd06e43-04d9-4701-ab69-c1e8afdae4ee')\"\n",
       "            title=\"Suggest charts\"\n",
       "            style=\"display:none;\">\n",
       "\n",
       "<svg xmlns=\"http://www.w3.org/2000/svg\" height=\"24px\"viewBox=\"0 0 24 24\"\n",
       "     width=\"24px\">\n",
       "    <g>\n",
       "        <path d=\"M19 3H5c-1.1 0-2 .9-2 2v14c0 1.1.9 2 2 2h14c1.1 0 2-.9 2-2V5c0-1.1-.9-2-2-2zM9 17H7v-7h2v7zm4 0h-2V7h2v10zm4 0h-2v-4h2v4z\"/>\n",
       "    </g>\n",
       "</svg>\n",
       "  </button>\n",
       "\n",
       "<style>\n",
       "  .colab-df-quickchart {\n",
       "      --bg-color: #E8F0FE;\n",
       "      --fill-color: #1967D2;\n",
       "      --hover-bg-color: #E2EBFA;\n",
       "      --hover-fill-color: #174EA6;\n",
       "      --disabled-fill-color: #AAA;\n",
       "      --disabled-bg-color: #DDD;\n",
       "  }\n",
       "\n",
       "  [theme=dark] .colab-df-quickchart {\n",
       "      --bg-color: #3B4455;\n",
       "      --fill-color: #D2E3FC;\n",
       "      --hover-bg-color: #434B5C;\n",
       "      --hover-fill-color: #FFFFFF;\n",
       "      --disabled-bg-color: #3B4455;\n",
       "      --disabled-fill-color: #666;\n",
       "  }\n",
       "\n",
       "  .colab-df-quickchart {\n",
       "    background-color: var(--bg-color);\n",
       "    border: none;\n",
       "    border-radius: 50%;\n",
       "    cursor: pointer;\n",
       "    display: none;\n",
       "    fill: var(--fill-color);\n",
       "    height: 32px;\n",
       "    padding: 0;\n",
       "    width: 32px;\n",
       "  }\n",
       "\n",
       "  .colab-df-quickchart:hover {\n",
       "    background-color: var(--hover-bg-color);\n",
       "    box-shadow: 0 1px 2px rgba(60, 64, 67, 0.3), 0 1px 3px 1px rgba(60, 64, 67, 0.15);\n",
       "    fill: var(--button-hover-fill-color);\n",
       "  }\n",
       "\n",
       "  .colab-df-quickchart-complete:disabled,\n",
       "  .colab-df-quickchart-complete:disabled:hover {\n",
       "    background-color: var(--disabled-bg-color);\n",
       "    fill: var(--disabled-fill-color);\n",
       "    box-shadow: none;\n",
       "  }\n",
       "\n",
       "  .colab-df-spinner {\n",
       "    border: 2px solid var(--fill-color);\n",
       "    border-color: transparent;\n",
       "    border-bottom-color: var(--fill-color);\n",
       "    animation:\n",
       "      spin 1s steps(1) infinite;\n",
       "  }\n",
       "\n",
       "  @keyframes spin {\n",
       "    0% {\n",
       "      border-color: transparent;\n",
       "      border-bottom-color: var(--fill-color);\n",
       "      border-left-color: var(--fill-color);\n",
       "    }\n",
       "    20% {\n",
       "      border-color: transparent;\n",
       "      border-left-color: var(--fill-color);\n",
       "      border-top-color: var(--fill-color);\n",
       "    }\n",
       "    30% {\n",
       "      border-color: transparent;\n",
       "      border-left-color: var(--fill-color);\n",
       "      border-top-color: var(--fill-color);\n",
       "      border-right-color: var(--fill-color);\n",
       "    }\n",
       "    40% {\n",
       "      border-color: transparent;\n",
       "      border-right-color: var(--fill-color);\n",
       "      border-top-color: var(--fill-color);\n",
       "    }\n",
       "    60% {\n",
       "      border-color: transparent;\n",
       "      border-right-color: var(--fill-color);\n",
       "    }\n",
       "    80% {\n",
       "      border-color: transparent;\n",
       "      border-right-color: var(--fill-color);\n",
       "      border-bottom-color: var(--fill-color);\n",
       "    }\n",
       "    90% {\n",
       "      border-color: transparent;\n",
       "      border-bottom-color: var(--fill-color);\n",
       "    }\n",
       "  }\n",
       "</style>\n",
       "\n",
       "  <script>\n",
       "    async function quickchart(key) {\n",
       "      const quickchartButtonEl =\n",
       "        document.querySelector('#' + key + ' button');\n",
       "      quickchartButtonEl.disabled = true;  // To prevent multiple clicks.\n",
       "      quickchartButtonEl.classList.add('colab-df-spinner');\n",
       "      try {\n",
       "        const charts = await google.colab.kernel.invokeFunction(\n",
       "            'suggestCharts', [key], {});\n",
       "      } catch (error) {\n",
       "        console.error('Error during call to suggestCharts:', error);\n",
       "      }\n",
       "      quickchartButtonEl.classList.remove('colab-df-spinner');\n",
       "      quickchartButtonEl.classList.add('colab-df-quickchart-complete');\n",
       "    }\n",
       "    (() => {\n",
       "      let quickchartButtonEl =\n",
       "        document.querySelector('#df-4cd06e43-04d9-4701-ab69-c1e8afdae4ee button');\n",
       "      quickchartButtonEl.style.display =\n",
       "        google.colab.kernel.accessAllowed ? 'block' : 'none';\n",
       "    })();\n",
       "  </script>\n",
       "</div>\n",
       "\n",
       "    </div>\n",
       "  </div>\n"
      ],
      "text/plain": [
       "        id                                           document  label\n",
       "0  6270596                                                굳 ㅋ      1\n",
       "1  9274899                               GDNTOPCLASSINTHECLUB      0\n",
       "2  8544678             뭐야 이 평점들은.... 나쁘진 않지만 10점 짜리는 더더욱 아니잖아      0\n",
       "3  6825595                   지루하지는 않은데 완전 막장임... 돈주고 보기에는....      0\n",
       "4  6723715  3D만 아니었어도 별 다섯 개 줬을텐데.. 왜 3D로 나와서 제 심기를 불편하게 하죠??      0"
      ]
     },
     "execution_count": 9,
     "metadata": {},
     "output_type": "execute_result"
    }
   ],
   "source": [
    "test_data = pd.read_csv(DATA_TEST_PATH, delimiter='\\t')\n",
    "print(test_data.shape)\n",
    "test_data.head()"
   ]
  },
  {
   "cell_type": "markdown",
   "metadata": {
    "id": "HEBq5p1xKRTL"
   },
   "source": [
    "### 훈련 시간을 감안하여 data size 축소"
   ]
  },
  {
   "cell_type": "code",
   "execution_count": 10,
   "metadata": {
    "colab": {
     "base_uri": "https://localhost:8080/"
    },
    "id": "DKKV8dYfKRTL",
    "outputId": "b0dce8a6-a4e4-43ae-85be-d89f2ccc4770"
   },
   "outputs": [
    {
     "name": "stdout",
     "output_type": "stream",
     "text": [
      "(50000, 3)\n",
      "(5000, 3)\n"
     ]
    }
   ],
   "source": [
    "# 훈련 데이터에서 50,000개의 샘플을 무작위로 선택 (재현성을 위해 random_state=1 사용)\n",
    "train_data = train_data.sample(n=50000, random_state=1)\n",
    "\n",
    "# 테스트 데이터에서 5,000개의 샘플을 무작위로 선택 (재현성을 위해 random_state=1 사용)\n",
    "test_data = test_data.sample(n=5000, random_state=1)\n",
    "\n",
    "print(train_data.shape)\n",
    "print(test_data.shape)"
   ]
  },
  {
   "cell_type": "markdown",
   "metadata": {
    "id": "k9Unf2JKZG21"
   },
   "source": [
    "**null value 제거**"
   ]
  },
  {
   "cell_type": "code",
   "execution_count": 11,
   "metadata": {
    "id": "tfaIt9P_ZG25"
   },
   "outputs": [],
   "source": [
    "train_data.dropna(inplace=True)\n",
    "\n",
    "test_data.dropna(inplace=True)"
   ]
  },
  {
   "cell_type": "code",
   "execution_count": 12,
   "metadata": {
    "colab": {
     "base_uri": "https://localhost:8080/"
    },
    "id": "nZPllOWSZG2_",
    "outputId": "eabd12cd-ed2e-4583-87d3-f2d2c60dfcad"
   },
   "outputs": [
    {
     "data": {
      "text/plain": [
       "(id          0\n",
       " document    0\n",
       " label       0\n",
       " dtype: int64,\n",
       " id          0\n",
       " document    0\n",
       " label       0\n",
       " dtype: int64)"
      ]
     },
     "execution_count": 12,
     "metadata": {},
     "output_type": "execute_result"
    }
   ],
   "source": [
    "train_data.isnull().sum(), test_data.isnull().sum()"
   ]
  },
  {
   "cell_type": "markdown",
   "metadata": {
    "id": "-yBDcodKM-fb"
   },
   "source": [
    "### okt.morphs()\n",
    "\n",
    "- 텍스트를 형태소 단위로 나눈다. 옵션으로는 norm과 stem이 있다\n",
    "- stem은 각 단어에서 어간을 추출하는 기능"
   ]
  },
  {
   "cell_type": "code",
   "execution_count": 13,
   "metadata": {
    "colab": {
     "base_uri": "https://localhost:8080/"
    },
    "id": "UtQjEgdcNAB2",
    "outputId": "aa136f71-6d81-4f0a-8b06-6b7b3bf972f7"
   },
   "outputs": [
    {
     "data": {
      "text/plain": [
       "['아버지', '가방', '에', '들어가다']"
      ]
     },
     "execution_count": 13,
     "metadata": {},
     "output_type": "execute_result"
    }
   ],
   "source": [
    "okt = Okt()\n",
    "test = \"아버지가방에들어가신다\"\n",
    "okt.morphs(test, stem=True)"
   ]
  },
  {
   "cell_type": "markdown",
   "metadata": {
    "id": "Y-3baFyeZG3H"
   },
   "source": [
    "## Text Data 전처리\n",
    "\n",
    "**한글 문자가 아닌 것 모두 제거**"
   ]
  },
  {
   "cell_type": "code",
   "execution_count": 14,
   "metadata": {
    "id": "tKbQKZF-VkuP"
   },
   "outputs": [],
   "source": [
    "def preprocessing(sentence, remove_stopwords=True):\n",
    "    # 불용어 리스트 정의 (현재는 빈 리스트로 설정)\n",
    "    # stop_words = set(['에', '은', '는', '이', '가', '그리고', '것', '들', '수', '등', '로', '을', '를', '만', '도', '아', '의', '그', '다'])\n",
    "    stop_words = []\n",
    "\n",
    "    # 개행문자 제거\n",
    "    sentence = re.sub('\\\\\\\\n', ' ', sentence)\n",
    "\n",
    "    # 한글 외의 모든 문자 제거\n",
    "    sentence = re.sub('[^가-힣ㄱ-ㅎㅏ-ㅣ ]', '', sentence)\n",
    "\n",
    "    # 형태소 분석 및 어간 추출\n",
    "    sentence = okt.morphs(sentence, stem=True)\n",
    "\n",
    "    # 불용어 제거 옵션이 True인 경우, 불용어 리스트에 포함되지 않은 토큰만 선택\n",
    "    if remove_stopwords:\n",
    "        sentence = [token for token in sentence if not token in stop_words]\n",
    "\n",
    "    # 전처리된 문장 반환\n",
    "    return sentence"
   ]
  },
  {
   "cell_type": "code",
   "execution_count": 15,
   "metadata": {
    "colab": {
     "base_uri": "https://localhost:8080/"
    },
    "id": "Qcc0WVspZG3K",
    "outputId": "d035d0a1-60dd-4b28-b986-1c5d2f325361"
   },
   "outputs": [
    {
     "name": "stdout",
     "output_type": "stream",
     "text": [
      "Train processed = 0\n",
      "Train processed = 10000\n",
      "Train processed = 20000\n",
      "Train processed = 30000\n",
      "Train processed = 40000\n",
      "Test processed = 0\n",
      "Test processed = 1000\n",
      "Test processed = 2000\n",
      "Test processed = 3000\n",
      "Test processed = 4000\n",
      "189.6940884590149\n",
      "CPU times: user 3min 16s, sys: 812 ms, total: 3min 17s\n",
      "Wall time: 3min 9s\n"
     ]
    }
   ],
   "source": [
    "# 코드 실행 시간 측정을 위한 주피터 매직 명령어\n",
    "%%time\n",
    "\n",
    "# 훈련 문장과 레이블을 저장할 리스트 초기화\n",
    "train_sentences = []\n",
    "train_labels = []\n",
    "\n",
    "# 테스트 문장과 레이블을 저장할 리스트 초기화\n",
    "test_sentences = []\n",
    "test_labels = []\n",
    "\n",
    "# 시작 시간 기록\n",
    "start = time.time()\n",
    "\n",
    "# 훈련 데이터 전처리\n",
    "for i, (sent, label) in enumerate(zip(train_data['document'], train_data['label'])):\n",
    "    # 10,000개마다 진행 상황 출력\n",
    "    if i % 10000 == 0:\n",
    "        print(f\"Train processed = {i}\")\n",
    "    # 문장 전처리 수행\n",
    "    sent = preprocessing(sent)\n",
    "    # 전처리 후 문장이 비어있지 않으면 리스트에 추가\n",
    "    if len(sent) > 0:\n",
    "        train_sentences.append(sent)\n",
    "        train_labels.append(label)\n",
    "\n",
    "# 테스트 데이터 전처리\n",
    "for i, (sent, label) in enumerate(zip(test_data['document'], test_data['label'])):\n",
    "    # 1,000개마다 진행 상황 출력\n",
    "    if i % 1000 == 0:\n",
    "        print(f\"Test processed = {i}\")\n",
    "    # 문장 전처리 수행\n",
    "    sent = preprocessing(sent)\n",
    "    # 전처리 후 문장이 비어있지 않으면 리스트에 추가\n",
    "    if len(sent) > 0:\n",
    "        test_sentences.append(sent)\n",
    "        test_labels.append(label)\n",
    "\n",
    "# 전처리에 걸린 총 시간 출력\n",
    "print(time.time() - start)"
   ]
  },
  {
   "cell_type": "markdown",
   "metadata": {
    "id": "lV62dOYhRFAI"
   },
   "source": [
    "## train_labels, test_labels  list를 numpy array 로 변환"
   ]
  },
  {
   "cell_type": "code",
   "execution_count": 16,
   "metadata": {
    "colab": {
     "base_uri": "https://localhost:8080/"
    },
    "id": "9HfcHgtSRCNX",
    "outputId": "77f78992-91f7-4d73-b798-ae5ae50abefd"
   },
   "outputs": [
    {
     "name": "stdout",
     "output_type": "stream",
     "text": [
      "(49585,)\n",
      "(4951,)\n"
     ]
    }
   ],
   "source": [
    "# 훈련 레이블을 numpy 배열로 변환\n",
    "train_labels = np.array(train_labels)\n",
    "\n",
    "# 테스트 레이블을 numpy 배열로 변환\n",
    "test_labels = np.array(test_labels)\n",
    "\n",
    "print(train_labels.shape)\n",
    "print(test_labels.shape)"
   ]
  },
  {
   "cell_type": "markdown",
   "metadata": {
    "id": "cYuPSbBrRbpn"
   },
   "source": [
    "## train_sentences, test_sentences text 를 sequence 로 변환"
   ]
  },
  {
   "cell_type": "code",
   "execution_count": 17,
   "metadata": {
    "colab": {
     "base_uri": "https://localhost:8080/"
    },
    "id": "GNXrKsQVZG3Q",
    "outputId": "5764f9ec-9a3d-4d63-c8e6-7c7fd8e66552"
   },
   "outputs": [
    {
     "name": "stdout",
     "output_type": "stream",
     "text": [
      "[2005, 9, 731, 2495, 437]\n",
      "[1954, 7, 537, 1565, 110, 306, 40, 2128, 311, 704, 217, 647, 97, 316]\n"
     ]
    }
   ],
   "source": [
    "# 어휘 사전의 최대 크기 설정\n",
    "VOCAB_SIZE = 20000\n",
    "\n",
    "# Tokenizer 객체 생성 (최대 단어 수 지정 및 OOV(Out-Of-Vocabulary) 토큰 설정)\n",
    "tokenizer = Tokenizer(num_words=VOCAB_SIZE, oov_token=\"<OOV>\")\n",
    "\n",
    "# 훈련 문장에 대해 토크나이저 학습 수행 (단어 인덱스 구축)\n",
    "tokenizer.fit_on_texts(train_sentences)\n",
    "\n",
    "# 훈련 문장들을 시퀀스로 변환\n",
    "train_sequences = tokenizer.texts_to_sequences(train_sentences)\n",
    "\n",
    "# 테스트 문장들을 시퀀스로 변환\n",
    "test_sequences = tokenizer.texts_to_sequences(test_sentences)\n",
    "\n",
    "# 첫 번째 시퀀스 출력\n",
    "print(train_sequences[0])\n",
    "print(test_sequences[0])"
   ]
  },
  {
   "cell_type": "code",
   "execution_count": 18,
   "metadata": {
    "colab": {
     "base_uri": "https://localhost:8080/",
     "height": 430
    },
    "id": "j6ZOZ5-rOXZY",
    "outputId": "5d248d5d-126d-4313-fce3-484121710c1a"
   },
   "outputs": [
    {
     "data": {
      "image/png": "[encoded data removed]",
      "text/plain": [
       "<Figure size 640x480 with 1 Axes>"
      ]
     },
     "metadata": {},
     "output_type": "display_data"
    }
   ],
   "source": [
    "# 훈련 시퀀스와 테스트 시퀀스의 길이를 리스트로 변환하여 합친 후 히스토그램으로 시각화\n",
    "plt.hist([len(s) for s in train_sequences] + [len(s) for s in test_sequences], bins=30);"
   ]
  },
  {
   "cell_type": "code",
   "execution_count": 19,
   "metadata": {
    "colab": {
     "base_uri": "https://localhost:8080/"
    },
    "id": "owqiPD1uZG3Z",
    "outputId": "94fba6c3-8b97-4581-a540-34809fdc8618"
   },
   "outputs": [
    {
     "name": "stdout",
     "output_type": "stream",
     "text": [
      "(49585, 15)\n",
      "(4951, 15)\n",
      "[2005    9  731 2495  437    0    0    0    0    0    0    0    0    0\n",
      "    0]\n",
      "[1954    7  537 1565  110  306   40 2128  311  704  217  647   97  316\n",
      "    0]\n"
     ]
    }
   ],
   "source": [
    "max_length = 15\n",
    "\n",
    "# 훈련 시퀀스를 패딩 처리 (최대 길이를 15로 설정, 'post' 방식으로 잘라내고 패딩)\n",
    "train_padded = pad_sequences(train_sequences, maxlen=max_length, padding='post', truncating='post')\n",
    "\n",
    "# 테스트 시퀀스를 패딩 처리 (최대 길이를 15로 설정, 'post' 방식으로 잘라내고 패딩)\n",
    "test_padded = pad_sequences(test_sequences, maxlen=max_length, padding='post', truncating='post')\n",
    "\n",
    "print(train_padded.shape)\n",
    "print(test_padded.shape)\n",
    "\n",
    "# 첫 번째 패딩된 시퀀스 출력\n",
    "print(train_padded[0])\n",
    "print(test_padded[0])"
   ]
  },
  {
   "cell_type": "markdown",
   "metadata": {
    "id": "_XW692THZG3f"
   },
   "source": [
    "### sequence 를 다시 문장으로 역변환"
   ]
  },
  {
   "cell_type": "code",
   "execution_count": 20,
   "metadata": {
    "colab": {
     "base_uri": "https://localhost:8080/"
    },
    "id": "bP6ea-ZYZG3f",
    "outputId": "178d9d61-b17d-4ed7-c94b-53bd7afca0a5"
   },
   "outputs": [
    {
     "name": "stdout",
     "output_type": "stream",
     "text": [
      "내 가 드라마 를 단 한번 도 처음 부터 끝 까지 본적 이 없다 이\n",
      "\n",
      "['내', '가', '드라마', '를', '단', '한번', '도', '처음', '부터', '끝', '까지', '본적', '이', '없다', '이', '드라마', '는', '예외', '다', '민감하다', '주제', '를', '멋지다', '자다', '푼', '스토리', '와', '배우', '들', '최고다']\n"
     ]
    }
   ],
   "source": [
    "# 단어 인덱스를 키로, 단어를 값으로 하는 사전 생성\n",
    "reverse_word_index = dict([(v, k) for (k, v) in tokenizer.word_index.items()])\n",
    "\n",
    "# 시퀀스를 문장으로 디코딩하는 함수\n",
    "def decode_sentence(sequence):\n",
    "    # 시퀀스의 각 인덱스를 단어로 변환하여 리스트로 만들고, 이를 공백으로 연결하여 문자열로 반환\n",
    "    return ' '.join([reverse_word_index.get(i, '?') for i in sequence])\n",
    "\n",
    "# 다섯 번째 패딩된 훈련 시퀀스를 디코딩하여 출력\n",
    "print(decode_sentence(train_padded[4]))\n",
    "print()\n",
    "\n",
    "# 다섯 번째 훈련 문장 원본 출력\n",
    "print(train_sentences[4])"
   ]
  },
  {
   "cell_type": "code",
   "execution_count": 21,
   "metadata": {
    "colab": {
     "base_uri": "https://localhost:8080/"
    },
    "id": "4gbHh9M9ZG3h",
    "outputId": "70804721-a0f5-4afc-9c33-3dfe7311b253"
   },
   "outputs": [
    {
     "name": "stdout",
     "output_type": "stream",
     "text": [
      "Model: \"sequential\"\n",
      "_________________________________________________________________\n",
      " Layer (type)                Output Shape              Param #   \n",
      "=================================================================\n",
      " embedding (Embedding)       (None, None, 64)          1280064   \n",
      "                                                                 \n",
      " bidirectional (Bidirection  (None, 128)               66048     \n",
      " al)                                                             \n",
      "                                                                 \n",
      " dense (Dense)               (None, 32)                4128      \n",
      "                                                                 \n",
      " dense_1 (Dense)             (None, 1)                 33        \n",
      "                                                                 \n",
      "=================================================================\n",
      "Total params: 1350273 (5.15 MB)\n",
      "Trainable params: 1350273 (5.15 MB)\n",
      "Non-trainable params: 0 (0.00 Byte)\n",
      "_________________________________________________________________\n"
     ]
    }
   ],
   "source": [
    "model = Sequential([\n",
    "    Embedding(VOCAB_SIZE+1, 64),\n",
    "    Bidirectional(LSTM(64)),\n",
    "    Dense(32, activation='relu'),\n",
    "    Dense(1, activation='sigmoid')\n",
    "])\n",
    "\n",
    "model.compile(loss='binary_crossentropy', optimizer='adam', metrics=['accuracy'])\n",
    "model.summary()"
   ]
  },
  {
   "cell_type": "code",
   "execution_count": null,
   "metadata": {
    "colab": {
     "base_uri": "https://localhost:8080/"
    },
    "id": "JrmVSpkrZG3j",
    "outputId": "2c53488c-a479-48db-9dc4-5b5cc465845e"
   },
   "outputs": [
    {
     "name": "stdout",
     "output_type": "stream",
     "text": [
      "Epoch 1/30\n",
      "388/388 [==============================] - 14s 10ms/step - loss: 0.4509 - accuracy: 0.7802 - val_loss: 0.4036 - val_accuracy: 0.8162\n",
      "Epoch 2/30\n",
      "388/388 [==============================] - 3s 7ms/step - loss: 0.3296 - accuracy: 0.8582 - val_loss: 0.4126 - val_accuracy: 0.8140\n",
      "Epoch 3/30\n",
      "388/388 [==============================] - 3s 7ms/step - loss: 0.2716 - accuracy: 0.8854 - val_loss: 0.4619 - val_accuracy: 0.8164\n",
      "Epoch 4/30\n",
      "388/388 [==============================] - 3s 7ms/step - loss: 0.2225 - accuracy: 0.9056 - val_loss: 0.5133 - val_accuracy: 0.8124\n",
      "Epoch 5/30\n",
      "388/388 [==============================] - 3s 7ms/step - loss: 0.1856 - accuracy: 0.9215 - val_loss: 0.5533 - val_accuracy: 0.8083\n",
      "Epoch 6/30\n",
      "388/388 [==============================] - 3s 7ms/step - loss: 0.1570 - accuracy: 0.9335 - val_loss: 0.6383 - val_accuracy: 0.8057\n",
      "Epoch 7/30\n",
      "388/388 [==============================] - 3s 6ms/step - loss: 0.1355 - accuracy: 0.9444 - val_loss: 0.7165 - val_accuracy: 0.8021\n",
      "Epoch 8/30\n",
      "388/388 [==============================] - 3s 7ms/step - loss: 0.1170 - accuracy: 0.9529 - val_loss: 0.7384 - val_accuracy: 0.7986\n",
      "Epoch 9/30\n",
      "388/388 [==============================] - 3s 8ms/step - loss: 0.1012 - accuracy: 0.9591 - val_loss: 0.7817 - val_accuracy: 0.8008\n",
      "Epoch 10/30\n",
      "388/388 [==============================] - 3s 7ms/step - loss: 0.0859 - accuracy: 0.9669 - val_loss: 0.8913 - val_accuracy: 0.7994\n",
      "Epoch 11/30\n",
      "388/388 [==============================] - 3s 8ms/step - loss: 0.0744 - accuracy: 0.9723 - val_loss: 0.8997 - val_accuracy: 0.8019\n",
      "Epoch 12/30\n",
      "388/388 [==============================] - 3s 8ms/step - loss: 0.0667 - accuracy: 0.9752 - val_loss: 0.9643 - val_accuracy: 0.7974\n",
      "Epoch 13/30\n",
      "388/388 [==============================] - 3s 8ms/step - loss: 0.0620 - accuracy: 0.9763 - val_loss: 1.0682 - val_accuracy: 0.7960\n",
      "Epoch 14/30\n",
      "388/388 [==============================] - 3s 8ms/step - loss: 0.0557 - accuracy: 0.9790 - val_loss: 1.0916 - val_accuracy: 0.7897\n",
      "Epoch 15/30\n",
      "388/388 [==============================] - 3s 6ms/step - loss: 0.0520 - accuracy: 0.9806 - val_loss: 1.1903 - val_accuracy: 0.7974\n",
      "Epoch 16/30\n",
      "388/388 [==============================] - 3s 7ms/step - loss: 0.0489 - accuracy: 0.9815 - val_loss: 1.2101 - val_accuracy: 0.7966\n",
      "Epoch 17/30\n",
      "388/388 [==============================] - 3s 7ms/step - loss: 0.0419 - accuracy: 0.9841 - val_loss: 1.2494 - val_accuracy: 0.7875\n",
      "Epoch 18/30\n",
      "388/388 [==============================] - 3s 7ms/step - loss: 0.0429 - accuracy: 0.9836 - val_loss: 1.2662 - val_accuracy: 0.7930\n",
      "Epoch 19/30\n",
      "388/388 [==============================] - 3s 6ms/step - loss: 0.0387 - accuracy: 0.9857 - val_loss: 1.3121 - val_accuracy: 0.7903\n",
      "Epoch 20/30\n",
      "388/388 [==============================] - 3s 7ms/step - loss: 0.0366 - accuracy: 0.9859 - val_loss: 1.3356 - val_accuracy: 0.7966\n",
      "Epoch 21/30\n",
      "388/388 [==============================] - 3s 6ms/step - loss: 0.0356 - accuracy: 0.9867 - val_loss: 1.3839 - val_accuracy: 0.7966\n",
      "Epoch 22/30\n",
      "388/388 [==============================] - 3s 7ms/step - loss: 0.0325 - accuracy: 0.9876 - val_loss: 1.4580 - val_accuracy: 0.7980\n",
      "Epoch 23/30\n",
      "388/388 [==============================] - 3s 7ms/step - loss: 0.0300 - accuracy: 0.9880 - val_loss: 1.5688 - val_accuracy: 0.7926\n",
      "Epoch 24/30\n",
      "388/388 [==============================] - 3s 7ms/step - loss: 0.0286 - accuracy: 0.9889 - val_loss: 1.5114 - val_accuracy: 0.7978\n",
      "Epoch 25/30\n",
      "388/388 [==============================] - 3s 8ms/step - loss: 0.0282 - accuracy: 0.9893 - val_loss: 1.5107 - val_accuracy: 0.7926\n",
      "Epoch 26/30\n",
      "388/388 [==============================] - 4s 9ms/step - loss: 0.0260 - accuracy: 0.9901 - val_loss: 1.5385 - val_accuracy: 0.8013\n",
      "Epoch 27/30\n",
      "388/388 [==============================] - 3s 7ms/step - loss: 0.0263 - accuracy: 0.9897 - val_loss: 1.6006 - val_accuracy: 0.7972\n",
      "Epoch 28/30\n",
      "388/388 [==============================] - 3s 7ms/step - loss: 0.0244 - accuracy: 0.9903 - val_loss: 1.6532 - val_accuracy: 0.8008\n",
      "Epoch 29/30\n",
      "388/388 [==============================] - 3s 7ms/step - loss: 0.0227 - accuracy: 0.9909 - val_loss: 1.6760 - val_accuracy: 0.7914\n",
      "Epoch 30/30\n",
      "388/388 [==============================] - 3s 7ms/step - loss: 0.0199 - accuracy: 0.9919 - val_loss: 1.8241 - val_accuracy: 0.7924\n"
     ]
    }
   ],
   "source": [
    "num_epochs = 30\n",
    "history = model.fit(train_padded, train_labels, epochs=num_epochs, batch_size=128,\n",
    "                    validation_data=(test_padded, test_labels), verbose=1)"
   ]
  },
  {
   "cell_type": "code",
   "execution_count": null,
   "metadata": {
    "colab": {
     "base_uri": "https://localhost:8080/",
     "height": 281
    },
    "id": "xcczXSVmZG3l",
    "outputId": "cc1ca7b6-1530-4788-d0c6-ff40da847616"
   },
   "outputs": [
    {
     "data": {
      "image/png": "[encoded data removed]",
      "text/plain": [
       "<Figure size 864x288 with 2 Axes>"
      ]
     },
     "metadata": {
      "needs_background": "light"
     },
     "output_type": "display_data"
    }
   ],
   "source": [
    "fig, (ax1, ax2) = plt.subplots(1, 2, figsize=(12, 4))\n",
    "\n",
    "ax1.plot(history.history['accuracy'])\n",
    "ax1.plot(history.history['val_accuracy'])\n",
    "ax1.set_xlabel('Epochs')\n",
    "ax1.set_ylabel('accuracy')\n",
    "ax1.legend(['accuarcy', 'val_accuracy'])\n",
    "\n",
    "ax2.plot(history.history['loss'])\n",
    "ax2.plot(history.history['val_loss'])\n",
    "ax2.set_xlabel('Epochs')\n",
    "ax2.set_ylabel('loss')\n",
    "ax2.legend(['loss', 'val_loss'])\n",
    "plt.show()"
   ]
  },
  {
   "cell_type": "code",
   "execution_count": null,
   "metadata": {
    "colab": {
     "base_uri": "https://localhost:8080/",
     "height": 206
    },
    "id": "LqdvlZqdWTfp",
    "outputId": "2062a6dc-39d0-45ca-aaf4-cd72f1a537b0"
   },
   "outputs": [
    {
     "data": {
      "text/html": [
       "\n",
       "  <div id=\"df-3cf8f976-09aa-404c-bf52-910d07330808\">\n",
       "    <div class=\"colab-df-container\">\n",
       "      <div>\n",
       "<style scoped>\n",
       "    .dataframe tbody tr th:only-of-type {\n",
       "        vertical-align: middle;\n",
       "    }\n",
       "\n",
       "    .dataframe tbody tr th {\n",
       "        vertical-align: top;\n",
       "    }\n",
       "\n",
       "    .dataframe thead th {\n",
       "        text-align: right;\n",
       "    }\n",
       "</style>\n",
       "<table border=\"1\" class=\"dataframe\">\n",
       "  <thead>\n",
       "    <tr style=\"text-align: right;\">\n",
       "      <th></th>\n",
       "      <th>id</th>\n",
       "      <th>document</th>\n",
       "      <th>label</th>\n",
       "    </tr>\n",
       "  </thead>\n",
       "  <tbody>\n",
       "    <tr>\n",
       "      <th>26247</th>\n",
       "      <td>5933705</td>\n",
       "      <td>크리스마스에 어울리는 시원한 액션. 긴장감과 박진감 넘치는 전개 엄청난 마지막부분</td>\n",
       "      <td>1</td>\n",
       "    </tr>\n",
       "    <tr>\n",
       "      <th>35067</th>\n",
       "      <td>5092284</td>\n",
       "      <td>또 봐도 재밌네요 ㅋ2편은 평점이거지네요;;</td>\n",
       "      <td>1</td>\n",
       "    </tr>\n",
       "    <tr>\n",
       "      <th>34590</th>\n",
       "      <td>4501201</td>\n",
       "      <td>완전유치뽕짝저질삼류영화..티비편이 훨씬낫다...</td>\n",
       "      <td>0</td>\n",
       "    </tr>\n",
       "    <tr>\n",
       "      <th>16668</th>\n",
       "      <td>8848074</td>\n",
       "      <td>이건 보는 영화가 아니다.</td>\n",
       "      <td>0</td>\n",
       "    </tr>\n",
       "    <tr>\n",
       "      <th>12196</th>\n",
       "      <td>178689</td>\n",
       "      <td>오랜만에 접한 수작...30대 중반 이상분들에게 추천!</td>\n",
       "      <td>1</td>\n",
       "    </tr>\n",
       "  </tbody>\n",
       "</table>\n",
       "</div>\n",
       "      <button class=\"colab-df-convert\" onclick=\"convertToInteractive('df-3cf8f976-09aa-404c-bf52-910d07330808')\"\n",
       "              title=\"Convert this dataframe to an interactive table.\"\n",
       "              style=\"display:none;\">\n",
       "        \n",
       "  <svg xmlns=\"http://www.w3.org/2000/svg\" height=\"24px\"viewBox=\"0 0 24 24\"\n",
       "       width=\"24px\">\n",
       "    <path d=\"M0 0h24v24H0V0z\" fill=\"none\"/>\n",
       "    <path d=\"M18.56 5.44l.94 2.06.94-2.06 2.06-.94-2.06-.94-.94-2.06-.94 2.06-2.06.94zm-11 1L8.5 8.5l.94-2.06 2.06-.94-2.06-.94L8.5 2.5l-.94 2.06-2.06.94zm10 10l.94 2.06.94-2.06 2.06-.94-2.06-.94-.94-2.06-.94 2.06-2.06.94z\"/><path d=\"M17.41 7.96l-1.37-1.37c-.4-.4-.92-.59-1.43-.59-.52 0-1.04.2-1.43.59L10.3 9.45l-7.72 7.72c-.78.78-.78 2.05 0 2.83L4 21.41c.39.39.9.59 1.41.59.51 0 1.02-.2 1.41-.59l7.78-7.78 2.81-2.81c.8-.78.8-2.07 0-2.86zM5.41 20L4 18.59l7.72-7.72 1.47 1.35L5.41 20z\"/>\n",
       "  </svg>\n",
       "      </button>\n",
       "      \n",
       "  <style>\n",
       "    .colab-df-container {\n",
       "      display:flex;\n",
       "      flex-wrap:wrap;\n",
       "      gap: 12px;\n",
       "    }\n",
       "\n",
       "    .colab-df-convert {\n",
       "      background-color: #E8F0FE;\n",
       "      border: none;\n",
       "      border-radius: 50%;\n",
       "      cursor: pointer;\n",
       "      display: none;\n",
       "      fill: #1967D2;\n",
       "      height: 32px;\n",
       "      padding: 0 0 0 0;\n",
       "      width: 32px;\n",
       "    }\n",
       "\n",
       "    .colab-df-convert:hover {\n",
       "      background-color: #E2EBFA;\n",
       "      box-shadow: 0px 1px 2px rgba(60, 64, 67, 0.3), 0px 1px 3px 1px rgba(60, 64, 67, 0.15);\n",
       "      fill: #174EA6;\n",
       "    }\n",
       "\n",
       "    [theme=dark] .colab-df-convert {\n",
       "      background-color: #3B4455;\n",
       "      fill: #D2E3FC;\n",
       "    }\n",
       "\n",
       "    [theme=dark] .colab-df-convert:hover {\n",
       "      background-color: #434B5C;\n",
       "      box-shadow: 0px 1px 3px 1px rgba(0, 0, 0, 0.15);\n",
       "      filter: drop-shadow(0px 1px 2px rgba(0, 0, 0, 0.3));\n",
       "      fill: #FFFFFF;\n",
       "    }\n",
       "  </style>\n",
       "\n",
       "      <script>\n",
       "        const buttonEl =\n",
       "          document.querySelector('#df-3cf8f976-09aa-404c-bf52-910d07330808 button.colab-df-convert');\n",
       "        buttonEl.style.display =\n",
       "          google.colab.kernel.accessAllowed ? 'block' : 'none';\n",
       "\n",
       "        async function convertToInteractive(key) {\n",
       "          const element = document.querySelector('#df-3cf8f976-09aa-404c-bf52-910d07330808');\n",
       "          const dataTable =\n",
       "            await google.colab.kernel.invokeFunction('convertToInteractive',\n",
       "                                                     [key], {});\n",
       "          if (!dataTable) return;\n",
       "\n",
       "          const docLinkHtml = 'Like what you see? Visit the ' +\n",
       "            '<a target=\"_blank\" href=https://colab.research.google.com/notebooks/data_table.ipynb>data table notebook</a>'\n",
       "            + ' to learn more about interactive tables.';\n",
       "          element.innerHTML = '';\n",
       "          dataTable['output_type'] = 'display_data';\n",
       "          await google.colab.output.renderOutput(dataTable, element);\n",
       "          const docLink = document.createElement('div');\n",
       "          docLink.innerHTML = docLinkHtml;\n",
       "          element.appendChild(docLink);\n",
       "        }\n",
       "      </script>\n",
       "    </div>\n",
       "  </div>\n",
       "  "
      ],
      "text/plain": [
       "            id                                       document  label\n",
       "26247  5933705  크리스마스에 어울리는 시원한 액션. 긴장감과 박진감 넘치는 전개 엄청난 마지막부분      1\n",
       "35067  5092284                       또 봐도 재밌네요 ㅋ2편은 평점이거지네요;;      1\n",
       "34590  4501201                     완전유치뽕짝저질삼류영화..티비편이 훨씬낫다...      0\n",
       "16668  8848074                                 이건 보는 영화가 아니다.      0\n",
       "12196   178689                 오랜만에 접한 수작...30대 중반 이상분들에게 추천!      1"
      ]
     },
     "execution_count": 100,
     "metadata": {},
     "output_type": "execute_result"
    }
   ],
   "source": [
    "test_data.head()"
   ]
  },
  {
   "cell_type": "code",
   "execution_count": null,
   "metadata": {
    "colab": {
     "base_uri": "https://localhost:8080/"
    },
    "id": "50BvfYqWZG3n",
    "outputId": "f59aa820-f466-4386-9d3b-eba76758f78b"
   },
   "outputs": [
    {
     "data": {
      "text/plain": [
       "array([[ 2,  1, 21,  1, 49,  1,  0,  0,  0,  0,  0,  0,  0,  0,  0]],\n",
       "      dtype=int32)"
      ]
     },
     "execution_count": 104,
     "metadata": {},
     "output_type": "execute_result"
    }
   ],
   "source": [
    "sample_text = ['이 영화는 정말 짜증나서 못 보겠다']\n",
    "# sample_text = ['오랜만에 접한 수작']\n",
    "sample_seq = tokenizer.texts_to_sequences(sample_text)\n",
    "sample_padded = pad_sequences(sample_seq, maxlen=max_length, padding='post')\n",
    "sample_padded"
   ]
  },
  {
   "cell_type": "code",
   "execution_count": null,
   "metadata": {
    "colab": {
     "base_uri": "https://localhost:8080/"
    },
    "id": "mUfmxNgfZG3p",
    "outputId": "635ad013-ded2-4b64-cb96-0e0151c1dc28"
   },
   "outputs": [
    {
     "data": {
      "text/plain": [
       "array([[0.00045144]], dtype=float32)"
      ]
     },
     "execution_count": 105,
     "metadata": {},
     "output_type": "execute_result"
    }
   ],
   "source": [
    "model.predict([sample_padded])"
   ]
  },
  {
   "cell_type": "code",
   "execution_count": null,
   "metadata": {
    "colab": {
     "base_uri": "https://localhost:8080/"
    },
    "id": "rcTSIxn8KRTR",
    "outputId": "2bb64a98-7999-46e8-94de-322b447a22da"
   },
   "outputs": [
    {
     "data": {
      "text/plain": [
       "['negative']"
      ]
     },
     "execution_count": 106,
     "metadata": {},
     "output_type": "execute_result"
    }
   ],
   "source": [
    "['positive' if model.predict([sample_padded]) >= 0.5 else 'negative']"
   ]
  },
  {
   "cell_type": "code",
   "execution_count": null,
   "metadata": {
    "colab": {
     "base_uri": "https://localhost:8080/"
    },
    "id": "TB4LBuVNZG3r",
    "outputId": "9c223d3c-47b6-4d56-c614-bdb6e81ee8b8"
   },
   "outputs": [
    {
     "data": {
      "text/plain": [
       "[<keras.layers.embeddings.Embedding at 0x7fbd970c7f50>,\n",
       " <keras.layers.wrappers.Bidirectional at 0x7fbd00cb7310>,\n",
       " <keras.layers.core.dense.Dense at 0x7fbcf9fb5e50>,\n",
       " <keras.layers.core.dense.Dense at 0x7fbcf9f52bd0>]"
      ]
     },
     "execution_count": 107,
     "metadata": {},
     "output_type": "execute_result"
    }
   ],
   "source": [
    "model.layers"
   ]
  },
  {
   "cell_type": "markdown",
   "metadata": {
    "id": "SPbB4Vu5ZG3u"
   },
   "source": [
    "## Embedding Layer 시각화\n",
    "\n",
    "- Embedding projector https://projector.tensorflow.org/  를 이용하여 word embedding 시각화"
   ]
  },
  {
   "cell_type": "code",
   "execution_count": null,
   "metadata": {
    "colab": {
     "base_uri": "https://localhost:8080/"
    },
    "id": "Hlzy6uMAZG3u",
    "outputId": "68b309f9-de1b-429c-bacb-3e51f0e4974d"
   },
   "outputs": [
    {
     "name": "stdout",
     "output_type": "stream",
     "text": [
      "(20001, 64)\n"
     ]
    }
   ],
   "source": [
    "# 모델의 첫 번째 레이어 (임베딩 레이어) 가져오기\n",
    "e = model.layers[0]\n",
    "\n",
    "# 임베딩 레이어의 가중치 가져오기\n",
    "weights = e.get_weights()[0]\n",
    "\n",
    "# 임베딩 가중치의 형태 출력\n",
    "print(weights.shape)"
   ]
  },
  {
   "cell_type": "markdown",
   "metadata": {
    "id": "Z6UmmFaKZG3x"
   },
   "source": [
    "### embedding layer 의 weight 를 disk 에 write. Embedding projector 사용을 위해 embedding vector file 과 단어가 들어 있는 meta data file 로 구분하여 upload."
   ]
  },
  {
   "cell_type": "code",
   "execution_count": null,
   "metadata": {
    "id": "Kd2CXVpTZG3x"
   },
   "outputs": [],
   "source": [
    "# 벡터와 메타데이터를 저장할 파일 열기 (UTF-8 인코딩 사용)\n",
    "out_v = open('vects.tsv', 'w', encoding='utf-8')\n",
    "out_m = open('meta.tsv', 'w', encoding='utf-8')\n",
    "\n",
    "# 단어 인덱스 1부터 999까지 반복\n",
    "for i in range(1, 1000):\n",
    "    # 단어 인덱스를 단어로 변환 (인덱스가 없으면 '?' 반환)\n",
    "    word = tokenizer.index_word.get(i, '?')\n",
    "    # 해당 단어의 임베딩 벡터 가져오기\n",
    "    embeddings = weights[i]\n",
    "    # 메타데이터 파일에 단어 쓰기\n",
    "    out_m.write(word + '\\n')\n",
    "    # 벡터 파일에 임베딩 벡터 쓰기 (탭으로 구분)\n",
    "    out_v.write('\\t'.join([str(x) for x in embeddings]) + '\\n')\n",
    "\n",
    "# 파일 닫기\n",
    "out_v.close()\n",
    "out_m.close()"
   ]
  },
  {
   "cell_type": "markdown",
   "metadata": {
    "id": "1bjh-IuVZG3z"
   },
   "source": [
    "## Embedding 결과 확인\n",
    "\n",
    "[Embedding Projector](https://projector.tensorflow.org) 에 접속하여 embedding 의 품질 확인\n",
    "\n",
    "Google Colab 의 경우 local PC 로 download 받아 Embedding Projector 에 upload"
   ]
  },
  {
   "cell_type": "code",
   "execution_count": null,
   "metadata": {
    "id": "EXYfTlWUgjBj"
   },
   "outputs": [],
   "source": []
  }
 ],
 "metadata": {
  "accelerator": "GPU",
  "colab": {
   "provenance": []
  },
  "kernelspec": {
   "display_name": "Python 3 (ipykernel)",
   "language": "python",
   "name": "python3"
  },
  "language_info": {
   "codemirror_mode": {
    "name": "ipython",
    "version": 3
   },
   "file_extension": ".py",
   "mimetype": "text/x-python",
   "name": "python",
   "nbconvert_exporter": "python",
   "pygments_lexer": "ipython3",
   "version": "3.9.16"
  }
 },
 "nbformat": 4,
 "nbformat_minor": 4
}
