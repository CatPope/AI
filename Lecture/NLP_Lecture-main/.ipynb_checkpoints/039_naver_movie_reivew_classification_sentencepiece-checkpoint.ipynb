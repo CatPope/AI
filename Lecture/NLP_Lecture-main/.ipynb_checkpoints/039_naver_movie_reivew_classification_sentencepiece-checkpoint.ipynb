{
 "cells": [
  {
   "cell_type": "markdown",
   "metadata": {
    "id": "Q8keQOCGZG2p"
   },
   "source": [
    "# 039. 네이버 영화평 감성 분류 - sentencepiece 이용\n",
    "\n",
    "- Google SentencePiece tokenizer 를 이용한 한국어 영화평 감성 분류"
   ]
  },
  {
   "cell_type": "code",
   "execution_count": 1,
   "metadata": {
    "colab": {
     "base_uri": "https://localhost:8080/"
    },
    "id": "8_5V8bw0ZvtF",
    "outputId": "9b956912-0530-434d-c5b5-87d9e839307d"
   },
   "outputs": [
    {
     "name": "stdout",
     "output_type": "stream",
     "text": [
      "\u001b[?25l\r",
      "\u001b[K     |▎                               | 10 kB 35.9 MB/s eta 0:00:01\r",
      "\u001b[K     |▌                               | 20 kB 23.8 MB/s eta 0:00:01\r",
      "\u001b[K     |▉                               | 30 kB 18.2 MB/s eta 0:00:01\r",
      "\u001b[K     |█                               | 40 kB 15.8 MB/s eta 0:00:01\r",
      "\u001b[K     |█▍                              | 51 kB 6.9 MB/s eta 0:00:01\r",
      "\u001b[K     |█▋                              | 61 kB 8.1 MB/s eta 0:00:01\r",
      "\u001b[K     |██                              | 71 kB 7.8 MB/s eta 0:00:01\r",
      "\u001b[K     |██▏                             | 81 kB 8.7 MB/s eta 0:00:01\r",
      "\u001b[K     |██▍                             | 92 kB 9.3 MB/s eta 0:00:01\r",
      "\u001b[K     |██▊                             | 102 kB 6.9 MB/s eta 0:00:01\r",
      "\u001b[K     |███                             | 112 kB 6.9 MB/s eta 0:00:01\r",
      "\u001b[K     |███▎                            | 122 kB 6.9 MB/s eta 0:00:01\r",
      "\u001b[K     |███▌                            | 133 kB 6.9 MB/s eta 0:00:01\r",
      "\u001b[K     |███▉                            | 143 kB 6.9 MB/s eta 0:00:01\r",
      "\u001b[K     |████                            | 153 kB 6.9 MB/s eta 0:00:01\r",
      "\u001b[K     |████▎                           | 163 kB 6.9 MB/s eta 0:00:01\r",
      "\u001b[K     |████▋                           | 174 kB 6.9 MB/s eta 0:00:01\r",
      "\u001b[K     |████▉                           | 184 kB 6.9 MB/s eta 0:00:01\r",
      "\u001b[K     |█████▏                          | 194 kB 6.9 MB/s eta 0:00:01\r",
      "\u001b[K     |█████▍                          | 204 kB 6.9 MB/s eta 0:00:01\r",
      "\u001b[K     |█████▊                          | 215 kB 6.9 MB/s eta 0:00:01\r",
      "\u001b[K     |██████                          | 225 kB 6.9 MB/s eta 0:00:01\r",
      "\u001b[K     |██████▏                         | 235 kB 6.9 MB/s eta 0:00:01\r",
      "\u001b[K     |██████▌                         | 245 kB 6.9 MB/s eta 0:00:01\r",
      "\u001b[K     |██████▊                         | 256 kB 6.9 MB/s eta 0:00:01\r",
      "\u001b[K     |███████                         | 266 kB 6.9 MB/s eta 0:00:01\r",
      "\u001b[K     |███████▎                        | 276 kB 6.9 MB/s eta 0:00:01\r",
      "\u001b[K     |███████▋                        | 286 kB 6.9 MB/s eta 0:00:01\r",
      "\u001b[K     |███████▉                        | 296 kB 6.9 MB/s eta 0:00:01\r",
      "\u001b[K     |████████                        | 307 kB 6.9 MB/s eta 0:00:01\r",
      "\u001b[K     |████████▍                       | 317 kB 6.9 MB/s eta 0:00:01\r",
      "\u001b[K     |████████▋                       | 327 kB 6.9 MB/s eta 0:00:01\r",
      "\u001b[K     |█████████                       | 337 kB 6.9 MB/s eta 0:00:01\r",
      "\u001b[K     |█████████▏                      | 348 kB 6.9 MB/s eta 0:00:01\r",
      "\u001b[K     |█████████▌                      | 358 kB 6.9 MB/s eta 0:00:01\r",
      "\u001b[K     |█████████▊                      | 368 kB 6.9 MB/s eta 0:00:01\r",
      "\u001b[K     |██████████                      | 378 kB 6.9 MB/s eta 0:00:01\r",
      "\u001b[K     |██████████▎                     | 389 kB 6.9 MB/s eta 0:00:01\r",
      "\u001b[K     |██████████▌                     | 399 kB 6.9 MB/s eta 0:00:01\r",
      "\u001b[K     |██████████▉                     | 409 kB 6.9 MB/s eta 0:00:01\r",
      "\u001b[K     |███████████                     | 419 kB 6.9 MB/s eta 0:00:01\r",
      "\u001b[K     |███████████▍                    | 430 kB 6.9 MB/s eta 0:00:01\r",
      "\u001b[K     |███████████▋                    | 440 kB 6.9 MB/s eta 0:00:01\r",
      "\u001b[K     |███████████▉                    | 450 kB 6.9 MB/s eta 0:00:01\r",
      "\u001b[K     |████████████▏                   | 460 kB 6.9 MB/s eta 0:00:01\r",
      "\u001b[K     |████████████▍                   | 471 kB 6.9 MB/s eta 0:00:01\r",
      "\u001b[K     |████████████▊                   | 481 kB 6.9 MB/s eta 0:00:01\r",
      "\u001b[K     |█████████████                   | 491 kB 6.9 MB/s eta 0:00:01\r",
      "\u001b[K     |█████████████▎                  | 501 kB 6.9 MB/s eta 0:00:01\r",
      "\u001b[K     |█████████████▌                  | 512 kB 6.9 MB/s eta 0:00:01\r",
      "\u001b[K     |█████████████▊                  | 522 kB 6.9 MB/s eta 0:00:01\r",
      "\u001b[K     |██████████████                  | 532 kB 6.9 MB/s eta 0:00:01\r",
      "\u001b[K     |██████████████▎                 | 542 kB 6.9 MB/s eta 0:00:01\r",
      "\u001b[K     |██████████████▋                 | 552 kB 6.9 MB/s eta 0:00:01\r",
      "\u001b[K     |██████████████▉                 | 563 kB 6.9 MB/s eta 0:00:01\r",
      "\u001b[K     |███████████████▏                | 573 kB 6.9 MB/s eta 0:00:01\r",
      "\u001b[K     |███████████████▍                | 583 kB 6.9 MB/s eta 0:00:01\r",
      "\u001b[K     |███████████████▋                | 593 kB 6.9 MB/s eta 0:00:01\r",
      "\u001b[K     |████████████████                | 604 kB 6.9 MB/s eta 0:00:01\r",
      "\u001b[K     |████████████████▏               | 614 kB 6.9 MB/s eta 0:00:01\r",
      "\u001b[K     |████████████████▌               | 624 kB 6.9 MB/s eta 0:00:01\r",
      "\u001b[K     |████████████████▊               | 634 kB 6.9 MB/s eta 0:00:01\r",
      "\u001b[K     |█████████████████               | 645 kB 6.9 MB/s eta 0:00:01\r",
      "\u001b[K     |█████████████████▎              | 655 kB 6.9 MB/s eta 0:00:01\r",
      "\u001b[K     |█████████████████▌              | 665 kB 6.9 MB/s eta 0:00:01\r",
      "\u001b[K     |█████████████████▉              | 675 kB 6.9 MB/s eta 0:00:01\r",
      "\u001b[K     |██████████████████              | 686 kB 6.9 MB/s eta 0:00:01\r",
      "\u001b[K     |██████████████████▍             | 696 kB 6.9 MB/s eta 0:00:01\r",
      "\u001b[K     |██████████████████▋             | 706 kB 6.9 MB/s eta 0:00:01\r",
      "\u001b[K     |███████████████████             | 716 kB 6.9 MB/s eta 0:00:01\r",
      "\u001b[K     |███████████████████▏            | 727 kB 6.9 MB/s eta 0:00:01\r",
      "\u001b[K     |███████████████████▍            | 737 kB 6.9 MB/s eta 0:00:01\r",
      "\u001b[K     |███████████████████▊            | 747 kB 6.9 MB/s eta 0:00:01\r",
      "\u001b[K     |████████████████████            | 757 kB 6.9 MB/s eta 0:00:01\r",
      "\u001b[K     |████████████████████▎           | 768 kB 6.9 MB/s eta 0:00:01\r",
      "\u001b[K     |████████████████████▌           | 778 kB 6.9 MB/s eta 0:00:01\r",
      "\u001b[K     |████████████████████▉           | 788 kB 6.9 MB/s eta 0:00:01\r",
      "\u001b[K     |█████████████████████           | 798 kB 6.9 MB/s eta 0:00:01\r",
      "\u001b[K     |█████████████████████▎          | 808 kB 6.9 MB/s eta 0:00:01\r",
      "\u001b[K     |█████████████████████▋          | 819 kB 6.9 MB/s eta 0:00:01\r",
      "\u001b[K     |█████████████████████▉          | 829 kB 6.9 MB/s eta 0:00:01\r",
      "\u001b[K     |██████████████████████▏         | 839 kB 6.9 MB/s eta 0:00:01\r",
      "\u001b[K     |██████████████████████▍         | 849 kB 6.9 MB/s eta 0:00:01\r",
      "\u001b[K     |██████████████████████▊         | 860 kB 6.9 MB/s eta 0:00:01\r",
      "\u001b[K     |███████████████████████         | 870 kB 6.9 MB/s eta 0:00:01\r",
      "\u001b[K     |███████████████████████▏        | 880 kB 6.9 MB/s eta 0:00:01\r",
      "\u001b[K     |███████████████████████▌        | 890 kB 6.9 MB/s eta 0:00:01\r",
      "\u001b[K     |███████████████████████▊        | 901 kB 6.9 MB/s eta 0:00:01\r",
      "\u001b[K     |████████████████████████        | 911 kB 6.9 MB/s eta 0:00:01\r",
      "\u001b[K     |████████████████████████▎       | 921 kB 6.9 MB/s eta 0:00:01\r",
      "\u001b[K     |████████████████████████▋       | 931 kB 6.9 MB/s eta 0:00:01\r",
      "\u001b[K     |████████████████████████▉       | 942 kB 6.9 MB/s eta 0:00:01\r",
      "\u001b[K     |█████████████████████████       | 952 kB 6.9 MB/s eta 0:00:01\r",
      "\u001b[K     |█████████████████████████▍      | 962 kB 6.9 MB/s eta 0:00:01\r",
      "\u001b[K     |█████████████████████████▋      | 972 kB 6.9 MB/s eta 0:00:01\r",
      "\u001b[K     |██████████████████████████      | 983 kB 6.9 MB/s eta 0:00:01\r",
      "\u001b[K     |██████████████████████████▏     | 993 kB 6.9 MB/s eta 0:00:01\r",
      "\u001b[K     |██████████████████████████▌     | 1.0 MB 6.9 MB/s eta 0:00:01\r",
      "\u001b[K     |██████████████████████████▊     | 1.0 MB 6.9 MB/s eta 0:00:01\r",
      "\u001b[K     |███████████████████████████     | 1.0 MB 6.9 MB/s eta 0:00:01\r",
      "\u001b[K     |███████████████████████████▎    | 1.0 MB 6.9 MB/s eta 0:00:01\r",
      "\u001b[K     |███████████████████████████▌    | 1.0 MB 6.9 MB/s eta 0:00:01\r",
      "\u001b[K     |███████████████████████████▉    | 1.1 MB 6.9 MB/s eta 0:00:01\r",
      "\u001b[K     |████████████████████████████    | 1.1 MB 6.9 MB/s eta 0:00:01\r",
      "\u001b[K     |████████████████████████████▍   | 1.1 MB 6.9 MB/s eta 0:00:01\r",
      "\u001b[K     |████████████████████████████▋   | 1.1 MB 6.9 MB/s eta 0:00:01\r",
      "\u001b[K     |████████████████████████████▉   | 1.1 MB 6.9 MB/s eta 0:00:01\r",
      "\u001b[K     |█████████████████████████████▏  | 1.1 MB 6.9 MB/s eta 0:00:01\r",
      "\u001b[K     |█████████████████████████████▍  | 1.1 MB 6.9 MB/s eta 0:00:01\r",
      "\u001b[K     |█████████████████████████████▊  | 1.1 MB 6.9 MB/s eta 0:00:01\r",
      "\u001b[K     |██████████████████████████████  | 1.1 MB 6.9 MB/s eta 0:00:01\r",
      "\u001b[K     |██████████████████████████████▎ | 1.1 MB 6.9 MB/s eta 0:00:01\r",
      "\u001b[K     |██████████████████████████████▌ | 1.2 MB 6.9 MB/s eta 0:00:01\r",
      "\u001b[K     |██████████████████████████████▊ | 1.2 MB 6.9 MB/s eta 0:00:01\r",
      "\u001b[K     |███████████████████████████████ | 1.2 MB 6.9 MB/s eta 0:00:01\r",
      "\u001b[K     |███████████████████████████████▎| 1.2 MB 6.9 MB/s eta 0:00:01\r",
      "\u001b[K     |███████████████████████████████▋| 1.2 MB 6.9 MB/s eta 0:00:01\r",
      "\u001b[K     |███████████████████████████████▉| 1.2 MB 6.9 MB/s eta 0:00:01\r",
      "\u001b[K     |████████████████████████████████| 1.2 MB 6.9 MB/s \n",
      "\u001b[?25h"
     ]
    }
   ],
   "source": [
    "!pip install -q sentencepiece"
   ]
  },
  {
   "cell_type": "code",
   "execution_count": 10,
   "metadata": {
    "id": "0q-FVZRQXIMt"
   },
   "outputs": [],
   "source": [
    "import sentencepiece as spm\n",
    "\n",
    "import numpy as np\n",
    "import pandas as pd\n",
    "import re\n",
    "import time\n",
    "import matplotlib.pyplot as plt\n",
    "\n",
    "import tensorflow as tf\n",
    "from tensorflow.keras.preprocessing.text import Tokenizer\n",
    "from tensorflow.keras.preprocessing.sequence import pad_sequences\n",
    "\n",
    "from tensorflow.keras.models import Sequential\n",
    "from tensorflow.keras.layers import Embedding, Bidirectional, \\\n",
    "                                    Dense, LSTM"
   ]
  },
  {
   "cell_type": "code",
   "execution_count": 11,
   "metadata": {
    "id": "thLM4zKvZuKd"
   },
   "outputs": [],
   "source": [
    "# 이전에 train 해 놓은 tokenizer load\n",
    "\n",
    "# vocab_size = 30000\n",
    "# path = 'nsmc'\n",
    "\n",
    "# sp = spm.SentencePieceProcessor()\n",
    "# sp.Load('{}.model'.format(path))"
   ]
  },
  {
   "cell_type": "markdown",
   "metadata": {
    "id": "Hn1Loaaf4yZd"
   },
   "source": [
    "네이버 영화 감상평 Data 불러오기"
   ]
  },
  {
   "cell_type": "code",
   "execution_count": 36,
   "metadata": {
    "id": "PBIaLV_xZG2u"
   },
   "outputs": [],
   "source": [
    "DATA_TRAIN_PATH = tf.keras.utils.get_file(\"ratings_train.txt\", \n",
    "            \"https://github.com/ironmanciti/NLP_lecture/raw/master/data/naver_movie/ratings_train.txt\")\n",
    "DATA_TEST_PATH = tf.keras.utils.get_file(\"ratings_test.txt\", \n",
    "            \"https://github.com/ironmanciti/NLP_lecture/raw/master/data/naver_movie/ratings_test.txt\")"
   ]
  },
  {
   "cell_type": "markdown",
   "metadata": {
    "id": "xxyVInj646yM"
   },
   "source": [
    "### DataFrame으로 load\n",
    "\n",
    "- train data"
   ]
  },
  {
   "cell_type": "code",
   "execution_count": 37,
   "metadata": {
    "colab": {
     "base_uri": "https://localhost:8080/",
     "height": 160
    },
    "id": "O2411HrHZG2y",
    "outputId": "9f0b2609-b8fb-4ec1-e25e-08da415b9ab2"
   },
   "outputs": [
    {
     "name": "stdout",
     "output_type": "stream",
     "text": [
      "(150000, 3)\n"
     ]
    },
    {
     "data": {
      "text/html": [
       "<div>\n",
       "<style scoped>\n",
       "    .dataframe tbody tr th:only-of-type {\n",
       "        vertical-align: middle;\n",
       "    }\n",
       "\n",
       "    .dataframe tbody tr th {\n",
       "        vertical-align: top;\n",
       "    }\n",
       "\n",
       "    .dataframe thead th {\n",
       "        text-align: right;\n",
       "    }\n",
       "</style>\n",
       "<table border=\"1\" class=\"dataframe\">\n",
       "  <thead>\n",
       "    <tr style=\"text-align: right;\">\n",
       "      <th></th>\n",
       "      <th>id</th>\n",
       "      <th>document</th>\n",
       "      <th>label</th>\n",
       "    </tr>\n",
       "  </thead>\n",
       "  <tbody>\n",
       "    <tr>\n",
       "      <th>0</th>\n",
       "      <td>9976970</td>\n",
       "      <td>아 더빙.. 진짜 짜증나네요 목소리</td>\n",
       "      <td>0</td>\n",
       "    </tr>\n",
       "    <tr>\n",
       "      <th>1</th>\n",
       "      <td>3819312</td>\n",
       "      <td>흠...포스터보고 초딩영화줄....오버연기조차 가볍지 않구나</td>\n",
       "      <td>1</td>\n",
       "    </tr>\n",
       "    <tr>\n",
       "      <th>2</th>\n",
       "      <td>10265843</td>\n",
       "      <td>너무재밓었다그래서보는것을추천한다</td>\n",
       "      <td>0</td>\n",
       "    </tr>\n",
       "  </tbody>\n",
       "</table>\n",
       "</div>"
      ],
      "text/plain": [
       "         id                           document  label\n",
       "0   9976970                아 더빙.. 진짜 짜증나네요 목소리      0\n",
       "1   3819312  흠...포스터보고 초딩영화줄....오버연기조차 가볍지 않구나      1\n",
       "2  10265843                  너무재밓었다그래서보는것을추천한다      0"
      ]
     },
     "execution_count": 37,
     "metadata": {},
     "output_type": "execute_result"
    }
   ],
   "source": [
    "train_data = pd.read_csv(DATA_TRAIN_PATH, delimiter='\\t')\n",
    "print(train_data.shape)\n",
    "train_data.head(3)"
   ]
  },
  {
   "cell_type": "markdown",
   "metadata": {
    "id": "54tfRNlc5G__"
   },
   "source": [
    "- test data"
   ]
  },
  {
   "cell_type": "code",
   "execution_count": 38,
   "metadata": {
    "colab": {
     "base_uri": "https://localhost:8080/",
     "height": 160
    },
    "id": "JnlRqdJdXIMv",
    "outputId": "58db20df-f84e-4987-8807-d57a8162bfb2"
   },
   "outputs": [
    {
     "name": "stdout",
     "output_type": "stream",
     "text": [
      "(50000, 3)\n"
     ]
    },
    {
     "data": {
      "text/html": [
       "<div>\n",
       "<style scoped>\n",
       "    .dataframe tbody tr th:only-of-type {\n",
       "        vertical-align: middle;\n",
       "    }\n",
       "\n",
       "    .dataframe tbody tr th {\n",
       "        vertical-align: top;\n",
       "    }\n",
       "\n",
       "    .dataframe thead th {\n",
       "        text-align: right;\n",
       "    }\n",
       "</style>\n",
       "<table border=\"1\" class=\"dataframe\">\n",
       "  <thead>\n",
       "    <tr style=\"text-align: right;\">\n",
       "      <th></th>\n",
       "      <th>id</th>\n",
       "      <th>document</th>\n",
       "      <th>label</th>\n",
       "    </tr>\n",
       "  </thead>\n",
       "  <tbody>\n",
       "    <tr>\n",
       "      <th>0</th>\n",
       "      <td>6270596</td>\n",
       "      <td>굳 ㅋ</td>\n",
       "      <td>1</td>\n",
       "    </tr>\n",
       "    <tr>\n",
       "      <th>1</th>\n",
       "      <td>9274899</td>\n",
       "      <td>GDNTOPCLASSINTHECLUB</td>\n",
       "      <td>0</td>\n",
       "    </tr>\n",
       "    <tr>\n",
       "      <th>2</th>\n",
       "      <td>8544678</td>\n",
       "      <td>뭐야 이 평점들은.... 나쁘진 않지만 10점 짜리는 더더욱 아니잖아</td>\n",
       "      <td>0</td>\n",
       "    </tr>\n",
       "  </tbody>\n",
       "</table>\n",
       "</div>"
      ],
      "text/plain": [
       "        id                                document  label\n",
       "0  6270596                                     굳 ㅋ      1\n",
       "1  9274899                    GDNTOPCLASSINTHECLUB      0\n",
       "2  8544678  뭐야 이 평점들은.... 나쁘진 않지만 10점 짜리는 더더욱 아니잖아      0"
      ]
     },
     "execution_count": 38,
     "metadata": {},
     "output_type": "execute_result"
    }
   ],
   "source": [
    "test_data = pd.read_csv(DATA_TEST_PATH, delimiter='\\t')\n",
    "print(test_data.shape)\n",
    "test_data.head(3)"
   ]
  },
  {
   "cell_type": "markdown",
   "metadata": {
    "id": "mDtiNjsF7L5p"
   },
   "source": [
    "**null value 제거**"
   ]
  },
  {
   "cell_type": "code",
   "execution_count": 39,
   "metadata": {
    "id": "aakgUd3t7L5p"
   },
   "outputs": [],
   "source": [
    "train_data.dropna(inplace=True)\n",
    "test_data.dropna(inplace=True)"
   ]
  },
  {
   "cell_type": "code",
   "execution_count": 40,
   "metadata": {
    "colab": {
     "base_uri": "https://localhost:8080/"
    },
    "id": "wPzLBs1O7L5q",
    "outputId": "ffa7f9f9-5505-4bcb-a68f-4296d9efe35b"
   },
   "outputs": [
    {
     "data": {
      "text/plain": [
       "((149995, 3), (49997, 3))"
      ]
     },
     "execution_count": 40,
     "metadata": {},
     "output_type": "execute_result"
    }
   ],
   "source": [
    "train_data.shape, test_data.shape"
   ]
  },
  {
   "cell_type": "markdown",
   "metadata": {
    "id": "k9Unf2JKZG21"
   },
   "source": [
    "### sentencepiece tokenizer 작성"
   ]
  },
  {
   "cell_type": "code",
   "execution_count": 41,
   "metadata": {
    "colab": {
     "base_uri": "https://localhost:8080/"
    },
    "id": "tfaIt9P_ZG25",
    "outputId": "79110a1d-ecbf-4c76-f7b7-6781aee8d5fa"
   },
   "outputs": [
    {
     "data": {
      "text/plain": [
       "True"
      ]
     },
     "execution_count": 41,
     "metadata": {},
     "output_type": "execute_result"
    }
   ],
   "source": [
    "with open('./nsmc.txt', 'w', encoding='utf-8') as f:\n",
    "    for line in train_data.document.values:\n",
    "        try:\n",
    "            f.write(line + '\\n')\n",
    "        except:\n",
    "            print(\"write error ---> \", line)\n",
    "            \n",
    "with open('./nsmc.txt', 'r', encoding='utf-8') as f:\n",
    "    nsmc_txt = f.read().split('\\n')\n",
    "    \n",
    "input_file = 'nsmc.txt'\n",
    "vocab_size = 30000\n",
    "prefix = 'nsmc'\n",
    "\n",
    "templates = '--input={} --model_prefix={} --vocab_size={}'\n",
    "cmd = templates.format(input_file, prefix, vocab_size)\n",
    "\n",
    "spm.SentencePieceTrainer.Train(cmd)\n",
    "\n",
    "sp = spm.SentencePieceProcessor()\n",
    "sp.Load('{}.model'.format(prefix))"
   ]
  },
  {
   "cell_type": "markdown",
   "metadata": {
    "id": "cpa_h_9c5NA6"
   },
   "source": [
    "- tokenizer test"
   ]
  },
  {
   "cell_type": "code",
   "execution_count": 42,
   "metadata": {
    "colab": {
     "base_uri": "https://localhost:8080/"
    },
    "id": "zGv5Em8zZG3E",
    "outputId": "0037dbbd-6766-4af3-e729-c6fc847f2763"
   },
   "outputs": [
    {
     "name": "stdout",
     "output_type": "stream",
     "text": [
      "['▁아버지가', '▁방', '에', '▁들어가', '신', '다']\n",
      "[6161, 1570, 16, 3870, 267, 23] \n",
      "\n"
     ]
    }
   ],
   "source": [
    "test = \"아버지가 방에 들어가신다\"\n",
    "print(sp.encode_as_pieces(test))\n",
    "print(sp.encode_as_ids(test), '\\n') "
   ]
  },
  {
   "cell_type": "code",
   "execution_count": 43,
   "metadata": {
    "colab": {
     "base_uri": "https://localhost:8080/"
    },
    "id": "t5-YceeAXIMw",
    "outputId": "e0659eae-5bd5-4146-915f-8811321cd79b"
   },
   "outputs": [
    {
     "name": "stdout",
     "output_type": "stream",
     "text": [
      "['▁아버지가', '방', '에', '들어가', '신', '다']\n",
      "[6161, 618, 16, 13139, 267, 23] \n",
      "\n"
     ]
    }
   ],
   "source": [
    "test = \"아버지가방에들어가신다\"\n",
    "pieces = sp.encode_as_pieces(test)\n",
    "print(pieces)\n",
    "ids = sp.encode_as_ids(test)\n",
    "print(ids, '\\n') "
   ]
  },
  {
   "cell_type": "markdown",
   "metadata": {
    "id": "vUoshyfH5Qq9"
   },
   "source": [
    "- tokenized sentence를 decode "
   ]
  },
  {
   "cell_type": "code",
   "execution_count": 44,
   "metadata": {
    "colab": {
     "base_uri": "https://localhost:8080/"
    },
    "id": "RwEVTqAUXIMx",
    "outputId": "76687c41-79f3-4c05-96e9-0a1449308006"
   },
   "outputs": [
    {
     "name": "stdout",
     "output_type": "stream",
     "text": [
      "아버지가방에들어가신다\n",
      "아버지가방에들어가신다\n"
     ]
    }
   ],
   "source": [
    "print(sp.DecodePieces(pieces))\n",
    "print(sp.DecodeIds(ids))"
   ]
  },
  {
   "cell_type": "markdown",
   "metadata": {
    "id": "Y-3baFyeZG3H"
   },
   "source": [
    "## Text Data 전처리\n",
    "\n",
    "**한글 문자가 아닌 것 모두 제거**"
   ]
  },
  {
   "cell_type": "code",
   "execution_count": 46,
   "metadata": {
    "id": "HpwrCqOGZG3H"
   },
   "outputs": [],
   "source": [
    "def preprocessing(sentence, remove_stopwords=True): \n",
    "    sentence = re.sub('\\\\\\\\n', ' ', sentence)              # 개행문자 제거\n",
    "    sentence = re.sub(r'[^가-힣ㄱ-ㅎㅏ-ㅣ\\s]', \"\", sentence)  #한글외에 모두 제거\n",
    "    sequences = sp.encode_as_ids(sentence)\n",
    "    return sequences"
   ]
  },
  {
   "cell_type": "markdown",
   "metadata": {
    "id": "SIh9rg4V8oDb"
   },
   "source": [
    "### train/test input, label pair 작성"
   ]
  },
  {
   "cell_type": "code",
   "execution_count": 47,
   "metadata": {
    "colab": {
     "base_uri": "https://localhost:8080/"
    },
    "id": "Qcc0WVspZG3K",
    "outputId": "c4f0ce2b-9b5a-4455-c7be-164c1227e80a"
   },
   "outputs": [
    {
     "name": "stdout",
     "output_type": "stream",
     "text": [
      "train processed = 0\n",
      "train processed = 10000\n",
      "train processed = 20000\n",
      "train processed = 30000\n",
      "train processed = 40000\n",
      "train processed = 50000\n",
      "train processed = 60000\n",
      "train processed = 70000\n",
      "train processed = 80000\n",
      "train processed = 90000\n",
      "train processed = 100000\n",
      "train processed = 110000\n",
      "train processed = 120000\n",
      "train processed = 130000\n",
      "train processed = 140000\n",
      "test processed = 0\n",
      "test processed = 1000\n",
      "test processed = 2000\n",
      "test processed = 3000\n",
      "test processed = 4000\n",
      "test processed = 5000\n",
      "test processed = 6000\n",
      "test processed = 7000\n",
      "test processed = 8000\n",
      "test processed = 9000\n",
      "test processed = 10000\n",
      "test processed = 11000\n",
      "test processed = 12000\n",
      "test processed = 13000\n",
      "test processed = 14000\n",
      "test processed = 15000\n",
      "test processed = 16000\n",
      "test processed = 17000\n",
      "test processed = 18000\n",
      "test processed = 19000\n",
      "test processed = 20000\n",
      "test processed = 21000\n",
      "test processed = 22000\n",
      "test processed = 23000\n",
      "test processed = 24000\n",
      "test processed = 25000\n",
      "test processed = 26000\n",
      "test processed = 27000\n",
      "test processed = 28000\n",
      "test processed = 29000\n",
      "test processed = 30000\n",
      "test processed = 31000\n",
      "test processed = 32000\n",
      "test processed = 33000\n",
      "test processed = 34000\n",
      "test processed = 35000\n",
      "test processed = 36000\n",
      "test processed = 37000\n",
      "test processed = 38000\n",
      "test processed = 39000\n",
      "test processed = 40000\n",
      "test processed = 41000\n",
      "test processed = 42000\n",
      "test processed = 43000\n",
      "test processed = 44000\n",
      "test processed = 45000\n",
      "test processed = 46000\n",
      "test processed = 47000\n",
      "test processed = 48000\n",
      "test processed = 49000\n"
     ]
    }
   ],
   "source": [
    "clean_train = []\n",
    "train_labels = []\n",
    "clean_test = []\n",
    "test_labels = []\n",
    "\n",
    "for i, (sent, label) in enumerate(zip(train_data['document'], \n",
    "                                      train_data['label'])):\n",
    "    if i % 10000 == 0:\n",
    "        print(f\"train processed = {i}\")\n",
    "    sent = preprocessing(sent)\n",
    "    if len(sent) > 0:\n",
    "        clean_train.append(sent)\n",
    "        train_labels.append(label)\n",
    "\n",
    "for i, (sent, label) in enumerate(zip(test_data['document'], \n",
    "                                      test_data['label'])):\n",
    "    if i % 10000 == 0:\n",
    "        print(f\"test processed = {i}\")\n",
    "    sent = preprocessing(sent)\n",
    "    if len(sent) > 0:\n",
    "        clean_test.append(sent)\n",
    "        test_labels.append(label)"
   ]
  },
  {
   "cell_type": "code",
   "execution_count": 48,
   "metadata": {
    "colab": {
     "base_uri": "https://localhost:8080/"
    },
    "id": "J207fZCJXIMy",
    "outputId": "18029958-42ec-4e4f-9a2d-cc93e58aa61e"
   },
   "outputs": [
    {
     "data": {
      "text/plain": [
       "(148740, 148740, 49575, 49575)"
      ]
     },
     "execution_count": 48,
     "metadata": {},
     "output_type": "execute_result"
    }
   ],
   "source": [
    "len(clean_train), len(train_labels), len(clean_test), len(test_labels)"
   ]
  },
  {
   "cell_type": "code",
   "execution_count": 49,
   "metadata": {
    "colab": {
     "base_uri": "https://localhost:8080/"
    },
    "id": "nWQZZodkXIMy",
    "outputId": "52668772-630f-4592-85e4-99d0318d35f6"
   },
   "outputs": [
    {
     "name": "stdout",
     "output_type": "stream",
     "text": [
      "0 / [52, 752, 25, 16019, 1401]\n",
      "\n",
      "1 / [1272, 171]\n"
     ]
    }
   ],
   "source": [
    "print(train_labels[0], '/', clean_train[0])\n",
    "print()\n",
    "print(test_labels[0], '/', clean_test[0])"
   ]
  },
  {
   "cell_type": "markdown",
   "metadata": {
    "id": "uXVvCH3_9LbK"
   },
   "source": [
    "- maximum sequence length 결정"
   ]
  },
  {
   "cell_type": "code",
   "execution_count": 50,
   "metadata": {
    "colab": {
     "base_uri": "https://localhost:8080/",
     "height": 299
    },
    "id": "PgeXyNmfdYO9",
    "outputId": "96917c87-a233-4358-deb2-aa862723c11a"
   },
   "outputs": [
    {
     "name": "stdout",
     "output_type": "stream",
     "text": [
      "sample max length : 100\n",
      "sample mean length: 12\n"
     ]
    },
    {
     "data": {
      "image/png": "[encoded data removed]",
      "text/plain": [
       "<Figure size 432x288 with 1 Axes>"
      ]
     },
     "metadata": {
      "needs_background": "light"
     },
     "output_type": "display_data"
    }
   ],
   "source": [
    "print('sample max length : {}'.format(max(len(s) for s in clean_train)))\n",
    "print('sample mean length: {:.0f}'.format(np.mean([len(s) \n",
    "                                        for s in clean_train])))\n",
    "\n",
    "plt.hist([len(s) for s in clean_train]);"
   ]
  },
  {
   "cell_type": "code",
   "execution_count": 51,
   "metadata": {
    "id": "eMm_-YoLZG3X"
   },
   "outputs": [],
   "source": [
    "MAX_SEQUENCE_LENGTH = 30"
   ]
  },
  {
   "cell_type": "markdown",
   "metadata": {
    "id": "Bm5LP8QL9VNz"
   },
   "source": [
    "- sequence padding"
   ]
  },
  {
   "cell_type": "code",
   "execution_count": 52,
   "metadata": {
    "colab": {
     "base_uri": "https://localhost:8080/"
    },
    "id": "owqiPD1uZG3Z",
    "outputId": "ae7a688b-1a55-4e7c-d8f8-885521192a71"
   },
   "outputs": [
    {
     "data": {
      "text/plain": [
       "(148740, 148740, 49575, 49575)"
      ]
     },
     "execution_count": 52,
     "metadata": {},
     "output_type": "execute_result"
    }
   ],
   "source": [
    "train_inputs = pad_sequences(clean_train, \n",
    "                            maxlen=MAX_SEQUENCE_LENGTH,\n",
    "                            padding='post', truncating='post')\n",
    "train_labels = np.array(train_labels)\n",
    "\n",
    "test_inputs = pad_sequences(clean_test, \n",
    "                            maxlen=MAX_SEQUENCE_LENGTH,\n",
    "                            padding='post', truncating='post')\n",
    "test_labels = np.array(test_labels)\n",
    "\n",
    "len(train_inputs), len(train_labels), len(test_inputs), len(test_labels)"
   ]
  },
  {
   "cell_type": "code",
   "execution_count": 53,
   "metadata": {
    "colab": {
     "base_uri": "https://localhost:8080/"
    },
    "id": "Ct65K3gSZG3c",
    "outputId": "bc614b96-131b-4e4d-d482-3fcf75f3e177"
   },
   "outputs": [
    {
     "name": "stdout",
     "output_type": "stream",
     "text": [
      "[[   52   752    25 16019  1401     0     0     0     0     0     0     0\n",
      "      0     0     0     0     0     0     0     0     0     0     0     0\n",
      "      0     0     0     0     0     0]\n",
      " [ 1239 12818 18669   423 18184   416  1133  6423  1083   417     0     0\n",
      "      0     0     0     0     0     0     0     0     0     0     0     0\n",
      "      0     0     0     0     0     0]]\n",
      "\n",
      "[[ 1272   171     0     0     0     0     0     0     0     0     0     0\n",
      "      0     0     0     0     0     0     0     0     0     0     0     0\n",
      "      0     0     0     0     0     0]\n",
      " [  862    24    61   438 10422  2281     4    34  5723    12  7046  5909\n",
      "      0     0     0     0     0     0     0     0     0     0     0     0\n",
      "      0     0     0     0     0     0]]\n"
     ]
    }
   ],
   "source": [
    "print(train_inputs[:2])\n",
    "print()\n",
    "print(test_inputs[:2])"
   ]
  },
  {
   "cell_type": "markdown",
   "metadata": {
    "id": "g6E1okVt9ZpY"
   },
   "source": [
    "### model 정의"
   ]
  },
  {
   "cell_type": "code",
   "execution_count": 54,
   "metadata": {
    "colab": {
     "base_uri": "https://localhost:8080/"
    },
    "id": "4gbHh9M9ZG3h",
    "outputId": "c9702365-844b-4563-b803-a7985ede8d16"
   },
   "outputs": [
    {
     "name": "stdout",
     "output_type": "stream",
     "text": [
      "Model: \"sequential_1\"\n",
      "_________________________________________________________________\n",
      " Layer (type)                Output Shape              Param #   \n",
      "=================================================================\n",
      " embedding_1 (Embedding)     (None, None, 100)         3000100   \n",
      "                                                                 \n",
      " bidirectional_1 (Bidirectio  (None, 128)              84480     \n",
      " nal)                                                            \n",
      "                                                                 \n",
      " dense_2 (Dense)             (None, 32)                4128      \n",
      "                                                                 \n",
      " dense_3 (Dense)             (None, 1)                 33        \n",
      "                                                                 \n",
      "=================================================================\n",
      "Total params: 3,088,741\n",
      "Trainable params: 3,088,741\n",
      "Non-trainable params: 0\n",
      "_________________________________________________________________\n"
     ]
    }
   ],
   "source": [
    "model = Sequential([\n",
    "    Embedding(vocab_size +1, 100),\n",
    "    Bidirectional(LSTM(64)),\n",
    "    Dense(32, activation='relu'),\n",
    "    Dense(1, activation='sigmoid')\n",
    "])\n",
    "\n",
    "model.compile(loss='binary_crossentropy', \n",
    "              optimizer='adam', metrics=['accuracy'])\n",
    "model.summary()"
   ]
  },
  {
   "cell_type": "code",
   "execution_count": 55,
   "metadata": {
    "colab": {
     "base_uri": "https://localhost:8080/"
    },
    "id": "JrmVSpkrZG3j",
    "outputId": "fc227dd0-ef9b-44d3-f560-28ec19777a48"
   },
   "outputs": [
    {
     "name": "stdout",
     "output_type": "stream",
     "text": [
      "Epoch 1/50\n",
      "1163/1163 [==============================] - 14s 9ms/step - loss: 0.3900 - accuracy: 0.8178 - val_loss: 0.3422 - val_accuracy: 0.8519\n",
      "Epoch 2/50\n",
      "1163/1163 [==============================] - 10s 9ms/step - loss: 0.2649 - accuracy: 0.8870 - val_loss: 0.3517 - val_accuracy: 0.8522\n",
      "Epoch 3/50\n",
      "1163/1163 [==============================] - 10s 9ms/step - loss: 0.1976 - accuracy: 0.9164 - val_loss: 0.3855 - val_accuracy: 0.8468\n",
      "Epoch 4/50\n",
      "1163/1163 [==============================] - 10s 9ms/step - loss: 0.1416 - accuracy: 0.9416 - val_loss: 0.4868 - val_accuracy: 0.8403\n",
      "Epoch 5/50\n",
      "1163/1163 [==============================] - 10s 9ms/step - loss: 0.0951 - accuracy: 0.9631 - val_loss: 0.5917 - val_accuracy: 0.8302\n",
      "Epoch 6/50\n",
      "1163/1163 [==============================] - 10s 9ms/step - loss: 0.0631 - accuracy: 0.9763 - val_loss: 0.7320 - val_accuracy: 0.8359\n"
     ]
    }
   ],
   "source": [
    "num_epochs = 50\n",
    "\n",
    "s = time.time()\n",
    "\n",
    "early_stop = tf.keras.callbacks.EarlyStopping(monitor='val_loss', \n",
    "                                              patience=5)\n",
    "\n",
    "history = model.fit(train_inputs, train_labels, epochs=num_epochs,\n",
    "                           batch_size=128, validation_data=(test_inputs, test_labels),\n",
    "                           verbose=1, callbacks=[early_stop])"
   ]
  },
  {
   "cell_type": "code",
   "execution_count": 56,
   "metadata": {
    "colab": {
     "base_uri": "https://localhost:8080/"
    },
    "id": "5nrgXao69foh",
    "outputId": "b10c109b-a3b8-4adf-9da0-7643f27563b2"
   },
   "outputs": [
    {
     "name": "stdout",
     "output_type": "stream",
     "text": [
      "경과 시간: 1.07\n"
     ]
    }
   ],
   "source": [
    "print(\"경과 시간: {:.2f}\".format((time.time() - s)/60))"
   ]
  },
  {
   "cell_type": "markdown",
   "metadata": {
    "id": "i2h5QkRt9rtc"
   },
   "source": [
    "- accuracy, loss 시각화"
   ]
  },
  {
   "cell_type": "code",
   "execution_count": 59,
   "metadata": {
    "colab": {
     "base_uri": "https://localhost:8080/",
     "height": 279
    },
    "id": "xcczXSVmZG3l",
    "outputId": "44ee91ed-8018-4180-d675-093b4783b1ab"
   },
   "outputs": [
    {
     "data": {
      "image/png": "[encoded data removed]",
      "text/plain": [
       "<Figure size 864x288 with 2 Axes>"
      ]
     },
     "metadata": {
      "needs_background": "light"
     },
     "output_type": "display_data"
    }
   ],
   "source": [
    "fig, (ax1, ax2) = plt.subplots(1, 2, figsize=(12, 4))\n",
    "\n",
    "ax1.plot(history.history['accuracy'])\n",
    "ax1.plot(history.history['val_accuracy'])\n",
    "ax1.set_xlabel('Epochs')\n",
    "ax1.set_ylabel('accuracy')\n",
    "ax1.legend(['accuarcy', 'val_accuracy'])\n",
    "\n",
    "ax2.plot(history.history['loss'])\n",
    "ax2.plot(history.history['val_loss'])\n",
    "ax2.set_xlabel('Epochs')\n",
    "ax2.set_ylabel('loss')\n",
    "ax2.legend(['loss', 'val_loss'])\n",
    "plt.show()"
   ]
  },
  {
   "cell_type": "markdown",
   "metadata": {
    "id": "9Nd23ioF9v_q"
   },
   "source": [
    "### inference"
   ]
  },
  {
   "cell_type": "code",
   "execution_count": 64,
   "metadata": {
    "colab": {
     "base_uri": "https://localhost:8080/"
    },
    "id": "50BvfYqWZG3n",
    "outputId": "634c02f5-b42c-4e84-ca30-02cc59841d3e"
   },
   "outputs": [
    {
     "name": "stdout",
     "output_type": "stream",
     "text": [
      "[[0.0001716]]\n"
     ]
    },
    {
     "data": {
      "text/plain": [
       "['negative']"
      ]
     },
     "execution_count": 64,
     "metadata": {},
     "output_type": "execute_result"
    }
   ],
   "source": [
    "sample_text = '이 영화는 정말 짜증나서 못 보겠다'\n",
    "# sample_text = '이렇게 감동적인 영화는 정말 간만이다'\n",
    "# sample_text = \"재미 쩐다\"\n",
    "# sample_text = '주인공 연기는 좋았지만 전반적으로 매우 지루한 느낌의 영화'\n",
    "\n",
    "sample_seq = sp.encode_as_ids(sample_text )\n",
    "sample_padded = pad_sequences([sample_seq], \n",
    "                              maxlen=MAX_SEQUENCE_LENGTH, padding='post')\n",
    "\n",
    "y_pred = model.predict([sample_padded])\n",
    "print(y_pred)\n",
    "\n",
    "['positive' if model.predict([sample_padded]) >= 0.5 else 'negative']"
   ]
  }
 ],
 "metadata": {
  "accelerator": "GPU",
  "colab": {
   "name": "039_naver_movie_reivew_classification_sentencepiece.ipynb",
   "provenance": []
  },
  "kernelspec": {
   "display_name": "Python 3",
   "language": "python",
   "name": "python3"
  },
  "language_info": {
   "codemirror_mode": {
    "name": "ipython",
    "version": 3
   },
   "file_extension": ".py",
   "mimetype": "text/x-python",
   "name": "python",
   "nbconvert_exporter": "python",
   "pygments_lexer": "ipython3",
   "version": "3.7.10"
  }
 },
 "nbformat": 4,
 "nbformat_minor": 1
}
