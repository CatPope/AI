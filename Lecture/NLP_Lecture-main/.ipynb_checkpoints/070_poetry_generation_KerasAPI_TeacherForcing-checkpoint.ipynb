{
 "cells": [
  {
   "cell_type": "markdown",
   "metadata": {
    "id": "kB8Fqf1tXSUJ"
   },
   "source": [
    "# 070. Poetry text generation - seq2seq Transfer Learning\n",
    "\n",
    "\n",
    "- 두개의 model 로 구성  \n",
    "    - model1 : many-to-many RNN model for fine tuning\n",
    "    - model2 : many-to-many RNN model for sequence-to-sequence prediction\n",
    "    \n",
    "\n",
    "- Model 1 에서 Embedding Layer 를 훈련 시키고, 훈련시킨 Embedding 을 Model 2 에서 Text Generation 에 사용  \n",
    "\n",
    "\n",
    "- Model 1 은 Glove.6B pre-trained weight 를 초기값으로 사용하고, single LSTM 으로 fine tuning  \n",
    "\n",
    "\n",
    "- Model 2 는 Model 1 에서 train 된 Embedding + LSTM 의 이전 timestep prediction 의 hidden state 와 cell state 를 초기값으로 사용\n",
    "\n",
    "\n",
    "- Model 2 에서는 idx = np.random.choice(len(probs), p=probs) $\\rightarrow$ 사후 확률분포 (posterios probability distribution) 에 의해 next word sampling\n",
    "\n",
    "<img src=\"seq2seq.png\" width=\"600\"/>"
   ]
  },
  {
   "cell_type": "code",
   "execution_count": 10,
   "metadata": {
    "id": "ge1NGF2FXSUL"
   },
   "outputs": [],
   "source": [
    "import numpy as np\n",
    "import pandas as pd\n",
    "import matplotlib.pyplot as plt\n",
    "\n",
    "import tensorflow as tf\n",
    "from tensorflow.keras.models import Model\n",
    "from tensorflow.keras.layers import Dense, Embedding, Input, LSTM\n",
    "from tensorflow.keras.preprocessing.text import Tokenizer\n",
    "from tensorflow.keras.preprocessing.sequence import pad_sequences\n",
    "from tensorflow.keras.optimizers import Adam\n",
    "from tensorflow.keras.utils import plot_model"
   ]
  },
  {
   "cell_type": "code",
   "execution_count": 11,
   "metadata": {
    "id": "AMqVSoeqXSUP"
   },
   "outputs": [],
   "source": [
    "# some configuration\n",
    "MAX_VOCAB_SIZE = 3000\n",
    "EMBEDDING_DIM = 100\n",
    "BATCH_SIZE = 128\n",
    "LATENT_DIM = 25"
   ]
  },
  {
   "cell_type": "markdown",
   "metadata": {
    "id": "xu3bsxf1XSUT"
   },
   "source": [
    "### Teacher Forcing 을 위한 input, target data 작성\n",
    "- input data 와 target data 는 1 timestep offset 차이로 동일  \n",
    "- input 은 start token 으로 시작  \n",
    "- output 은 end token 으로 종료  \n",
    "\n",
    "\n",
    "input data : `<sos> And sorry I could not travel both`  \n",
    "target data : `And sorry I could not travel both <eos>`"
   ]
  },
  {
   "cell_type": "code",
   "execution_count": 12,
   "metadata": {
    "id": "mnEhacdgXSUU"
   },
   "outputs": [],
   "source": [
    "file_path = tf.keras.utils.get_file(\"robert_frost.txt\", \n",
    "        \"https://github.com/ironmanciti/NLP_lecture/raw/master/data/robert_frost.txt\")"
   ]
  },
  {
   "cell_type": "code",
   "execution_count": 13,
   "metadata": {
    "colab": {
     "base_uri": "https://localhost:8080/"
    },
    "id": "_oIqv9ltXSUX",
    "outputId": "363c844e-5b05-4376-f43b-e1bb89c949ec"
   },
   "outputs": [
    {
     "name": "stdout",
     "output_type": "stream",
     "text": [
      "['<sos> Two roads diverged in a yellow wood,', '<sos> And sorry I could not travel both', '<sos> And be one traveler, long I stood', '<sos> And looked down one as far as I could', '<sos> To where it bent in the undergrowth;']\n",
      "\n",
      "['Two roads diverged in a yellow wood, <eos>', 'And sorry I could not travel both <eos>', 'And be one traveler, long I stood <eos>', 'And looked down one as far as I could <eos>', 'To where it bent in the undergrowth; <eos>']\n"
     ]
    }
   ],
   "source": [
    "# load in the data\n",
    "input_texts = []\n",
    "target_texts = []\n",
    "\n",
    "f = open(file_path,\"r\", encoding='utf-8')\n",
    "\n",
    "for line in f:\n",
    "    line = line.rstrip()\n",
    "    if not line:\n",
    "        continue\n",
    "\n",
    "    input_line = '<sos> ' + line \n",
    "    target_line = line + ' <eos>'\n",
    "\n",
    "    input_texts.append(input_line)\n",
    "    target_texts.append(target_line)\n",
    "\n",
    "print(input_texts[:5])\n",
    "print()\n",
    "print(target_texts[:5])"
   ]
  },
  {
   "cell_type": "markdown",
   "metadata": {
    "id": "JqqQ2ucTXSUf"
   },
   "source": [
    "### sentences (string) 을 integer 로 변환 \n",
    "- Tokenizer 의 두가지 기능\n",
    "    - text 내의 word 들을 split 하여 index 부여 (Tokenizer.fit_on_texts)  \n",
    "    - text 를 word 의 index 로 sequence 변환 (Tokenizer.texts_to_sequences)\n",
    "    \n",
    "    \n",
    "- Tokenizer 의 filters='' 를 해주지 않으면 모든 special character 를 filtering 하므로 `<sos>, <eos>` 의 <, > 가 제거됨  \n",
    "    - 구둣점들을 filtering 해주지 않아도 최종 performance 에 큰 문제 없음"
   ]
  },
  {
   "cell_type": "code",
   "execution_count": 14,
   "metadata": {
    "colab": {
     "base_uri": "https://localhost:8080/"
    },
    "id": "DFdXDGnSXSUg",
    "outputId": "7e437e56-103c-4adc-bb4d-8a0209212ea4"
   },
   "outputs": [
    {
     "name": "stdout",
     "output_type": "stream",
     "text": [
      "Found 3056 unique tokens.\n",
      "1436 1436\n",
      "[[1, 104, 537, 538, 9, 7, 539, 540], [1, 5, 541, 6, 65, 31, 934, 141], [1, 5, 27, 24, 935, 152, 6, 221]]\n",
      "[[104, 537, 538, 9, 7, 539, 540, 2], [5, 541, 6, 65, 31, 934, 141, 2], [5, 27, 24, 935, 152, 6, 221, 2]]\n",
      "1\n",
      "2\n"
     ]
    }
   ],
   "source": [
    "tokenizer = Tokenizer(num_words=MAX_VOCAB_SIZE, filters='')\n",
    "tokenizer.fit_on_texts(input_texts + target_texts)\n",
    "\n",
    "# word index 길이 \n",
    "print('Found %s unique tokens.' % len(tokenizer.word_index))\n",
    "\n",
    "# string -> sequence 변환\n",
    "input_sequences = tokenizer.texts_to_sequences(input_texts)\n",
    "target_sequences = tokenizer.texts_to_sequences(target_texts)\n",
    "\n",
    "print(len(input_sequences), len(target_sequences))\n",
    "print(input_sequences[:3])\n",
    "print(target_sequences[:3])\n",
    "print(tokenizer.word_index.get('<sos>'))\n",
    "print(tokenizer.word_index.get('<eos>'))"
   ]
  },
  {
   "cell_type": "markdown",
   "metadata": {
    "id": "4UBYeSdVXSUl"
   },
   "source": [
    "### padding\n",
    "- 모든 input 을 동일한 length 로 padding 하기 위해 max sequence length 구함\n",
    "- 모든 input 과 target 을 동일 length 로 padding  \n",
    "\n",
    "- N x T matrix 생성 (N: sentence 갯수, T: max sequence length) "
   ]
  },
  {
   "cell_type": "code",
   "execution_count": 15,
   "metadata": {
    "colab": {
     "base_uri": "https://localhost:8080/"
    },
    "id": "q6zKSOpsXSUm",
    "outputId": "e1ce3427-ef40-4832-edb5-60f4e5d8a298"
   },
   "outputs": [
    {
     "name": "stdout",
     "output_type": "stream",
     "text": [
      "Max sequence length: 12\n"
     ]
    }
   ],
   "source": [
    "# find max seq length\n",
    "MAX_SEQ_LEN = max(len(s) for s in input_sequences)\n",
    "print('Max sequence length:', MAX_SEQ_LEN)"
   ]
  },
  {
   "cell_type": "code",
   "execution_count": 16,
   "metadata": {
    "colab": {
     "base_uri": "https://localhost:8080/"
    },
    "id": "JzLfCuLKXSUt",
    "outputId": "9a7d69c7-b072-4aba-8b78-b955092b8b8d"
   },
   "outputs": [
    {
     "name": "stdout",
     "output_type": "stream",
     "text": [
      "(1436, 12)\n",
      "(1436, 12)\n",
      "[  1 104 537 538   9   7 539 540   0   0   0   0]\n",
      "[104 537 538   9   7 539 540   2   0   0   0   0]\n"
     ]
    }
   ],
   "source": [
    "# pad sequences so that we get a N x T matrix\n",
    "input_padded = pad_sequences(input_sequences, maxlen=MAX_SEQ_LEN, padding='post')\n",
    "target_padded = pad_sequences(target_sequences, maxlen=MAX_SEQ_LEN, padding='post')\n",
    "\n",
    "print(input_padded.shape)\n",
    "print(target_padded.shape)\n",
    "print(input_padded[0])\n",
    "print(target_padded[0])"
   ]
  },
  {
   "cell_type": "markdown",
   "metadata": {
    "id": "fTKXADMqb3rD"
   },
   "source": [
    "### embeding layer 의 num_words"
   ]
  },
  {
   "cell_type": "code",
   "execution_count": 17,
   "metadata": {
    "id": "DTIR8FSCXSUv"
   },
   "outputs": [],
   "source": [
    "num_words = min(MAX_VOCAB_SIZE, len(tokenizer.word_index) + 1)"
   ]
  },
  {
   "cell_type": "markdown",
   "metadata": {
    "id": "OSHasg_jXSUx"
   },
   "source": [
    "### pretrained word embedding 값을 transfer learning\n",
    "\n",
    "- Embedding layer 의 weight 를 pre-trained model 로 초기화  \n",
    "\n",
    "\n",
    "- glove.6B 의 EMBEDDING_DIM version 사용  \n",
    "    - space 로 구분된 text file \n",
    "    - 첫번째는 word 이고 두번째 이후는 weight vector 값이다\n",
    "\n",
    "\n",
    "- word index 가 1 부터 시작하므로 0 padding 감안하여 num_words 는 len(word2idx)+1, 혹은 MAX_VOCAB_SIZE 중 작은 것 선택  \n",
    "\n",
    "\n",
    "- embedding_dict dictionary : key - word, value - embedding_vector"
   ]
  },
  {
   "cell_type": "code",
   "execution_count": 19,
   "metadata": {
    "colab": {
     "base_uri": "https://localhost:8080/",
     "height": 105
    },
    "id": "He8yq7PRxFQB",
    "outputId": "e6a45a94-5574-4ae7-974b-db946762c3f0"
   },
   "outputs": [
    {
     "name": "stderr",
     "output_type": "stream",
     "text": [
      "Downloading...\n",
      "From: https://drive.google.com/uc?id=1zR1TJm9hjqinSU0OkCcAmaVjfeTgmoOC\n",
      "To: /content/tmp/glove.6B.100d.txt\n",
      "347MB [00:03, 112MB/s]\n"
     ]
    },
    {
     "data": {
      "application/vnd.google.colaboratory.intrinsic+json": {
       "type": "string"
      },
      "text/plain": [
       "'tmp/glove.6B.100d.txt'"
      ]
     },
     "execution_count": 19,
     "metadata": {
      "tags": []
     },
     "output_type": "execute_result"
    }
   ],
   "source": [
    "import gdown\n",
    "url = 'https://drive.google.com/uc?id=1zR1TJm9hjqinSU0OkCcAmaVjfeTgmoOC'\n",
    "output = \"tmp/glove.6B.100d.txt\"\n",
    "gdown.download(url, output, quiet=False)"
   ]
  },
  {
   "cell_type": "code",
   "execution_count": 20,
   "metadata": {
    "id": "KQ7kd0e7XSU2"
   },
   "outputs": [],
   "source": [
    "def make_embedding(num_words, embedding_dim, tokenizer, max_vocab_size):\n",
    "\n",
    "    embeddings_dict = {}\n",
    "\n",
    "    with open(output, encoding=\"utf8\") as f:\n",
    "        for i, line in enumerate(f):\n",
    "            values = line.split()      # 각 줄을 읽어와서 word_vector에 저장\n",
    "            word = values[0]           # 첫번째 값은 word\n",
    "            # 두번째 element 부터 마지막까지 100 개는 해당 단어의 임베딩 벡터의 값\n",
    "            coefs = np.asarray(values[1:], dtype='float32')  \n",
    "            embeddings_dict[word] = coefs\n",
    "                \n",
    "    embedding_matrix = np.zeros((num_words, embedding_dim))    # zero 로 초기화   \n",
    "    \n",
    "    print(\"word 갯수 =\", num_words)\n",
    "    print(embedding_matrix.shape)\n",
    "\n",
    "    for word, i in tokenizer.word_index.items():\n",
    "        if i < max_vocab_size:\n",
    "            embedding_vector = embeddings_dict.get(word)\n",
    "            if embedding_vector is not None:                        # 해당 word 가 없으면 all zero 로 남겨둠\n",
    "                embedding_matrix[i] = embedding_vector\n",
    "                    \n",
    "    return embedding_matrix"
   ]
  },
  {
   "cell_type": "markdown",
   "metadata": {
    "id": "KkRkkHUhXSU5"
   },
   "source": [
    "### Embedding layer 작성\n",
    "- load pre-trained word embeddings into an Embedding layer"
   ]
  },
  {
   "cell_type": "code",
   "execution_count": 21,
   "metadata": {
    "id": "M-dgAmK0xFQC"
   },
   "outputs": [],
   "source": [
    "embedding_layer = Embedding(num_words, EMBEDDING_DIM)"
   ]
  },
  {
   "cell_type": "code",
   "execution_count": 22,
   "metadata": {
    "colab": {
     "base_uri": "https://localhost:8080/"
    },
    "id": "1DQxDmoyXSU6",
    "outputId": "34e9c654-e120-44d8-bf06-09047eeccfd6"
   },
   "outputs": [
    {
     "name": "stdout",
     "output_type": "stream",
     "text": [
      "word 갯수 = 3000\n",
      "(3000, 100)\n"
     ]
    }
   ],
   "source": [
    "embedding_matrix = make_embedding(num_words, EMBEDDING_DIM, tokenizer, MAX_VOCAB_SIZE)\n",
    "# embedding_layer = Embedding(num_words, EMBEDDING_DIM, weights=[embedding_matrix])\n",
    "embedding_layer = Embedding(num_words, EMBEDDING_DIM)"
   ]
  },
  {
   "cell_type": "code",
   "execution_count": 23,
   "metadata": {
    "colab": {
     "base_uri": "https://localhost:8080/"
    },
    "id": "VWPnrBIqXSU8",
    "outputId": "ba5786ee-9e08-4b36-f583-ad1ba45d85d6"
   },
   "outputs": [
    {
     "name": "stdout",
     "output_type": "stream",
     "text": [
      "3\n",
      "[-0.038194   -0.24487001  0.72812003 -0.39961001  0.083172    0.043953\n",
      " -0.39140999  0.3344     -0.57545     0.087459    0.28786999 -0.06731\n",
      "  0.30906001 -0.26383999 -0.13231    -0.20757     0.33395001 -0.33848\n",
      " -0.31742999 -0.48335999  0.1464     -0.37303999  0.34577     0.052041\n",
      "  0.44946    -0.46970999  0.02628    -0.54154998 -0.15518001 -0.14106999\n",
      " -0.039722    0.28277001  0.14393     0.23464    -0.31020999  0.086173\n",
      "  0.20397     0.52623999  0.17163999 -0.082378   -0.71787    -0.41531\n",
      "  0.20334999 -0.12763     0.41367     0.55186999  0.57907999 -0.33476999\n",
      " -0.36559001 -0.54856998 -0.062892    0.26583999  0.30204999  0.99774998\n",
      " -0.80480999 -3.0243001   0.01254    -0.36941999  2.21670008  0.72201002\n",
      " -0.24978     0.92136002  0.034514    0.46744999  1.10790002 -0.19358\n",
      " -0.074575    0.23353    -0.052062   -0.22044     0.057162   -0.15806\n",
      " -0.30798    -0.41624999  0.37972     0.15006    -0.53211999 -0.20550001\n",
      " -1.25259995  0.071624    0.70564997  0.49744001 -0.42063001  0.26148\n",
      " -1.53799999 -0.30223    -0.073438   -0.28312001  0.37103999 -0.25217\n",
      "  0.016215   -0.017099   -0.38984001  0.87423998 -0.72569001 -0.51058\n",
      " -0.52028    -0.1459      0.82779998  0.27061999]\n"
     ]
    }
   ],
   "source": [
    "# sanity check\n",
    "print(tokenizer.word_index[\"the\"])\n",
    "print(embedding_matrix[3])"
   ]
  },
  {
   "cell_type": "markdown",
   "metadata": {
    "id": "IXIBB5hZXSU_"
   },
   "source": [
    "## 전이학습 및 fine-tuning 을 위한 embedding +  single LSTM model 생성\n",
    "\n",
    "- return_sequence = True 일 경우 lstm 의 output 은 x, h, c \n",
    "- model 은 [input_, initial_h, initial_c] 의 3 개의 input 과, 하나의 output 을 가진다. initial_state 를 keras default 를 사용하지 않고 직접 control 하기 위해 initial_h 와 initial_c 를 추가  "
   ]
  },
  {
   "cell_type": "code",
   "execution_count": 24,
   "metadata": {
    "colab": {
     "base_uri": "https://localhost:8080/"
    },
    "id": "JodbLS4dXSU_",
    "outputId": "888c4421-e5de-404b-b12e-a044ce33fe37"
   },
   "outputs": [
    {
     "name": "stdout",
     "output_type": "stream",
     "text": [
      "Model: \"model\"\n",
      "_________________________________________________________________\n",
      "Layer (type)                 Output Shape              Param #   \n",
      "=================================================================\n",
      "input_1 (InputLayer)         [(None, 12)]              0         \n",
      "_________________________________________________________________\n",
      "embedding_1 (Embedding)      (None, 12, 100)           300000    \n",
      "_________________________________________________________________\n",
      "lstm (LSTM)                  (None, 12, 25)            12600     \n",
      "_________________________________________________________________\n",
      "dense (Dense)                (None, 12, 3000)          78000     \n",
      "=================================================================\n",
      "Total params: 390,600\n",
      "Trainable params: 390,600\n",
      "Non-trainable params: 0\n",
      "_________________________________________________________________\n"
     ]
    }
   ],
   "source": [
    "input1 = Input(shape=(MAX_SEQ_LEN,))\n",
    "x = embedding_layer(input1)\n",
    "lstm = LSTM(LATENT_DIM, return_sequences=True)\n",
    "x = lstm(x)\n",
    "\n",
    "output1 = Dense(num_words, activation='softmax')(x)\n",
    "model_1 = Model(input1, output1)\n",
    "\n",
    "model_1.compile(loss='sparse_categorical_crossentropy', \n",
    "                         optimizer=Adam(lr=0.01),\n",
    "                         metrics=['accuracy'])   # poet 생성에서는 accuracy 큰 의미 없음\n",
    "model_1.summary()"
   ]
  },
  {
   "cell_type": "code",
   "execution_count": 25,
   "metadata": {
    "colab": {
     "base_uri": "https://localhost:8080/",
     "height": 422
    },
    "id": "0yOMfkw6xFQD",
    "outputId": "af75aecc-3825-4099-b1c0-563e26129eb7"
   },
   "outputs": [
    {
     "data": {
      "image/png": "[encoded data removed]",
      "text/plain": [
       "<IPython.core.display.Image object>"
      ]
     },
     "execution_count": 25,
     "metadata": {
      "tags": []
     },
     "output_type": "execute_result"
    }
   ],
   "source": [
    "plot_model(model_1, show_shapes=True)"
   ]
  },
  {
   "cell_type": "markdown",
   "metadata": {
    "id": "LX77FzjQijtP"
   },
   "source": [
    "### Teacher Forcing 을 통한 model_1 의 embedding layer fine-tuning"
   ]
  },
  {
   "cell_type": "code",
   "execution_count": 26,
   "metadata": {
    "colab": {
     "base_uri": "https://localhost:8080/"
    },
    "id": "hcEkLQxqXSVC",
    "outputId": "46d9c00e-8a34-421b-a36a-edafc4e314f2",
    "scrolled": true
   },
   "outputs": [
    {
     "name": "stdout",
     "output_type": "stream",
     "text": [
      "Epoch 1/40\n",
      "9/9 [==============================] - 18s 90ms/step - loss: 7.7253 - accuracy: 0.2103 - val_loss: 6.4504 - val_accuracy: 0.2894\n",
      "Epoch 2/40\n",
      "9/9 [==============================] - 0s 22ms/step - loss: 5.8934 - accuracy: 0.3066 - val_loss: 5.3607 - val_accuracy: 0.2894\n",
      "Epoch 3/40\n",
      "9/9 [==============================] - 0s 21ms/step - loss: 4.9630 - accuracy: 0.2932 - val_loss: 5.4962 - val_accuracy: 0.2894\n",
      "Epoch 4/40\n",
      "9/9 [==============================] - 0s 22ms/step - loss: 5.0224 - accuracy: 0.2925 - val_loss: 5.4606 - val_accuracy: 0.2894\n",
      "Epoch 5/40\n",
      "9/9 [==============================] - 0s 22ms/step - loss: 4.8901 - accuracy: 0.2986 - val_loss: 5.5151 - val_accuracy: 0.2894\n",
      "Epoch 6/40\n",
      "9/9 [==============================] - 0s 21ms/step - loss: 4.8624 - accuracy: 0.2988 - val_loss: 5.5242 - val_accuracy: 0.2894\n",
      "Epoch 7/40\n",
      "9/9 [==============================] - 0s 21ms/step - loss: 4.8470 - accuracy: 0.3005 - val_loss: 5.5240 - val_accuracy: 0.2894\n",
      "Epoch 8/40\n",
      "9/9 [==============================] - 0s 21ms/step - loss: 4.7680 - accuracy: 0.3068 - val_loss: 5.4648 - val_accuracy: 0.2894\n",
      "Epoch 9/40\n",
      "9/9 [==============================] - 0s 20ms/step - loss: 4.7174 - accuracy: 0.3033 - val_loss: 5.4490 - val_accuracy: 0.2894\n",
      "Epoch 10/40\n",
      "9/9 [==============================] - 0s 21ms/step - loss: 4.7156 - accuracy: 0.2977 - val_loss: 5.4254 - val_accuracy: 0.2894\n",
      "Epoch 11/40\n",
      "9/9 [==============================] - 0s 21ms/step - loss: 4.6209 - accuracy: 0.2999 - val_loss: 5.3572 - val_accuracy: 0.2894\n",
      "Epoch 12/40\n",
      "9/9 [==============================] - 0s 23ms/step - loss: 4.5534 - accuracy: 0.2970 - val_loss: 5.2855 - val_accuracy: 0.2894\n",
      "Epoch 13/40\n",
      "9/9 [==============================] - 0s 21ms/step - loss: 4.4641 - accuracy: 0.3002 - val_loss: 5.2086 - val_accuracy: 0.2894\n",
      "Epoch 14/40\n",
      "9/9 [==============================] - 0s 21ms/step - loss: 4.3900 - accuracy: 0.2970 - val_loss: 5.0959 - val_accuracy: 0.2894\n",
      "Epoch 15/40\n",
      "9/9 [==============================] - 0s 22ms/step - loss: 4.2962 - accuracy: 0.2970 - val_loss: 5.0026 - val_accuracy: 0.2894\n",
      "Epoch 16/40\n",
      "9/9 [==============================] - 0s 22ms/step - loss: 4.2327 - accuracy: 0.2934 - val_loss: 4.9616 - val_accuracy: 0.2894\n",
      "Epoch 17/40\n",
      "9/9 [==============================] - 0s 21ms/step - loss: 4.1733 - accuracy: 0.2948 - val_loss: 4.9345 - val_accuracy: 0.2899\n",
      "Epoch 18/40\n",
      "9/9 [==============================] - 0s 22ms/step - loss: 4.0814 - accuracy: 0.3068 - val_loss: 4.9315 - val_accuracy: 0.2969\n",
      "Epoch 19/40\n",
      "9/9 [==============================] - 0s 20ms/step - loss: 4.0658 - accuracy: 0.3111 - val_loss: 4.9317 - val_accuracy: 0.2998\n",
      "Epoch 20/40\n",
      "9/9 [==============================] - 0s 21ms/step - loss: 3.9653 - accuracy: 0.3226 - val_loss: 4.9355 - val_accuracy: 0.3027\n",
      "Epoch 21/40\n",
      "9/9 [==============================] - 0s 21ms/step - loss: 3.9464 - accuracy: 0.3261 - val_loss: 4.9311 - val_accuracy: 0.3061\n",
      "Epoch 22/40\n",
      "9/9 [==============================] - 0s 21ms/step - loss: 3.9161 - accuracy: 0.3267 - val_loss: 4.9202 - val_accuracy: 0.3116\n",
      "Epoch 23/40\n",
      "9/9 [==============================] - 0s 21ms/step - loss: 3.8968 - accuracy: 0.3318 - val_loss: 4.9159 - val_accuracy: 0.3139\n",
      "Epoch 24/40\n",
      "9/9 [==============================] - 0s 22ms/step - loss: 3.8531 - accuracy: 0.3367 - val_loss: 4.9157 - val_accuracy: 0.3157\n",
      "Epoch 25/40\n",
      "9/9 [==============================] - 0s 21ms/step - loss: 3.7957 - accuracy: 0.3462 - val_loss: 4.9026 - val_accuracy: 0.3209\n",
      "Epoch 26/40\n",
      "9/9 [==============================] - 0s 21ms/step - loss: 3.7424 - accuracy: 0.3869 - val_loss: 4.9042 - val_accuracy: 0.3249\n",
      "Epoch 27/40\n",
      "9/9 [==============================] - 0s 21ms/step - loss: 3.7040 - accuracy: 0.4016 - val_loss: 4.8911 - val_accuracy: 0.3290\n",
      "Epoch 28/40\n",
      "9/9 [==============================] - 0s 22ms/step - loss: 3.6048 - accuracy: 0.4187 - val_loss: 4.8985 - val_accuracy: 0.3310\n",
      "Epoch 29/40\n",
      "9/9 [==============================] - 0s 21ms/step - loss: 3.5984 - accuracy: 0.4181 - val_loss: 4.9008 - val_accuracy: 0.3322\n",
      "Epoch 30/40\n",
      "9/9 [==============================] - 0s 21ms/step - loss: 3.5671 - accuracy: 0.4188 - val_loss: 4.9056 - val_accuracy: 0.3342\n",
      "Epoch 31/40\n",
      "9/9 [==============================] - 0s 21ms/step - loss: 3.5009 - accuracy: 0.4242 - val_loss: 4.9162 - val_accuracy: 0.3348\n",
      "Epoch 32/40\n",
      "9/9 [==============================] - 0s 21ms/step - loss: 3.5073 - accuracy: 0.4194 - val_loss: 4.9152 - val_accuracy: 0.3383\n",
      "Epoch 33/40\n",
      "9/9 [==============================] - 0s 20ms/step - loss: 3.4356 - accuracy: 0.4289 - val_loss: 4.9257 - val_accuracy: 0.3417\n",
      "Epoch 34/40\n",
      "9/9 [==============================] - 0s 21ms/step - loss: 3.3945 - accuracy: 0.4333 - val_loss: 4.9305 - val_accuracy: 0.3481\n",
      "Epoch 35/40\n",
      "9/9 [==============================] - 0s 22ms/step - loss: 3.3240 - accuracy: 0.4458 - val_loss: 4.9382 - val_accuracy: 0.3533\n",
      "Epoch 36/40\n",
      "9/9 [==============================] - 0s 22ms/step - loss: 3.3122 - accuracy: 0.4455 - val_loss: 4.9498 - val_accuracy: 0.3585\n",
      "Epoch 37/40\n",
      "9/9 [==============================] - 0s 20ms/step - loss: 3.2860 - accuracy: 0.4435 - val_loss: 4.9550 - val_accuracy: 0.3594\n",
      "Epoch 38/40\n",
      "9/9 [==============================] - 0s 21ms/step - loss: 3.2247 - accuracy: 0.4550 - val_loss: 4.9663 - val_accuracy: 0.3643\n",
      "Epoch 39/40\n",
      "9/9 [==============================] - 0s 21ms/step - loss: 3.2125 - accuracy: 0.4509 - val_loss: 4.9775 - val_accuracy: 0.3678\n",
      "Epoch 40/40\n",
      "9/9 [==============================] - 0s 22ms/step - loss: 3.1540 - accuracy: 0.4610 - val_loss: 4.9825 - val_accuracy: 0.3678\n"
     ]
    }
   ],
   "source": [
    "history = model_1.fit(input_padded, target_padded, batch_size=BATCH_SIZE, \n",
    "                            epochs=40, validation_split=0.2)"
   ]
  },
  {
   "cell_type": "code",
   "execution_count": 27,
   "metadata": {
    "colab": {
     "base_uri": "https://localhost:8080/",
     "height": 265
    },
    "id": "pCtwq8B7XSVH",
    "outputId": "b0639630-e22a-44c3-a3a4-372039a2009a"
   },
   "outputs": [
    {
     "data": {
      "image/png": "[encoded data removed]",
      "text/plain": [
       "<Figure size 864x288 with 2 Axes>"
      ]
     },
     "metadata": {
      "needs_background": "light",
      "tags": []
     },
     "output_type": "display_data"
    }
   ],
   "source": [
    "# plot some data\n",
    "fig, (ax1, ax2) = plt.subplots(1, 2, figsize=(12, 4))\n",
    "ax1.plot(history.history['loss'], label='loss')\n",
    "ax1.plot(history.history['val_loss'], label='val_loss')\n",
    "ax1.legend()\n",
    "\n",
    "# accuracies\n",
    "ax2.plot(history.history['accuracy'], label='acc')\n",
    "ax2.plot(history.history['val_accuracy'], label='val_acc')\n",
    "ax2.legend()\n",
    "plt.show()"
   ]
  },
  {
   "cell_type": "markdown",
   "metadata": {
    "id": "O1QmgfedXSVL"
   },
   "source": [
    "### Poetry 생성 Language Model\n",
    "\n",
    "- input size = 1 : 이전 step 에서 생성한 단어를 입력으로 사용\n",
    "- model1 에서 fine-tuning 한 embedding layer 를 embedding layer 로 이용"
   ]
  },
  {
   "cell_type": "code",
   "execution_count": 28,
   "metadata": {
    "colab": {
     "base_uri": "https://localhost:8080/"
    },
    "id": "egeS_wgJXSVL",
    "outputId": "95e11e86-acf1-425b-fae6-9769eee99af2"
   },
   "outputs": [
    {
     "name": "stdout",
     "output_type": "stream",
     "text": [
      "Model: \"model_1\"\n",
      "__________________________________________________________________________________________________\n",
      "Layer (type)                    Output Shape         Param #     Connected to                     \n",
      "==================================================================================================\n",
      "input_2 (InputLayer)            [(None, 1)]          0                                            \n",
      "__________________________________________________________________________________________________\n",
      "embedding_1 (Embedding)         multiple             300000      input_2[0][0]                    \n",
      "__________________________________________________________________________________________________\n",
      "input_3 (InputLayer)            [(None, 25)]         0                                            \n",
      "__________________________________________________________________________________________________\n",
      "input_4 (InputLayer)            [(None, 25)]         0                                            \n",
      "__________________________________________________________________________________________________\n",
      "lstm_1 (LSTM)                   [(None, 1, 25), (Non 12600       embedding_1[1][0]                \n",
      "                                                                 input_3[0][0]                    \n",
      "                                                                 input_4[0][0]                    \n",
      "__________________________________________________________________________________________________\n",
      "dense_1 (Dense)                 (None, 1, 3000)      78000       lstm_1[0][0]                     \n",
      "==================================================================================================\n",
      "Total params: 390,600\n",
      "Trainable params: 390,600\n",
      "Non-trainable params: 0\n",
      "__________________________________________________________________________________________________\n"
     ]
    }
   ],
   "source": [
    "input2 = Input(shape=(1,))  # 한번에 한 단어만 입력할 것임\n",
    "x = embedding_layer(input2)\n",
    "initial_h = Input(shape=(LATENT_DIM,))\n",
    "initial_c = Input(shape=(LATENT_DIM,))\n",
    "\n",
    "lstm = LSTM(LATENT_DIM, return_sequences=True, return_state=True)\n",
    "x, h, c = lstm(x, initial_state=[initial_h, initial_c])\n",
    "\n",
    "output2 = Dense(num_words, activation='softmax')(x)\n",
    "\n",
    "model_2 = Model([input2, initial_h, initial_c], [output2, h, c])\n",
    "model_2.summary()"
   ]
  },
  {
   "cell_type": "code",
   "execution_count": 29,
   "metadata": {
    "colab": {
     "base_uri": "https://localhost:8080/",
     "height": 403
    },
    "id": "GTpRI2IjxFQF",
    "outputId": "0f112383-fb90-41df-b4a3-918154306091"
   },
   "outputs": [
    {
     "data": {
      "image/png": "[encoded data removed]",
      "text/plain": [
       "<IPython.core.display.Image object>"
      ]
     },
     "execution_count": 29,
     "metadata": {
      "tags": []
     },
     "output_type": "execute_result"
    }
   ],
   "source": [
    "plot_model(model_2, show_shapes=True)"
   ]
  },
  {
   "cell_type": "code",
   "execution_count": 32,
   "metadata": {
    "colab": {
     "base_uri": "https://localhost:8080/"
    },
    "id": "MY7oi5nfXSVT",
    "outputId": "9d76d978-4a1e-45f8-a527-dd09f40e07d4"
   },
   "outputs": [
    {
     "data": {
      "text/plain": [
       "array([[1]])"
      ]
     },
     "execution_count": 32,
     "metadata": {
      "tags": []
     },
     "output_type": "execute_result"
    }
   ],
   "source": [
    "np.array([[tokenizer.word_index['<sos>']]])  # batch size 1, input shape (1,)"
   ]
  },
  {
   "cell_type": "markdown",
   "metadata": {
    "id": "NdY_bebJXSVV"
   },
   "source": [
    "### Poem 생성\n",
    "\n",
    "- o, h, c 의 shape (1, 1, 3000) (1, 25) (1, 25)  \n"
   ]
  },
  {
   "cell_type": "code",
   "execution_count": 33,
   "metadata": {
    "colab": {
     "base_uri": "https://localhost:8080/"
    },
    "id": "bf1VyhiEXSVW",
    "outputId": "e28baec8-90ec-41ed-b9a2-f9da956e14cb"
   },
   "outputs": [
    {
     "name": "stdout",
     "output_type": "stream",
     "text": [
      "thing housework, gnaw ought coming briskly curving old hill, witch: nature's mien.\n",
      "robinsons. may, narrow shrill dread in together. who ain't worse.' either. seal\n",
      "misting; arm, playhouse attic, settlement? 'oh, should, north man, stopped round, case.\n",
      "comes not colonial due weeds he's coat any copy- stock; isn't. softly\n",
      "---generate another? [Y/n]---y\n",
      "cliff hiss adventurously.' weakly break beast's oracle.' something! worse. about angelic outspread\n",
      "book weather, wrong downstairs. bells reckon almost me, nature? blew ourselves too,\n",
      "indian 'aren't flight, saying bade shelf's upstairs everyone law breeder,\" acquainted cry\n",
      "landing, each knob well, ride. say- attic. covers, place, village, might lifted\n",
      "---generate another? [Y/n]---n\n"
     ]
    }
   ],
   "source": [
    "# generate one line of poem\n",
    "\n",
    "def sample_line():\n",
    "    # initial inputs\n",
    "    # 첫 word 는 <sos> token\n",
    "    np_input = np.array([[tokenizer.word_index['<sos>']]])     \n",
    "    h = np.zeros((1, LATENT_DIM))                # Language Model 이므로 초기값 0\n",
    "    c = np.zeros((1, LATENT_DIM))\n",
    "\n",
    "    # end token\n",
    "    eos = tokenizer.word_index['<eos>']\n",
    "\n",
    "    # store the output here\n",
    "    output_sentence = []\n",
    "\n",
    "    for _ in range(MAX_SEQ_LEN):\n",
    "        o, h, c = model_2.predict([np_input, h, c])    # o: list of word probabilities\n",
    "        \n",
    "        probs = o[0,0]\n",
    "        \n",
    "        # 첫번째 word index 는 padding 으로 사용된 0 이므로 선택되지 않도록 확률을 0 으로 setting 함\n",
    "        probs[0] = 0     \n",
    "        \n",
    "        # next word sampling\n",
    "        probs /= probs.sum()        # 0 을 제외한 나머지 index 의 확률을 re-nromalize\n",
    "        idx = np.random.choice(len(probs), p=probs)  # 사후 확률 분포에 의해 next word 선택\n",
    "        if idx == eos:\n",
    "            break\n",
    "\n",
    "        # accumulate output\n",
    "        output_sentence.append(tokenizer.index_word.get(idx, f'<OOV {idx}>'))\n",
    "\n",
    "        # make the next input into model\n",
    "        np_input[0,0] = idx\n",
    "\n",
    "    return ' '.join(output_sentence)\n",
    "\n",
    "# generate a 4 line poem\n",
    "while True:\n",
    "    for _ in range(4):\n",
    "        print(sample_line())\n",
    "\n",
    "    ans = input(\"---generate another? [Y/n]---\")\n",
    "    if ans and ans[0].lower().startswith('n'):\n",
    "        break"
   ]
  },
  {
   "cell_type": "code",
   "execution_count": null,
   "metadata": {
    "id": "9l4Q1pbOxFQG"
   },
   "outputs": [],
   "source": []
  }
 ],
 "metadata": {
  "accelerator": "GPU",
  "colab": {
   "collapsed_sections": [],
   "name": "070_poetry_generation_KerasAPI_TeacherForcing.ipynb",
   "provenance": []
  },
  "kernelspec": {
   "display_name": "Python 3",
   "language": "python",
   "name": "python3"
  },
  "language_info": {
   "codemirror_mode": {
    "name": "ipython",
    "version": 3
   },
   "file_extension": ".py",
   "mimetype": "text/x-python",
   "name": "python",
   "nbconvert_exporter": "python",
   "pygments_lexer": "ipython3",
   "version": "3.7.10"
  }
 },
 "nbformat": 4,
 "nbformat_minor": 1
}
