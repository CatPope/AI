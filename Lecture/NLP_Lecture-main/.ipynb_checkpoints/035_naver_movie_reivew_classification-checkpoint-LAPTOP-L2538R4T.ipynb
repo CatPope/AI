{
 "cells": [
  {
   "cell_type": "markdown",
   "metadata": {
    "colab_type": "text",
    "id": "Q8keQOCGZG2p"
   },
   "source": [
    "# 035. 네이버 영화평 감성 분류\n",
    "\n",
    "- 한글 형태소 분석기 Okt 사용 전처리  \n",
    "\n",
    "- Keras Tokenizer, pad_sequences 함수 사용"
   ]
  },
  {
   "cell_type": "code",
   "execution_count": null,
   "metadata": {
    "colab": {
     "base_uri": "https://localhost:8080/",
     "height": 611
    },
    "colab_type": "code",
    "id": "thLM4zKvZuKd",
    "outputId": "e8f79fbd-290c-44ab-fdba-d99dd2b3067b"
   },
   "outputs": [],
   "source": [
    "#!pip install KoNLPy"
   ]
  },
  {
   "cell_type": "code",
   "execution_count": 1,
   "metadata": {
    "colab": {},
    "colab_type": "code",
    "id": "shkZRINiZG2q"
   },
   "outputs": [],
   "source": [
    "import numpy as np\n",
    "import pandas as pd\n",
    "import re\n",
    "import time\n",
    "import matplotlib.pyplot as plt\n",
    "\n",
    "from konlpy.tag import Okt\n",
    "import tensorflow as tf\n",
    "from tensorflow.keras.preprocessing.text import Tokenizer\n",
    "from tensorflow.keras.preprocessing.sequence import pad_sequences\n",
    "\n",
    "from tensorflow.keras.models import Sequential\n",
    "from tensorflow.keras.layers import Embedding, Bidirectional, Dense, LSTM"
   ]
  },
  {
   "cell_type": "code",
   "execution_count": 2,
   "metadata": {
    "colab": {
     "base_uri": "https://localhost:8080/",
     "height": 89
    },
    "colab_type": "code",
    "id": "PBIaLV_xZG2u",
    "outputId": "9ecda9e7-41a1-44b7-b2c3-2e52ef96af49"
   },
   "outputs": [],
   "source": [
    "DATA_TRAIN_PATH = tf.keras.utils.get_file(\"ratings_train.txt\", \n",
    "                        \"https://github.com/ironmanciti/NLP_lecture/raw/master/data/naver_movie/ratings_train.txt\")\n",
    "DATA_TEST_PATH = tf.keras.utils.get_file(\"ratings_test.txt\", \n",
    "                        \"https://github.com/ironmanciti/NLP_lecture/raw/master/data/naver_movie/ratings_test.txt\")"
   ]
  },
  {
   "cell_type": "code",
   "execution_count": 3,
   "metadata": {
    "colab": {
     "base_uri": "https://localhost:8080/",
     "height": 198
    },
    "colab_type": "code",
    "id": "O2411HrHZG2y",
    "outputId": "d1e888eb-ba00-4d0c-c69d-8827ceeed18f"
   },
   "outputs": [
    {
     "name": "stdout",
     "output_type": "stream",
     "text": [
      "(150000, 3)\n"
     ]
    },
    {
     "data": {
      "text/html": [
       "<div>\n",
       "<style scoped>\n",
       "    .dataframe tbody tr th:only-of-type {\n",
       "        vertical-align: middle;\n",
       "    }\n",
       "\n",
       "    .dataframe tbody tr th {\n",
       "        vertical-align: top;\n",
       "    }\n",
       "\n",
       "    .dataframe thead th {\n",
       "        text-align: right;\n",
       "    }\n",
       "</style>\n",
       "<table border=\"1\" class=\"dataframe\">\n",
       "  <thead>\n",
       "    <tr style=\"text-align: right;\">\n",
       "      <th></th>\n",
       "      <th>id</th>\n",
       "      <th>document</th>\n",
       "      <th>label</th>\n",
       "    </tr>\n",
       "  </thead>\n",
       "  <tbody>\n",
       "    <tr>\n",
       "      <th>0</th>\n",
       "      <td>9976970</td>\n",
       "      <td>아 더빙.. 진짜 짜증나네요 목소리</td>\n",
       "      <td>0</td>\n",
       "    </tr>\n",
       "    <tr>\n",
       "      <th>1</th>\n",
       "      <td>3819312</td>\n",
       "      <td>흠...포스터보고 초딩영화줄....오버연기조차 가볍지 않구나</td>\n",
       "      <td>1</td>\n",
       "    </tr>\n",
       "    <tr>\n",
       "      <th>2</th>\n",
       "      <td>10265843</td>\n",
       "      <td>너무재밓었다그래서보는것을추천한다</td>\n",
       "      <td>0</td>\n",
       "    </tr>\n",
       "    <tr>\n",
       "      <th>3</th>\n",
       "      <td>9045019</td>\n",
       "      <td>교도소 이야기구먼 ..솔직히 재미는 없다..평점 조정</td>\n",
       "      <td>0</td>\n",
       "    </tr>\n",
       "    <tr>\n",
       "      <th>4</th>\n",
       "      <td>6483659</td>\n",
       "      <td>사이몬페그의 익살스런 연기가 돋보였던 영화!스파이더맨에서 늙어보이기만 했던 커스틴 ...</td>\n",
       "      <td>1</td>\n",
       "    </tr>\n",
       "  </tbody>\n",
       "</table>\n",
       "</div>"
      ],
      "text/plain": [
       "         id                                           document  label\n",
       "0   9976970                                아 더빙.. 진짜 짜증나네요 목소리      0\n",
       "1   3819312                  흠...포스터보고 초딩영화줄....오버연기조차 가볍지 않구나      1\n",
       "2  10265843                                  너무재밓었다그래서보는것을추천한다      0\n",
       "3   9045019                      교도소 이야기구먼 ..솔직히 재미는 없다..평점 조정      0\n",
       "4   6483659  사이몬페그의 익살스런 연기가 돋보였던 영화!스파이더맨에서 늙어보이기만 했던 커스틴 ...      1"
      ]
     },
     "execution_count": 3,
     "metadata": {},
     "output_type": "execute_result"
    }
   ],
   "source": [
    "train_data = pd.read_csv(DATA_TRAIN_PATH, delimiter='\\t')\n",
    "print(train_data.shape)\n",
    "train_data.head()"
   ]
  },
  {
   "cell_type": "code",
   "execution_count": 4,
   "metadata": {},
   "outputs": [
    {
     "name": "stdout",
     "output_type": "stream",
     "text": [
      "(50000, 3)\n"
     ]
    },
    {
     "data": {
      "text/html": [
       "<div>\n",
       "<style scoped>\n",
       "    .dataframe tbody tr th:only-of-type {\n",
       "        vertical-align: middle;\n",
       "    }\n",
       "\n",
       "    .dataframe tbody tr th {\n",
       "        vertical-align: top;\n",
       "    }\n",
       "\n",
       "    .dataframe thead th {\n",
       "        text-align: right;\n",
       "    }\n",
       "</style>\n",
       "<table border=\"1\" class=\"dataframe\">\n",
       "  <thead>\n",
       "    <tr style=\"text-align: right;\">\n",
       "      <th></th>\n",
       "      <th>id</th>\n",
       "      <th>document</th>\n",
       "      <th>label</th>\n",
       "    </tr>\n",
       "  </thead>\n",
       "  <tbody>\n",
       "    <tr>\n",
       "      <th>0</th>\n",
       "      <td>6270596</td>\n",
       "      <td>굳 ㅋ</td>\n",
       "      <td>1</td>\n",
       "    </tr>\n",
       "    <tr>\n",
       "      <th>1</th>\n",
       "      <td>9274899</td>\n",
       "      <td>GDNTOPCLASSINTHECLUB</td>\n",
       "      <td>0</td>\n",
       "    </tr>\n",
       "    <tr>\n",
       "      <th>2</th>\n",
       "      <td>8544678</td>\n",
       "      <td>뭐야 이 평점들은.... 나쁘진 않지만 10점 짜리는 더더욱 아니잖아</td>\n",
       "      <td>0</td>\n",
       "    </tr>\n",
       "    <tr>\n",
       "      <th>3</th>\n",
       "      <td>6825595</td>\n",
       "      <td>지루하지는 않은데 완전 막장임... 돈주고 보기에는....</td>\n",
       "      <td>0</td>\n",
       "    </tr>\n",
       "    <tr>\n",
       "      <th>4</th>\n",
       "      <td>6723715</td>\n",
       "      <td>3D만 아니었어도 별 다섯 개 줬을텐데.. 왜 3D로 나와서 제 심기를 불편하게 하죠??</td>\n",
       "      <td>0</td>\n",
       "    </tr>\n",
       "  </tbody>\n",
       "</table>\n",
       "</div>"
      ],
      "text/plain": [
       "        id                                           document  label\n",
       "0  6270596                                                굳 ㅋ      1\n",
       "1  9274899                               GDNTOPCLASSINTHECLUB      0\n",
       "2  8544678             뭐야 이 평점들은.... 나쁘진 않지만 10점 짜리는 더더욱 아니잖아      0\n",
       "3  6825595                   지루하지는 않은데 완전 막장임... 돈주고 보기에는....      0\n",
       "4  6723715  3D만 아니었어도 별 다섯 개 줬을텐데.. 왜 3D로 나와서 제 심기를 불편하게 하죠??      0"
      ]
     },
     "execution_count": 4,
     "metadata": {},
     "output_type": "execute_result"
    }
   ],
   "source": [
    "test_data = pd.read_csv(DATA_TEST_PATH, delimiter='\\t')\n",
    "print(test_data.shape)\n",
    "test_data.head()"
   ]
  },
  {
   "cell_type": "markdown",
   "metadata": {},
   "source": [
    "### 훈련 시간을 감안하여 data size 축소"
   ]
  },
  {
   "cell_type": "code",
   "execution_count": 5,
   "metadata": {},
   "outputs": [
    {
     "name": "stdout",
     "output_type": "stream",
     "text": [
      "(50000, 3)\n",
      "(5000, 3)\n"
     ]
    }
   ],
   "source": [
    "train_data = train_data.sample(n=50000, random_state=1)\n",
    "test_data = test_data.sample(n=5000, random_state=1)\n",
    "\n",
    "print(train_data.shape)\n",
    "print(test_data.shape)"
   ]
  },
  {
   "cell_type": "markdown",
   "metadata": {
    "colab_type": "text",
    "id": "k9Unf2JKZG21"
   },
   "source": [
    "**null value 제거**"
   ]
  },
  {
   "cell_type": "code",
   "execution_count": 6,
   "metadata": {
    "colab": {
     "base_uri": "https://localhost:8080/",
     "height": 196
    },
    "colab_type": "code",
    "id": "BqHf2tAcZG22",
    "outputId": "4b7c11bc-2183-426f-cac4-ddab6c450d8d"
   },
   "outputs": [
    {
     "name": "stdout",
     "output_type": "stream",
     "text": [
      "<class 'pandas.core.frame.DataFrame'>\n",
      "Int64Index: 50000 entries, 58397 to 71565\n",
      "Data columns (total 3 columns):\n",
      " #   Column    Non-Null Count  Dtype \n",
      "---  ------    --------------  ----- \n",
      " 0   id        50000 non-null  int64 \n",
      " 1   document  49997 non-null  object\n",
      " 2   label     50000 non-null  int64 \n",
      "dtypes: int64(2), object(1)\n",
      "memory usage: 1.5+ MB\n"
     ]
    }
   ],
   "source": [
    "train_data.info()"
   ]
  },
  {
   "cell_type": "code",
   "execution_count": 7,
   "metadata": {
    "colab": {},
    "colab_type": "code",
    "id": "tfaIt9P_ZG25"
   },
   "outputs": [],
   "source": [
    "train_data.dropna(inplace=True)"
   ]
  },
  {
   "cell_type": "code",
   "execution_count": 8,
   "metadata": {
    "colab": {},
    "colab_type": "code",
    "id": "nZPllOWSZG2_"
   },
   "outputs": [],
   "source": [
    "test_data.dropna(inplace=True)"
   ]
  },
  {
   "cell_type": "code",
   "execution_count": 9,
   "metadata": {
    "colab": {
     "base_uri": "https://localhost:8080/",
     "height": 35
    },
    "colab_type": "code",
    "id": "zGv5Em8zZG3E",
    "outputId": "40367c49-423c-4644-867c-a7652fd1cf5c"
   },
   "outputs": [
    {
     "data": {
      "text/plain": [
       "['아버지', '가방', '에', '들어가신다']"
      ]
     },
     "execution_count": 9,
     "metadata": {},
     "output_type": "execute_result"
    }
   ],
   "source": [
    "okt = Okt()\n",
    "test = \"아버지가방에들어가신다\"\n",
    "okt.morphs(test)"
   ]
  },
  {
   "cell_type": "markdown",
   "metadata": {
    "colab_type": "text",
    "id": "Y-3baFyeZG3H"
   },
   "source": [
    "## Text Data 전처리\n",
    "\n",
    "**한글 문자가 아닌 것 모두 제거**"
   ]
  },
  {
   "cell_type": "code",
   "execution_count": 20,
   "metadata": {
    "colab": {},
    "colab_type": "code",
    "id": "HpwrCqOGZG3H"
   },
   "outputs": [],
   "source": [
    "def preprocessing(sentence, remove_stopwords=True):\n",
    "    # 불용어 제거\n",
    "    #stop_words = set(['에', '은', '는', '이', '가', '그리고', '것', '들', '수', '등', '로', '을', '를', '만', '도', '아', '의', '그', '다'])\n",
    "    stop_words = []\n",
    "    \n",
    "    sentence = re.sub('\\\\\\\\n', ' ', sentence)              # 개행문자 제거\n",
    "    sentence = re.sub(r'[^가-힣ㄱ-ㅎㅏ-ㅣ\\s]', \"\", sentence)  #한글외에 모두 제거\n",
    "    sentence = okt.morphs(sentence, stem=True)\n",
    "    if remove_stopwords:\n",
    "        sentence = [token for token in sentence if not token in stop_words]\n",
    "    return sentence"
   ]
  },
  {
   "cell_type": "code",
   "execution_count": 21,
   "metadata": {
    "colab": {
     "base_uri": "https://localhost:8080/",
     "height": 393
    },
    "colab_type": "code",
    "id": "Qcc0WVspZG3K",
    "outputId": "53117ae9-2ef1-4b0a-b9dc-6cc36f6e0ea1"
   },
   "outputs": [
    {
     "name": "stdout",
     "output_type": "stream",
     "text": [
      "processed = 0\n",
      "processed = 10000\n",
      "processed = 20000\n",
      "processed = 30000\n",
      "processed = 40000\n",
      "processed = 0\n",
      "124.6001398563385\n",
      "Wall time: 2min 4s\n"
     ]
    }
   ],
   "source": [
    "%%time\n",
    "\n",
    "clean_train = []\n",
    "train_labels = []\n",
    "clean_test = []\n",
    "test_labels = []\n",
    "\n",
    "start = time.time()\n",
    "\n",
    "for i, (sent, label) in enumerate(zip(train_data['document'], train_data['label'])):\n",
    "    if i % 10000 == 0:\n",
    "        print(f\"processed = {i}\")\n",
    "    sent = preprocessing(sent)\n",
    "    if len(sent) > 0:\n",
    "        clean_train.append(sent)\n",
    "        train_labels.append(label)\n",
    "\n",
    "for i, (sent, label) in enumerate(zip(test_data['document'], test_data['label'])):\n",
    "    if i % 10000 == 0:\n",
    "        print(f\"processed = {i}\")\n",
    "    sent = preprocessing(sent)\n",
    "    if len(sent) > 0:\n",
    "        clean_test.append(sent)\n",
    "        test_labels.append(label)\n",
    "    \n",
    "print(time.time() - start)"
   ]
  },
  {
   "cell_type": "code",
   "execution_count": 23,
   "metadata": {
    "colab": {
     "base_uri": "https://localhost:8080/",
     "height": 89
    },
    "colab_type": "code",
    "id": "FzVDFMlyZG3M",
    "outputId": "8f18149b-5a62-4387-aec6-84047ee621e3"
   },
   "outputs": [
    {
     "name": "stdout",
     "output_type": "stream",
     "text": [
      "49571\n",
      "49571\n",
      "4951\n",
      "4951\n"
     ]
    }
   ],
   "source": [
    "print(len(clean_train))\n",
    "print(len(train_labels))\n",
    "print(len(clean_test))\n",
    "print(len(test_labels))"
   ]
  },
  {
   "cell_type": "code",
   "execution_count": 24,
   "metadata": {
    "colab": {},
    "colab_type": "code",
    "id": "GNXrKsQVZG3Q"
   },
   "outputs": [],
   "source": [
    "VOCAB_SIZE = 20000\n",
    "\n",
    "tokenizer = Tokenizer(num_words=VOCAB_SIZE, oov_token=\"<OOV>\")\n",
    "tokenizer.fit_on_texts(clean_train)\n",
    "\n",
    "train_sequences = tokenizer.texts_to_sequences(clean_train)\n",
    "test_sequences = tokenizer.texts_to_sequences(clean_test)"
   ]
  },
  {
   "cell_type": "code",
   "execution_count": 25,
   "metadata": {
    "colab": {
     "base_uri": "https://localhost:8080/",
     "height": 91
    },
    "colab_type": "code",
    "id": "4Ojq-MT9ZG3V",
    "outputId": "9c2fec5e-7ae0-4912-a737-5165463a8825"
   },
   "outputs": [
    {
     "name": "stdout",
     "output_type": "stream",
     "text": [
      "[[90, 1370, 13, 1554, 80, 520, 8870, 14637, 29, 250, 5, 3884, 16, 430, 62, 210, 30, 1612, 14, 744, 22, 229, 6, 1123, 13, 31, 43, 12, 149, 2547, 5, 741, 12, 1554, 14638, 6007, 8871, 8872, 8, 31], [50, 4, 86, 21, 79, 466, 2263, 10, 57, 264], [629, 36, 10866, 53, 37, 165, 264, 9, 447, 385, 3, 349, 26, 7, 1842, 2, 765], [1283, 3, 479, 431, 163, 490, 77, 578, 13, 18, 3, 16], [458, 3885, 8, 2142, 63, 80, 35, 58, 446, 3, 10, 268, 9, 98, 4]]\n",
      "\n",
      "[[1683, 7, 460, 1491, 106, 346, 37, 2485, 344, 760, 206, 650, 96, 270], [148, 4, 23, 111, 182, 13, 40, 2, 887, 84, 70], [107, 993, 3491, 102, 552, 654, 3, 505, 684, 596, 478], [101, 4, 3, 8, 31], [349, 26, 7, 480, 22, 378, 179, 731, 271, 607, 163, 238]]\n"
     ]
    }
   ],
   "source": [
    "print(train_sequences[:5])\n",
    "print()\n",
    "print(test_sequences[:5])"
   ]
  },
  {
   "cell_type": "code",
   "execution_count": 26,
   "metadata": {
    "colab": {
     "base_uri": "https://localhost:8080/",
     "height": 301
    },
    "colab_type": "code",
    "id": "PgeXyNmfdYO9",
    "outputId": "8100e3c6-a01a-49bd-f1c6-113c6e829d87"
   },
   "outputs": [
    {
     "name": "stdout",
     "output_type": "stream",
     "text": [
      "sample max length : 78\n",
      "sample mean length: 13\n"
     ]
    },
    {
     "data": {
      "image/png": "[encoded data removed]",
      "text/plain": [
       "<Figure size 432x288 with 1 Axes>"
      ]
     },
     "metadata": {
      "needs_background": "light"
     },
     "output_type": "display_data"
    }
   ],
   "source": [
    "print('sample max length : {}'.format(max(len(s) for s in clean_train)))\n",
    "print('sample mean length: {:.0f}'.format(np.mean([len(s) for s in clean_train])))\n",
    "\n",
    "plt.hist([len(s) for s in clean_train]);"
   ]
  },
  {
   "cell_type": "code",
   "execution_count": 27,
   "metadata": {
    "colab": {},
    "colab_type": "code",
    "id": "eMm_-YoLZG3X"
   },
   "outputs": [],
   "source": [
    "MAX_SEQUENCE_LENGTH = 15"
   ]
  },
  {
   "cell_type": "code",
   "execution_count": 28,
   "metadata": {
    "colab": {
     "base_uri": "https://localhost:8080/",
     "height": 35
    },
    "colab_type": "code",
    "id": "owqiPD1uZG3Z",
    "outputId": "1b8ecb70-4690-42c9-dc15-12a033b0b47c"
   },
   "outputs": [
    {
     "data": {
      "text/plain": [
       "(49571, 49571, 4951, 4951)"
      ]
     },
     "execution_count": 28,
     "metadata": {},
     "output_type": "execute_result"
    }
   ],
   "source": [
    "train_inputs = pad_sequences(train_sequences, \n",
    "                                             maxlen=MAX_SEQUENCE_LENGTH,\n",
    "                                             padding='post', truncating='post')\n",
    "train_labels = np.array(train_labels)\n",
    "\n",
    "test_inputs = pad_sequences(test_sequences, \n",
    "                                             maxlen=MAX_SEQUENCE_LENGTH,\n",
    "                                             padding='post', truncating='post')\n",
    "test_labels = np.array(test_labels)\n",
    "\n",
    "len(train_inputs), len(train_labels), len(test_inputs), len(test_labels)"
   ]
  },
  {
   "cell_type": "code",
   "execution_count": 29,
   "metadata": {
    "colab": {
     "base_uri": "https://localhost:8080/",
     "height": 393
    },
    "colab_type": "code",
    "id": "Ct65K3gSZG3c",
    "outputId": "501cc243-b55f-4c7d-f718-9d18780696f2"
   },
   "outputs": [
    {
     "name": "stdout",
     "output_type": "stream",
     "text": [
      "[[   90  1370    13  1554    80   520  8870 14637    29   250     5  3884\n",
      "     16   430    62]\n",
      " [   50     4    86    21    79   466  2263    10    57   264     0     0\n",
      "      0     0     0]\n",
      " [  629    36 10866    53    37   165   264     9   447   385     3   349\n",
      "     26     7  1842]\n",
      " [ 1283     3   479   431   163   490    77   578    13    18     3    16\n",
      "      0     0     0]\n",
      " [  458  3885     8  2142    63    80    35    58   446     3    10   268\n",
      "      9    98     4]]\n",
      "\n",
      "[[1683    7  460 1491  106  346   37 2485  344  760  206  650   96  270\n",
      "     0]\n",
      " [ 148    4   23  111  182   13   40    2  887   84   70    0    0    0\n",
      "     0]\n",
      " [ 107  993 3491  102  552  654    3  505  684  596  478    0    0    0\n",
      "     0]\n",
      " [ 101    4    3    8   31    0    0    0    0    0    0    0    0    0\n",
      "     0]\n",
      " [ 349   26    7  480   22  378  179  731  271  607  163  238    0    0\n",
      "     0]]\n"
     ]
    }
   ],
   "source": [
    "print(train_inputs[:5])\n",
    "print()\n",
    "print(test_inputs[:5])"
   ]
  },
  {
   "cell_type": "markdown",
   "metadata": {
    "colab_type": "text",
    "id": "_XW692THZG3f"
   },
   "source": [
    "### sequence 를 다시 문장으로 역변환"
   ]
  },
  {
   "cell_type": "code",
   "execution_count": 37,
   "metadata": {
    "colab": {
     "base_uri": "https://localhost:8080/",
     "height": 35
    },
    "colab_type": "code",
    "id": "bP6ea-ZYZG3f",
    "outputId": "7cdcdb3d-58b8-4c3e-810a-e482134fc8e6"
   },
   "outputs": [
    {
     "name": "stdout",
     "output_type": "stream",
     "text": [
      "재밌다좋다자쓰다???????????\n"
     ]
    }
   ],
   "source": [
    "reverse_word_index = dict([(v, k) for (k, v) in tokenizer.word_index.items()])\n",
    "\n",
    "def decode_sentence(text):\n",
    "    return ''.join([reverse_word_index.get(i, '?') for i in text])\n",
    "\n",
    "print(decode_sentence(train_inputs[200]))"
   ]
  },
  {
   "cell_type": "code",
   "execution_count": 38,
   "metadata": {
    "colab": {
     "base_uri": "https://localhost:8080/",
     "height": 304
    },
    "colab_type": "code",
    "id": "4gbHh9M9ZG3h",
    "outputId": "64a7aed7-319c-4811-dafc-6a9298fa4d09"
   },
   "outputs": [
    {
     "name": "stdout",
     "output_type": "stream",
     "text": [
      "Model: \"sequential_1\"\n",
      "_________________________________________________________________\n",
      "Layer (type)                 Output Shape              Param #   \n",
      "=================================================================\n",
      "embedding_1 (Embedding)      (None, None, 64)          1280064   \n",
      "_________________________________________________________________\n",
      "bidirectional_1 (Bidirection (None, 128)               66048     \n",
      "_________________________________________________________________\n",
      "dense_2 (Dense)              (None, 32)                4128      \n",
      "_________________________________________________________________\n",
      "dense_3 (Dense)              (None, 1)                 33        \n",
      "=================================================================\n",
      "Total params: 1,350,273\n",
      "Trainable params: 1,350,273\n",
      "Non-trainable params: 0\n",
      "_________________________________________________________________\n"
     ]
    }
   ],
   "source": [
    "model = Sequential([\n",
    "    Embedding(VOCAB_SIZE+1, 64),\n",
    "    Bidirectional(LSTM(64)),\n",
    "    Dense(32, activation='relu'),\n",
    "    Dense(1, activation='sigmoid')\n",
    "])\n",
    "\n",
    "model.compile(loss='binary_crossentropy', optimizer='adam', metrics=['accuracy'])\n",
    "model.summary()"
   ]
  },
  {
   "cell_type": "code",
   "execution_count": 39,
   "metadata": {
    "colab": {
     "base_uri": "https://localhost:8080/",
     "height": 196
    },
    "colab_type": "code",
    "id": "JrmVSpkrZG3j",
    "outputId": "7aa1161b-c2be-4079-d648-81fda599696b"
   },
   "outputs": [
    {
     "name": "stdout",
     "output_type": "stream",
     "text": [
      "Train on 49571 samples, validate on 4951 samples\n",
      "Epoch 1/5\n",
      "49571/49571 [==============================] - 15s 309us/sample - loss: 0.4500 - accuracy: 0.7834 - val_loss: 0.4027 - val_accuracy: 0.8225\n",
      "Epoch 2/5\n",
      "49571/49571 [==============================] - 9s 176us/sample - loss: 0.3297 - accuracy: 0.8582 - val_loss: 0.4059 - val_accuracy: 0.8144\n",
      "Epoch 3/5\n",
      "49571/49571 [==============================] - 9s 182us/sample - loss: 0.2705 - accuracy: 0.8862 - val_loss: 0.4340 - val_accuracy: 0.8144\n",
      "Epoch 4/5\n",
      "49571/49571 [==============================] - 9s 191us/sample - loss: 0.2197 - accuracy: 0.9067 - val_loss: 0.4972 - val_accuracy: 0.8140\n",
      "Epoch 5/5\n",
      "49571/49571 [==============================] - 10s 194us/sample - loss: 0.1843 - accuracy: 0.9212 - val_loss: 0.5827 - val_accuracy: 0.8128\n"
     ]
    }
   ],
   "source": [
    "num_epochs = 5\n",
    "history = model.fit(train_inputs, train_labels, epochs=num_epochs,\n",
    "                           batch_size=128, validation_data=(test_inputs, test_labels),\n",
    "                           verbose=1)"
   ]
  },
  {
   "cell_type": "code",
   "execution_count": 40,
   "metadata": {
    "colab": {
     "base_uri": "https://localhost:8080/",
     "height": 283
    },
    "colab_type": "code",
    "id": "xcczXSVmZG3l",
    "outputId": "c5110d37-9a49-4587-9fd5-59e4febd6bcd"
   },
   "outputs": [
    {
     "data": {
      "image/png": "[encoded data removed]",
      "text/plain": [
       "<Figure size 864x288 with 2 Axes>"
      ]
     },
     "metadata": {
      "needs_background": "light"
     },
     "output_type": "display_data"
    }
   ],
   "source": [
    "fig, (ax1, ax2) = plt.subplots(1, 2, figsize=(12, 4))\n",
    "\n",
    "ax1.plot(history.history['accuracy'])\n",
    "ax1.plot(history.history['val_accuracy'])\n",
    "ax1.set_xlabel('Epochs')\n",
    "ax1.set_ylabel('accuracy')\n",
    "ax1.legend(['accuarcy', 'val_accuracy'])\n",
    "\n",
    "ax2.plot(history.history['loss'])\n",
    "ax2.plot(history.history['val_loss'])\n",
    "ax2.set_xlabel('Epochs')\n",
    "ax2.set_ylabel('loss')\n",
    "ax2.legend(['loss', 'val_loss'])\n",
    "plt.show()"
   ]
  },
  {
   "cell_type": "code",
   "execution_count": 43,
   "metadata": {
    "colab": {
     "base_uri": "https://localhost:8080/",
     "height": 53
    },
    "colab_type": "code",
    "id": "50BvfYqWZG3n",
    "outputId": "d1ec1827-30bb-4433-d7f2-4f910321695c"
   },
   "outputs": [
    {
     "data": {
      "text/plain": [
       "array([[115,   1,   1,  21,   1,   0,   0,   0,   0,   0,   0,   0,   0,\n",
       "          0,   0]])"
      ]
     },
     "execution_count": 43,
     "metadata": {},
     "output_type": "execute_result"
    }
   ],
   "source": [
    "#sample_text = ['이 영화는 정말 짜증나서 못 보겠다']\n",
    "sample_text = ['이렇게 감동적인 영화는 정말 간만이다']\n",
    "sample_seq = tokenizer.texts_to_sequences(sample_text)\n",
    "sample_padded = pad_sequences(sample_seq, maxlen=MAX_SEQUENCE_LENGTH, padding='post')\n",
    "sample_padded"
   ]
  },
  {
   "cell_type": "code",
   "execution_count": 44,
   "metadata": {
    "colab": {
     "base_uri": "https://localhost:8080/",
     "height": 35
    },
    "colab_type": "code",
    "id": "mUfmxNgfZG3p",
    "outputId": "236497ec-d022-414f-a862-1195099ec454"
   },
   "outputs": [
    {
     "data": {
      "text/plain": [
       "array([[0.94103724]], dtype=float32)"
      ]
     },
     "execution_count": 44,
     "metadata": {},
     "output_type": "execute_result"
    }
   ],
   "source": [
    "model.predict([sample_padded])"
   ]
  },
  {
   "cell_type": "code",
   "execution_count": null,
   "metadata": {},
   "outputs": [],
   "source": [
    "['positive' if model.predict([sample_padded]) >= 0.5 else 'negative']"
   ]
  },
  {
   "cell_type": "code",
   "execution_count": 45,
   "metadata": {
    "colab": {
     "base_uri": "https://localhost:8080/",
     "height": 89
    },
    "colab_type": "code",
    "id": "TB4LBuVNZG3r",
    "outputId": "e77108b3-1275-47f3-f084-9f79ad9c756c"
   },
   "outputs": [
    {
     "data": {
      "text/plain": [
       "[<tensorflow.python.keras.layers.embeddings.Embedding at 0x1ec5e881448>,\n",
       " <tensorflow.python.keras.layers.wrappers.Bidirectional at 0x1ec5e881fc8>,\n",
       " <tensorflow.python.keras.layers.core.Dense at 0x1ec6ff7ef88>,\n",
       " <tensorflow.python.keras.layers.core.Dense at 0x1ec7b205b88>]"
      ]
     },
     "execution_count": 45,
     "metadata": {},
     "output_type": "execute_result"
    }
   ],
   "source": [
    "model.layers"
   ]
  },
  {
   "cell_type": "markdown",
   "metadata": {
    "colab_type": "text",
    "id": "SPbB4Vu5ZG3u"
   },
   "source": [
    "## Embedding Layer 시각화\n",
    "\n",
    "- Embedding projector https://projector.tensorflow.org/  를 이용하여 word embedding 시각화"
   ]
  },
  {
   "cell_type": "code",
   "execution_count": 46,
   "metadata": {
    "colab": {
     "base_uri": "https://localhost:8080/",
     "height": 35
    },
    "colab_type": "code",
    "id": "Hlzy6uMAZG3u",
    "outputId": "5bbebe4e-43d8-47b6-bec4-1569db358d58"
   },
   "outputs": [
    {
     "name": "stdout",
     "output_type": "stream",
     "text": [
      "(20001, 64)\n"
     ]
    }
   ],
   "source": [
    "e = model.layers[0]\n",
    "weights = e.get_weights()[0]\n",
    "print(weights.shape)"
   ]
  },
  {
   "cell_type": "markdown",
   "metadata": {
    "colab_type": "text",
    "id": "Z6UmmFaKZG3x"
   },
   "source": [
    "### embedding layer 의 weight 를 disk 에 write. Embedding projector 사용을 위해 embedding vector file 과 단어가 들어 있는 meta data file 로 구분하여 upload."
   ]
  },
  {
   "cell_type": "code",
   "execution_count": 47,
   "metadata": {
    "colab": {},
    "colab_type": "code",
    "id": "Kd2CXVpTZG3x"
   },
   "outputs": [],
   "source": [
    "import io\n",
    "\n",
    "out_v = io.open('vects.tsv', 'w', encoding='utf-8')\n",
    "out_m = io.open('meta.tsv', 'w', encoding='utf-8')\n",
    "\n",
    "for i in range(1, 1000):\n",
    "    word = tokenizer.index_word.get(i, '?')\n",
    "    embeddings = weights[i]\n",
    "    out_m.write(word + '\\n')\n",
    "    out_v.write('\\t'.join([str(x) for x in embeddings]) + '\\n')\n",
    "    \n",
    "out_v.close()\n",
    "out_m.close()"
   ]
  },
  {
   "cell_type": "markdown",
   "metadata": {
    "colab_type": "text",
    "id": "1bjh-IuVZG3z"
   },
   "source": [
    "## Embedding 결과 확인\n",
    "\n",
    "[Embedding Projector](https://projector.tensorflow.org) 에 접속하여 embedding 의 품질 확인\n",
    "\n",
    "Google Colab 의 경우 local PC 로 download 받아 Embedding Projector 에 upload"
   ]
  },
  {
   "cell_type": "code",
   "execution_count": null,
   "metadata": {
    "colab": {},
    "colab_type": "code",
    "id": "EXYfTlWUgjBj"
   },
   "outputs": [],
   "source": []
  }
 ],
 "metadata": {
  "accelerator": "GPU",
  "colab": {
   "name": "035_naver_movie_reivew_classification.ipynb",
   "provenance": []
  },
  "kernelspec": {
   "display_name": "Python 3",
   "language": "python",
   "name": "python3"
  },
  "language_info": {
   "codemirror_mode": {
    "name": "ipython",
    "version": 3
   },
   "file_extension": ".py",
   "mimetype": "text/x-python",
   "name": "python",
   "nbconvert_exporter": "python",
   "pygments_lexer": "ipython3",
   "version": "3.8.5"
  }
 },
 "nbformat": 4,
 "nbformat_minor": 1
}
