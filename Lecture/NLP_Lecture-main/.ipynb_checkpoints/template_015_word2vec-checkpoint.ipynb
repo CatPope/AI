{
 "cells": [
  {
   "cell_type": "markdown",
   "id": "d9b00415",
   "metadata": {
    "id": "P-GRFNX7b6ci"
   },
   "source": [
    "# 015. word2vec 작성\n",
    "\n",
    "- skipgram, window size 2 의 simplified word2vec model 작성\n",
    "\n",
    "<img src=\"https://i.imgur.com/fr5B4on.jpeg\" width=500 />"
   ]
  },
  {
   "cell_type": "code",
   "execution_count": null,
   "id": "b8ffe83b",
   "metadata": {},
   "outputs": [],
   "source": []
  },
  {
   "cell_type": "markdown",
   "id": "f7927dc9",
   "metadata": {
    "id": "siVuUZ78b6cl"
   },
   "source": [
    "### Toy 말뭉치"
   ]
  },
  {
   "cell_type": "code",
   "execution_count": null,
   "id": "1f8010d4",
   "metadata": {},
   "outputs": [],
   "source": []
  },
  {
   "cell_type": "code",
   "execution_count": null,
   "id": "74a5514b",
   "metadata": {},
   "outputs": [],
   "source": []
  },
  {
   "cell_type": "code",
   "execution_count": null,
   "id": "7bef3694",
   "metadata": {},
   "outputs": [],
   "source": []
  },
  {
   "cell_type": "markdown",
   "id": "5ab723ac",
   "metadata": {
    "id": "8R3AZLqEb6co"
   },
   "source": [
    "### vocaburary 모음 작성"
   ]
  },
  {
   "cell_type": "code",
   "execution_count": null,
   "id": "f5ddd66a",
   "metadata": {},
   "outputs": [],
   "source": []
  },
  {
   "cell_type": "markdown",
   "id": "2b29dc33",
   "metadata": {
    "id": "cfguhBBTb6cp"
   },
   "source": [
    "### word-to-index, index-to-word 작성\n",
    "\n",
    "- word 를 index 로 변환  \n",
    "\n",
    "- sentence 를 word index 로 변환  \n",
    "\n",
    "- window size 에 따라 train data 생성"
   ]
  },
  {
   "cell_type": "code",
   "execution_count": null,
   "id": "080a9ea1",
   "metadata": {},
   "outputs": [],
   "source": []
  },
  {
   "cell_type": "code",
   "execution_count": null,
   "id": "8695038a",
   "metadata": {},
   "outputs": [],
   "source": []
  },
  {
   "cell_type": "markdown",
   "id": "3f7560a3",
   "metadata": {
    "id": "5twfy1gIb6cq"
   },
   "source": [
    "### skip-gram 으로 training data 생성"
   ]
  },
  {
   "cell_type": "code",
   "execution_count": null,
   "id": "b7b51b77",
   "metadata": {},
   "outputs": [],
   "source": []
  },
  {
   "cell_type": "code",
   "execution_count": null,
   "id": "3d14f28e",
   "metadata": {},
   "outputs": [],
   "source": []
  },
  {
   "cell_type": "code",
   "execution_count": null,
   "id": "44bcde48",
   "metadata": {},
   "outputs": [],
   "source": []
  },
  {
   "cell_type": "code",
   "execution_count": null,
   "id": "68a06e73",
   "metadata": {},
   "outputs": [],
   "source": []
  },
  {
   "cell_type": "markdown",
   "id": "77d84eb5",
   "metadata": {
    "id": "7SyOqIrmb6cr"
   },
   "source": [
    "### One hot encoding"
   ]
  },
  {
   "cell_type": "code",
   "execution_count": null,
   "id": "38ef8abf",
   "metadata": {},
   "outputs": [],
   "source": []
  },
  {
   "cell_type": "markdown",
   "id": "07482cd5",
   "metadata": {
    "id": "hGa4sgTWb6cs"
   },
   "source": [
    "### One hot encoding 된 train, label data"
   ]
  },
  {
   "cell_type": "code",
   "execution_count": null,
   "id": "697f9d90",
   "metadata": {},
   "outputs": [],
   "source": []
  },
  {
   "cell_type": "code",
   "execution_count": null,
   "id": "da1d8878",
   "metadata": {},
   "outputs": [],
   "source": []
  },
  {
   "cell_type": "code",
   "execution_count": null,
   "id": "f313a970",
   "metadata": {},
   "outputs": [],
   "source": [
    "# convert them to numpy arrays"
   ]
  },
  {
   "cell_type": "markdown",
   "id": "3b206b83",
   "metadata": {
    "id": "BXo_-FQ6b6ct"
   },
   "source": [
    "**시각화를 위해 hidden layer 의 unit 을 2 로 제한**"
   ]
  },
  {
   "cell_type": "code",
   "execution_count": null,
   "id": "333d7090",
   "metadata": {},
   "outputs": [],
   "source": []
  },
  {
   "cell_type": "code",
   "execution_count": null,
   "id": "b576e7fe",
   "metadata": {},
   "outputs": [],
   "source": []
  },
  {
   "cell_type": "markdown",
   "id": "7796dfa3",
   "metadata": {
    "id": "BoOLyKbJb6cu"
   },
   "source": [
    "### 첫번째 Hidden Layer 추출 및 weight + bias 를 vector 로 합산"
   ]
  },
  {
   "cell_type": "code",
   "execution_count": null,
   "id": "f5469f98",
   "metadata": {},
   "outputs": [],
   "source": []
  },
  {
   "cell_type": "code",
   "execution_count": null,
   "id": "6e2f59b8",
   "metadata": {},
   "outputs": [],
   "source": []
  },
  {
   "cell_type": "code",
   "execution_count": null,
   "id": "a5ee0f3c",
   "metadata": {},
   "outputs": [],
   "source": []
  },
  {
   "cell_type": "code",
   "execution_count": null,
   "id": "d4572c57",
   "metadata": {},
   "outputs": [],
   "source": []
  },
  {
   "cell_type": "code",
   "execution_count": null,
   "id": "bbf288b2",
   "metadata": {},
   "outputs": [],
   "source": []
  },
  {
   "cell_type": "code",
   "execution_count": null,
   "id": "31ac7559",
   "metadata": {},
   "outputs": [],
   "source": []
  },
  {
   "cell_type": "code",
   "execution_count": null,
   "id": "183c210c",
   "metadata": {},
   "outputs": [],
   "source": []
  }
 ],
 "metadata": {
  "colab": {
   "provenance": []
  },
  "kernelspec": {
   "display_name": "Python 3 (ipykernel)",
   "language": "python",
   "name": "python3"
  },
  "language_info": {
   "codemirror_mode": {
    "name": "ipython",
    "version": 3
   },
   "file_extension": ".py",
   "mimetype": "text/x-python",
   "name": "python",
   "nbconvert_exporter": "python",
   "pygments_lexer": "ipython3",
   "version": "3.9.21"
  }
 },
 "nbformat": 4,
 "nbformat_minor": 5
}
