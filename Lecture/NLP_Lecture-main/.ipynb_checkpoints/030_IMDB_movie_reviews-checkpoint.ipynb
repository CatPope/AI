{
 "cells": [
  {
   "cell_type": "markdown",
   "metadata": {
    "id": "I1uizVBrqBaD"
   },
   "source": [
    "# 030. 영화평 Text 분류 - Sentiment Analysis\n",
    "\n",
    "- IMDB (Internet Movie Database, https://www.imdb.com/)  Dataset\n",
    "\n",
    "\n",
    "- 각 25,000 개의 training/testing set 으로 구성된 IMDB 영화관람평  \n",
    "\n",
    "\n",
    "- “imdb_reviews” – encoding 되어있지 않은 string 형태의 data  \n",
    "\n",
    "\n",
    "- label : positive, negative binary classification"
   ]
  },
  {
   "cell_type": "markdown",
   "metadata": {
    "id": "S0b7bx1OqBaE"
   },
   "source": [
    "## imdb_reviews (string data) 이용 "
   ]
  },
  {
   "cell_type": "code",
   "execution_count": 1,
   "metadata": {
    "id": "hg6PPQxkqBaF"
   },
   "outputs": [],
   "source": [
    " import tensorflow as tf\n",
    "from tensorflow.keras.layers import Dense, LSTM, Embedding, Dropout, Bidirectional\n",
    "from tensorflow.keras.models import Sequential\n",
    "from tensorflow.keras.preprocessing.text import Tokenizer\n",
    "from tensorflow.keras.preprocessing.sequence import pad_sequences\n",
    "import tensorflow_datasets as tfds\n",
    "import numpy as np\n",
    "import matplotlib.pyplot as plt"
   ]
  },
  {
   "cell_type": "code",
   "execution_count": 2,
   "metadata": {
    "id": "kkFAhANFqBaO"
   },
   "outputs": [],
   "source": [
    "dataset, info = tfds.load('imdb_reviews', with_info=True, as_supervised=True)\n",
    "\n",
    "train_dataset, test_dataset = dataset['train'], dataset['test']"
   ]
  },
  {
   "cell_type": "code",
   "execution_count": 3,
   "metadata": {
    "colab": {
     "base_uri": "https://localhost:8080/"
    },
    "id": "kfmCzOmNFKSR",
    "outputId": "7c0455ce-25a8-49b7-ee96-5db2433c1bb1"
   },
   "outputs": [
    {
     "data": {
      "text/plain": [
       "(25000, 25000)"
      ]
     },
     "execution_count": 3,
     "metadata": {},
     "output_type": "execute_result"
    }
   ],
   "source": [
    "len(train_dataset), len(test_dataset)"
   ]
  },
  {
   "cell_type": "markdown",
   "metadata": {
    "id": "p9N0cMv2qBaT"
   },
   "source": [
    "### tfds 는 tf.Tensor 반환"
   ]
  },
  {
   "cell_type": "code",
   "execution_count": 4,
   "metadata": {
    "colab": {
     "base_uri": "https://localhost:8080/"
    },
    "id": "7B0jxUq2qBaU",
    "outputId": "7e4fc82c-2f06-45bc-8d96-7fdd01c1c2cd"
   },
   "outputs": [
    {
     "name": "stdout",
     "output_type": "stream",
     "text": [
      "tf.Tensor(1, shape=(), dtype=int64)\n",
      "tf.Tensor(b\"There are films that make careers. For George Romero, it was NIGHT OF THE LIVING DEAD; for Kevin Smith, CLERKS; for Robert Rodriguez, EL MARIACHI. Add to that list Onur Tukel's absolutely amazing DING-A-LING-LESS. Flawless film-making, and as assured and as professional as any of the aforementioned movies. I haven't laughed this hard since I saw THE FULL MONTY. (And, even then, I don't think I laughed quite this hard... So to speak.) Tukel's talent is considerable: DING-A-LING-LESS is so chock full of double entendres that one would have to sit down with a copy of this script and do a line-by-line examination of it to fully appreciate the, uh, breadth and width of it. Every shot is beautifully composed (a clear sign of a sure-handed director), and the performances all around are solid (there's none of the over-the-top scenery chewing one might've expected from a film like this). DING-A-LING-LESS is a film whose time has come.\", shape=(), dtype=string)\n"
     ]
    }
   ],
   "source": [
    "for input, label in dataset['test']:\n",
    "    print(label)\n",
    "    print(input)\n",
    "    break"
   ]
  },
  {
   "cell_type": "markdown",
   "metadata": {
    "id": "BnS9z6Z2qBaa"
   },
   "source": [
    "## keras.preprocessing module 을 이용하여 tokenize 및 padding\n",
    "- keras.preprocessing.text.Tokenizer  \n",
    "\n",
    "- keras.preprocessing.sequence.pad_sequence"
   ]
  },
  {
   "cell_type": "code",
   "execution_count": 5,
   "metadata": {
    "colab": {
     "base_uri": "https://localhost:8080/"
    },
    "id": "gzTkP-1RqBab",
    "outputId": "910f4a31-3fd2-452f-c432-aee5bef16d2b"
   },
   "outputs": [
    {
     "name": "stdout",
     "output_type": "stream",
     "text": [
      "1\n",
      "b'First of all, Riget is wonderful. Good comedy and mystery thriller at the same time. Nice combination of strange \\'dogma\\' style of telling the story together with good music and great actors. But unfortunately there\\'s no \\'the end\\'. As for me it\\'s unacceptable. I was thinking... how it will be possible to continue the story without Helmer and Drusse? ...and I have some idea. I think Lars should make RIGET III a little bit different. I\\'m sure that 3rd part without Helmer wouldn\\'t be the same. So here\\'s my suggestion. Mayble little bit stupid, maybe not. I know that Lars likes to experiment. So why not to make small experiment with Riget3? I think the only solution here is to create puppet-driven animation (like for example \"team America\" by Trey Parker) or even computer 3d animation. I know it\\'s not the same as real actors, but in principle I believe it could work... only this way it\\'s possible to make actors alive again. For Riget fans this shouldn\\'t be so big difference - if the animation will be done in good way average \\'watcher\\' will consider it normal just after first few shots of the movie. The most important thing now is the story. It\\'s completely understandable that it\\'s not possible to create Riget 3 with the actors nowadays. So why not to play with animation? And... look for the possibilities that it gives to you! Even marketing one! Great director finishes his trilogy after 10 years using puppet animation. Just dreams?<br /><br />I hope to see Riget 3 someday... or even to see just the script. I\\'m curious how the story ends... and as I expect- everybody here do.<br /><br />greets, slaj<br /><br />ps: I\\'m not talking about the \"kingdom hospital\" by Stephen King ;-)'\n",
      "1\n",
      "b\"They just don't make cartoons like they used to. This one had wit, great characters, and the greatest ensemble of voice over artists ever assembled for a daytime cartoon show. This still remains as one of the highest rated daytime cartoon shows, and one of the most honored, winning several Emmy Awards.\"\n"
     ]
    }
   ],
   "source": [
    "train_sentences = []\n",
    "train_labels = []\n",
    "test_sentences = []\n",
    "test_labels = []\n",
    "\n",
    "for sent, label in train_dataset:\n",
    "    train_sentences.append(str(sent.numpy()))\n",
    "    train_labels.append(label.numpy())\n",
    "\n",
    "for sent, label in test_dataset:\n",
    "    test_sentences.append(str(sent.numpy()))\n",
    "    test_labels.append(label.numpy())\n",
    "\n",
    "print(train_labels[-1])\n",
    "print(train_sentences[-1])\n",
    "\n",
    "print(test_labels[-1])\n",
    "print(test_sentences[-1])"
   ]
  },
  {
   "cell_type": "markdown",
   "metadata": {
    "id": "cYU9_iKEqBau"
   },
   "source": [
    "## train_labels, test_labels  list를 numpy array 로 변환"
   ]
  },
  {
   "cell_type": "code",
   "execution_count": 6,
   "metadata": {
    "colab": {
     "base_uri": "https://localhost:8080/"
    },
    "id": "hh2ONA0GqBau",
    "outputId": "0f40f4ff-f51b-42f1-8320-c9afbdb96fba"
   },
   "outputs": [
    {
     "name": "stdout",
     "output_type": "stream",
     "text": [
      "(25000,)\n",
      "(25000,)\n"
     ]
    }
   ],
   "source": [
    "train_labels = np.array(train_labels)\n",
    "test_labels = np.array(test_labels)\n",
    "\n",
    "print(train_labels.shape)\n",
    "print(test_labels.shape)"
   ]
  },
  {
   "cell_type": "markdown",
   "metadata": {
    "id": "cbidTe45qBax"
   },
   "source": [
    "## train_sentences, test_sentences text 를 sequence 로 변환 "
   ]
  },
  {
   "cell_type": "code",
   "execution_count": 7,
   "metadata": {
    "id": "NuJGndVkqBay"
   },
   "outputs": [],
   "source": [
    "vocab_size = 10000\n",
    "\n",
    "tokenizer = Tokenizer(num_words = vocab_size, oov_token='<OOV>')\n",
    "tokenizer.fit_on_texts(train_sentences)"
   ]
  },
  {
   "cell_type": "code",
   "execution_count": 8,
   "metadata": {
    "colab": {
     "base_uri": "https://localhost:8080/"
    },
    "id": "_C3n9R4IqBa1",
    "outputId": "f91e2736-9283-4439-b166-1f3faf2ecce8"
   },
   "outputs": [
    {
     "name": "stdout",
     "output_type": "stream",
     "text": [
      "[59, 12, 14, 35, 439, 400, 18, 174, 29, 1, 9, 33, 1378, 3401, 42, 496, 1, 197, 25, 88, 156, 19, 12, 211, 340, 29, 70, 248, 213, 9, 486, 62, 70, 88, 116, 99, 24, 5740, 12, 3317, 657, 777, 12, 18, 7, 35, 406, 8228, 178, 2477, 426, 2, 92, 1253, 140, 72, 149, 55, 2, 1, 7525, 72, 229, 70, 2962, 16, 1, 2880, 1, 1, 1506, 4998, 3, 40, 3947, 119, 1608, 17, 3401, 14, 163, 19, 4, 1253, 927, 7986, 9, 4, 18, 13, 14, 4200, 5, 102, 148, 1237, 11, 240, 692, 13, 44, 25, 101, 39, 12, 7232, 1, 39, 1378, 1, 52, 409, 11, 99, 1214, 874, 145, 10]\n",
      "[59, 44, 25, 109, 13, 97, 4115, 16, 742, 4370, 10, 14, 316, 5, 2, 593, 354, 16, 1864, 1212, 1, 16, 680, 7499, 5595, 1, 773, 6, 13, 1037, 1, 1, 439, 491, 1, 4, 1, 334, 3610, 20, 229, 3, 15, 5796, 3, 15, 1646, 15, 102, 5, 2, 3597, 101, 11, 1450, 1528, 12, 251, 235, 11, 216, 2, 377, 6429, 3, 62, 95, 11, 174, 105, 11, 1528, 180, 12, 251, 37, 6, 1144, 1, 682, 7, 4452, 1, 4, 1, 334, 7, 37, 8367, 377, 5, 1420, 1, 13, 30, 64, 28, 6, 874, 181, 17, 4, 1050, 5, 12, 224, 3, 83, 4, 353, 33, 353, 5229, 5, 10, 6, 1340, 1160, 2, 5738, 1, 3, 1, 5, 10, 175, 328, 7, 1319, 3989, 4, 798, 1946, 5, 4, 250, 2710, 158, 3, 2, 361, 31, 187, 25, 1170, 499, 610, 5, 2, 122, 2, 356, 1398, 7725, 30, 1, 881, 38, 4, 20, 39, 12, 1, 4, 1, 334, 7, 4, 20, 634, 60, 48, 214]\n"
     ]
    }
   ],
   "source": [
    "train_sequences = tokenizer.texts_to_sequences(train_sentences)\n",
    "test_sequences = tokenizer.texts_to_sequences(test_sentences)\n",
    "\n",
    "print(train_sequences[0])\n",
    "print(test_sequences[0])"
   ]
  },
  {
   "cell_type": "code",
   "execution_count": 9,
   "metadata": {
    "colab": {
     "base_uri": "https://localhost:8080/",
     "height": 265
    },
    "id": "lTeWFNQnqBa3",
    "outputId": "bea66b5f-ec69-4a23-a658-51c8ad6c651b"
   },
   "outputs": [
    {
     "data": {
      "image/png": "[encoded data removed]",
      "text/plain": [
       "<Figure size 432x288 with 1 Axes>"
      ]
     },
     "metadata": {
      "needs_background": "light"
     },
     "output_type": "display_data"
    }
   ],
   "source": [
    "plt.hist([len(s) for s in train_sequences] + [len(s) for s in test_sequences], bins=50);"
   ]
  },
  {
   "cell_type": "code",
   "execution_count": 10,
   "metadata": {
    "colab": {
     "base_uri": "https://localhost:8080/"
    },
    "id": "xDMrGPr1qBa5",
    "outputId": "cbdf98b6-8a1c-420c-8d31-20ee099f442c"
   },
   "outputs": [
    {
     "name": "stdout",
     "output_type": "stream",
     "text": [
      "(25000, 150)\n",
      "(25000, 150)\n",
      "[  59   12   14   35  439  400   18  174   29    1    9   33 1378 3401\n",
      "   42  496    1  197   25   88  156   19   12  211  340   29   70  248\n",
      "  213    9  486   62   70   88  116   99   24 5740   12 3317  657  777\n",
      "   12   18    7   35  406 8228  178 2477  426    2   92 1253  140   72\n",
      "  149   55    2    1 7525   72  229   70 2962   16    1 2880    1    1\n",
      " 1506 4998    3   40 3947  119 1608   17 3401   14  163   19    4 1253\n",
      "  927 7986    9    4   18   13   14 4200    5  102  148 1237   11  240\n",
      "  692   13   44   25  101   39   12 7232    1   39 1378    1   52  409\n",
      "   11   99 1214  874  145   10    0    0    0    0    0    0    0    0\n",
      "    0    0    0    0    0    0    0    0    0    0    0    0    0    0\n",
      "    0    0    0    0    0    0    0    0    0    0]\n",
      "[  59   44   25  109   13   97 4115   16  742 4370   10   14  316    5\n",
      "    2  593  354   16 1864 1212    1   16  680 7499 5595    1  773    6\n",
      "   13 1037    1    1  439  491    1    4    1  334 3610   20  229    3\n",
      "   15 5796    3   15 1646   15  102    5    2 3597  101   11 1450 1528\n",
      "   12  251  235   11  216    2  377 6429    3   62   95   11  174  105\n",
      "   11 1528  180   12  251   37    6 1144    1  682    7 4452    1    4\n",
      "    1  334    7   37 8367  377    5 1420    1   13   30   64   28    6\n",
      "  874  181   17    4 1050    5   12  224    3   83    4  353   33  353\n",
      " 5229    5   10    6 1340 1160    2 5738    1    3    1    5   10  175\n",
      "  328    7 1319 3989    4  798 1946    5    4  250 2710  158    3    2\n",
      "  361   31  187   25 1170  499  610    5    2  122]\n"
     ]
    }
   ],
   "source": [
    "max_length = 150\n",
    "\n",
    "train_padded = pad_sequences(train_sequences,maxlen=max_length, truncating='post', padding='post')\n",
    "\n",
    "test_padded = pad_sequences(test_sequences,maxlen=max_length, truncating='post', padding='post')\n",
    "\n",
    "print(train_padded.shape)\n",
    "print(test_padded.shape)\n",
    "print(train_padded[0])\n",
    "print(test_padded[0])"
   ]
  },
  {
   "cell_type": "markdown",
   "metadata": {
    "id": "J4j0WVzCqBbA"
   },
   "source": [
    "- sequence data 를 sentence 로 reverse conversion"
   ]
  },
  {
   "cell_type": "code",
   "execution_count": 11,
   "metadata": {
    "colab": {
     "base_uri": "https://localhost:8080/"
    },
    "id": "LY7UPgb6qBbB",
    "outputId": "35ad20be-0ed5-495e-aa46-6ad13470d306"
   },
   "outputs": [
    {
     "name": "stdout",
     "output_type": "stream",
     "text": [
      "b this was an absolutely terrible movie don't be <OOV> in by christopher walken or michael <OOV> both are great actors but this must simply be their worst role in history even their great acting could not redeem this movie's ridiculous storyline this movie is an early nineties us propaganda piece the most pathetic scenes were those when the <OOV> rebels were making their cases for <OOV> maria <OOV> <OOV> appeared phony and her pseudo love affair with walken was nothing but a pathetic emotional plug in a movie that was devoid of any real meaning i am disappointed that there are movies like this ruining <OOV> like christopher <OOV> good name i could barely sit through it <pad> <pad> <pad> <pad> <pad> <pad> <pad> <pad> <pad> <pad> <pad> <pad> <pad> <pad> <pad> <pad> <pad> <pad> <pad> <pad> <pad> <pad> <pad> <pad> <pad> <pad> <pad> <pad> <pad> <pad> <pad> <pad>\n",
      "\n",
      "b\"This was an absolutely terrible movie. Don't be lured in by Christopher Walken or Michael Ironside. Both are great actors, but this must simply be their worst role in history. Even their great acting could not redeem this movie's ridiculous storyline. This movie is an early nineties US propaganda piece. The most pathetic scenes were those when the Columbian rebels were making their cases for revolutions. Maria Conchita Alonso appeared phony, and her pseudo-love affair with Walken was nothing but a pathetic emotional plug in a movie that was devoid of any real meaning. I am disappointed that there are movies like this, ruining actor's like Christopher Walken's good name. I could barely sit through it.\"\n"
     ]
    }
   ],
   "source": [
    "reverse_word_index = dict([(value, key) for (key, value) in tokenizer.word_index.items()])\n",
    "\n",
    "def decode_review(sequence):\n",
    "    return ' '.join([tokenizer.index_word.get(i, '<pad>') for i in sequence])\n",
    "\n",
    "print(decode_review(train_padded[0]))\n",
    "print()\n",
    "print(train_sentences[0])"
   ]
  },
  {
   "cell_type": "markdown",
   "metadata": {
    "id": "wVXJRTjVqBbD"
   },
   "source": [
    "## model define"
   ]
  },
  {
   "cell_type": "code",
   "execution_count": 12,
   "metadata": {
    "colab": {
     "base_uri": "https://localhost:8080/"
    },
    "id": "UjOwdAp2qBbE",
    "outputId": "9735f647-e978-4291-fc81-06e7c753d8d6"
   },
   "outputs": [
    {
     "name": "stdout",
     "output_type": "stream",
     "text": [
      "Model: \"sequential\"\n",
      "_________________________________________________________________\n",
      " Layer (type)                Output Shape              Param #   \n",
      "=================================================================\n",
      " embedding (Embedding)       (None, None, 64)          640064    \n",
      "                                                                 \n",
      " bidirectional (Bidirectiona  (None, 128)              66048     \n",
      " l)                                                              \n",
      "                                                                 \n",
      " dense (Dense)               (None, 64)                8256      \n",
      "                                                                 \n",
      " dense_1 (Dense)             (None, 1)                 65        \n",
      "                                                                 \n",
      "=================================================================\n",
      "Total params: 714,433\n",
      "Trainable params: 714,433\n",
      "Non-trainable params: 0\n",
      "_________________________________________________________________\n"
     ]
    }
   ],
   "source": [
    "model = Sequential([\n",
    "    Embedding(vocab_size+1, 64),\n",
    "    Bidirectional(tf.keras.layers.LSTM(64)),\n",
    "    Dense(64, activation='relu'),\n",
    "    Dense(1, activation='sigmoid')\n",
    "])\n",
    "\n",
    "model.compile(loss='binary_crossentropy',optimizer='adam', metrics=['accuracy'])\n",
    "model.summary()"
   ]
  },
  {
   "cell_type": "code",
   "execution_count": 13,
   "metadata": {
    "colab": {
     "base_uri": "https://localhost:8080/"
    },
    "id": "hP4Mm5hTqBbI",
    "outputId": "6087ab5a-d6d8-4740-f86f-cc2b2b9af661"
   },
   "outputs": [
    {
     "name": "stdout",
     "output_type": "stream",
     "text": [
      "Epoch 1/30\n",
      "196/196 [==============================] - 11s 34ms/step - loss: 0.4854 - accuracy: 0.7524 - val_loss: 0.3791 - val_accuracy: 0.8358\n",
      "Epoch 2/30\n",
      "196/196 [==============================] - 6s 29ms/step - loss: 0.2780 - accuracy: 0.8899 - val_loss: 0.3847 - val_accuracy: 0.8384\n",
      "Epoch 3/30\n",
      "196/196 [==============================] - 6s 29ms/step - loss: 0.2085 - accuracy: 0.9224 - val_loss: 0.3983 - val_accuracy: 0.8287\n",
      "Epoch 4/30\n",
      "196/196 [==============================] - 6s 29ms/step - loss: 0.1630 - accuracy: 0.9403 - val_loss: 0.4758 - val_accuracy: 0.8135\n",
      "Epoch 5/30\n",
      "196/196 [==============================] - 6s 29ms/step - loss: 0.1347 - accuracy: 0.9518 - val_loss: 0.4993 - val_accuracy: 0.8180\n",
      "Epoch 6/30\n",
      "196/196 [==============================] - 6s 29ms/step - loss: 0.1032 - accuracy: 0.9640 - val_loss: 0.5570 - val_accuracy: 0.8024\n",
      "Epoch 7/30\n",
      "196/196 [==============================] - 6s 29ms/step - loss: 0.0779 - accuracy: 0.9734 - val_loss: 0.7996 - val_accuracy: 0.8136\n",
      "Epoch 8/30\n",
      "196/196 [==============================] - 6s 29ms/step - loss: 0.0421 - accuracy: 0.9864 - val_loss: 0.8203 - val_accuracy: 0.8082\n",
      "Epoch 9/30\n",
      "196/196 [==============================] - 6s 29ms/step - loss: 0.0328 - accuracy: 0.9900 - val_loss: 1.0368 - val_accuracy: 0.8034\n",
      "Epoch 10/30\n",
      "196/196 [==============================] - 6s 29ms/step - loss: 0.0347 - accuracy: 0.9887 - val_loss: 0.9215 - val_accuracy: 0.8112\n",
      "Epoch 11/30\n",
      "196/196 [==============================] - 6s 29ms/step - loss: 0.0219 - accuracy: 0.9932 - val_loss: 1.1193 - val_accuracy: 0.8117\n",
      "Epoch 12/30\n",
      "196/196 [==============================] - 6s 29ms/step - loss: 0.0262 - accuracy: 0.9910 - val_loss: 1.2774 - val_accuracy: 0.7979\n",
      "Epoch 13/30\n",
      "196/196 [==============================] - 6s 29ms/step - loss: 0.0195 - accuracy: 0.9940 - val_loss: 1.1893 - val_accuracy: 0.7851\n",
      "Epoch 14/30\n",
      "196/196 [==============================] - 6s 29ms/step - loss: 0.0179 - accuracy: 0.9939 - val_loss: 1.2443 - val_accuracy: 0.8045\n",
      "Epoch 15/30\n",
      "196/196 [==============================] - 6s 29ms/step - loss: 0.0136 - accuracy: 0.9959 - val_loss: 1.2135 - val_accuracy: 0.8038\n",
      "Epoch 16/30\n",
      "196/196 [==============================] - 6s 29ms/step - loss: 0.0076 - accuracy: 0.9976 - val_loss: 1.2430 - val_accuracy: 0.8002\n",
      "Epoch 17/30\n",
      "196/196 [==============================] - 6s 29ms/step - loss: 0.0131 - accuracy: 0.9960 - val_loss: 1.2519 - val_accuracy: 0.8002\n",
      "Epoch 18/30\n",
      "196/196 [==============================] - 6s 29ms/step - loss: 0.0107 - accuracy: 0.9963 - val_loss: 1.3192 - val_accuracy: 0.7987\n",
      "Epoch 19/30\n",
      "196/196 [==============================] - 6s 29ms/step - loss: 0.0161 - accuracy: 0.9943 - val_loss: 1.3434 - val_accuracy: 0.7966\n",
      "Epoch 20/30\n",
      "196/196 [==============================] - 6s 29ms/step - loss: 0.0119 - accuracy: 0.9963 - val_loss: 1.5562 - val_accuracy: 0.8055\n",
      "Epoch 21/30\n",
      "196/196 [==============================] - 6s 29ms/step - loss: 0.0028 - accuracy: 0.9992 - val_loss: 1.6675 - val_accuracy: 0.8079\n",
      "Epoch 22/30\n",
      "196/196 [==============================] - 6s 29ms/step - loss: 9.9940e-04 - accuracy: 0.9998 - val_loss: 1.5337 - val_accuracy: 0.7897\n",
      "Epoch 23/30\n",
      "196/196 [==============================] - 6s 29ms/step - loss: 0.0048 - accuracy: 0.9984 - val_loss: 1.6966 - val_accuracy: 0.8113\n",
      "Epoch 24/30\n",
      "196/196 [==============================] - 6s 29ms/step - loss: 0.0171 - accuracy: 0.9946 - val_loss: 1.3005 - val_accuracy: 0.8033\n",
      "Epoch 25/30\n",
      "196/196 [==============================] - 6s 29ms/step - loss: 0.0185 - accuracy: 0.9938 - val_loss: 1.2342 - val_accuracy: 0.7999\n",
      "Epoch 26/30\n",
      "196/196 [==============================] - 6s 29ms/step - loss: 0.0135 - accuracy: 0.9958 - val_loss: 1.1881 - val_accuracy: 0.7955\n",
      "Epoch 27/30\n",
      "196/196 [==============================] - 6s 29ms/step - loss: 0.0069 - accuracy: 0.9976 - val_loss: 1.3981 - val_accuracy: 0.8041\n",
      "Epoch 28/30\n",
      "196/196 [==============================] - 6s 29ms/step - loss: 0.0084 - accuracy: 0.9973 - val_loss: 1.3295 - val_accuracy: 0.7887\n",
      "Epoch 29/30\n",
      "196/196 [==============================] - 6s 29ms/step - loss: 0.0083 - accuracy: 0.9972 - val_loss: 1.4624 - val_accuracy: 0.7977\n",
      "Epoch 30/30\n",
      "196/196 [==============================] - 6s 29ms/step - loss: 0.0040 - accuracy: 0.9987 - val_loss: 1.5223 - val_accuracy: 0.7984\n",
      "CPU times: user 3min 3s, sys: 25.5 s, total: 3min 28s\n",
      "Wall time: 2min 56s\n"
     ]
    }
   ],
   "source": [
    "%%time\n",
    "num_epochs = 30\n",
    "history = model.fit(train_padded, train_labels, epochs=num_epochs, batch_size=128,\n",
    "                validation_data=(test_padded, test_labels), verbose=1)"
   ]
  },
  {
   "cell_type": "code",
   "execution_count": 14,
   "metadata": {
    "colab": {
     "base_uri": "https://localhost:8080/",
     "height": 280
    },
    "id": "ZPOjnfwkqBbK",
    "outputId": "7fd19c7f-d82c-49eb-c669-c104fa393780"
   },
   "outputs": [
    {
     "data": {
      "image/png": "[encoded data removed]",
      "text/plain": [
       "<Figure size 864x288 with 2 Axes>"
      ]
     },
     "metadata": {
      "needs_background": "light"
     },
     "output_type": "display_data"
    }
   ],
   "source": [
    "fig, (ax1, ax2) = plt.subplots(1, 2, figsize=(12, 4))\n",
    "\n",
    "ax1.plot(history.history['accuracy'])\n",
    "ax1.plot(history.history['val_accuracy'])\n",
    "ax1.set_xlabel('Epochs')\n",
    "ax1.set_ylabel('accuracy')\n",
    "ax1.legend(['accuarcy', 'val_accuracy'])\n",
    "\n",
    "ax2.plot(history.history['loss'])\n",
    "ax2.plot(history.history['val_loss'])\n",
    "ax2.set_xlabel('Epochs')\n",
    "ax2.set_ylabel('loss')\n",
    "ax2.legend(['loss', 'val_loss'])\n",
    "plt.show()"
   ]
  },
  {
   "cell_type": "code",
   "execution_count": 19,
   "metadata": {
    "colab": {
     "base_uri": "https://localhost:8080/"
    },
    "id": "1z-r1z0KqBbM",
    "outputId": "a4fdfc84-442e-4876-eea3-6fac1bf08947"
   },
   "outputs": [
    {
     "data": {
      "text/plain": [
       "array([[  2,   1,  14, 400,  11,  64,  24, 392,   2,  18,   0,   0,   0,\n",
       "          0,   0,   0,   0,   0,   0,   0,   0,   0,   0,   0,   0,   0,\n",
       "          0,   0,   0,   0,   0,   0,   0,   0,   0,   0,   0,   0,   0,\n",
       "          0,   0,   0,   0,   0,   0,   0,   0,   0,   0,   0,   0,   0,\n",
       "          0,   0,   0,   0,   0,   0,   0,   0,   0,   0,   0,   0,   0,\n",
       "          0,   0,   0,   0,   0,   0,   0,   0,   0,   0,   0,   0,   0,\n",
       "          0,   0,   0,   0,   0,   0,   0,   0,   0,   0,   0,   0,   0,\n",
       "          0,   0,   0,   0,   0,   0,   0,   0,   0,   0,   0,   0,   0,\n",
       "          0,   0,   0,   0,   0,   0,   0,   0,   0,   0,   0,   0,   0,\n",
       "          0,   0,   0,   0,   0,   0,   0,   0,   0,   0,   0,   0,   0,\n",
       "          0,   0,   0,   0,   0,   0,   0,   0,   0,   0,   0,   0,   0,\n",
       "          0,   0,   0,   0,   0,   0,   0]], dtype=int32)"
      ]
     },
     "execution_count": 19,
     "metadata": {},
     "output_type": "execute_result"
    }
   ],
   "source": [
    "sample_text = ['The movei was terrible. I would not recommend the movie']\n",
    "# sample_text = ['The movei was fantastic. I would recommend the movie']\n",
    "# sample_text = ['The animation and graphics were out of this world']\n",
    "sample_seq = tokenizer.texts_to_sequences(sample_text)\n",
    "sample_padded = pad_sequences(sample_seq, maxlen=max_length, padding='post', truncating='post')\n",
    "sample_padded"
   ]
  },
  {
   "cell_type": "code",
   "execution_count": 20,
   "metadata": {
    "colab": {
     "base_uri": "https://localhost:8080/"
    },
    "id": "q0ZU4YQ7qBbO",
    "outputId": "b3826b30-2703-4a8e-cd27-aa0913e3e69e"
   },
   "outputs": [
    {
     "data": {
      "text/plain": [
       "array([[0.01155183]], dtype=float32)"
      ]
     },
     "execution_count": 20,
     "metadata": {},
     "output_type": "execute_result"
    }
   ],
   "source": [
    "model.predict([sample_padded])"
   ]
  },
  {
   "cell_type": "code",
   "execution_count": 16,
   "metadata": {
    "id": "rmhMQOlo6Qyc"
   },
   "outputs": [],
   "source": []
  }
 ],
 "metadata": {
  "accelerator": "GPU",
  "colab": {
   "collapsed_sections": [],
   "machine_shape": "hm",
   "name": "030_IMDB_movie_reviews.ipynb",
   "provenance": []
  },
  "kernelspec": {
   "display_name": "Python 3 (ipykernel)",
   "language": "python",
   "name": "python3"
  },
  "language_info": {
   "codemirror_mode": {
    "name": "ipython",
    "version": 3
   },
   "file_extension": ".py",
   "mimetype": "text/x-python",
   "name": "python",
   "nbconvert_exporter": "python",
   "pygments_lexer": "ipython3",
   "version": "3.8.12"
  }
 },
 "nbformat": 4,
 "nbformat_minor": 1
}
