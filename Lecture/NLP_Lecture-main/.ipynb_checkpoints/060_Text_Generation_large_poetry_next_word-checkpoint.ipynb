{
 "cells": [
  {
   "cell_type": "markdown",
   "metadata": {
    "colab_type": "text",
    "id": "yItWZhBaRmAx"
   },
   "source": [
    "# 060. Text Generation - next word 예측\n",
    "\n",
    "- next word 예측 model \n",
    "    - n : 1 model\n",
    "\n",
    "\n",
    "- old irish lyric 을 corpus 로 이용하여 word index 구성"
   ]
  },
  {
   "cell_type": "code",
   "execution_count": 1,
   "metadata": {
    "colab": {},
    "colab_type": "code",
    "id": "dy4T4l74RmAy"
   },
   "outputs": [],
   "source": [
    "import tensorflow as tf\n",
    "from tensorflow.keras.layers import Dense, LSTM, Embedding, Bidirectional\n",
    "from tensorflow.keras.preprocessing.text import Tokenizer\n",
    "from tensorflow.keras.preprocessing.sequence import pad_sequences\n",
    "from tensorflow.keras.models import Sequential\n",
    "from tensorflow.keras.optimizers import Adam\n",
    "import numpy as np"
   ]
  },
  {
   "cell_type": "markdown",
   "metadata": {
    "colab_type": "text",
    "id": "1naoBq8tRmA2"
   },
   "source": [
    "### corpus data\n",
    "\n",
    "- Irish song data 이용  \n",
    "\n",
    "\n",
    "- model 완성 후 동일한 process 를 한글 어린왕자 data 로 수행"
   ]
  },
  {
   "cell_type": "code",
   "execution_count": 2,
   "metadata": {
    "colab": {
     "base_uri": "https://localhost:8080/",
     "height": 53
    },
    "colab_type": "code",
    "id": "yc9I2n-oRmA3",
    "outputId": "63797e0d-a133-4c00-b948-64c3d693b05a"
   },
   "outputs": [
    {
     "name": "stdout",
     "output_type": "stream",
     "text": [
      "Downloading data from https://raw.githubusercontent.com/ironmanciti/NLP_Lecture/master/data/young_prince.txt\n",
      "114688/107468 [================================] - 0s 1us/step\n"
     ]
    }
   ],
   "source": [
    "# file_path = tf.keras.utils.get_file(\"irish-lyrics-eof.txt\", \n",
    "#                  \"https://github.com/ironmanciti/NLP_lecture/raw/master/data/irish-lyrics-eof.txt\")\n",
    "\n",
    "file_path = tf.keras.utils.get_file(\"young-prince.txt\", \n",
    "              \"https://raw.githubusercontent.com/ironmanciti/NLP_Lecture/master/data/young_prince.txt\")"
   ]
  },
  {
   "cell_type": "code",
   "execution_count": 3,
   "metadata": {
    "colab": {
     "base_uri": "https://localhost:8080/",
     "height": 55
    },
    "colab_type": "code",
    "id": "qQ_eYvAGRmA7",
    "outputId": "7ed75a66-b92a-4be2-fa58-de90c7dfa6a3"
   },
   "outputs": [
    {
     "data": {
      "text/plain": [
       "'여섯 살 적에 나는 \"체험한 이야기\"라는 제목의, 원시림에 관한 책에서 기막힌 그림 하나를 본 적이 있다. 맹수를 집어삼키고 있는 보아 구렁이 그림이었다. 위의 그림은 그것을 옮겨 그린 것이다.\\n  그 책에는 이렇게 씌어 있었다.\\n  \"보아 구렁이는 먹이를 씹지도 않고'"
      ]
     },
     "execution_count": 3,
     "metadata": {},
     "output_type": "execute_result"
    }
   ],
   "source": [
    "data = open(file_path, \"r\").read()\n",
    "data[:150]"
   ]
  },
  {
   "cell_type": "markdown",
   "metadata": {
    "colab_type": "text",
    "id": "4xBqNv-RRmA-"
   },
   "source": [
    "**\\n 을 기준으로 sentence 분리**"
   ]
  },
  {
   "cell_type": "code",
   "execution_count": 4,
   "metadata": {
    "colab": {
     "base_uri": "https://localhost:8080/",
     "height": 127
    },
    "colab_type": "code",
    "id": "Jd0be4v3RmA_",
    "outputId": "66754f15-dffd-4a4e-e35e-845ffac85954"
   },
   "outputs": [
    {
     "data": {
      "text/plain": [
       "['여섯 살 적에 나는 \"체험한 이야기\"라는 제목의, 원시림에 관한 책에서 기막힌 그림 하나를 본 적이 있다. 맹수를 집어삼키고 있는 보아 구렁이 그림이었다. 위의 그림은 그것을 옮겨 그린 것이다.',\n",
       " '  그 책에는 이렇게 씌어 있었다.',\n",
       " '  \"보아 구렁이는 먹이를 씹지도 않고 통째로 집어삼킨다.그리고는 꼼짝도 하지 못하고 여섯 달 동안 잠을 자면서 그것을 소화시킨다.\"',\n",
       " '  나는 그래서 밀림 속에서의 모험에 대해 한참 생각해 보고 난 끝에 색연필을 가지고 내 나름대로 내 생애 첫번째 그림을 그려보았다. 나의 그림 제 1호였다. 그것은 이런 그림이었다.',\n",
       " '  나는 그 걸작품을 어른들에게 보여 주면서내 그림이 무섭지 않느냐고 물었다.']"
      ]
     },
     "execution_count": 4,
     "metadata": {},
     "output_type": "execute_result"
    }
   ],
   "source": [
    "corpus = data.lower().split('\\n')\n",
    "corpus[:5]"
   ]
  },
  {
   "cell_type": "markdown",
   "metadata": {
    "colab_type": "text",
    "id": "fJ6-srlhRmBB"
   },
   "source": [
    "### Tokenizer 객체 구성\n",
    "\n",
    "- num_words : default 는 most common num_words - 1\n",
    "- filters : default 는 모든 구둣점"
   ]
  },
  {
   "cell_type": "code",
   "execution_count": 5,
   "metadata": {
    "colab": {
     "base_uri": "https://localhost:8080/",
     "height": 53
    },
    "colab_type": "code",
    "id": "RBiekQqHRmBC",
    "outputId": "a1755386-7963-43cf-a6b7-eaa46566039a"
   },
   "outputs": [
    {
     "name": "stdout",
     "output_type": "stream",
     "text": [
      "word index 길이 = 4594\n",
      "[('<OOV>', 1), ('어린', 2), ('그', 3), ('나는', 4), ('말했다', 5), ('그는', 6), ('왕자가', 7), ('한', 8), ('왕자는', 9), ('수', 10)]\n"
     ]
    }
   ],
   "source": [
    "tokenizer = Tokenizer(oov_token=\"<OOV>\")\n",
    "\n",
    "tokenizer.fit_on_texts(corpus)\n",
    "word2idx = tokenizer.word_index\n",
    "\n",
    "print(\"word index 길이 =\", len(word2idx))\n",
    "print(list(word2idx.items())[:10])"
   ]
  },
  {
   "cell_type": "markdown",
   "metadata": {
    "colab_type": "text",
    "id": "EgVExVQRRmBG"
   },
   "source": [
    "### input sentence 를 sequence 로 변환"
   ]
  },
  {
   "cell_type": "code",
   "execution_count": 6,
   "metadata": {
    "colab": {
     "base_uri": "https://localhost:8080/",
     "height": 55
    },
    "colab_type": "code",
    "id": "N3kcZUvTRmBG",
    "outputId": "7b0ef515-e828-4252-b86a-cf92fb7ba8ff"
   },
   "outputs": [
    {
     "name": "stdout",
     "output_type": "stream",
     "text": [
      "[[143, 246, 372, 4, 1323, 740, 373, 1324, 1325, 1326, 1327, 1328, 208, 741, 88, 127, 144, 1329, 1330, 11, 114, 374, 742, 493, 299, 145, 743, 247, 14], [3, 744, 62, 1331, 21], [114, 745, 1332, 1333, 187, 1334, 1335, 91, 746, 44, 494, 143, 1336, 300, 248, 1337, 145, 1338], [4, 18, 1339, 1340, 1341, 115, 375, 301, 168, 15, 1342, 1343, 92, 12, 1344, 12, 1345, 747, 146, 1346, 77, 208, 249, 1347, 38, 169, 742], [4, 3, 1348, 748, 749, 1349, 1350, 750, 1351, 34]]\n"
     ]
    }
   ],
   "source": [
    "input_sequences = tokenizer.texts_to_sequences(corpus)\n",
    "print(input_sequences[:5])"
   ]
  },
  {
   "cell_type": "markdown",
   "metadata": {
    "colab_type": "text",
    "id": "YkhSs83fRmBL"
   },
   "source": [
    "### word 단위의 text generation 은 next word 를 예측할 수 있는 형태로 변환"
   ]
  },
  {
   "cell_type": "code",
   "execution_count": 7,
   "metadata": {
    "colab": {
     "base_uri": "https://localhost:8080/",
     "height": 35
    },
    "colab_type": "code",
    "id": "P-D7IAMeRmBN",
    "outputId": "14a82710-050b-4b8a-ef78-4c408460ff36"
   },
   "outputs": [
    {
     "name": "stdout",
     "output_type": "stream",
     "text": [
      "[[143, 246, 372, 4, 1323, 740, 373, 1324, 1325, 1326, 1327, 1328, 208, 741, 88, 127, 144, 1329, 1330, 11, 114, 374, 742, 493, 299, 145, 743, 247, 14]]\n"
     ]
    }
   ],
   "source": [
    "print(tokenizer.texts_to_sequences([corpus[0]]))"
   ]
  },
  {
   "cell_type": "code",
   "execution_count": 8,
   "metadata": {
    "colab": {
     "base_uri": "https://localhost:8080/",
     "height": 125
    },
    "colab_type": "code",
    "id": "1Iadpw-IRmBT",
    "outputId": "8cb6208a-7f6c-4a64-c737-d3b2ab48e099"
   },
   "outputs": [
    {
     "data": {
      "text/plain": [
       "[[143, 246],\n",
       " [143, 246, 372],\n",
       " [143, 246, 372, 4],\n",
       " [143, 246, 372, 4, 1323],\n",
       " [143, 246, 372, 4, 1323, 740],\n",
       " [143, 246, 372, 4, 1323, 740, 373]]"
      ]
     },
     "execution_count": 8,
     "metadata": {},
     "output_type": "execute_result"
    }
   ],
   "source": [
    "input_sequences = []\n",
    "\n",
    "for line in corpus:\n",
    "    token_list = tokenizer.texts_to_sequences([line])[0]\n",
    "    for i in range(1, len(token_list)):     # input, target pair 를 만들어야 하므로 1 부터 시작\n",
    "        n_grams = token_list[:i+1]\n",
    "        input_sequences.append(n_grams)\n",
    "        \n",
    "input_sequences[:6]"
   ]
  },
  {
   "cell_type": "markdown",
   "metadata": {
    "colab_type": "text",
    "id": "KlreYiS8RmBX"
   },
   "source": [
    "### pad sequences\n",
    "\n",
    "- keras 의 input 은 동일한 길이여야 하므로 가장 긴 sequence 의 길이에 맞추어 padding  \n",
    "\n",
    "- 마지막 sequence 가 label 이 될 것이므로 padding='pre' 로 설정"
   ]
  },
  {
   "cell_type": "code",
   "execution_count": 9,
   "metadata": {
    "colab": {
     "base_uri": "https://localhost:8080/",
     "height": 35
    },
    "colab_type": "code",
    "id": "gsLaiHDwRmBX",
    "outputId": "b4225c35-fa23-48b5-8cd3-e38016558716"
   },
   "outputs": [
    {
     "data": {
      "text/plain": [
       "124"
      ]
     },
     "execution_count": 9,
     "metadata": {},
     "output_type": "execute_result"
    }
   ],
   "source": [
    "# max sequence length\n",
    "MAX_SEQUENCE_LEN = max(len(x) for x in input_sequences)\n",
    "MAX_SEQUENCE_LEN "
   ]
  },
  {
   "cell_type": "code",
   "execution_count": 10,
   "metadata": {
    "colab": {
     "base_uri": "https://localhost:8080/",
     "height": 985
    },
    "colab_type": "code",
    "id": "dOBEJlNaRmBb",
    "outputId": "87825074-74f3-4781-adfc-881eeca1dfbc"
   },
   "outputs": [
    {
     "name": "stdout",
     "output_type": "stream",
     "text": [
      "[[   0    0    0    0    0    0    0    0    0    0    0    0    0    0\n",
      "     0    0    0    0    0    0    0    0    0    0    0    0    0    0\n",
      "     0    0    0    0    0    0    0    0    0    0    0    0    0    0\n",
      "     0    0    0    0    0    0    0    0    0    0    0    0    0    0\n",
      "     0    0    0    0    0    0    0    0    0    0    0    0    0    0\n",
      "     0    0    0    0    0    0    0    0    0    0    0    0    0    0\n",
      "     0    0    0    0    0    0    0    0    0    0    0    0    0    0\n",
      "     0    0    0    0    0    0    0    0    0    0    0    0    0    0\n",
      "     0    0    0    0    0    0    0    0    0    0  143  246]\n",
      " [   0    0    0    0    0    0    0    0    0    0    0    0    0    0\n",
      "     0    0    0    0    0    0    0    0    0    0    0    0    0    0\n",
      "     0    0    0    0    0    0    0    0    0    0    0    0    0    0\n",
      "     0    0    0    0    0    0    0    0    0    0    0    0    0    0\n",
      "     0    0    0    0    0    0    0    0    0    0    0    0    0    0\n",
      "     0    0    0    0    0    0    0    0    0    0    0    0    0    0\n",
      "     0    0    0    0    0    0    0    0    0    0    0    0    0    0\n",
      "     0    0    0    0    0    0    0    0    0    0    0    0    0    0\n",
      "     0    0    0    0    0    0    0    0    0  143  246  372]\n",
      " [   0    0    0    0    0    0    0    0    0    0    0    0    0    0\n",
      "     0    0    0    0    0    0    0    0    0    0    0    0    0    0\n",
      "     0    0    0    0    0    0    0    0    0    0    0    0    0    0\n",
      "     0    0    0    0    0    0    0    0    0    0    0    0    0    0\n",
      "     0    0    0    0    0    0    0    0    0    0    0    0    0    0\n",
      "     0    0    0    0    0    0    0    0    0    0    0    0    0    0\n",
      "     0    0    0    0    0    0    0    0    0    0    0    0    0    0\n",
      "     0    0    0    0    0    0    0    0    0    0    0    0    0    0\n",
      "     0    0    0    0    0    0    0    0  143  246  372    4]\n",
      " [   0    0    0    0    0    0    0    0    0    0    0    0    0    0\n",
      "     0    0    0    0    0    0    0    0    0    0    0    0    0    0\n",
      "     0    0    0    0    0    0    0    0    0    0    0    0    0    0\n",
      "     0    0    0    0    0    0    0    0    0    0    0    0    0    0\n",
      "     0    0    0    0    0    0    0    0    0    0    0    0    0    0\n",
      "     0    0    0    0    0    0    0    0    0    0    0    0    0    0\n",
      "     0    0    0    0    0    0    0    0    0    0    0    0    0    0\n",
      "     0    0    0    0    0    0    0    0    0    0    0    0    0    0\n",
      "     0    0    0    0    0    0    0  143  246  372    4 1323]\n",
      " [   0    0    0    0    0    0    0    0    0    0    0    0    0    0\n",
      "     0    0    0    0    0    0    0    0    0    0    0    0    0    0\n",
      "     0    0    0    0    0    0    0    0    0    0    0    0    0    0\n",
      "     0    0    0    0    0    0    0    0    0    0    0    0    0    0\n",
      "     0    0    0    0    0    0    0    0    0    0    0    0    0    0\n",
      "     0    0    0    0    0    0    0    0    0    0    0    0    0    0\n",
      "     0    0    0    0    0    0    0    0    0    0    0    0    0    0\n",
      "     0    0    0    0    0    0    0    0    0    0    0    0    0    0\n",
      "     0    0    0    0    0    0  143  246  372    4 1323  740]\n",
      " [   0    0    0    0    0    0    0    0    0    0    0    0    0    0\n",
      "     0    0    0    0    0    0    0    0    0    0    0    0    0    0\n",
      "     0    0    0    0    0    0    0    0    0    0    0    0    0    0\n",
      "     0    0    0    0    0    0    0    0    0    0    0    0    0    0\n",
      "     0    0    0    0    0    0    0    0    0    0    0    0    0    0\n",
      "     0    0    0    0    0    0    0    0    0    0    0    0    0    0\n",
      "     0    0    0    0    0    0    0    0    0    0    0    0    0    0\n",
      "     0    0    0    0    0    0    0    0    0    0    0    0    0    0\n",
      "     0    0    0    0    0  143  246  372    4 1323  740  373]]\n"
     ]
    }
   ],
   "source": [
    "input_sequences = pad_sequences(input_sequences, maxlen=MAX_SEQUENCE_LEN, padding=\"pre\")\n",
    "print(input_sequences[:6])"
   ]
  },
  {
   "cell_type": "markdown",
   "metadata": {
    "colab_type": "text",
    "id": "Tey8y0PpRmBf"
   },
   "source": [
    "## input, label 분리 및 one-hot-encoding\n",
    "\n",
    "- 앞의 sequence 를 보고 next word 를 예측하는 model 이므로 \n",
    "    - input data 는 input_sequences[:-1],  \n",
    "    - label 은 input_sequences[-1] 로 분리\n"
   ]
  },
  {
   "cell_type": "code",
   "execution_count": 11,
   "metadata": {
    "colab": {
     "base_uri": "https://localhost:8080/",
     "height": 1000
    },
    "colab_type": "code",
    "id": "7P9fwBVFRmBg",
    "outputId": "a943a96d-2e59-45d3-eb71-e507c4979f5d"
   },
   "outputs": [
    {
     "name": "stdout",
     "output_type": "stream",
     "text": [
      "[[   0    0    0    0    0    0    0    0    0    0    0    0    0    0\n",
      "     0    0    0    0    0    0    0    0    0    0    0    0    0    0\n",
      "     0    0    0    0    0    0    0    0    0    0    0    0    0    0\n",
      "     0    0    0    0    0    0    0    0    0    0    0    0    0    0\n",
      "     0    0    0    0    0    0    0    0    0    0    0    0    0    0\n",
      "     0    0    0    0    0    0    0    0    0    0    0    0    0    0\n",
      "     0    0    0    0    0    0    0    0    0    0    0    0    0    0\n",
      "     0    0    0    0    0    0    0    0    0    0    0    0    0    0\n",
      "     0    0    0    0    0    0    0    0    0    0  143]\n",
      " [   0    0    0    0    0    0    0    0    0    0    0    0    0    0\n",
      "     0    0    0    0    0    0    0    0    0    0    0    0    0    0\n",
      "     0    0    0    0    0    0    0    0    0    0    0    0    0    0\n",
      "     0    0    0    0    0    0    0    0    0    0    0    0    0    0\n",
      "     0    0    0    0    0    0    0    0    0    0    0    0    0    0\n",
      "     0    0    0    0    0    0    0    0    0    0    0    0    0    0\n",
      "     0    0    0    0    0    0    0    0    0    0    0    0    0    0\n",
      "     0    0    0    0    0    0    0    0    0    0    0    0    0    0\n",
      "     0    0    0    0    0    0    0    0    0  143  246]\n",
      " [   0    0    0    0    0    0    0    0    0    0    0    0    0    0\n",
      "     0    0    0    0    0    0    0    0    0    0    0    0    0    0\n",
      "     0    0    0    0    0    0    0    0    0    0    0    0    0    0\n",
      "     0    0    0    0    0    0    0    0    0    0    0    0    0    0\n",
      "     0    0    0    0    0    0    0    0    0    0    0    0    0    0\n",
      "     0    0    0    0    0    0    0    0    0    0    0    0    0    0\n",
      "     0    0    0    0    0    0    0    0    0    0    0    0    0    0\n",
      "     0    0    0    0    0    0    0    0    0    0    0    0    0    0\n",
      "     0    0    0    0    0    0    0    0  143  246  372]\n",
      " [   0    0    0    0    0    0    0    0    0    0    0    0    0    0\n",
      "     0    0    0    0    0    0    0    0    0    0    0    0    0    0\n",
      "     0    0    0    0    0    0    0    0    0    0    0    0    0    0\n",
      "     0    0    0    0    0    0    0    0    0    0    0    0    0    0\n",
      "     0    0    0    0    0    0    0    0    0    0    0    0    0    0\n",
      "     0    0    0    0    0    0    0    0    0    0    0    0    0    0\n",
      "     0    0    0    0    0    0    0    0    0    0    0    0    0    0\n",
      "     0    0    0    0    0    0    0    0    0    0    0    0    0    0\n",
      "     0    0    0    0    0    0    0  143  246  372    4]\n",
      " [   0    0    0    0    0    0    0    0    0    0    0    0    0    0\n",
      "     0    0    0    0    0    0    0    0    0    0    0    0    0    0\n",
      "     0    0    0    0    0    0    0    0    0    0    0    0    0    0\n",
      "     0    0    0    0    0    0    0    0    0    0    0    0    0    0\n",
      "     0    0    0    0    0    0    0    0    0    0    0    0    0    0\n",
      "     0    0    0    0    0    0    0    0    0    0    0    0    0    0\n",
      "     0    0    0    0    0    0    0    0    0    0    0    0    0    0\n",
      "     0    0    0    0    0    0    0    0    0    0    0    0    0    0\n",
      "     0    0    0    0    0    0  143  246  372    4 1323]\n",
      " [   0    0    0    0    0    0    0    0    0    0    0    0    0    0\n",
      "     0    0    0    0    0    0    0    0    0    0    0    0    0    0\n",
      "     0    0    0    0    0    0    0    0    0    0    0    0    0    0\n",
      "     0    0    0    0    0    0    0    0    0    0    0    0    0    0\n",
      "     0    0    0    0    0    0    0    0    0    0    0    0    0    0\n",
      "     0    0    0    0    0    0    0    0    0    0    0    0    0    0\n",
      "     0    0    0    0    0    0    0    0    0    0    0    0    0    0\n",
      "     0    0    0    0    0    0    0    0    0    0    0    0    0    0\n",
      "     0    0    0    0    0  143  246  372    4 1323  740]]\n",
      "\n",
      "[ 246  372    4 1323  740  373]\n"
     ]
    }
   ],
   "source": [
    "xs, labels = input_sequences[:, :-1], input_sequences[:, -1]\n",
    "\n",
    "print(xs[:6])\n",
    "print()\n",
    "print(labels[:6])"
   ]
  },
  {
   "cell_type": "markdown",
   "metadata": {
    "colab_type": "text",
    "id": "dKR6t3-ORmBm"
   },
   "source": [
    "### label 을 one-hot-encoding\n",
    "\n",
    "- label 은 keras utility 를 사용하여 one hot encoding 한다.    \n",
    "\n",
    "\n",
    "- num_classes 는 pad_sequences 하며 0 이 추가 되었으므로 len(tokenizer.word_index)+1"
   ]
  },
  {
   "cell_type": "code",
   "execution_count": 12,
   "metadata": {
    "colab": {},
    "colab_type": "code",
    "id": "Hi-8xgOfRmBn"
   },
   "outputs": [],
   "source": [
    "num_words = len(tokenizer.word_index) + 1"
   ]
  },
  {
   "cell_type": "markdown",
   "metadata": {
    "colab_type": "text",
    "id": "i00-El8oRmBq"
   },
   "source": [
    "## Model 생성 및 train\n",
    "\n",
    "- m-to-1 model 이므로 return_sequence=False (default)  \n",
    "- Text generation 은 validation accuracy 가 의미 없음"
   ]
  },
  {
   "cell_type": "code",
   "execution_count": 33,
   "metadata": {
    "colab": {
     "base_uri": "https://localhost:8080/",
     "height": 268
    },
    "colab_type": "code",
    "id": "mxldL1yzRmBq",
    "outputId": "a8e69ce4-12e6-42f7-eea0-46832ef3cb38"
   },
   "outputs": [
    {
     "name": "stdout",
     "output_type": "stream",
     "text": [
      "Model: \"sequential_1\"\n",
      "_________________________________________________________________\n",
      "Layer (type)                 Output Shape              Param #   \n",
      "=================================================================\n",
      "embedding_1 (Embedding)      (None, None, 100)         459500    \n",
      "_________________________________________________________________\n",
      "bidirectional_1 (Bidirection (None, 100)               60400     \n",
      "_________________________________________________________________\n",
      "dense_1 (Dense)              (None, 4595)              464095    \n",
      "=================================================================\n",
      "Total params: 983,995\n",
      "Trainable params: 983,995\n",
      "Non-trainable params: 0\n",
      "_________________________________________________________________\n"
     ]
    }
   ],
   "source": [
    "model = Sequential()\n",
    "model.add(Embedding(num_words, 100))\n",
    "model.add(Bidirectional(LSTM(50)))\n",
    "model.add(Dense(num_words, activation='softmax'))\n",
    "\n",
    "adam = Adam(lr=0.01)\n",
    "\n",
    "model.compile(loss='sparse_categorical_crossentropy', optimizer=adam, metrics=['accuracy'])\n",
    "\n",
    "\n",
    "model.summary()"
   ]
  },
  {
   "cell_type": "code",
   "execution_count": 34,
   "metadata": {
    "colab": {
     "base_uri": "https://localhost:8080/",
     "height": 1000
    },
    "colab_type": "code",
    "id": "EQrLtGXlRmBt",
    "outputId": "2280d6bb-b6eb-4b6f-8cc5-a44c1063f74a",
    "scrolled": true
   },
   "outputs": [
    {
     "name": "stdout",
     "output_type": "stream",
     "text": [
      "Epoch 1/50\n",
      "252/252 [==============================] - 16s 65ms/step - loss: 8.0307 - accuracy: 0.0202 - val_loss: 8.2108 - val_accuracy: 0.0233\n",
      "Epoch 2/50\n",
      "252/252 [==============================] - 16s 63ms/step - loss: 7.1844 - accuracy: 0.0457 - val_loss: 8.5820 - val_accuracy: 0.0243\n",
      "Epoch 3/50\n",
      "252/252 [==============================] - 16s 63ms/step - loss: 6.0652 - accuracy: 0.0863 - val_loss: 9.0372 - val_accuracy: 0.0298\n",
      "Epoch 4/50\n",
      "252/252 [==============================] - 16s 62ms/step - loss: 4.6626 - accuracy: 0.1723 - val_loss: 9.5838 - val_accuracy: 0.0308\n",
      "Epoch 5/50\n",
      "252/252 [==============================] - 16s 62ms/step - loss: 3.2382 - accuracy: 0.3544 - val_loss: 10.2927 - val_accuracy: 0.0283\n",
      "Epoch 6/50\n",
      "252/252 [==============================] - 16s 63ms/step - loss: 2.0726 - accuracy: 0.5770 - val_loss: 11.0072 - val_accuracy: 0.0268\n",
      "Epoch 7/50\n",
      "252/252 [==============================] - 16s 62ms/step - loss: 1.2948 - accuracy: 0.7357 - val_loss: 11.4446 - val_accuracy: 0.0253\n",
      "Epoch 8/50\n",
      "252/252 [==============================] - 16s 62ms/step - loss: 0.8628 - accuracy: 0.8191 - val_loss: 11.9174 - val_accuracy: 0.0268\n",
      "Epoch 9/50\n",
      "252/252 [==============================] - 16s 62ms/step - loss: 0.6115 - accuracy: 0.8727 - val_loss: 12.1808 - val_accuracy: 0.0293\n",
      "Epoch 10/50\n",
      "252/252 [==============================] - 16s 62ms/step - loss: 0.4653 - accuracy: 0.8979 - val_loss: 12.5024 - val_accuracy: 0.0268\n",
      "Epoch 11/50\n",
      "252/252 [==============================] - 16s 62ms/step - loss: 0.3763 - accuracy: 0.9162 - val_loss: 12.7357 - val_accuracy: 0.0253\n",
      "Epoch 12/50\n",
      "252/252 [==============================] - 16s 62ms/step - loss: 0.3255 - accuracy: 0.9224 - val_loss: 12.8876 - val_accuracy: 0.0283\n",
      "Epoch 13/50\n",
      "252/252 [==============================] - 16s 62ms/step - loss: 0.2907 - accuracy: 0.9280 - val_loss: 13.0389 - val_accuracy: 0.0283\n",
      "Epoch 14/50\n",
      "252/252 [==============================] - 16s 63ms/step - loss: 0.2692 - accuracy: 0.9318 - val_loss: 13.1861 - val_accuracy: 0.0258\n",
      "Epoch 15/50\n",
      "252/252 [==============================] - 16s 63ms/step - loss: 0.2576 - accuracy: 0.9318 - val_loss: 13.3632 - val_accuracy: 0.0243\n",
      "Epoch 16/50\n",
      "252/252 [==============================] - 16s 63ms/step - loss: 0.2536 - accuracy: 0.9320 - val_loss: 13.5331 - val_accuracy: 0.0223\n",
      "Epoch 17/50\n",
      "252/252 [==============================] - 16s 63ms/step - loss: 0.2407 - accuracy: 0.9322 - val_loss: 13.6491 - val_accuracy: 0.0253\n",
      "Epoch 18/50\n",
      "252/252 [==============================] - 16s 63ms/step - loss: 0.2418 - accuracy: 0.9322 - val_loss: 13.8184 - val_accuracy: 0.0273\n",
      "Epoch 19/50\n",
      "252/252 [==============================] - 16s 62ms/step - loss: 0.2362 - accuracy: 0.9344 - val_loss: 13.9379 - val_accuracy: 0.0298\n",
      "Epoch 20/50\n",
      "252/252 [==============================] - 16s 63ms/step - loss: 0.2906 - accuracy: 0.9222 - val_loss: 13.8973 - val_accuracy: 0.0243\n",
      "Epoch 21/50\n",
      "252/252 [==============================] - 16s 62ms/step - loss: 1.7397 - accuracy: 0.5870 - val_loss: 13.7281 - val_accuracy: 0.0194\n",
      "Epoch 22/50\n",
      "252/252 [==============================] - 16s 63ms/step - loss: 1.7826 - accuracy: 0.5670 - val_loss: 13.9311 - val_accuracy: 0.0179\n",
      "Epoch 23/50\n",
      "252/252 [==============================] - 16s 63ms/step - loss: 0.7727 - accuracy: 0.8012 - val_loss: 14.2021 - val_accuracy: 0.0209\n",
      "Epoch 24/50\n",
      "252/252 [==============================] - 16s 62ms/step - loss: 0.4269 - accuracy: 0.8933 - val_loss: 14.3996 - val_accuracy: 0.0238\n",
      "Epoch 25/50\n",
      "252/252 [==============================] - 16s 63ms/step - loss: 0.2917 - accuracy: 0.9266 - val_loss: 14.5156 - val_accuracy: 0.0228\n",
      "Epoch 26/50\n",
      "252/252 [==============================] - 16s 63ms/step - loss: 0.2481 - accuracy: 0.9334 - val_loss: 14.6214 - val_accuracy: 0.0263\n",
      "Epoch 27/50\n",
      "252/252 [==============================] - 16s 63ms/step - loss: 0.2274 - accuracy: 0.9367 - val_loss: 14.7732 - val_accuracy: 0.0204\n",
      "Epoch 28/50\n",
      "252/252 [==============================] - 16s 63ms/step - loss: 0.2148 - accuracy: 0.9378 - val_loss: 14.8764 - val_accuracy: 0.0184\n",
      "Epoch 29/50\n",
      "252/252 [==============================] - 16s 63ms/step - loss: 0.2141 - accuracy: 0.9358 - val_loss: 14.9711 - val_accuracy: 0.0238\n",
      "Epoch 30/50\n",
      "252/252 [==============================] - 16s 63ms/step - loss: 0.2089 - accuracy: 0.9347 - val_loss: 15.0326 - val_accuracy: 0.0238\n",
      "Epoch 31/50\n",
      "252/252 [==============================] - 16s 63ms/step - loss: 0.2066 - accuracy: 0.9372 - val_loss: 15.1274 - val_accuracy: 0.0233\n",
      "Epoch 32/50\n",
      "252/252 [==============================] - 16s 63ms/step - loss: 0.2064 - accuracy: 0.9357 - val_loss: 15.1804 - val_accuracy: 0.0228\n",
      "Epoch 33/50\n",
      "252/252 [==============================] - 16s 63ms/step - loss: 0.2076 - accuracy: 0.9361 - val_loss: 15.2791 - val_accuracy: 0.0209\n",
      "Epoch 34/50\n",
      "252/252 [==============================] - 16s 62ms/step - loss: 0.2044 - accuracy: 0.9384 - val_loss: 15.2953 - val_accuracy: 0.0214\n",
      "Epoch 35/50\n",
      "252/252 [==============================] - 16s 63ms/step - loss: 0.2054 - accuracy: 0.9362 - val_loss: 15.3979 - val_accuracy: 0.0209\n",
      "Epoch 36/50\n",
      "252/252 [==============================] - 16s 63ms/step - loss: 0.2044 - accuracy: 0.9368 - val_loss: 15.4995 - val_accuracy: 0.0223\n",
      "Epoch 37/50\n",
      "252/252 [==============================] - 16s 62ms/step - loss: 0.2083 - accuracy: 0.9368 - val_loss: 15.5821 - val_accuracy: 0.0233\n",
      "Epoch 38/50\n",
      "252/252 [==============================] - 16s 63ms/step - loss: 0.2140 - accuracy: 0.9352 - val_loss: 15.6384 - val_accuracy: 0.0223\n",
      "Epoch 39/50\n",
      "252/252 [==============================] - 16s 62ms/step - loss: 0.3298 - accuracy: 0.9074 - val_loss: 15.5974 - val_accuracy: 0.0174\n",
      "Epoch 40/50\n",
      "252/252 [==============================] - 16s 63ms/step - loss: 1.9190 - accuracy: 0.5408 - val_loss: 15.2523 - val_accuracy: 0.0194\n",
      "Epoch 41/50\n",
      "252/252 [==============================] - 16s 63ms/step - loss: 1.3673 - accuracy: 0.6490 - val_loss: 15.4682 - val_accuracy: 0.0238\n",
      "Epoch 42/50\n",
      "252/252 [==============================] - 16s 63ms/step - loss: 0.5848 - accuracy: 0.8460 - val_loss: 15.7872 - val_accuracy: 0.0253\n",
      "Epoch 43/50\n",
      "252/252 [==============================] - 16s 63ms/step - loss: 0.3490 - accuracy: 0.9084 - val_loss: 15.9055 - val_accuracy: 0.0218\n",
      "Epoch 44/50\n",
      "252/252 [==============================] - 16s 63ms/step - loss: 0.2644 - accuracy: 0.9274 - val_loss: 16.0537 - val_accuracy: 0.0263\n",
      "Epoch 45/50\n",
      "252/252 [==============================] - 16s 63ms/step - loss: 0.2304 - accuracy: 0.9362 - val_loss: 16.1827 - val_accuracy: 0.0199\n",
      "Epoch 46/50\n",
      "252/252 [==============================] - 16s 63ms/step - loss: 0.2203 - accuracy: 0.9336 - val_loss: 16.2683 - val_accuracy: 0.0233\n",
      "Epoch 47/50\n",
      "252/252 [==============================] - 16s 63ms/step - loss: 0.2109 - accuracy: 0.9379 - val_loss: 16.3245 - val_accuracy: 0.0184\n",
      "Epoch 48/50\n",
      "252/252 [==============================] - 16s 63ms/step - loss: 0.2124 - accuracy: 0.9351 - val_loss: 16.4264 - val_accuracy: 0.0233\n",
      "Epoch 49/50\n",
      "252/252 [==============================] - 16s 63ms/step - loss: 0.2106 - accuracy: 0.9358 - val_loss: 16.4590 - val_accuracy: 0.0243\n",
      "Epoch 50/50\n",
      "252/252 [==============================] - 16s 63ms/step - loss: 0.2047 - accuracy: 0.9362 - val_loss: 16.5817 - val_accuracy: 0.0238\n"
     ]
    }
   ],
   "source": [
    "%%time\n",
    "history = model.fit(xs, labels, epochs=50, verbose=1, validation_split=0.2)"
   ]
  },
  {
   "cell_type": "code",
   "execution_count": 35,
   "metadata": {
    "colab": {
     "base_uri": "https://localhost:8080/",
     "height": 265
    },
    "colab_type": "code",
    "id": "gNrnkliYRmBw",
    "outputId": "270e3649-277a-4e83-8c63-c6edd5ccd1e8"
   },
   "outputs": [
    {
     "data": {
      "image/png": "[encoded data removed]",
      "text/plain": [
       "<Figure size 864x288 with 2 Axes>"
      ]
     },
     "metadata": {
      "needs_background": "light",
      "tags": []
     },
     "output_type": "display_data"
    }
   ],
   "source": [
    "import matplotlib.pyplot as plt\n",
    "%matplotlib inline\n",
    "\n",
    "fig, (ax1, ax2) = plt.subplots(1, 2, figsize=(12, 4))\n",
    "\n",
    "ax1.plot(history.history['loss'], label='loss')\n",
    "ax1.plot(history.history['val_loss'], label='val_loss')\n",
    "ax1.legend()\n",
    "ax2.plot(history.history['accuracy'], label='accuracy')\n",
    "ax2.plot(history.history['val_accuracy'], label=\"val_accuracy\")\n",
    "ax2.legend();"
   ]
  },
  {
   "cell_type": "markdown",
   "metadata": {
    "colab_type": "text",
    "id": "0c3WwfyaRmB0"
   },
   "source": [
    "### 학습된 model 을 이용하여 text 생성"
   ]
  },
  {
   "cell_type": "code",
   "execution_count": 37,
   "metadata": {
    "colab": {
     "base_uri": "https://localhost:8080/",
     "height": 35
    },
    "colab_type": "code",
    "id": "Udz7VppvRmB1",
    "outputId": "25460f85-36c4-474e-c639-49a86ed59a34"
   },
   "outputs": [
    {
     "name": "stdout",
     "output_type": "stream",
     "text": [
      "[[374, 146, 247, 127, 144]]\n"
     ]
    }
   ],
   "source": [
    "next_words = 100\n",
    "\n",
    "#seed_text = \"yj went to dublin\"\n",
    "\n",
    "seed_text = \"구렁이 그림을 그린 적이 있다.\"\n",
    "\n",
    "print(tokenizer.texts_to_sequences([seed_text]))"
   ]
  },
  {
   "cell_type": "markdown",
   "metadata": {
    "colab_type": "text",
    "id": "TFALnT62W9gF"
   },
   "source": [
    "## Text Generation algorithm  \n",
    "- Text Generation 하는 방법은 기계번역의 Seq2seq model 의 decoder 가 translation 문장을 생성하는 방법과 동일"
   ]
  },
  {
   "cell_type": "code",
   "execution_count": 38,
   "metadata": {
    "colab": {
     "base_uri": "https://localhost:8080/",
     "height": 55
    },
    "colab_type": "code",
    "id": "qRCvZek4RmB4",
    "outputId": "75b55907-e3e6-473b-db84-90ec8c120cb8"
   },
   "outputs": [
    {
     "data": {
      "text/plain": [
       "'구렁이 그림을 그린 적이 있다. 대한 왕자가 있는 것이었다 나는 그를 두 팔로껴안았다 그를 부드럽게 흔들면서 나는 말했다 그는 이해할 수가 없었다 그렇지만그는 속으로 중얼거렸다 그래서 그 꽃에 마지막으로 물을 주고 유리덮개를 씌워 주려는 순간 그는 울고 싶은 심정이었다 것이다 나도 조금은 어른들과 비슷한지도 모를 일이다 아마 늙은 모양이다 그린 것은내 된옷을 어떻게 입고 가장 부 자고 가장 똑똑하다고 인정해 주는 거지 그래서 이 세상 아무데도 없고 오직 나의 별에만 있는 이 세상에 단 하나뿐인 한 송이 꽃을 내가 알고 있고 작은 양이 어느 날 아침 무심코 그걸 먹어 버릴 수도 있다는 건 중요한 일이 아니라는 거지 양과 꽃들의 전쟁은 중요한게 아니라는 거지 그건 붉은'"
      ]
     },
     "execution_count": 38,
     "metadata": {
      "tags": []
     },
     "output_type": "execute_result"
    }
   ],
   "source": [
    "idx2word = dict((i, c) for (c, i) in word2idx.items())\n",
    "\n",
    "for _ in range(next_words):\n",
    "    \n",
    "    token_list = tokenizer.texts_to_sequences([seed_text])[0]\n",
    "    token_list = pad_sequences([token_list], maxlen=MAX_SEQUENCE_LEN, padding='pre')\n",
    "    \n",
    "    predicted = model.predict_classes(token_list)\n",
    "    output_word = idx2word[predicted[0]]\n",
    "    \n",
    "    seed_text += \" \" + output_word\n",
    "    \n",
    "seed_text"
   ]
  },
  {
   "cell_type": "code",
   "execution_count": 0,
   "metadata": {
    "colab": {},
    "colab_type": "code",
    "id": "X317DyqNWA9y"
   },
   "outputs": [],
   "source": []
  }
 ],
 "metadata": {
  "accelerator": "GPU",
  "colab": {
   "collapsed_sections": [],
   "name": "060_Text_Generation_large_poetry_next_word.ipynb",
   "provenance": []
  },
  "kernelspec": {
   "display_name": "Python 3",
   "language": "python",
   "name": "python3"
  },
  "language_info": {
   "codemirror_mode": {
    "name": "ipython",
    "version": 3
   },
   "file_extension": ".py",
   "mimetype": "text/x-python",
   "name": "python",
   "nbconvert_exporter": "python",
   "pygments_lexer": "ipython3",
   "version": "3.7.10"
  }
 },
 "nbformat": 4,
 "nbformat_minor": 1
}
