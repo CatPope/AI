{
 "cells": [
  {
   "cell_type": "markdown",
   "metadata": {
    "id": "YHCuTgV1smz9"
   },
   "source": [
    "# 045. Overfitting in NLP and Transfer Learning of pre-trained Glove model\n",
    "\n",
    "- text classification 이 overfitting 되기 쉬운 주요 원인 중 하나는 training dataset 이 상당히 작고 단어 수가 작기 때문  \n",
    "\n",
    "\n",
    "- 이러한 작은 dataset 에서 생성된 embedding 역시 over-generalize 된다. 이에 대한 해결책으로 large dataset 의 training 과 이미 만들어 놓은 embedding 의 transfer learning 을 연습한다.  \n",
    "\n",
    "\n",
    "- dataset 은 kaggle 의 sentiment140 dataset (https://www.kaggle.com/kazanova/sentiment140) 의 clean-up version 이용.\n",
    "    - twitter api 로 추출된 1,600,000 tweet (233 MB)\n",
    "    - 0 = negative, 2 = neutral, 4 = positive 로 구분되어  sentiment 분석 사용 가능\n",
    "    - 다음의 6 field 로 구성\n",
    "        - 1. target: the polarity of the tweet (0 = negative, 2 = neutral, 4 = positive)\n",
    "        - 2. ids: The id of the tweet ( 2087)\n",
    "        - 3. date: the date of the tweet\n",
    "        - 4. flag: The query (lyx). If there is no query, then this value is NO_QUERY\n",
    "        - 5. user: the user that tweeted\n",
    "        - 6. text: the text of the tweet   \n",
    "        \n",
    "        \n",
    "\n",
    "- embedding 은 pre-trained GloVe (Global Vectors for Word Representation, https://nlp.stanford.edu/projects/glove/) 사용"
   ]
  },
  {
   "cell_type": "code",
   "execution_count": 4,
   "metadata": {
    "id": "hmA6EzkQJ5jt"
   },
   "outputs": [],
   "source": [
    "import json\n",
    "import tensorflow as tf\n",
    "import csv\n",
    "import random\n",
    "import numpy as np\n",
    "\n",
    "from tensorflow.keras.preprocessing.text import Tokenizer\n",
    "from tensorflow.keras.preprocessing.sequence import pad_sequences\n",
    "from tensorflow.keras.utils import to_categorical\n",
    "\n",
    "EMBEDDING_DIMS = 100\n",
    "MAX_VOCAB = 10000\n",
    "MAX_LENGTH = 16\n",
    "trunc_type='post'\n",
    "padding_type='post'\n",
    "oov_tok = \"<OOV>\"\n",
    "TRAINING_SIZE = 400000  # Large dataset 사용 (1,600,000 twit 중 25% 사용)\n",
    "test_portion = .1"
   ]
  },
  {
   "cell_type": "markdown",
   "metadata": {
    "id": "q-VfD6I1sm0F"
   },
   "source": [
    "### 전처리된 large dataset 사용\n",
    "\n",
    "- 230 MB 의 sentiment140 dataset 불러오기"
   ]
  },
  {
   "cell_type": "code",
   "execution_count": 16,
   "metadata": {},
   "outputs": [],
   "source": [
    "# !pip install gdown"
   ]
  },
  {
   "cell_type": "code",
   "execution_count": 11,
   "metadata": {},
   "outputs": [
    {
     "name": "stderr",
     "output_type": "stream",
     "text": [
      "Downloading...\n",
      "From: https://drive.google.com/uc?id=1--2QMnuNzkX6VI7CGrbVjncjqaO0NFyb\n",
      "To: /Users/ohyoungjea/OneDrive/NLP_Lecture/training_cleaned.csv\n",
      "239MB [00:36, 6.64MB/s] \n"
     ]
    },
    {
     "data": {
      "text/plain": [
       "'training_cleaned.csv'"
      ]
     },
     "execution_count": 11,
     "metadata": {},
     "output_type": "execute_result"
    }
   ],
   "source": [
    "url = 'https://drive.google.com/uc?id=1--2QMnuNzkX6VI7CGrbVjncjqaO0NFyb'\n",
    "output = 'training_cleaned.csv'\n",
    "gdown.download(url, output, quiet=False)"
   ]
  },
  {
   "cell_type": "code",
   "execution_count": 14,
   "metadata": {
    "colab": {
     "base_uri": "https://localhost:8080/",
     "height": 198
    },
    "id": "fWKoPUIWwSl-",
    "outputId": "39722d52-f55e-4e7f-9b0f-91bc1a0e3816"
   },
   "outputs": [
    {
     "data": {
      "text/html": [
       "<div>\n",
       "<style scoped>\n",
       "    .dataframe tbody tr th:only-of-type {\n",
       "        vertical-align: middle;\n",
       "    }\n",
       "\n",
       "    .dataframe tbody tr th {\n",
       "        vertical-align: top;\n",
       "    }\n",
       "\n",
       "    .dataframe thead th {\n",
       "        text-align: right;\n",
       "    }\n",
       "</style>\n",
       "<table border=\"1\" class=\"dataframe\">\n",
       "  <thead>\n",
       "    <tr style=\"text-align: right;\">\n",
       "      <th></th>\n",
       "      <th>0</th>\n",
       "      <th>1</th>\n",
       "      <th>2</th>\n",
       "      <th>3</th>\n",
       "      <th>4</th>\n",
       "      <th>5</th>\n",
       "    </tr>\n",
       "  </thead>\n",
       "  <tbody>\n",
       "    <tr>\n",
       "      <th>0</th>\n",
       "      <td>0</td>\n",
       "      <td>1467810369</td>\n",
       "      <td>Mon Apr 06 22:19:45 PDT 2009</td>\n",
       "      <td>NO_QUERY</td>\n",
       "      <td>_TheSpecialOne_</td>\n",
       "      <td>@switchfoot http://twitpic.com/2y1zl - Awww, t...</td>\n",
       "    </tr>\n",
       "    <tr>\n",
       "      <th>1</th>\n",
       "      <td>0</td>\n",
       "      <td>1467810672</td>\n",
       "      <td>Mon Apr 06 22:19:49 PDT 2009</td>\n",
       "      <td>NO_QUERY</td>\n",
       "      <td>scotthamilton</td>\n",
       "      <td>is upset that he can't update his Facebook by ...</td>\n",
       "    </tr>\n",
       "    <tr>\n",
       "      <th>2</th>\n",
       "      <td>0</td>\n",
       "      <td>1467810917</td>\n",
       "      <td>Mon Apr 06 22:19:53 PDT 2009</td>\n",
       "      <td>NO_QUERY</td>\n",
       "      <td>mattycus</td>\n",
       "      <td>@Kenichan I dived many times for the ball. Man...</td>\n",
       "    </tr>\n",
       "    <tr>\n",
       "      <th>3</th>\n",
       "      <td>0</td>\n",
       "      <td>1467811184</td>\n",
       "      <td>Mon Apr 06 22:19:57 PDT 2009</td>\n",
       "      <td>NO_QUERY</td>\n",
       "      <td>ElleCTF</td>\n",
       "      <td>my whole body feels itchy and like its on fire</td>\n",
       "    </tr>\n",
       "    <tr>\n",
       "      <th>4</th>\n",
       "      <td>0</td>\n",
       "      <td>1467811193</td>\n",
       "      <td>Mon Apr 06 22:19:57 PDT 2009</td>\n",
       "      <td>NO_QUERY</td>\n",
       "      <td>Karoli</td>\n",
       "      <td>@nationwideclass no, it's not behaving at all....</td>\n",
       "    </tr>\n",
       "  </tbody>\n",
       "</table>\n",
       "</div>"
      ],
      "text/plain": [
       "   0           1                             2         3                4  \\\n",
       "0  0  1467810369  Mon Apr 06 22:19:45 PDT 2009  NO_QUERY  _TheSpecialOne_   \n",
       "1  0  1467810672  Mon Apr 06 22:19:49 PDT 2009  NO_QUERY    scotthamilton   \n",
       "2  0  1467810917  Mon Apr 06 22:19:53 PDT 2009  NO_QUERY         mattycus   \n",
       "3  0  1467811184  Mon Apr 06 22:19:57 PDT 2009  NO_QUERY          ElleCTF   \n",
       "4  0  1467811193  Mon Apr 06 22:19:57 PDT 2009  NO_QUERY           Karoli   \n",
       "\n",
       "                                                   5  \n",
       "0  @switchfoot http://twitpic.com/2y1zl - Awww, t...  \n",
       "1  is upset that he can't update his Facebook by ...  \n",
       "2  @Kenichan I dived many times for the ball. Man...  \n",
       "3    my whole body feels itchy and like its on fire   \n",
       "4  @nationwideclass no, it's not behaving at all....  "
      ]
     },
     "execution_count": 14,
     "metadata": {},
     "output_type": "execute_result"
    }
   ],
   "source": [
    "import pandas as pd\n",
    "\n",
    "df = pd.read_csv(output, header=None)\n",
    "df.head()"
   ]
  },
  {
   "cell_type": "code",
   "execution_count": 15,
   "metadata": {
    "colab": {
     "base_uri": "https://localhost:8080/"
    },
    "id": "Iv85vAy-CXDJ",
    "outputId": "9ba3f262-f2ac-426e-babb-3c15334dff2e"
   },
   "outputs": [
    {
     "data": {
      "text/plain": [
       "array([0, 4])"
      ]
     },
     "execution_count": 15,
     "metadata": {},
     "output_type": "execute_result"
    }
   ],
   "source": [
    "df[0].unique()"
   ]
  },
  {
   "cell_type": "markdown",
   "metadata": {
    "id": "VAOl7grfyPp8"
   },
   "source": [
    "- column 5 를 text, column 0 를 label 로 사용  \n",
    "- label 이 0 과 4 이므로 0 이면 0, 4 면 1 로 labeling"
   ]
  },
  {
   "cell_type": "code",
   "execution_count": 5,
   "metadata": {
    "id": "QIi65ppIw1Ta"
   },
   "outputs": [],
   "source": [
    "corpus = []\n",
    "\n",
    "for text, label in zip(df.iloc[:, 5], df.iloc[:, 0]):\n",
    "    list_item = []\n",
    "    list_item.append(text)\n",
    "    if label == 0:\n",
    "        list_item.append(0)\n",
    "    else:\n",
    "        list_item.append(1)\n",
    "    corpus.append(list_item)"
   ]
  },
  {
   "cell_type": "code",
   "execution_count": 6,
   "metadata": {
    "colab": {
     "base_uri": "https://localhost:8080/"
    },
    "id": "owVFA_GBsm0K",
    "outputId": "c9958fa8-b9ad-41d3-ec6d-952ccd7f6303"
   },
   "outputs": [
    {
     "name": "stdout",
     "output_type": "stream",
     "text": [
      "1600000\n"
     ]
    },
    {
     "data": {
      "text/plain": [
       "[[\"@switchfoot http://twitpic.com/2y1zl - Awww, that's a bummer.  You shoulda got David Carr of Third Day to do it. ;D\",\n",
       "  0],\n",
       " [\"is upset that he can't update his Facebook by texting it... and might cry as a result  School today also. Blah!\",\n",
       "  0],\n",
       " ['@Kenichan I dived many times for the ball. Managed to save 50%  The rest go out of bounds',\n",
       "  0],\n",
       " ['my whole body feels itchy and like its on fire ', 0],\n",
       " [\"@nationwideclass no, it's not behaving at all. i'm mad. why am i here? because I can't see you all over there. \",\n",
       "  0]]"
      ]
     },
     "execution_count": 6,
     "metadata": {
      "tags": []
     },
     "output_type": "execute_result"
    }
   ],
   "source": [
    "print(len(corpus))\n",
    "corpus[:5]"
   ]
  },
  {
   "cell_type": "markdown",
   "metadata": {
    "id": "NgNMBByVsm0P"
   },
   "source": [
    "## text, label 분리 및 train, test set 분리"
   ]
  },
  {
   "cell_type": "code",
   "execution_count": 7,
   "metadata": {
    "id": "ohOGz24lsNAD"
   },
   "outputs": [],
   "source": [
    "sentences=[]\n",
    "labels=[]\n",
    "random.shuffle(corpus)\n",
    "\n",
    "for i in range(TRAINING_SIZE):\n",
    "    sentences.append(corpus[i][0])  \n",
    "    labels.append(corpus[i][1])  \n",
    "\n",
    "tokenizer = Tokenizer(num_words=MAX_VOCAB)\n",
    "tokenizer.fit_on_texts(sentences)  \n",
    "\n",
    "word_index = tokenizer.word_index\n",
    "vocab_size=len(word_index)  \n",
    "\n",
    "sequences = tokenizer.texts_to_sequences(sentences)  \n",
    "padded = pad_sequences(sequences, maxlen=MAX_LENGTH, padding=padding_type, truncating=trunc_type) \n",
    "\n",
    "split = int(test_portion * TRAINING_SIZE)\n",
    "\n",
    "test_sequences = padded[:split]  \n",
    "training_sequences = padded[split:TRAINING_SIZE]  \n",
    "test_labels = np.array(labels[:split])\n",
    "training_labels = np.array(labels[split:TRAINING_SIZE])"
   ]
  },
  {
   "cell_type": "code",
   "execution_count": 8,
   "metadata": {
    "colab": {
     "base_uri": "https://localhost:8080/"
    },
    "id": "gIrtRem1En3N",
    "outputId": "048dec97-d871-49a2-995d-88792249e3c7"
   },
   "outputs": [
    {
     "name": "stdout",
     "output_type": "stream",
     "text": [
      "266449\n",
      "[('i', 1), ('to', 2), ('the', 3), ('a', 4), ('my', 5), ('and', 6), ('you', 7), ('is', 8), ('it', 9), ('in', 10), ('for', 11), ('of', 12), ('on', 13), ('me', 14), ('so', 15), ('have', 16), ('that', 17), ('but', 18), (\"i'm\", 19), ('just', 20)]\n",
      "360000\n",
      "40000\n",
      "360000\n",
      "40000\n"
     ]
    }
   ],
   "source": [
    "print(vocab_size)\n",
    "print(list(word_index.items())[:20])\n",
    "print(len(training_sequences))\n",
    "print(len(test_sequences))\n",
    "print(len(training_labels))\n",
    "print(len(test_labels))"
   ]
  },
  {
   "cell_type": "markdown",
   "metadata": {
    "id": "nbfadhRdsm0h"
   },
   "source": [
    "### transfer learning\n",
    "\n",
    "- Embedding layer 의 weights 에 glove.6B.100d.txt 에서 읽어드린 weight load\n",
    "\n",
    "- trainable=False, True 비교"
   ]
  },
  {
   "cell_type": "code",
   "execution_count": 9,
   "metadata": {
    "colab": {
     "base_uri": "https://localhost:8080/"
    },
    "id": "pY__oYsMsm0i",
    "outputId": "07f44e5c-5a0c-46d9-827a-7e94b02a3aa4"
   },
   "outputs": [
    {
     "name": "stdout",
     "output_type": "stream",
     "text": [
      "Model: \"sequential\"\n",
      "_________________________________________________________________\n",
      "Layer (type)                 Output Shape              Param #   \n",
      "=================================================================\n",
      "embedding (Embedding)        (None, 16, 100)           26645000  \n",
      "_________________________________________________________________\n",
      "bidirectional (Bidirectional (None, 16, 128)           84480     \n",
      "_________________________________________________________________\n",
      "bidirectional_1 (Bidirection (None, 64)                41216     \n",
      "_________________________________________________________________\n",
      "dense (Dense)                (None, 64)                4160      \n",
      "_________________________________________________________________\n",
      "dense_1 (Dense)              (None, 1)                 65        \n",
      "=================================================================\n",
      "Total params: 26,774,921\n",
      "Trainable params: 26,774,921\n",
      "Non-trainable params: 0\n",
      "_________________________________________________________________\n"
     ]
    }
   ],
   "source": [
    "model = tf.keras.Sequential([    \n",
    "    tf.keras.layers.Embedding(vocab_size+1, EMBEDDING_DIMS, input_length=MAX_LENGTH),\n",
    "    tf.keras.layers.Bidirectional(tf.keras.layers.LSTM(64, return_sequences=True)),\n",
    "    tf.keras.layers.Bidirectional(tf.keras.layers.LSTM(32)),\n",
    "    tf.keras.layers.Dense(64, activation='relu'),\n",
    "    tf.keras.layers.Dense(1, activation='sigmoid')\n",
    "])\n",
    "\n",
    "model.compile(loss='binary_crossentropy',optimizer='adam',metrics=['accuracy']) \n",
    "model.summary()"
   ]
  },
  {
   "cell_type": "code",
   "execution_count": 10,
   "metadata": {
    "colab": {
     "base_uri": "https://localhost:8080/"
    },
    "id": "iKKvbuEBOGFz",
    "outputId": "0e30ffff-2768-4e15-997c-d9ed0e4af3e3",
    "scrolled": false
   },
   "outputs": [
    {
     "name": "stdout",
     "output_type": "stream",
     "text": [
      "Epoch 1/10\n",
      "704/704 [==============================] - 212s 250ms/step - loss: 0.5178 - accuracy: 0.7341 - val_loss: 0.4507 - val_accuracy: 0.7860\n",
      "Epoch 2/10\n",
      "704/704 [==============================] - 174s 248ms/step - loss: 0.4293 - accuracy: 0.7984 - val_loss: 0.4398 - val_accuracy: 0.7940\n",
      "Epoch 3/10\n",
      "704/704 [==============================] - 175s 249ms/step - loss: 0.4060 - accuracy: 0.8112 - val_loss: 0.4433 - val_accuracy: 0.7952\n",
      "Epoch 4/10\n",
      "704/704 [==============================] - 175s 248ms/step - loss: 0.3858 - accuracy: 0.8227 - val_loss: 0.4433 - val_accuracy: 0.7966\n",
      "Epoch 5/10\n",
      "704/704 [==============================] - 174s 248ms/step - loss: 0.3653 - accuracy: 0.8335 - val_loss: 0.4472 - val_accuracy: 0.7964\n",
      "Epoch 6/10\n",
      "704/704 [==============================] - 174s 247ms/step - loss: 0.3434 - accuracy: 0.8449 - val_loss: 0.4818 - val_accuracy: 0.7884\n",
      "Epoch 7/10\n",
      "704/704 [==============================] - 174s 247ms/step - loss: 0.3226 - accuracy: 0.8560 - val_loss: 0.5025 - val_accuracy: 0.7879\n",
      "Epoch 8/10\n",
      "704/704 [==============================] - 174s 248ms/step - loss: 0.3014 - accuracy: 0.8661 - val_loss: 0.5427 - val_accuracy: 0.7825\n",
      "Epoch 9/10\n",
      "704/704 [==============================] - 175s 249ms/step - loss: 0.2799 - accuracy: 0.8761 - val_loss: 0.5848 - val_accuracy: 0.7809\n",
      "Epoch 10/10\n",
      "704/704 [==============================] - 174s 247ms/step - loss: 0.2610 - accuracy: 0.8850 - val_loss: 0.6541 - val_accuracy: 0.7802\n",
      "Training Complete, running time : 1.8e+03 seconds\n"
     ]
    }
   ],
   "source": [
    "import time\n",
    "\n",
    "s = time.time()\n",
    "num_epochs = 10\n",
    "history = model.fit(training_sequences, training_labels, epochs=num_epochs, batch_size=512,\n",
    "                                    validation_data=(test_sequences, test_labels), verbose=1)\n",
    "\n",
    "e = time.time()\n",
    "print(\"Training Complete, running time : {:.2} seconds\".format((e-s)))"
   ]
  },
  {
   "cell_type": "code",
   "execution_count": 11,
   "metadata": {
    "colab": {
     "base_uri": "https://localhost:8080/",
     "height": 591
    },
    "id": "qxju4ItJKO8F",
    "outputId": "b46d85df-7ee1-4ea4-cb51-2f19d443bed2"
   },
   "outputs": [
    {
     "data": {
      "text/plain": [
       "<matplotlib.legend.Legend at 0x7f54b0a38fd0>"
      ]
     },
     "execution_count": 11,
     "metadata": {
      "tags": []
     },
     "output_type": "execute_result"
    },
    {
     "data": {
      "image/png": "[encoded data removed]",
      "text/plain": [
       "<Figure size 432x288 with 1 Axes>"
      ]
     },
     "metadata": {
      "needs_background": "light",
      "tags": []
     },
     "output_type": "display_data"
    },
    {
     "data": {
      "image/png": "[encoded data removed]",
      "text/plain": [
       "<Figure size 432x288 with 1 Axes>"
      ]
     },
     "metadata": {
      "needs_background": "light",
      "tags": []
     },
     "output_type": "display_data"
    }
   ],
   "source": [
    "import matplotlib.image  as mpimg\n",
    "import matplotlib.pyplot as plt\n",
    "%matplotlib inline\n",
    "\n",
    "plt.figure()\n",
    "\n",
    "acc = history.history['accuracy']\n",
    "val_acc = history.history['val_accuracy']\n",
    "loss = history.history['loss']\n",
    "val_loss = history.history['val_loss']\n",
    "\n",
    "epochs = range(len(acc)) \n",
    "\n",
    "plt.plot(epochs, acc, 'r')\n",
    "plt.plot(epochs, val_acc, 'b')\n",
    "plt.title('Training and validation accuracy')\n",
    "plt.xlabel(\"Epochs\")\n",
    "plt.ylabel(\"Accuracy\")\n",
    "plt.legend([\"Accuracy\", \"Validation Accuracy\"])\n",
    "\n",
    "plt.figure()\n",
    "\n",
    "plt.plot(epochs, loss, 'r')\n",
    "plt.plot(epochs, val_loss, 'b')\n",
    "plt.title('Training and validation loss')\n",
    "plt.xlabel(\"Epochs\")\n",
    "plt.ylabel(\"Loss\")\n",
    "plt.legend([\"Loss\", \"Validation Loss\"])"
   ]
  },
  {
   "cell_type": "markdown",
   "metadata": {
    "id": "oLhArbO8WRD8"
   },
   "source": [
    "## Transfer Learning - GloVe\n",
    "\n",
    "- GloVe 의 100 dimension version 사용  "
   ]
  },
  {
   "cell_type": "code",
   "execution_count": 29,
   "metadata": {
    "colab": {
     "base_uri": "https://localhost:8080/"
    },
    "id": "eodsggwAbWu4",
    "outputId": "31691581-f14b-40c9-92a4-6f1a9ba8defb"
   },
   "outputs": [
    {
     "name": "stdout",
     "output_type": "stream",
     "text": [
      "Downloading...\n",
      "From: https://drive.google.com/uc?id=1zR1TJm9hjqinSU0OkCcAmaVjfeTgmoOC\n",
      "To: /content/glove.6B.100d.txt\n",
      "347MB [00:04, 74.9MB/s]\n"
     ]
    }
   ],
   "source": [
    "!gdown https://drive.google.com/uc?id=1zR1TJm9hjqinSU0OkCcAmaVjfeTgmoOC"
   ]
  },
  {
   "cell_type": "markdown",
   "metadata": {
    "id": "fxwCJX4wYtH_"
   },
   "source": [
    "### pre-trained 된 GloVe model 의 weight 를 가져옴\n",
    "\n",
    "- glove.6B.100d.txt 의 각 line 은 word 와 해당 embedding 값의 100 dimension list 로 구성  \n",
    "\n",
    "```\n",
    "**of** -0.1529 -0.24279 0.89837 0.16996 0.53516 0.48784 -0.58826 -0.17982 -1.3581 0.42541 0.15377 0.24215 0.13474 0.41193 0.67043 -0.56418 0.42985 -0.012183 -0.11677 0.31781 0.054177 -0.054273 0.35516 -0.30241 0.31434 -0.33846 0.71715 -0.26855 -0.15837 -0.47467 0.051581 -0.33252 0.15003 -0.1299 -0.54617 -0.37843 0.64261 0.82187 -0.080006 0.078479 -0.96976 -0.57741 0.56491 -0.39873 -0.057099 0.19743 0.065706 -0.48092 -0.20125 -0.40834 0.39456 -0.02642 -0.11838 1.012 -0.53171 -2.7474 -0.042981 -0.74849 1.7574 0.59085 0.04885 0.78267 0.38497 0.42097 0.67882 0.10337 0.6328 -0.026595 0.58647 -0.44332 0.33057 -0.12022 -0.55645 0.073611 0.20915 0.43395 -0.012761 0.089874 -1.7991 0.084808 0.77112 0.63105 -0.90685 0.60326 -1.7515 0.18596 -0.50687 -0.70203 0.66578 -0.81304 0.18712 -0.018488 -0.26757 0.727 -0.59363 -0.34839 -0.56094 -0.591 1.0039 0.20664\n",
    "```"
   ]
  },
  {
   "cell_type": "code",
   "execution_count": 35,
   "metadata": {
    "id": "UnMlc3AcWW1m"
   },
   "outputs": [],
   "source": [
    "def make_embedding(num_words, embedding_dim, tokenizer, max_vocab_size):\n",
    "\n",
    "    embeddings_dict = {}\n",
    "\n",
    "    with open(\"/content/glove.6B.100d.txt\", encoding=\"utf8\") as f:\n",
    "        for i, line in enumerate(f):\n",
    "            values = line.split()                                           # 각 줄을 읽어와서 word_vector에 저장\n",
    "            word = values[0]                                              # 첫번째 값은 word\n",
    "            coefs = np.asarray(values[1:], dtype='float32')  # 두번째 element 부터 마지막까지 100 개는 해당 단어의 임베딩 벡터의  값\n",
    "            embeddings_dict[word] = coefs\n",
    "                \n",
    "    embedding_matrix = np.zeros((num_words, embedding_dim))    # zero 로 초기화   \n",
    "    \n",
    "    print(\"word 갯수 =\", num_words)\n",
    "    print(embedding_matrix.shape)\n",
    "\n",
    "    for word, i in tokenizer.word_index.items():\n",
    "        if i < max_vocab_size:\n",
    "            embedding_vector = embeddings_dict.get(word)\n",
    "            if embedding_vector is not None:                        # 해당 word 가 없으면 all zero 로 남겨둠\n",
    "                embedding_matrix[i] = embedding_vector\n",
    "                    \n",
    "    return embedding_matrix"
   ]
  },
  {
   "cell_type": "code",
   "execution_count": 36,
   "metadata": {
    "colab": {
     "base_uri": "https://localhost:8080/"
    },
    "id": "R4zHwgVNZePP",
    "outputId": "b0e5ba43-2fc1-46f3-9fc5-b3aafcf91d67"
   },
   "outputs": [
    {
     "name": "stdout",
     "output_type": "stream",
     "text": [
      "word 갯수 = 10001\n",
      "(10001, 100)\n",
      "(10001, 100)\n",
      "[-0.046539    0.61966002  0.56647003 -0.46584001 -1.18900001  0.44599\n",
      "  0.066035    0.31909999  0.14679    -0.22119001  0.79238999  0.29905\n",
      "  0.16073     0.025324    0.18678001 -0.31000999 -0.28108001  0.60514998\n",
      " -1.0654      0.52476001  0.064152    1.03579998 -0.40779001 -0.38011\n",
      "  0.30801001  0.59964001 -0.26991001 -0.76034999  0.94221997 -0.46919\n",
      " -0.18278     0.90652001  0.79671001  0.24824999  0.25713     0.6232\n",
      " -0.44768     0.65357     0.76902002 -0.51229    -0.44332999 -0.21867\n",
      "  0.38370001 -1.14830005 -0.94397998 -0.15062     0.30012    -0.57805997\n",
      "  0.20175    -1.65910006 -0.079195    0.026423    0.22051001  0.99713999\n",
      " -0.57538998 -2.72659993  0.31448001  0.70521998  1.43809998  0.99125999\n",
      "  0.13976     1.34739995 -1.1753      0.0039503   1.02980006  0.064637\n",
      "  0.90886998  0.82871997 -0.47003001 -0.10575     0.5916     -0.42210001\n",
      "  0.57331002 -0.54114002  0.10768     0.39783999 -0.048744    0.064596\n",
      " -0.61436999 -0.28600001  0.50669998 -0.49757999 -0.81569999  0.16407999\n",
      " -1.96300006 -0.26693001 -0.37593001 -0.95846999 -0.85839999 -0.71577001\n",
      " -0.32343    -0.43121001  0.41391999  0.28374001 -0.70931     0.15003\n",
      " -0.2154     -0.37616    -0.032502    0.80620003]\n"
     ]
    }
   ],
   "source": [
    "vocab_size = min(vocab_size, MAX_VOCAB)\n",
    "\n",
    "embeddings_matrix = make_embedding(vocab_size+1, EMBEDDING_DIMS, tokenizer, MAX_VOCAB)\n",
    "\n",
    "print(embeddings_matrix.shape)\n",
    "print(embeddings_matrix[1])"
   ]
  },
  {
   "cell_type": "code",
   "execution_count": 37,
   "metadata": {
    "colab": {
     "base_uri": "https://localhost:8080/"
    },
    "id": "FYCbx1yTY_wn",
    "outputId": "1506c478-4bb4-4416-dee1-40d6683c67b4"
   },
   "outputs": [
    {
     "name": "stdout",
     "output_type": "stream",
     "text": [
      "Model: \"sequential_1\"\n",
      "_________________________________________________________________\n",
      "Layer (type)                 Output Shape              Param #   \n",
      "=================================================================\n",
      "embedding_1 (Embedding)      (None, 16, 100)           1000100   \n",
      "_________________________________________________________________\n",
      "bidirectional_2 (Bidirection (None, 16, 128)           84480     \n",
      "_________________________________________________________________\n",
      "bidirectional_3 (Bidirection (None, 64)                41216     \n",
      "_________________________________________________________________\n",
      "dense_2 (Dense)              (None, 64)                4160      \n",
      "_________________________________________________________________\n",
      "dense_3 (Dense)              (None, 1)                 65        \n",
      "=================================================================\n",
      "Total params: 1,130,021\n",
      "Trainable params: 129,921\n",
      "Non-trainable params: 1,000,100\n",
      "_________________________________________________________________\n"
     ]
    }
   ],
   "source": [
    "model = tf.keras.Sequential([\n",
    "    tf.keras.layers.Embedding(vocab_size+1, EMBEDDING_DIMS, input_length=MAX_LENGTH, \n",
    "                                                      weights=[embeddings_matrix], trainable=False),\n",
    "                             \n",
    "    tf.keras.layers.Bidirectional(tf.keras.layers.LSTM(64, return_sequences=True)),\n",
    "    tf.keras.layers.Bidirectional(tf.keras.layers.LSTM(32)),\n",
    "    tf.keras.layers.Dense(64, activation='relu'),\n",
    "    tf.keras.layers.Dense(1, activation='sigmoid')\n",
    "])\n",
    "\n",
    "model.compile(loss='binary_crossentropy',optimizer='adam',metrics=['accuracy']) \n",
    "model.summary()"
   ]
  },
  {
   "cell_type": "code",
   "execution_count": 38,
   "metadata": {
    "colab": {
     "base_uri": "https://localhost:8080/"
    },
    "id": "GHH0aPhFZHNG",
    "outputId": "ab51ed51-5098-46d3-e837-382df6feb5bb"
   },
   "outputs": [
    {
     "name": "stdout",
     "output_type": "stream",
     "text": [
      "Epoch 1/10\n",
      "704/704 [==============================] - 13s 13ms/step - loss: 0.5691 - accuracy: 0.6984 - val_loss: 0.4935 - val_accuracy: 0.7574\n",
      "Epoch 2/10\n",
      "704/704 [==============================] - 8s 11ms/step - loss: 0.4946 - accuracy: 0.7562 - val_loss: 0.4897 - val_accuracy: 0.7605\n",
      "Epoch 3/10\n",
      "704/704 [==============================] - 8s 11ms/step - loss: 0.4755 - accuracy: 0.7690 - val_loss: 0.4708 - val_accuracy: 0.7726\n",
      "Epoch 4/10\n",
      "704/704 [==============================] - 8s 11ms/step - loss: 0.4614 - accuracy: 0.7780 - val_loss: 0.4762 - val_accuracy: 0.7722\n",
      "Epoch 5/10\n",
      "704/704 [==============================] - 8s 11ms/step - loss: 0.4506 - accuracy: 0.7850 - val_loss: 0.4663 - val_accuracy: 0.7742\n",
      "Epoch 6/10\n",
      "704/704 [==============================] - 8s 11ms/step - loss: 0.4407 - accuracy: 0.7899 - val_loss: 0.4533 - val_accuracy: 0.7833\n",
      "Epoch 7/10\n",
      "704/704 [==============================] - 8s 11ms/step - loss: 0.4328 - accuracy: 0.7960 - val_loss: 0.4708 - val_accuracy: 0.7770\n",
      "Epoch 8/10\n",
      "704/704 [==============================] - 8s 11ms/step - loss: 0.4258 - accuracy: 0.7990 - val_loss: 0.4521 - val_accuracy: 0.7857\n",
      "Epoch 9/10\n",
      "704/704 [==============================] - 8s 11ms/step - loss: 0.4184 - accuracy: 0.8050 - val_loss: 0.4576 - val_accuracy: 0.7809\n",
      "Epoch 10/10\n",
      "704/704 [==============================] - 8s 11ms/step - loss: 0.4080 - accuracy: 0.8105 - val_loss: 0.4627 - val_accuracy: 0.7798\n",
      "Training Complete, running time : 8.3e+01 seconds\n"
     ]
    }
   ],
   "source": [
    "import time\n",
    "\n",
    "s = time.time()\n",
    "num_epochs = 10\n",
    "history = model.fit(training_sequences, training_labels, epochs=num_epochs, batch_size=512,\n",
    "                                    validation_data=(test_sequences, test_labels), verbose=1)\n",
    "\n",
    "e = time.time()\n",
    "print(\"Training Complete, running time : {:.2} seconds\".format((e-s)))"
   ]
  },
  {
   "cell_type": "code",
   "execution_count": 39,
   "metadata": {
    "colab": {
     "base_uri": "https://localhost:8080/",
     "height": 591
    },
    "id": "PDKCFHaKZIFt",
    "outputId": "e38a3f05-a286-4abe-91b5-0fc4a841a9a0"
   },
   "outputs": [
    {
     "data": {
      "text/plain": [
       "<matplotlib.legend.Legend at 0x7f548a46ea10>"
      ]
     },
     "execution_count": 39,
     "metadata": {
      "tags": []
     },
     "output_type": "execute_result"
    },
    {
     "data": {
      "image/png": "[encoded data removed]",
      "text/plain": [
       "<Figure size 432x288 with 1 Axes>"
      ]
     },
     "metadata": {
      "needs_background": "light",
      "tags": []
     },
     "output_type": "display_data"
    },
    {
     "data": {
      "image/png": "[encoded data removed]",
      "text/plain": [
       "<Figure size 432x288 with 1 Axes>"
      ]
     },
     "metadata": {
      "needs_background": "light",
      "tags": []
     },
     "output_type": "display_data"
    }
   ],
   "source": [
    "plt.figure()\n",
    "\n",
    "acc = history.history['accuracy']\n",
    "val_acc = history.history['val_accuracy']\n",
    "loss = history.history['loss']\n",
    "val_loss = history.history['val_loss']\n",
    "\n",
    "epochs = range(len(acc)) \n",
    "\n",
    "plt.plot(epochs, acc, 'r')\n",
    "plt.plot(epochs, val_acc, 'b')\n",
    "plt.title('Training and validation accuracy')\n",
    "plt.xlabel(\"Epochs\")\n",
    "plt.ylabel(\"Accuracy\")\n",
    "plt.legend([\"Accuracy\", \"Validation Accuracy\"])\n",
    "\n",
    "plt.figure()\n",
    "\n",
    "plt.plot(epochs, loss, 'r')\n",
    "plt.plot(epochs, val_loss, 'b')\n",
    "plt.title('Training and validation loss')\n",
    "plt.xlabel(\"Epochs\")\n",
    "plt.ylabel(\"Loss\")\n",
    "plt.legend([\"Loss\", \"Validation Loss\"])"
   ]
  }
 ],
 "metadata": {
  "accelerator": "GPU",
  "colab": {
   "collapsed_sections": [],
   "name": "045_Overfitting_NLP_Transfer_Learning.ipynb",
   "provenance": []
  },
  "kernelspec": {
   "display_name": "Python 3",
   "language": "python",
   "name": "python3"
  },
  "language_info": {
   "codemirror_mode": {
    "name": "ipython",
    "version": 3
   },
   "file_extension": ".py",
   "mimetype": "text/x-python",
   "name": "python",
   "nbconvert_exporter": "python",
   "pygments_lexer": "ipython3",
   "version": "3.7.10"
  }
 },
 "nbformat": 4,
 "nbformat_minor": 1
}
