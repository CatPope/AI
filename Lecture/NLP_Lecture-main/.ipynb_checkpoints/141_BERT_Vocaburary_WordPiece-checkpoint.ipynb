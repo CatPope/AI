{
 "cells": [
  {
   "cell_type": "markdown",
   "metadata": {
    "id": "XQ3zcfTaJGPb"
   },
   "source": [
    "# 141. BERT의 Word Piece Tokenization 심층 이해\n",
    "\n",
    "- Hugging Face 는 BERT model 작성 시 사전 훈련된 tokenizer 제공\n",
    "\n",
    "- HuggingFace의 BERT library install\n",
    "```\n",
    "!pip install transformers\n",
    "```\n",
    "\n",
    "## Simple Tokenization"
   ]
  },
  {
   "cell_type": "code",
   "execution_count": 1,
   "metadata": {
    "colab": {
     "base_uri": "https://localhost:8080/"
    },
    "id": "x_KA2Uu7Jasx",
    "outputId": "aa641909-1af1-4f97-bb89-521c07548d18"
   },
   "outputs": [
    {
     "name": "stdout",
     "output_type": "stream",
     "text": [
      "\u001b[K     |████████████████████████████████| 2.8 MB 3.2 MB/s \n",
      "\u001b[K     |████████████████████████████████| 895 kB 32.2 MB/s \n",
      "\u001b[K     |████████████████████████████████| 3.3 MB 40.1 MB/s \n",
      "\u001b[K     |████████████████████████████████| 636 kB 51.5 MB/s \n",
      "\u001b[K     |████████████████████████████████| 50 kB 5.4 MB/s \n",
      "\u001b[?25h"
     ]
    }
   ],
   "source": [
    "!pip install -q transformers"
   ]
  },
  {
   "cell_type": "code",
   "execution_count": 2,
   "metadata": {
    "id": "NNFYfYyYJGPd"
   },
   "outputs": [],
   "source": [
    "import torch\n",
    "import re\n",
    "import pandas as pd\n",
    "import matplotlib.pyplot as plt\n",
    "import seaborn as sns\n",
    "\n",
    "from transformers import BertTokenizer"
   ]
  },
  {
   "cell_type": "code",
   "execution_count": 3,
   "metadata": {
    "id": "FOsppE61JGPf"
   },
   "outputs": [],
   "source": [
    "text = [\"Don't you love 🤗 Transformers? We sure do.\",\n",
    "        \"I have a new GPU!\"]\n",
    "\n",
    "text_kor = [\"훌륭하지 않니 🤗 트랜스포머? 확실히 그런 것 같아.\",\n",
    "        \"새로운 GPU가 있습니다!\"]"
   ]
  },
  {
   "cell_type": "markdown",
   "metadata": {
    "id": "D3aYul9DJGPg"
   },
   "source": [
    "## Bert 의 pre-trained Subword Tokenizer\n",
    "- bert-base-multilingual-cased model : MLM(마스킹 언어 모델링) 을 사용하여 Wikipedia에서 상위 104개 언어에 대한 사전 학습된 모델\n",
    "\n",
    "- SentencePiece Tokenization 사용"
   ]
  },
  {
   "cell_type": "code",
   "execution_count": 4,
   "metadata": {
    "colab": {
     "base_uri": "https://localhost:8080/",
     "height": 441,
     "referenced_widgets": [
      "c15b1163a8074a0dbaaeb036142d3f44",
      "9a151cfade6b404a8015bd3e94653ab3",
      "52c77c449185463c830de60351208846",
      "4953a4b9759c47b2b4be186ee5d2e3bd",
      "cd38c8116d6642ea875c33d00a31dfcc",
      "1502c3601d2143bc9dc40cc45962cc66",
      "48b5ea3f66f4484498e28cbd08310fda",
      "22bdd53c2f664478850428406913a5f8",
      "15676b91ca4d420eb5d0fcd7a9bac065",
      "d6ee3fca1ecc47bdb21fdbb5f2b454a4",
      "cbc9eb35b1c44681abe0da327744b72c",
      "565e094c543f4b6f9898f7e569c36c57",
      "becc98c6373e4fac9b8701397a2d1522",
      "eec8529f8cd7435489eb3beb5e1543bc",
      "b415b62ec5344a50b221dce23beda362",
      "51448763dc674cd481799a06225ba841",
      "8bee4803ffaa45c995ee7919000be65c",
      "68534dbd1ff24efaa5c1a4e6c6a9c2f4",
      "7760d83f0e5e48a6bff8a9d74ec78d25",
      "ccdb897efbc84cd19c811bcdd4c02e74",
      "b1106aaf509047769cb4527854f75bf2",
      "09fea481d6e644888e9a3296009c5116",
      "1a4c22c16baf49be993ce35578206430",
      "c4b91cb2d4be490388fcda285c465cbc",
      "ce039e6d65b34140b34d5e986ce7f2ac",
      "43e80f723fed4d2cbc2a71458a164790",
      "59bfa001deb44451ace938ec459c79a0",
      "8796a4d8f40d41b299c75770f967142b",
      "f9773acaa6f3479f83f612eb77ecd080",
      "80dcfe67209a4b10aa20a6d2fa2b6d51",
      "83ed7a7f567d45aba86d0ec98d6fc5f5",
      "d24aeb9b7142438d87068d3316be991f",
      "2c6a6426fe83485c8107242b66c67276",
      "e0e801888902442aa3cfdb0f7eae2f95",
      "70a89b0220d847b8ac5b76b0e9127a9f",
      "a724aa5e5f704e2996dab0a793fdd2cd",
      "9a2cd6619ce44d94b809d733b6354ad5",
      "19a704b3b56d4e5286d11fa3e46d5adc",
      "f7f385817db84939895d5cd58e7d1e8f",
      "f40420e63ec64d2393249e09dc686edb",
      "e4e886cc1caa4cbf8e8c091938066c5c",
      "d5732b2785df4e28b0fd2a24cfd5c4db",
      "e6c3f0637de34d95a26e6c93161eeef3",
      "13ba5283fd0f4dd5bb9180c5ad6d4f02"
     ]
    },
    "id": "6iq-srXSJGPh",
    "outputId": "75f8b43c-9a38-4cf6-da73-c6665a76a83d"
   },
   "outputs": [
    {
     "data": {
      "application/vnd.jupyter.widget-view+json": {
       "model_id": "c15b1163a8074a0dbaaeb036142d3f44",
       "version_major": 2,
       "version_minor": 0
      },
      "text/plain": [
       "Downloading:   0%|          | 0.00/996k [00:00<?, ?B/s]"
      ]
     },
     "metadata": {},
     "output_type": "display_data"
    },
    {
     "data": {
      "application/vnd.jupyter.widget-view+json": {
       "model_id": "565e094c543f4b6f9898f7e569c36c57",
       "version_major": 2,
       "version_minor": 0
      },
      "text/plain": [
       "Downloading:   0%|          | 0.00/29.0 [00:00<?, ?B/s]"
      ]
     },
     "metadata": {},
     "output_type": "display_data"
    },
    {
     "data": {
      "application/vnd.jupyter.widget-view+json": {
       "model_id": "1a4c22c16baf49be993ce35578206430",
       "version_major": 2,
       "version_minor": 0
      },
      "text/plain": [
       "Downloading:   0%|          | 0.00/1.96M [00:00<?, ?B/s]"
      ]
     },
     "metadata": {},
     "output_type": "display_data"
    },
    {
     "data": {
      "application/vnd.jupyter.widget-view+json": {
       "model_id": "e0e801888902442aa3cfdb0f7eae2f95",
       "version_major": 2,
       "version_minor": 0
      },
      "text/plain": [
       "Downloading:   0%|          | 0.00/625 [00:00<?, ?B/s]"
      ]
     },
     "metadata": {},
     "output_type": "display_data"
    },
    {
     "name": "stdout",
     "output_type": "stream",
     "text": [
      "Don't you love 🤗 Transformers? We sure do.\n",
      "['Don', \"'\", 't', 'you', 'love', '[UNK]', 'Transformers', '?', 'We', 'sure', 'do', '.']\n",
      "[101, 11740, 112, 188, 13028, 16138, 100, 64562, 136, 12865, 62452, 10149, 119, 102]\n",
      "\n",
      "I have a new GPU!\n",
      "['I', 'have', 'a', 'new', 'GPU', '!']\n",
      "[101, 146, 10529, 169, 10751, 102345, 106, 102]\n",
      "\n",
      "훌륭하지 않니 🤗 트랜스포머? 확실히 그런 것 같아.\n",
      "['훌', '##륭', '##하지', '않', '##니', '[UNK]', '트', '##랜', '##스', '##포', '##머', '?', '확', '##실', '##히', '그', '##런', '것', '같', '##아', '.']\n",
      "[101, 10005, 118901, 23665, 9523, 25503, 100, 9890, 118856, 12605, 55530, 118920, 136, 9994, 31503, 18108, 8924, 56710, 8870, 8855, 16985, 119, 102]\n",
      "\n",
      "새로운 GPU가 있습니다!\n",
      "['새로운', 'GPU', '##가', '있', '##습', '##니다', '!']\n",
      "[101, 39773, 102345, 11287, 9647, 119081, 48345, 106, 102]\n",
      "\n"
     ]
    }
   ],
   "source": [
    "tokenizer = BertTokenizer.from_pretrained('bert-base-multilingual-cased')\n",
    "\n",
    "for txt in text:\n",
    "    print(txt)\n",
    "    print(tokenizer.tokenize(txt))\n",
    "    print(tokenizer.encode(txt))\n",
    "    print()\n",
    "\n",
    "for txt in text_kor:\n",
    "    print(txt)\n",
    "    print(tokenizer.tokenize(txt))\n",
    "    print(tokenizer.encode(txt))\n",
    "    print()"
   ]
  },
  {
   "cell_type": "code",
   "execution_count": 5,
   "metadata": {
    "colab": {
     "base_uri": "https://localhost:8080/",
     "height": 35
    },
    "id": "jseQVupIJGPi",
    "outputId": "78223814-8bf3-46d9-8e94-8ad2134a2293"
   },
   "outputs": [
    {
     "data": {
      "application/vnd.google.colaboratory.intrinsic+json": {
       "type": "string"
      },
      "text/plain": [
       "\"[CLS] Don't you love [UNK] Transformers? We sure do. [SEP]\""
      ]
     },
     "execution_count": 5,
     "metadata": {},
     "output_type": "execute_result"
    }
   ],
   "source": [
    "tokenizer.decode([101, 11740, 112, 188, 13028, 16138, 100, 64562, 136, 12865, 62452, 10149, 119, 102])"
   ]
  },
  {
   "cell_type": "markdown",
   "metadata": {
    "id": "rYE_KnouJGPj"
   },
   "source": [
    "## BERT WordPiece Tokenizer Vocaburary 검토"
   ]
  },
  {
   "cell_type": "markdown",
   "metadata": {
    "id": "FaVJB-hoJGPj"
   },
   "source": [
    "- `bert-base-uncase-multilingual` model의 vocabulary\n",
    "    - 0 - [PAD]\n",
    "    - 100 - [UNK]\n",
    "    - 101 - [CLS]\n",
    "    - 102 - [SEP]\n",
    "    - 103 - [MASK]"
   ]
  },
  {
   "cell_type": "code",
   "execution_count": 6,
   "metadata": {
    "colab": {
     "base_uri": "https://localhost:8080/"
    },
    "id": "6zM0-Y2PJGPk",
    "outputId": "e2caf22b-84a2-4430-874f-7806b54ca8b6"
   },
   "outputs": [
    {
     "name": "stdout",
     "output_type": "stream",
     "text": [
      "119547\n"
     ]
    },
    {
     "data": {
      "text/plain": [
       "(('[PAD]', 0),\n",
       " [('[UNK]', 100), ('[CLS]', 101), ('[SEP]', 102), ('[MASK]', 103)])"
      ]
     },
     "execution_count": 6,
     "metadata": {},
     "output_type": "execute_result"
    }
   ],
   "source": [
    "vocabs = list(tokenizer.vocab.items())\n",
    "\n",
    "print(len(vocabs))\n",
    "vocabs[0], vocabs[100:104]"
   ]
  },
  {
   "cell_type": "code",
   "execution_count": 7,
   "metadata": {
    "colab": {
     "base_uri": "https://localhost:8080/"
    },
    "id": "nz_2ZWpBJGPk",
    "outputId": "6dd8fb23-d379-4dc7-9995-642865abfb78"
   },
   "outputs": [
    {
     "data": {
      "text/plain": [
       "([('befinden', 24585),\n",
       "  ('берегу', 24586),\n",
       "  ('masyarakat', 24587),\n",
       "  ('детей', 24588),\n",
       "  ('धर्म', 24589),\n",
       "  ('setiap', 24590),\n",
       "  ('mulai', 24591),\n",
       "  ('იგი', 24592),\n",
       "  ('Stevens', 24593),\n",
       "  ('##ität', 24594)],\n",
       " ('##𩾌', 119546))"
      ]
     },
     "execution_count": 7,
     "metadata": {},
     "output_type": "execute_result"
    }
   ],
   "source": [
    "vocabs[24585:24595], vocabs[-1]"
   ]
  },
  {
   "cell_type": "markdown",
   "metadata": {
    "id": "iAUWtD4TJGPk"
   },
   "source": [
    "## Bert WordPiece Tokenizer vocabulary의 구성 이해"
   ]
  },
  {
   "cell_type": "markdown",
   "metadata": {
    "id": "dHvq5AsK7Nok"
   },
   "source": [
    "- 길이별 갯수"
   ]
  },
  {
   "cell_type": "code",
   "execution_count": 14,
   "metadata": {
    "id": "1fA9k3GJJGPl"
   },
   "outputs": [],
   "source": [
    "one_chars = []   \n",
    "two_chars = []\n",
    "one_char_hashes = []\n",
    "longer_chars = []\n",
    "\n",
    "for token in tokenizer.vocab.keys():\n",
    "    if len(token) == 1:\n",
    "        one_chars.append(token)\n",
    "    elif len(token) == 2:\n",
    "        two_chars.append(token)\n",
    "    elif len(token) == 3 and token[:2] == '##':\n",
    "        one_char_hashes.append(token)\n",
    "    else:\n",
    "        longer_chars.append(token)"
   ]
  },
  {
   "cell_type": "code",
   "execution_count": 17,
   "metadata": {
    "colab": {
     "base_uri": "https://localhost:8080/"
    },
    "id": "9FhAMg6DJGPl",
    "outputId": "36bd76a7-a430-41a0-bd26-dd4a70422800"
   },
   "outputs": [
    {
     "name": "stdout",
     "output_type": "stream",
     "text": [
      "9998\n",
      "['!', '\"', '#', '$', '%', '&', \"'\", '(', ')', '*', '+', ',', '-', '.', '/', '0', '1', '2', '3', '4', '5', '6', '7', '8', '9', ':', ';', '<', '=', '>', '?', '@', 'A', 'B', 'C', 'D', 'E', 'F', 'G', 'H', 'I', 'J', 'K', 'L', 'M', 'N', 'O', 'P', 'Q', 'R', 'S', 'T', 'U', 'V', 'W', 'X', 'Y', 'Z', '[', '\\\\', ']', '^', '_', 'a', 'b', 'c', 'd', 'e', 'f', 'g', 'h', 'i', 'j', 'k', 'l', 'm', 'n', 'o', 'p', 'q', 'r', 's', 't', 'u', 'v', 'w', 'x', 'y', 'z', '{', '|', '}', '~', '¡', '¢', '£', '¥', '¦', '§', '¨']\n"
     ]
    }
   ],
   "source": [
    "print(len(one_chars))\n",
    "print(one_chars[:100])"
   ]
  },
  {
   "cell_type": "code",
   "execution_count": 18,
   "metadata": {
    "colab": {
     "base_uri": "https://localhost:8080/"
    },
    "id": "fefCUqWz7poJ",
    "outputId": "3c1ef359-4909-4a6f-8a15-fd9b78274939"
   },
   "outputs": [
    {
     "name": "stdout",
     "output_type": "stream",
     "text": [
      "2750\n",
      "['de', 'in', 'of', 'la', 'en', 'to', 'un', 'di', 'на', 'is', 'el', 'se', 'et', 'na', 'on', 'är', 'le', 'da', 'je', 'as', 'sa', 'do', '10', 'an', 'il', 'by', 'og', 'La', 'at', 'er', 'al', 'In', 'du', 'av', '12', 'De', 'no', '11', 'es', '20', 'su', 'ja', 'km', '15', 'om', 'في', 'im', 'på', '18', 'El', 'ha', '24', 'за', 'در', 'En', '30', '14', '13', '16', 'је', 'és', 'au', '25', 'he', 'em', '19', 'it', '17', '°C', 'се', 'Le', 'Il', 'من', 'um', 'si', '21', 'по', 'op', 'zu', '22', 'od', 'An', '26', 'של', 'va', 've', 'به', '23', 'là', 'от', 'II', 'za', 'до', 'or', 'be', '28', 'He', 'az', 'te', '27']\n"
     ]
    }
   ],
   "source": [
    "print(len(two_chars))\n",
    "print(two_chars[:100])"
   ]
  },
  {
   "cell_type": "code",
   "execution_count": 19,
   "metadata": {
    "colab": {
     "base_uri": "https://localhost:8080/"
    },
    "id": "EfQGDzz9JGPl",
    "outputId": "9e98cb2c-211e-4ca1-e380-e770994397ea"
   },
   "outputs": [
    {
     "name": "stdout",
     "output_type": "stream",
     "text": [
      "9998\n",
      "['##s', '##e', '##a', '##n', '##i', '##t', '##r', '##o', '##u', '##m', '##y', '##l', '##d', '##k', '##а', '##и', '##е', '##у', '##h', '##g', '##м', '##н', '##ی', '##ы', '##z', '##о', '##é', '##c', '##т', '##і', '##х', '##ة', '##й', '##я', '##ه', '##p', '##ה', '##j', '##ا', '##ó', '##b', '##의', '##ي', '##ă', '##v', '##ו', '##ς', '##ת', '##ت', '##к', '##с', '##л', '##р', '##에', '##י', '##в', '##í', '##f', '##ن', '##ю', '##ą', '##을', '##の', '##د', '##á', '##ر', '##x', '##م', '##ı', '##2', '##S', '##A', '##이', '##д', '##1', '##à', '##г', '##ų', '##ь', '##C', '##w', '##3', '##ë', '##은', '##が', '##ी', '##0', '##ם', '##년', '##ل', '##ę', '##ը', '##ן', '##ů', '##4', '##ä', '##는', '##п', '##ب', '##T']\n"
     ]
    }
   ],
   "source": [
    "print(len(one_char_hashes))\n",
    "print(one_char_hashes[:100])"
   ]
  },
  {
   "cell_type": "code",
   "execution_count": 20,
   "metadata": {
    "colab": {
     "base_uri": "https://localhost:8080/"
    },
    "id": "HsykIbZWJGPm",
    "outputId": "69ed7560-9e4d-46c4-a185-c40ce3e62d21"
   },
   "outputs": [
    {
     "name": "stdout",
     "output_type": "stream",
     "text": [
      "96801\n",
      "['Gesicht', 'adel', 'drużyn', 'Національного', 'праць', 'իսպ', 'საიტზე', '##coles', '##ůvodem', '##סייע', '##েড', 'Mystic', 'palm', 'したものの', 'Stille', 'dirigit', 'lähedal', 'آئے', '##cativo', '##cismo', 'Fink', 'esett', 'soan', '##undsen', 'Biên', 'jogou', 'šiaurę', 'تفسیر', 'واسعة', '##ubt', '##сембург', '##مساعدة', 'Béarla', 'təmsil', 'şehri', '##brice', '##λαν', '##вис', '##укова', '##улах', 'coruñés', 'dust', 'stazioni', 'بیت', 'বিশ্ব', '##delagt', '##بائية', '##குப்பு', '##యర్', 'Энциклопедиясынын', 'тәрізді', 'участники', 'التجارة', '##nçà', '##чнува', '##לחימה', '##وبی', 'Nieto', 'amerického', 'erhaltenen', 'lövfällande', 'עשרות', 'ਨਾਂ', 'したことで', '##édaillé', '##നു', '##화가', 'prevedeva', 'prinsip', 'sucesión', 'смт', 'тухай', '##gespielt', '##hessen', '##rząc', 'Prydain', 'Sorgiss', 'Viru', 'funda', 'powyżej', 'sydöst', 'исте', 'працаваў', '۱۳۹۵', '##omosom', '##ülete', 'aufmerksam', 'féle', 'états', '##čjo', '##ուսի', '##ケットボール', 'Fargo', 'Manon', 'novia', 'pokračuje', 'безпосередньо', 'критик', 'кушыла', 'దుకాణం']\n"
     ]
    }
   ],
   "source": [
    "print(len(longer_chars))\n",
    "print(longer_chars[-100:])"
   ]
  },
  {
   "cell_type": "code",
   "execution_count": 23,
   "metadata": {
    "colab": {
     "base_uri": "https://localhost:8080/"
    },
    "id": "UQNh3F6NJGPm",
    "outputId": "76cfbd74-72c6-4aa1-e601-515be15e7ba7"
   },
   "outputs": [
    {
     "name": "stdout",
     "output_type": "stream",
     "text": [
      "Vocab includes 421 year data from 1600 - 2020\n"
     ]
    }
   ],
   "source": [
    "# 1600 - 2021 의 연도가 얼마나 포함되어 있는지 count\n",
    "count = 0 \n",
    "for i in range(1600, 2021):\n",
    "    if str(i) in tokenizer.vocab:\n",
    "        count += 1\n",
    "\n",
    "print('Vocab includes {:,} year data from 1600 - 2020'.format(count))"
   ]
  },
  {
   "cell_type": "code",
   "execution_count": 24,
   "metadata": {
    "colab": {
     "base_uri": "https://localhost:8080/"
    },
    "id": "qmIQw9juJGPm",
    "outputId": "106f1d47-c378-4e7b-ff9f-ef383be22062"
   },
   "outputs": [
    {
     "name": "stdout",
     "output_type": "stream",
     "text": [
      "9780521872386\n",
      "9789004244870\n",
      "Vocab includes 2,347 numbers.\n"
     ]
    }
   ],
   "source": [
    "# vocabulary에 숫자가 얼마나 포함되어 있는지 \n",
    "count = 0\n",
    "\n",
    "for token in tokenizer.vocab:\n",
    "    # 숫자면 +1\n",
    "    if token.isdigit():\n",
    "        count += 1  \n",
    "        if len(token) > 10:\n",
    "            print(token)\n",
    "\n",
    "print('Vocab includes {:,} numbers.'.format(count))"
   ]
  },
  {
   "cell_type": "code",
   "execution_count": 26,
   "metadata": {
    "colab": {
     "base_uri": "https://localhost:8080/"
    },
    "id": "xvfEL9OcRgRe",
    "outputId": "2da7f903-c1ab-4b98-b91e-a4e809276607"
   },
   "outputs": [
    {
     "name": "stdout",
     "output_type": "stream",
     "text": [
      "##하였다\n",
      "##되었다\n",
      "##적으로\n",
      "2014년\n",
      "2012년\n",
      "2016년\n",
      "2011년\n",
      "2013년\n",
      "2010년\n",
      "2015년\n",
      "2009년\n",
      "2008년\n",
      "2017년\n",
      "2007년\n",
      "##에서는\n",
      "2018년\n",
      "2006년\n",
      "대한민국의\n",
      "##대학교\n",
      "2005년\n",
      "2004년\n",
      "##하였고\n",
      "2002년\n",
      "2003년\n",
      "##하면서\n",
      "2001년\n",
      "2000년\n",
      "1999년\n",
      "1998년\n",
      "##되었고\n",
      "1996년\n",
      "##했으며\n",
      "##었으며\n",
      "1997년\n",
      "##하였으며\n",
      "1995년\n",
      "##등학교\n",
      "##되었으며\n",
      "##었으나\n",
      "##이었다\n",
      "##쪽으로\n",
      "1994년\n",
      "##광역시\n",
      "##들에게\n",
      "##용하여\n",
      "1992년\n",
      "##장으로\n",
      "1993년\n",
      "##하기도\n",
      "##위원회\n",
      "1987년\n",
      "##었지만\n",
      "1991년\n",
      "##역이다\n",
      "1990년\n",
      "##식으로\n",
      "##었는데\n",
      "##였으나\n",
      "서울특별시\n",
      "##드라마\n",
      "1988년\n",
      "1989년\n",
      "##원으로\n",
      "일반적으로\n",
      "##상으로\n",
      "1986년\n",
      "##년부터\n",
      "##정에서\n",
      "##전에서\n",
      "1984년\n",
      "1985년\n",
      "##로부터\n",
      "##장하는\n",
      "1983년\n",
      "지정되었다\n",
      "##년에는\n",
      "##용된다\n",
      "##장에서\n",
      "1981년\n",
      "##되면서\n",
      "##능하다\n",
      "1980년\n",
      "1982년\n",
      "##쪽으로는\n",
      "##인이다\n",
      "##공화국\n",
      "애니메이션\n",
      "##았으며\n",
      "##성되어\n",
      "##재한다\n",
      "##프리카\n",
      "##했지만\n",
      "##정되었다\n",
      "##어졌다\n",
      "1945년\n"
     ]
    }
   ],
   "source": [
    "for token in tokenizer.vocab:\n",
    "    if len(token) > 4 and re.search('[가-힣]', token):\n",
    "        print(token)"
   ]
  },
  {
   "cell_type": "markdown",
   "metadata": {
    "id": "OToRjj73JGPn"
   },
   "source": [
    "##  bert-base-multilingual-cased model 의 word 길이 시각화 "
   ]
  },
  {
   "cell_type": "code",
   "execution_count": 27,
   "metadata": {
    "id": "ht6iK1MYJGPn"
   },
   "outputs": [],
   "source": [
    "data = pd.DataFrame([len(token) for token in tokenizer.vocab], columns=[\"count\"])                   "
   ]
  },
  {
   "cell_type": "code",
   "execution_count": 28,
   "metadata": {
    "colab": {
     "base_uri": "https://localhost:8080/",
     "height": 279
    },
    "id": "I1VgbdSrJGPn",
    "outputId": "d8028f08-1295-458d-ab8d-fdede515fd2d"
   },
   "outputs": [
    {
     "data": {
      "image/png": "[encoded data removed]",
      "text/plain": [
       "<Figure size 432x288 with 1 Axes>"
      ]
     },
     "metadata": {
      "needs_background": "light"
     },
     "output_type": "display_data"
    }
   ],
   "source": [
    "sns.countplot(x=\"count\", data=data);"
   ]
  },
  {
   "cell_type": "code",
   "execution_count": null,
   "metadata": {
    "id": "0IQS1iRK9nAy"
   },
   "outputs": [],
   "source": []
  }
 ],
 "metadata": {
  "colab": {
   "name": "140_BERT_Vocaburary_WordPiece.ipynb",
   "provenance": []
  },
  "kernelspec": {
   "display_name": "Python 3",
   "language": "python",
   "name": "python3"
  },
  "language_info": {
   "codemirror_mode": {
    "name": "ipython",
    "version": 3
   },
   "file_extension": ".py",
   "mimetype": "text/x-python",
   "name": "python",
   "nbconvert_exporter": "python",
   "pygments_lexer": "ipython3",
   "version": "3.7.10"
  },
  "widgets": {
   "application/vnd.jupyter.widget-state+json": {
    "09fea481d6e644888e9a3296009c5116": {
     "model_module": "@jupyter-widgets/base",
     "model_module_version": "1.2.0",
     "model_name": "LayoutModel",
     "state": {
      "_model_module": "@jupyter-widgets/base",
      "_model_module_version": "1.2.0",
      "_model_name": "LayoutModel",
      "_view_count": null,
      "_view_module": "@jupyter-widgets/base",
      "_view_module_version": "1.2.0",
      "_view_name": "LayoutView",
      "align_content": null,
      "align_items": null,
      "align_self": null,
      "border": null,
      "bottom": null,
      "display": null,
      "flex": null,
      "flex_flow": null,
      "grid_area": null,
      "grid_auto_columns": null,
      "grid_auto_flow": null,
      "grid_auto_rows": null,
      "grid_column": null,
      "grid_gap": null,
      "grid_row": null,
      "grid_template_areas": null,
      "grid_template_columns": null,
      "grid_template_rows": null,
      "height": null,
      "justify_content": null,
      "justify_items": null,
      "left": null,
      "margin": null,
      "max_height": null,
      "max_width": null,
      "min_height": null,
      "min_width": null,
      "object_fit": null,
      "object_position": null,
      "order": null,
      "overflow": null,
      "overflow_x": null,
      "overflow_y": null,
      "padding": null,
      "right": null,
      "top": null,
      "visibility": null,
      "width": null
     }
    },
    "13ba5283fd0f4dd5bb9180c5ad6d4f02": {
     "model_module": "@jupyter-widgets/base",
     "model_module_version": "1.2.0",
     "model_name": "LayoutModel",
     "state": {
      "_model_module": "@jupyter-widgets/base",
      "_model_module_version": "1.2.0",
      "_model_name": "LayoutModel",
      "_view_count": null,
      "_view_module": "@jupyter-widgets/base",
      "_view_module_version": "1.2.0",
      "_view_name": "LayoutView",
      "align_content": null,
      "align_items": null,
      "align_self": null,
      "border": null,
      "bottom": null,
      "display": null,
      "flex": null,
      "flex_flow": null,
      "grid_area": null,
      "grid_auto_columns": null,
      "grid_auto_flow": null,
      "grid_auto_rows": null,
      "grid_column": null,
      "grid_gap": null,
      "grid_row": null,
      "grid_template_areas": null,
      "grid_template_columns": null,
      "grid_template_rows": null,
      "height": null,
      "justify_content": null,
      "justify_items": null,
      "left": null,
      "margin": null,
      "max_height": null,
      "max_width": null,
      "min_height": null,
      "min_width": null,
      "object_fit": null,
      "object_position": null,
      "order": null,
      "overflow": null,
      "overflow_x": null,
      "overflow_y": null,
      "padding": null,
      "right": null,
      "top": null,
      "visibility": null,
      "width": null
     }
    },
    "1502c3601d2143bc9dc40cc45962cc66": {
     "model_module": "@jupyter-widgets/controls",
     "model_module_version": "1.5.0",
     "model_name": "DescriptionStyleModel",
     "state": {
      "_model_module": "@jupyter-widgets/controls",
      "_model_module_version": "1.5.0",
      "_model_name": "DescriptionStyleModel",
      "_view_count": null,
      "_view_module": "@jupyter-widgets/base",
      "_view_module_version": "1.2.0",
      "_view_name": "StyleView",
      "description_width": ""
     }
    },
    "15676b91ca4d420eb5d0fcd7a9bac065": {
     "model_module": "@jupyter-widgets/base",
     "model_module_version": "1.2.0",
     "model_name": "LayoutModel",
     "state": {
      "_model_module": "@jupyter-widgets/base",
      "_model_module_version": "1.2.0",
      "_model_name": "LayoutModel",
      "_view_count": null,
      "_view_module": "@jupyter-widgets/base",
      "_view_module_version": "1.2.0",
      "_view_name": "LayoutView",
      "align_content": null,
      "align_items": null,
      "align_self": null,
      "border": null,
      "bottom": null,
      "display": null,
      "flex": null,
      "flex_flow": null,
      "grid_area": null,
      "grid_auto_columns": null,
      "grid_auto_flow": null,
      "grid_auto_rows": null,
      "grid_column": null,
      "grid_gap": null,
      "grid_row": null,
      "grid_template_areas": null,
      "grid_template_columns": null,
      "grid_template_rows": null,
      "height": null,
      "justify_content": null,
      "justify_items": null,
      "left": null,
      "margin": null,
      "max_height": null,
      "max_width": null,
      "min_height": null,
      "min_width": null,
      "object_fit": null,
      "object_position": null,
      "order": null,
      "overflow": null,
      "overflow_x": null,
      "overflow_y": null,
      "padding": null,
      "right": null,
      "top": null,
      "visibility": null,
      "width": null
     }
    },
    "19a704b3b56d4e5286d11fa3e46d5adc": {
     "model_module": "@jupyter-widgets/controls",
     "model_module_version": "1.5.0",
     "model_name": "HTMLModel",
     "state": {
      "_dom_classes": [],
      "_model_module": "@jupyter-widgets/controls",
      "_model_module_version": "1.5.0",
      "_model_name": "HTMLModel",
      "_view_count": null,
      "_view_module": "@jupyter-widgets/controls",
      "_view_module_version": "1.5.0",
      "_view_name": "HTMLView",
      "description": "",
      "description_tooltip": null,
      "layout": "IPY_MODEL_13ba5283fd0f4dd5bb9180c5ad6d4f02",
      "placeholder": "​",
      "style": "IPY_MODEL_e6c3f0637de34d95a26e6c93161eeef3",
      "value": " 625/625 [00:00&lt;00:00, 11.1kB/s]"
     }
    },
    "1a4c22c16baf49be993ce35578206430": {
     "model_module": "@jupyter-widgets/controls",
     "model_module_version": "1.5.0",
     "model_name": "HBoxModel",
     "state": {
      "_dom_classes": [],
      "_model_module": "@jupyter-widgets/controls",
      "_model_module_version": "1.5.0",
      "_model_name": "HBoxModel",
      "_view_count": null,
      "_view_module": "@jupyter-widgets/controls",
      "_view_module_version": "1.5.0",
      "_view_name": "HBoxView",
      "box_style": "",
      "children": [
       "IPY_MODEL_ce039e6d65b34140b34d5e986ce7f2ac",
       "IPY_MODEL_43e80f723fed4d2cbc2a71458a164790",
       "IPY_MODEL_59bfa001deb44451ace938ec459c79a0"
      ],
      "layout": "IPY_MODEL_c4b91cb2d4be490388fcda285c465cbc"
     }
    },
    "22bdd53c2f664478850428406913a5f8": {
     "model_module": "@jupyter-widgets/controls",
     "model_module_version": "1.5.0",
     "model_name": "ProgressStyleModel",
     "state": {
      "_model_module": "@jupyter-widgets/controls",
      "_model_module_version": "1.5.0",
      "_model_name": "ProgressStyleModel",
      "_view_count": null,
      "_view_module": "@jupyter-widgets/base",
      "_view_module_version": "1.2.0",
      "_view_name": "StyleView",
      "bar_color": null,
      "description_width": ""
     }
    },
    "2c6a6426fe83485c8107242b66c67276": {
     "model_module": "@jupyter-widgets/base",
     "model_module_version": "1.2.0",
     "model_name": "LayoutModel",
     "state": {
      "_model_module": "@jupyter-widgets/base",
      "_model_module_version": "1.2.0",
      "_model_name": "LayoutModel",
      "_view_count": null,
      "_view_module": "@jupyter-widgets/base",
      "_view_module_version": "1.2.0",
      "_view_name": "LayoutView",
      "align_content": null,
      "align_items": null,
      "align_self": null,
      "border": null,
      "bottom": null,
      "display": null,
      "flex": null,
      "flex_flow": null,
      "grid_area": null,
      "grid_auto_columns": null,
      "grid_auto_flow": null,
      "grid_auto_rows": null,
      "grid_column": null,
      "grid_gap": null,
      "grid_row": null,
      "grid_template_areas": null,
      "grid_template_columns": null,
      "grid_template_rows": null,
      "height": null,
      "justify_content": null,
      "justify_items": null,
      "left": null,
      "margin": null,
      "max_height": null,
      "max_width": null,
      "min_height": null,
      "min_width": null,
      "object_fit": null,
      "object_position": null,
      "order": null,
      "overflow": null,
      "overflow_x": null,
      "overflow_y": null,
      "padding": null,
      "right": null,
      "top": null,
      "visibility": null,
      "width": null
     }
    },
    "43e80f723fed4d2cbc2a71458a164790": {
     "model_module": "@jupyter-widgets/controls",
     "model_module_version": "1.5.0",
     "model_name": "FloatProgressModel",
     "state": {
      "_dom_classes": [],
      "_model_module": "@jupyter-widgets/controls",
      "_model_module_version": "1.5.0",
      "_model_name": "FloatProgressModel",
      "_view_count": null,
      "_view_module": "@jupyter-widgets/controls",
      "_view_module_version": "1.5.0",
      "_view_name": "ProgressView",
      "bar_style": "success",
      "description": "",
      "description_tooltip": null,
      "layout": "IPY_MODEL_83ed7a7f567d45aba86d0ec98d6fc5f5",
      "max": 1961828,
      "min": 0,
      "orientation": "horizontal",
      "style": "IPY_MODEL_80dcfe67209a4b10aa20a6d2fa2b6d51",
      "value": 1961828
     }
    },
    "48b5ea3f66f4484498e28cbd08310fda": {
     "model_module": "@jupyter-widgets/base",
     "model_module_version": "1.2.0",
     "model_name": "LayoutModel",
     "state": {
      "_model_module": "@jupyter-widgets/base",
      "_model_module_version": "1.2.0",
      "_model_name": "LayoutModel",
      "_view_count": null,
      "_view_module": "@jupyter-widgets/base",
      "_view_module_version": "1.2.0",
      "_view_name": "LayoutView",
      "align_content": null,
      "align_items": null,
      "align_self": null,
      "border": null,
      "bottom": null,
      "display": null,
      "flex": null,
      "flex_flow": null,
      "grid_area": null,
      "grid_auto_columns": null,
      "grid_auto_flow": null,
      "grid_auto_rows": null,
      "grid_column": null,
      "grid_gap": null,
      "grid_row": null,
      "grid_template_areas": null,
      "grid_template_columns": null,
      "grid_template_rows": null,
      "height": null,
      "justify_content": null,
      "justify_items": null,
      "left": null,
      "margin": null,
      "max_height": null,
      "max_width": null,
      "min_height": null,
      "min_width": null,
      "object_fit": null,
      "object_position": null,
      "order": null,
      "overflow": null,
      "overflow_x": null,
      "overflow_y": null,
      "padding": null,
      "right": null,
      "top": null,
      "visibility": null,
      "width": null
     }
    },
    "4953a4b9759c47b2b4be186ee5d2e3bd": {
     "model_module": "@jupyter-widgets/controls",
     "model_module_version": "1.5.0",
     "model_name": "FloatProgressModel",
     "state": {
      "_dom_classes": [],
      "_model_module": "@jupyter-widgets/controls",
      "_model_module_version": "1.5.0",
      "_model_name": "FloatProgressModel",
      "_view_count": null,
      "_view_module": "@jupyter-widgets/controls",
      "_view_module_version": "1.5.0",
      "_view_name": "ProgressView",
      "bar_style": "success",
      "description": "",
      "description_tooltip": null,
      "layout": "IPY_MODEL_15676b91ca4d420eb5d0fcd7a9bac065",
      "max": 995526,
      "min": 0,
      "orientation": "horizontal",
      "style": "IPY_MODEL_22bdd53c2f664478850428406913a5f8",
      "value": 995526
     }
    },
    "51448763dc674cd481799a06225ba841": {
     "model_module": "@jupyter-widgets/controls",
     "model_module_version": "1.5.0",
     "model_name": "HTMLModel",
     "state": {
      "_dom_classes": [],
      "_model_module": "@jupyter-widgets/controls",
      "_model_module_version": "1.5.0",
      "_model_name": "HTMLModel",
      "_view_count": null,
      "_view_module": "@jupyter-widgets/controls",
      "_view_module_version": "1.5.0",
      "_view_name": "HTMLView",
      "description": "",
      "description_tooltip": null,
      "layout": "IPY_MODEL_09fea481d6e644888e9a3296009c5116",
      "placeholder": "​",
      "style": "IPY_MODEL_b1106aaf509047769cb4527854f75bf2",
      "value": " 29.0/29.0 [00:00&lt;00:00, 671B/s]"
     }
    },
    "52c77c449185463c830de60351208846": {
     "model_module": "@jupyter-widgets/controls",
     "model_module_version": "1.5.0",
     "model_name": "HTMLModel",
     "state": {
      "_dom_classes": [],
      "_model_module": "@jupyter-widgets/controls",
      "_model_module_version": "1.5.0",
      "_model_name": "HTMLModel",
      "_view_count": null,
      "_view_module": "@jupyter-widgets/controls",
      "_view_module_version": "1.5.0",
      "_view_name": "HTMLView",
      "description": "",
      "description_tooltip": null,
      "layout": "IPY_MODEL_48b5ea3f66f4484498e28cbd08310fda",
      "placeholder": "​",
      "style": "IPY_MODEL_1502c3601d2143bc9dc40cc45962cc66",
      "value": "Downloading: 100%"
     }
    },
    "565e094c543f4b6f9898f7e569c36c57": {
     "model_module": "@jupyter-widgets/controls",
     "model_module_version": "1.5.0",
     "model_name": "HBoxModel",
     "state": {
      "_dom_classes": [],
      "_model_module": "@jupyter-widgets/controls",
      "_model_module_version": "1.5.0",
      "_model_name": "HBoxModel",
      "_view_count": null,
      "_view_module": "@jupyter-widgets/controls",
      "_view_module_version": "1.5.0",
      "_view_name": "HBoxView",
      "box_style": "",
      "children": [
       "IPY_MODEL_eec8529f8cd7435489eb3beb5e1543bc",
       "IPY_MODEL_b415b62ec5344a50b221dce23beda362",
       "IPY_MODEL_51448763dc674cd481799a06225ba841"
      ],
      "layout": "IPY_MODEL_becc98c6373e4fac9b8701397a2d1522"
     }
    },
    "59bfa001deb44451ace938ec459c79a0": {
     "model_module": "@jupyter-widgets/controls",
     "model_module_version": "1.5.0",
     "model_name": "HTMLModel",
     "state": {
      "_dom_classes": [],
      "_model_module": "@jupyter-widgets/controls",
      "_model_module_version": "1.5.0",
      "_model_name": "HTMLModel",
      "_view_count": null,
      "_view_module": "@jupyter-widgets/controls",
      "_view_module_version": "1.5.0",
      "_view_name": "HTMLView",
      "description": "",
      "description_tooltip": null,
      "layout": "IPY_MODEL_2c6a6426fe83485c8107242b66c67276",
      "placeholder": "​",
      "style": "IPY_MODEL_d24aeb9b7142438d87068d3316be991f",
      "value": " 1.96M/1.96M [00:00&lt;00:00, 1.08MB/s]"
     }
    },
    "68534dbd1ff24efaa5c1a4e6c6a9c2f4": {
     "model_module": "@jupyter-widgets/base",
     "model_module_version": "1.2.0",
     "model_name": "LayoutModel",
     "state": {
      "_model_module": "@jupyter-widgets/base",
      "_model_module_version": "1.2.0",
      "_model_name": "LayoutModel",
      "_view_count": null,
      "_view_module": "@jupyter-widgets/base",
      "_view_module_version": "1.2.0",
      "_view_name": "LayoutView",
      "align_content": null,
      "align_items": null,
      "align_self": null,
      "border": null,
      "bottom": null,
      "display": null,
      "flex": null,
      "flex_flow": null,
      "grid_area": null,
      "grid_auto_columns": null,
      "grid_auto_flow": null,
      "grid_auto_rows": null,
      "grid_column": null,
      "grid_gap": null,
      "grid_row": null,
      "grid_template_areas": null,
      "grid_template_columns": null,
      "grid_template_rows": null,
      "height": null,
      "justify_content": null,
      "justify_items": null,
      "left": null,
      "margin": null,
      "max_height": null,
      "max_width": null,
      "min_height": null,
      "min_width": null,
      "object_fit": null,
      "object_position": null,
      "order": null,
      "overflow": null,
      "overflow_x": null,
      "overflow_y": null,
      "padding": null,
      "right": null,
      "top": null,
      "visibility": null,
      "width": null
     }
    },
    "70a89b0220d847b8ac5b76b0e9127a9f": {
     "model_module": "@jupyter-widgets/base",
     "model_module_version": "1.2.0",
     "model_name": "LayoutModel",
     "state": {
      "_model_module": "@jupyter-widgets/base",
      "_model_module_version": "1.2.0",
      "_model_name": "LayoutModel",
      "_view_count": null,
      "_view_module": "@jupyter-widgets/base",
      "_view_module_version": "1.2.0",
      "_view_name": "LayoutView",
      "align_content": null,
      "align_items": null,
      "align_self": null,
      "border": null,
      "bottom": null,
      "display": null,
      "flex": null,
      "flex_flow": null,
      "grid_area": null,
      "grid_auto_columns": null,
      "grid_auto_flow": null,
      "grid_auto_rows": null,
      "grid_column": null,
      "grid_gap": null,
      "grid_row": null,
      "grid_template_areas": null,
      "grid_template_columns": null,
      "grid_template_rows": null,
      "height": null,
      "justify_content": null,
      "justify_items": null,
      "left": null,
      "margin": null,
      "max_height": null,
      "max_width": null,
      "min_height": null,
      "min_width": null,
      "object_fit": null,
      "object_position": null,
      "order": null,
      "overflow": null,
      "overflow_x": null,
      "overflow_y": null,
      "padding": null,
      "right": null,
      "top": null,
      "visibility": null,
      "width": null
     }
    },
    "7760d83f0e5e48a6bff8a9d74ec78d25": {
     "model_module": "@jupyter-widgets/controls",
     "model_module_version": "1.5.0",
     "model_name": "ProgressStyleModel",
     "state": {
      "_model_module": "@jupyter-widgets/controls",
      "_model_module_version": "1.5.0",
      "_model_name": "ProgressStyleModel",
      "_view_count": null,
      "_view_module": "@jupyter-widgets/base",
      "_view_module_version": "1.2.0",
      "_view_name": "StyleView",
      "bar_color": null,
      "description_width": ""
     }
    },
    "80dcfe67209a4b10aa20a6d2fa2b6d51": {
     "model_module": "@jupyter-widgets/controls",
     "model_module_version": "1.5.0",
     "model_name": "ProgressStyleModel",
     "state": {
      "_model_module": "@jupyter-widgets/controls",
      "_model_module_version": "1.5.0",
      "_model_name": "ProgressStyleModel",
      "_view_count": null,
      "_view_module": "@jupyter-widgets/base",
      "_view_module_version": "1.2.0",
      "_view_name": "StyleView",
      "bar_color": null,
      "description_width": ""
     }
    },
    "83ed7a7f567d45aba86d0ec98d6fc5f5": {
     "model_module": "@jupyter-widgets/base",
     "model_module_version": "1.2.0",
     "model_name": "LayoutModel",
     "state": {
      "_model_module": "@jupyter-widgets/base",
      "_model_module_version": "1.2.0",
      "_model_name": "LayoutModel",
      "_view_count": null,
      "_view_module": "@jupyter-widgets/base",
      "_view_module_version": "1.2.0",
      "_view_name": "LayoutView",
      "align_content": null,
      "align_items": null,
      "align_self": null,
      "border": null,
      "bottom": null,
      "display": null,
      "flex": null,
      "flex_flow": null,
      "grid_area": null,
      "grid_auto_columns": null,
      "grid_auto_flow": null,
      "grid_auto_rows": null,
      "grid_column": null,
      "grid_gap": null,
      "grid_row": null,
      "grid_template_areas": null,
      "grid_template_columns": null,
      "grid_template_rows": null,
      "height": null,
      "justify_content": null,
      "justify_items": null,
      "left": null,
      "margin": null,
      "max_height": null,
      "max_width": null,
      "min_height": null,
      "min_width": null,
      "object_fit": null,
      "object_position": null,
      "order": null,
      "overflow": null,
      "overflow_x": null,
      "overflow_y": null,
      "padding": null,
      "right": null,
      "top": null,
      "visibility": null,
      "width": null
     }
    },
    "8796a4d8f40d41b299c75770f967142b": {
     "model_module": "@jupyter-widgets/controls",
     "model_module_version": "1.5.0",
     "model_name": "DescriptionStyleModel",
     "state": {
      "_model_module": "@jupyter-widgets/controls",
      "_model_module_version": "1.5.0",
      "_model_name": "DescriptionStyleModel",
      "_view_count": null,
      "_view_module": "@jupyter-widgets/base",
      "_view_module_version": "1.2.0",
      "_view_name": "StyleView",
      "description_width": ""
     }
    },
    "8bee4803ffaa45c995ee7919000be65c": {
     "model_module": "@jupyter-widgets/controls",
     "model_module_version": "1.5.0",
     "model_name": "DescriptionStyleModel",
     "state": {
      "_model_module": "@jupyter-widgets/controls",
      "_model_module_version": "1.5.0",
      "_model_name": "DescriptionStyleModel",
      "_view_count": null,
      "_view_module": "@jupyter-widgets/base",
      "_view_module_version": "1.2.0",
      "_view_name": "StyleView",
      "description_width": ""
     }
    },
    "9a151cfade6b404a8015bd3e94653ab3": {
     "model_module": "@jupyter-widgets/base",
     "model_module_version": "1.2.0",
     "model_name": "LayoutModel",
     "state": {
      "_model_module": "@jupyter-widgets/base",
      "_model_module_version": "1.2.0",
      "_model_name": "LayoutModel",
      "_view_count": null,
      "_view_module": "@jupyter-widgets/base",
      "_view_module_version": "1.2.0",
      "_view_name": "LayoutView",
      "align_content": null,
      "align_items": null,
      "align_self": null,
      "border": null,
      "bottom": null,
      "display": null,
      "flex": null,
      "flex_flow": null,
      "grid_area": null,
      "grid_auto_columns": null,
      "grid_auto_flow": null,
      "grid_auto_rows": null,
      "grid_column": null,
      "grid_gap": null,
      "grid_row": null,
      "grid_template_areas": null,
      "grid_template_columns": null,
      "grid_template_rows": null,
      "height": null,
      "justify_content": null,
      "justify_items": null,
      "left": null,
      "margin": null,
      "max_height": null,
      "max_width": null,
      "min_height": null,
      "min_width": null,
      "object_fit": null,
      "object_position": null,
      "order": null,
      "overflow": null,
      "overflow_x": null,
      "overflow_y": null,
      "padding": null,
      "right": null,
      "top": null,
      "visibility": null,
      "width": null
     }
    },
    "9a2cd6619ce44d94b809d733b6354ad5": {
     "model_module": "@jupyter-widgets/controls",
     "model_module_version": "1.5.0",
     "model_name": "FloatProgressModel",
     "state": {
      "_dom_classes": [],
      "_model_module": "@jupyter-widgets/controls",
      "_model_module_version": "1.5.0",
      "_model_name": "FloatProgressModel",
      "_view_count": null,
      "_view_module": "@jupyter-widgets/controls",
      "_view_module_version": "1.5.0",
      "_view_name": "ProgressView",
      "bar_style": "success",
      "description": "",
      "description_tooltip": null,
      "layout": "IPY_MODEL_d5732b2785df4e28b0fd2a24cfd5c4db",
      "max": 625,
      "min": 0,
      "orientation": "horizontal",
      "style": "IPY_MODEL_e4e886cc1caa4cbf8e8c091938066c5c",
      "value": 625
     }
    },
    "a724aa5e5f704e2996dab0a793fdd2cd": {
     "model_module": "@jupyter-widgets/controls",
     "model_module_version": "1.5.0",
     "model_name": "HTMLModel",
     "state": {
      "_dom_classes": [],
      "_model_module": "@jupyter-widgets/controls",
      "_model_module_version": "1.5.0",
      "_model_name": "HTMLModel",
      "_view_count": null,
      "_view_module": "@jupyter-widgets/controls",
      "_view_module_version": "1.5.0",
      "_view_name": "HTMLView",
      "description": "",
      "description_tooltip": null,
      "layout": "IPY_MODEL_f40420e63ec64d2393249e09dc686edb",
      "placeholder": "​",
      "style": "IPY_MODEL_f7f385817db84939895d5cd58e7d1e8f",
      "value": "Downloading: 100%"
     }
    },
    "b1106aaf509047769cb4527854f75bf2": {
     "model_module": "@jupyter-widgets/controls",
     "model_module_version": "1.5.0",
     "model_name": "DescriptionStyleModel",
     "state": {
      "_model_module": "@jupyter-widgets/controls",
      "_model_module_version": "1.5.0",
      "_model_name": "DescriptionStyleModel",
      "_view_count": null,
      "_view_module": "@jupyter-widgets/base",
      "_view_module_version": "1.2.0",
      "_view_name": "StyleView",
      "description_width": ""
     }
    },
    "b415b62ec5344a50b221dce23beda362": {
     "model_module": "@jupyter-widgets/controls",
     "model_module_version": "1.5.0",
     "model_name": "FloatProgressModel",
     "state": {
      "_dom_classes": [],
      "_model_module": "@jupyter-widgets/controls",
      "_model_module_version": "1.5.0",
      "_model_name": "FloatProgressModel",
      "_view_count": null,
      "_view_module": "@jupyter-widgets/controls",
      "_view_module_version": "1.5.0",
      "_view_name": "ProgressView",
      "bar_style": "success",
      "description": "",
      "description_tooltip": null,
      "layout": "IPY_MODEL_ccdb897efbc84cd19c811bcdd4c02e74",
      "max": 29,
      "min": 0,
      "orientation": "horizontal",
      "style": "IPY_MODEL_7760d83f0e5e48a6bff8a9d74ec78d25",
      "value": 29
     }
    },
    "becc98c6373e4fac9b8701397a2d1522": {
     "model_module": "@jupyter-widgets/base",
     "model_module_version": "1.2.0",
     "model_name": "LayoutModel",
     "state": {
      "_model_module": "@jupyter-widgets/base",
      "_model_module_version": "1.2.0",
      "_model_name": "LayoutModel",
      "_view_count": null,
      "_view_module": "@jupyter-widgets/base",
      "_view_module_version": "1.2.0",
      "_view_name": "LayoutView",
      "align_content": null,
      "align_items": null,
      "align_self": null,
      "border": null,
      "bottom": null,
      "display": null,
      "flex": null,
      "flex_flow": null,
      "grid_area": null,
      "grid_auto_columns": null,
      "grid_auto_flow": null,
      "grid_auto_rows": null,
      "grid_column": null,
      "grid_gap": null,
      "grid_row": null,
      "grid_template_areas": null,
      "grid_template_columns": null,
      "grid_template_rows": null,
      "height": null,
      "justify_content": null,
      "justify_items": null,
      "left": null,
      "margin": null,
      "max_height": null,
      "max_width": null,
      "min_height": null,
      "min_width": null,
      "object_fit": null,
      "object_position": null,
      "order": null,
      "overflow": null,
      "overflow_x": null,
      "overflow_y": null,
      "padding": null,
      "right": null,
      "top": null,
      "visibility": null,
      "width": null
     }
    },
    "c15b1163a8074a0dbaaeb036142d3f44": {
     "model_module": "@jupyter-widgets/controls",
     "model_module_version": "1.5.0",
     "model_name": "HBoxModel",
     "state": {
      "_dom_classes": [],
      "_model_module": "@jupyter-widgets/controls",
      "_model_module_version": "1.5.0",
      "_model_name": "HBoxModel",
      "_view_count": null,
      "_view_module": "@jupyter-widgets/controls",
      "_view_module_version": "1.5.0",
      "_view_name": "HBoxView",
      "box_style": "",
      "children": [
       "IPY_MODEL_52c77c449185463c830de60351208846",
       "IPY_MODEL_4953a4b9759c47b2b4be186ee5d2e3bd",
       "IPY_MODEL_cd38c8116d6642ea875c33d00a31dfcc"
      ],
      "layout": "IPY_MODEL_9a151cfade6b404a8015bd3e94653ab3"
     }
    },
    "c4b91cb2d4be490388fcda285c465cbc": {
     "model_module": "@jupyter-widgets/base",
     "model_module_version": "1.2.0",
     "model_name": "LayoutModel",
     "state": {
      "_model_module": "@jupyter-widgets/base",
      "_model_module_version": "1.2.0",
      "_model_name": "LayoutModel",
      "_view_count": null,
      "_view_module": "@jupyter-widgets/base",
      "_view_module_version": "1.2.0",
      "_view_name": "LayoutView",
      "align_content": null,
      "align_items": null,
      "align_self": null,
      "border": null,
      "bottom": null,
      "display": null,
      "flex": null,
      "flex_flow": null,
      "grid_area": null,
      "grid_auto_columns": null,
      "grid_auto_flow": null,
      "grid_auto_rows": null,
      "grid_column": null,
      "grid_gap": null,
      "grid_row": null,
      "grid_template_areas": null,
      "grid_template_columns": null,
      "grid_template_rows": null,
      "height": null,
      "justify_content": null,
      "justify_items": null,
      "left": null,
      "margin": null,
      "max_height": null,
      "max_width": null,
      "min_height": null,
      "min_width": null,
      "object_fit": null,
      "object_position": null,
      "order": null,
      "overflow": null,
      "overflow_x": null,
      "overflow_y": null,
      "padding": null,
      "right": null,
      "top": null,
      "visibility": null,
      "width": null
     }
    },
    "cbc9eb35b1c44681abe0da327744b72c": {
     "model_module": "@jupyter-widgets/base",
     "model_module_version": "1.2.0",
     "model_name": "LayoutModel",
     "state": {
      "_model_module": "@jupyter-widgets/base",
      "_model_module_version": "1.2.0",
      "_model_name": "LayoutModel",
      "_view_count": null,
      "_view_module": "@jupyter-widgets/base",
      "_view_module_version": "1.2.0",
      "_view_name": "LayoutView",
      "align_content": null,
      "align_items": null,
      "align_self": null,
      "border": null,
      "bottom": null,
      "display": null,
      "flex": null,
      "flex_flow": null,
      "grid_area": null,
      "grid_auto_columns": null,
      "grid_auto_flow": null,
      "grid_auto_rows": null,
      "grid_column": null,
      "grid_gap": null,
      "grid_row": null,
      "grid_template_areas": null,
      "grid_template_columns": null,
      "grid_template_rows": null,
      "height": null,
      "justify_content": null,
      "justify_items": null,
      "left": null,
      "margin": null,
      "max_height": null,
      "max_width": null,
      "min_height": null,
      "min_width": null,
      "object_fit": null,
      "object_position": null,
      "order": null,
      "overflow": null,
      "overflow_x": null,
      "overflow_y": null,
      "padding": null,
      "right": null,
      "top": null,
      "visibility": null,
      "width": null
     }
    },
    "ccdb897efbc84cd19c811bcdd4c02e74": {
     "model_module": "@jupyter-widgets/base",
     "model_module_version": "1.2.0",
     "model_name": "LayoutModel",
     "state": {
      "_model_module": "@jupyter-widgets/base",
      "_model_module_version": "1.2.0",
      "_model_name": "LayoutModel",
      "_view_count": null,
      "_view_module": "@jupyter-widgets/base",
      "_view_module_version": "1.2.0",
      "_view_name": "LayoutView",
      "align_content": null,
      "align_items": null,
      "align_self": null,
      "border": null,
      "bottom": null,
      "display": null,
      "flex": null,
      "flex_flow": null,
      "grid_area": null,
      "grid_auto_columns": null,
      "grid_auto_flow": null,
      "grid_auto_rows": null,
      "grid_column": null,
      "grid_gap": null,
      "grid_row": null,
      "grid_template_areas": null,
      "grid_template_columns": null,
      "grid_template_rows": null,
      "height": null,
      "justify_content": null,
      "justify_items": null,
      "left": null,
      "margin": null,
      "max_height": null,
      "max_width": null,
      "min_height": null,
      "min_width": null,
      "object_fit": null,
      "object_position": null,
      "order": null,
      "overflow": null,
      "overflow_x": null,
      "overflow_y": null,
      "padding": null,
      "right": null,
      "top": null,
      "visibility": null,
      "width": null
     }
    },
    "cd38c8116d6642ea875c33d00a31dfcc": {
     "model_module": "@jupyter-widgets/controls",
     "model_module_version": "1.5.0",
     "model_name": "HTMLModel",
     "state": {
      "_dom_classes": [],
      "_model_module": "@jupyter-widgets/controls",
      "_model_module_version": "1.5.0",
      "_model_name": "HTMLModel",
      "_view_count": null,
      "_view_module": "@jupyter-widgets/controls",
      "_view_module_version": "1.5.0",
      "_view_name": "HTMLView",
      "description": "",
      "description_tooltip": null,
      "layout": "IPY_MODEL_cbc9eb35b1c44681abe0da327744b72c",
      "placeholder": "​",
      "style": "IPY_MODEL_d6ee3fca1ecc47bdb21fdbb5f2b454a4",
      "value": " 996k/996k [00:00&lt;00:00, 1.40MB/s]"
     }
    },
    "ce039e6d65b34140b34d5e986ce7f2ac": {
     "model_module": "@jupyter-widgets/controls",
     "model_module_version": "1.5.0",
     "model_name": "HTMLModel",
     "state": {
      "_dom_classes": [],
      "_model_module": "@jupyter-widgets/controls",
      "_model_module_version": "1.5.0",
      "_model_name": "HTMLModel",
      "_view_count": null,
      "_view_module": "@jupyter-widgets/controls",
      "_view_module_version": "1.5.0",
      "_view_name": "HTMLView",
      "description": "",
      "description_tooltip": null,
      "layout": "IPY_MODEL_f9773acaa6f3479f83f612eb77ecd080",
      "placeholder": "​",
      "style": "IPY_MODEL_8796a4d8f40d41b299c75770f967142b",
      "value": "Downloading: 100%"
     }
    },
    "d24aeb9b7142438d87068d3316be991f": {
     "model_module": "@jupyter-widgets/controls",
     "model_module_version": "1.5.0",
     "model_name": "DescriptionStyleModel",
     "state": {
      "_model_module": "@jupyter-widgets/controls",
      "_model_module_version": "1.5.0",
      "_model_name": "DescriptionStyleModel",
      "_view_count": null,
      "_view_module": "@jupyter-widgets/base",
      "_view_module_version": "1.2.0",
      "_view_name": "StyleView",
      "description_width": ""
     }
    },
    "d5732b2785df4e28b0fd2a24cfd5c4db": {
     "model_module": "@jupyter-widgets/base",
     "model_module_version": "1.2.0",
     "model_name": "LayoutModel",
     "state": {
      "_model_module": "@jupyter-widgets/base",
      "_model_module_version": "1.2.0",
      "_model_name": "LayoutModel",
      "_view_count": null,
      "_view_module": "@jupyter-widgets/base",
      "_view_module_version": "1.2.0",
      "_view_name": "LayoutView",
      "align_content": null,
      "align_items": null,
      "align_self": null,
      "border": null,
      "bottom": null,
      "display": null,
      "flex": null,
      "flex_flow": null,
      "grid_area": null,
      "grid_auto_columns": null,
      "grid_auto_flow": null,
      "grid_auto_rows": null,
      "grid_column": null,
      "grid_gap": null,
      "grid_row": null,
      "grid_template_areas": null,
      "grid_template_columns": null,
      "grid_template_rows": null,
      "height": null,
      "justify_content": null,
      "justify_items": null,
      "left": null,
      "margin": null,
      "max_height": null,
      "max_width": null,
      "min_height": null,
      "min_width": null,
      "object_fit": null,
      "object_position": null,
      "order": null,
      "overflow": null,
      "overflow_x": null,
      "overflow_y": null,
      "padding": null,
      "right": null,
      "top": null,
      "visibility": null,
      "width": null
     }
    },
    "d6ee3fca1ecc47bdb21fdbb5f2b454a4": {
     "model_module": "@jupyter-widgets/controls",
     "model_module_version": "1.5.0",
     "model_name": "DescriptionStyleModel",
     "state": {
      "_model_module": "@jupyter-widgets/controls",
      "_model_module_version": "1.5.0",
      "_model_name": "DescriptionStyleModel",
      "_view_count": null,
      "_view_module": "@jupyter-widgets/base",
      "_view_module_version": "1.2.0",
      "_view_name": "StyleView",
      "description_width": ""
     }
    },
    "e0e801888902442aa3cfdb0f7eae2f95": {
     "model_module": "@jupyter-widgets/controls",
     "model_module_version": "1.5.0",
     "model_name": "HBoxModel",
     "state": {
      "_dom_classes": [],
      "_model_module": "@jupyter-widgets/controls",
      "_model_module_version": "1.5.0",
      "_model_name": "HBoxModel",
      "_view_count": null,
      "_view_module": "@jupyter-widgets/controls",
      "_view_module_version": "1.5.0",
      "_view_name": "HBoxView",
      "box_style": "",
      "children": [
       "IPY_MODEL_a724aa5e5f704e2996dab0a793fdd2cd",
       "IPY_MODEL_9a2cd6619ce44d94b809d733b6354ad5",
       "IPY_MODEL_19a704b3b56d4e5286d11fa3e46d5adc"
      ],
      "layout": "IPY_MODEL_70a89b0220d847b8ac5b76b0e9127a9f"
     }
    },
    "e4e886cc1caa4cbf8e8c091938066c5c": {
     "model_module": "@jupyter-widgets/controls",
     "model_module_version": "1.5.0",
     "model_name": "ProgressStyleModel",
     "state": {
      "_model_module": "@jupyter-widgets/controls",
      "_model_module_version": "1.5.0",
      "_model_name": "ProgressStyleModel",
      "_view_count": null,
      "_view_module": "@jupyter-widgets/base",
      "_view_module_version": "1.2.0",
      "_view_name": "StyleView",
      "bar_color": null,
      "description_width": ""
     }
    },
    "e6c3f0637de34d95a26e6c93161eeef3": {
     "model_module": "@jupyter-widgets/controls",
     "model_module_version": "1.5.0",
     "model_name": "DescriptionStyleModel",
     "state": {
      "_model_module": "@jupyter-widgets/controls",
      "_model_module_version": "1.5.0",
      "_model_name": "DescriptionStyleModel",
      "_view_count": null,
      "_view_module": "@jupyter-widgets/base",
      "_view_module_version": "1.2.0",
      "_view_name": "StyleView",
      "description_width": ""
     }
    },
    "eec8529f8cd7435489eb3beb5e1543bc": {
     "model_module": "@jupyter-widgets/controls",
     "model_module_version": "1.5.0",
     "model_name": "HTMLModel",
     "state": {
      "_dom_classes": [],
      "_model_module": "@jupyter-widgets/controls",
      "_model_module_version": "1.5.0",
      "_model_name": "HTMLModel",
      "_view_count": null,
      "_view_module": "@jupyter-widgets/controls",
      "_view_module_version": "1.5.0",
      "_view_name": "HTMLView",
      "description": "",
      "description_tooltip": null,
      "layout": "IPY_MODEL_68534dbd1ff24efaa5c1a4e6c6a9c2f4",
      "placeholder": "​",
      "style": "IPY_MODEL_8bee4803ffaa45c995ee7919000be65c",
      "value": "Downloading: 100%"
     }
    },
    "f40420e63ec64d2393249e09dc686edb": {
     "model_module": "@jupyter-widgets/base",
     "model_module_version": "1.2.0",
     "model_name": "LayoutModel",
     "state": {
      "_model_module": "@jupyter-widgets/base",
      "_model_module_version": "1.2.0",
      "_model_name": "LayoutModel",
      "_view_count": null,
      "_view_module": "@jupyter-widgets/base",
      "_view_module_version": "1.2.0",
      "_view_name": "LayoutView",
      "align_content": null,
      "align_items": null,
      "align_self": null,
      "border": null,
      "bottom": null,
      "display": null,
      "flex": null,
      "flex_flow": null,
      "grid_area": null,
      "grid_auto_columns": null,
      "grid_auto_flow": null,
      "grid_auto_rows": null,
      "grid_column": null,
      "grid_gap": null,
      "grid_row": null,
      "grid_template_areas": null,
      "grid_template_columns": null,
      "grid_template_rows": null,
      "height": null,
      "justify_content": null,
      "justify_items": null,
      "left": null,
      "margin": null,
      "max_height": null,
      "max_width": null,
      "min_height": null,
      "min_width": null,
      "object_fit": null,
      "object_position": null,
      "order": null,
      "overflow": null,
      "overflow_x": null,
      "overflow_y": null,
      "padding": null,
      "right": null,
      "top": null,
      "visibility": null,
      "width": null
     }
    },
    "f7f385817db84939895d5cd58e7d1e8f": {
     "model_module": "@jupyter-widgets/controls",
     "model_module_version": "1.5.0",
     "model_name": "DescriptionStyleModel",
     "state": {
      "_model_module": "@jupyter-widgets/controls",
      "_model_module_version": "1.5.0",
      "_model_name": "DescriptionStyleModel",
      "_view_count": null,
      "_view_module": "@jupyter-widgets/base",
      "_view_module_version": "1.2.0",
      "_view_name": "StyleView",
      "description_width": ""
     }
    },
    "f9773acaa6f3479f83f612eb77ecd080": {
     "model_module": "@jupyter-widgets/base",
     "model_module_version": "1.2.0",
     "model_name": "LayoutModel",
     "state": {
      "_model_module": "@jupyter-widgets/base",
      "_model_module_version": "1.2.0",
      "_model_name": "LayoutModel",
      "_view_count": null,
      "_view_module": "@jupyter-widgets/base",
      "_view_module_version": "1.2.0",
      "_view_name": "LayoutView",
      "align_content": null,
      "align_items": null,
      "align_self": null,
      "border": null,
      "bottom": null,
      "display": null,
      "flex": null,
      "flex_flow": null,
      "grid_area": null,
      "grid_auto_columns": null,
      "grid_auto_flow": null,
      "grid_auto_rows": null,
      "grid_column": null,
      "grid_gap": null,
      "grid_row": null,
      "grid_template_areas": null,
      "grid_template_columns": null,
      "grid_template_rows": null,
      "height": null,
      "justify_content": null,
      "justify_items": null,
      "left": null,
      "margin": null,
      "max_height": null,
      "max_width": null,
      "min_height": null,
      "min_width": null,
      "object_fit": null,
      "object_position": null,
      "order": null,
      "overflow": null,
      "overflow_x": null,
      "overflow_y": null,
      "padding": null,
      "right": null,
      "top": null,
      "visibility": null,
      "width": null
     }
    }
   }
  }
 },
 "nbformat": 4,
 "nbformat_minor": 1
}
