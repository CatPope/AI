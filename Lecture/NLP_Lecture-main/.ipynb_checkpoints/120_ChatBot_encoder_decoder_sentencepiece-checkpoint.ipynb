{
 "cells": [
  {
   "cell_type": "markdown",
   "metadata": {
    "id": "XmkplRCZlsgK"
   },
   "source": [
    "# 120. Chatbot - seq2seq language model\n",
    "\n",
    "## Encoder-Decoder model\n",
    "\n",
    "- Chatbot_data_for_Korean v1.0 dataset (https://github.com/songys/Chatbot_data) 을 이용한 Chatbot model 개발\n",
    "\n",
    "- 챗봇 트레이닝용 문답 페어 11,876개  \n",
    "- 일상다반사 - 0,\n",
    "- 이별(부정) - 1,\n",
    "- 사랑(긍정) - 2 로 레이블링  \n",
    "\n",
    "<img src='https://github.com/ironmanciti/NLP_Lecture/raw/master/chatbot.png' width=600>"
   ]
  },
  {
   "cell_type": "code",
   "execution_count": 32,
   "metadata": {
    "id": "G3EOljBv8DoS"
   },
   "outputs": [],
   "source": [
    "!pip install -q sentencepiece"
   ]
  },
  {
   "cell_type": "code",
   "execution_count": 33,
   "metadata": {
    "id": "c9_0sp0bly9-"
   },
   "outputs": [],
   "source": [
    "import numpy as np\n",
    "import pandas as pd\n",
    "import matplotlib.pyplot as plt\n",
    "import tensorflow as tf\n",
    "import sentencepiece as spm\n",
    "from tensorflow.keras.models import Model\n",
    "from tensorflow.keras.layers import Dense, Embedding, Input, LSTM\n",
    "from tensorflow.keras.preprocessing.text import Tokenizer\n",
    "from tensorflow.keras.preprocessing.sequence import pad_sequences\n",
    "from tensorflow.keras.utils import to_categorical, plot_model"
   ]
  },
  {
   "cell_type": "code",
   "execution_count": 34,
   "metadata": {
    "id": "DwX2QDgylsgL"
   },
   "outputs": [],
   "source": [
    "LATENT_DIM = 128                # encoding space 의 latent dimensionality\n",
    "EMBEDDING_DIM = 100"
   ]
  },
  {
   "cell_type": "markdown",
   "metadata": {
    "id": "sfuxDUlqKA0U"
   },
   "source": [
    "Train Data 불러오기"
   ]
  },
  {
   "cell_type": "code",
   "execution_count": 35,
   "metadata": {
    "colab": {
     "base_uri": "https://localhost:8080/",
     "height": 206
    },
    "id": "oAxrCnWLlsgO",
    "outputId": "9e9405cb-53e9-4c09-9607-10f086a52013"
   },
   "outputs": [
    {
     "data": {
      "text/html": [
       "\n",
       "  <div id=\"df-ce1cdda8-f545-4aac-8a2e-10a1571368ab\" class=\"colab-df-container\">\n",
       "    <div>\n",
       "<style scoped>\n",
       "    .dataframe tbody tr th:only-of-type {\n",
       "        vertical-align: middle;\n",
       "    }\n",
       "\n",
       "    .dataframe tbody tr th {\n",
       "        vertical-align: top;\n",
       "    }\n",
       "\n",
       "    .dataframe thead th {\n",
       "        text-align: right;\n",
       "    }\n",
       "</style>\n",
       "<table border=\"1\" class=\"dataframe\">\n",
       "  <thead>\n",
       "    <tr style=\"text-align: right;\">\n",
       "      <th></th>\n",
       "      <th>Q</th>\n",
       "      <th>A</th>\n",
       "      <th>label</th>\n",
       "    </tr>\n",
       "  </thead>\n",
       "  <tbody>\n",
       "    <tr>\n",
       "      <th>0</th>\n",
       "      <td>12시 땡!</td>\n",
       "      <td>하루가 또 가네요.</td>\n",
       "      <td>0</td>\n",
       "    </tr>\n",
       "    <tr>\n",
       "      <th>1</th>\n",
       "      <td>1지망 학교 떨어졌어</td>\n",
       "      <td>위로해 드립니다.</td>\n",
       "      <td>0</td>\n",
       "    </tr>\n",
       "    <tr>\n",
       "      <th>2</th>\n",
       "      <td>3박4일 놀러가고 싶다</td>\n",
       "      <td>여행은 언제나 좋죠.</td>\n",
       "      <td>0</td>\n",
       "    </tr>\n",
       "    <tr>\n",
       "      <th>3</th>\n",
       "      <td>3박4일 정도 놀러가고 싶다</td>\n",
       "      <td>여행은 언제나 좋죠.</td>\n",
       "      <td>0</td>\n",
       "    </tr>\n",
       "    <tr>\n",
       "      <th>4</th>\n",
       "      <td>PPL 심하네</td>\n",
       "      <td>눈살이 찌푸려지죠.</td>\n",
       "      <td>0</td>\n",
       "    </tr>\n",
       "  </tbody>\n",
       "</table>\n",
       "</div>\n",
       "    <div class=\"colab-df-buttons\">\n",
       "\n",
       "  <div class=\"colab-df-container\">\n",
       "    <button class=\"colab-df-convert\" onclick=\"convertToInteractive('df-ce1cdda8-f545-4aac-8a2e-10a1571368ab')\"\n",
       "            title=\"Convert this dataframe to an interactive table.\"\n",
       "            style=\"display:none;\">\n",
       "\n",
       "  <svg xmlns=\"http://www.w3.org/2000/svg\" height=\"24px\" viewBox=\"0 -960 960 960\">\n",
       "    <path d=\"M120-120v-720h720v720H120Zm60-500h600v-160H180v160Zm220 220h160v-160H400v160Zm0 220h160v-160H400v160ZM180-400h160v-160H180v160Zm440 0h160v-160H620v160ZM180-180h160v-160H180v160Zm440 0h160v-160H620v160Z\"/>\n",
       "  </svg>\n",
       "    </button>\n",
       "\n",
       "  <style>\n",
       "    .colab-df-container {\n",
       "      display:flex;\n",
       "      gap: 12px;\n",
       "    }\n",
       "\n",
       "    .colab-df-convert {\n",
       "      background-color: #E8F0FE;\n",
       "      border: none;\n",
       "      border-radius: 50%;\n",
       "      cursor: pointer;\n",
       "      display: none;\n",
       "      fill: #1967D2;\n",
       "      height: 32px;\n",
       "      padding: 0 0 0 0;\n",
       "      width: 32px;\n",
       "    }\n",
       "\n",
       "    .colab-df-convert:hover {\n",
       "      background-color: #E2EBFA;\n",
       "      box-shadow: 0px 1px 2px rgba(60, 64, 67, 0.3), 0px 1px 3px 1px rgba(60, 64, 67, 0.15);\n",
       "      fill: #174EA6;\n",
       "    }\n",
       "\n",
       "    .colab-df-buttons div {\n",
       "      margin-bottom: 4px;\n",
       "    }\n",
       "\n",
       "    [theme=dark] .colab-df-convert {\n",
       "      background-color: #3B4455;\n",
       "      fill: #D2E3FC;\n",
       "    }\n",
       "\n",
       "    [theme=dark] .colab-df-convert:hover {\n",
       "      background-color: #434B5C;\n",
       "      box-shadow: 0px 1px 3px 1px rgba(0, 0, 0, 0.15);\n",
       "      filter: drop-shadow(0px 1px 2px rgba(0, 0, 0, 0.3));\n",
       "      fill: #FFFFFF;\n",
       "    }\n",
       "  </style>\n",
       "\n",
       "    <script>\n",
       "      const buttonEl =\n",
       "        document.querySelector('#df-ce1cdda8-f545-4aac-8a2e-10a1571368ab button.colab-df-convert');\n",
       "      buttonEl.style.display =\n",
       "        google.colab.kernel.accessAllowed ? 'block' : 'none';\n",
       "\n",
       "      async function convertToInteractive(key) {\n",
       "        const element = document.querySelector('#df-ce1cdda8-f545-4aac-8a2e-10a1571368ab');\n",
       "        const dataTable =\n",
       "          await google.colab.kernel.invokeFunction('convertToInteractive',\n",
       "                                                    [key], {});\n",
       "        if (!dataTable) return;\n",
       "\n",
       "        const docLinkHtml = 'Like what you see? Visit the ' +\n",
       "          '<a target=\"_blank\" href=https://colab.research.google.com/notebooks/data_table.ipynb>data table notebook</a>'\n",
       "          + ' to learn more about interactive tables.';\n",
       "        element.innerHTML = '';\n",
       "        dataTable['output_type'] = 'display_data';\n",
       "        await google.colab.output.renderOutput(dataTable, element);\n",
       "        const docLink = document.createElement('div');\n",
       "        docLink.innerHTML = docLinkHtml;\n",
       "        element.appendChild(docLink);\n",
       "      }\n",
       "    </script>\n",
       "  </div>\n",
       "\n",
       "\n",
       "<div id=\"df-e555d58e-5966-445d-93fb-09207b7f7866\">\n",
       "  <button class=\"colab-df-quickchart\" onclick=\"quickchart('df-e555d58e-5966-445d-93fb-09207b7f7866')\"\n",
       "            title=\"Suggest charts.\"\n",
       "            style=\"display:none;\">\n",
       "\n",
       "<svg xmlns=\"http://www.w3.org/2000/svg\" height=\"24px\"viewBox=\"0 0 24 24\"\n",
       "     width=\"24px\">\n",
       "    <g>\n",
       "        <path d=\"M19 3H5c-1.1 0-2 .9-2 2v14c0 1.1.9 2 2 2h14c1.1 0 2-.9 2-2V5c0-1.1-.9-2-2-2zM9 17H7v-7h2v7zm4 0h-2V7h2v10zm4 0h-2v-4h2v4z\"/>\n",
       "    </g>\n",
       "</svg>\n",
       "  </button>\n",
       "\n",
       "<style>\n",
       "  .colab-df-quickchart {\n",
       "    background-color: #E8F0FE;\n",
       "    border: none;\n",
       "    border-radius: 50%;\n",
       "    cursor: pointer;\n",
       "    display: none;\n",
       "    fill: #1967D2;\n",
       "    height: 32px;\n",
       "    padding: 0 0 0 0;\n",
       "    width: 32px;\n",
       "  }\n",
       "\n",
       "  .colab-df-quickchart:hover {\n",
       "    background-color: #E2EBFA;\n",
       "    box-shadow: 0px 1px 2px rgba(60, 64, 67, 0.3), 0px 1px 3px 1px rgba(60, 64, 67, 0.15);\n",
       "    fill: #174EA6;\n",
       "  }\n",
       "\n",
       "  [theme=dark] .colab-df-quickchart {\n",
       "    background-color: #3B4455;\n",
       "    fill: #D2E3FC;\n",
       "  }\n",
       "\n",
       "  [theme=dark] .colab-df-quickchart:hover {\n",
       "    background-color: #434B5C;\n",
       "    box-shadow: 0px 1px 3px 1px rgba(0, 0, 0, 0.15);\n",
       "    filter: drop-shadow(0px 1px 2px rgba(0, 0, 0, 0.3));\n",
       "    fill: #FFFFFF;\n",
       "  }\n",
       "</style>\n",
       "\n",
       "  <script>\n",
       "    async function quickchart(key) {\n",
       "      const charts = await google.colab.kernel.invokeFunction(\n",
       "          'suggestCharts', [key], {});\n",
       "    }\n",
       "    (() => {\n",
       "      let quickchartButtonEl =\n",
       "        document.querySelector('#df-e555d58e-5966-445d-93fb-09207b7f7866 button');\n",
       "      quickchartButtonEl.style.display =\n",
       "        google.colab.kernel.accessAllowed ? 'block' : 'none';\n",
       "    })();\n",
       "  </script>\n",
       "</div>\n",
       "    </div>\n",
       "  </div>\n"
      ],
      "text/plain": [
       "                 Q            A  label\n",
       "0           12시 땡!   하루가 또 가네요.      0\n",
       "1      1지망 학교 떨어졌어    위로해 드립니다.      0\n",
       "2     3박4일 놀러가고 싶다  여행은 언제나 좋죠.      0\n",
       "3  3박4일 정도 놀러가고 싶다  여행은 언제나 좋죠.      0\n",
       "4          PPL 심하네   눈살이 찌푸려지죠.      0"
      ]
     },
     "execution_count": 35,
     "metadata": {},
     "output_type": "execute_result"
    }
   ],
   "source": [
    "df = pd.read_csv('https://github.com/ironmanciti/NLP_Lecture/raw/master/data/ChatbotData.csv')\n",
    "df.head()"
   ]
  },
  {
   "cell_type": "code",
   "execution_count": 36,
   "metadata": {
    "colab": {
     "base_uri": "https://localhost:8080/"
    },
    "id": "Ggjm3RYylsgT",
    "outputId": "be8cb922-7895-481a-f057-ac25f78a88e3"
   },
   "outputs": [
    {
     "name": "stdout",
     "output_type": "stream",
     "text": [
      "<class 'pandas.core.frame.DataFrame'>\n",
      "RangeIndex: 11823 entries, 0 to 11822\n",
      "Data columns (total 3 columns):\n",
      " #   Column  Non-Null Count  Dtype \n",
      "---  ------  --------------  ----- \n",
      " 0   Q       11823 non-null  object\n",
      " 1   A       11823 non-null  object\n",
      " 2   label   11823 non-null  int64 \n",
      "dtypes: int64(1), object(2)\n",
      "memory usage: 277.2+ KB\n"
     ]
    }
   ],
   "source": [
    "df.info()"
   ]
  },
  {
   "cell_type": "markdown",
   "metadata": {
    "id": "tJ73w68NKG6A"
   },
   "source": [
    "Data 확인"
   ]
  },
  {
   "cell_type": "code",
   "execution_count": 37,
   "metadata": {
    "colab": {
     "base_uri": "https://localhost:8080/"
    },
    "id": "nXpwdBi2lsgW",
    "outputId": "d6481d02-0969-46d3-d805-4a7fd3f7c063"
   },
   "outputs": [
    {
     "data": {
      "text/plain": [
       "array([['12시 땡!', '하루가 또 가네요.'],\n",
       "       ['1지망 학교 떨어졌어', '위로해 드립니다.'],\n",
       "       ['3박4일 놀러가고 싶다', '여행은 언제나 좋죠.'],\n",
       "       ...,\n",
       "       ['흑기사 해주는 짝남.', '설렜겠어요.'],\n",
       "       ['힘든 연애 좋은 연애라는게 무슨 차이일까?', '잘 헤어질 수 있는 사이 여부인 거 같아요.'],\n",
       "       ['힘들어서 결혼할까봐', '도피성 결혼은 하지 않길 바라요.']], dtype=object)"
      ]
     },
     "execution_count": 37,
     "metadata": {},
     "output_type": "execute_result"
    }
   ],
   "source": [
    "df.iloc[:, [0, 1]].values"
   ]
  },
  {
   "cell_type": "markdown",
   "metadata": {
    "id": "VgosYfxgKKaw"
   },
   "source": [
    "Train 용 Question, Answer data 작성"
   ]
  },
  {
   "cell_type": "code",
   "execution_count": 38,
   "metadata": {
    "colab": {
     "base_uri": "https://localhost:8080/"
    },
    "id": "w_w_4kr8762q",
    "outputId": "a47a466a-c88f-4ea7-caff-125f5e0ee6a3"
   },
   "outputs": [
    {
     "name": "stdout",
     "output_type": "stream",
     "text": [
      "23646 11823 11823\n",
      "Question :\n",
      "['12시 땡!', '1지망 학교 떨어졌어', '3박4일 놀러가고 싶다', '3박4일 정도 놀러가고 싶다', 'PPL 심하네']\n",
      "Answer :\n",
      "['하루가 또 가네요.', '위로해 드립니다.', '여행은 언제나 좋죠.', '여행은 언제나 좋죠.', '눈살이 찌푸려지죠.']\n"
     ]
    }
   ],
   "source": [
    "All_texts = []    # sentencepiece tokenizer 학습에 사용\n",
    "Q_texts = []        # Encoder 입력에 사용\n",
    "A_texts = []        # Decoder 입력에 사용\n",
    "\n",
    "for Q, A in df.iloc[:, [0, 1]].values:\n",
    "    Q_texts.append(Q)\n",
    "    A_texts.append(A)\n",
    "\n",
    "All_texts = Q_texts + A_texts\n",
    "\n",
    "print(len(All_texts), len(Q_texts), len(A_texts))\n",
    "print(\"Question :\")\n",
    "print(Q_texts[:5])\n",
    "print(\"Answer :\")\n",
    "print(A_texts[:5])"
   ]
  },
  {
   "cell_type": "markdown",
   "metadata": {
    "id": "aiHERa4SKS9l"
   },
   "source": [
    "## Sentencepiece Tokenizer 학습을 위한 text file 생성"
   ]
  },
  {
   "cell_type": "code",
   "execution_count": 39,
   "metadata": {
    "id": "XJEFbpPv8u3O"
   },
   "outputs": [],
   "source": [
    "with open('chatbot_qna.txt', 'w', encoding='utf-8') as f:\n",
    "    for line in All_texts:\n",
    "        f.write(line + '\\n')"
   ]
  },
  {
   "cell_type": "code",
   "execution_count": 40,
   "metadata": {
    "id": "Ne2P_xEB81cf"
   },
   "outputs": [],
   "source": [
    "input_file = 'chatbot_qna.txt'\n",
    "pad_id = 0             #<pad> token을 0으로 설정\n",
    "vocab_size = 5000      # vocab 사이즈\n",
    "prefix = 'chatbot_qna' # 저장될 tokenizer 모델에 붙는 이름\n",
    "bos_id=1               #<s> token을 1으로 설정\n",
    "eos_id=2               #</s> token을 2으로 설정\n",
    "unk_id=3               #<unknown> token을 3으로 설정\n",
    "\n",
    "cmd = f'--input={input_file} \\\n",
    "--pad_id={pad_id} \\\n",
    "--bos_id={bos_id} \\\n",
    "--eos_id={eos_id} \\\n",
    "--unk_id={unk_id} \\\n",
    "--model_prefix={prefix} \\\n",
    "--vocab_size={vocab_size}'\n",
    "\n",
    "spm.SentencePieceTrainer.Train(cmd)"
   ]
  },
  {
   "cell_type": "markdown",
   "metadata": {
    "id": "ZC_GKVRAKezw"
   },
   "source": [
    "학습 완료된 sentencepiece tokenizer Load"
   ]
  },
  {
   "cell_type": "code",
   "execution_count": 41,
   "metadata": {
    "colab": {
     "base_uri": "https://localhost:8080/"
    },
    "id": "eeSxYOD581J0",
    "outputId": "64be34ba-0e3f-49dc-b8f7-2e7ddb56d90a"
   },
   "outputs": [
    {
     "data": {
      "text/plain": [
       "True"
      ]
     },
     "execution_count": 41,
     "metadata": {},
     "output_type": "execute_result"
    }
   ],
   "source": [
    "sp = spm.SentencePieceProcessor()\n",
    "sp.Load(f'{prefix}.model')"
   ]
  },
  {
   "cell_type": "code",
   "execution_count": 42,
   "metadata": {
    "colab": {
     "base_uri": "https://localhost:8080/",
     "height": 36
    },
    "id": "ZDtQbg5KNo9q",
    "outputId": "721c8de5-50b3-4741-9873-8e3ebddce123"
   },
   "outputs": [
    {
     "data": {
      "application/vnd.google.colaboratory.intrinsic+json": {
       "type": "string"
      },
      "text/plain": [
       "'운 나한테이 될고.'"
      ]
     },
     "execution_count": 42,
     "metadata": {},
     "output_type": "execute_result"
    }
   ],
   "source": [
    "sp.DecodeIds([170, 367, 10, 129, 16, 4])"
   ]
  },
  {
   "cell_type": "markdown",
   "metadata": {
    "id": "-kw7Kp-nKujU"
   },
   "source": [
    "- Tokenize하기 전에 데이터 자체에 `<s>, </s>`를 넣어줘도 되지만, 패키지 자체에서 알아서 해주는 옵션(sp.SetEncodeExtraOptions)이 있습니다.\n",
    "\n",
    "- `sp.SetEncodeExtraOptions('bos:eos')` : 문장 양 끝에 `<s> , </s>` 추가"
   ]
  },
  {
   "cell_type": "code",
   "execution_count": 43,
   "metadata": {
    "colab": {
     "base_uri": "https://localhost:8080/"
    },
    "id": "Wj0q49DV9l4N",
    "outputId": "80f305a3-735b-4b67-bbab-82343bbb29ff"
   },
   "outputs": [
    {
     "name": "stdout",
     "output_type": "stream",
     "text": [
      "['<s>', '▁아', '버', '지', '가', '▁방', '에', '▁들어가', '신', '다']\n",
      "[1, 232, 2112, 14, 7, 1467, 31, 1665, 455, 57]\n",
      "아버지가 방에 들어가신다\n",
      "아버지가 방에 들어가신다\n"
     ]
    }
   ],
   "source": [
    "sp.SetEncodeExtraOptions('bos:')   # 문장 처음에 <s>추가 --> Decoder Input에 사용\n",
    "pieces = sp.encode_as_pieces('아버지가 방에 들어가신다')\n",
    "print(pieces)\n",
    "ids = sp.encode_as_ids('아버지가 방에 들어가신다')\n",
    "print(ids)\n",
    "print(sp.DecodePieces(pieces))\n",
    "print(sp.DecodeIds(ids))"
   ]
  },
  {
   "cell_type": "code",
   "execution_count": 44,
   "metadata": {
    "colab": {
     "base_uri": "https://localhost:8080/"
    },
    "id": "wzCMLJFP9ii_",
    "outputId": "fc69c860-d44e-47ca-a6a9-e72902a49c09"
   },
   "outputs": [
    {
     "name": "stdout",
     "output_type": "stream",
     "text": [
      "['▁아', '버', '지', '가', '▁방', '에', '▁들어가', '신', '다', '</s>']\n",
      "[232, 2112, 14, 7, 1467, 31, 1665, 455, 57, 2]\n",
      "아버지가 방에 들어가신다\n",
      "아버지가 방에 들어가신다\n"
     ]
    }
   ],
   "source": [
    "sp.SetEncodeExtraOptions(':eos')     # 문장 끝에 </s>추가  --> Decoder target에 사용\n",
    "pieces = sp.encode_as_pieces('아버지가 방에 들어가신다')\n",
    "print(pieces)\n",
    "ids = sp.encode_as_ids('아버지가 방에 들어가신다')\n",
    "print(ids)\n",
    "print(sp.DecodePieces(pieces))\n",
    "print(sp.DecodeIds(ids))"
   ]
  },
  {
   "cell_type": "markdown",
   "metadata": {
    "id": "D2HI74wRLpfB"
   },
   "source": [
    "### Question sequence 작성"
   ]
  },
  {
   "cell_type": "code",
   "execution_count": 45,
   "metadata": {
    "colab": {
     "base_uri": "https://localhost:8080/"
    },
    "id": "42VM1rBZF-74",
    "outputId": "16b02d0c-725d-449a-f1ce-710a6f91351b"
   },
   "outputs": [
    {
     "name": "stdout",
     "output_type": "stream",
     "text": [
      "[[4228, 299, 5, 4826, 72, 2], [291, 14, 933, 674, 1735, 2], [277, 1280, 2810, 76, 2964, 94, 2], [277, 1280, 2810, 76, 667, 2964, 94, 2], [5, 4549, 4549, 3, 1395, 64, 2]]\n"
     ]
    }
   ],
   "source": [
    "Q_sequences = [sp.encode_as_ids(sent) for sent in Q_texts]\n",
    "\n",
    "print(Q_sequences[:5])"
   ]
  },
  {
   "cell_type": "markdown",
   "metadata": {
    "id": "YAwXDJshLtzl"
   },
   "source": [
    "### Answer sequence input 작성"
   ]
  },
  {
   "cell_type": "code",
   "execution_count": 46,
   "metadata": {
    "colab": {
     "base_uri": "https://localhost:8080/"
    },
    "id": "h_hAyKJ_9iZO",
    "outputId": "4fc00943-60ef-4305-a0f2-607fff10d24a"
   },
   "outputs": [
    {
     "name": "stdout",
     "output_type": "stream",
     "text": [
      "[[1, 282, 7, 113, 82, 23, 4], [1, 1459, 5, 3717, 4], [1, 293, 15, 385, 39, 207, 4], [1, 293, 15, 385, 39, 207, 4], [1, 208, 970, 10, 2434, 3090, 173, 14, 40, 4]]\n"
     ]
    }
   ],
   "source": [
    "sp.SetEncodeExtraOptions('bos:')  # 1로 시작\n",
    "A_sequences_inputs = [sp.encode_as_ids(sent) for sent in A_texts]\n",
    "\n",
    "print(A_sequences_inputs[:5])"
   ]
  },
  {
   "cell_type": "markdown",
   "metadata": {
    "id": "1myPZRUrLyYH"
   },
   "source": [
    "### Answer sequence target 작성"
   ]
  },
  {
   "cell_type": "code",
   "execution_count": 47,
   "metadata": {
    "colab": {
     "base_uri": "https://localhost:8080/"
    },
    "id": "QfjAYbV2-XJY",
    "outputId": "3eaae38d-3f23-4933-d689-26045bb69e1a"
   },
   "outputs": [
    {
     "name": "stdout",
     "output_type": "stream",
     "text": [
      "[[282, 7, 113, 82, 23, 4, 2], [1459, 5, 3717, 4, 2], [293, 15, 385, 39, 207, 4, 2], [293, 15, 385, 39, 207, 4, 2], [208, 970, 10, 2434, 3090, 173, 14, 40, 4, 2]]\n"
     ]
    }
   ],
   "source": [
    "sp.SetEncodeExtraOptions(':eos')  # 2로 종료\n",
    "A_sequences_targets = [sp.encode_as_ids(sent) for sent in A_texts]\n",
    "\n",
    "print(A_sequences_targets[:5])"
   ]
  },
  {
   "cell_type": "markdown",
   "metadata": {
    "id": "sxq0lWFpL18P"
   },
   "source": [
    "input text의  max length 지정"
   ]
  },
  {
   "cell_type": "code",
   "execution_count": 48,
   "metadata": {
    "colab": {
     "base_uri": "https://localhost:8080/",
     "height": 472
    },
    "id": "yTaMsc5Pv-3S",
    "outputId": "a164b980-e0ba-454c-cfef-03f6d2c32f30"
   },
   "outputs": [
    {
     "name": "stdout",
     "output_type": "stream",
     "text": [
      "Target Text 의 최대 길이 : 56\n",
      "Target Text 의 최대 길이 : 76\n"
     ]
    },
    {
     "data": {
      "image/png": "[encoded data removed]",
      "text/plain": [
       "<Figure size 640x480 with 1 Axes>"
      ]
     },
     "metadata": {},
     "output_type": "display_data"
    }
   ],
   "source": [
    "max_len_Q = max(len(s) for s in Q_texts)\n",
    "print(\"Target Text 의 최대 길이 :\", max_len_Q)\n",
    "\n",
    "max_len_A = max(len(s) for s in A_texts)\n",
    "print(\"Target Text 의 최대 길이 :\", max_len_A)\n",
    "\n",
    "plt.hist([len(s) for s in All_texts]);"
   ]
  },
  {
   "cell_type": "markdown",
   "metadata": {
    "id": "ztI6kZL1y6Tv"
   },
   "source": [
    "Input sequence 의 최대 길이는 30 으로 정한다."
   ]
  },
  {
   "cell_type": "code",
   "execution_count": 49,
   "metadata": {
    "id": "y9Sv3xkLFkfp"
   },
   "outputs": [],
   "source": [
    "MAX_LEN = 30"
   ]
  },
  {
   "cell_type": "markdown",
   "metadata": {
    "id": "V1oBupk4lsgp"
   },
   "source": [
    "## sequence padding\n",
    "\n",
    "\n",
    "#### 주의 사항\n",
    "- encoder 는 thought vector 생성 목적이므로 default (pre) 로 padding\n",
    "\n",
    "- decoder 는 teacher forcing 을 해야하므로 post 로 padding"
   ]
  },
  {
   "cell_type": "code",
   "execution_count": 50,
   "metadata": {
    "colab": {
     "base_uri": "https://localhost:8080/"
    },
    "id": "WjJudFz1x1_F",
    "outputId": "f16f42f7-0ef8-4439-b9fd-62a1b17d2bb6"
   },
   "outputs": [
    {
     "name": "stdout",
     "output_type": "stream",
     "text": [
      "encoder input shape : (11823, 30)\n",
      "encoder_inputs[0] :  [   0    0    0    0    0    0    0    0    0    0    0    0    0    0\n",
      "    0    0    0    0    0    0    0    0    0    0    0  162 1680  318\n",
      " 2391    2]\n",
      "\n",
      "decoder input shape : (11823, 30)\n",
      "decoder_inputs[0] :  [   1 1145   33 3040   45    4    0    0    0    0    0    0    0    0\n",
      "    0    0    0    0    0    0    0    0    0    0    0    0    0    0\n",
      "    0    0]\n",
      "\n",
      "encoder target shape : (11823, 30)\n",
      "encoder_targets[0] :  [1145   33 3040   45    4    2    0    0    0    0    0    0    0    0\n",
      "    0    0    0    0    0    0    0    0    0    0    0    0    0    0\n",
      "    0    0]\n"
     ]
    }
   ],
   "source": [
    "encoder_inputs = pad_sequences(Q_sequences, maxlen=MAX_LEN)\n",
    "print(\"encoder input shape :\", encoder_inputs.shape)\n",
    "print(\"encoder_inputs[0] : \", encoder_inputs[1500])\n",
    "\n",
    "decoder_inputs = pad_sequences(A_sequences_inputs,\n",
    "                               maxlen=MAX_LEN, padding=\"post\")\n",
    "print(\"\\ndecoder input shape :\", decoder_inputs.shape)\n",
    "print(\"decoder_inputs[0] : \", decoder_inputs[1500])\n",
    "\n",
    "decoder_targets = pad_sequences(A_sequences_targets,\n",
    "                                maxlen=MAX_LEN, padding=\"post\")\n",
    "print(\"\\nencoder target shape :\", decoder_targets.shape)\n",
    "print(\"encoder_targets[0] : \", decoder_targets[1500])"
   ]
  },
  {
   "cell_type": "markdown",
   "metadata": {
    "id": "8s4EfHwOlsgu"
   },
   "source": [
    "## Build the model\n",
    "\n",
    "- encoder 와 decoder 의 embedding, lstm 및 dense layer 를 training 할 목적의 model 작성  \n",
    "\n",
    "- encoder 는 decoder 에 states [h, c] 만 전달\n",
    "\n",
    "- prediction 을 위한 inference model 은 training model 에서 만들어진 layer 들의 weight 를 이용하여 별도 작성  \n",
    "\n",
    "### Training : Encoder + Teacher Forcing model"
   ]
  },
  {
   "cell_type": "code",
   "execution_count": 51,
   "metadata": {
    "colab": {
     "base_uri": "https://localhost:8080/"
    },
    "id": "b1IC63sLMtFk",
    "outputId": "46a9da0e-8407-46f3-c6c8-22607940f588"
   },
   "outputs": [
    {
     "name": "stdout",
     "output_type": "stream",
     "text": [
      "Model: \"model_3\"\n",
      "_________________________________________________________________\n",
      " Layer (type)                Output Shape              Param #   \n",
      "=================================================================\n",
      " Encoder_Input (InputLayer)  [(None, 30)]              0         \n",
      "                                                                 \n",
      " embedding_2 (Embedding)     (None, 30, 100)           500100    \n",
      "                                                                 \n",
      " lstm_2 (LSTM)               [(None, 128),             117248    \n",
      "                              (None, 128),                       \n",
      "                              (None, 128)]                       \n",
      "                                                                 \n",
      "=================================================================\n",
      "Total params: 617,348\n",
      "Trainable params: 617,348\n",
      "Non-trainable params: 0\n",
      "_________________________________________________________________\n"
     ]
    }
   ],
   "source": [
    "#### Encoder\n",
    "encoder_inputs_ = Input(shape=(MAX_LEN,), name='Encoder_Input')\n",
    "# encoder 의 embedding layer\n",
    "embedding_encoder = Embedding(vocab_size + 1, EMBEDDING_DIM)\n",
    "x = embedding_encoder(encoder_inputs_)\n",
    "\n",
    "encoder_outputs, h, c = LSTM(LATENT_DIM, return_state=True)(x)\n",
    "# encoder 는 hidden state and cell state 만 decoder 로 전달\n",
    "encoder_states = [h, c]  # --> thought vector\n",
    "\n",
    "encoder_model = Model(encoder_inputs_, encoder_states)\n",
    "encoder_model.summary()"
   ]
  },
  {
   "cell_type": "markdown",
   "metadata": {
    "id": "ep04zyIVNTn4"
   },
   "source": [
    "### Decoder model for Teacher Forcing\n",
    "- Training stage에서만 사용"
   ]
  },
  {
   "cell_type": "code",
   "execution_count": 52,
   "metadata": {
    "colab": {
     "base_uri": "https://localhost:8080/"
    },
    "id": "IjALbWe-z0hx",
    "outputId": "0daf431e-f63e-4ec7-b56a-cb53a7ca39ab"
   },
   "outputs": [
    {
     "name": "stdout",
     "output_type": "stream",
     "text": [
      "Model: \"model_4\"\n",
      "__________________________________________________________________________________________________\n",
      " Layer (type)                   Output Shape         Param #     Connected to                     \n",
      "==================================================================================================\n",
      " Encoder_Input (InputLayer)     [(None, 30)]         0           []                               \n",
      "                                                                                                  \n",
      " Decoder_Input (InputLayer)     [(None, 30)]         0           []                               \n",
      "                                                                                                  \n",
      " embedding_2 (Embedding)        (None, 30, 100)      500100      ['Encoder_Input[0][0]']          \n",
      "                                                                                                  \n",
      " embedding_3 (Embedding)        (None, 30, 100)      500100      ['Decoder_Input[0][0]']          \n",
      "                                                                                                  \n",
      " lstm_2 (LSTM)                  [(None, 128),        117248      ['embedding_2[0][0]']            \n",
      "                                 (None, 128),                                                     \n",
      "                                 (None, 128)]                                                     \n",
      "                                                                                                  \n",
      " lstm_3 (LSTM)                  [(None, 30, 128),    117248      ['embedding_3[0][0]',            \n",
      "                                 (None, 128),                     'lstm_2[0][1]',                 \n",
      "                                 (None, 128)]                     'lstm_2[0][2]']                 \n",
      "                                                                                                  \n",
      " Decoder_Output (Dense)         (None, 30, 5000)     645000      ['lstm_3[0][0]']                 \n",
      "                                                                                                  \n",
      "==================================================================================================\n",
      "Total params: 1,879,696\n",
      "Trainable params: 1,879,696\n",
      "Non-trainable params: 0\n",
      "__________________________________________________________________________________________________\n"
     ]
    }
   ],
   "source": [
    "# decoder 는 [h, c] 를 initial state 로 사용\n",
    "decoder_inputs_ = Input(shape=(MAX_LEN,), name='Decoder_Input')\n",
    "\n",
    "# decoder 의 embedding layer\n",
    "embedding_decoder = Embedding(vocab_size + 1, EMBEDDING_DIM)\n",
    "x = embedding_decoder(decoder_inputs_)\n",
    "\n",
    "decoder_lstm = LSTM(LATENT_DIM, return_sequences=True, return_state=True)\n",
    "# initial state = encoder [h, c]\n",
    "decoder_outputs, _, _ = decoder_lstm(x, initial_state=encoder_states)\n",
    "\n",
    "# final dense layer\n",
    "decoder_dense = Dense(vocab_size, activation='softmax', name='Decoder_Output')\n",
    "decoder_outputs = decoder_dense(decoder_outputs)\n",
    "\n",
    "# Teacher-forceing model  생성\n",
    "model_teacher_forcing = Model([encoder_inputs_, decoder_inputs_], decoder_outputs)\n",
    "\n",
    "#Compile the model and train it\n",
    "model_teacher_forcing.compile(optimizer='rmsprop', loss='sparse_categorical_crossentropy',\n",
    "    metrics=['accuracy'])\n",
    "\n",
    "model_teacher_forcing.summary()"
   ]
  },
  {
   "cell_type": "code",
   "execution_count": 53,
   "metadata": {
    "colab": {
     "base_uri": "https://localhost:8080/",
     "height": 533
    },
    "id": "dzCp_kCYz0Hk",
    "outputId": "3293ef85-ff7e-4d03-c24f-95fbc80a5110"
   },
   "outputs": [
    {
     "data": {
      "image/png": "[encoded data removed]",
      "text/plain": [
       "<IPython.core.display.Image object>"
      ]
     },
     "execution_count": 53,
     "metadata": {},
     "output_type": "execute_result"
    }
   ],
   "source": [
    "plot_model(model_teacher_forcing, show_shapes=True)"
   ]
  },
  {
   "cell_type": "markdown",
   "metadata": {
    "id": "U_m-UDAF5_BC"
   },
   "source": [
    "### Train the model"
   ]
  },
  {
   "cell_type": "code",
   "execution_count": 54,
   "metadata": {
    "colab": {
     "base_uri": "https://localhost:8080/"
    },
    "id": "HT4uZpNxlsgw",
    "outputId": "5fa1ffab-df99-461c-fcea-e75e83cc2617",
    "scrolled": false
   },
   "outputs": [
    {
     "name": "stdout",
     "output_type": "stream",
     "text": [
      "Epoch 1/40\n",
      "148/148 [==============================] - 27s 154ms/step - loss: 2.5148 - accuracy: 0.7345 - val_loss: 1.9489 - val_accuracy: 0.7406\n",
      "Epoch 2/40\n",
      "148/148 [==============================] - 5s 37ms/step - loss: 1.5214 - accuracy: 0.7909 - val_loss: 1.8013 - val_accuracy: 0.7602\n",
      "Epoch 3/40\n",
      "148/148 [==============================] - 4s 27ms/step - loss: 1.4384 - accuracy: 0.8020 - val_loss: 1.7552 - val_accuracy: 0.7611\n",
      "Epoch 4/40\n",
      "148/148 [==============================] - 4s 30ms/step - loss: 1.3903 - accuracy: 0.8030 - val_loss: 1.7082 - val_accuracy: 0.7619\n",
      "Epoch 5/40\n",
      "148/148 [==============================] - 3s 23ms/step - loss: 1.3550 - accuracy: 0.8044 - val_loss: 1.6875 - val_accuracy: 0.7636\n",
      "Epoch 6/40\n",
      "148/148 [==============================] - 3s 23ms/step - loss: 1.3343 - accuracy: 0.8066 - val_loss: 1.6753 - val_accuracy: 0.7661\n",
      "Epoch 7/40\n",
      "148/148 [==============================] - 3s 20ms/step - loss: 1.3188 - accuracy: 0.8072 - val_loss: 1.6581 - val_accuracy: 0.7685\n",
      "Epoch 8/40\n",
      "148/148 [==============================] - 4s 24ms/step - loss: 1.3052 - accuracy: 0.8079 - val_loss: 1.6484 - val_accuracy: 0.7665\n",
      "Epoch 9/40\n",
      "148/148 [==============================] - 3s 21ms/step - loss: 1.2931 - accuracy: 0.8086 - val_loss: 1.6367 - val_accuracy: 0.7696\n",
      "Epoch 10/40\n",
      "148/148 [==============================] - 3s 20ms/step - loss: 1.2823 - accuracy: 0.8096 - val_loss: 1.6315 - val_accuracy: 0.7691\n",
      "Epoch 11/40\n",
      "148/148 [==============================] - 3s 20ms/step - loss: 1.2732 - accuracy: 0.8103 - val_loss: 1.6251 - val_accuracy: 0.7704\n",
      "Epoch 12/40\n",
      "148/148 [==============================] - 4s 25ms/step - loss: 1.2645 - accuracy: 0.8109 - val_loss: 1.6175 - val_accuracy: 0.7710\n",
      "Epoch 13/40\n",
      "148/148 [==============================] - 3s 20ms/step - loss: 1.2566 - accuracy: 0.8120 - val_loss: 1.6108 - val_accuracy: 0.7719\n",
      "Epoch 14/40\n",
      "148/148 [==============================] - 3s 20ms/step - loss: 1.2492 - accuracy: 0.8130 - val_loss: 1.6059 - val_accuracy: 0.7727\n",
      "Epoch 15/40\n",
      "148/148 [==============================] - 3s 20ms/step - loss: 1.2422 - accuracy: 0.8139 - val_loss: 1.6004 - val_accuracy: 0.7737\n",
      "Epoch 16/40\n",
      "148/148 [==============================] - 3s 21ms/step - loss: 1.2352 - accuracy: 0.8147 - val_loss: 1.5949 - val_accuracy: 0.7747\n",
      "Epoch 17/40\n",
      "148/148 [==============================] - 3s 19ms/step - loss: 1.2282 - accuracy: 0.8154 - val_loss: 1.5926 - val_accuracy: 0.7747\n",
      "Epoch 18/40\n",
      "148/148 [==============================] - 3s 20ms/step - loss: 1.2216 - accuracy: 0.8161 - val_loss: 1.5873 - val_accuracy: 0.7756\n",
      "Epoch 19/40\n",
      "148/148 [==============================] - 3s 21ms/step - loss: 1.2152 - accuracy: 0.8168 - val_loss: 1.5831 - val_accuracy: 0.7764\n",
      "Epoch 20/40\n",
      "148/148 [==============================] - 3s 23ms/step - loss: 1.2089 - accuracy: 0.8174 - val_loss: 1.5799 - val_accuracy: 0.7765\n",
      "Epoch 21/40\n",
      "148/148 [==============================] - 3s 19ms/step - loss: 1.2030 - accuracy: 0.8180 - val_loss: 1.5728 - val_accuracy: 0.7777\n",
      "Epoch 22/40\n",
      "148/148 [==============================] - 3s 19ms/step - loss: 1.1969 - accuracy: 0.8185 - val_loss: 1.5687 - val_accuracy: 0.7787\n",
      "Epoch 23/40\n",
      "148/148 [==============================] - 4s 27ms/step - loss: 1.1909 - accuracy: 0.8191 - val_loss: 1.5667 - val_accuracy: 0.7786\n",
      "Epoch 24/40\n",
      "148/148 [==============================] - 3s 23ms/step - loss: 1.1848 - accuracy: 0.8198 - val_loss: 1.5607 - val_accuracy: 0.7787\n",
      "Epoch 25/40\n",
      "148/148 [==============================] - 3s 21ms/step - loss: 1.1786 - accuracy: 0.8205 - val_loss: 1.5565 - val_accuracy: 0.7798\n",
      "Epoch 26/40\n",
      "148/148 [==============================] - 3s 19ms/step - loss: 1.1725 - accuracy: 0.8213 - val_loss: 1.5518 - val_accuracy: 0.7809\n",
      "Epoch 27/40\n",
      "148/148 [==============================] - 3s 23ms/step - loss: 1.1661 - accuracy: 0.8223 - val_loss: 1.5487 - val_accuracy: 0.7811\n",
      "Epoch 28/40\n",
      "148/148 [==============================] - 3s 20ms/step - loss: 1.1601 - accuracy: 0.8230 - val_loss: 1.5422 - val_accuracy: 0.7819\n",
      "Epoch 29/40\n",
      "148/148 [==============================] - 3s 19ms/step - loss: 1.1538 - accuracy: 0.8238 - val_loss: 1.5422 - val_accuracy: 0.7818\n",
      "Epoch 30/40\n",
      "148/148 [==============================] - 3s 20ms/step - loss: 1.1477 - accuracy: 0.8246 - val_loss: 1.5348 - val_accuracy: 0.7836\n",
      "Epoch 31/40\n",
      "148/148 [==============================] - 3s 22ms/step - loss: 1.1416 - accuracy: 0.8253 - val_loss: 1.5298 - val_accuracy: 0.7844\n",
      "Epoch 32/40\n",
      "148/148 [==============================] - 3s 20ms/step - loss: 1.1354 - accuracy: 0.8263 - val_loss: 1.5277 - val_accuracy: 0.7845\n",
      "Epoch 33/40\n",
      "148/148 [==============================] - 3s 20ms/step - loss: 1.1295 - accuracy: 0.8270 - val_loss: 1.5243 - val_accuracy: 0.7858\n",
      "Epoch 34/40\n",
      "148/148 [==============================] - 3s 20ms/step - loss: 1.1234 - accuracy: 0.8279 - val_loss: 1.5221 - val_accuracy: 0.7861\n",
      "Epoch 35/40\n",
      "148/148 [==============================] - 3s 23ms/step - loss: 1.1177 - accuracy: 0.8286 - val_loss: 1.5157 - val_accuracy: 0.7870\n",
      "Epoch 36/40\n",
      "148/148 [==============================] - 3s 22ms/step - loss: 1.1119 - accuracy: 0.8292 - val_loss: 1.5124 - val_accuracy: 0.7879\n",
      "Epoch 37/40\n",
      "148/148 [==============================] - 3s 21ms/step - loss: 1.1062 - accuracy: 0.8300 - val_loss: 1.5091 - val_accuracy: 0.7876\n",
      "Epoch 38/40\n",
      "148/148 [==============================] - 3s 20ms/step - loss: 1.1007 - accuracy: 0.8305 - val_loss: 1.5069 - val_accuracy: 0.7880\n",
      "Epoch 39/40\n",
      "148/148 [==============================] - 3s 22ms/step - loss: 1.0951 - accuracy: 0.8312 - val_loss: 1.5046 - val_accuracy: 0.7881\n",
      "Epoch 40/40\n",
      "148/148 [==============================] - 3s 18ms/step - loss: 1.0899 - accuracy: 0.8318 - val_loss: 1.5038 - val_accuracy: 0.7883\n"
     ]
    }
   ],
   "source": [
    "EPOCHS = 40\n",
    "BATCH_SIZE = 64\n",
    "history = model_teacher_forcing.fit([encoder_inputs, decoder_inputs],\n",
    "                    decoder_targets, batch_size=BATCH_SIZE, epochs=EPOCHS,\n",
    "                   validation_split=0.2)"
   ]
  },
  {
   "cell_type": "markdown",
   "metadata": {
    "id": "jqt6bVBZN-ck"
   },
   "source": [
    "accuracy, loss 시각화"
   ]
  },
  {
   "cell_type": "code",
   "execution_count": 55,
   "metadata": {
    "colab": {
     "base_uri": "https://localhost:8080/",
     "height": 368
    },
    "id": "nCLIcYy8lsgy",
    "outputId": "7a4f2caa-e7d9-485e-f556-093782022626"
   },
   "outputs": [
    {
     "data": {
      "image/png": "[encoded data removed]",
      "text/plain": [
       "<Figure size 1200x400 with 2 Axes>"
      ]
     },
     "metadata": {},
     "output_type": "display_data"
    }
   ],
   "source": [
    "# plot some data\n",
    "plt.figure(figsize=(12, 4))\n",
    "plt.subplot(1, 2, 1)\n",
    "plt.plot(history.history['loss'], label='loss')\n",
    "plt.plot(history.history['val_loss'], label='val_loss')\n",
    "plt.legend()\n",
    "\n",
    "# accuracies\n",
    "plt.subplot(1, 2, 2)\n",
    "plt.plot(history.history['accuracy'], label='acc')\n",
    "plt.plot(history.history['val_accuracy'], label='val_acc')\n",
    "plt.legend()\n",
    "plt.show()"
   ]
  },
  {
   "cell_type": "code",
   "execution_count": 56,
   "metadata": {
    "id": "qCkeujkMlsg0"
   },
   "outputs": [],
   "source": [
    "# save model\n",
    "model_teacher_forcing.save('s2s.h5')"
   ]
  },
  {
   "cell_type": "markdown",
   "metadata": {
    "id": "B3n59rHJlsg1"
   },
   "source": [
    "### Make Predictions - Inference phase\n",
    "\n",
    "- prediction 을 위한 별도의 encoder model\n",
    "- encoder 의 states 를 initial state 로 받는 decoder model 작성  \n",
    "\n",
    "- encoder 는 training 단계와 동일하게 input_text 를 입력으로 받고 encoder_states 를 출력으로 하므로 이전에 define 한 encoder_input_ 과 encoder_states 변수 재사용"
   ]
  },
  {
   "cell_type": "code",
   "execution_count": 57,
   "metadata": {
    "colab": {
     "base_uri": "https://localhost:8080/"
    },
    "id": "KEb2UN2t9d2U",
    "outputId": "040d3ca0-3b9a-4e77-982c-f955ee255a37"
   },
   "outputs": [
    {
     "name": "stdout",
     "output_type": "stream",
     "text": [
      "Model: \"model_5\"\n",
      "__________________________________________________________________________________________________\n",
      " Layer (type)                   Output Shape         Param #     Connected to                     \n",
      "==================================================================================================\n",
      " Decoder_input (InputLayer)     [(None, 1)]          0           []                               \n",
      "                                                                                                  \n",
      " embedding_3 (Embedding)        multiple             500100      ['Decoder_input[0][0]']          \n",
      "                                                                                                  \n",
      " Decoder_hidden_h (InputLayer)  [(None, 128)]        0           []                               \n",
      "                                                                                                  \n",
      " Decoder_hidden_c (InputLayer)  [(None, 128)]        0           []                               \n",
      "                                                                                                  \n",
      " lstm_3 (LSTM)                  multiple             117248      ['embedding_3[1][0]',            \n",
      "                                                                  'Decoder_hidden_h[0][0]',       \n",
      "                                                                  'Decoder_hidden_c[0][0]']       \n",
      "                                                                                                  \n",
      " Decoder_Output (Dense)         multiple             645000      ['lstm_3[1][0]']                 \n",
      "                                                                                                  \n",
      "==================================================================================================\n",
      "Total params: 1,262,348\n",
      "Trainable params: 1,262,348\n",
      "Non-trainable params: 0\n",
      "__________________________________________________________________________________________________\n"
     ]
    }
   ],
   "source": [
    "# Decoder for inference\n",
    "decoder_state_input_h = Input(shape=(LATENT_DIM,), name='Decoder_hidden_h')\n",
    "decoder_state_input_c = Input(shape=(LATENT_DIM,), name='Decoder_hidden_c')\n",
    "decoder_states_inputs = [decoder_state_input_h, decoder_state_input_c]\n",
    "\n",
    "decoder_inputs_single = Input(shape=(1,), name='Decoder_input')\n",
    "x = embedding_decoder(decoder_inputs_single)\n",
    "\n",
    "# output, hidden states 를 저장\n",
    "decoder_outputs, h, c = decoder_lstm(x, initial_state=decoder_states_inputs)\n",
    "decoder_states = [h, c]\n",
    "\n",
    "decoder_outputs = decoder_dense(decoder_outputs)\n",
    "\n",
    "decoder_model = Model(\n",
    "    [decoder_inputs_single] + decoder_states_inputs,    #decoder_model.predict([target_seq] + states_value)\n",
    "    [decoder_outputs] + decoder_states\n",
    ")\n",
    "\n",
    "decoder_model.summary()"
   ]
  },
  {
   "cell_type": "code",
   "execution_count": 58,
   "metadata": {
    "colab": {
     "base_uri": "https://localhost:8080/",
     "height": 422
    },
    "id": "aClaYIzf0yns",
    "outputId": "248635ec-34fb-465e-ef50-38158bdf8aef"
   },
   "outputs": [
    {
     "data": {
      "image/png": "[encoded data removed]",
      "text/plain": [
       "<IPython.core.display.Image object>"
      ]
     },
     "execution_count": 58,
     "metadata": {},
     "output_type": "execute_result"
    }
   ],
   "source": [
    "plot_model(decoder_model, show_shapes=True)"
   ]
  },
  {
   "cell_type": "markdown",
   "metadata": {
    "id": "OS_0Zqpo-32_"
   },
   "source": [
    "### 다음의 inference module 작성\n",
    "- question 을 encoder 에 입력하여 thought vector 반환\n",
    "- start token 설정\n",
    "- 가장 확률 높은 next word 선택\n",
    "- end token 생성 될 때까지 반복\n",
    "- predict 결과가 sequence 로 반환되므로 index 를 word 로 변환"
   ]
  },
  {
   "cell_type": "code",
   "execution_count": 59,
   "metadata": {
    "id": "6i4yEvRC-zFg"
   },
   "outputs": [],
   "source": [
    "def decode_sequence(input_seq, temperature=1.0):\n",
    "    # 입력된 질문을 encoder 에 입력하여 state vector 생성\n",
    "    states_value = encoder_model.predict(input_seq)\n",
    "    # size 1 짜리 빈 target sequence 생성\n",
    "    target_seq = np.zeros((1, 1))\n",
    "    # target sequence 의 첫번째 character 를 <s> 로 assign -> 1\n",
    "    target_seq[0, 0] = 1\n",
    "    eos = 2  #</s>\n",
    "\n",
    "    # 답변 생성 시작\n",
    "    output_ids = []\n",
    "    for _ in range(max_len_A):\n",
    "        output_tokens, h, c = decoder_model.predict([target_seq] + states_value)\n",
    "\n",
    "        # 확률 분포에 따라 단어 샘플링\n",
    "        output_probs = output_tokens[0, 0, :]\n",
    "        idx = np.random.choice(len(output_probs), p=output_probs)\n",
    "\n",
    "        if eos == idx:  # End sentence of EOS\n",
    "            break\n",
    "\n",
    "        if idx > 0:      # idx 0 은 zero padding 이므로 skip\n",
    "            output_ids.append(int(idx))\n",
    "\n",
    "        # 생성된 word 를 decoder 의 다음 input 으로 사용\n",
    "        target_seq[0, 0] = idx\n",
    "        # Update states\n",
    "        states_value = [h, c]\n",
    "\n",
    "    return output_ids"
   ]
  },
  {
   "cell_type": "markdown",
   "metadata": {
    "id": "0tbXK6zjCBv8"
   },
   "source": [
    "- sample Q & A test"
   ]
  },
  {
   "cell_type": "code",
   "execution_count": 60,
   "metadata": {
    "colab": {
     "base_uri": "https://localhost:8080/"
    },
    "id": "EaVj30TGB-ny",
    "outputId": "3443353c-27f9-4cc0-980e-aee2aff93348"
   },
   "outputs": [
    {
     "name": "stdout",
     "output_type": "stream",
     "text": [
      "1/1 [==============================] - 0s 324ms/step\n",
      "1/1 [==============================] - 0s 351ms/step\n",
      "1/1 [==============================] - 0s 20ms/step\n",
      "1/1 [==============================] - 0s 18ms/step\n",
      "1/1 [==============================] - 0s 20ms/step\n",
      "1/1 [==============================] - 0s 19ms/step\n",
      "1/1 [==============================] - 0s 22ms/step\n",
      "-\n",
      "질문 : 비밀번호 자꾸 바꾸래\n",
      "답변 : 그럴 수 저에게 좋겠죠.\n",
      "1/1 [==============================] - 0s 18ms/step\n",
      "1/1 [==============================] - 0s 19ms/step\n",
      "1/1 [==============================] - 0s 20ms/step\n",
      "1/1 [==============================] - 0s 19ms/step\n",
      "1/1 [==============================] - 0s 19ms/step\n",
      "1/1 [==============================] - 0s 22ms/step\n",
      "-\n",
      "질문 : 4년 사귄뒤 이별. 어느새 5달이 다되어가네여.\n",
      "답변 : 네 많이 좋아요.\n",
      "1/1 [==============================] - 0s 18ms/step\n",
      "1/1 [==============================] - 0s 21ms/step\n",
      "1/1 [==============================] - 0s 19ms/step\n",
      "1/1 [==============================] - 0s 22ms/step\n",
      "-\n",
      "질문 : 입덕했어\n",
      "답변 : 말해보세요.\n",
      "1/1 [==============================] - 0s 18ms/step\n",
      "1/1 [==============================] - 0s 21ms/step\n",
      "1/1 [==============================] - 0s 22ms/step\n",
      "1/1 [==============================] - 0s 21ms/step\n",
      "1/1 [==============================] - 0s 21ms/step\n",
      "1/1 [==============================] - 0s 21ms/step\n",
      "1/1 [==============================] - 0s 21ms/step\n",
      "1/1 [==============================] - 0s 20ms/step\n",
      "1/1 [==============================] - 0s 19ms/step\n",
      "1/1 [==============================] - 0s 20ms/step\n",
      "-\n",
      "질문 : 내가미쳤지\n",
      "답변 : 지난막길 바고 생각해죠.\n",
      "1/1 [==============================] - 0s 18ms/step\n",
      "1/1 [==============================] - 0s 21ms/step\n",
      "1/1 [==============================] - 0s 19ms/step\n",
      "1/1 [==============================] - 0s 21ms/step\n",
      "1/1 [==============================] - 0s 20ms/step\n",
      "1/1 [==============================] - 0s 27ms/step\n",
      "1/1 [==============================] - 0s 21ms/step\n",
      "1/1 [==============================] - 0s 20ms/step\n",
      "-\n",
      "질문 : 차단한 카톡\n",
      "답변 : 독한 이제궁네요.\n"
     ]
    }
   ],
   "source": [
    "sp.Load(f'{prefix}.model')\n",
    "\n",
    "for _ in range(5):\n",
    "    i = np.random.choice(len(Q_texts))\n",
    "    input_seq = encoder_inputs[i:i+1]\n",
    "    response = decode_sequence(input_seq)\n",
    "    print('-')\n",
    "    print('질문 :', Q_texts[i])\n",
    "    print('답변 :', sp.DecodeIds(response))"
   ]
  },
  {
   "cell_type": "code",
   "execution_count": 61,
   "metadata": {
    "colab": {
     "base_uri": "https://localhost:8080/"
    },
    "id": "CWrUaHuZlsg6",
    "outputId": "4e1e35f4-0e1f-4c04-8308-3a3ffd2c8d43",
    "scrolled": true
   },
   "outputs": [
    {
     "name": "stdout",
     "output_type": "stream",
     "text": [
      "1/1 [==============================] - 0s 18ms/step\n",
      "1/1 [==============================] - 0s 19ms/step\n",
      "1/1 [==============================] - 0s 21ms/step\n",
      "1/1 [==============================] - 0s 19ms/step\n",
      "1/1 [==============================] - 0s 20ms/step\n",
      "1/1 [==============================] - 0s 20ms/step\n",
      "1/1 [==============================] - 0s 20ms/step\n",
      "1/1 [==============================] - 0s 19ms/step\n",
      "1/1 [==============================] - 0s 22ms/step\n",
      "-\n",
      "질문 정말 미워\n",
      "답변: 저는 생각을온으세요.\n"
     ]
    }
   ],
   "source": [
    "txt = \"정말 미워\"\n",
    "input_sequence = sp.encode_as_ids(txt)\n",
    "encoder_input = pad_sequences([input_sequence], maxlen=MAX_LEN)\n",
    "\n",
    "response = decode_sequence(encoder_input)\n",
    "print('-')\n",
    "print('질문', txt)\n",
    "print('답변:', sp.DecodeIds(response))"
   ]
  },
  {
   "cell_type": "code",
   "execution_count": 61,
   "metadata": {
    "id": "5eLku_gCQBpg"
   },
   "outputs": [],
   "source": []
  },
  {
   "cell_type": "code",
   "execution_count": null,
   "metadata": {
    "colab": {
     "base_uri": "https://localhost:8080/"
    },
    "id": "M0EdrUH8lsg8",
    "outputId": "92e07d37-f6ff-427e-b0ee-77d165ea5759"
   },
   "outputs": [
    {
     "name": "stdout",
     "output_type": "stream",
     "text": [
      "챗봇 대화 시작 .....\n",
      "질문 :가스불 켜놓고 나온거 같아\n",
      "1/1 [==============================] - 0s 19ms/step\n",
      "1/1 [==============================] - 0s 21ms/step\n",
      "1/1 [==============================] - 0s 19ms/step\n",
      "1/1 [==============================] - 0s 20ms/step\n",
      "1/1 [==============================] - 0s 19ms/step\n",
      "1/1 [==============================] - 0s 19ms/step\n",
      "1/1 [==============================] - 0s 19ms/step\n",
      "답변 : 네와면 안돼요.\n",
      "질문 :이런 내가 너무 싫어\n",
      "1/1 [==============================] - 0s 18ms/step\n",
      "1/1 [==============================] - 0s 19ms/step\n",
      "1/1 [==============================] - 0s 19ms/step\n",
      "1/1 [==============================] - 0s 19ms/step\n",
      "1/1 [==============================] - 0s 20ms/step\n",
      "1/1 [==============================] - 0s 21ms/step\n",
      "1/1 [==============================] - 0s 20ms/step\n",
      "1/1 [==============================] - 0s 20ms/step\n",
      "1/1 [==============================] - 0s 21ms/step\n",
      "답변 : 청소는 진실 끝한 있어요.\n",
      "질문 :주말에 뭐하고 놀까\n",
      "1/1 [==============================] - 0s 18ms/step\n",
      "1/1 [==============================] - 0s 20ms/step\n",
      "1/1 [==============================] - 0s 22ms/step\n",
      "1/1 [==============================] - 0s 22ms/step\n",
      "1/1 [==============================] - 0s 21ms/step\n",
      "1/1 [==============================] - 0s 19ms/step\n",
      "1/1 [==============================] - 0s 19ms/step\n",
      "1/1 [==============================] - 0s 24ms/step\n",
      "1/1 [==============================] - 0s 20ms/step\n",
      "답변 : 저 않겠지만 들 때가요.\n"
     ]
    }
   ],
   "source": [
    "print(\"챗봇 대화 시작 .....\")\n",
    "\n",
    "while True:\n",
    "    txt = input(\"질문 :\")\n",
    "    if txt.lower() == \"quit\":\n",
    "        break\n",
    "\n",
    "    input_sequence = sp.encode_as_ids(txt)\n",
    "    encoder_input = pad_sequences([input_sequence], maxlen=MAX_LEN)\n",
    "\n",
    "    answer = decode_sequence(encoder_input)\n",
    "\n",
    "    print(\"답변 :\", sp.DecodeIds(answer))"
   ]
  }
 ],
 "metadata": {
  "accelerator": "GPU",
  "colab": {
   "provenance": []
  },
  "kernelspec": {
   "display_name": "Python 3 (ipykernel)",
   "language": "python",
   "name": "python3"
  },
  "language_info": {
   "codemirror_mode": {
    "name": "ipython",
    "version": 3
   },
   "file_extension": ".py",
   "mimetype": "text/x-python",
   "name": "python",
   "nbconvert_exporter": "python",
   "pygments_lexer": "ipython3",
   "version": "3.9.16"
  }
 },
 "nbformat": 4,
 "nbformat_minor": 1
}
