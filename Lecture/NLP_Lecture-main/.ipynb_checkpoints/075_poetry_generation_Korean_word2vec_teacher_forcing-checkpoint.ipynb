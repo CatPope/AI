{
 "cells": [
  {
   "cell_type": "markdown",
   "metadata": {
    "id": "kB8Fqf1tXSUJ"
   },
   "source": [
    "# 075. Poetry text generation - seq2seq Transfer Learning\n",
    "\n",
    "## Korean word2vec 을 embedding layer 의 초기 weight 로 전이학습\n",
    "\n",
    "\n",
    "- 두개의 model 로 구성  \n",
    "    - model1 : many-to-many RNN model for fine tuning\n",
    "    - model2 : many-to-many RNN model for sequence-to-sequence prediction\n",
    "    \n",
    "\n",
    "- Model 1 에서 Embedding Layer 를 훈련 시키고, 훈련시킨 Embedding 을 Model 2 에서 Text Generation 에 사용  \n",
    "\n",
    "\n",
    "- Model 1 은 word2vec pre-trained weight 를 초기값으로 사용하고, single LSTM 으로 fine tuning  \n",
    "\n",
    "\n",
    "- Model 2 는 Model 1 에서 train 된 Embedding + LSTM 의 이전 timestep prediction 의 hidden state 와 cell state 를 초기값으로 사용\n",
    "\n",
    "\n",
    "- Model 2 에서는 idx = np.random.choice(len(probs), p=probs) $\\rightarrow$ 사후 확률분포 (posterios probability distribution) 에 의해 next word sampling\n",
    "\n",
    "<img src=\"seq2seq.png\" width=\"600\"/>"
   ]
  },
  {
   "cell_type": "code",
   "execution_count": 1,
   "metadata": {
    "id": "UfSttaxg-WOm"
   },
   "outputs": [],
   "source": [
    "!pip install -U -q gensim==3.6.0"
   ]
  },
  {
   "cell_type": "code",
   "execution_count": 2,
   "metadata": {
    "id": "ge1NGF2FXSUL"
   },
   "outputs": [],
   "source": [
    "import numpy as np\n",
    "import pandas as pd\n",
    "import matplotlib.pyplot as plt\n",
    "\n",
    "from gensim.models.word2vec import Word2Vec\n",
    "import gensim\n",
    "\n",
    "import tensorflow as tf\n",
    "from tensorflow.keras.models import Model\n",
    "from tensorflow.keras.layers import Dense, Embedding, Input, LSTM\n",
    "from tensorflow.keras.preprocessing.text import Tokenizer\n",
    "from tensorflow.keras.preprocessing.sequence import pad_sequences\n",
    "from tensorflow.keras.optimizers import Adam\n",
    "from tensorflow.keras.utils import plot_model"
   ]
  },
  {
   "cell_type": "code",
   "execution_count": 3,
   "metadata": {
    "id": "AMqVSoeqXSUP"
   },
   "outputs": [],
   "source": [
    "# some configuration\n",
    "MAX_VOCAB_SIZE = 3000\n",
    "EMBEDDING_DIM = 200\n",
    "BATCH_SIZE = 128\n",
    "LATENT_DIM = 64"
   ]
  },
  {
   "cell_type": "markdown",
   "metadata": {
    "id": "xu3bsxf1XSUT"
   },
   "source": [
    "### Teacher Forcing 을 위한 input, target data 작성\n",
    "- input data 와 target data 는 1 timestep offset 차이로 동일  \n",
    "- input 은 start token 으로 시작  \n",
    "- output 은 end token 으로 종료  \n",
    "\n",
    "\n",
    "input data : `<sos> 앨리스는 언니 옆에 앉아 할일 없이 강둑에 앉아있는 게 지루해지기 시작했어요.`  \n",
    "target data : `앨리스는 언니 옆에 앉아 할일 없이 강둑에 앉아있는 게 지루해지기 시작했어요. <eos>`"
   ]
  },
  {
   "cell_type": "code",
   "execution_count": 4,
   "metadata": {
    "colab": {
     "base_uri": "https://localhost:8080/"
    },
    "id": "mnEhacdgXSUU",
    "outputId": "6f64cae6-7c5d-4dba-fea6-16357ed8b473"
   },
   "outputs": [],
   "source": [
    "file_path = tf.keras.utils.get_file(\"Alice_wonderland_Korean.txt\", \n",
    "              \"https://github.com/ironmanciti/NLP_Lecture/raw/master/data/Alice_wonderland_Korean.txt\")"
   ]
  },
  {
   "cell_type": "code",
   "execution_count": 5,
   "metadata": {
    "colab": {
     "base_uri": "https://localhost:8080/"
    },
    "id": "_oIqv9ltXSUX",
    "outputId": "1ef7b947-931b-4de0-b794-7543cd03321c"
   },
   "outputs": [
    {
     "name": "stdout",
     "output_type": "stream",
     "text": [
      "['<sos> 앨리스는 언니 옆에 앉아 할일 없이 강둑에 앉아있는 게 지루해지기 시작했어요.', '<sos> 그러다 한두 번 언니가 읽고 있는 책에 눈길을 주기도 했지만 그림이나 대화 하나 없는 책이지 뭐예요.', '<sos> ‘그림도 대화도 없는데,’라고 앨리스는 생각했어요. ‘이런 책을 어따 쓴담?’', '<sos> 그리하여 늘 그러하듯 앨리스는 자기만의 생각 속으로 빠져들었지요. 왜 있잖아요, 덥다 보면 잠도 밀려오고 약간 멍청해지는 그런 기분 말이에요.', '<sos> ‘그래 데이지 화환(꽃 화환. 주이 아이들이 목걸이로 만듦)을 만들면 어떨까, 일어나 데이지(꽃)만 주우면 되잖아.’']\n",
      "\n",
      "['앨리스는 언니 옆에 앉아 할일 없이 강둑에 앉아있는 게 지루해지기 시작했어요. <eos>', '그러다 한두 번 언니가 읽고 있는 책에 눈길을 주기도 했지만 그림이나 대화 하나 없는 책이지 뭐예요. <eos>', '‘그림도 대화도 없는데,’라고 앨리스는 생각했어요. ‘이런 책을 어따 쓴담?’ <eos>', '그리하여 늘 그러하듯 앨리스는 자기만의 생각 속으로 빠져들었지요. 왜 있잖아요, 덥다 보면 잠도 밀려오고 약간 멍청해지는 그런 기분 말이에요. <eos>', '‘그래 데이지 화환(꽃 화환. 주이 아이들이 목걸이로 만듦)을 만들면 어떨까, 일어나 데이지(꽃)만 주우면 되잖아.’ <eos>']\n"
     ]
    }
   ],
   "source": [
    "# load in the data\n",
    "input_texts = []\n",
    "target_texts = []\n",
    "\n",
    "f = open(file_path,\"r\", encoding='cp949')\n",
    "\n",
    "for line in f:\n",
    "    line = line.rstrip()\n",
    "    if not line:\n",
    "        continue\n",
    "\n",
    "    input_line = '<sos> ' + line \n",
    "    target_line = line + ' <eos>'\n",
    "\n",
    "    input_texts.append(input_line)\n",
    "    target_texts.append(target_line)\n",
    "\n",
    "print(input_texts[:5])\n",
    "print()\n",
    "print(target_texts[:5])"
   ]
  },
  {
   "cell_type": "markdown",
   "metadata": {
    "id": "JqqQ2ucTXSUf"
   },
   "source": [
    "### sentences (string) 을 integer 로 변환 \n",
    "- Tokenizer 의 두가지 기능\n",
    "    - text 내의 word 들을 split 하여 index 부여 (Tokenizer.fit_on_texts)  \n",
    "    - text 를 word 의 index 로 sequence 변환 (Tokenizer.texts_to_sequences)\n",
    "    \n",
    "    \n",
    "- Tokenizer 의 filters='' 를 해주지 않으면 모든 special character 를 filtering 하므로 `<sos>, <eos>` 의 <, > 가 제거됨  \n",
    "    - 구둣점들을 filtering 해주지 않아도 최종 performance 에 큰 문제 없음"
   ]
  },
  {
   "cell_type": "code",
   "execution_count": 6,
   "metadata": {
    "colab": {
     "base_uri": "https://localhost:8080/"
    },
    "id": "DFdXDGnSXSUg",
    "outputId": "f0606cc0-f717-47e3-fc12-6c126ec40cd6"
   },
   "outputs": [
    {
     "name": "stdout",
     "output_type": "stream",
     "text": [
      "unique token 갯수: 9021\n",
      "1422 1422\n",
      "[[1, 6, 1209, 457, 94, 2248, 377, 1210, 2249, 10, 2250, 67], [1, 125, 819, 98, 598, 1211, 11, 2251, 2252, 2253, 2254, 2255, 599, 154, 378, 2256, 45], [1, 2257, 2258, 2259, 6, 40, 2260, 1212, 1213, 2261]]\n",
      "[[6, 1209, 457, 94, 2248, 377, 1210, 2249, 10, 2250, 67, 2], [125, 819, 98, 598, 1211, 11, 2251, 2252, 2253, 2254, 2255, 599, 154, 378, 2256, 45, 2], [2257, 2258, 2259, 6, 40, 2260, 1212, 1213, 2261, 2]]\n",
      "1\n",
      "2\n"
     ]
    }
   ],
   "source": [
    "tokenizer = Tokenizer(num_words=MAX_VOCAB_SIZE, filters='')\n",
    "tokenizer.fit_on_texts(input_texts + target_texts)\n",
    "\n",
    "# word index 길이 \n",
    "print('unique token 갯수: {}'.format(len(tokenizer.word_index)))\n",
    "\n",
    "# string -> sequence 변환\n",
    "input_sequences = tokenizer.texts_to_sequences(input_texts)\n",
    "target_sequences = tokenizer.texts_to_sequences(target_texts)\n",
    "\n",
    "print(len(input_sequences), len(target_sequences))\n",
    "print(input_sequences[:3])\n",
    "print(target_sequences[:3])\n",
    "print(tokenizer.word_index.get('<sos>'))\n",
    "print(tokenizer.word_index.get('<eos>'))"
   ]
  },
  {
   "cell_type": "markdown",
   "metadata": {
    "id": "4UBYeSdVXSUl"
   },
   "source": [
    "### padding\n",
    "- 모든 input 을 동일한 length 로 padding 하기 위해 max sequence length 구함\n",
    "- 모든 input 과 target 을 동일 length 로 padding  \n",
    "\n",
    "- N x T matrix 생성 (N: sentence 갯수, T: max sequence length) "
   ]
  },
  {
   "cell_type": "code",
   "execution_count": 7,
   "metadata": {
    "colab": {
     "base_uri": "https://localhost:8080/",
     "height": 266
    },
    "id": "O3woWcac-WOt",
    "outputId": "05bafb9f-9f82-42d6-fa53-265801ba8bc9"
   },
   "outputs": [
    {
     "data": {
      "image/png": "[encoded data removed]",
      "text/plain": [
       "<Figure size 432x288 with 1 Axes>"
      ]
     },
     "metadata": {
      "needs_background": "light"
     },
     "output_type": "display_data"
    }
   ],
   "source": [
    "plt.hist([len(s) for s in input_sequences]);"
   ]
  },
  {
   "cell_type": "code",
   "execution_count": 8,
   "metadata": {
    "id": "BJs-E9yE-WOu"
   },
   "outputs": [],
   "source": [
    "MAX_SEQ_LEN = 20"
   ]
  },
  {
   "cell_type": "code",
   "execution_count": 9,
   "metadata": {
    "colab": {
     "base_uri": "https://localhost:8080/"
    },
    "id": "JzLfCuLKXSUt",
    "outputId": "012386b1-02f7-42f5-cdd2-a09fc291632d"
   },
   "outputs": [
    {
     "name": "stdout",
     "output_type": "stream",
     "text": [
      "(1422, 20)\n",
      "(1422, 20)\n",
      "[   1    6 1209  457   94 2248  377 1210 2249   10 2250   67    0    0\n",
      "    0    0    0    0    0    0]\n",
      "[   6 1209  457   94 2248  377 1210 2249   10 2250   67    2    0    0\n",
      "    0    0    0    0    0    0]\n"
     ]
    }
   ],
   "source": [
    "# pad sequences so that we get a N x T matrix\n",
    "input_padded = pad_sequences(input_sequences, \n",
    "                             maxlen=MAX_SEQ_LEN, padding='post')\n",
    "target_padded = pad_sequences(target_sequences, \n",
    "                              maxlen=MAX_SEQ_LEN, padding='post')\n",
    "\n",
    "print(input_padded.shape)\n",
    "print(target_padded.shape)\n",
    "print(input_padded[0])\n",
    "print(target_padded[0])"
   ]
  },
  {
   "cell_type": "markdown",
   "metadata": {
    "id": "fTKXADMqb3rD"
   },
   "source": [
    "### embeding layer 의 num_words"
   ]
  },
  {
   "cell_type": "code",
   "execution_count": 10,
   "metadata": {
    "colab": {
     "base_uri": "https://localhost:8080/"
    },
    "id": "DTIR8FSCXSUv",
    "outputId": "6314cf96-8ac8-4d83-de78-89b73a4c98fb"
   },
   "outputs": [
    {
     "data": {
      "text/plain": [
       "3000"
      ]
     },
     "execution_count": 10,
     "metadata": {},
     "output_type": "execute_result"
    }
   ],
   "source": [
    "num_words = min(MAX_VOCAB_SIZE, len(tokenizer.word_index) + 1)\n",
    "num_words"
   ]
  },
  {
   "cell_type": "markdown",
   "metadata": {
    "id": "OSHasg_jXSUx"
   },
   "source": [
    "### pretrained word embedding 값을 transfer learning\n",
    "\n",
    "- Embedding layer 의 weight 를 pre-trained model 로 초기화  \n",
    "\n",
    "\n",
    "- 한글 word2vec 의 EMBEDDING_DIM 사용  \n",
    "\n",
    "\n",
    "- word index 가 1 부터 시작하므로 0 padding 감안하여 num_words 는 len(word2idx)+1, 혹은 MAX_VOCAB_SIZE 중 작은 것 선택  "
   ]
  },
  {
   "cell_type": "code",
   "execution_count": 11,
   "metadata": {
    "id": "QIq5mPHU-WOw"
   },
   "outputs": [],
   "source": [
    "kovec = Word2Vec.load(\n",
    "    'https://github.com/ironmanciti/NLP_Lecture/raw/master/data/ko.bin')"
   ]
  },
  {
   "cell_type": "code",
   "execution_count": 12,
   "metadata": {
    "colab": {
     "base_uri": "https://localhost:8080/"
    },
    "id": "u1UGz5Ry-WOw",
    "outputId": "942ff4e3-160d-4fe6-e88c-045171a506b0"
   },
   "outputs": [
    {
     "name": "stdout",
     "output_type": "stream",
     "text": [
      "30185\n",
      "['관위', '정어리', '유식론', '장로회', '춘추관', '도입부', '민병', '어렵', '매니저', '청담', '광주시', '고민', '어로', '어록', '폴라리스', '십만', '관음', '효과적', '관의', '당뇨병', '영중추', '듣', '민법', '마두라', '중국계', '여덟째', 'ㄴ단', 'ㄴ다', '테스트', '어찌하']\n"
     ]
    }
   ],
   "source": [
    "words = list(kovec.wv.vocab.keys())\n",
    "print(len(words))\n",
    "print(words[:30])"
   ]
  },
  {
   "cell_type": "code",
   "execution_count": 13,
   "metadata": {
    "colab": {
     "base_uri": "https://localhost:8080/"
    },
    "id": "w6SIaR9ZjO7R",
    "outputId": "6e87170d-9836-47cf-ccff-e6fd39cf0678"
   },
   "outputs": [
    {
     "data": {
      "text/plain": [
       "30185"
      ]
     },
     "execution_count": 13,
     "metadata": {},
     "output_type": "execute_result"
    }
   ],
   "source": [
    "embeddings_dict = {}\n",
    "\n",
    "for word in words:                                     \n",
    "    embeddings_dict[word] = kovec.wv[word]\n",
    "    \n",
    "len(embeddings_dict)"
   ]
  },
  {
   "cell_type": "code",
   "execution_count": 14,
   "metadata": {
    "id": "KQ7kd0e7XSU2"
   },
   "outputs": [],
   "source": [
    "embedding_matrix = np.zeros((num_words, 200))    # zero 로 초기화   \n",
    "    \n",
    "for word, i in tokenizer.word_index.items():\n",
    "    if i < num_words :\n",
    "        embedding_vector = embeddings_dict.get(word)\n",
    "        if embedding_vector is not None:      # 해당 word 가 없으면 all zero 로 남겨둠\n",
    "            embedding_matrix[i] = embedding_vector"
   ]
  },
  {
   "cell_type": "markdown",
   "metadata": {
    "id": "KkRkkHUhXSU5"
   },
   "source": [
    "### Embedding layer 작성\n",
    "- load pre-trained word embeddings into an Embedding layer"
   ]
  },
  {
   "cell_type": "code",
   "execution_count": 15,
   "metadata": {
    "id": "1DQxDmoyXSU6"
   },
   "outputs": [],
   "source": [
    "embedding_layer = Embedding(num_words, EMBEDDING_DIM, \n",
    "                            weights=[embedding_matrix])"
   ]
  },
  {
   "cell_type": "markdown",
   "metadata": {
    "id": "IXIBB5hZXSU_"
   },
   "source": [
    "## Model 1 : 전이학습을 위한 embedding layer fine tuning\n",
    "\n",
    "- single LSTM model 을 이용하여 embedding layer를 fine tuning\n",
    "\n",
    "- return_sequence = True 일 경우 lstm 의 output 은 x, h, c \n",
    "- model 은 [input_, initial_h, initial_c] 의 3 개의 input 과, 하나의 output 을 가진다. initial_state 를 keras default 를 사용하지 않고 직접 control 하기 위해 initial_h 와 initial_c 를 추가  "
   ]
  },
  {
   "cell_type": "code",
   "execution_count": 16,
   "metadata": {
    "colab": {
     "base_uri": "https://localhost:8080/"
    },
    "id": "JodbLS4dXSU_",
    "outputId": "2f0e15cb-4811-4ce9-882b-01450569a980"
   },
   "outputs": [
    {
     "name": "stdout",
     "output_type": "stream",
     "text": [
      "Model: \"model\"\n",
      "_________________________________________________________________\n",
      " Layer (type)                Output Shape              Param #   \n",
      "=================================================================\n",
      " input_1 (InputLayer)        [(None, 20)]              0         \n",
      "                                                                 \n",
      " embedding (Embedding)       (None, 20, 200)           600000    \n",
      "                                                                 \n",
      " lstm (LSTM)                 (None, 20, 64)            67840     \n",
      "                                                                 \n",
      " dense (Dense)               (None, 20, 3000)          195000    \n",
      "                                                                 \n",
      "=================================================================\n",
      "Total params: 862,840\n",
      "Trainable params: 862,840\n",
      "Non-trainable params: 0\n",
      "_________________________________________________________________\n"
     ]
    }
   ],
   "source": [
    "input1 = Input(shape=(MAX_SEQ_LEN,))\n",
    "x = embedding_layer(input1)\n",
    "lstm = LSTM(LATENT_DIM, return_sequences=True)\n",
    "x = lstm(x)\n",
    "output1 = Dense(num_words, activation='softmax')(x)\n",
    "model_1 = Model(input1, output1)\n",
    "\n",
    "model_1.compile(loss='sparse_categorical_crossentropy', \n",
    "                optimizer=Adam(learning_rate=0.01),\n",
    "                metrics=['accuracy'])   # poet 생성에서는 accuracy 큰 의미 없음\n",
    "model_1.summary()"
   ]
  },
  {
   "cell_type": "code",
   "execution_count": 17,
   "metadata": {
    "colab": {
     "base_uri": "https://localhost:8080/",
     "height": 422
    },
    "id": "j7i95QMW3wwb",
    "outputId": "a7b134ac-3710-4190-a9f2-e143da86f5b0"
   },
   "outputs": [
    {
     "data": {
      "image/png": "[encoded data removed]",
      "text/plain": [
       "<IPython.core.display.Image object>"
      ]
     },
     "execution_count": 17,
     "metadata": {},
     "output_type": "execute_result"
    }
   ],
   "source": [
    "plot_model(model_1, show_shapes=True)"
   ]
  },
  {
   "cell_type": "markdown",
   "metadata": {
    "id": "LX77FzjQijtP"
   },
   "source": [
    "### Teacher Forcing 을 통한 model_1 의 embedding layer fine-tuning"
   ]
  },
  {
   "cell_type": "code",
   "execution_count": 18,
   "metadata": {
    "colab": {
     "base_uri": "https://localhost:8080/"
    },
    "id": "hcEkLQxqXSVC",
    "outputId": "f348e7ca-8773-4323-a367-ae37294d9699",
    "scrolled": true
   },
   "outputs": [
    {
     "name": "stdout",
     "output_type": "stream",
     "text": [
      "Epoch 1/100\n",
      "9/9 [==============================] - 3s 158ms/step - loss: 6.4777 - accuracy: 0.4538 - val_loss: 3.6780 - val_accuracy: 0.5730\n",
      "Epoch 2/100\n",
      "9/9 [==============================] - 1s 115ms/step - loss: 4.3447 - accuracy: 0.5008 - val_loss: 3.8609 - val_accuracy: 0.5730\n",
      "Epoch 3/100\n",
      "9/9 [==============================] - 1s 114ms/step - loss: 4.1153 - accuracy: 0.5008 - val_loss: 3.8314 - val_accuracy: 0.5728\n",
      "Epoch 4/100\n",
      "9/9 [==============================] - 1s 119ms/step - loss: 3.8727 - accuracy: 0.5007 - val_loss: 3.5252 - val_accuracy: 0.5728\n",
      "Epoch 5/100\n",
      "9/9 [==============================] - 1s 118ms/step - loss: 3.6030 - accuracy: 0.5012 - val_loss: 3.2876 - val_accuracy: 0.5746\n",
      "Epoch 6/100\n",
      "9/9 [==============================] - 1s 120ms/step - loss: 3.4135 - accuracy: 0.5077 - val_loss: 3.1900 - val_accuracy: 0.5975\n",
      "Epoch 7/100\n",
      "9/9 [==============================] - 1s 119ms/step - loss: 3.3148 - accuracy: 0.5363 - val_loss: 3.1589 - val_accuracy: 0.6146\n",
      "Epoch 8/100\n",
      "9/9 [==============================] - 1s 116ms/step - loss: 3.2511 - accuracy: 0.5462 - val_loss: 3.1482 - val_accuracy: 0.6151\n",
      "Epoch 9/100\n",
      "9/9 [==============================] - 1s 118ms/step - loss: 3.1938 - accuracy: 0.5494 - val_loss: 3.1566 - val_accuracy: 0.6189\n",
      "Epoch 10/100\n",
      "9/9 [==============================] - 1s 112ms/step - loss: 3.1386 - accuracy: 0.5507 - val_loss: 3.1637 - val_accuracy: 0.6191\n",
      "Epoch 11/100\n",
      "9/9 [==============================] - 1s 113ms/step - loss: 3.0796 - accuracy: 0.5527 - val_loss: 3.1687 - val_accuracy: 0.6209\n",
      "Epoch 12/100\n",
      "9/9 [==============================] - 1s 115ms/step - loss: 3.0187 - accuracy: 0.5568 - val_loss: 3.1767 - val_accuracy: 0.6237\n",
      "Epoch 13/100\n",
      "9/9 [==============================] - 1s 112ms/step - loss: 2.9542 - accuracy: 0.5619 - val_loss: 3.1815 - val_accuracy: 0.6244\n",
      "Epoch 14/100\n",
      "9/9 [==============================] - 1s 111ms/step - loss: 2.8860 - accuracy: 0.5673 - val_loss: 3.1819 - val_accuracy: 0.6249\n",
      "Epoch 15/100\n",
      "9/9 [==============================] - 1s 111ms/step - loss: 2.8144 - accuracy: 0.5711 - val_loss: 3.1835 - val_accuracy: 0.6256\n",
      "Epoch 16/100\n",
      "9/9 [==============================] - 1s 112ms/step - loss: 2.7399 - accuracy: 0.5751 - val_loss: 3.1990 - val_accuracy: 0.6258\n",
      "Epoch 17/100\n",
      "9/9 [==============================] - 1s 113ms/step - loss: 2.6628 - accuracy: 0.5783 - val_loss: 3.2170 - val_accuracy: 0.6254\n",
      "Epoch 18/100\n",
      "9/9 [==============================] - 1s 115ms/step - loss: 2.5821 - accuracy: 0.5839 - val_loss: 3.2141 - val_accuracy: 0.6258\n",
      "Epoch 19/100\n",
      "9/9 [==============================] - 1s 114ms/step - loss: 2.5023 - accuracy: 0.5895 - val_loss: 3.2322 - val_accuracy: 0.6258\n",
      "Epoch 20/100\n",
      "9/9 [==============================] - 1s 113ms/step - loss: 2.4205 - accuracy: 0.5952 - val_loss: 3.2527 - val_accuracy: 0.6260\n",
      "Epoch 21/100\n",
      "9/9 [==============================] - 1s 112ms/step - loss: 2.3390 - accuracy: 0.6018 - val_loss: 3.2671 - val_accuracy: 0.6265\n",
      "Epoch 22/100\n",
      "9/9 [==============================] - 1s 113ms/step - loss: 2.2564 - accuracy: 0.6108 - val_loss: 3.2992 - val_accuracy: 0.6251\n",
      "Epoch 23/100\n",
      "9/9 [==============================] - 1s 114ms/step - loss: 2.1735 - accuracy: 0.6198 - val_loss: 3.3125 - val_accuracy: 0.6267\n",
      "Epoch 24/100\n",
      "9/9 [==============================] - 1s 112ms/step - loss: 2.0898 - accuracy: 0.6300 - val_loss: 3.3289 - val_accuracy: 0.6267\n",
      "Epoch 25/100\n",
      "9/9 [==============================] - 1s 112ms/step - loss: 2.0064 - accuracy: 0.6408 - val_loss: 3.3527 - val_accuracy: 0.6275\n",
      "Epoch 26/100\n",
      "9/9 [==============================] - 1s 114ms/step - loss: 1.9268 - accuracy: 0.6523 - val_loss: 3.3849 - val_accuracy: 0.6275\n",
      "Epoch 27/100\n",
      "9/9 [==============================] - 1s 113ms/step - loss: 1.8466 - accuracy: 0.6643 - val_loss: 3.4150 - val_accuracy: 0.6274\n",
      "Epoch 28/100\n",
      "9/9 [==============================] - 1s 112ms/step - loss: 1.7677 - accuracy: 0.6766 - val_loss: 3.4294 - val_accuracy: 0.6275\n",
      "Epoch 29/100\n",
      "9/9 [==============================] - 1s 112ms/step - loss: 1.6922 - accuracy: 0.6888 - val_loss: 3.4596 - val_accuracy: 0.6279\n",
      "Epoch 30/100\n",
      "9/9 [==============================] - 1s 112ms/step - loss: 1.6197 - accuracy: 0.7012 - val_loss: 3.4899 - val_accuracy: 0.6265\n",
      "Epoch 31/100\n",
      "9/9 [==============================] - 1s 112ms/step - loss: 1.5498 - accuracy: 0.7124 - val_loss: 3.5214 - val_accuracy: 0.6272\n",
      "Epoch 32/100\n",
      "9/9 [==============================] - 1s 112ms/step - loss: 1.4832 - accuracy: 0.7235 - val_loss: 3.5494 - val_accuracy: 0.6267\n",
      "Epoch 33/100\n",
      "9/9 [==============================] - 1s 114ms/step - loss: 1.4216 - accuracy: 0.7349 - val_loss: 3.5764 - val_accuracy: 0.6272\n",
      "Epoch 34/100\n",
      "9/9 [==============================] - 1s 111ms/step - loss: 1.3619 - accuracy: 0.7472 - val_loss: 3.6016 - val_accuracy: 0.6275\n",
      "Epoch 35/100\n",
      "9/9 [==============================] - 1s 112ms/step - loss: 1.3064 - accuracy: 0.7559 - val_loss: 3.6439 - val_accuracy: 0.6270\n",
      "Epoch 36/100\n",
      "9/9 [==============================] - 1s 113ms/step - loss: 1.2525 - accuracy: 0.7656 - val_loss: 3.6748 - val_accuracy: 0.6267\n",
      "Epoch 37/100\n",
      "9/9 [==============================] - 1s 113ms/step - loss: 1.2054 - accuracy: 0.7745 - val_loss: 3.7006 - val_accuracy: 0.6261\n",
      "Epoch 38/100\n",
      "9/9 [==============================] - 1s 114ms/step - loss: 1.1624 - accuracy: 0.7827 - val_loss: 3.7243 - val_accuracy: 0.6258\n",
      "Epoch 39/100\n",
      "9/9 [==============================] - 1s 112ms/step - loss: 1.1191 - accuracy: 0.7898 - val_loss: 3.7509 - val_accuracy: 0.6254\n",
      "Epoch 40/100\n",
      "9/9 [==============================] - 1s 113ms/step - loss: 1.0806 - accuracy: 0.7972 - val_loss: 3.7870 - val_accuracy: 0.6256\n",
      "Epoch 41/100\n",
      "9/9 [==============================] - 1s 115ms/step - loss: 1.0449 - accuracy: 0.8027 - val_loss: 3.8197 - val_accuracy: 0.6244\n",
      "Epoch 42/100\n",
      "9/9 [==============================] - 1s 117ms/step - loss: 1.0129 - accuracy: 0.8084 - val_loss: 3.8405 - val_accuracy: 0.6244\n",
      "Epoch 43/100\n",
      "9/9 [==============================] - 1s 110ms/step - loss: 0.9826 - accuracy: 0.8147 - val_loss: 3.8673 - val_accuracy: 0.6244\n",
      "Epoch 44/100\n",
      "9/9 [==============================] - 1s 116ms/step - loss: 0.9557 - accuracy: 0.8170 - val_loss: 3.8967 - val_accuracy: 0.6249\n",
      "Epoch 45/100\n",
      "9/9 [==============================] - 1s 116ms/step - loss: 0.9274 - accuracy: 0.8235 - val_loss: 3.9243 - val_accuracy: 0.6233\n",
      "Epoch 46/100\n",
      "9/9 [==============================] - 1s 117ms/step - loss: 0.9027 - accuracy: 0.8282 - val_loss: 3.9444 - val_accuracy: 0.6235\n",
      "Epoch 47/100\n",
      "9/9 [==============================] - 1s 119ms/step - loss: 0.8792 - accuracy: 0.8319 - val_loss: 3.9662 - val_accuracy: 0.6233\n",
      "Epoch 48/100\n",
      "9/9 [==============================] - 1s 111ms/step - loss: 0.8577 - accuracy: 0.8376 - val_loss: 3.9794 - val_accuracy: 0.6237\n",
      "Epoch 49/100\n",
      "9/9 [==============================] - 1s 117ms/step - loss: 0.8391 - accuracy: 0.8398 - val_loss: 4.0139 - val_accuracy: 0.6233\n",
      "Epoch 50/100\n",
      "9/9 [==============================] - 1s 119ms/step - loss: 0.8199 - accuracy: 0.8426 - val_loss: 4.0319 - val_accuracy: 0.6225\n",
      "Epoch 51/100\n",
      "9/9 [==============================] - 1s 113ms/step - loss: 0.8013 - accuracy: 0.8478 - val_loss: 4.0481 - val_accuracy: 0.6240\n",
      "Epoch 52/100\n",
      "9/9 [==============================] - 1s 115ms/step - loss: 0.7842 - accuracy: 0.8503 - val_loss: 4.0765 - val_accuracy: 0.6230\n",
      "Epoch 53/100\n",
      "9/9 [==============================] - 1s 120ms/step - loss: 0.7684 - accuracy: 0.8532 - val_loss: 4.0975 - val_accuracy: 0.6226\n",
      "Epoch 54/100\n",
      "9/9 [==============================] - 1s 116ms/step - loss: 0.7527 - accuracy: 0.8565 - val_loss: 4.1038 - val_accuracy: 0.6230\n",
      "Epoch 55/100\n",
      "9/9 [==============================] - 1s 112ms/step - loss: 0.7377 - accuracy: 0.8598 - val_loss: 4.1306 - val_accuracy: 0.6219\n",
      "Epoch 56/100\n",
      "9/9 [==============================] - 1s 114ms/step - loss: 0.7230 - accuracy: 0.8613 - val_loss: 4.1511 - val_accuracy: 0.6230\n",
      "Epoch 57/100\n",
      "9/9 [==============================] - 1s 112ms/step - loss: 0.7102 - accuracy: 0.8642 - val_loss: 4.1683 - val_accuracy: 0.6223\n",
      "Epoch 58/100\n",
      "9/9 [==============================] - 1s 117ms/step - loss: 0.6990 - accuracy: 0.8661 - val_loss: 4.1954 - val_accuracy: 0.6225\n"
     ]
    },
    {
     "name": "stdout",
     "output_type": "stream",
     "text": [
      "Epoch 59/100\n",
      "9/9 [==============================] - 1s 117ms/step - loss: 0.6860 - accuracy: 0.8678 - val_loss: 4.2053 - val_accuracy: 0.6225\n",
      "Epoch 60/100\n",
      "9/9 [==============================] - 1s 117ms/step - loss: 0.6746 - accuracy: 0.8700 - val_loss: 4.2315 - val_accuracy: 0.6225\n",
      "Epoch 61/100\n",
      "9/9 [==============================] - 1s 120ms/step - loss: 0.6623 - accuracy: 0.8726 - val_loss: 4.2450 - val_accuracy: 0.6226\n",
      "Epoch 62/100\n",
      "9/9 [==============================] - 1s 120ms/step - loss: 0.6526 - accuracy: 0.8748 - val_loss: 4.2658 - val_accuracy: 0.6230\n",
      "Epoch 63/100\n",
      "9/9 [==============================] - 1s 119ms/step - loss: 0.6425 - accuracy: 0.8762 - val_loss: 4.2798 - val_accuracy: 0.6219\n",
      "Epoch 64/100\n",
      "9/9 [==============================] - 1s 118ms/step - loss: 0.6344 - accuracy: 0.8785 - val_loss: 4.2923 - val_accuracy: 0.6212\n",
      "Epoch 65/100\n",
      "9/9 [==============================] - 1s 122ms/step - loss: 0.6237 - accuracy: 0.8800 - val_loss: 4.3291 - val_accuracy: 0.6230\n",
      "Epoch 66/100\n",
      "9/9 [==============================] - 1s 120ms/step - loss: 0.6145 - accuracy: 0.8820 - val_loss: 4.3313 - val_accuracy: 0.6211\n",
      "Epoch 67/100\n",
      "9/9 [==============================] - 1s 117ms/step - loss: 0.6054 - accuracy: 0.8848 - val_loss: 4.3575 - val_accuracy: 0.6207\n",
      "Epoch 68/100\n",
      "9/9 [==============================] - 1s 115ms/step - loss: 0.5969 - accuracy: 0.8847 - val_loss: 4.3623 - val_accuracy: 0.6214\n",
      "Epoch 69/100\n",
      "9/9 [==============================] - 1s 114ms/step - loss: 0.5893 - accuracy: 0.8880 - val_loss: 4.3842 - val_accuracy: 0.6223\n",
      "Epoch 70/100\n",
      "9/9 [==============================] - 1s 113ms/step - loss: 0.5822 - accuracy: 0.8893 - val_loss: 4.3970 - val_accuracy: 0.6219\n",
      "Epoch 71/100\n",
      "9/9 [==============================] - 1s 113ms/step - loss: 0.5747 - accuracy: 0.8904 - val_loss: 4.4155 - val_accuracy: 0.6212\n",
      "Epoch 72/100\n",
      "9/9 [==============================] - 1s 115ms/step - loss: 0.5678 - accuracy: 0.8908 - val_loss: 4.4218 - val_accuracy: 0.6218\n",
      "Epoch 73/100\n",
      "9/9 [==============================] - 1s 116ms/step - loss: 0.5602 - accuracy: 0.8932 - val_loss: 4.4522 - val_accuracy: 0.6218\n",
      "Epoch 74/100\n",
      "9/9 [==============================] - 1s 113ms/step - loss: 0.5532 - accuracy: 0.8944 - val_loss: 4.4507 - val_accuracy: 0.6221\n",
      "Epoch 75/100\n",
      "9/9 [==============================] - 1s 113ms/step - loss: 0.5467 - accuracy: 0.8962 - val_loss: 4.4757 - val_accuracy: 0.6211\n",
      "Epoch 76/100\n",
      "9/9 [==============================] - 1s 115ms/step - loss: 0.5393 - accuracy: 0.8970 - val_loss: 4.4894 - val_accuracy: 0.6212\n",
      "Epoch 77/100\n",
      "9/9 [==============================] - 1s 112ms/step - loss: 0.5334 - accuracy: 0.8990 - val_loss: 4.5081 - val_accuracy: 0.6211\n",
      "Epoch 78/100\n",
      "9/9 [==============================] - 1s 113ms/step - loss: 0.5277 - accuracy: 0.9000 - val_loss: 4.5157 - val_accuracy: 0.6202\n",
      "Epoch 79/100\n",
      "9/9 [==============================] - 1s 114ms/step - loss: 0.5218 - accuracy: 0.9011 - val_loss: 4.5301 - val_accuracy: 0.6211\n",
      "Epoch 80/100\n",
      "9/9 [==============================] - 1s 111ms/step - loss: 0.5167 - accuracy: 0.9015 - val_loss: 4.5403 - val_accuracy: 0.6218\n",
      "Epoch 81/100\n",
      "9/9 [==============================] - 1s 115ms/step - loss: 0.5117 - accuracy: 0.9035 - val_loss: 4.5623 - val_accuracy: 0.6202\n",
      "Epoch 82/100\n",
      "9/9 [==============================] - 1s 113ms/step - loss: 0.5074 - accuracy: 0.9019 - val_loss: 4.5643 - val_accuracy: 0.6198\n",
      "Epoch 83/100\n",
      "9/9 [==============================] - 1s 114ms/step - loss: 0.5018 - accuracy: 0.9038 - val_loss: 4.5907 - val_accuracy: 0.6198\n",
      "Epoch 84/100\n",
      "9/9 [==============================] - 1s 115ms/step - loss: 0.4982 - accuracy: 0.9039 - val_loss: 4.5979 - val_accuracy: 0.6198\n",
      "Epoch 85/100\n",
      "9/9 [==============================] - 1s 114ms/step - loss: 0.4934 - accuracy: 0.9055 - val_loss: 4.6145 - val_accuracy: 0.6209\n",
      "Epoch 86/100\n",
      "9/9 [==============================] - 1s 116ms/step - loss: 0.4878 - accuracy: 0.9066 - val_loss: 4.6315 - val_accuracy: 0.6191\n",
      "Epoch 87/100\n",
      "9/9 [==============================] - 1s 115ms/step - loss: 0.4843 - accuracy: 0.9076 - val_loss: 4.6320 - val_accuracy: 0.6200\n",
      "Epoch 88/100\n",
      "9/9 [==============================] - 1s 114ms/step - loss: 0.4804 - accuracy: 0.9086 - val_loss: 4.6547 - val_accuracy: 0.6195\n",
      "Epoch 89/100\n",
      "9/9 [==============================] - 1s 114ms/step - loss: 0.4759 - accuracy: 0.9088 - val_loss: 4.6667 - val_accuracy: 0.6196\n",
      "Epoch 90/100\n",
      "9/9 [==============================] - 1s 113ms/step - loss: 0.4726 - accuracy: 0.9099 - val_loss: 4.6738 - val_accuracy: 0.6202\n",
      "Epoch 91/100\n",
      "9/9 [==============================] - 1s 114ms/step - loss: 0.4689 - accuracy: 0.9099 - val_loss: 4.6885 - val_accuracy: 0.6212\n",
      "Epoch 92/100\n",
      "9/9 [==============================] - 1s 115ms/step - loss: 0.4648 - accuracy: 0.9102 - val_loss: 4.7071 - val_accuracy: 0.6200\n",
      "Epoch 93/100\n",
      "9/9 [==============================] - 1s 115ms/step - loss: 0.4607 - accuracy: 0.9123 - val_loss: 4.7089 - val_accuracy: 0.6205\n",
      "Epoch 94/100\n",
      "9/9 [==============================] - 1s 112ms/step - loss: 0.4574 - accuracy: 0.9117 - val_loss: 4.7300 - val_accuracy: 0.6200\n",
      "Epoch 95/100\n",
      "9/9 [==============================] - 1s 115ms/step - loss: 0.4538 - accuracy: 0.9119 - val_loss: 4.7450 - val_accuracy: 0.6205\n",
      "Epoch 96/100\n",
      "9/9 [==============================] - 1s 114ms/step - loss: 0.4504 - accuracy: 0.9131 - val_loss: 4.7421 - val_accuracy: 0.6200\n",
      "Epoch 97/100\n",
      "9/9 [==============================] - 1s 114ms/step - loss: 0.4474 - accuracy: 0.9135 - val_loss: 4.7693 - val_accuracy: 0.6207\n",
      "Epoch 98/100\n",
      "9/9 [==============================] - 1s 113ms/step - loss: 0.4443 - accuracy: 0.9135 - val_loss: 4.7766 - val_accuracy: 0.6200\n",
      "Epoch 99/100\n",
      "9/9 [==============================] - 1s 113ms/step - loss: 0.4414 - accuracy: 0.9143 - val_loss: 4.7708 - val_accuracy: 0.6207\n",
      "Epoch 100/100\n",
      "9/9 [==============================] - 1s 115ms/step - loss: 0.4395 - accuracy: 0.9150 - val_loss: 4.8085 - val_accuracy: 0.6226\n"
     ]
    }
   ],
   "source": [
    "history = model_1.fit(input_padded, target_padded, \n",
    "                      batch_size=BATCH_SIZE, \n",
    "                    epochs=100, validation_split=0.2)"
   ]
  },
  {
   "cell_type": "code",
   "execution_count": 19,
   "metadata": {
    "colab": {
     "base_uri": "https://localhost:8080/",
     "height": 265
    },
    "id": "pCtwq8B7XSVH",
    "outputId": "df6b0e36-d38c-4d3d-fca0-44bd79e1533b"
   },
   "outputs": [
    {
     "data": {
      "image/png": "[encoded data removed]",
      "text/plain": [
       "<Figure size 864x288 with 2 Axes>"
      ]
     },
     "metadata": {
      "needs_background": "light"
     },
     "output_type": "display_data"
    }
   ],
   "source": [
    "# plot some data\n",
    "fig, (ax1, ax2) = plt.subplots(1, 2, figsize=(12, 4))\n",
    "ax1.plot(history.history['loss'], label='loss')\n",
    "ax1.plot(history.history['val_loss'], label='val_loss')\n",
    "ax1.legend()\n",
    "\n",
    "# accuracies\n",
    "ax2.plot(history.history['accuracy'], label='acc')\n",
    "ax2.plot(history.history['val_accuracy'], label='val_acc')\n",
    "ax2.legend()\n",
    "plt.show()"
   ]
  },
  {
   "cell_type": "markdown",
   "metadata": {
    "id": "O1QmgfedXSVL"
   },
   "source": [
    "## Model2 : Poetry 생성 Language Model\n",
    "\n",
    "- input size = 1  \n",
    "- model1 에서 fine-tuning 한 embedding layer 를 이용"
   ]
  },
  {
   "cell_type": "code",
   "execution_count": 24,
   "metadata": {
    "colab": {
     "base_uri": "https://localhost:8080/"
    },
    "id": "egeS_wgJXSVL",
    "outputId": "180aa16d-e427-4a70-993f-bd5526b33618"
   },
   "outputs": [
    {
     "name": "stdout",
     "output_type": "stream",
     "text": [
      "Model: \"model_2\"\n",
      "__________________________________________________________________________________________________\n",
      " Layer (type)                   Output Shape         Param #     Connected to                     \n",
      "==================================================================================================\n",
      " input_5 (InputLayer)           [(None, 1)]          0           []                               \n",
      "                                                                                                  \n",
      " embedding (Embedding)          multiple             600000      ['input_5[0][0]']                \n",
      "                                                                                                  \n",
      " input_6 (InputLayer)           [(None, 64)]         0           []                               \n",
      "                                                                                                  \n",
      " input_7 (InputLayer)           [(None, 64)]         0           []                               \n",
      "                                                                                                  \n",
      " lstm_2 (LSTM)                  [(None, 64),         67840       ['embedding[2][0]',              \n",
      "                                 (None, 64),                      'input_6[0][0]',                \n",
      "                                 (None, 64)]                      'input_7[0][0]']                \n",
      "                                                                                                  \n",
      " dense_2 (Dense)                (None, 3000)         195000      ['lstm_2[0][0]']                 \n",
      "                                                                                                  \n",
      "==================================================================================================\n",
      "Total params: 862,840\n",
      "Trainable params: 862,840\n",
      "Non-trainable params: 0\n",
      "__________________________________________________________________________________________________\n"
     ]
    }
   ],
   "source": [
    "input2 = Input(shape=(1,))         # 한번에 한 단어만 입력 받음\n",
    "x = embedding_layer(input2)\n",
    "initial_h = Input(shape=(LATENT_DIM,))\n",
    "initial_c = Input(shape=(LATENT_DIM,))\n",
    "\n",
    "lstm = LSTM(LATENT_DIM,  return_state=True)\n",
    "x, h, c = lstm(x, initial_state=[initial_h, initial_c])\n",
    "\n",
    "output2 = Dense(num_words, activation='softmax')(x)\n",
    "\n",
    "model_2 = Model([input2, initial_h, initial_c], [output2, h, c])\n",
    "model_2.summary()"
   ]
  },
  {
   "cell_type": "code",
   "execution_count": 25,
   "metadata": {
    "colab": {
     "base_uri": "https://localhost:8080/",
     "height": 395
    },
    "id": "EZeEmwjT36gu",
    "outputId": "cc2b39e7-d8e7-40a2-9dc9-448a5207ef72"
   },
   "outputs": [
    {
     "data": {
      "image/png": "[encoded data removed]",
      "text/plain": [
       "<IPython.core.display.Image object>"
      ]
     },
     "execution_count": 25,
     "metadata": {},
     "output_type": "execute_result"
    }
   ],
   "source": [
    "plot_model(model_2, show_shapes=True)"
   ]
  },
  {
   "cell_type": "code",
   "execution_count": 26,
   "metadata": {
    "colab": {
     "base_uri": "https://localhost:8080/"
    },
    "id": "MY7oi5nfXSVT",
    "outputId": "9b3a1cfe-67af-4426-c6c9-d95737da9990"
   },
   "outputs": [
    {
     "data": {
      "text/plain": [
       "array([[1]])"
      ]
     },
     "execution_count": 26,
     "metadata": {},
     "output_type": "execute_result"
    }
   ],
   "source": [
    "np.array([[tokenizer.word_index['<sos>']]])  # batch size 1, input shape (1,)"
   ]
  },
  {
   "cell_type": "markdown",
   "metadata": {
    "id": "NdY_bebJXSVV"
   },
   "source": [
    "### Poem 생성\n",
    "\n",
    "- o, h, c 의 shape (1, 1, 3000) (1, 64) (1, 64)  \n"
   ]
  },
  {
   "cell_type": "code",
   "execution_count": 28,
   "metadata": {
    "colab": {
     "base_uri": "https://localhost:8080/"
    },
    "id": "bf1VyhiEXSVW",
    "outputId": "9b7022ca-3317-4b5c-d5e3-a17a0efff3ba"
   },
   "outputs": [
    {
     "ename": "TypeError",
     "evalue": "'numpy.float32' object does not support item assignment",
     "output_type": "error",
     "traceback": [
      "\u001b[0;31m---------------------------------------------------------------------------\u001b[0m",
      "\u001b[0;31mTypeError\u001b[0m                                 Traceback (most recent call last)",
      "\u001b[0;32m<ipython-input-28-abaea4a425b2>\u001b[0m in \u001b[0;36m<module>\u001b[0;34m\u001b[0m\n\u001b[1;32m     39\u001b[0m \u001b[0;32mwhile\u001b[0m \u001b[0;32mTrue\u001b[0m\u001b[0;34m:\u001b[0m\u001b[0;34m\u001b[0m\u001b[0;34m\u001b[0m\u001b[0m\n\u001b[1;32m     40\u001b[0m     \u001b[0;32mfor\u001b[0m \u001b[0m_\u001b[0m \u001b[0;32min\u001b[0m \u001b[0mrange\u001b[0m\u001b[0;34m(\u001b[0m\u001b[0;36m4\u001b[0m\u001b[0;34m)\u001b[0m\u001b[0;34m:\u001b[0m\u001b[0;34m\u001b[0m\u001b[0;34m\u001b[0m\u001b[0m\n\u001b[0;32m---> 41\u001b[0;31m         \u001b[0mprint\u001b[0m\u001b[0;34m(\u001b[0m\u001b[0msample_line\u001b[0m\u001b[0;34m(\u001b[0m\u001b[0;34m)\u001b[0m\u001b[0;34m)\u001b[0m\u001b[0;34m\u001b[0m\u001b[0;34m\u001b[0m\u001b[0m\n\u001b[0m\u001b[1;32m     42\u001b[0m \u001b[0;34m\u001b[0m\u001b[0m\n\u001b[1;32m     43\u001b[0m     \u001b[0mans\u001b[0m \u001b[0;34m=\u001b[0m \u001b[0minput\u001b[0m\u001b[0;34m(\u001b[0m\u001b[0;34m\"---generate another? [Y/n]---\"\u001b[0m\u001b[0;34m)\u001b[0m\u001b[0;34m\u001b[0m\u001b[0;34m\u001b[0m\u001b[0m\n",
      "\u001b[0;32m<ipython-input-28-abaea4a425b2>\u001b[0m in \u001b[0;36msample_line\u001b[0;34m()\u001b[0m\n\u001b[1;32m     19\u001b[0m \u001b[0;34m\u001b[0m\u001b[0m\n\u001b[1;32m     20\u001b[0m          \u001b[0;31m# 첫번째 word index 는 padding 으로 사용된 0 이므로 선택되지 않도록 확률을 0 으로 setting 함\u001b[0m\u001b[0;34m\u001b[0m\u001b[0;34m\u001b[0m\u001b[0;34m\u001b[0m\u001b[0m\n\u001b[0;32m---> 21\u001b[0;31m         \u001b[0mprobs\u001b[0m\u001b[0;34m[\u001b[0m\u001b[0;36m0\u001b[0m\u001b[0;34m]\u001b[0m \u001b[0;34m=\u001b[0m \u001b[0;36m0\u001b[0m\u001b[0;34m\u001b[0m\u001b[0;34m\u001b[0m\u001b[0m\n\u001b[0m\u001b[1;32m     22\u001b[0m \u001b[0;34m\u001b[0m\u001b[0m\n\u001b[1;32m     23\u001b[0m         \u001b[0;31m# next word sampling\u001b[0m\u001b[0;34m\u001b[0m\u001b[0;34m\u001b[0m\u001b[0;34m\u001b[0m\u001b[0m\n",
      "\u001b[0;31mTypeError\u001b[0m: 'numpy.float32' object does not support item assignment"
     ]
    }
   ],
   "source": [
    "# generate one line of poem\n",
    "\n",
    "def sample_line():\n",
    "  # initial inputs\n",
    "    np_input = np.array([[tokenizer.word_index['<sos>']]])     # 첫 word 는 <sos> token\n",
    "    h = np.zeros((1, LATENT_DIM))                         # Language Model 이므로 초기값 0\n",
    "    c = np.zeros((1, LATENT_DIM))\n",
    "\n",
    "    # end token\n",
    "    eos = tokenizer.word_index['<eos>']\n",
    "\n",
    "    # store the output here\n",
    "    output_sentence = []\n",
    "\n",
    "    for _ in range(MAX_SEQ_LEN):\n",
    "        o, h, c = model_2.predict([np_input, h, c])     # o: list of word probabilities\n",
    "        \n",
    "        probs = o[0,0]\n",
    "        \n",
    "         # 첫번째 word index 는 padding 으로 사용된 0 이므로 선택되지 않도록 확률을 0 으로 setting 함\n",
    "        probs[0] = 0    \n",
    "        \n",
    "        # next word sampling\n",
    "        probs /= probs.sum()        # 0 을 제외한 나머지 index 의 확률을 re-nromalize\n",
    "        idx = np.random.choice(len(probs), p=probs)  # 사후 확률 분포에 의해 다음 단어 선택\n",
    "        if idx == eos:\n",
    "            break\n",
    "\n",
    "        # accumulate output\n",
    "        output_sentence.append(\n",
    "            tokenizer.index_word.get(idx, f'<OOV {idx}>'))\n",
    "\n",
    "        # make the next input into model\n",
    "        np_input[0, 0] = idx\n",
    "\n",
    "    return ' '.join(output_sentence)\n",
    "\n",
    "# generate a 4 line poem\n",
    "while True:\n",
    "    for _ in range(4):\n",
    "        print(sample_line())\n",
    "\n",
    "    ans = input(\"---generate another? [Y/n]---\")\n",
    "    if ans and ans[0].lower().startswith('n'):\n",
    "        break"
   ]
  },
  {
   "cell_type": "code",
   "execution_count": null,
   "metadata": {
    "id": "3a8cmr3sXSVY"
   },
   "outputs": [],
   "source": []
  }
 ],
 "metadata": {
  "accelerator": "GPU",
  "colab": {
   "collapsed_sections": [],
   "name": "075_poetry_generation_Korean_word2vec_teacher_forcing.ipynb",
   "provenance": []
  },
  "kernelspec": {
   "display_name": "Python 3",
   "language": "python",
   "name": "python3"
  },
  "language_info": {
   "codemirror_mode": {
    "name": "ipython",
    "version": 3
   },
   "file_extension": ".py",
   "mimetype": "text/x-python",
   "name": "python",
   "nbconvert_exporter": "python",
   "pygments_lexer": "ipython3",
   "version": "3.7.10"
  }
 },
 "nbformat": 4,
 "nbformat_minor": 1
}
