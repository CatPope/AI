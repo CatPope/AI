{
 "cells": [
  {
   "cell_type": "markdown",
   "metadata": {
    "colab_type": "text",
    "id": "XmkplRCZlsgK"
   },
   "source": [
    "# 120. Chatbot - seq2seq language model\n",
    "\n",
    "### Encoder-Decoder model\n",
    "\n",
    "- Chatbot_data_for_Korean v1.0 dataset (https://github.com/songys/Chatbot_data) 을 이용한 Chatbot model 개발\n",
    "\n",
    "- 챗봇 트레이닝용 문답 페어 11,876개  \n",
    "- 일상다반사 - 0, \n",
    "- 이별(부정) - 1, \n",
    "- 사랑(긍정) - 2 로 레이블링  \n",
    "\n",
    "<img src='https://github.com/ironmanciti/NLP_Lecture/raw/master/chatbot.png' width=600>"
   ]
  },
  {
   "cell_type": "code",
   "execution_count": 0,
   "metadata": {
    "colab": {},
    "colab_type": "code",
    "id": "c9_0sp0bly9-"
   },
   "outputs": [],
   "source": [
    "import numpy as np\n",
    "import pandas as pd\n",
    "import matplotlib.pyplot as plt\n",
    "import tensorflow as tf\n",
    "from tensorflow.keras.models import Model\n",
    "from tensorflow.keras.layers import Dense, Embedding, Input, LSTM, GRU\n",
    "from tensorflow.keras.preprocessing.text import Tokenizer\n",
    "from tensorflow.keras.preprocessing.sequence import pad_sequences\n",
    "from tensorflow.keras.utils import to_categorical"
   ]
  },
  {
   "cell_type": "code",
   "execution_count": 0,
   "metadata": {
    "colab": {},
    "colab_type": "code",
    "id": "DwX2QDgylsgL"
   },
   "outputs": [],
   "source": [
    "LATENT_DIM = 64                # encoding space 의 latent dimensionality\n",
    "MAX_NUM_WORDS = 10000\n",
    "EMBEDDING_DIM = 100"
   ]
  },
  {
   "cell_type": "code",
   "execution_count": 3,
   "metadata": {
    "colab": {
     "base_uri": "https://localhost:8080/",
     "height": 204
    },
    "colab_type": "code",
    "id": "oAxrCnWLlsgO",
    "outputId": "df2506f0-2854-4957-ed2b-7f40c0bf97c7"
   },
   "outputs": [
    {
     "data": {
      "text/html": [
       "<div>\n",
       "<style scoped>\n",
       "    .dataframe tbody tr th:only-of-type {\n",
       "        vertical-align: middle;\n",
       "    }\n",
       "\n",
       "    .dataframe tbody tr th {\n",
       "        vertical-align: top;\n",
       "    }\n",
       "\n",
       "    .dataframe thead th {\n",
       "        text-align: right;\n",
       "    }\n",
       "</style>\n",
       "<table border=\"1\" class=\"dataframe\">\n",
       "  <thead>\n",
       "    <tr style=\"text-align: right;\">\n",
       "      <th></th>\n",
       "      <th>Q</th>\n",
       "      <th>A</th>\n",
       "      <th>label</th>\n",
       "    </tr>\n",
       "  </thead>\n",
       "  <tbody>\n",
       "    <tr>\n",
       "      <th>0</th>\n",
       "      <td>12시 땡!</td>\n",
       "      <td>하루가 또 가네요.</td>\n",
       "      <td>0</td>\n",
       "    </tr>\n",
       "    <tr>\n",
       "      <th>1</th>\n",
       "      <td>1지망 학교 떨어졌어</td>\n",
       "      <td>위로해 드립니다.</td>\n",
       "      <td>0</td>\n",
       "    </tr>\n",
       "    <tr>\n",
       "      <th>2</th>\n",
       "      <td>3박4일 놀러가고 싶다</td>\n",
       "      <td>여행은 언제나 좋죠.</td>\n",
       "      <td>0</td>\n",
       "    </tr>\n",
       "    <tr>\n",
       "      <th>3</th>\n",
       "      <td>3박4일 정도 놀러가고 싶다</td>\n",
       "      <td>여행은 언제나 좋죠.</td>\n",
       "      <td>0</td>\n",
       "    </tr>\n",
       "    <tr>\n",
       "      <th>4</th>\n",
       "      <td>PPL 심하네</td>\n",
       "      <td>눈살이 찌푸려지죠.</td>\n",
       "      <td>0</td>\n",
       "    </tr>\n",
       "  </tbody>\n",
       "</table>\n",
       "</div>"
      ],
      "text/plain": [
       "                 Q            A  label\n",
       "0           12시 땡!   하루가 또 가네요.      0\n",
       "1      1지망 학교 떨어졌어    위로해 드립니다.      0\n",
       "2     3박4일 놀러가고 싶다  여행은 언제나 좋죠.      0\n",
       "3  3박4일 정도 놀러가고 싶다  여행은 언제나 좋죠.      0\n",
       "4          PPL 심하네   눈살이 찌푸려지죠.      0"
      ]
     },
     "execution_count": 3,
     "metadata": {
      "tags": []
     },
     "output_type": "execute_result"
    }
   ],
   "source": [
    "df = pd.read_csv('https://github.com/ironmanciti/NLP_Lecture/raw/master/data/ChatbotData.csv')\n",
    "df.head()"
   ]
  },
  {
   "cell_type": "code",
   "execution_count": 4,
   "metadata": {
    "colab": {
     "base_uri": "https://localhost:8080/",
     "height": 187
    },
    "colab_type": "code",
    "id": "Ggjm3RYylsgT",
    "outputId": "c02e7721-0410-4cc6-a1a1-35f2775b286c"
   },
   "outputs": [
    {
     "name": "stdout",
     "output_type": "stream",
     "text": [
      "<class 'pandas.core.frame.DataFrame'>\n",
      "RangeIndex: 11823 entries, 0 to 11822\n",
      "Data columns (total 3 columns):\n",
      " #   Column  Non-Null Count  Dtype \n",
      "---  ------  --------------  ----- \n",
      " 0   Q       11823 non-null  object\n",
      " 1   A       11823 non-null  object\n",
      " 2   label   11823 non-null  int64 \n",
      "dtypes: int64(1), object(2)\n",
      "memory usage: 277.2+ KB\n"
     ]
    }
   ],
   "source": [
    "df.info()"
   ]
  },
  {
   "cell_type": "code",
   "execution_count": 5,
   "metadata": {
    "colab": {
     "base_uri": "https://localhost:8080/",
     "height": 34
    },
    "colab_type": "code",
    "id": "AlatS9SApgaX",
    "outputId": "892ab2ce-a7bb-41bb-d68b-8e45e70b4b87"
   },
   "outputs": [
    {
     "data": {
      "text/plain": [
       "array([0, 1, 2])"
      ]
     },
     "execution_count": 5,
     "metadata": {
      "tags": []
     },
     "output_type": "execute_result"
    }
   ],
   "source": [
    "df['label'].unique()"
   ]
  },
  {
   "cell_type": "code",
   "execution_count": 6,
   "metadata": {
    "colab": {
     "base_uri": "https://localhost:8080/",
     "height": 136
    },
    "colab_type": "code",
    "id": "nXpwdBi2lsgW",
    "outputId": "aeb63c81-ffee-4ad3-f7af-1e95f54e15e9"
   },
   "outputs": [
    {
     "data": {
      "text/plain": [
       "array([['12시 땡!', '하루가 또 가네요.'],\n",
       "       ['1지망 학교 떨어졌어', '위로해 드립니다.'],\n",
       "       ['3박4일 놀러가고 싶다', '여행은 언제나 좋죠.'],\n",
       "       ...,\n",
       "       ['흑기사 해주는 짝남.', '설렜겠어요.'],\n",
       "       ['힘든 연애 좋은 연애라는게 무슨 차이일까?', '잘 헤어질 수 있는 사이 여부인 거 같아요.'],\n",
       "       ['힘들어서 결혼할까봐', '도피성 결혼은 하지 않길 바라요.']], dtype=object)"
      ]
     },
     "execution_count": 6,
     "metadata": {
      "tags": []
     },
     "output_type": "execute_result"
    }
   ],
   "source": [
    "df.iloc[:, [0, 1]].values"
   ]
  },
  {
   "cell_type": "code",
   "execution_count": 0,
   "metadata": {
    "colab": {},
    "colab_type": "code",
    "id": "TNa-jh-yqEIa"
   },
   "outputs": [],
   "source": [
    "question_texts = []         # 질문 sentences\n",
    "answer_texts_inputs  = []   # 답변 sentence input for teacher-forcing\n",
    "answer_texts_targets = []   # 답변 sentence target for teacher-forcing\n",
    "\n",
    "for Q, A in df.iloc[:, [0, 1]].values:\n",
    "    question_texts.append(Q)\n",
    "    answer_texts_inputs.append('<sos> ' + A)  \n",
    "    answer_texts_targets.append(A + ' <eos>')"
   ]
  },
  {
   "cell_type": "code",
   "execution_count": 8,
   "metadata": {
    "colab": {
     "base_uri": "https://localhost:8080/",
     "height": 190
    },
    "colab_type": "code",
    "id": "2ABmHQAEr6f1",
    "outputId": "60fbdccc-9491-413d-cb64-19430b4a79cc"
   },
   "outputs": [
    {
     "name": "stdout",
     "output_type": "stream",
     "text": [
      "11823 11823 11823\n",
      "Question :\n",
      "['다 그만 두고 싶다', '다 그만하고싶어', '다 끝나가니 좋을줄만 알았는데.', '다 나 좋아했으면 좋겠어', '다 내 잘못이지', '다 내 잘못인 것 같아', '다 때려 치우고 싶어', '다 마음에 안 들어', '다 알고 있을까?', '다 잘 될거야']\n",
      "\n",
      "Teacher Forcing Answer Input :\n",
      "['<sos> 잠시 쉬어도 괜찮아요.', '<sos> 잠시 쉬어도 괜찮아요.', '<sos> 마음이 허전하신가봐요.', '<sos> 꿈같은 이야기네요.', '<sos> 아니에요. 너무 자책하지 마세요.', '<sos> 아니에요. 너무 자책하지 마세요.', '<sos> 많이 지치고 힘든가봅니다.', '<sos> 그럴 때가 있죠.', '<sos> 다 알 수는 없어요.', '<sos> 다 잘 될 거예요.']\n",
      "\n",
      "Teacher Forcing Answer Target\n",
      "['잠시 쉬어도 괜찮아요. <eos>', '잠시 쉬어도 괜찮아요. <eos>', '마음이 허전하신가봐요. <eos>', '꿈같은 이야기네요. <eos>', '아니에요. 너무 자책하지 마세요. <eos>', '아니에요. 너무 자책하지 마세요. <eos>', '많이 지치고 힘든가봅니다. <eos>', '그럴 때가 있죠. <eos>', '다 알 수는 없어요. <eos>', '다 잘 될 거예요. <eos>']\n"
     ]
    }
   ],
   "source": [
    "print(len(question_texts), len(answer_texts_inputs), len(answer_texts_targets))\n",
    "print(\"Question :\")\n",
    "print(question_texts[1100:1110])\n",
    "print(\"\\nTeacher Forcing Answer Input :\")\n",
    "print(answer_texts_inputs[1100:1110])\n",
    "print(\"\\nTeacher Forcing Answer Target\")\n",
    "print(answer_texts_targets[1100:1110])"
   ]
  },
  {
   "cell_type": "markdown",
   "metadata": {
    "colab_type": "text",
    "id": "W2ND0h16lsgc"
   },
   "source": [
    "## Tokenization\n",
    "\n",
    "- language 가 1 개 이므로 1 개의 tokenizer 생성  \n",
    "- 주의 사항 : $<sos>, <eos>$때문에 special character 를 filtering 하면 안됨"
   ]
  },
  {
   "cell_type": "code",
   "execution_count": null,
   "metadata": {
    "colab": {
     "base_uri": "https://localhost:8080/",
     "height": 88
    },
    "colab_type": "code",
    "id": "bfAcKSDVulKL",
    "outputId": "58c26916-a8be-4c2d-c8d4-a2295da8ac3e"
   },
   "outputs": [],
   "source": [
    "tokenizer = Tokenizer(num_words=MAX_NUM_WORDS, filters=\"\")\n",
    "tokenizer.fit_on_texts(question_texts + answer_texts_inputs + answer_texts_targets) \n",
    "\n",
    "num_words_answer = min(MAX_NUM_WORDS, len(tokenizer.word_index))\n",
    "\n",
    "print(f'unique tokens : {len(tokenizer.word_index)}')\n",
    "print(tokenizer.word_index)\n",
    "print(f'num_words_answer : {min(MAX_NUM_WORDS, len(tokenizer.word_index))}')"
   ]
  },
  {
   "cell_type": "markdown",
   "metadata": {
    "colab_type": "text",
    "id": "9k3dRsLpwkdU"
   },
   "source": [
    "### input sentence 의 sequence 변환"
   ]
  },
  {
   "cell_type": "code",
   "execution_count": 0,
   "metadata": {
    "colab": {},
    "colab_type": "code",
    "id": "YbeZNhniv_Hu"
   },
   "outputs": [],
   "source": [
    "question_sequences       = tokenizer.texts_to_sequences(question_texts)\n",
    "\n",
    "answer_sequences_inputs  = tokenizer.texts_to_sequences(answer_texts_inputs)\n",
    "answer_sequences_targets = tokenizer.texts_to_sequences(answer_texts_targets)"
   ]
  },
  {
   "cell_type": "code",
   "execution_count": 11,
   "metadata": {
    "colab": {
     "base_uri": "https://localhost:8080/",
     "height": 51
    },
    "colab_type": "code",
    "id": "yTaMsc5Pv-3S",
    "outputId": "3f1938a4-c5fa-40c7-abc1-efe338e6eee1"
   },
   "outputs": [
    {
     "name": "stdout",
     "output_type": "stream",
     "text": [
      "Target Text 의 최대 길이 : 13\n",
      "Target Text 의 최대 길이 : 22\n"
     ]
    }
   ],
   "source": [
    "max_len_question = max(len(s) for s in question_sequences)\n",
    "print(\"Target Text 의 최대 길이 :\", max_len_question)\n",
    "\n",
    "max_len_answer = max(len(s) for s in answer_sequences_targets)\n",
    "print(\"Target Text 의 최대 길이 :\", max_len_answer)"
   ]
  },
  {
   "cell_type": "markdown",
   "metadata": {
    "colab_type": "text",
    "id": "V1oBupk4lsgp"
   },
   "source": [
    "## sequence padding\n",
    "\n",
    "\n",
    "#### 주의 사항\n",
    "- encoder 는 thought vector 생성 목적이므로 default (pre) 로 padding\n",
    "\n",
    "- decoder 는 teacher forcing 을 해야하므로 post 로 padding"
   ]
  },
  {
   "cell_type": "code",
   "execution_count": 12,
   "metadata": {
    "colab": {
     "base_uri": "https://localhost:8080/",
     "height": 187
    },
    "colab_type": "code",
    "id": "WjJudFz1x1_F",
    "outputId": "48d8dd10-26a8-4263-d5a9-84919a51db16"
   },
   "outputs": [
    {
     "name": "stdout",
     "output_type": "stream",
     "text": [
      "encoder input shape : (11823, 13)\n",
      "encoder_inputs[0] :  [   0    0    0    0    0    0    0    0    0    0 7226  113 3953]\n",
      "\n",
      "decoder input shape : (11823, 22)\n",
      "decoder_inputs[0] :  [   1  578   17 3501    0    0    0    0    0    0    0    0    0    0\n",
      "    0    0    0    0    0    0    0    0]\n",
      "\n",
      "encoder target shape : (11823, 22)\n",
      "encoder_targets[0] :  [ 578   17 3501    2    0    0    0    0    0    0    0    0    0    0\n",
      "    0    0    0    0    0    0    0    0]\n"
     ]
    }
   ],
   "source": [
    "encoder_inputs = pad_sequences(question_sequences, maxlen=max_len_question)\n",
    "print(\"encoder input shape :\", encoder_inputs.shape)\n",
    "print(\"encoder_inputs[0] : \", encoder_inputs[1500])\n",
    "\n",
    "decoder_inputs = pad_sequences(answer_sequences_inputs, maxlen=max_len_answer, padding=\"post\")\n",
    "print(\"\\ndecoder input shape :\", decoder_inputs.shape)\n",
    "print(\"decoder_inputs[0] : \", decoder_inputs[1500])\n",
    "\n",
    "decoder_targets = pad_sequences(answer_sequences_targets, maxlen=max_len_answer, padding=\"post\")\n",
    "print(\"\\nencoder target shape :\", decoder_targets.shape)\n",
    "print(\"encoder_targets[0] : \", decoder_targets[1500])"
   ]
  },
  {
   "cell_type": "markdown",
   "metadata": {
    "colab_type": "text",
    "id": "8s4EfHwOlsgu"
   },
   "source": [
    "## Build the model\n",
    "\n",
    "- encoder 와 decoder 의 embedding, lstm 및 dense layer 를 training 할 목적의 model 작성  \n",
    "\n",
    "- encoder 는 decoder 에 states [h, c] 만 전달\n",
    "\n",
    "- prediction 을 위한 inference model 은 training model 에서 만들어진 layer 들의 weight 를 이용하여 별도 작성  \n",
    "\n",
    "### Training : Encoder + Teacher Forcing model"
   ]
  },
  {
   "cell_type": "code",
   "execution_count": 0,
   "metadata": {
    "colab": {},
    "colab_type": "code",
    "id": "IjALbWe-z0hx"
   },
   "outputs": [],
   "source": [
    "#### Encoder -----------------------------------------------------------\n",
    "encoder_inputs_ = Input(shape=(max_len_question,), name='Encoder_Input')\n",
    "# encoder 의 embedding layer\n",
    "embedding_encoder = Embedding(MAX_NUM_WORDS + 1, EMBEDDING_DIM)\n",
    "\n",
    "x = embedding_encoder(encoder_inputs_)\n",
    "\n",
    "encoder_outputs, h, c = LSTM(LATENT_DIM, return_state=True)(x)\n",
    "# encoder 는 hidden state and cell state 만 decoder 로 전달 \n",
    "encoder_states = [h, c]  # --> thought vector\n",
    "\n",
    "#### Decoder ------------------------------------------------------------\n",
    "# decoder 는 [h, c] 를 initial state 로 사용\n",
    "decoder_inputs_ = Input(shape=(max_len_answer,), name='Decoder_Input')\n",
    "\n",
    "# decoder 의 embedding layer\n",
    "embedding_decoder = Embedding(MAX_NUM_WORDS + 1, EMBEDDING_DIM)\n",
    "x = embedding_decoder(decoder_inputs_)\n",
    "decoder_lstm = LSTM(LATENT_DIM, return_sequences=True, return_state=True)\n",
    "decoder_outputs, _, _ = decoder_lstm(x, initial_state=encoder_states)\n",
    "\n",
    "# final dense layer\n",
    "decoder_dense = Dense(num_words_answer, activation='softmax', name='Decoder_Output')\n",
    "decoder_outputs = decoder_dense(decoder_outputs)\n",
    "\n",
    "# Create the model object\n",
    "model = Model([encoder_inputs_, decoder_inputs_], decoder_outputs)"
   ]
  },
  {
   "cell_type": "code",
   "execution_count": 14,
   "metadata": {
    "colab": {
     "base_uri": "https://localhost:8080/",
     "height": 425
    },
    "colab_type": "code",
    "id": "dzCp_kCYz0Hk",
    "outputId": "531bc978-bea9-4223-84b0-d1e41d2d8978"
   },
   "outputs": [
    {
     "name": "stdout",
     "output_type": "stream",
     "text": [
      "Model: \"model\"\n",
      "__________________________________________________________________________________________________\n",
      "Layer (type)                    Output Shape         Param #     Connected to                     \n",
      "==================================================================================================\n",
      "Encoder_Input (InputLayer)      [(None, 13)]         0                                            \n",
      "__________________________________________________________________________________________________\n",
      "Decoder_Input (InputLayer)      [(None, 22)]         0                                            \n",
      "__________________________________________________________________________________________________\n",
      "embedding (Embedding)           (None, 13, 100)      1000100     Encoder_Input[0][0]              \n",
      "__________________________________________________________________________________________________\n",
      "embedding_1 (Embedding)         (None, 22, 100)      1000100     Decoder_Input[0][0]              \n",
      "__________________________________________________________________________________________________\n",
      "lstm (LSTM)                     [(None, 64), (None,  42240       embedding[0][0]                  \n",
      "__________________________________________________________________________________________________\n",
      "lstm_1 (LSTM)                   [(None, 22, 64), (No 42240       embedding_1[0][0]                \n",
      "                                                                 lstm[0][1]                       \n",
      "                                                                 lstm[0][2]                       \n",
      "__________________________________________________________________________________________________\n",
      "Decoder_Output (Dense)          (None, 22, 10000)    650000      lstm_1[0][0]                     \n",
      "==================================================================================================\n",
      "Total params: 2,734,680\n",
      "Trainable params: 2,734,680\n",
      "Non-trainable params: 0\n",
      "__________________________________________________________________________________________________\n"
     ]
    }
   ],
   "source": [
    "#Compile the model and train it\n",
    "model.compile(\n",
    "    optimizer='rmsprop',\n",
    "    loss='sparse_categorical_crossentropy',\n",
    "    metrics=['accuracy']\n",
    "    )\n",
    "\n",
    "model.summary()"
   ]
  },
  {
   "cell_type": "markdown",
   "metadata": {
    "colab_type": "text",
    "id": "U_m-UDAF5_BC"
   },
   "source": [
    "### Train the model"
   ]
  },
  {
   "cell_type": "code",
   "execution_count": 15,
   "metadata": {
    "colab": {
     "base_uri": "https://localhost:8080/",
     "height": 1000
    },
    "colab_type": "code",
    "id": "HT4uZpNxlsgw",
    "outputId": "dc7a4d87-6d34-4af2-c7c5-896b740c43d1",
    "scrolled": false
   },
   "outputs": [
    {
     "name": "stdout",
     "output_type": "stream",
     "text": [
      "Epoch 1/40\n",
      "148/148 [==============================] - 7s 44ms/step - loss: 2.8598 - accuracy: 0.7990 - val_loss: 1.5117 - val_accuracy: 0.8085\n",
      "Epoch 2/40\n",
      "148/148 [==============================] - 6s 40ms/step - loss: 1.2692 - accuracy: 0.8461 - val_loss: 1.4380 - val_accuracy: 0.8320\n",
      "Epoch 3/40\n",
      "148/148 [==============================] - 6s 40ms/step - loss: 1.2038 - accuracy: 0.8476 - val_loss: 1.4343 - val_accuracy: 0.8312\n",
      "Epoch 4/40\n",
      "148/148 [==============================] - 6s 40ms/step - loss: 1.1744 - accuracy: 0.8475 - val_loss: 1.4325 - val_accuracy: 0.8295\n",
      "Epoch 5/40\n",
      "148/148 [==============================] - 6s 40ms/step - loss: 1.1533 - accuracy: 0.8474 - val_loss: 1.4377 - val_accuracy: 0.8266\n",
      "Epoch 6/40\n",
      "148/148 [==============================] - 6s 40ms/step - loss: 1.1344 - accuracy: 0.8487 - val_loss: 1.4385 - val_accuracy: 0.8256\n",
      "Epoch 7/40\n",
      "148/148 [==============================] - 6s 40ms/step - loss: 1.1160 - accuracy: 0.8491 - val_loss: 1.4507 - val_accuracy: 0.8257\n",
      "Epoch 8/40\n",
      "148/148 [==============================] - 6s 40ms/step - loss: 1.0988 - accuracy: 0.8501 - val_loss: 1.4513 - val_accuracy: 0.8270\n",
      "Epoch 9/40\n",
      "148/148 [==============================] - 6s 40ms/step - loss: 1.0828 - accuracy: 0.8512 - val_loss: 1.4561 - val_accuracy: 0.8282\n",
      "Epoch 10/40\n",
      "148/148 [==============================] - 6s 40ms/step - loss: 1.0684 - accuracy: 0.8522 - val_loss: 1.4583 - val_accuracy: 0.8295\n",
      "Epoch 11/40\n",
      "148/148 [==============================] - 6s 40ms/step - loss: 1.0538 - accuracy: 0.8533 - val_loss: 1.4501 - val_accuracy: 0.8315\n",
      "Epoch 12/40\n",
      "148/148 [==============================] - 6s 40ms/step - loss: 1.0383 - accuracy: 0.8544 - val_loss: 1.4569 - val_accuracy: 0.8318\n",
      "Epoch 13/40\n",
      "148/148 [==============================] - 6s 40ms/step - loss: 1.0241 - accuracy: 0.8553 - val_loss: 1.4647 - val_accuracy: 0.8336\n",
      "Epoch 14/40\n",
      "148/148 [==============================] - 6s 40ms/step - loss: 1.0097 - accuracy: 0.8565 - val_loss: 1.4665 - val_accuracy: 0.8338\n",
      "Epoch 15/40\n",
      "148/148 [==============================] - 6s 40ms/step - loss: 0.9950 - accuracy: 0.8573 - val_loss: 1.4730 - val_accuracy: 0.8335\n",
      "Epoch 16/40\n",
      "148/148 [==============================] - 6s 41ms/step - loss: 0.9777 - accuracy: 0.8584 - val_loss: 1.4830 - val_accuracy: 0.8338\n",
      "Epoch 17/40\n",
      "148/148 [==============================] - 6s 40ms/step - loss: 0.9607 - accuracy: 0.8594 - val_loss: 1.4915 - val_accuracy: 0.8334\n",
      "Epoch 18/40\n",
      "148/148 [==============================] - 6s 41ms/step - loss: 0.9446 - accuracy: 0.8607 - val_loss: 1.5024 - val_accuracy: 0.8338\n",
      "Epoch 19/40\n",
      "148/148 [==============================] - 6s 40ms/step - loss: 0.9295 - accuracy: 0.8617 - val_loss: 1.5057 - val_accuracy: 0.8334\n",
      "Epoch 20/40\n",
      "148/148 [==============================] - 6s 40ms/step - loss: 0.9142 - accuracy: 0.8630 - val_loss: 1.5093 - val_accuracy: 0.8328\n",
      "Epoch 21/40\n",
      "148/148 [==============================] - 6s 40ms/step - loss: 0.8985 - accuracy: 0.8644 - val_loss: 1.5243 - val_accuracy: 0.8335\n",
      "Epoch 22/40\n",
      "148/148 [==============================] - 6s 41ms/step - loss: 0.8833 - accuracy: 0.8659 - val_loss: 1.5248 - val_accuracy: 0.8333\n",
      "Epoch 23/40\n",
      "148/148 [==============================] - 6s 40ms/step - loss: 0.8690 - accuracy: 0.8674 - val_loss: 1.5250 - val_accuracy: 0.8341\n",
      "Epoch 24/40\n",
      "148/148 [==============================] - 6s 41ms/step - loss: 0.8558 - accuracy: 0.8688 - val_loss: 1.5323 - val_accuracy: 0.8337\n",
      "Epoch 25/40\n",
      "148/148 [==============================] - 6s 41ms/step - loss: 0.8425 - accuracy: 0.8704 - val_loss: 1.5326 - val_accuracy: 0.8338\n",
      "Epoch 26/40\n",
      "148/148 [==============================] - 6s 41ms/step - loss: 0.8295 - accuracy: 0.8720 - val_loss: 1.5403 - val_accuracy: 0.8337\n",
      "Epoch 27/40\n",
      "148/148 [==============================] - 6s 41ms/step - loss: 0.8164 - accuracy: 0.8737 - val_loss: 1.5437 - val_accuracy: 0.8344\n",
      "Epoch 28/40\n",
      "148/148 [==============================] - 6s 41ms/step - loss: 0.8042 - accuracy: 0.8754 - val_loss: 1.5424 - val_accuracy: 0.8343\n",
      "Epoch 29/40\n",
      "148/148 [==============================] - 6s 41ms/step - loss: 0.7918 - accuracy: 0.8771 - val_loss: 1.5507 - val_accuracy: 0.8343\n",
      "Epoch 30/40\n",
      "148/148 [==============================] - 6s 41ms/step - loss: 0.7797 - accuracy: 0.8786 - val_loss: 1.5503 - val_accuracy: 0.8337\n",
      "Epoch 31/40\n",
      "148/148 [==============================] - 6s 41ms/step - loss: 0.7689 - accuracy: 0.8804 - val_loss: 1.5525 - val_accuracy: 0.8341\n",
      "Epoch 32/40\n",
      "148/148 [==============================] - 6s 41ms/step - loss: 0.7578 - accuracy: 0.8820 - val_loss: 1.5591 - val_accuracy: 0.8336\n",
      "Epoch 33/40\n",
      "148/148 [==============================] - 6s 41ms/step - loss: 0.7467 - accuracy: 0.8838 - val_loss: 1.5642 - val_accuracy: 0.8334\n",
      "Epoch 34/40\n",
      "148/148 [==============================] - 6s 41ms/step - loss: 0.7356 - accuracy: 0.8854 - val_loss: 1.5701 - val_accuracy: 0.8338\n",
      "Epoch 35/40\n",
      "148/148 [==============================] - 6s 41ms/step - loss: 0.7242 - accuracy: 0.8873 - val_loss: 1.5657 - val_accuracy: 0.8338\n",
      "Epoch 36/40\n",
      "148/148 [==============================] - 6s 41ms/step - loss: 0.7130 - accuracy: 0.8888 - val_loss: 1.5740 - val_accuracy: 0.8336\n",
      "Epoch 37/40\n",
      "148/148 [==============================] - 6s 41ms/step - loss: 0.7024 - accuracy: 0.8908 - val_loss: 1.5778 - val_accuracy: 0.8337\n",
      "Epoch 38/40\n",
      "148/148 [==============================] - 6s 41ms/step - loss: 0.6918 - accuracy: 0.8923 - val_loss: 1.5824 - val_accuracy: 0.8337\n",
      "Epoch 39/40\n",
      "148/148 [==============================] - 6s 41ms/step - loss: 0.6817 - accuracy: 0.8937 - val_loss: 1.5902 - val_accuracy: 0.8337\n",
      "Epoch 40/40\n",
      "148/148 [==============================] - 6s 41ms/step - loss: 0.6717 - accuracy: 0.8954 - val_loss: 1.5876 - val_accuracy: 0.8338\n"
     ]
    }
   ],
   "source": [
    "EPOCHS = 40\n",
    "BATCH_SIZE = 64\n",
    "history = model.fit([encoder_inputs, decoder_inputs], decoder_targets, batch_size=BATCH_SIZE, epochs=EPOCHS, \n",
    "                   validation_split=0.2)"
   ]
  },
  {
   "cell_type": "code",
   "execution_count": 16,
   "metadata": {
    "colab": {
     "base_uri": "https://localhost:8080/",
     "height": 517
    },
    "colab_type": "code",
    "id": "nCLIcYy8lsgy",
    "outputId": "34ae27e7-eaa2-4f78-cc44-322ea71c6afe"
   },
   "outputs": [
    {
     "data": {
      "image/png": "[encoded data removed]",
      "text/plain": [
       "<Figure size 432x288 with 1 Axes>"
      ]
     },
     "metadata": {
      "needs_background": "light",
      "tags": []
     },
     "output_type": "display_data"
    },
    {
     "data": {
      "image/png": "[encoded data removed]",
      "text/plain": [
       "<Figure size 432x288 with 1 Axes>"
      ]
     },
     "metadata": {
      "needs_background": "light",
      "tags": []
     },
     "output_type": "display_data"
    }
   ],
   "source": [
    "# plot some data\n",
    "plt.plot(history.history['loss'], label='loss')\n",
    "plt.plot(history.history['val_loss'], label='val_loss')\n",
    "plt.legend()\n",
    "plt.show()\n",
    "\n",
    "# accuracies\n",
    "plt.plot(history.history['accuracy'], label='acc')\n",
    "plt.plot(history.history['val_accuracy'], label='val_acc')\n",
    "plt.legend()\n",
    "plt.show()"
   ]
  },
  {
   "cell_type": "code",
   "execution_count": 0,
   "metadata": {
    "colab": {},
    "colab_type": "code",
    "id": "qCkeujkMlsg0"
   },
   "outputs": [],
   "source": [
    "# save model\n",
    "model.save('s2s.h5')"
   ]
  },
  {
   "cell_type": "markdown",
   "metadata": {
    "colab_type": "text",
    "id": "B3n59rHJlsg1"
   },
   "source": [
    "### Make Predictions - Inference phase\n",
    "\n",
    "- prediction 을 위한 별도의 encoder model \n",
    "- encoder 의 states 를 initial state 로 받는 decoder model 작성  \n",
    "\n",
    "- encoder 는 training 단계와 동일하게 input_text 를 입력으로 받고 encoder_states 를 출력으로 하므로 이전에 define 한 encoder_input_ 과 encoder_states 변수 재사용"
   ]
  },
  {
   "cell_type": "code",
   "execution_count": 18,
   "metadata": {
    "colab": {
     "base_uri": "https://localhost:8080/",
     "height": 629
    },
    "colab_type": "code",
    "id": "KEb2UN2t9d2U",
    "outputId": "f0b2f810-3c60-47ea-ba52-0a8f8cd21076"
   },
   "outputs": [
    {
     "name": "stdout",
     "output_type": "stream",
     "text": [
      "Model: \"model_1\"\n",
      "_________________________________________________________________\n",
      "Layer (type)                 Output Shape              Param #   \n",
      "=================================================================\n",
      "Encoder_Input (InputLayer)   [(None, 13)]              0         \n",
      "_________________________________________________________________\n",
      "embedding (Embedding)        (None, 13, 100)           1000100   \n",
      "_________________________________________________________________\n",
      "lstm (LSTM)                  [(None, 64), (None, 64),  42240     \n",
      "=================================================================\n",
      "Total params: 1,042,340\n",
      "Trainable params: 1,042,340\n",
      "Non-trainable params: 0\n",
      "_________________________________________________________________\n",
      "Model: \"model_2\"\n",
      "__________________________________________________________________________________________________\n",
      "Layer (type)                    Output Shape         Param #     Connected to                     \n",
      "==================================================================================================\n",
      "Decoder_input (InputLayer)      [(None, 1)]          0                                            \n",
      "__________________________________________________________________________________________________\n",
      "embedding_1 (Embedding)         multiple             1000100     Decoder_input[0][0]              \n",
      "__________________________________________________________________________________________________\n",
      "Decoder_hidden_h (InputLayer)   [(None, 64)]         0                                            \n",
      "__________________________________________________________________________________________________\n",
      "Decoder_hidden_c (InputLayer)   [(None, 64)]         0                                            \n",
      "__________________________________________________________________________________________________\n",
      "lstm_1 (LSTM)                   multiple             42240       embedding_1[1][0]                \n",
      "                                                                 Decoder_hidden_h[0][0]           \n",
      "                                                                 Decoder_hidden_c[0][0]           \n",
      "__________________________________________________________________________________________________\n",
      "Decoder_Output (Dense)          multiple             650000      lstm_1[1][0]                     \n",
      "==================================================================================================\n",
      "Total params: 1,692,340\n",
      "Trainable params: 1,692,340\n",
      "Non-trainable params: 0\n",
      "__________________________________________________________________________________________________\n"
     ]
    }
   ],
   "source": [
    "# Encoder model for inference\n",
    "encoder_model = Model(encoder_inputs_, encoder_states)\n",
    "\n",
    "# Decoder\n",
    "decoder_state_input_h = Input(shape=(LATENT_DIM,), name='Decoder_hidden_h')\n",
    "decoder_state_input_c = Input(shape=(LATENT_DIM,), name='Decoder_hidden_c')\n",
    "decoder_states_inputs = [decoder_state_input_h, decoder_state_input_c]\n",
    "\n",
    "decoder_inputs_single = Input(shape=(1,), name='Decoder_input')\n",
    "x = embedding_decoder(decoder_inputs_single)\n",
    "\n",
    "# output, hidden states 를 저장\n",
    "decoder_outputs, h, c = decoder_lstm(x, initial_state=decoder_states_inputs)\n",
    "decoder_states = [h, c]\n",
    "\n",
    "decoder_outputs = decoder_dense(decoder_outputs)  \n",
    "\n",
    "decoder_model = Model(\n",
    "    [decoder_inputs_single] + decoder_states_inputs,    #decoder_model.predict([target_seq] + states_value)\n",
    "    [decoder_outputs] + decoder_states\n",
    ")\n",
    "\n",
    "encoder_model.summary()\n",
    "\n",
    "decoder_model.summary()"
   ]
  },
  {
   "cell_type": "code",
   "execution_count": 0,
   "metadata": {
    "colab": {},
    "colab_type": "code",
    "id": "uFIlPfFdlsg3"
   },
   "outputs": [],
   "source": [
    "\n",
    "# idx2word_eng = {v:k for k, v in word2idx_inputs.items()}\n",
    "# print(list(idx2word_eng.items())[:20])\n",
    "# print()\n",
    "\n",
    "# idx2word_trans = {v:k for k, v in word2idx_target.items()}\n",
    "# print(list(idx2word_trans.items())[:20])"
   ]
  },
  {
   "cell_type": "markdown",
   "metadata": {
    "colab_type": "text",
    "id": "OS_0Zqpo-32_"
   },
   "source": [
    "### 다음의 inference module 작성\n",
    "- question 을 encoder 에 입력하여 thought vector 반환\n",
    "- start token 설정 \n",
    "- 가장 확률 높은 next word 선택\n",
    "- end token 생성 될 때까지 반복\n",
    "- predict 결과가 sequence 로 반환되므로 index 를 word 로 변환"
   ]
  },
  {
   "cell_type": "code",
   "execution_count": 0,
   "metadata": {
    "colab": {},
    "colab_type": "code",
    "id": "6i4yEvRC-zFg"
   },
   "outputs": [],
   "source": [
    "def decode_sequence(input_seq):\n",
    "   # 입력된 질문을 encoder 에 입력하여 state vector 생성\n",
    "    states_value = encoder_model.predict(input_seq)\n",
    "    # size 1 짜리 빈 target sequence 생성\n",
    "    target_seq = np.zeros((1, 1))\n",
    "    # target sequence 의 첫번째 character 를 <sos> 로 assign ([[2.]])\n",
    "    target_seq[0, 0] = tokenizer.word_index['<sos>']\n",
    "    eos = tokenizer.word_index['<eos>']\n",
    "\n",
    "    # 답변 생성 시작\n",
    "    output_sentence = []\n",
    "    for _ in range(max_len_answer):\n",
    "        output_tokens, h, c = decoder_model.predict([target_seq] + states_value)\n",
    "\n",
    "       # argmax 로 가장 확률 높은 단어 선택 --> greedy selection\n",
    "        idx = np.argmax(output_tokens[0, 0, :])\n",
    "\n",
    "        if eos == idx:  # End sentence of EOS\n",
    "            break\n",
    "\n",
    "        word = ''\n",
    "        if idx > 0:      # idx 0 은 zero padding 이므로 skip\n",
    "            word = tokenizer.index_word[idx]\n",
    "            output_sentence.append(word)\n",
    "\n",
    "        # 생성된 word 를 decoder 의 다음 input 으로 사용\n",
    "        target_seq[0, 0] = idx\n",
    "        # Update states\n",
    "        states_value = [h, c]\n",
    "\n",
    "    return ' '.join(output_sentence)"
   ]
  },
  {
   "cell_type": "markdown",
   "metadata": {
    "colab_type": "text",
    "id": "0tbXK6zjCBv8"
   },
   "source": [
    "- sample Q & A test"
   ]
  },
  {
   "cell_type": "code",
   "execution_count": 21,
   "metadata": {
    "colab": {
     "base_uri": "https://localhost:8080/",
     "height": 272
    },
    "colab_type": "code",
    "id": "EaVj30TGB-ny",
    "outputId": "594d84a9-7430-494a-a302-00cec93d4bfc"
   },
   "outputs": [
    {
     "name": "stdout",
     "output_type": "stream",
     "text": [
      "-\n",
      "질문 : 썸 타다가 말도 안하고 잠수 타는 경우 뭐야?\n",
      "답변 : 그런 것도 필요해요.\n",
      "-\n",
      "질문 : 주변 이성이 많은 여자친구 어떡해?\n",
      "답변 : 서로 다르게 저랑 놀아요.\n",
      "-\n",
      "질문 : 결혼생활에 회의감이 들어\n",
      "답변 : 잘 지내고 있을 거예요.\n",
      "-\n",
      "질문 : 공부하기 싫어\n",
      "답변 : 저도 일부터 것도 아닌지 가보세요.\n",
      "-\n",
      "질문 : 장거리연애였는데\n",
      "답변 : 좋은 만남이었길 바라요.\n"
     ]
    }
   ],
   "source": [
    "for _ in range(5):\n",
    "    i = np.random.choice(len(question_texts))\n",
    "    input_seq = encoder_inputs[i:i+1]\n",
    "    \n",
    "    translation = decode_sequence(input_seq)\n",
    "    print('-')\n",
    "    print('질문 :', question_texts[i])\n",
    "    print('답변 :', translation)"
   ]
  },
  {
   "cell_type": "code",
   "execution_count": 22,
   "metadata": {
    "colab": {
     "base_uri": "https://localhost:8080/",
     "height": 68
    },
    "colab_type": "code",
    "id": "CWrUaHuZlsg6",
    "outputId": "98899764-4947-4dce-f8bb-c3dd7090ddc4",
    "scrolled": true
   },
   "outputs": [
    {
     "name": "stdout",
     "output_type": "stream",
     "text": [
      "-\n",
      "질문 정말 미워\n",
      "답변: \n"
     ]
    }
   ],
   "source": [
    "txt = \"정말 미워\"\n",
    "input_sequence = tokenizer.texts_to_sequences([txt])\n",
    "encoder_input = pad_sequences(input_sequence, maxlen=max_len_question)\n",
    "\n",
    "translation = decode_sequence(encoder_input)\n",
    "print('-')\n",
    "print('질문', txt)\n",
    "print('답변:', translation)"
   ]
  },
  {
   "cell_type": "code",
   "execution_count": 23,
   "metadata": {
    "colab": {
     "base_uri": "https://localhost:8080/",
     "height": 357
    },
    "colab_type": "code",
    "id": "M0EdrUH8lsg8",
    "outputId": "ef809f5a-d45b-43c5-ec5c-c88f26864eb1"
   },
   "outputs": [
    {
     "name": "stdout",
     "output_type": "stream",
     "text": [
      "챗봇 대화 시작 .....\n",
      "질문 :오늘 날씨가 어떄\n",
      "답변 : 이제 일찍 주무세요.\n",
      "질문 :배고파\n",
      "답변 : 맛있게 드세요.\n",
      "질문 :3박4일 놀러가자\n",
      "답변 : \n",
      "질문 :3박4일 놀러가고 싶어\n",
      "답변 : 저도 언제나 좋죠.\n",
      "질문 :12시 땡\n",
      "답변 : 좋은 만남이었길 바라요.\n",
      "질문 :1 지망학교 떨어졌어\n",
      "답변 : 저도 좀 괜찮아요.\n",
      "질문 :흑기사 해주는 사람\n",
      "답변 : 이제\n",
      "질문 :성격이 안맞아\n",
      "답변 : 저도 좋죠.\n",
      "질문 :다 그만두고 싶다\n",
      "답변 : 너무 자책하지 마세요.\n",
      "질문 :quit\n"
     ]
    }
   ],
   "source": [
    "print(\"챗봇 대화 시작 .....\")\n",
    "\n",
    "while True:\n",
    "    inp = input(\"질문 :\")\n",
    "    if inp.lower() == \"quit\":\n",
    "        break\n",
    "    \n",
    "    input_sequence = tokenizer.texts_to_sequences([inp])\n",
    "    encoder_input = pad_sequences(input_sequence, maxlen=max_len_question)\n",
    "\n",
    "    answer = decode_sequence(encoder_input)\n",
    "\n",
    "    print(\"답변 :\", answer)"
   ]
  },
  {
   "cell_type": "code",
   "execution_count": 0,
   "metadata": {
    "colab": {},
    "colab_type": "code",
    "id": "RRXnlQs5lsg-"
   },
   "outputs": [],
   "source": []
  }
 ],
 "metadata": {
  "accelerator": "GPU",
  "colab": {
   "name": "120_ChatBot_encoder_decoder.ipynb",
   "provenance": []
  },
  "kernelspec": {
   "display_name": "Python 3",
   "language": "python",
   "name": "python3"
  },
  "language_info": {
   "codemirror_mode": {
    "name": "ipython",
    "version": 3
   },
   "file_extension": ".py",
   "mimetype": "text/x-python",
   "name": "python",
   "nbconvert_exporter": "python",
   "pygments_lexer": "ipython3",
   "version": "3.7.10"
  }
 },
 "nbformat": 4,
 "nbformat_minor": 1
}
